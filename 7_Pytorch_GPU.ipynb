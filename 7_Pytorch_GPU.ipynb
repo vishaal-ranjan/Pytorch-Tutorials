{
 "cells": [
  {
   "cell_type": "code",
   "execution_count": 4,
   "metadata": {},
   "outputs": [
    {
     "name": "stdout",
     "output_type": "stream",
     "text": [
      "Running on the CPU\n"
     ]
    }
   ],
   "source": [
    "import torch\n",
    "\n",
    "if torch.cuda.is_available():\n",
    "    device = torch.device(\"cuda:0\")  # you can continue going on here, like cuda:1 cuda:2....etc. \n",
    "    print(\"Running on the GPU\")\n",
    "else:\n",
    "    device = torch.device(\"cpu\")\n",
    "    print(\"Running on the CPU\")"
   ]
  },
  {
   "cell_type": "code",
   "execution_count": 3,
   "metadata": {},
   "outputs": [
    {
     "name": "stdout",
     "output_type": "stream",
     "text": [
      "24946\n",
      "torch.Size([128, 2, 2])\n"
     ]
    },
    {
     "name": "stderr",
     "output_type": "stream",
     "text": [
      "\r",
      "  0%|          | 0/225 [00:00<?, ?it/s]"
     ]
    },
    {
     "name": "stdout",
     "output_type": "stream",
     "text": [
      "2494\n",
      "22452\n",
      "2494\n",
      "torch.Size([128, 2, 2])\n"
     ]
    },
    {
     "name": "stderr",
     "output_type": "stream",
     "text": [
      "\r",
      "  0%|          | 1/225 [00:00<02:45,  1.35it/s]"
     ]
    },
    {
     "name": "stdout",
     "output_type": "stream",
     "text": [
      "torch.Size([128, 2, 2])\n"
     ]
    },
    {
     "name": "stderr",
     "output_type": "stream",
     "text": [
      "\r",
      "  1%|          | 2/225 [00:01<02:38,  1.40it/s]"
     ]
    },
    {
     "name": "stdout",
     "output_type": "stream",
     "text": [
      "torch.Size([128, 2, 2])\n"
     ]
    },
    {
     "name": "stderr",
     "output_type": "stream",
     "text": [
      "\r",
      "  1%|▏         | 3/225 [00:02<02:34,  1.44it/s]"
     ]
    },
    {
     "name": "stdout",
     "output_type": "stream",
     "text": [
      "torch.Size([128, 2, 2])\n"
     ]
    },
    {
     "name": "stderr",
     "output_type": "stream",
     "text": [
      "\r",
      "  2%|▏         | 4/225 [00:02<02:33,  1.44it/s]"
     ]
    },
    {
     "name": "stdout",
     "output_type": "stream",
     "text": [
      "torch.Size([128, 2, 2])\n"
     ]
    },
    {
     "name": "stderr",
     "output_type": "stream",
     "text": [
      "\r",
      "  2%|▏         | 5/225 [00:03<02:29,  1.48it/s]"
     ]
    },
    {
     "name": "stdout",
     "output_type": "stream",
     "text": [
      "torch.Size([128, 2, 2])\n"
     ]
    },
    {
     "name": "stderr",
     "output_type": "stream",
     "text": [
      "\r",
      "  3%|▎         | 6/225 [00:04<02:27,  1.48it/s]"
     ]
    },
    {
     "name": "stdout",
     "output_type": "stream",
     "text": [
      "torch.Size([128, 2, 2])\n"
     ]
    },
    {
     "name": "stderr",
     "output_type": "stream",
     "text": [
      "\r",
      "  3%|▎         | 7/225 [00:04<02:27,  1.48it/s]"
     ]
    },
    {
     "name": "stdout",
     "output_type": "stream",
     "text": [
      "torch.Size([128, 2, 2])\n"
     ]
    },
    {
     "name": "stderr",
     "output_type": "stream",
     "text": [
      "\r",
      "  4%|▎         | 8/225 [00:05<02:24,  1.50it/s]"
     ]
    },
    {
     "name": "stdout",
     "output_type": "stream",
     "text": [
      "torch.Size([128, 2, 2])\n"
     ]
    },
    {
     "name": "stderr",
     "output_type": "stream",
     "text": [
      "\r",
      "  4%|▍         | 9/225 [00:06<02:22,  1.52it/s]"
     ]
    },
    {
     "name": "stdout",
     "output_type": "stream",
     "text": [
      "torch.Size([128, 2, 2])\n"
     ]
    },
    {
     "name": "stderr",
     "output_type": "stream",
     "text": [
      "\r",
      "  4%|▍         | 10/225 [00:06<02:22,  1.51it/s]"
     ]
    },
    {
     "name": "stdout",
     "output_type": "stream",
     "text": [
      "torch.Size([128, 2, 2])\n"
     ]
    },
    {
     "name": "stderr",
     "output_type": "stream",
     "text": [
      "\r",
      "  5%|▍         | 11/225 [00:07<02:20,  1.53it/s]"
     ]
    },
    {
     "name": "stdout",
     "output_type": "stream",
     "text": [
      "torch.Size([128, 2, 2])\n"
     ]
    },
    {
     "name": "stderr",
     "output_type": "stream",
     "text": [
      "\r",
      "  5%|▌         | 12/225 [00:07<02:20,  1.52it/s]"
     ]
    },
    {
     "name": "stdout",
     "output_type": "stream",
     "text": [
      "torch.Size([128, 2, 2])\n"
     ]
    },
    {
     "name": "stderr",
     "output_type": "stream",
     "text": [
      "\r",
      "  6%|▌         | 13/225 [00:08<02:20,  1.51it/s]"
     ]
    },
    {
     "name": "stdout",
     "output_type": "stream",
     "text": [
      "torch.Size([128, 2, 2])\n"
     ]
    },
    {
     "name": "stderr",
     "output_type": "stream",
     "text": [
      "\r",
      "  6%|▌         | 14/225 [00:09<02:21,  1.49it/s]"
     ]
    },
    {
     "name": "stdout",
     "output_type": "stream",
     "text": [
      "torch.Size([128, 2, 2])\n"
     ]
    },
    {
     "name": "stderr",
     "output_type": "stream",
     "text": [
      "\r",
      "  7%|▋         | 15/225 [00:10<02:23,  1.46it/s]"
     ]
    },
    {
     "name": "stdout",
     "output_type": "stream",
     "text": [
      "torch.Size([128, 2, 2])\n"
     ]
    },
    {
     "name": "stderr",
     "output_type": "stream",
     "text": [
      "\r",
      "  7%|▋         | 16/225 [00:10<02:22,  1.46it/s]"
     ]
    },
    {
     "name": "stdout",
     "output_type": "stream",
     "text": [
      "torch.Size([128, 2, 2])\n"
     ]
    },
    {
     "name": "stderr",
     "output_type": "stream",
     "text": [
      "\r",
      "  8%|▊         | 17/225 [00:11<02:22,  1.46it/s]"
     ]
    },
    {
     "name": "stdout",
     "output_type": "stream",
     "text": [
      "torch.Size([128, 2, 2])\n"
     ]
    },
    {
     "name": "stderr",
     "output_type": "stream",
     "text": [
      "\r",
      "  8%|▊         | 18/225 [00:12<02:22,  1.45it/s]"
     ]
    },
    {
     "name": "stdout",
     "output_type": "stream",
     "text": [
      "torch.Size([128, 2, 2])\n"
     ]
    },
    {
     "name": "stderr",
     "output_type": "stream",
     "text": [
      "\r",
      "  8%|▊         | 19/225 [00:12<02:21,  1.46it/s]"
     ]
    },
    {
     "name": "stdout",
     "output_type": "stream",
     "text": [
      "torch.Size([128, 2, 2])\n"
     ]
    },
    {
     "name": "stderr",
     "output_type": "stream",
     "text": [
      "\r",
      "  9%|▉         | 20/225 [00:13<02:20,  1.46it/s]"
     ]
    },
    {
     "name": "stdout",
     "output_type": "stream",
     "text": [
      "torch.Size([128, 2, 2])\n"
     ]
    },
    {
     "name": "stderr",
     "output_type": "stream",
     "text": [
      "\r",
      "  9%|▉         | 21/225 [00:14<02:21,  1.44it/s]"
     ]
    },
    {
     "name": "stdout",
     "output_type": "stream",
     "text": [
      "torch.Size([128, 2, 2])\n"
     ]
    },
    {
     "name": "stderr",
     "output_type": "stream",
     "text": [
      "\r",
      " 10%|▉         | 22/225 [00:14<02:22,  1.42it/s]"
     ]
    },
    {
     "name": "stdout",
     "output_type": "stream",
     "text": [
      "torch.Size([128, 2, 2])\n"
     ]
    },
    {
     "name": "stderr",
     "output_type": "stream",
     "text": [
      "\r",
      " 10%|█         | 23/225 [00:15<02:22,  1.42it/s]"
     ]
    },
    {
     "name": "stdout",
     "output_type": "stream",
     "text": [
      "torch.Size([128, 2, 2])\n"
     ]
    },
    {
     "name": "stderr",
     "output_type": "stream",
     "text": [
      "\r",
      " 11%|█         | 24/225 [00:16<02:21,  1.42it/s]"
     ]
    },
    {
     "name": "stdout",
     "output_type": "stream",
     "text": [
      "torch.Size([128, 2, 2])\n"
     ]
    },
    {
     "name": "stderr",
     "output_type": "stream",
     "text": [
      "\r",
      " 11%|█         | 25/225 [00:17<02:22,  1.40it/s]"
     ]
    },
    {
     "name": "stdout",
     "output_type": "stream",
     "text": [
      "torch.Size([128, 2, 2])\n"
     ]
    },
    {
     "name": "stderr",
     "output_type": "stream",
     "text": [
      "\r",
      " 12%|█▏        | 26/225 [00:17<02:22,  1.40it/s]"
     ]
    },
    {
     "name": "stdout",
     "output_type": "stream",
     "text": [
      "torch.Size([128, 2, 2])\n"
     ]
    },
    {
     "name": "stderr",
     "output_type": "stream",
     "text": [
      "\r",
      " 12%|█▏        | 27/225 [00:18<02:21,  1.40it/s]"
     ]
    },
    {
     "name": "stdout",
     "output_type": "stream",
     "text": [
      "torch.Size([128, 2, 2])\n"
     ]
    },
    {
     "name": "stderr",
     "output_type": "stream",
     "text": [
      "\r",
      " 12%|█▏        | 28/225 [00:19<02:21,  1.39it/s]"
     ]
    },
    {
     "name": "stdout",
     "output_type": "stream",
     "text": [
      "torch.Size([128, 2, 2])\n"
     ]
    },
    {
     "name": "stderr",
     "output_type": "stream",
     "text": [
      "\r",
      " 13%|█▎        | 29/225 [00:19<02:23,  1.37it/s]"
     ]
    },
    {
     "name": "stdout",
     "output_type": "stream",
     "text": [
      "torch.Size([128, 2, 2])\n"
     ]
    },
    {
     "name": "stderr",
     "output_type": "stream",
     "text": [
      "\r",
      " 13%|█▎        | 30/225 [00:20<02:22,  1.37it/s]"
     ]
    },
    {
     "name": "stdout",
     "output_type": "stream",
     "text": [
      "torch.Size([128, 2, 2])\n"
     ]
    },
    {
     "name": "stderr",
     "output_type": "stream",
     "text": [
      "\r",
      " 14%|█▍        | 31/225 [00:21<02:20,  1.38it/s]"
     ]
    },
    {
     "name": "stdout",
     "output_type": "stream",
     "text": [
      "torch.Size([128, 2, 2])\n"
     ]
    },
    {
     "name": "stderr",
     "output_type": "stream",
     "text": [
      "\r",
      " 14%|█▍        | 32/225 [00:22<02:19,  1.38it/s]"
     ]
    },
    {
     "name": "stdout",
     "output_type": "stream",
     "text": [
      "torch.Size([128, 2, 2])\n"
     ]
    },
    {
     "name": "stderr",
     "output_type": "stream",
     "text": [
      "\r",
      " 15%|█▍        | 33/225 [00:22<02:19,  1.38it/s]"
     ]
    },
    {
     "name": "stdout",
     "output_type": "stream",
     "text": [
      "torch.Size([128, 2, 2])\n"
     ]
    },
    {
     "name": "stderr",
     "output_type": "stream",
     "text": [
      "\r",
      " 15%|█▌        | 34/225 [00:23<02:16,  1.40it/s]"
     ]
    },
    {
     "name": "stdout",
     "output_type": "stream",
     "text": [
      "torch.Size([128, 2, 2])\n"
     ]
    },
    {
     "name": "stderr",
     "output_type": "stream",
     "text": [
      "\r",
      " 16%|█▌        | 35/225 [00:24<02:14,  1.41it/s]"
     ]
    },
    {
     "name": "stdout",
     "output_type": "stream",
     "text": [
      "torch.Size([128, 2, 2])\n"
     ]
    },
    {
     "name": "stderr",
     "output_type": "stream",
     "text": [
      "\r",
      " 16%|█▌        | 36/225 [00:24<02:13,  1.41it/s]"
     ]
    },
    {
     "name": "stdout",
     "output_type": "stream",
     "text": [
      "torch.Size([128, 2, 2])\n"
     ]
    },
    {
     "name": "stderr",
     "output_type": "stream",
     "text": [
      "\r",
      " 16%|█▋        | 37/225 [00:25<02:12,  1.42it/s]"
     ]
    },
    {
     "name": "stdout",
     "output_type": "stream",
     "text": [
      "torch.Size([128, 2, 2])\n"
     ]
    },
    {
     "name": "stderr",
     "output_type": "stream",
     "text": [
      "\r",
      " 17%|█▋        | 38/225 [00:26<02:10,  1.43it/s]"
     ]
    },
    {
     "name": "stdout",
     "output_type": "stream",
     "text": [
      "torch.Size([128, 2, 2])\n"
     ]
    },
    {
     "name": "stderr",
     "output_type": "stream",
     "text": [
      "\r",
      " 17%|█▋        | 39/225 [00:27<02:10,  1.42it/s]"
     ]
    },
    {
     "name": "stdout",
     "output_type": "stream",
     "text": [
      "torch.Size([128, 2, 2])\n"
     ]
    },
    {
     "name": "stderr",
     "output_type": "stream",
     "text": [
      "\r",
      " 18%|█▊        | 40/225 [00:27<02:10,  1.42it/s]"
     ]
    },
    {
     "name": "stdout",
     "output_type": "stream",
     "text": [
      "torch.Size([128, 2, 2])\n"
     ]
    },
    {
     "name": "stderr",
     "output_type": "stream",
     "text": [
      "\r",
      " 18%|█▊        | 41/225 [00:28<02:12,  1.39it/s]"
     ]
    },
    {
     "name": "stdout",
     "output_type": "stream",
     "text": [
      "torch.Size([128, 2, 2])\n"
     ]
    },
    {
     "name": "stderr",
     "output_type": "stream",
     "text": [
      "\r",
      " 19%|█▊        | 42/225 [00:29<02:12,  1.38it/s]"
     ]
    },
    {
     "name": "stdout",
     "output_type": "stream",
     "text": [
      "torch.Size([128, 2, 2])\n"
     ]
    },
    {
     "name": "stderr",
     "output_type": "stream",
     "text": [
      "\r",
      " 19%|█▉        | 43/225 [00:30<02:14,  1.35it/s]"
     ]
    },
    {
     "name": "stdout",
     "output_type": "stream",
     "text": [
      "torch.Size([128, 2, 2])\n"
     ]
    },
    {
     "name": "stderr",
     "output_type": "stream",
     "text": [
      "\r",
      " 20%|█▉        | 44/225 [00:30<02:15,  1.34it/s]"
     ]
    },
    {
     "name": "stdout",
     "output_type": "stream",
     "text": [
      "torch.Size([128, 2, 2])\n"
     ]
    },
    {
     "name": "stderr",
     "output_type": "stream",
     "text": [
      "\r",
      " 20%|██        | 45/225 [00:31<02:12,  1.36it/s]"
     ]
    },
    {
     "name": "stdout",
     "output_type": "stream",
     "text": [
      "torch.Size([128, 2, 2])\n"
     ]
    },
    {
     "name": "stderr",
     "output_type": "stream",
     "text": [
      "\r",
      " 20%|██        | 46/225 [00:32<02:11,  1.36it/s]"
     ]
    },
    {
     "name": "stdout",
     "output_type": "stream",
     "text": [
      "torch.Size([128, 2, 2])\n"
     ]
    },
    {
     "name": "stderr",
     "output_type": "stream",
     "text": [
      "\r",
      " 21%|██        | 47/225 [00:33<02:12,  1.35it/s]"
     ]
    },
    {
     "name": "stdout",
     "output_type": "stream",
     "text": [
      "torch.Size([128, 2, 2])\n"
     ]
    },
    {
     "name": "stderr",
     "output_type": "stream",
     "text": [
      "\r",
      " 21%|██▏       | 48/225 [00:33<02:13,  1.33it/s]"
     ]
    },
    {
     "name": "stdout",
     "output_type": "stream",
     "text": [
      "torch.Size([128, 2, 2])\n"
     ]
    },
    {
     "name": "stderr",
     "output_type": "stream",
     "text": [
      "\r",
      " 22%|██▏       | 49/225 [00:34<02:10,  1.35it/s]"
     ]
    },
    {
     "name": "stdout",
     "output_type": "stream",
     "text": [
      "torch.Size([128, 2, 2])\n"
     ]
    },
    {
     "name": "stderr",
     "output_type": "stream",
     "text": [
      "\r",
      " 22%|██▏       | 50/225 [00:35<02:09,  1.35it/s]"
     ]
    },
    {
     "name": "stdout",
     "output_type": "stream",
     "text": [
      "torch.Size([128, 2, 2])\n"
     ]
    },
    {
     "name": "stderr",
     "output_type": "stream",
     "text": [
      "\r",
      " 23%|██▎       | 51/225 [00:35<02:08,  1.36it/s]"
     ]
    },
    {
     "name": "stdout",
     "output_type": "stream",
     "text": [
      "torch.Size([128, 2, 2])\n"
     ]
    },
    {
     "name": "stderr",
     "output_type": "stream",
     "text": [
      "\r",
      " 23%|██▎       | 52/225 [00:36<02:05,  1.38it/s]"
     ]
    },
    {
     "name": "stdout",
     "output_type": "stream",
     "text": [
      "torch.Size([128, 2, 2])\n"
     ]
    },
    {
     "name": "stderr",
     "output_type": "stream",
     "text": [
      "\r",
      " 24%|██▎       | 53/225 [00:37<02:04,  1.38it/s]"
     ]
    },
    {
     "name": "stdout",
     "output_type": "stream",
     "text": [
      "torch.Size([128, 2, 2])\n"
     ]
    },
    {
     "name": "stderr",
     "output_type": "stream",
     "text": [
      "\r",
      " 24%|██▍       | 54/225 [00:38<02:03,  1.39it/s]"
     ]
    },
    {
     "name": "stdout",
     "output_type": "stream",
     "text": [
      "torch.Size([128, 2, 2])\n"
     ]
    },
    {
     "name": "stderr",
     "output_type": "stream",
     "text": [
      "\r",
      " 24%|██▍       | 55/225 [00:38<02:02,  1.39it/s]"
     ]
    },
    {
     "name": "stdout",
     "output_type": "stream",
     "text": [
      "torch.Size([128, 2, 2])\n"
     ]
    },
    {
     "name": "stderr",
     "output_type": "stream",
     "text": [
      "\r",
      " 25%|██▍       | 56/225 [00:39<01:59,  1.41it/s]"
     ]
    },
    {
     "name": "stdout",
     "output_type": "stream",
     "text": [
      "torch.Size([128, 2, 2])\n"
     ]
    },
    {
     "name": "stderr",
     "output_type": "stream",
     "text": [
      "\r",
      " 25%|██▌       | 57/225 [00:40<01:59,  1.40it/s]"
     ]
    },
    {
     "name": "stdout",
     "output_type": "stream",
     "text": [
      "torch.Size([128, 2, 2])\n"
     ]
    },
    {
     "name": "stderr",
     "output_type": "stream",
     "text": [
      "\r",
      " 26%|██▌       | 58/225 [00:40<01:58,  1.41it/s]"
     ]
    },
    {
     "name": "stdout",
     "output_type": "stream",
     "text": [
      "torch.Size([128, 2, 2])\n"
     ]
    },
    {
     "name": "stderr",
     "output_type": "stream",
     "text": [
      "\r",
      " 26%|██▌       | 59/225 [00:41<01:56,  1.42it/s]"
     ]
    },
    {
     "name": "stdout",
     "output_type": "stream",
     "text": [
      "torch.Size([128, 2, 2])\n"
     ]
    },
    {
     "name": "stderr",
     "output_type": "stream",
     "text": [
      "\r",
      " 27%|██▋       | 60/225 [00:42<01:55,  1.42it/s]"
     ]
    },
    {
     "name": "stdout",
     "output_type": "stream",
     "text": [
      "torch.Size([128, 2, 2])\n"
     ]
    },
    {
     "name": "stderr",
     "output_type": "stream",
     "text": [
      "\r",
      " 27%|██▋       | 61/225 [00:42<01:53,  1.44it/s]"
     ]
    },
    {
     "name": "stdout",
     "output_type": "stream",
     "text": [
      "torch.Size([128, 2, 2])\n"
     ]
    },
    {
     "name": "stderr",
     "output_type": "stream",
     "text": [
      "\r",
      " 28%|██▊       | 62/225 [00:43<01:54,  1.43it/s]"
     ]
    },
    {
     "name": "stdout",
     "output_type": "stream",
     "text": [
      "torch.Size([128, 2, 2])\n"
     ]
    },
    {
     "name": "stderr",
     "output_type": "stream",
     "text": [
      "\r",
      " 28%|██▊       | 63/225 [00:44<01:55,  1.40it/s]"
     ]
    },
    {
     "name": "stdout",
     "output_type": "stream",
     "text": [
      "torch.Size([128, 2, 2])\n"
     ]
    },
    {
     "name": "stderr",
     "output_type": "stream",
     "text": [
      "\r",
      " 28%|██▊       | 64/225 [00:45<01:54,  1.40it/s]"
     ]
    },
    {
     "name": "stdout",
     "output_type": "stream",
     "text": [
      "torch.Size([128, 2, 2])\n"
     ]
    },
    {
     "name": "stderr",
     "output_type": "stream",
     "text": [
      "\r",
      " 29%|██▉       | 65/225 [00:45<01:52,  1.42it/s]"
     ]
    },
    {
     "name": "stdout",
     "output_type": "stream",
     "text": [
      "torch.Size([128, 2, 2])\n"
     ]
    },
    {
     "name": "stderr",
     "output_type": "stream",
     "text": [
      "\r",
      " 29%|██▉       | 66/225 [00:46<01:50,  1.44it/s]"
     ]
    },
    {
     "name": "stdout",
     "output_type": "stream",
     "text": [
      "torch.Size([128, 2, 2])\n"
     ]
    },
    {
     "name": "stderr",
     "output_type": "stream",
     "text": [
      "\r",
      " 30%|██▉       | 67/225 [00:47<01:48,  1.45it/s]"
     ]
    },
    {
     "name": "stdout",
     "output_type": "stream",
     "text": [
      "torch.Size([128, 2, 2])\n"
     ]
    },
    {
     "name": "stderr",
     "output_type": "stream",
     "text": [
      "\r",
      " 30%|███       | 68/225 [00:47<01:47,  1.46it/s]"
     ]
    },
    {
     "name": "stdout",
     "output_type": "stream",
     "text": [
      "torch.Size([128, 2, 2])\n"
     ]
    },
    {
     "name": "stderr",
     "output_type": "stream",
     "text": [
      "\r",
      " 31%|███       | 69/225 [00:48<01:46,  1.46it/s]"
     ]
    },
    {
     "name": "stdout",
     "output_type": "stream",
     "text": [
      "torch.Size([128, 2, 2])\n"
     ]
    },
    {
     "name": "stderr",
     "output_type": "stream",
     "text": [
      "\r",
      " 31%|███       | 70/225 [00:49<01:45,  1.47it/s]"
     ]
    },
    {
     "name": "stdout",
     "output_type": "stream",
     "text": [
      "torch.Size([128, 2, 2])\n"
     ]
    },
    {
     "name": "stderr",
     "output_type": "stream",
     "text": [
      "\r",
      " 32%|███▏      | 71/225 [00:49<01:44,  1.47it/s]"
     ]
    },
    {
     "name": "stdout",
     "output_type": "stream",
     "text": [
      "torch.Size([128, 2, 2])\n"
     ]
    },
    {
     "name": "stderr",
     "output_type": "stream",
     "text": [
      "\r",
      " 32%|███▏      | 72/225 [00:50<01:44,  1.46it/s]"
     ]
    },
    {
     "name": "stdout",
     "output_type": "stream",
     "text": [
      "torch.Size([128, 2, 2])\n"
     ]
    },
    {
     "name": "stderr",
     "output_type": "stream",
     "text": [
      "\r",
      " 32%|███▏      | 73/225 [00:51<01:44,  1.46it/s]"
     ]
    },
    {
     "name": "stdout",
     "output_type": "stream",
     "text": [
      "torch.Size([128, 2, 2])\n"
     ]
    },
    {
     "name": "stderr",
     "output_type": "stream",
     "text": [
      "\r",
      " 33%|███▎      | 74/225 [00:52<01:45,  1.43it/s]"
     ]
    },
    {
     "name": "stdout",
     "output_type": "stream",
     "text": [
      "torch.Size([128, 2, 2])\n"
     ]
    },
    {
     "name": "stderr",
     "output_type": "stream",
     "text": [
      "\r",
      " 33%|███▎      | 75/225 [00:52<01:44,  1.43it/s]"
     ]
    },
    {
     "name": "stdout",
     "output_type": "stream",
     "text": [
      "torch.Size([128, 2, 2])\n"
     ]
    },
    {
     "name": "stderr",
     "output_type": "stream",
     "text": [
      "\r",
      " 34%|███▍      | 76/225 [00:53<01:43,  1.44it/s]"
     ]
    },
    {
     "name": "stdout",
     "output_type": "stream",
     "text": [
      "torch.Size([128, 2, 2])\n"
     ]
    },
    {
     "name": "stderr",
     "output_type": "stream",
     "text": [
      "\r",
      " 34%|███▍      | 77/225 [00:54<01:42,  1.44it/s]"
     ]
    },
    {
     "name": "stdout",
     "output_type": "stream",
     "text": [
      "torch.Size([128, 2, 2])\n"
     ]
    },
    {
     "name": "stderr",
     "output_type": "stream",
     "text": [
      "\r",
      " 35%|███▍      | 78/225 [00:54<01:41,  1.45it/s]"
     ]
    },
    {
     "name": "stdout",
     "output_type": "stream",
     "text": [
      "torch.Size([128, 2, 2])\n"
     ]
    },
    {
     "name": "stderr",
     "output_type": "stream",
     "text": [
      "\r",
      " 35%|███▌      | 79/225 [00:55<01:40,  1.45it/s]"
     ]
    },
    {
     "name": "stdout",
     "output_type": "stream",
     "text": [
      "torch.Size([128, 2, 2])\n"
     ]
    },
    {
     "name": "stderr",
     "output_type": "stream",
     "text": [
      "\r",
      " 36%|███▌      | 80/225 [00:56<01:40,  1.45it/s]"
     ]
    },
    {
     "name": "stdout",
     "output_type": "stream",
     "text": [
      "torch.Size([128, 2, 2])\n"
     ]
    },
    {
     "name": "stderr",
     "output_type": "stream",
     "text": [
      "\r",
      " 36%|███▌      | 81/225 [00:56<01:39,  1.45it/s]"
     ]
    },
    {
     "name": "stdout",
     "output_type": "stream",
     "text": [
      "torch.Size([128, 2, 2])\n"
     ]
    },
    {
     "name": "stderr",
     "output_type": "stream",
     "text": [
      "\r",
      " 36%|███▋      | 82/225 [00:57<01:38,  1.45it/s]"
     ]
    },
    {
     "name": "stdout",
     "output_type": "stream",
     "text": [
      "torch.Size([128, 2, 2])\n"
     ]
    },
    {
     "name": "stderr",
     "output_type": "stream",
     "text": [
      "\r",
      " 37%|███▋      | 83/225 [00:58<01:39,  1.43it/s]"
     ]
    },
    {
     "name": "stdout",
     "output_type": "stream",
     "text": [
      "torch.Size([128, 2, 2])\n"
     ]
    },
    {
     "name": "stderr",
     "output_type": "stream",
     "text": [
      "\r",
      " 37%|███▋      | 84/225 [00:58<01:39,  1.42it/s]"
     ]
    },
    {
     "name": "stdout",
     "output_type": "stream",
     "text": [
      "torch.Size([128, 2, 2])\n"
     ]
    },
    {
     "name": "stderr",
     "output_type": "stream",
     "text": [
      "\r",
      " 38%|███▊      | 85/225 [00:59<01:38,  1.42it/s]"
     ]
    },
    {
     "name": "stdout",
     "output_type": "stream",
     "text": [
      "torch.Size([128, 2, 2])\n"
     ]
    },
    {
     "name": "stderr",
     "output_type": "stream",
     "text": [
      "\r",
      " 38%|███▊      | 86/225 [01:00<01:38,  1.42it/s]"
     ]
    },
    {
     "name": "stdout",
     "output_type": "stream",
     "text": [
      "torch.Size([128, 2, 2])\n"
     ]
    },
    {
     "name": "stderr",
     "output_type": "stream",
     "text": [
      "\r",
      " 39%|███▊      | 87/225 [01:01<01:37,  1.41it/s]"
     ]
    },
    {
     "name": "stdout",
     "output_type": "stream",
     "text": [
      "torch.Size([128, 2, 2])\n"
     ]
    },
    {
     "name": "stderr",
     "output_type": "stream",
     "text": [
      "\r",
      " 39%|███▉      | 88/225 [01:01<01:37,  1.41it/s]"
     ]
    },
    {
     "name": "stdout",
     "output_type": "stream",
     "text": [
      "torch.Size([128, 2, 2])\n"
     ]
    },
    {
     "name": "stderr",
     "output_type": "stream",
     "text": [
      "\r",
      " 40%|███▉      | 89/225 [01:02<01:36,  1.41it/s]"
     ]
    },
    {
     "name": "stdout",
     "output_type": "stream",
     "text": [
      "torch.Size([128, 2, 2])\n"
     ]
    },
    {
     "name": "stderr",
     "output_type": "stream",
     "text": [
      "\r",
      " 40%|████      | 90/225 [01:03<01:36,  1.40it/s]"
     ]
    },
    {
     "name": "stdout",
     "output_type": "stream",
     "text": [
      "torch.Size([128, 2, 2])\n"
     ]
    },
    {
     "name": "stderr",
     "output_type": "stream",
     "text": [
      "\r",
      " 40%|████      | 91/225 [01:03<01:35,  1.40it/s]"
     ]
    },
    {
     "name": "stdout",
     "output_type": "stream",
     "text": [
      "torch.Size([128, 2, 2])\n"
     ]
    },
    {
     "name": "stderr",
     "output_type": "stream",
     "text": [
      "\r",
      " 41%|████      | 92/225 [01:04<01:33,  1.42it/s]"
     ]
    },
    {
     "name": "stdout",
     "output_type": "stream",
     "text": [
      "torch.Size([128, 2, 2])\n"
     ]
    },
    {
     "name": "stderr",
     "output_type": "stream",
     "text": [
      "\r",
      " 41%|████▏     | 93/225 [01:05<01:32,  1.42it/s]"
     ]
    },
    {
     "name": "stdout",
     "output_type": "stream",
     "text": [
      "torch.Size([128, 2, 2])\n"
     ]
    },
    {
     "name": "stderr",
     "output_type": "stream",
     "text": [
      "\r",
      " 42%|████▏     | 94/225 [01:06<01:32,  1.42it/s]"
     ]
    },
    {
     "name": "stdout",
     "output_type": "stream",
     "text": [
      "torch.Size([128, 2, 2])\n"
     ]
    },
    {
     "name": "stderr",
     "output_type": "stream",
     "text": [
      "\r",
      " 42%|████▏     | 95/225 [01:06<01:30,  1.43it/s]"
     ]
    },
    {
     "name": "stdout",
     "output_type": "stream",
     "text": [
      "torch.Size([128, 2, 2])\n"
     ]
    },
    {
     "name": "stderr",
     "output_type": "stream",
     "text": [
      "\r",
      " 43%|████▎     | 96/225 [01:07<01:30,  1.43it/s]"
     ]
    },
    {
     "name": "stdout",
     "output_type": "stream",
     "text": [
      "torch.Size([128, 2, 2])\n"
     ]
    },
    {
     "name": "stderr",
     "output_type": "stream",
     "text": [
      "\r",
      " 43%|████▎     | 97/225 [01:08<01:29,  1.42it/s]"
     ]
    },
    {
     "name": "stdout",
     "output_type": "stream",
     "text": [
      "torch.Size([128, 2, 2])\n"
     ]
    },
    {
     "name": "stderr",
     "output_type": "stream",
     "text": [
      "\r",
      " 44%|████▎     | 98/225 [01:08<01:30,  1.41it/s]"
     ]
    },
    {
     "name": "stdout",
     "output_type": "stream",
     "text": [
      "torch.Size([128, 2, 2])\n"
     ]
    },
    {
     "name": "stderr",
     "output_type": "stream",
     "text": [
      "\r",
      " 44%|████▍     | 99/225 [01:09<01:29,  1.41it/s]"
     ]
    },
    {
     "name": "stdout",
     "output_type": "stream",
     "text": [
      "torch.Size([128, 2, 2])\n"
     ]
    },
    {
     "name": "stderr",
     "output_type": "stream",
     "text": [
      "\r",
      " 44%|████▍     | 100/225 [01:10<01:29,  1.39it/s]"
     ]
    },
    {
     "name": "stdout",
     "output_type": "stream",
     "text": [
      "torch.Size([128, 2, 2])\n"
     ]
    },
    {
     "name": "stderr",
     "output_type": "stream",
     "text": [
      "\r",
      " 45%|████▍     | 101/225 [01:11<01:29,  1.38it/s]"
     ]
    },
    {
     "name": "stdout",
     "output_type": "stream",
     "text": [
      "torch.Size([128, 2, 2])\n"
     ]
    },
    {
     "name": "stderr",
     "output_type": "stream",
     "text": [
      "\r",
      " 45%|████▌     | 102/225 [01:11<01:28,  1.39it/s]"
     ]
    },
    {
     "name": "stdout",
     "output_type": "stream",
     "text": [
      "torch.Size([128, 2, 2])\n"
     ]
    },
    {
     "name": "stderr",
     "output_type": "stream",
     "text": [
      "\r",
      " 46%|████▌     | 103/225 [01:12<01:26,  1.40it/s]"
     ]
    },
    {
     "name": "stdout",
     "output_type": "stream",
     "text": [
      "torch.Size([128, 2, 2])\n"
     ]
    },
    {
     "name": "stderr",
     "output_type": "stream",
     "text": [
      "\r",
      " 46%|████▌     | 104/225 [01:13<01:25,  1.42it/s]"
     ]
    },
    {
     "name": "stdout",
     "output_type": "stream",
     "text": [
      "torch.Size([128, 2, 2])\n"
     ]
    },
    {
     "name": "stderr",
     "output_type": "stream",
     "text": [
      "\r",
      " 47%|████▋     | 105/225 [01:13<01:24,  1.42it/s]"
     ]
    },
    {
     "name": "stdout",
     "output_type": "stream",
     "text": [
      "torch.Size([128, 2, 2])\n"
     ]
    },
    {
     "name": "stderr",
     "output_type": "stream",
     "text": [
      "\r",
      " 47%|████▋     | 106/225 [01:14<01:23,  1.43it/s]"
     ]
    },
    {
     "name": "stdout",
     "output_type": "stream",
     "text": [
      "torch.Size([128, 2, 2])\n"
     ]
    },
    {
     "name": "stderr",
     "output_type": "stream",
     "text": [
      "\r",
      " 48%|████▊     | 107/225 [01:15<01:22,  1.43it/s]"
     ]
    },
    {
     "name": "stdout",
     "output_type": "stream",
     "text": [
      "torch.Size([128, 2, 2])\n"
     ]
    },
    {
     "name": "stderr",
     "output_type": "stream",
     "text": [
      "\r",
      " 48%|████▊     | 108/225 [01:15<01:22,  1.42it/s]"
     ]
    },
    {
     "name": "stdout",
     "output_type": "stream",
     "text": [
      "torch.Size([128, 2, 2])\n"
     ]
    },
    {
     "name": "stderr",
     "output_type": "stream",
     "text": [
      "\r",
      " 48%|████▊     | 109/225 [01:16<01:21,  1.42it/s]"
     ]
    },
    {
     "name": "stdout",
     "output_type": "stream",
     "text": [
      "torch.Size([128, 2, 2])\n"
     ]
    },
    {
     "name": "stderr",
     "output_type": "stream",
     "text": [
      "\r",
      " 49%|████▉     | 110/225 [01:17<01:21,  1.41it/s]"
     ]
    },
    {
     "name": "stdout",
     "output_type": "stream",
     "text": [
      "torch.Size([128, 2, 2])\n"
     ]
    },
    {
     "name": "stderr",
     "output_type": "stream",
     "text": [
      "\r",
      " 49%|████▉     | 111/225 [01:18<01:22,  1.38it/s]"
     ]
    },
    {
     "name": "stdout",
     "output_type": "stream",
     "text": [
      "torch.Size([128, 2, 2])\n"
     ]
    },
    {
     "name": "stderr",
     "output_type": "stream",
     "text": [
      "\r",
      " 50%|████▉     | 112/225 [01:18<01:21,  1.39it/s]"
     ]
    },
    {
     "name": "stdout",
     "output_type": "stream",
     "text": [
      "torch.Size([128, 2, 2])\n"
     ]
    },
    {
     "name": "stderr",
     "output_type": "stream",
     "text": [
      "\r",
      " 50%|█████     | 113/225 [01:19<01:20,  1.39it/s]"
     ]
    },
    {
     "name": "stdout",
     "output_type": "stream",
     "text": [
      "torch.Size([128, 2, 2])\n"
     ]
    },
    {
     "name": "stderr",
     "output_type": "stream",
     "text": [
      "\r",
      " 51%|█████     | 114/225 [01:20<01:19,  1.40it/s]"
     ]
    },
    {
     "name": "stdout",
     "output_type": "stream",
     "text": [
      "torch.Size([128, 2, 2])\n"
     ]
    },
    {
     "name": "stderr",
     "output_type": "stream",
     "text": [
      "\r",
      " 51%|█████     | 115/225 [01:20<01:18,  1.39it/s]"
     ]
    },
    {
     "name": "stdout",
     "output_type": "stream",
     "text": [
      "torch.Size([128, 2, 2])\n"
     ]
    },
    {
     "name": "stderr",
     "output_type": "stream",
     "text": [
      "\r",
      " 52%|█████▏    | 116/225 [01:21<01:17,  1.41it/s]"
     ]
    },
    {
     "name": "stdout",
     "output_type": "stream",
     "text": [
      "torch.Size([128, 2, 2])\n"
     ]
    },
    {
     "name": "stderr",
     "output_type": "stream",
     "text": [
      "\r",
      " 52%|█████▏    | 117/225 [01:22<01:15,  1.43it/s]"
     ]
    },
    {
     "name": "stdout",
     "output_type": "stream",
     "text": [
      "torch.Size([128, 2, 2])\n"
     ]
    },
    {
     "name": "stderr",
     "output_type": "stream",
     "text": [
      "\r",
      " 52%|█████▏    | 118/225 [01:23<01:14,  1.43it/s]"
     ]
    },
    {
     "name": "stdout",
     "output_type": "stream",
     "text": [
      "torch.Size([128, 2, 2])\n"
     ]
    },
    {
     "name": "stderr",
     "output_type": "stream",
     "text": [
      "\r",
      " 53%|█████▎    | 119/225 [01:23<01:13,  1.44it/s]"
     ]
    },
    {
     "name": "stdout",
     "output_type": "stream",
     "text": [
      "torch.Size([128, 2, 2])\n"
     ]
    },
    {
     "name": "stderr",
     "output_type": "stream",
     "text": [
      "\r",
      " 53%|█████▎    | 120/225 [01:24<01:12,  1.45it/s]"
     ]
    },
    {
     "name": "stdout",
     "output_type": "stream",
     "text": [
      "torch.Size([128, 2, 2])\n"
     ]
    },
    {
     "name": "stderr",
     "output_type": "stream",
     "text": [
      "\r",
      " 54%|█████▍    | 121/225 [01:25<01:12,  1.43it/s]"
     ]
    },
    {
     "name": "stdout",
     "output_type": "stream",
     "text": [
      "torch.Size([128, 2, 2])\n"
     ]
    },
    {
     "name": "stderr",
     "output_type": "stream",
     "text": [
      "\r",
      " 54%|█████▍    | 122/225 [01:25<01:12,  1.43it/s]"
     ]
    },
    {
     "name": "stdout",
     "output_type": "stream",
     "text": [
      "torch.Size([128, 2, 2])\n"
     ]
    },
    {
     "name": "stderr",
     "output_type": "stream",
     "text": [
      "\r",
      " 55%|█████▍    | 123/225 [01:26<01:11,  1.43it/s]"
     ]
    },
    {
     "name": "stdout",
     "output_type": "stream",
     "text": [
      "torch.Size([128, 2, 2])\n"
     ]
    },
    {
     "name": "stderr",
     "output_type": "stream",
     "text": [
      "\r",
      " 55%|█████▌    | 124/225 [01:27<01:11,  1.42it/s]"
     ]
    },
    {
     "name": "stdout",
     "output_type": "stream",
     "text": [
      "torch.Size([128, 2, 2])\n"
     ]
    },
    {
     "name": "stderr",
     "output_type": "stream",
     "text": [
      "\r",
      " 56%|█████▌    | 125/225 [01:27<01:10,  1.42it/s]"
     ]
    },
    {
     "name": "stdout",
     "output_type": "stream",
     "text": [
      "torch.Size([128, 2, 2])\n"
     ]
    },
    {
     "name": "stderr",
     "output_type": "stream",
     "text": [
      "\r",
      " 56%|█████▌    | 126/225 [01:28<01:09,  1.42it/s]"
     ]
    },
    {
     "name": "stdout",
     "output_type": "stream",
     "text": [
      "torch.Size([128, 2, 2])\n"
     ]
    },
    {
     "name": "stderr",
     "output_type": "stream",
     "text": [
      "\r",
      " 56%|█████▋    | 127/225 [01:29<01:08,  1.43it/s]"
     ]
    },
    {
     "name": "stdout",
     "output_type": "stream",
     "text": [
      "torch.Size([128, 2, 2])\n"
     ]
    },
    {
     "name": "stderr",
     "output_type": "stream",
     "text": [
      "\r",
      " 57%|█████▋    | 128/225 [01:30<01:08,  1.42it/s]"
     ]
    },
    {
     "name": "stdout",
     "output_type": "stream",
     "text": [
      "torch.Size([128, 2, 2])\n"
     ]
    },
    {
     "name": "stderr",
     "output_type": "stream",
     "text": [
      "\r",
      " 57%|█████▋    | 129/225 [01:30<01:07,  1.41it/s]"
     ]
    },
    {
     "name": "stdout",
     "output_type": "stream",
     "text": [
      "torch.Size([128, 2, 2])\n"
     ]
    },
    {
     "name": "stderr",
     "output_type": "stream",
     "text": [
      "\r",
      " 58%|█████▊    | 130/225 [01:31<01:06,  1.42it/s]"
     ]
    },
    {
     "name": "stdout",
     "output_type": "stream",
     "text": [
      "torch.Size([128, 2, 2])\n"
     ]
    },
    {
     "name": "stderr",
     "output_type": "stream",
     "text": [
      "\r",
      " 58%|█████▊    | 131/225 [01:32<01:07,  1.40it/s]"
     ]
    },
    {
     "name": "stdout",
     "output_type": "stream",
     "text": [
      "torch.Size([128, 2, 2])\n"
     ]
    },
    {
     "name": "stderr",
     "output_type": "stream",
     "text": [
      "\r",
      " 59%|█████▊    | 132/225 [01:32<01:07,  1.38it/s]"
     ]
    },
    {
     "name": "stdout",
     "output_type": "stream",
     "text": [
      "torch.Size([128, 2, 2])\n"
     ]
    },
    {
     "name": "stderr",
     "output_type": "stream",
     "text": [
      "\r",
      " 59%|█████▉    | 133/225 [01:33<01:06,  1.38it/s]"
     ]
    },
    {
     "name": "stdout",
     "output_type": "stream",
     "text": [
      "torch.Size([128, 2, 2])\n"
     ]
    },
    {
     "name": "stderr",
     "output_type": "stream",
     "text": [
      "\r",
      " 60%|█████▉    | 134/225 [01:34<01:06,  1.37it/s]"
     ]
    },
    {
     "name": "stdout",
     "output_type": "stream",
     "text": [
      "torch.Size([128, 2, 2])\n"
     ]
    },
    {
     "name": "stderr",
     "output_type": "stream",
     "text": [
      "\r",
      " 60%|██████    | 135/225 [01:35<01:06,  1.36it/s]"
     ]
    },
    {
     "name": "stdout",
     "output_type": "stream",
     "text": [
      "torch.Size([128, 2, 2])\n"
     ]
    },
    {
     "name": "stderr",
     "output_type": "stream",
     "text": [
      "\r",
      " 60%|██████    | 136/225 [01:35<01:04,  1.38it/s]"
     ]
    },
    {
     "name": "stdout",
     "output_type": "stream",
     "text": [
      "torch.Size([128, 2, 2])\n"
     ]
    },
    {
     "name": "stderr",
     "output_type": "stream",
     "text": [
      "\r",
      " 61%|██████    | 137/225 [01:36<01:03,  1.39it/s]"
     ]
    },
    {
     "name": "stdout",
     "output_type": "stream",
     "text": [
      "torch.Size([128, 2, 2])\n"
     ]
    },
    {
     "name": "stderr",
     "output_type": "stream",
     "text": [
      "\r",
      " 61%|██████▏   | 138/225 [01:37<01:01,  1.40it/s]"
     ]
    },
    {
     "name": "stdout",
     "output_type": "stream",
     "text": [
      "torch.Size([128, 2, 2])\n"
     ]
    },
    {
     "name": "stderr",
     "output_type": "stream",
     "text": [
      "\r",
      " 62%|██████▏   | 139/225 [01:37<01:01,  1.39it/s]"
     ]
    },
    {
     "name": "stdout",
     "output_type": "stream",
     "text": [
      "torch.Size([128, 2, 2])\n"
     ]
    },
    {
     "name": "stderr",
     "output_type": "stream",
     "text": [
      "\r",
      " 62%|██████▏   | 140/225 [01:38<01:00,  1.40it/s]"
     ]
    },
    {
     "name": "stdout",
     "output_type": "stream",
     "text": [
      "torch.Size([128, 2, 2])\n"
     ]
    },
    {
     "name": "stderr",
     "output_type": "stream",
     "text": [
      "\r",
      " 63%|██████▎   | 141/225 [01:39<00:59,  1.42it/s]"
     ]
    },
    {
     "name": "stdout",
     "output_type": "stream",
     "text": [
      "torch.Size([128, 2, 2])\n"
     ]
    },
    {
     "name": "stderr",
     "output_type": "stream",
     "text": [
      "\r",
      " 63%|██████▎   | 142/225 [01:40<00:58,  1.42it/s]"
     ]
    },
    {
     "name": "stdout",
     "output_type": "stream",
     "text": [
      "torch.Size([128, 2, 2])\n"
     ]
    },
    {
     "name": "stderr",
     "output_type": "stream",
     "text": [
      "\r",
      " 64%|██████▎   | 143/225 [01:40<00:58,  1.40it/s]"
     ]
    },
    {
     "name": "stdout",
     "output_type": "stream",
     "text": [
      "torch.Size([128, 2, 2])\n"
     ]
    },
    {
     "name": "stderr",
     "output_type": "stream",
     "text": [
      "\r",
      " 64%|██████▍   | 144/225 [01:41<00:57,  1.41it/s]"
     ]
    },
    {
     "name": "stdout",
     "output_type": "stream",
     "text": [
      "torch.Size([128, 2, 2])\n"
     ]
    },
    {
     "name": "stderr",
     "output_type": "stream",
     "text": [
      "\r",
      " 64%|██████▍   | 145/225 [01:42<00:57,  1.39it/s]"
     ]
    },
    {
     "name": "stdout",
     "output_type": "stream",
     "text": [
      "torch.Size([128, 2, 2])\n"
     ]
    },
    {
     "name": "stderr",
     "output_type": "stream",
     "text": [
      "\r",
      " 65%|██████▍   | 146/225 [01:42<00:56,  1.41it/s]"
     ]
    },
    {
     "name": "stdout",
     "output_type": "stream",
     "text": [
      "torch.Size([128, 2, 2])\n"
     ]
    },
    {
     "name": "stderr",
     "output_type": "stream",
     "text": [
      "\r",
      " 65%|██████▌   | 147/225 [01:43<00:54,  1.42it/s]"
     ]
    },
    {
     "name": "stdout",
     "output_type": "stream",
     "text": [
      "torch.Size([128, 2, 2])\n"
     ]
    },
    {
     "name": "stderr",
     "output_type": "stream",
     "text": [
      "\r",
      " 66%|██████▌   | 148/225 [01:44<00:53,  1.43it/s]"
     ]
    },
    {
     "name": "stdout",
     "output_type": "stream",
     "text": [
      "torch.Size([128, 2, 2])\n"
     ]
    },
    {
     "name": "stderr",
     "output_type": "stream",
     "text": [
      "\r",
      " 66%|██████▌   | 149/225 [01:45<00:52,  1.44it/s]"
     ]
    },
    {
     "name": "stdout",
     "output_type": "stream",
     "text": [
      "torch.Size([128, 2, 2])\n"
     ]
    },
    {
     "name": "stderr",
     "output_type": "stream",
     "text": [
      "\r",
      " 67%|██████▋   | 150/225 [01:45<00:51,  1.46it/s]"
     ]
    },
    {
     "name": "stdout",
     "output_type": "stream",
     "text": [
      "torch.Size([128, 2, 2])\n"
     ]
    },
    {
     "name": "stderr",
     "output_type": "stream",
     "text": [
      "\r",
      " 67%|██████▋   | 151/225 [01:46<00:51,  1.44it/s]"
     ]
    },
    {
     "name": "stdout",
     "output_type": "stream",
     "text": [
      "torch.Size([128, 2, 2])\n"
     ]
    },
    {
     "name": "stderr",
     "output_type": "stream",
     "text": [
      "\r",
      " 68%|██████▊   | 152/225 [01:47<00:50,  1.44it/s]"
     ]
    },
    {
     "name": "stdout",
     "output_type": "stream",
     "text": [
      "torch.Size([128, 2, 2])\n"
     ]
    },
    {
     "name": "stderr",
     "output_type": "stream",
     "text": [
      "\r",
      " 68%|██████▊   | 153/225 [01:47<00:49,  1.44it/s]"
     ]
    },
    {
     "name": "stdout",
     "output_type": "stream",
     "text": [
      "torch.Size([128, 2, 2])\n"
     ]
    },
    {
     "name": "stderr",
     "output_type": "stream",
     "text": [
      "\r",
      " 68%|██████▊   | 154/225 [01:48<00:49,  1.43it/s]"
     ]
    },
    {
     "name": "stdout",
     "output_type": "stream",
     "text": [
      "torch.Size([128, 2, 2])\n"
     ]
    },
    {
     "name": "stderr",
     "output_type": "stream",
     "text": [
      "\r",
      " 69%|██████▉   | 155/225 [01:49<00:49,  1.43it/s]"
     ]
    },
    {
     "name": "stdout",
     "output_type": "stream",
     "text": [
      "torch.Size([128, 2, 2])\n"
     ]
    },
    {
     "name": "stderr",
     "output_type": "stream",
     "text": [
      "\r",
      " 69%|██████▉   | 156/225 [01:49<00:49,  1.40it/s]"
     ]
    },
    {
     "name": "stdout",
     "output_type": "stream",
     "text": [
      "torch.Size([128, 2, 2])\n"
     ]
    },
    {
     "name": "stderr",
     "output_type": "stream",
     "text": [
      "\r",
      " 70%|██████▉   | 157/225 [01:50<00:48,  1.40it/s]"
     ]
    },
    {
     "name": "stdout",
     "output_type": "stream",
     "text": [
      "torch.Size([128, 2, 2])\n"
     ]
    },
    {
     "name": "stderr",
     "output_type": "stream",
     "text": [
      "\r",
      " 70%|███████   | 158/225 [01:51<00:47,  1.41it/s]"
     ]
    },
    {
     "name": "stdout",
     "output_type": "stream",
     "text": [
      "torch.Size([128, 2, 2])\n"
     ]
    },
    {
     "name": "stderr",
     "output_type": "stream",
     "text": [
      "\r",
      " 71%|███████   | 159/225 [01:52<00:46,  1.41it/s]"
     ]
    },
    {
     "name": "stdout",
     "output_type": "stream",
     "text": [
      "torch.Size([128, 2, 2])\n"
     ]
    },
    {
     "name": "stderr",
     "output_type": "stream",
     "text": [
      "\r",
      " 71%|███████   | 160/225 [01:52<00:45,  1.42it/s]"
     ]
    },
    {
     "name": "stdout",
     "output_type": "stream",
     "text": [
      "torch.Size([128, 2, 2])\n"
     ]
    },
    {
     "name": "stderr",
     "output_type": "stream",
     "text": [
      "\r",
      " 72%|███████▏  | 161/225 [01:53<00:44,  1.44it/s]"
     ]
    },
    {
     "name": "stdout",
     "output_type": "stream",
     "text": [
      "torch.Size([128, 2, 2])\n"
     ]
    },
    {
     "name": "stderr",
     "output_type": "stream",
     "text": [
      "\r",
      " 72%|███████▏  | 162/225 [01:54<00:44,  1.42it/s]"
     ]
    },
    {
     "name": "stdout",
     "output_type": "stream",
     "text": [
      "torch.Size([128, 2, 2])\n"
     ]
    },
    {
     "name": "stderr",
     "output_type": "stream",
     "text": [
      "\r",
      " 72%|███████▏  | 163/225 [01:54<00:44,  1.40it/s]"
     ]
    },
    {
     "name": "stdout",
     "output_type": "stream",
     "text": [
      "torch.Size([128, 2, 2])\n"
     ]
    },
    {
     "name": "stderr",
     "output_type": "stream",
     "text": [
      "\r",
      " 73%|███████▎  | 164/225 [01:55<00:43,  1.40it/s]"
     ]
    },
    {
     "name": "stdout",
     "output_type": "stream",
     "text": [
      "torch.Size([128, 2, 2])\n"
     ]
    },
    {
     "name": "stderr",
     "output_type": "stream",
     "text": [
      "\r",
      " 73%|███████▎  | 165/225 [01:56<00:42,  1.41it/s]"
     ]
    },
    {
     "name": "stdout",
     "output_type": "stream",
     "text": [
      "torch.Size([128, 2, 2])\n"
     ]
    },
    {
     "name": "stderr",
     "output_type": "stream",
     "text": [
      "\r",
      " 74%|███████▍  | 166/225 [01:57<00:42,  1.39it/s]"
     ]
    },
    {
     "name": "stdout",
     "output_type": "stream",
     "text": [
      "torch.Size([128, 2, 2])\n"
     ]
    },
    {
     "name": "stderr",
     "output_type": "stream",
     "text": [
      "\r",
      " 74%|███████▍  | 167/225 [01:57<00:41,  1.40it/s]"
     ]
    },
    {
     "name": "stdout",
     "output_type": "stream",
     "text": [
      "torch.Size([128, 2, 2])\n"
     ]
    },
    {
     "name": "stderr",
     "output_type": "stream",
     "text": [
      "\r",
      " 75%|███████▍  | 168/225 [01:58<00:40,  1.42it/s]"
     ]
    },
    {
     "name": "stdout",
     "output_type": "stream",
     "text": [
      "torch.Size([128, 2, 2])\n"
     ]
    },
    {
     "name": "stderr",
     "output_type": "stream",
     "text": [
      "\r",
      " 75%|███████▌  | 169/225 [01:59<00:39,  1.43it/s]"
     ]
    },
    {
     "name": "stdout",
     "output_type": "stream",
     "text": [
      "torch.Size([128, 2, 2])\n"
     ]
    },
    {
     "name": "stderr",
     "output_type": "stream",
     "text": [
      "\r",
      " 76%|███████▌  | 170/225 [01:59<00:38,  1.42it/s]"
     ]
    },
    {
     "name": "stdout",
     "output_type": "stream",
     "text": [
      "torch.Size([128, 2, 2])\n"
     ]
    },
    {
     "name": "stderr",
     "output_type": "stream",
     "text": [
      "\r",
      " 76%|███████▌  | 171/225 [02:00<00:37,  1.43it/s]"
     ]
    },
    {
     "name": "stdout",
     "output_type": "stream",
     "text": [
      "torch.Size([128, 2, 2])\n"
     ]
    },
    {
     "name": "stderr",
     "output_type": "stream",
     "text": [
      "\r",
      " 76%|███████▋  | 172/225 [02:01<00:37,  1.41it/s]"
     ]
    },
    {
     "name": "stdout",
     "output_type": "stream",
     "text": [
      "torch.Size([128, 2, 2])\n"
     ]
    },
    {
     "name": "stderr",
     "output_type": "stream",
     "text": [
      "\r",
      " 77%|███████▋  | 173/225 [02:01<00:37,  1.40it/s]"
     ]
    },
    {
     "name": "stdout",
     "output_type": "stream",
     "text": [
      "torch.Size([128, 2, 2])\n"
     ]
    },
    {
     "name": "stderr",
     "output_type": "stream",
     "text": [
      "\r",
      " 77%|███████▋  | 174/225 [02:02<00:36,  1.40it/s]"
     ]
    },
    {
     "name": "stdout",
     "output_type": "stream",
     "text": [
      "torch.Size([128, 2, 2])\n"
     ]
    },
    {
     "name": "stderr",
     "output_type": "stream",
     "text": [
      "\r",
      " 78%|███████▊  | 175/225 [02:03<00:35,  1.40it/s]"
     ]
    },
    {
     "name": "stdout",
     "output_type": "stream",
     "text": [
      "torch.Size([128, 2, 2])\n"
     ]
    },
    {
     "name": "stderr",
     "output_type": "stream",
     "text": [
      "\r",
      " 78%|███████▊  | 176/225 [02:04<00:35,  1.38it/s]"
     ]
    },
    {
     "name": "stdout",
     "output_type": "stream",
     "text": [
      "torch.Size([128, 2, 2])\n"
     ]
    },
    {
     "name": "stderr",
     "output_type": "stream",
     "text": [
      "\r",
      " 79%|███████▊  | 177/225 [02:04<00:34,  1.39it/s]"
     ]
    },
    {
     "name": "stdout",
     "output_type": "stream",
     "text": [
      "torch.Size([128, 2, 2])\n"
     ]
    },
    {
     "name": "stderr",
     "output_type": "stream",
     "text": [
      "\r",
      " 79%|███████▉  | 178/225 [02:05<00:33,  1.41it/s]"
     ]
    },
    {
     "name": "stdout",
     "output_type": "stream",
     "text": [
      "torch.Size([128, 2, 2])\n"
     ]
    },
    {
     "name": "stderr",
     "output_type": "stream",
     "text": [
      "\r",
      " 80%|███████▉  | 179/225 [02:06<00:32,  1.43it/s]"
     ]
    },
    {
     "name": "stdout",
     "output_type": "stream",
     "text": [
      "torch.Size([128, 2, 2])\n"
     ]
    },
    {
     "name": "stderr",
     "output_type": "stream",
     "text": [
      "\r",
      " 80%|████████  | 180/225 [02:06<00:31,  1.45it/s]"
     ]
    },
    {
     "name": "stdout",
     "output_type": "stream",
     "text": [
      "torch.Size([128, 2, 2])\n"
     ]
    },
    {
     "name": "stderr",
     "output_type": "stream",
     "text": [
      "\r",
      " 80%|████████  | 181/225 [02:07<00:30,  1.45it/s]"
     ]
    },
    {
     "name": "stdout",
     "output_type": "stream",
     "text": [
      "torch.Size([128, 2, 2])\n"
     ]
    },
    {
     "name": "stderr",
     "output_type": "stream",
     "text": [
      "\r",
      " 81%|████████  | 182/225 [02:08<00:29,  1.46it/s]"
     ]
    },
    {
     "name": "stdout",
     "output_type": "stream",
     "text": [
      "torch.Size([128, 2, 2])\n"
     ]
    },
    {
     "name": "stderr",
     "output_type": "stream",
     "text": [
      "\r",
      " 81%|████████▏ | 183/225 [02:08<00:29,  1.44it/s]"
     ]
    },
    {
     "name": "stdout",
     "output_type": "stream",
     "text": [
      "torch.Size([128, 2, 2])\n"
     ]
    },
    {
     "name": "stderr",
     "output_type": "stream",
     "text": [
      "\r",
      " 82%|████████▏ | 184/225 [02:09<00:28,  1.44it/s]"
     ]
    },
    {
     "name": "stdout",
     "output_type": "stream",
     "text": [
      "torch.Size([128, 2, 2])\n"
     ]
    },
    {
     "name": "stderr",
     "output_type": "stream",
     "text": [
      "\r",
      " 82%|████████▏ | 185/225 [02:10<00:27,  1.45it/s]"
     ]
    },
    {
     "name": "stdout",
     "output_type": "stream",
     "text": [
      "torch.Size([128, 2, 2])\n"
     ]
    },
    {
     "name": "stderr",
     "output_type": "stream",
     "text": [
      "\r",
      " 83%|████████▎ | 186/225 [02:11<00:27,  1.43it/s]"
     ]
    },
    {
     "name": "stdout",
     "output_type": "stream",
     "text": [
      "torch.Size([128, 2, 2])\n"
     ]
    },
    {
     "name": "stderr",
     "output_type": "stream",
     "text": [
      "\r",
      " 83%|████████▎ | 187/225 [02:11<00:26,  1.42it/s]"
     ]
    },
    {
     "name": "stdout",
     "output_type": "stream",
     "text": [
      "torch.Size([128, 2, 2])\n"
     ]
    },
    {
     "name": "stderr",
     "output_type": "stream",
     "text": [
      "\r",
      " 84%|████████▎ | 188/225 [02:12<00:25,  1.43it/s]"
     ]
    },
    {
     "name": "stdout",
     "output_type": "stream",
     "text": [
      "torch.Size([128, 2, 2])\n"
     ]
    },
    {
     "name": "stderr",
     "output_type": "stream",
     "text": [
      "\r",
      " 84%|████████▍ | 189/225 [02:13<00:25,  1.42it/s]"
     ]
    },
    {
     "name": "stdout",
     "output_type": "stream",
     "text": [
      "torch.Size([128, 2, 2])\n"
     ]
    },
    {
     "name": "stderr",
     "output_type": "stream",
     "text": [
      "\r",
      " 84%|████████▍ | 190/225 [02:13<00:24,  1.41it/s]"
     ]
    },
    {
     "name": "stdout",
     "output_type": "stream",
     "text": [
      "torch.Size([128, 2, 2])\n"
     ]
    },
    {
     "name": "stderr",
     "output_type": "stream",
     "text": [
      "\r",
      " 85%|████████▍ | 191/225 [02:14<00:23,  1.42it/s]"
     ]
    },
    {
     "name": "stdout",
     "output_type": "stream",
     "text": [
      "torch.Size([128, 2, 2])\n"
     ]
    },
    {
     "name": "stderr",
     "output_type": "stream",
     "text": [
      "\r",
      " 85%|████████▌ | 192/225 [02:15<00:23,  1.41it/s]"
     ]
    },
    {
     "name": "stdout",
     "output_type": "stream",
     "text": [
      "torch.Size([128, 2, 2])\n"
     ]
    },
    {
     "name": "stderr",
     "output_type": "stream",
     "text": [
      "\r",
      " 86%|████████▌ | 193/225 [02:16<00:22,  1.41it/s]"
     ]
    },
    {
     "name": "stdout",
     "output_type": "stream",
     "text": [
      "torch.Size([128, 2, 2])\n"
     ]
    },
    {
     "name": "stderr",
     "output_type": "stream",
     "text": [
      "\r",
      " 86%|████████▌ | 194/225 [02:16<00:21,  1.42it/s]"
     ]
    },
    {
     "name": "stdout",
     "output_type": "stream",
     "text": [
      "torch.Size([128, 2, 2])\n"
     ]
    },
    {
     "name": "stderr",
     "output_type": "stream",
     "text": [
      "\r",
      " 87%|████████▋ | 195/225 [02:17<00:20,  1.44it/s]"
     ]
    },
    {
     "name": "stdout",
     "output_type": "stream",
     "text": [
      "torch.Size([128, 2, 2])\n"
     ]
    },
    {
     "name": "stderr",
     "output_type": "stream",
     "text": [
      "\r",
      " 87%|████████▋ | 196/225 [02:18<00:20,  1.44it/s]"
     ]
    },
    {
     "name": "stdout",
     "output_type": "stream",
     "text": [
      "torch.Size([128, 2, 2])\n"
     ]
    },
    {
     "name": "stderr",
     "output_type": "stream",
     "text": [
      "\r",
      " 88%|████████▊ | 197/225 [02:18<00:19,  1.45it/s]"
     ]
    },
    {
     "name": "stdout",
     "output_type": "stream",
     "text": [
      "torch.Size([128, 2, 2])\n"
     ]
    },
    {
     "name": "stderr",
     "output_type": "stream",
     "text": [
      "\r",
      " 88%|████████▊ | 198/225 [02:19<00:18,  1.45it/s]"
     ]
    },
    {
     "name": "stdout",
     "output_type": "stream",
     "text": [
      "torch.Size([128, 2, 2])\n"
     ]
    },
    {
     "name": "stderr",
     "output_type": "stream",
     "text": [
      "\r",
      " 88%|████████▊ | 199/225 [02:20<00:18,  1.44it/s]"
     ]
    },
    {
     "name": "stdout",
     "output_type": "stream",
     "text": [
      "torch.Size([128, 2, 2])\n"
     ]
    },
    {
     "name": "stderr",
     "output_type": "stream",
     "text": [
      "\r",
      " 89%|████████▉ | 200/225 [02:20<00:17,  1.40it/s]"
     ]
    },
    {
     "name": "stdout",
     "output_type": "stream",
     "text": [
      "torch.Size([128, 2, 2])\n"
     ]
    },
    {
     "name": "stderr",
     "output_type": "stream",
     "text": [
      "\r",
      " 89%|████████▉ | 201/225 [02:21<00:17,  1.41it/s]"
     ]
    },
    {
     "name": "stdout",
     "output_type": "stream",
     "text": [
      "torch.Size([128, 2, 2])\n"
     ]
    },
    {
     "name": "stderr",
     "output_type": "stream",
     "text": [
      "\r",
      " 90%|████████▉ | 202/225 [02:22<00:16,  1.41it/s]"
     ]
    },
    {
     "name": "stdout",
     "output_type": "stream",
     "text": [
      "torch.Size([128, 2, 2])\n"
     ]
    },
    {
     "name": "stderr",
     "output_type": "stream",
     "text": [
      "\r",
      " 90%|█████████ | 203/225 [02:23<00:15,  1.42it/s]"
     ]
    },
    {
     "name": "stdout",
     "output_type": "stream",
     "text": [
      "torch.Size([128, 2, 2])\n"
     ]
    },
    {
     "name": "stderr",
     "output_type": "stream",
     "text": [
      "\r",
      " 91%|█████████ | 204/225 [02:23<00:14,  1.44it/s]"
     ]
    },
    {
     "name": "stdout",
     "output_type": "stream",
     "text": [
      "torch.Size([128, 2, 2])\n"
     ]
    },
    {
     "name": "stderr",
     "output_type": "stream",
     "text": [
      "\r",
      " 91%|█████████ | 205/225 [02:24<00:13,  1.45it/s]"
     ]
    },
    {
     "name": "stdout",
     "output_type": "stream",
     "text": [
      "torch.Size([128, 2, 2])\n"
     ]
    },
    {
     "name": "stderr",
     "output_type": "stream",
     "text": [
      "\r",
      " 92%|█████████▏| 206/225 [02:25<00:13,  1.44it/s]"
     ]
    },
    {
     "name": "stdout",
     "output_type": "stream",
     "text": [
      "torch.Size([128, 2, 2])\n"
     ]
    },
    {
     "name": "stderr",
     "output_type": "stream",
     "text": [
      "\r",
      " 92%|█████████▏| 207/225 [02:25<00:12,  1.44it/s]"
     ]
    },
    {
     "name": "stdout",
     "output_type": "stream",
     "text": [
      "torch.Size([128, 2, 2])\n"
     ]
    },
    {
     "name": "stderr",
     "output_type": "stream",
     "text": [
      "\r",
      " 92%|█████████▏| 208/225 [02:26<00:11,  1.44it/s]"
     ]
    },
    {
     "name": "stdout",
     "output_type": "stream",
     "text": [
      "torch.Size([128, 2, 2])\n"
     ]
    },
    {
     "name": "stderr",
     "output_type": "stream",
     "text": [
      "\r",
      " 93%|█████████▎| 209/225 [02:27<00:11,  1.41it/s]"
     ]
    },
    {
     "name": "stdout",
     "output_type": "stream",
     "text": [
      "torch.Size([128, 2, 2])\n"
     ]
    },
    {
     "name": "stderr",
     "output_type": "stream",
     "text": [
      "\r",
      " 93%|█████████▎| 210/225 [02:27<00:10,  1.39it/s]"
     ]
    },
    {
     "name": "stdout",
     "output_type": "stream",
     "text": [
      "torch.Size([128, 2, 2])\n"
     ]
    },
    {
     "name": "stderr",
     "output_type": "stream",
     "text": [
      "\r",
      " 94%|█████████▍| 211/225 [02:28<00:09,  1.41it/s]"
     ]
    },
    {
     "name": "stdout",
     "output_type": "stream",
     "text": [
      "torch.Size([128, 2, 2])\n"
     ]
    },
    {
     "name": "stderr",
     "output_type": "stream",
     "text": [
      "\r",
      " 94%|█████████▍| 212/225 [02:29<00:09,  1.42it/s]"
     ]
    },
    {
     "name": "stdout",
     "output_type": "stream",
     "text": [
      "torch.Size([128, 2, 2])\n"
     ]
    },
    {
     "name": "stderr",
     "output_type": "stream",
     "text": [
      "\r",
      " 95%|█████████▍| 213/225 [02:30<00:08,  1.42it/s]"
     ]
    },
    {
     "name": "stdout",
     "output_type": "stream",
     "text": [
      "torch.Size([128, 2, 2])\n"
     ]
    },
    {
     "name": "stderr",
     "output_type": "stream",
     "text": [
      "\r",
      " 95%|█████████▌| 214/225 [02:30<00:07,  1.44it/s]"
     ]
    },
    {
     "name": "stdout",
     "output_type": "stream",
     "text": [
      "torch.Size([128, 2, 2])\n"
     ]
    },
    {
     "name": "stderr",
     "output_type": "stream",
     "text": [
      "\r",
      " 96%|█████████▌| 215/225 [02:31<00:06,  1.44it/s]"
     ]
    },
    {
     "name": "stdout",
     "output_type": "stream",
     "text": [
      "torch.Size([128, 2, 2])\n"
     ]
    },
    {
     "name": "stderr",
     "output_type": "stream",
     "text": [
      "\r",
      " 96%|█████████▌| 216/225 [02:32<00:06,  1.43it/s]"
     ]
    },
    {
     "name": "stdout",
     "output_type": "stream",
     "text": [
      "torch.Size([128, 2, 2])\n"
     ]
    },
    {
     "name": "stderr",
     "output_type": "stream",
     "text": [
      "\r",
      " 96%|█████████▋| 217/225 [02:32<00:05,  1.42it/s]"
     ]
    },
    {
     "name": "stdout",
     "output_type": "stream",
     "text": [
      "torch.Size([128, 2, 2])\n"
     ]
    },
    {
     "name": "stderr",
     "output_type": "stream",
     "text": [
      "\r",
      " 97%|█████████▋| 218/225 [02:33<00:04,  1.43it/s]"
     ]
    },
    {
     "name": "stdout",
     "output_type": "stream",
     "text": [
      "torch.Size([128, 2, 2])\n"
     ]
    },
    {
     "name": "stderr",
     "output_type": "stream",
     "text": [
      "\r",
      " 97%|█████████▋| 219/225 [02:34<00:04,  1.42it/s]"
     ]
    },
    {
     "name": "stdout",
     "output_type": "stream",
     "text": [
      "torch.Size([128, 2, 2])\n"
     ]
    },
    {
     "name": "stderr",
     "output_type": "stream",
     "text": [
      "\r",
      " 98%|█████████▊| 220/225 [02:34<00:03,  1.41it/s]"
     ]
    },
    {
     "name": "stdout",
     "output_type": "stream",
     "text": [
      "torch.Size([128, 2, 2])\n"
     ]
    },
    {
     "name": "stderr",
     "output_type": "stream",
     "text": [
      "\r",
      " 98%|█████████▊| 221/225 [02:35<00:02,  1.41it/s]"
     ]
    },
    {
     "name": "stdout",
     "output_type": "stream",
     "text": [
      "torch.Size([128, 2, 2])\n"
     ]
    },
    {
     "name": "stderr",
     "output_type": "stream",
     "text": [
      "\r",
      " 99%|█████████▊| 222/225 [02:36<00:02,  1.41it/s]"
     ]
    },
    {
     "name": "stdout",
     "output_type": "stream",
     "text": [
      "torch.Size([128, 2, 2])\n"
     ]
    },
    {
     "name": "stderr",
     "output_type": "stream",
     "text": [
      "\r",
      " 99%|█████████▉| 223/225 [02:37<00:01,  1.41it/s]"
     ]
    },
    {
     "name": "stdout",
     "output_type": "stream",
     "text": [
      "torch.Size([128, 2, 2])\n"
     ]
    },
    {
     "name": "stderr",
     "output_type": "stream",
     "text": [
      "\r",
      "100%|█████████▉| 224/225 [02:37<00:00,  1.43it/s]"
     ]
    },
    {
     "name": "stdout",
     "output_type": "stream",
     "text": [
      "torch.Size([128, 2, 2])\n"
     ]
    },
    {
     "name": "stderr",
     "output_type": "stream",
     "text": [
      "100%|██████████| 225/225 [02:38<00:00,  1.42it/s]\n",
      "  1%|          | 19/2494 [00:00<00:13, 188.42it/s]"
     ]
    },
    {
     "name": "stdout",
     "output_type": "stream",
     "text": [
      "tensor(0.2226, dtype=torch.float64, grad_fn=<MseLossBackward>)\n",
      "torch.Size([128, 2, 2])\n",
      "tensor(0) tensor([0.5921, 0.4079], dtype=torch.float64)\n",
      "torch.Size([128, 2, 2])\n",
      "tensor(1) tensor([0.3941, 0.6059], dtype=torch.float64)\n",
      "torch.Size([128, 2, 2])\n",
      "tensor(0) tensor([0.6395, 0.3605], dtype=torch.float64)\n",
      "torch.Size([128, 2, 2])\n",
      "tensor(0) tensor([0.3096, 0.6904], dtype=torch.float64)\n",
      "torch.Size([128, 2, 2])\n",
      "tensor(0) tensor([0.2987, 0.7013], dtype=torch.float64)\n",
      "torch.Size([128, 2, 2])\n",
      "tensor(0) tensor([0.4233, 0.5767], dtype=torch.float64)\n",
      "torch.Size([128, 2, 2])\n",
      "tensor(1) tensor([0.4688, 0.5312], dtype=torch.float64)\n",
      "torch.Size([128, 2, 2])\n",
      "tensor(1) tensor([0.3889, 0.6111], dtype=torch.float64)\n",
      "torch.Size([128, 2, 2])\n",
      "tensor(0) tensor([0.5510, 0.4490], dtype=torch.float64)\n",
      "torch.Size([128, 2, 2])\n",
      "tensor(1) tensor([0.4180, 0.5820], dtype=torch.float64)\n",
      "torch.Size([128, 2, 2])\n",
      "tensor(1) tensor([0.5853, 0.4147], dtype=torch.float64)\n",
      "torch.Size([128, 2, 2])\n",
      "tensor(0) tensor([0.5929, 0.4071], dtype=torch.float64)\n",
      "torch.Size([128, 2, 2])\n",
      "tensor(0) tensor([0.6811, 0.3189], dtype=torch.float64)\n",
      "torch.Size([128, 2, 2])\n",
      "tensor(1) tensor([0.6877, 0.3123], dtype=torch.float64)\n",
      "torch.Size([128, 2, 2])\n",
      "tensor(0) tensor([0.6592, 0.3408], dtype=torch.float64)\n",
      "torch.Size([128, 2, 2])\n",
      "tensor(1) tensor([0.3724, 0.6276], dtype=torch.float64)\n",
      "torch.Size([128, 2, 2])\n",
      "tensor(1) tensor([0.3819, 0.6181], dtype=torch.float64)\n",
      "torch.Size([128, 2, 2])\n",
      "tensor(1) tensor([0.4005, 0.5995], dtype=torch.float64)\n",
      "torch.Size([128, 2, 2])\n",
      "tensor(0) tensor([0.7200, 0.2800], dtype=torch.float64)\n",
      "torch.Size([128, 2, 2])\n",
      "tensor(0) tensor([0.4975, 0.5025], dtype=torch.float64)\n",
      "torch.Size([128, 2, 2])\n",
      "tensor(1) tensor([0.5061, 0.4939], dtype=torch.float64)\n",
      "torch.Size([128, 2, 2])\n",
      "tensor(1) tensor([0.5868, 0.4132], dtype=torch.float64)\n",
      "torch.Size([128, 2, 2])\n",
      "tensor(1) tensor([0.6710, 0.3290], dtype=torch.float64)\n",
      "torch.Size([128, 2, 2])\n",
      "tensor(0) tensor([0.7080, 0.2920], dtype=torch.float64)\n",
      "torch.Size([128, 2, 2])\n",
      "tensor(1) tensor([0.6706, 0.3294], dtype=torch.float64)\n",
      "torch.Size([128, 2, 2])\n",
      "tensor(0) tensor([0.6911, 0.3089], dtype=torch.float64)\n",
      "torch.Size([128, 2, 2])\n",
      "tensor(0) tensor([0.5282, 0.4718], dtype=torch.float64)\n",
      "torch.Size([128, 2, 2])\n",
      "tensor(1) tensor([0.5813, 0.4187], dtype=torch.float64)\n",
      "torch.Size([128, 2, 2])\n",
      "tensor(0) tensor([0.6357, 0.3643], dtype=torch.float64)\n",
      "torch.Size([128, 2, 2])\n",
      "tensor(1) tensor([0.2975, 0.7025], dtype=torch.float64)\n",
      "torch.Size([128, 2, 2])\n",
      "tensor(0) tensor([0.6011, 0.3989], dtype=torch.float64)\n",
      "torch.Size([128, 2, 2])\n",
      "tensor(0) tensor([0.4450, 0.5550], dtype=torch.float64)\n",
      "torch.Size([128, 2, 2])\n",
      "tensor(1) tensor([0.4321, 0.5679], dtype=torch.float64)\n",
      "torch.Size([128, 2, 2])\n",
      "tensor(1) tensor([0.5196, 0.4804], dtype=torch.float64)\n",
      "torch.Size([128, 2, 2])\n",
      "tensor(0) tensor([0.5540, 0.4460], dtype=torch.float64)\n",
      "torch.Size([128, 2, 2])\n",
      "tensor(1) tensor([0.5573, 0.4427], dtype=torch.float64)\n",
      "torch.Size([128, 2, 2])\n",
      "tensor(1) tensor([0.7257, 0.2743], dtype=torch.float64)\n",
      "torch.Size([128, 2, 2])\n",
      "tensor(1) tensor([0.4718, 0.5282], dtype=torch.float64)\n",
      "torch.Size([128, 2, 2])\n",
      "tensor(0) tensor([0.6103, 0.3897], dtype=torch.float64)\n",
      "torch.Size([128, 2, 2])\n",
      "tensor(0) tensor([0.6165, 0.3835], dtype=torch.float64)\n",
      "torch.Size([128, 2, 2])\n",
      "tensor(0) tensor([0.5554, 0.4446], dtype=torch.float64)\n",
      "torch.Size([128, 2, 2])\n",
      "tensor(1) tensor([0.5937, 0.4063], dtype=torch.float64)\n",
      "torch.Size([128, 2, 2])\n",
      "tensor(0) tensor([0.5335, 0.4665], dtype=torch.float64)\n",
      "torch.Size([128, 2, 2])\n",
      "tensor(0) tensor([0.7841, 0.2159], dtype=torch.float64)\n",
      "torch.Size([128, 2, 2])\n",
      "tensor(1) tensor([0.2763, 0.7237], dtype=torch.float64)\n",
      "torch.Size([128, 2, 2])\n",
      "tensor(0) tensor([0.4869, 0.5131], dtype=torch.float64)\n"
     ]
    },
    {
     "name": "stderr",
     "output_type": "stream",
     "text": [
      "  3%|▎         | 78/2494 [00:00<00:10, 229.25it/s]"
     ]
    },
    {
     "name": "stdout",
     "output_type": "stream",
     "text": [
      "torch.Size([128, 2, 2])\n",
      "tensor(1) tensor([0.6511, 0.3489], dtype=torch.float64)\n",
      "torch.Size([128, 2, 2])\n",
      "tensor(1) tensor([0.2573, 0.7427], dtype=torch.float64)\n",
      "torch.Size([128, 2, 2])\n",
      "tensor(1) tensor([0.5024, 0.4976], dtype=torch.float64)\n",
      "torch.Size([128, 2, 2])\n",
      "tensor(1) tensor([0.8062, 0.1938], dtype=torch.float64)\n",
      "torch.Size([128, 2, 2])\n",
      "tensor(1) tensor([0.5146, 0.4854], dtype=torch.float64)\n",
      "torch.Size([128, 2, 2])\n",
      "tensor(0) tensor([0.7312, 0.2688], dtype=torch.float64)\n",
      "torch.Size([128, 2, 2])\n",
      "tensor(1) tensor([0.3478, 0.6522], dtype=torch.float64)\n",
      "torch.Size([128, 2, 2])\n",
      "tensor(0) tensor([0.7211, 0.2789], dtype=torch.float64)\n",
      "torch.Size([128, 2, 2])\n",
      "tensor(1) tensor([0.2970, 0.7030], dtype=torch.float64)\n",
      "torch.Size([128, 2, 2])\n",
      "tensor(1) tensor([0.4762, 0.5238], dtype=torch.float64)\n",
      "torch.Size([128, 2, 2])\n",
      "tensor(1) tensor([0.4619, 0.5381], dtype=torch.float64)\n",
      "torch.Size([128, 2, 2])\n",
      "tensor(1) tensor([0.4015, 0.5985], dtype=torch.float64)\n",
      "torch.Size([128, 2, 2])\n",
      "tensor(0) tensor([0.5601, 0.4399], dtype=torch.float64)\n",
      "torch.Size([128, 2, 2])\n",
      "tensor(1) tensor([0.6303, 0.3697], dtype=torch.float64)\n",
      "torch.Size([128, 2, 2])\n",
      "tensor(1) tensor([0.2493, 0.7507], dtype=torch.float64)\n",
      "torch.Size([128, 2, 2])\n",
      "tensor(0) tensor([0.6623, 0.3377], dtype=torch.float64)\n",
      "torch.Size([128, 2, 2])\n",
      "tensor(1) tensor([0.3431, 0.6569], dtype=torch.float64)\n",
      "torch.Size([128, 2, 2])\n",
      "tensor(0) tensor([0.4971, 0.5029], dtype=torch.float64)\n",
      "torch.Size([128, 2, 2])\n",
      "tensor(0) tensor([0.5475, 0.4525], dtype=torch.float64)\n",
      "torch.Size([128, 2, 2])\n",
      "tensor(0) tensor([0.6177, 0.3823], dtype=torch.float64)\n",
      "torch.Size([128, 2, 2])\n",
      "tensor(0) tensor([0.5541, 0.4459], dtype=torch.float64)\n",
      "torch.Size([128, 2, 2])\n",
      "tensor(1) tensor([0.5820, 0.4180], dtype=torch.float64)\n",
      "torch.Size([128, 2, 2])\n",
      "tensor(1) tensor([0.6653, 0.3347], dtype=torch.float64)\n",
      "torch.Size([128, 2, 2])\n",
      "tensor(1) tensor([0.6746, 0.3254], dtype=torch.float64)\n",
      "torch.Size([128, 2, 2])\n",
      "tensor(1) tensor([0.3434, 0.6566], dtype=torch.float64)\n",
      "torch.Size([128, 2, 2])\n",
      "tensor(0) tensor([0.7940, 0.2060], dtype=torch.float64)\n",
      "torch.Size([128, 2, 2])\n",
      "tensor(0) tensor([0.5719, 0.4281], dtype=torch.float64)\n",
      "torch.Size([128, 2, 2])\n",
      "tensor(1) tensor([0.7454, 0.2546], dtype=torch.float64)\n",
      "torch.Size([128, 2, 2])\n",
      "tensor(1) tensor([0.5478, 0.4522], dtype=torch.float64)\n",
      "torch.Size([128, 2, 2])\n",
      "tensor(1) tensor([0.3531, 0.6469], dtype=torch.float64)\n",
      "torch.Size([128, 2, 2])\n",
      "tensor(0) tensor([0.8263, 0.1737], dtype=torch.float64)\n",
      "torch.Size([128, 2, 2])\n",
      "tensor(1) tensor([0.4826, 0.5174], dtype=torch.float64)\n",
      "torch.Size([128, 2, 2])\n",
      "tensor(0) tensor([0.7658, 0.2342], dtype=torch.float64)\n",
      "torch.Size([128, 2, 2])\n",
      "tensor(1) tensor([0.3685, 0.6315], dtype=torch.float64)\n",
      "torch.Size([128, 2, 2])\n",
      "tensor(0) tensor([0.2843, 0.7157], dtype=torch.float64)\n",
      "torch.Size([128, 2, 2])\n",
      "tensor(0) tensor([0.6314, 0.3686], dtype=torch.float64)\n",
      "torch.Size([128, 2, 2])\n",
      "tensor(1) tensor([0.5799, 0.4201], dtype=torch.float64)\n",
      "torch.Size([128, 2, 2])\n",
      "tensor(1) tensor([0.5708, 0.4292], dtype=torch.float64)\n",
      "torch.Size([128, 2, 2])\n",
      "tensor(0) tensor([0.5045, 0.4955], dtype=torch.float64)\n",
      "torch.Size([128, 2, 2])\n",
      "tensor(1) tensor([0.7471, 0.2529], dtype=torch.float64)\n",
      "torch.Size([128, 2, 2])\n",
      "tensor(0) tensor([0.3955, 0.6045], dtype=torch.float64)\n",
      "torch.Size([128, 2, 2])\n",
      "tensor(1) tensor([0.3491, 0.6509], dtype=torch.float64)\n",
      "torch.Size([128, 2, 2])\n",
      "tensor(0) tensor([0.5695, 0.4305], dtype=torch.float64)\n",
      "torch.Size([128, 2, 2])\n",
      "tensor(1) tensor([0.7281, 0.2719], dtype=torch.float64)\n",
      "torch.Size([128, 2, 2])\n",
      "tensor(0) tensor([0.7066, 0.2934], dtype=torch.float64)\n",
      "torch.Size([128, 2, 2])\n",
      "tensor(1) tensor([0.5383, 0.4617], dtype=torch.float64)\n",
      "torch.Size([128, 2, 2])\n",
      "tensor(0) tensor([0.7205, 0.2795], dtype=torch.float64)\n",
      "torch.Size([128, 2, 2])\n",
      "tensor(1) tensor([0.5982, 0.4018], dtype=torch.float64)\n",
      "torch.Size([128, 2, 2])\n",
      "tensor(0) tensor([0.6433, 0.3567], dtype=torch.float64)\n",
      "torch.Size([128, 2, 2])\n",
      "tensor(1) tensor([0.6725, 0.3275], dtype=torch.float64)\n",
      "torch.Size([128, 2, 2])\n",
      "tensor(0) tensor([0.5797, 0.4203], dtype=torch.float64)\n",
      "torch.Size([128, 2, 2])\n",
      "tensor(0) tensor([0.7342, 0.2658], dtype=torch.float64)\n",
      "torch.Size([128, 2, 2])\n",
      "tensor(0) tensor([0.5665, 0.4335], dtype=torch.float64)\n",
      "torch.Size([128, 2, 2])\n",
      "tensor(0) tensor([0.7288, 0.2712], dtype=torch.float64)\n",
      "torch.Size([128, 2, 2])\n",
      "tensor(0) tensor([0.5480, 0.4520], dtype=torch.float64)\n",
      "torch.Size([128, 2, 2])\n",
      "tensor(1) tensor([0.5310, 0.4690], dtype=torch.float64)\n",
      "torch.Size([128, 2, 2])\n",
      "tensor(1) tensor([0.5855, 0.4145], dtype=torch.float64)\n",
      "torch.Size([128, 2, 2])\n",
      "tensor(0) tensor([0.6662, 0.3338], dtype=torch.float64)\n",
      "torch.Size([128, 2, 2])\n",
      "tensor(0) tensor([0.6602, 0.3398], dtype=torch.float64)\n",
      "torch.Size([128, 2, 2])\n",
      "tensor(0) tensor([0.3755, 0.6245], dtype=torch.float64)\n",
      "torch.Size([128, 2, 2])\n",
      "tensor(0) tensor([0.7810, 0.2190], dtype=torch.float64)\n"
     ]
    },
    {
     "name": "stderr",
     "output_type": "stream",
     "text": [
      "  5%|▌         | 135/2494 [00:00<00:09, 248.87it/s]"
     ]
    },
    {
     "name": "stdout",
     "output_type": "stream",
     "text": [
      "torch.Size([128, 2, 2])\n",
      "tensor(1) tensor([0.3428, 0.6572], dtype=torch.float64)\n",
      "torch.Size([128, 2, 2])\n",
      "tensor(1) tensor([0.4630, 0.5370], dtype=torch.float64)\n",
      "torch.Size([128, 2, 2])\n",
      "tensor(1) tensor([0.4192, 0.5808], dtype=torch.float64)\n",
      "torch.Size([128, 2, 2])\n",
      "tensor(1) tensor([0.4192, 0.5808], dtype=torch.float64)\n",
      "torch.Size([128, 2, 2])\n",
      "tensor(1) tensor([0.3867, 0.6133], dtype=torch.float64)\n",
      "torch.Size([128, 2, 2])\n",
      "tensor(0) tensor([0.5554, 0.4446], dtype=torch.float64)\n",
      "torch.Size([128, 2, 2])\n",
      "tensor(0) tensor([0.6012, 0.3988], dtype=torch.float64)\n",
      "torch.Size([128, 2, 2])\n",
      "tensor(1) tensor([0.5890, 0.4110], dtype=torch.float64)\n",
      "torch.Size([128, 2, 2])\n",
      "tensor(1) tensor([0.7371, 0.2629], dtype=torch.float64)\n",
      "torch.Size([128, 2, 2])\n",
      "tensor(1) tensor([0.4931, 0.5069], dtype=torch.float64)\n",
      "torch.Size([128, 2, 2])\n",
      "tensor(0) tensor([0.6853, 0.3147], dtype=torch.float64)\n",
      "torch.Size([128, 2, 2])\n",
      "tensor(1) tensor([0.5734, 0.4266], dtype=torch.float64)\n",
      "torch.Size([128, 2, 2])\n",
      "tensor(1) tensor([0.4776, 0.5224], dtype=torch.float64)\n",
      "torch.Size([128, 2, 2])\n",
      "tensor(1) tensor([0.7429, 0.2571], dtype=torch.float64)\n",
      "torch.Size([128, 2, 2])\n",
      "tensor(0) tensor([0.7358, 0.2642], dtype=torch.float64)\n",
      "torch.Size([128, 2, 2])\n",
      "tensor(0) tensor([0.4916, 0.5084], dtype=torch.float64)\n",
      "torch.Size([128, 2, 2])\n",
      "tensor(1) tensor([0.3060, 0.6940], dtype=torch.float64)\n",
      "torch.Size([128, 2, 2])\n",
      "tensor(1) tensor([0.6568, 0.3432], dtype=torch.float64)\n",
      "torch.Size([128, 2, 2])\n",
      "tensor(0) tensor([0.4631, 0.5369], dtype=torch.float64)\n",
      "torch.Size([128, 2, 2])\n",
      "tensor(0) tensor([0.4229, 0.5771], dtype=torch.float64)\n",
      "torch.Size([128, 2, 2])\n",
      "tensor(0) tensor([0.6055, 0.3945], dtype=torch.float64)\n",
      "torch.Size([128, 2, 2])\n",
      "tensor(0) tensor([0.5593, 0.4407], dtype=torch.float64)\n",
      "torch.Size([128, 2, 2])\n",
      "tensor(0) tensor([0.5667, 0.4333], dtype=torch.float64)\n",
      "torch.Size([128, 2, 2])\n",
      "tensor(1) tensor([0.6779, 0.3221], dtype=torch.float64)\n",
      "torch.Size([128, 2, 2])\n",
      "tensor(1) tensor([0.5857, 0.4143], dtype=torch.float64)\n",
      "torch.Size([128, 2, 2])\n",
      "tensor(1) tensor([0.5435, 0.4565], dtype=torch.float64)\n",
      "torch.Size([128, 2, 2])\n",
      "tensor(1) tensor([0.4366, 0.5634], dtype=torch.float64)\n",
      "torch.Size([128, 2, 2])\n",
      "tensor(1) tensor([0.5297, 0.4703], dtype=torch.float64)\n",
      "torch.Size([128, 2, 2])\n",
      "tensor(1) tensor([0.6362, 0.3638], dtype=torch.float64)\n",
      "torch.Size([128, 2, 2])\n",
      "tensor(1) tensor([0.4954, 0.5046], dtype=torch.float64)\n",
      "torch.Size([128, 2, 2])\n",
      "tensor(1) tensor([0.3162, 0.6838], dtype=torch.float64)\n",
      "torch.Size([128, 2, 2])\n",
      "tensor(0) tensor([0.6504, 0.3496], dtype=torch.float64)\n",
      "torch.Size([128, 2, 2])\n",
      "tensor(0) tensor([0.8032, 0.1968], dtype=torch.float64)\n",
      "torch.Size([128, 2, 2])\n",
      "tensor(1) tensor([0.7984, 0.2016], dtype=torch.float64)\n",
      "torch.Size([128, 2, 2])\n",
      "tensor(1) tensor([0.4489, 0.5511], dtype=torch.float64)\n",
      "torch.Size([128, 2, 2])\n",
      "tensor(1) tensor([0.6895, 0.3105], dtype=torch.float64)\n",
      "torch.Size([128, 2, 2])\n",
      "tensor(1) tensor([0.6413, 0.3587], dtype=torch.float64)\n",
      "torch.Size([128, 2, 2])\n",
      "tensor(0) tensor([0.7029, 0.2971], dtype=torch.float64)\n",
      "torch.Size([128, 2, 2])\n",
      "tensor(0) tensor([0.5268, 0.4732], dtype=torch.float64)\n",
      "torch.Size([128, 2, 2])\n",
      "tensor(1) tensor([0.3243, 0.6757], dtype=torch.float64)\n",
      "torch.Size([128, 2, 2])\n",
      "tensor(0) tensor([0.6474, 0.3526], dtype=torch.float64)\n",
      "torch.Size([128, 2, 2])\n",
      "tensor(0) tensor([0.4223, 0.5777], dtype=torch.float64)\n",
      "torch.Size([128, 2, 2])\n",
      "tensor(1) tensor([0.5260, 0.4740], dtype=torch.float64)\n",
      "torch.Size([128, 2, 2])\n",
      "tensor(0) tensor([0.7529, 0.2471], dtype=torch.float64)\n",
      "torch.Size([128, 2, 2])\n",
      "tensor(0) tensor([0.6085, 0.3915], dtype=torch.float64)\n",
      "torch.Size([128, 2, 2])\n",
      "tensor(1) tensor([0.5745, 0.4255], dtype=torch.float64)\n",
      "torch.Size([128, 2, 2])\n",
      "tensor(1) tensor([0.5964, 0.4036], dtype=torch.float64)\n",
      "torch.Size([128, 2, 2])\n",
      "tensor(1) tensor([0.4652, 0.5348], dtype=torch.float64)\n",
      "torch.Size([128, 2, 2])\n",
      "tensor(1) tensor([0.6075, 0.3925], dtype=torch.float64)\n",
      "torch.Size([128, 2, 2])\n",
      "tensor(0) tensor([0.6263, 0.3737], dtype=torch.float64)\n",
      "torch.Size([128, 2, 2])\n",
      "tensor(0) tensor([0.5947, 0.4053], dtype=torch.float64)\n",
      "torch.Size([128, 2, 2])\n",
      "tensor(0) tensor([0.6359, 0.3641], dtype=torch.float64)\n"
     ]
    },
    {
     "name": "stderr",
     "output_type": "stream",
     "text": [
      "  8%|▊         | 192/2494 [00:00<00:08, 264.58it/s]"
     ]
    },
    {
     "name": "stdout",
     "output_type": "stream",
     "text": [
      "torch.Size([128, 2, 2])\n",
      "tensor(1) tensor([0.4851, 0.5149], dtype=torch.float64)\n",
      "torch.Size([128, 2, 2])\n",
      "tensor(1) tensor([0.4205, 0.5795], dtype=torch.float64)\n",
      "torch.Size([128, 2, 2])\n",
      "tensor(1) tensor([0.6724, 0.3276], dtype=torch.float64)\n",
      "torch.Size([128, 2, 2])\n",
      "tensor(1) tensor([0.6126, 0.3874], dtype=torch.float64)\n",
      "torch.Size([128, 2, 2])\n",
      "tensor(1) tensor([0.5798, 0.4202], dtype=torch.float64)\n",
      "torch.Size([128, 2, 2])\n",
      "tensor(0) tensor([0.6523, 0.3477], dtype=torch.float64)\n",
      "torch.Size([128, 2, 2])\n",
      "tensor(1) tensor([0.5365, 0.4635], dtype=torch.float64)\n",
      "torch.Size([128, 2, 2])\n",
      "tensor(0) tensor([0.3983, 0.6017], dtype=torch.float64)\n",
      "torch.Size([128, 2, 2])\n",
      "tensor(1) tensor([0.4293, 0.5707], dtype=torch.float64)\n",
      "torch.Size([128, 2, 2])\n",
      "tensor(0) tensor([0.5736, 0.4264], dtype=torch.float64)\n",
      "torch.Size([128, 2, 2])\n",
      "tensor(0) tensor([0.5867, 0.4133], dtype=torch.float64)\n",
      "torch.Size([128, 2, 2])\n",
      "tensor(0) tensor([0.7385, 0.2615], dtype=torch.float64)\n",
      "torch.Size([128, 2, 2])\n",
      "tensor(1) tensor([0.6303, 0.3697], dtype=torch.float64)\n",
      "torch.Size([128, 2, 2])\n",
      "tensor(1) tensor([0.5895, 0.4105], dtype=torch.float64)\n",
      "torch.Size([128, 2, 2])\n",
      "tensor(1) tensor([0.4899, 0.5101], dtype=torch.float64)\n",
      "torch.Size([128, 2, 2])\n",
      "tensor(1) tensor([0.5851, 0.4149], dtype=torch.float64)\n",
      "torch.Size([128, 2, 2])\n",
      "tensor(0) tensor([0.4428, 0.5572], dtype=torch.float64)\n",
      "torch.Size([128, 2, 2])\n",
      "tensor(0) tensor([0.7505, 0.2495], dtype=torch.float64)\n",
      "torch.Size([128, 2, 2])\n",
      "tensor(0) tensor([0.6743, 0.3257], dtype=torch.float64)\n",
      "torch.Size([128, 2, 2])\n",
      "tensor(1) tensor([0.2827, 0.7173], dtype=torch.float64)\n",
      "torch.Size([128, 2, 2])\n",
      "tensor(1) tensor([0.5446, 0.4554], dtype=torch.float64)\n",
      "torch.Size([128, 2, 2])\n",
      "tensor(1) tensor([0.5461, 0.4539], dtype=torch.float64)\n",
      "torch.Size([128, 2, 2])\n",
      "tensor(1) tensor([0.3379, 0.6621], dtype=torch.float64)\n",
      "torch.Size([128, 2, 2])\n",
      "tensor(1) tensor([0.4217, 0.5783], dtype=torch.float64)\n",
      "torch.Size([128, 2, 2])\n",
      "tensor(0) tensor([0.4831, 0.5169], dtype=torch.float64)\n",
      "torch.Size([128, 2, 2])\n",
      "tensor(0) tensor([0.7047, 0.2953], dtype=torch.float64)\n",
      "torch.Size([128, 2, 2])\n",
      "tensor(0) tensor([0.6279, 0.3721], dtype=torch.float64)\n",
      "torch.Size([128, 2, 2])\n",
      "tensor(1) tensor([0.3317, 0.6683], dtype=torch.float64)\n",
      "torch.Size([128, 2, 2])\n",
      "tensor(1) tensor([0.6180, 0.3820], dtype=torch.float64)\n",
      "torch.Size([128, 2, 2])\n",
      "tensor(0) tensor([0.7735, 0.2265], dtype=torch.float64)\n",
      "torch.Size([128, 2, 2])\n",
      "tensor(1) tensor([0.3529, 0.6471], dtype=torch.float64)\n",
      "torch.Size([128, 2, 2])\n",
      "tensor(0) tensor([0.5668, 0.4332], dtype=torch.float64)\n",
      "torch.Size([128, 2, 2])\n",
      "tensor(0) tensor([0.5253, 0.4747], dtype=torch.float64)\n",
      "torch.Size([128, 2, 2])\n",
      "tensor(0) tensor([0.5762, 0.4238], dtype=torch.float64)\n",
      "torch.Size([128, 2, 2])\n",
      "tensor(1) tensor([0.5394, 0.4606], dtype=torch.float64)\n",
      "torch.Size([128, 2, 2])\n",
      "tensor(0) tensor([0.8015, 0.1985], dtype=torch.float64)\n",
      "torch.Size([128, 2, 2])\n",
      "tensor(1) tensor([0.7225, 0.2775], dtype=torch.float64)\n",
      "torch.Size([128, 2, 2])\n",
      "tensor(1) tensor([0.4814, 0.5186], dtype=torch.float64)\n",
      "torch.Size([128, 2, 2])\n",
      "tensor(0) tensor([0.5791, 0.4209], dtype=torch.float64)\n",
      "torch.Size([128, 2, 2])\n",
      "tensor(0) tensor([0.6868, 0.3132], dtype=torch.float64)\n",
      "torch.Size([128, 2, 2])\n",
      "tensor(1) tensor([0.6700, 0.3300], dtype=torch.float64)\n",
      "torch.Size([128, 2, 2])\n",
      "tensor(1) tensor([0.6759, 0.3241], dtype=torch.float64)\n",
      "torch.Size([128, 2, 2])\n",
      "tensor(0) tensor([0.5702, 0.4298], dtype=torch.float64)\n",
      "torch.Size([128, 2, 2])\n",
      "tensor(1) tensor([0.4268, 0.5732], dtype=torch.float64)\n",
      "torch.Size([128, 2, 2])\n",
      "tensor(0) tensor([0.5508, 0.4492], dtype=torch.float64)\n",
      "torch.Size([128, 2, 2])\n",
      "tensor(1) tensor([0.6777, 0.3223], dtype=torch.float64)\n",
      "torch.Size([128, 2, 2])\n",
      "tensor(1) tensor([0.7086, 0.2914], dtype=torch.float64)\n",
      "torch.Size([128, 2, 2])\n",
      "tensor(0) tensor([0.6781, 0.3219], dtype=torch.float64)\n",
      "torch.Size([128, 2, 2])\n",
      "tensor(0) tensor([0.3322, 0.6678], dtype=torch.float64)\n",
      "torch.Size([128, 2, 2])\n",
      "tensor(1) tensor([0.4140, 0.5860], dtype=torch.float64)\n",
      "torch.Size([128, 2, 2])\n",
      "tensor(0) tensor([0.4735, 0.5265], dtype=torch.float64)\n",
      "torch.Size([128, 2, 2])\n",
      "tensor(1) tensor([0.4748, 0.5252], dtype=torch.float64)\n",
      "torch.Size([128, 2, 2])\n",
      "tensor(1) tensor([0.3992, 0.6008], dtype=torch.float64)\n",
      "torch.Size([128, 2, 2])\n",
      "tensor(0) tensor([0.7518, 0.2482], dtype=torch.float64)\n",
      "torch.Size([128, 2, 2])\n",
      "tensor(0) tensor([0.6591, 0.3409], dtype=torch.float64)\n",
      "torch.Size([128, 2, 2])\n",
      "tensor(1) tensor([0.3210, 0.6790], dtype=torch.float64)\n",
      "torch.Size([128, 2, 2])\n",
      "tensor(0) tensor([0.7710, 0.2290], dtype=torch.float64)\n",
      "torch.Size([128, 2, 2])\n",
      "tensor(1) tensor([0.5024, 0.4976], dtype=torch.float64)\n",
      "torch.Size([128, 2, 2])\n",
      "tensor(1) tensor([0.5145, 0.4855], dtype=torch.float64)\n",
      "torch.Size([128, 2, 2])\n",
      "tensor(1) tensor([0.6160, 0.3840], dtype=torch.float64)\n"
     ]
    },
    {
     "name": "stderr",
     "output_type": "stream",
     "text": [
      " 10%|█         | 254/2494 [00:00<00:07, 284.12it/s]"
     ]
    },
    {
     "name": "stdout",
     "output_type": "stream",
     "text": [
      "torch.Size([128, 2, 2])\n",
      "tensor(0) tensor([0.5518, 0.4482], dtype=torch.float64)\n",
      "torch.Size([128, 2, 2])\n",
      "tensor(0) tensor([0.7273, 0.2727], dtype=torch.float64)\n",
      "torch.Size([128, 2, 2])\n",
      "tensor(1) tensor([0.2140, 0.7860], dtype=torch.float64)\n",
      "torch.Size([128, 2, 2])\n",
      "tensor(1) tensor([0.4122, 0.5878], dtype=torch.float64)\n",
      "torch.Size([128, 2, 2])\n",
      "tensor(1) tensor([0.5477, 0.4523], dtype=torch.float64)\n",
      "torch.Size([128, 2, 2])\n",
      "tensor(1) tensor([0.4655, 0.5345], dtype=torch.float64)\n",
      "torch.Size([128, 2, 2])\n",
      "tensor(0) tensor([0.8153, 0.1847], dtype=torch.float64)\n",
      "torch.Size([128, 2, 2])\n",
      "tensor(0) tensor([0.6589, 0.3411], dtype=torch.float64)\n",
      "torch.Size([128, 2, 2])\n",
      "tensor(1) tensor([0.4003, 0.5997], dtype=torch.float64)\n",
      "torch.Size([128, 2, 2])\n",
      "tensor(1) tensor([0.3621, 0.6379], dtype=torch.float64)\n",
      "torch.Size([128, 2, 2])\n",
      "tensor(0) tensor([0.4128, 0.5872], dtype=torch.float64)\n",
      "torch.Size([128, 2, 2])\n",
      "tensor(1) tensor([0.3729, 0.6271], dtype=torch.float64)\n",
      "torch.Size([128, 2, 2])\n",
      "tensor(1) tensor([0.3320, 0.6680], dtype=torch.float64)\n",
      "torch.Size([128, 2, 2])\n",
      "tensor(1) tensor([0.7714, 0.2286], dtype=torch.float64)\n",
      "torch.Size([128, 2, 2])\n",
      "tensor(0) tensor([0.6864, 0.3136], dtype=torch.float64)\n",
      "torch.Size([128, 2, 2])\n",
      "tensor(1) tensor([0.6249, 0.3751], dtype=torch.float64)\n",
      "torch.Size([128, 2, 2])\n",
      "tensor(1) tensor([0.3279, 0.6721], dtype=torch.float64)\n",
      "torch.Size([128, 2, 2])\n",
      "tensor(1) tensor([0.6309, 0.3691], dtype=torch.float64)\n",
      "torch.Size([128, 2, 2])\n",
      "tensor(0) tensor([0.5811, 0.4189], dtype=torch.float64)\n",
      "torch.Size([128, 2, 2])\n",
      "tensor(1) tensor([0.5574, 0.4426], dtype=torch.float64)\n",
      "torch.Size([128, 2, 2])\n",
      "tensor(0) tensor([0.5497, 0.4503], dtype=torch.float64)\n",
      "torch.Size([128, 2, 2])\n",
      "tensor(1) tensor([0.5085, 0.4915], dtype=torch.float64)\n",
      "torch.Size([128, 2, 2])\n",
      "tensor(1) tensor([0.4911, 0.5089], dtype=torch.float64)\n",
      "torch.Size([128, 2, 2])\n",
      "tensor(1) tensor([0.4907, 0.5093], dtype=torch.float64)\n",
      "torch.Size([128, 2, 2])\n",
      "tensor(0) tensor([0.5762, 0.4238], dtype=torch.float64)\n",
      "torch.Size([128, 2, 2])\n",
      "tensor(0) tensor([0.5613, 0.4387], dtype=torch.float64)\n",
      "torch.Size([128, 2, 2])\n",
      "tensor(0) tensor([0.6381, 0.3619], dtype=torch.float64)\n",
      "torch.Size([128, 2, 2])\n",
      "tensor(1) tensor([0.6383, 0.3617], dtype=torch.float64)\n",
      "torch.Size([128, 2, 2])\n",
      "tensor(1) tensor([0.5569, 0.4431], dtype=torch.float64)\n",
      "torch.Size([128, 2, 2])\n",
      "tensor(0) tensor([0.5534, 0.4466], dtype=torch.float64)\n",
      "torch.Size([128, 2, 2])\n",
      "tensor(1) tensor([0.4753, 0.5247], dtype=torch.float64)\n",
      "torch.Size([128, 2, 2])\n",
      "tensor(0) tensor([0.5916, 0.4084], dtype=torch.float64)\n",
      "torch.Size([128, 2, 2])\n",
      "tensor(1) tensor([0.3330, 0.6670], dtype=torch.float64)\n",
      "torch.Size([128, 2, 2])\n",
      "tensor(0) tensor([0.7943, 0.2057], dtype=torch.float64)\n",
      "torch.Size([128, 2, 2])\n",
      "tensor(1) tensor([0.6259, 0.3741], dtype=torch.float64)\n",
      "torch.Size([128, 2, 2])\n",
      "tensor(1) tensor([0.3874, 0.6126], dtype=torch.float64)\n",
      "torch.Size([128, 2, 2])\n",
      "tensor(0) tensor([0.5617, 0.4383], dtype=torch.float64)\n",
      "torch.Size([128, 2, 2])\n",
      "tensor(1) tensor([0.6945, 0.3055], dtype=torch.float64)\n",
      "torch.Size([128, 2, 2])\n",
      "tensor(1) tensor([0.5914, 0.4086], dtype=torch.float64)\n",
      "torch.Size([128, 2, 2])\n",
      "tensor(1) tensor([0.4954, 0.5046], dtype=torch.float64)\n",
      "torch.Size([128, 2, 2])\n",
      "tensor(1) tensor([0.3758, 0.6242], dtype=torch.float64)\n",
      "torch.Size([128, 2, 2])\n",
      "tensor(1) tensor([0.3795, 0.6205], dtype=torch.float64)\n",
      "torch.Size([128, 2, 2])\n",
      "tensor(0) tensor([0.5179, 0.4821], dtype=torch.float64)\n",
      "torch.Size([128, 2, 2])\n",
      "tensor(0) tensor([0.8103, 0.1897], dtype=torch.float64)\n",
      "torch.Size([128, 2, 2])\n",
      "tensor(0) tensor([0.6329, 0.3671], dtype=torch.float64)\n",
      "torch.Size([128, 2, 2])\n",
      "tensor(1) tensor([0.4226, 0.5774], dtype=torch.float64)\n",
      "torch.Size([128, 2, 2])\n",
      "tensor(1) tensor([0.6452, 0.3548], dtype=torch.float64)\n",
      "torch.Size([128, 2, 2])\n",
      "tensor(1) tensor([0.6089, 0.3911], dtype=torch.float64)\n",
      "torch.Size([128, 2, 2])\n",
      "tensor(1) tensor([0.3663, 0.6337], dtype=torch.float64)\n",
      "torch.Size([128, 2, 2])\n",
      "tensor(0) tensor([0.6349, 0.3651], dtype=torch.float64)\n",
      "torch.Size([128, 2, 2])\n",
      "tensor(0) tensor([0.7888, 0.2112], dtype=torch.float64)\n",
      "torch.Size([128, 2, 2])\n",
      "tensor(0) tensor([0.6235, 0.3765], dtype=torch.float64)\n",
      "torch.Size([128, 2, 2])\n",
      "tensor(1) tensor([0.6919, 0.3081], dtype=torch.float64)\n",
      "torch.Size([128, 2, 2])\n",
      "tensor(1) tensor([0.5578, 0.4422], dtype=torch.float64)\n",
      "torch.Size([128, 2, 2])\n",
      "tensor(0) tensor([0.6014, 0.3986], dtype=torch.float64)\n",
      "torch.Size([128, 2, 2])\n",
      "tensor(0) tensor([0.5062, 0.4938], dtype=torch.float64)\n",
      "torch.Size([128, 2, 2])\n",
      "tensor(0) tensor([0.3882, 0.6118], dtype=torch.float64)\n",
      "torch.Size([128, 2, 2])\n",
      "tensor(0) tensor([0.7783, 0.2217], dtype=torch.float64)\n",
      "torch.Size([128, 2, 2])\n",
      "tensor(1) tensor([0.4331, 0.5669], dtype=torch.float64)\n",
      "torch.Size([128, 2, 2])\n",
      "tensor(0) tensor([0.3783, 0.6217], dtype=torch.float64)\n",
      "torch.Size([128, 2, 2])\n",
      "tensor(0) tensor([0.6409, 0.3591], dtype=torch.float64)\n",
      "torch.Size([128, 2, 2])\n",
      "tensor(0) "
     ]
    },
    {
     "name": "stderr",
     "output_type": "stream",
     "text": [
      " 13%|█▎        | 316/2494 [00:01<00:07, 294.92it/s]"
     ]
    },
    {
     "name": "stdout",
     "output_type": "stream",
     "text": [
      "tensor([0.6225, 0.3775], dtype=torch.float64)\n",
      "torch.Size([128, 2, 2])\n",
      "tensor(1) tensor([0.4675, 0.5325], dtype=torch.float64)\n",
      "torch.Size([128, 2, 2])\n",
      "tensor(0) tensor([0.7713, 0.2287], dtype=torch.float64)\n",
      "torch.Size([128, 2, 2])\n",
      "tensor(1) tensor([0.6881, 0.3119], dtype=torch.float64)\n",
      "torch.Size([128, 2, 2])\n",
      "tensor(0) tensor([0.5666, 0.4334], dtype=torch.float64)\n",
      "torch.Size([128, 2, 2])\n",
      "tensor(0) tensor([0.7241, 0.2759], dtype=torch.float64)\n",
      "torch.Size([128, 2, 2])\n",
      "tensor(0) tensor([0.4164, 0.5836], dtype=torch.float64)\n",
      "torch.Size([128, 2, 2])\n",
      "tensor(1) tensor([0.5823, 0.4177], dtype=torch.float64)\n",
      "torch.Size([128, 2, 2])\n",
      "tensor(1) tensor([0.6204, 0.3796], dtype=torch.float64)\n",
      "torch.Size([128, 2, 2])\n",
      "tensor(0) tensor([0.7727, 0.2273], dtype=torch.float64)\n",
      "torch.Size([128, 2, 2])\n",
      "tensor(1) tensor([0.6174, 0.3826], dtype=torch.float64)\n",
      "torch.Size([128, 2, 2])\n",
      "tensor(1) tensor([0.6989, 0.3011], dtype=torch.float64)\n",
      "torch.Size([128, 2, 2])\n",
      "tensor(0) tensor([0.4457, 0.5543], dtype=torch.float64)\n",
      "torch.Size([128, 2, 2])\n",
      "tensor(1) tensor([0.5559, 0.4441], dtype=torch.float64)\n",
      "torch.Size([128, 2, 2])\n",
      "tensor(1) tensor([0.3958, 0.6042], dtype=torch.float64)\n",
      "torch.Size([128, 2, 2])\n",
      "tensor(0) tensor([0.6903, 0.3097], dtype=torch.float64)\n",
      "torch.Size([128, 2, 2])\n",
      "tensor(0) tensor([0.7534, 0.2466], dtype=torch.float64)\n",
      "torch.Size([128, 2, 2])\n",
      "tensor(1) tensor([0.4780, 0.5220], dtype=torch.float64)\n",
      "torch.Size([128, 2, 2])\n",
      "tensor(0) tensor([0.6924, 0.3076], dtype=torch.float64)\n",
      "torch.Size([128, 2, 2])\n",
      "tensor(0) tensor([0.6068, 0.3932], dtype=torch.float64)\n",
      "torch.Size([128, 2, 2])\n",
      "tensor(0) tensor([0.3320, 0.6680], dtype=torch.float64)\n",
      "torch.Size([128, 2, 2])\n",
      "tensor(0) tensor([0.6736, 0.3264], dtype=torch.float64)\n",
      "torch.Size([128, 2, 2])\n",
      "tensor(0) tensor([0.3979, 0.6021], dtype=torch.float64)\n",
      "torch.Size([128, 2, 2])\n",
      "tensor(1) tensor([0.6365, 0.3635], dtype=torch.float64)\n",
      "torch.Size([128, 2, 2])\n",
      "tensor(0) tensor([0.6091, 0.3909], dtype=torch.float64)\n",
      "torch.Size([128, 2, 2])\n",
      "tensor(0) tensor([0.4981, 0.5019], dtype=torch.float64)\n",
      "torch.Size([128, 2, 2])\n",
      "tensor(1) tensor([0.5820, 0.4180], dtype=torch.float64)\n",
      "torch.Size([128, 2, 2])\n",
      "tensor(0) tensor([0.4306, 0.5694], dtype=torch.float64)\n",
      "torch.Size([128, 2, 2])\n",
      "tensor(0) tensor([0.6865, 0.3135], dtype=torch.float64)\n",
      "torch.Size([128, 2, 2])\n",
      "tensor(0) tensor([0.3944, 0.6056], dtype=torch.float64)\n",
      "torch.Size([128, 2, 2])\n",
      "tensor(0) tensor([0.6251, 0.3749], dtype=torch.float64)\n",
      "torch.Size([128, 2, 2])\n",
      "tensor(0) tensor([0.7418, 0.2582], dtype=torch.float64)\n",
      "torch.Size([128, 2, 2])\n",
      "tensor(0) tensor([0.7367, 0.2633], dtype=torch.float64)\n",
      "torch.Size([128, 2, 2])\n",
      "tensor(1) tensor([0.3145, 0.6855], dtype=torch.float64)\n",
      "torch.Size([128, 2, 2])\n",
      "tensor(1) tensor([0.3177, 0.6823], dtype=torch.float64)\n",
      "torch.Size([128, 2, 2])\n",
      "tensor(0) tensor([0.5197, 0.4803], dtype=torch.float64)\n",
      "torch.Size([128, 2, 2])\n",
      "tensor(1) tensor([0.6705, 0.3295], dtype=torch.float64)\n",
      "torch.Size([128, 2, 2])\n",
      "tensor(1) tensor([0.3765, 0.6235], dtype=torch.float64)\n",
      "torch.Size([128, 2, 2])\n",
      "tensor(1) tensor([0.5241, 0.4759], dtype=torch.float64)\n",
      "torch.Size([128, 2, 2])\n",
      "tensor(0) tensor([0.6723, 0.3277], dtype=torch.float64)\n",
      "torch.Size([128, 2, 2])\n",
      "tensor(1) tensor([0.4140, 0.5860], dtype=torch.float64)\n",
      "torch.Size([128, 2, 2])\n",
      "tensor(1) tensor([0.4720, 0.5280], dtype=torch.float64)\n",
      "torch.Size([128, 2, 2])\n",
      "tensor(1) tensor([0.3713, 0.6287], dtype=torch.float64)\n",
      "torch.Size([128, 2, 2])\n",
      "tensor(1) tensor([0.5116, 0.4884], dtype=torch.float64)\n",
      "torch.Size([128, 2, 2])\n",
      "tensor(0) tensor([0.6194, 0.3806], dtype=torch.float64)\n",
      "torch.Size([128, 2, 2])\n",
      "tensor(0) tensor([0.7490, 0.2510], dtype=torch.float64)\n",
      "torch.Size([128, 2, 2])\n",
      "tensor(1) tensor([0.4638, 0.5362], dtype=torch.float64)\n",
      "torch.Size([128, 2, 2])\n",
      "tensor(0) tensor([0.8388, 0.1612], dtype=torch.float64)\n",
      "torch.Size([128, 2, 2])\n",
      "tensor(0) tensor([0.5939, 0.4061], dtype=torch.float64)\n",
      "torch.Size([128, 2, 2])\n",
      "tensor(1) tensor([0.5512, 0.4488], dtype=torch.float64)\n",
      "torch.Size([128, 2, 2])\n",
      "tensor(0) tensor([0.6753, 0.3247], dtype=torch.float64)\n",
      "torch.Size([128, 2, 2])\n",
      "tensor(1) tensor([0.2851, 0.7149], dtype=torch.float64)\n",
      "torch.Size([128, 2, 2])\n",
      "tensor(1) tensor([0.5638, 0.4362], dtype=torch.float64)\n",
      "torch.Size([128, 2, 2])\n",
      "tensor(0) tensor([0.7575, 0.2425], dtype=torch.float64)\n",
      "torch.Size([128, 2, 2])\n",
      "tensor(1) tensor([0.6223, 0.3777], dtype=torch.float64)\n",
      "torch.Size([128, 2, 2])\n",
      "tensor(0) tensor([0.5266, 0.4734], dtype=torch.float64)\n",
      "torch.Size([128, 2, 2])\n",
      "tensor(0) tensor([0.5497, 0.4503], dtype=torch.float64)\n",
      "torch.Size([128, 2, 2])\n",
      "tensor(0) tensor([0.6566, 0.3434], dtype=torch.float64)\n",
      "torch.Size([128, 2, 2])\n",
      "tensor(1) tensor([0.5027, 0.4973], dtype=torch.float64)\n",
      "torch.Size([128, 2, 2])\n",
      "tensor(1) tensor([0.6439, 0.3561], dtype=torch.float64)\n",
      "torch.Size([128, 2, 2])\n",
      "tensor(1) tensor([0.4846, 0.5154], dtype=torch.float64)\n"
     ]
    },
    {
     "name": "stderr",
     "output_type": "stream",
     "text": [
      " 15%|█▌        | 377/2494 [00:01<00:07, 297.81it/s]"
     ]
    },
    {
     "name": "stdout",
     "output_type": "stream",
     "text": [
      "torch.Size([128, 2, 2])\n",
      "tensor(1) tensor([0.5220, 0.4780], dtype=torch.float64)\n",
      "torch.Size([128, 2, 2])\n",
      "tensor(0) tensor([0.5862, 0.4138], dtype=torch.float64)\n",
      "torch.Size([128, 2, 2])\n",
      "tensor(1) tensor([0.4896, 0.5104], dtype=torch.float64)\n",
      "torch.Size([128, 2, 2])\n",
      "tensor(0) tensor([0.6930, 0.3070], dtype=torch.float64)\n",
      "torch.Size([128, 2, 2])\n",
      "tensor(1) tensor([0.5259, 0.4741], dtype=torch.float64)\n",
      "torch.Size([128, 2, 2])\n",
      "tensor(0) tensor([0.5687, 0.4313], dtype=torch.float64)\n",
      "torch.Size([128, 2, 2])\n",
      "tensor(0) tensor([0.7240, 0.2760], dtype=torch.float64)\n",
      "torch.Size([128, 2, 2])\n",
      "tensor(0) tensor([0.5296, 0.4704], dtype=torch.float64)\n",
      "torch.Size([128, 2, 2])\n",
      "tensor(0) tensor([0.5665, 0.4335], dtype=torch.float64)\n",
      "torch.Size([128, 2, 2])\n",
      "tensor(1) tensor([0.4487, 0.5513], dtype=torch.float64)\n",
      "torch.Size([128, 2, 2])\n",
      "tensor(1) tensor([0.7810, 0.2190], dtype=torch.float64)\n",
      "torch.Size([128, 2, 2])\n",
      "tensor(0) tensor([0.5970, 0.4030], dtype=torch.float64)\n",
      "torch.Size([128, 2, 2])\n",
      "tensor(0) tensor([0.7772, 0.2228], dtype=torch.float64)\n",
      "torch.Size([128, 2, 2])\n",
      "tensor(0) tensor([0.5173, 0.4827], dtype=torch.float64)\n",
      "torch.Size([128, 2, 2])\n",
      "tensor(0) tensor([0.7728, 0.2272], dtype=torch.float64)\n",
      "torch.Size([128, 2, 2])\n",
      "tensor(1) tensor([0.7147, 0.2853], dtype=torch.float64)\n",
      "torch.Size([128, 2, 2])\n",
      "tensor(1) tensor([0.6447, 0.3553], dtype=torch.float64)\n",
      "torch.Size([128, 2, 2])\n",
      "tensor(1) tensor([0.3843, 0.6157], dtype=torch.float64)\n",
      "torch.Size([128, 2, 2])\n",
      "tensor(0) tensor([0.5925, 0.4075], dtype=torch.float64)\n",
      "torch.Size([128, 2, 2])\n",
      "tensor(1) tensor([0.4291, 0.5709], dtype=torch.float64)\n",
      "torch.Size([128, 2, 2])\n",
      "tensor(1) tensor([0.3819, 0.6181], dtype=torch.float64)\n",
      "torch.Size([128, 2, 2])\n",
      "tensor(1) tensor([0.5257, 0.4743], dtype=torch.float64)\n",
      "torch.Size([128, 2, 2])\n",
      "tensor(0) tensor([0.7804, 0.2196], dtype=torch.float64)\n",
      "torch.Size([128, 2, 2])\n",
      "tensor(0) tensor([0.5683, 0.4317], dtype=torch.float64)\n",
      "torch.Size([128, 2, 2])\n",
      "tensor(0) tensor([0.5641, 0.4359], dtype=torch.float64)\n",
      "torch.Size([128, 2, 2])\n",
      "tensor(0) tensor([0.7759, 0.2241], dtype=torch.float64)\n",
      "torch.Size([128, 2, 2])\n",
      "tensor(1) tensor([0.6526, 0.3474], dtype=torch.float64)\n",
      "torch.Size([128, 2, 2])\n",
      "tensor(0) tensor([0.6841, 0.3159], dtype=torch.float64)\n",
      "torch.Size([128, 2, 2])\n",
      "tensor(0) tensor([0.5530, 0.4470], dtype=torch.float64)\n",
      "torch.Size([128, 2, 2])\n",
      "tensor(0) tensor([0.3725, 0.6275], dtype=torch.float64)\n",
      "torch.Size([128, 2, 2])\n",
      "tensor(1) tensor([0.4302, 0.5698], dtype=torch.float64)\n",
      "torch.Size([128, 2, 2])\n",
      "tensor(1) tensor([0.5132, 0.4868], dtype=torch.float64)\n",
      "torch.Size([128, 2, 2])\n",
      "tensor(0) tensor([0.7822, 0.2178], dtype=torch.float64)\n",
      "torch.Size([128, 2, 2])\n",
      "tensor(0) tensor([0.7015, 0.2985], dtype=torch.float64)\n",
      "torch.Size([128, 2, 2])\n",
      "tensor(1) tensor([0.3743, 0.6257], dtype=torch.float64)\n",
      "torch.Size([128, 2, 2])\n",
      "tensor(1) tensor([0.5567, 0.4433], dtype=torch.float64)\n",
      "torch.Size([128, 2, 2])\n",
      "tensor(0) tensor([0.6522, 0.3478], dtype=torch.float64)\n",
      "torch.Size([128, 2, 2])\n",
      "tensor(0) tensor([0.3989, 0.6011], dtype=torch.float64)\n",
      "torch.Size([128, 2, 2])\n",
      "tensor(1) tensor([0.4497, 0.5503], dtype=torch.float64)\n",
      "torch.Size([128, 2, 2])\n",
      "tensor(0) tensor([0.7063, 0.2937], dtype=torch.float64)\n",
      "torch.Size([128, 2, 2])\n",
      "tensor(1) tensor([0.5799, 0.4201], dtype=torch.float64)\n",
      "torch.Size([128, 2, 2])\n",
      "tensor(1) tensor([0.2556, 0.7444], dtype=torch.float64)\n",
      "torch.Size([128, 2, 2])\n",
      "tensor(0) tensor([0.4172, 0.5828], dtype=torch.float64)\n",
      "torch.Size([128, 2, 2])\n",
      "tensor(0) tensor([0.6194, 0.3806], dtype=torch.float64)\n",
      "torch.Size([128, 2, 2])\n",
      "tensor(1) tensor([0.5405, 0.4595], dtype=torch.float64)\n",
      "torch.Size([128, 2, 2])\n",
      "tensor(1) tensor([0.6047, 0.3953], dtype=torch.float64)\n",
      "torch.Size([128, 2, 2])\n",
      "tensor(0) tensor([0.5476, 0.4524], dtype=torch.float64)\n",
      "torch.Size([128, 2, 2])\n",
      "tensor(1) tensor([0.4725, 0.5275], dtype=torch.float64)\n",
      "torch.Size([128, 2, 2])\n",
      "tensor(0) tensor([0.3435, 0.6565], dtype=torch.float64)\n",
      "torch.Size([128, 2, 2])\n",
      "tensor(0) tensor([0.5635, 0.4365], dtype=torch.float64)\n",
      "torch.Size([128, 2, 2])\n",
      "tensor(0) tensor([0.5174, 0.4826], dtype=torch.float64)\n",
      "torch.Size([128, 2, 2])\n",
      "tensor(1) tensor([0.8179, 0.1821], dtype=torch.float64)\n",
      "torch.Size([128, 2, 2])\n",
      "tensor(0) tensor([0.6057, 0.3943], dtype=torch.float64)\n",
      "torch.Size([128, 2, 2])\n",
      "tensor(1) tensor([0.5738, 0.4262], dtype=torch.float64)\n",
      "torch.Size([128, 2, 2])\n",
      "tensor(0) tensor([0.5847, 0.4153], dtype=torch.float64)\n",
      "torch.Size([128, 2, 2])\n",
      "tensor(0) tensor([0.5377, 0.4623], dtype=torch.float64)\n",
      "torch.Size([128, 2, 2])\n",
      "tensor(0) tensor([0.3740, 0.6260], dtype=torch.float64)\n",
      "torch.Size([128, 2, 2])\n",
      "tensor(1) tensor([0.4797, 0.5203], dtype=torch.float64)\n",
      "torch.Size([128, 2, 2])\n",
      "tensor(1) tensor([0.4655, 0.5345], dtype=torch.float64)\n",
      "torch.Size([128, 2, 2])\n",
      "tensor(1) tensor([0.3916, 0.6084], dtype=torch.float64)\n",
      "torch.Size([128, 2, 2])\n",
      "tensor(0) tensor([0.5617, 0.4383], dtype=torch.float64)\n"
     ]
    },
    {
     "name": "stderr",
     "output_type": "stream",
     "text": [
      " 18%|█▊        | 437/2494 [00:01<00:07, 289.52it/s]"
     ]
    },
    {
     "name": "stdout",
     "output_type": "stream",
     "text": [
      "torch.Size([128, 2, 2])\n",
      "tensor(1) tensor([0.5310, 0.4690], dtype=torch.float64)\n",
      "torch.Size([128, 2, 2])\n",
      "tensor(0) tensor([0.3612, 0.6388], dtype=torch.float64)\n",
      "torch.Size([128, 2, 2])\n",
      "tensor(0) tensor([0.6301, 0.3699], dtype=torch.float64)\n",
      "torch.Size([128, 2, 2])\n",
      "tensor(0) tensor([0.4713, 0.5287], dtype=torch.float64)\n",
      "torch.Size([128, 2, 2])\n",
      "tensor(1) tensor([0.1602, 0.8398], dtype=torch.float64)\n",
      "torch.Size([128, 2, 2])\n",
      "tensor(1) tensor([0.4077, 0.5923], dtype=torch.float64)\n",
      "torch.Size([128, 2, 2])\n",
      "tensor(1) tensor([0.5630, 0.4370], dtype=torch.float64)\n",
      "torch.Size([128, 2, 2])\n",
      "tensor(1) tensor([0.6704, 0.3296], dtype=torch.float64)\n",
      "torch.Size([128, 2, 2])\n",
      "tensor(0) tensor([0.6286, 0.3714], dtype=torch.float64)\n",
      "torch.Size([128, 2, 2])\n",
      "tensor(1) tensor([0.6378, 0.3622], dtype=torch.float64)\n",
      "torch.Size([128, 2, 2])\n",
      "tensor(0) tensor([0.7571, 0.2429], dtype=torch.float64)\n",
      "torch.Size([128, 2, 2])\n",
      "tensor(1) tensor([0.5747, 0.4253], dtype=torch.float64)\n",
      "torch.Size([128, 2, 2])\n",
      "tensor(0) tensor([0.4595, 0.5405], dtype=torch.float64)\n",
      "torch.Size([128, 2, 2])\n",
      "tensor(1) tensor([0.4144, 0.5856], dtype=torch.float64)\n",
      "torch.Size([128, 2, 2])\n",
      "tensor(1) tensor([0.4601, 0.5399], dtype=torch.float64)\n",
      "torch.Size([128, 2, 2])\n",
      "tensor(1) tensor([0.6776, 0.3224], dtype=torch.float64)\n",
      "torch.Size([128, 2, 2])\n",
      "tensor(0) tensor([0.7992, 0.2008], dtype=torch.float64)\n",
      "torch.Size([128, 2, 2])\n",
      "tensor(1) tensor([0.6505, 0.3495], dtype=torch.float64)\n",
      "torch.Size([128, 2, 2])\n",
      "tensor(1) tensor([0.5713, 0.4287], dtype=torch.float64)\n",
      "torch.Size([128, 2, 2])\n",
      "tensor(0) tensor([0.4988, 0.5012], dtype=torch.float64)\n",
      "torch.Size([128, 2, 2])\n",
      "tensor(0) tensor([0.6456, 0.3544], dtype=torch.float64)\n",
      "torch.Size([128, 2, 2])\n",
      "tensor(1) tensor([0.4984, 0.5016], dtype=torch.float64)\n",
      "torch.Size([128, 2, 2])\n",
      "tensor(1) tensor([0.5853, 0.4147], dtype=torch.float64)\n",
      "torch.Size([128, 2, 2])\n",
      "tensor(0) tensor([0.4692, 0.5308], dtype=torch.float64)\n",
      "torch.Size([128, 2, 2])\n",
      "tensor(0) tensor([0.6347, 0.3653], dtype=torch.float64)\n",
      "torch.Size([128, 2, 2])\n",
      "tensor(0) tensor([0.7314, 0.2686], dtype=torch.float64)\n",
      "torch.Size([128, 2, 2])\n",
      "tensor(1) tensor([0.2604, 0.7396], dtype=torch.float64)\n",
      "torch.Size([128, 2, 2])\n",
      "tensor(1) tensor([0.5771, 0.4229], dtype=torch.float64)\n",
      "torch.Size([128, 2, 2])\n",
      "tensor(0) tensor([0.7650, 0.2350], dtype=torch.float64)\n",
      "torch.Size([128, 2, 2])\n",
      "tensor(0) tensor([0.7667, 0.2333], dtype=torch.float64)\n",
      "torch.Size([128, 2, 2])\n",
      "tensor(0) tensor([0.7045, 0.2955], dtype=torch.float64)\n",
      "torch.Size([128, 2, 2])\n",
      "tensor(1) tensor([0.5230, 0.4770], dtype=torch.float64)\n",
      "torch.Size([128, 2, 2])\n",
      "tensor(0) tensor([0.7863, 0.2137], dtype=torch.float64)\n",
      "torch.Size([128, 2, 2])\n",
      "tensor(0) tensor([0.6824, 0.3176], dtype=torch.float64)\n",
      "torch.Size([128, 2, 2])\n",
      "tensor(1) tensor([0.4515, 0.5485], dtype=torch.float64)\n",
      "torch.Size([128, 2, 2])\n",
      "tensor(0) tensor([0.5181, 0.4819], dtype=torch.float64)\n",
      "torch.Size([128, 2, 2])\n",
      "tensor(1) tensor([0.4806, 0.5194], dtype=torch.float64)\n",
      "torch.Size([128, 2, 2])\n",
      "tensor(1) tensor([0.7565, 0.2435], dtype=torch.float64)\n",
      "torch.Size([128, 2, 2])\n",
      "tensor(1) tensor([0.5936, 0.4064], dtype=torch.float64)\n",
      "torch.Size([128, 2, 2])\n",
      "tensor(0) tensor([0.7382, 0.2618], dtype=torch.float64)\n",
      "torch.Size([128, 2, 2])\n",
      "tensor(1) tensor([0.5185, 0.4815], dtype=torch.float64)\n",
      "torch.Size([128, 2, 2])\n",
      "tensor(1) tensor([0.5815, 0.4185], dtype=torch.float64)\n",
      "torch.Size([128, 2, 2])\n",
      "tensor(0) tensor([0.7514, 0.2486], dtype=torch.float64)\n",
      "torch.Size([128, 2, 2])\n",
      "tensor(0) tensor([0.4889, 0.5111], dtype=torch.float64)\n",
      "torch.Size([128, 2, 2])\n",
      "tensor(1) tensor([0.3611, 0.6389], dtype=torch.float64)\n",
      "torch.Size([128, 2, 2])\n",
      "tensor(0) tensor([0.5634, 0.4366], dtype=torch.float64)\n",
      "torch.Size([128, 2, 2])\n",
      "tensor(1) tensor([0.4258, 0.5742], dtype=torch.float64)\n",
      "torch.Size([128, 2, 2])\n",
      "tensor(0) tensor([0.6104, 0.3896], dtype=torch.float64)\n",
      "torch.Size([128, 2, 2])\n",
      "tensor(1) tensor([0.4964, 0.5036], dtype=torch.float64)\n",
      "torch.Size([128, 2, 2])\n",
      "tensor(1) tensor([0.4783, 0.5217], dtype=torch.float64)\n",
      "torch.Size([128, 2, 2])\n",
      "tensor(0) tensor([0.5732, 0.4268], dtype=torch.float64)\n",
      "torch.Size([128, 2, 2])\n",
      "tensor(1) tensor([0.6486, 0.3514], dtype=torch.float64)\n",
      "torch.Size([128, 2, 2])\n",
      "tensor(0) tensor([0.7670, 0.2330], dtype=torch.float64)\n",
      "torch.Size([128, 2, 2])\n",
      "tensor(0) tensor([0.6020, 0.3980], dtype=torch.float64)\n"
     ]
    },
    {
     "name": "stderr",
     "output_type": "stream",
     "text": [
      " 20%|█▉        | 494/2494 [00:01<00:07, 276.60it/s]"
     ]
    },
    {
     "name": "stdout",
     "output_type": "stream",
     "text": [
      "torch.Size([128, 2, 2])\n",
      "tensor(0) tensor([0.7068, 0.2932], dtype=torch.float64)\n",
      "torch.Size([128, 2, 2])\n",
      "tensor(0) tensor([0.7180, 0.2820], dtype=torch.float64)\n",
      "torch.Size([128, 2, 2])\n",
      "tensor(1) tensor([0.5360, 0.4640], dtype=torch.float64)\n",
      "torch.Size([128, 2, 2])\n",
      "tensor(1) tensor([0.3725, 0.6275], dtype=torch.float64)\n",
      "torch.Size([128, 2, 2])\n",
      "tensor(0) tensor([0.4485, 0.5515], dtype=torch.float64)\n",
      "torch.Size([128, 2, 2])\n",
      "tensor(0) tensor([0.6086, 0.3914], dtype=torch.float64)\n",
      "torch.Size([128, 2, 2])\n",
      "tensor(1) tensor([0.3964, 0.6036], dtype=torch.float64)\n",
      "torch.Size([128, 2, 2])\n",
      "tensor(0) tensor([0.3941, 0.6059], dtype=torch.float64)\n",
      "torch.Size([128, 2, 2])\n",
      "tensor(1) tensor([0.4981, 0.5019], dtype=torch.float64)\n",
      "torch.Size([128, 2, 2])\n",
      "tensor(1) tensor([0.6453, 0.3547], dtype=torch.float64)\n",
      "torch.Size([128, 2, 2])\n",
      "tensor(0) tensor([0.4552, 0.5448], dtype=torch.float64)\n",
      "torch.Size([128, 2, 2])\n",
      "tensor(0) tensor([0.6079, 0.3921], dtype=torch.float64)\n",
      "torch.Size([128, 2, 2])\n",
      "tensor(0) tensor([0.7551, 0.2449], dtype=torch.float64)\n",
      "torch.Size([128, 2, 2])\n",
      "tensor(0) tensor([0.5637, 0.4363], dtype=torch.float64)\n",
      "torch.Size([128, 2, 2])\n",
      "tensor(1) tensor([0.6821, 0.3179], dtype=torch.float64)\n",
      "torch.Size([128, 2, 2])\n",
      "tensor(1) tensor([0.4410, 0.5590], dtype=torch.float64)\n",
      "torch.Size([128, 2, 2])\n",
      "tensor(1) tensor([0.5568, 0.4432], dtype=torch.float64)\n",
      "torch.Size([128, 2, 2])\n",
      "tensor(1) tensor([0.5451, 0.4549], dtype=torch.float64)\n",
      "torch.Size([128, 2, 2])\n",
      "tensor(1) tensor([0.6968, 0.3032], dtype=torch.float64)\n",
      "torch.Size([128, 2, 2])\n",
      "tensor(0) tensor([0.7042, 0.2958], dtype=torch.float64)\n",
      "torch.Size([128, 2, 2])\n",
      "tensor(1) tensor([0.5864, 0.4136], dtype=torch.float64)\n",
      "torch.Size([128, 2, 2])\n",
      "tensor(1) tensor([0.4700, 0.5300], dtype=torch.float64)\n",
      "torch.Size([128, 2, 2])\n",
      "tensor(1) tensor([0.4717, 0.5283], dtype=torch.float64)\n",
      "torch.Size([128, 2, 2])\n",
      "tensor(0) tensor([0.5678, 0.4322], dtype=torch.float64)\n",
      "torch.Size([128, 2, 2])\n",
      "tensor(0) tensor([0.5945, 0.4055], dtype=torch.float64)\n",
      "torch.Size([128, 2, 2])\n",
      "tensor(1) tensor([0.4672, 0.5328], dtype=torch.float64)\n",
      "torch.Size([128, 2, 2])\n",
      "tensor(0) tensor([0.5602, 0.4398], dtype=torch.float64)\n",
      "torch.Size([128, 2, 2])\n",
      "tensor(0) tensor([0.5107, 0.4893], dtype=torch.float64)\n",
      "torch.Size([128, 2, 2])\n",
      "tensor(0) tensor([0.5626, 0.4374], dtype=torch.float64)\n",
      "torch.Size([128, 2, 2])\n",
      "tensor(1) tensor([0.5528, 0.4472], dtype=torch.float64)\n",
      "torch.Size([128, 2, 2])\n",
      "tensor(0) tensor([0.5230, 0.4770], dtype=torch.float64)\n",
      "torch.Size([128, 2, 2])\n",
      "tensor(1) tensor([0.4774, 0.5226], dtype=torch.float64)\n",
      "torch.Size([128, 2, 2])\n",
      "tensor(0) tensor([0.6430, 0.3570], dtype=torch.float64)\n",
      "torch.Size([128, 2, 2])\n",
      "tensor(1) tensor([0.4996, 0.5004], dtype=torch.float64)\n",
      "torch.Size([128, 2, 2])\n",
      "tensor(0) tensor([0.6065, 0.3935], dtype=torch.float64)\n",
      "torch.Size([128, 2, 2])\n",
      "tensor(0) tensor([0.7980, 0.2020], dtype=torch.float64)\n",
      "torch.Size([128, 2, 2])\n",
      "tensor(1) tensor([0.2796, 0.7204], dtype=torch.float64)\n",
      "torch.Size([128, 2, 2])\n",
      "tensor(1) tensor([0.5692, 0.4308], dtype=torch.float64)\n",
      "torch.Size([128, 2, 2])\n",
      "tensor(1) tensor([0.5021, 0.4979], dtype=torch.float64)\n",
      "torch.Size([128, 2, 2])\n",
      "tensor(1) tensor([0.6807, 0.3193], dtype=torch.float64)\n",
      "torch.Size([128, 2, 2])\n",
      "tensor(1) tensor([0.7326, 0.2674], dtype=torch.float64)\n",
      "torch.Size([128, 2, 2])\n",
      "tensor(0) tensor([0.5393, 0.4607], dtype=torch.float64)\n",
      "torch.Size([128, 2, 2])\n",
      "tensor(1) tensor([0.6963, 0.3037], dtype=torch.float64)\n",
      "torch.Size([128, 2, 2])\n",
      "tensor(0) tensor([0.5535, 0.4465], dtype=torch.float64)\n",
      "torch.Size([128, 2, 2])\n",
      "tensor(0) tensor([0.6622, 0.3378], dtype=torch.float64)\n",
      "torch.Size([128, 2, 2])\n",
      "tensor(0) tensor([0.6074, 0.3926], dtype=torch.float64)\n",
      "torch.Size([128, 2, 2])\n",
      "tensor(1) tensor([0.4220, 0.5780], dtype=torch.float64)\n",
      "torch.Size([128, 2, 2])\n",
      "tensor(1) tensor([0.6287, 0.3713], dtype=torch.float64)\n",
      "torch.Size([128, 2, 2])\n",
      "tensor(1) tensor([0.2206, 0.7794], dtype=torch.float64)\n",
      "torch.Size([128, 2, 2])\n",
      "tensor(0) tensor([0.7371, 0.2629], dtype=torch.float64)\n",
      "torch.Size([128, 2, 2])\n",
      "tensor(1) tensor([0.5690, 0.4310], dtype=torch.float64)\n",
      "torch.Size([128, 2, 2])\n",
      "tensor(1) tensor([0.6189, 0.3811], dtype=torch.float64)\n",
      "torch.Size([128, 2, 2])\n",
      "tensor(0) tensor([0.5558, 0.4442], dtype=torch.float64)\n",
      "torch.Size([128, 2, 2])\n",
      "tensor(1) tensor([0.6484, 0.3516], dtype=torch.float64)\n",
      "torch.Size([128, 2, 2])\n",
      "tensor(0) tensor([0.6135, 0.3865], dtype=torch.float64)\n",
      "torch.Size([128, 2, 2])\n",
      "tensor(0) tensor([0.7814, 0.2186], dtype=torch.float64)\n"
     ]
    },
    {
     "name": "stderr",
     "output_type": "stream",
     "text": [
      " 22%|██▏       | 554/2494 [00:01<00:06, 286.38it/s]"
     ]
    },
    {
     "name": "stdout",
     "output_type": "stream",
     "text": [
      "torch.Size([128, 2, 2])\n",
      "tensor(1) tensor([0.6495, 0.3505], dtype=torch.float64)\n",
      "torch.Size([128, 2, 2])\n",
      "tensor(0) tensor([0.5558, 0.4442], dtype=torch.float64)\n",
      "torch.Size([128, 2, 2])\n",
      "tensor(0) tensor([0.7110, 0.2890], dtype=torch.float64)\n",
      "torch.Size([128, 2, 2])\n",
      "tensor(1) tensor([0.3746, 0.6254], dtype=torch.float64)\n",
      "torch.Size([128, 2, 2])\n",
      "tensor(0) tensor([0.8421, 0.1579], dtype=torch.float64)\n",
      "torch.Size([128, 2, 2])\n",
      "tensor(1) tensor([0.3828, 0.6172], dtype=torch.float64)\n",
      "torch.Size([128, 2, 2])\n",
      "tensor(1) tensor([0.6552, 0.3448], dtype=torch.float64)\n",
      "torch.Size([128, 2, 2])\n",
      "tensor(1) tensor([0.5196, 0.4804], dtype=torch.float64)\n",
      "torch.Size([128, 2, 2])\n",
      "tensor(1) tensor([0.3293, 0.6707], dtype=torch.float64)\n",
      "torch.Size([128, 2, 2])\n",
      "tensor(1) tensor([0.2865, 0.7135], dtype=torch.float64)\n",
      "torch.Size([128, 2, 2])\n",
      "tensor(0) tensor([0.5144, 0.4856], dtype=torch.float64)\n",
      "torch.Size([128, 2, 2])\n",
      "tensor(1) tensor([0.2516, 0.7484], dtype=torch.float64)\n",
      "torch.Size([128, 2, 2])\n",
      "tensor(0) tensor([0.7074, 0.2926], dtype=torch.float64)\n",
      "torch.Size([128, 2, 2])\n",
      "tensor(1) tensor([0.5304, 0.4696], dtype=torch.float64)\n",
      "torch.Size([128, 2, 2])\n",
      "tensor(1) tensor([0.5126, 0.4874], dtype=torch.float64)\n",
      "torch.Size([128, 2, 2])\n",
      "tensor(0) tensor([0.6986, 0.3014], dtype=torch.float64)\n",
      "torch.Size([128, 2, 2])\n",
      "tensor(0) tensor([0.5984, 0.4016], dtype=torch.float64)\n",
      "torch.Size([128, 2, 2])\n",
      "tensor(0) tensor([0.4175, 0.5825], dtype=torch.float64)\n",
      "torch.Size([128, 2, 2])\n",
      "tensor(0) tensor([0.6552, 0.3448], dtype=torch.float64)\n",
      "torch.Size([128, 2, 2])\n",
      "tensor(0) tensor([0.4470, 0.5530], dtype=torch.float64)\n",
      "torch.Size([128, 2, 2])\n",
      "tensor(1) tensor([0.5285, 0.4715], dtype=torch.float64)\n",
      "torch.Size([128, 2, 2])\n",
      "tensor(0) tensor([0.6893, 0.3107], dtype=torch.float64)\n",
      "torch.Size([128, 2, 2])\n",
      "tensor(1) tensor([0.2096, 0.7904], dtype=torch.float64)\n",
      "torch.Size([128, 2, 2])\n",
      "tensor(1) tensor([0.3702, 0.6298], dtype=torch.float64)\n",
      "torch.Size([128, 2, 2])\n",
      "tensor(0) tensor([0.7478, 0.2522], dtype=torch.float64)\n",
      "torch.Size([128, 2, 2])\n",
      "tensor(0) tensor([0.7033, 0.2967], dtype=torch.float64)\n",
      "torch.Size([128, 2, 2])\n",
      "tensor(1) tensor([0.4467, 0.5533], dtype=torch.float64)\n",
      "torch.Size([128, 2, 2])\n",
      "tensor(1) tensor([0.4696, 0.5304], dtype=torch.float64)\n",
      "torch.Size([128, 2, 2])\n",
      "tensor(0) tensor([0.6596, 0.3404], dtype=torch.float64)\n",
      "torch.Size([128, 2, 2])\n",
      "tensor(0) tensor([0.6132, 0.3868], dtype=torch.float64)\n",
      "torch.Size([128, 2, 2])\n",
      "tensor(0) tensor([0.5655, 0.4345], dtype=torch.float64)\n",
      "torch.Size([128, 2, 2])\n",
      "tensor(0) tensor([0.4158, 0.5842], dtype=torch.float64)\n",
      "torch.Size([128, 2, 2])\n",
      "tensor(1) tensor([0.5796, 0.4204], dtype=torch.float64)\n",
      "torch.Size([128, 2, 2])\n",
      "tensor(1) tensor([0.4440, 0.5560], dtype=torch.float64)\n",
      "torch.Size([128, 2, 2])\n",
      "tensor(0) tensor([0.7595, 0.2405], dtype=torch.float64)\n",
      "torch.Size([128, 2, 2])\n",
      "tensor(1) tensor([0.4832, 0.5168], dtype=torch.float64)\n",
      "torch.Size([128, 2, 2])\n",
      "tensor(0) tensor([0.7860, 0.2140], dtype=torch.float64)\n",
      "torch.Size([128, 2, 2])\n",
      "tensor(0) tensor([0.6473, 0.3527], dtype=torch.float64)\n",
      "torch.Size([128, 2, 2])\n",
      "tensor(1) tensor([0.6974, 0.3026], dtype=torch.float64)\n",
      "torch.Size([128, 2, 2])\n",
      "tensor(1) tensor([0.3336, 0.6664], dtype=torch.float64)\n",
      "torch.Size([128, 2, 2])\n",
      "tensor(0) tensor([0.6109, 0.3891], dtype=torch.float64)\n",
      "torch.Size([128, 2, 2])\n",
      "tensor(1) tensor([0.4321, 0.5679], dtype=torch.float64)\n",
      "torch.Size([128, 2, 2])\n",
      "tensor(1) tensor([0.3416, 0.6584], dtype=torch.float64)\n",
      "torch.Size([128, 2, 2])\n",
      "tensor(1) tensor([0.4313, 0.5687], dtype=torch.float64)\n",
      "torch.Size([128, 2, 2])\n",
      "tensor(1) tensor([0.4573, 0.5427], dtype=torch.float64)\n",
      "torch.Size([128, 2, 2])\n",
      "tensor(0) tensor([0.7649, 0.2351], dtype=torch.float64)\n",
      "torch.Size([128, 2, 2])\n",
      "tensor(1) tensor([0.5168, 0.4832], dtype=torch.float64)\n",
      "torch.Size([128, 2, 2])\n",
      "tensor(1) tensor([0.5969, 0.4031], dtype=torch.float64)\n",
      "torch.Size([128, 2, 2])\n",
      "tensor(1) tensor([0.5973, 0.4027], dtype=torch.float64)\n",
      "torch.Size([128, 2, 2])\n",
      "tensor(1) tensor([0.2439, 0.7561], dtype=torch.float64)\n",
      "torch.Size([128, 2, 2])\n",
      "tensor(1) tensor([0.5503, 0.4497], dtype=torch.float64)\n",
      "torch.Size([128, 2, 2])\n",
      "tensor(1) tensor([0.5046, 0.4954], dtype=torch.float64)\n",
      "torch.Size([128, 2, 2])\n",
      "tensor(1) tensor([0.4318, 0.5682], dtype=torch.float64)\n",
      "torch.Size([128, 2, 2])\n",
      "tensor(1) tensor([0.3742, 0.6258], dtype=torch.float64)\n",
      "torch.Size([128, 2, 2])\n",
      "tensor(1) tensor([0.5070, 0.4930], dtype=torch.float64)\n",
      "torch.Size([128, 2, 2])\n",
      "tensor(0) tensor([0.6450, 0.3550], dtype=torch.float64)\n",
      "torch.Size([128, 2, 2])\n",
      "tensor(0) tensor([0.6914, 0.3086], dtype=torch.float64)\n",
      "torch.Size([128, 2, 2])\n",
      "tensor(1) tensor([0.5319, 0.4681], dtype=torch.float64)\n",
      "torch.Size([128, 2, 2])\n",
      "tensor(0) tensor([0.8375, 0.1625], dtype=torch.float64)\n",
      "torch.Size([128, 2, 2])\n",
      "tensor(1) tensor([0.3072, 0.6928], dtype=torch.float64)\n"
     ]
    },
    {
     "name": "stderr",
     "output_type": "stream",
     "text": [
      " 25%|██▍       | 614/2494 [00:02<00:06, 291.16it/s]"
     ]
    },
    {
     "name": "stdout",
     "output_type": "stream",
     "text": [
      "torch.Size([128, 2, 2])\n",
      "tensor(0) tensor([0.5713, 0.4287], dtype=torch.float64)\n",
      "torch.Size([128, 2, 2])\n",
      "tensor(1) tensor([0.3431, 0.6569], dtype=torch.float64)\n",
      "torch.Size([128, 2, 2])\n",
      "tensor(1) tensor([0.3686, 0.6314], dtype=torch.float64)\n",
      "torch.Size([128, 2, 2])\n",
      "tensor(0) tensor([0.5385, 0.4615], dtype=torch.float64)\n",
      "torch.Size([128, 2, 2])\n",
      "tensor(1) tensor([0.4909, 0.5091], dtype=torch.float64)\n",
      "torch.Size([128, 2, 2])\n",
      "tensor(1) tensor([0.3446, 0.6554], dtype=torch.float64)\n",
      "torch.Size([128, 2, 2])\n",
      "tensor(1) tensor([0.3422, 0.6578], dtype=torch.float64)\n",
      "torch.Size([128, 2, 2])\n",
      "tensor(1) tensor([0.4391, 0.5609], dtype=torch.float64)\n",
      "torch.Size([128, 2, 2])\n",
      "tensor(0) tensor([0.6903, 0.3097], dtype=torch.float64)\n",
      "torch.Size([128, 2, 2])\n",
      "tensor(1) tensor([0.5496, 0.4504], dtype=torch.float64)\n",
      "torch.Size([128, 2, 2])\n",
      "tensor(0) tensor([0.7724, 0.2276], dtype=torch.float64)\n",
      "torch.Size([128, 2, 2])\n",
      "tensor(0) tensor([0.5251, 0.4749], dtype=torch.float64)\n",
      "torch.Size([128, 2, 2])\n",
      "tensor(0) tensor([0.5674, 0.4326], dtype=torch.float64)\n",
      "torch.Size([128, 2, 2])\n",
      "tensor(0) tensor([0.5390, 0.4610], dtype=torch.float64)\n",
      "torch.Size([128, 2, 2])\n",
      "tensor(0) tensor([0.4075, 0.5925], dtype=torch.float64)\n",
      "torch.Size([128, 2, 2])\n",
      "tensor(1) tensor([0.3771, 0.6229], dtype=torch.float64)\n",
      "torch.Size([128, 2, 2])\n",
      "tensor(1) tensor([0.5883, 0.4117], dtype=torch.float64)\n",
      "torch.Size([128, 2, 2])\n",
      "tensor(0) tensor([0.2813, 0.7187], dtype=torch.float64)\n",
      "torch.Size([128, 2, 2])\n",
      "tensor(0) tensor([0.6029, 0.3971], dtype=torch.float64)\n",
      "torch.Size([128, 2, 2])\n",
      "tensor(1) tensor([0.2482, 0.7518], dtype=torch.float64)\n",
      "torch.Size([128, 2, 2])\n",
      "tensor(0) tensor([0.7716, 0.2284], dtype=torch.float64)\n",
      "torch.Size([128, 2, 2])\n",
      "tensor(0) tensor([0.5689, 0.4311], dtype=torch.float64)\n",
      "torch.Size([128, 2, 2])\n",
      "tensor(1) tensor([0.4684, 0.5316], dtype=torch.float64)\n",
      "torch.Size([128, 2, 2])\n",
      "tensor(1) tensor([0.5592, 0.4408], dtype=torch.float64)\n",
      "torch.Size([128, 2, 2])\n",
      "tensor(0) tensor([0.5638, 0.4362], dtype=torch.float64)\n",
      "torch.Size([128, 2, 2])\n",
      "tensor(1) tensor([0.4165, 0.5835], dtype=torch.float64)\n",
      "torch.Size([128, 2, 2])\n",
      "tensor(1) tensor([0.6592, 0.3408], dtype=torch.float64)\n",
      "torch.Size([128, 2, 2])\n",
      "tensor(0) tensor([0.4817, 0.5183], dtype=torch.float64)\n",
      "torch.Size([128, 2, 2])\n",
      "tensor(1) tensor([0.6113, 0.3887], dtype=torch.float64)\n",
      "torch.Size([128, 2, 2])\n",
      "tensor(1) tensor([0.3829, 0.6171], dtype=torch.float64)\n",
      "torch.Size([128, 2, 2])\n",
      "tensor(1) tensor([0.5637, 0.4363], dtype=torch.float64)\n",
      "torch.Size([128, 2, 2])\n",
      "tensor(0) tensor([0.4357, 0.5643], dtype=torch.float64)\n",
      "torch.Size([128, 2, 2])\n",
      "tensor(0) tensor([0.5391, 0.4609], dtype=torch.float64)\n",
      "torch.Size([128, 2, 2])\n",
      "tensor(1) tensor([0.4097, 0.5903], dtype=torch.float64)\n",
      "torch.Size([128, 2, 2])\n",
      "tensor(1) tensor([0.5492, 0.4508], dtype=torch.float64)\n",
      "torch.Size([128, 2, 2])\n",
      "tensor(1) tensor([0.5377, 0.4623], dtype=torch.float64)\n",
      "torch.Size([128, 2, 2])\n",
      "tensor(1) tensor([0.3560, 0.6440], dtype=torch.float64)\n",
      "torch.Size([128, 2, 2])\n",
      "tensor(0) tensor([0.5717, 0.4283], dtype=torch.float64)\n",
      "torch.Size([128, 2, 2])\n",
      "tensor(1) tensor([0.3728, 0.6272], dtype=torch.float64)\n",
      "torch.Size([128, 2, 2])\n",
      "tensor(0) tensor([0.6390, 0.3610], dtype=torch.float64)\n",
      "torch.Size([128, 2, 2])\n",
      "tensor(1) tensor([0.3099, 0.6901], dtype=torch.float64)\n",
      "torch.Size([128, 2, 2])\n",
      "tensor(1) tensor([0.5202, 0.4798], dtype=torch.float64)\n",
      "torch.Size([128, 2, 2])\n",
      "tensor(1) tensor([0.6161, 0.3839], dtype=torch.float64)\n",
      "torch.Size([128, 2, 2])\n",
      "tensor(1) tensor([0.3145, 0.6855], dtype=torch.float64)\n",
      "torch.Size([128, 2, 2])\n",
      "tensor(0) tensor([0.6761, 0.3239], dtype=torch.float64)\n",
      "torch.Size([128, 2, 2])\n",
      "tensor(1) tensor([0.4395, 0.5605], dtype=torch.float64)\n",
      "torch.Size([128, 2, 2])\n",
      "tensor(1) tensor([0.4453, 0.5547], dtype=torch.float64)\n",
      "torch.Size([128, 2, 2])\n",
      "tensor(0) tensor([0.4359, 0.5641], dtype=torch.float64)\n",
      "torch.Size([128, 2, 2])\n",
      "tensor(1) tensor([0.5807, 0.4193], dtype=torch.float64)\n",
      "torch.Size([128, 2, 2])\n",
      "tensor(1) tensor([0.4655, 0.5345], dtype=torch.float64)\n",
      "torch.Size([128, 2, 2])\n",
      "tensor(1) tensor([0.4775, 0.5225], dtype=torch.float64)\n",
      "torch.Size([128, 2, 2])\n",
      "tensor(0) tensor([0.6361, 0.3639], dtype=torch.float64)\n",
      "torch.Size([128, 2, 2])\n",
      "tensor(0) tensor([0.4070, 0.5930], dtype=torch.float64)\n",
      "torch.Size([128, 2, 2])\n",
      "tensor(0) tensor([0.4900, 0.5100], dtype=torch.float64)\n",
      "torch.Size([128, 2, 2])\n",
      "tensor(1) tensor([0.5323, 0.4677], dtype=torch.float64)\n",
      "torch.Size([128, 2, 2])\n",
      "tensor(0) tensor([0.6304, 0.3696], dtype=torch.float64)\n",
      "torch.Size([128, 2, 2])\n",
      "tensor(0) tensor([0.5758, 0.4242], dtype=torch.float64)\n",
      "torch.Size([128, 2, 2])\n",
      "tensor(0) tensor([0.6818, 0.3182], dtype=torch.float64)\n",
      "torch.Size([128, 2, 2])\n",
      "tensor(1) tensor([0.4266, 0.5734], dtype=torch.float64)\n",
      "torch.Size([128, 2, 2])\n",
      "tensor(1) "
     ]
    },
    {
     "name": "stderr",
     "output_type": "stream",
     "text": [
      " 27%|██▋       | 674/2494 [00:02<00:06, 282.67it/s]"
     ]
    },
    {
     "name": "stdout",
     "output_type": "stream",
     "text": [
      "tensor([0.2951, 0.7049], dtype=torch.float64)\n",
      "torch.Size([128, 2, 2])\n",
      "tensor(1) tensor([0.7445, 0.2555], dtype=torch.float64)\n",
      "torch.Size([128, 2, 2])\n",
      "tensor(1) tensor([0.3417, 0.6583], dtype=torch.float64)\n",
      "torch.Size([128, 2, 2])\n",
      "tensor(1) tensor([0.4006, 0.5994], dtype=torch.float64)\n",
      "torch.Size([128, 2, 2])\n",
      "tensor(1) tensor([0.7302, 0.2698], dtype=torch.float64)\n",
      "torch.Size([128, 2, 2])\n",
      "tensor(1) tensor([0.5009, 0.4991], dtype=torch.float64)\n",
      "torch.Size([128, 2, 2])\n",
      "tensor(0) tensor([0.5383, 0.4617], dtype=torch.float64)\n",
      "torch.Size([128, 2, 2])\n",
      "tensor(0) tensor([0.5779, 0.4221], dtype=torch.float64)\n",
      "torch.Size([128, 2, 2])\n",
      "tensor(0) tensor([0.5435, 0.4565], dtype=torch.float64)\n",
      "torch.Size([128, 2, 2])\n",
      "tensor(0) tensor([0.3478, 0.6522], dtype=torch.float64)\n",
      "torch.Size([128, 2, 2])\n",
      "tensor(0) tensor([0.7725, 0.2275], dtype=torch.float64)\n",
      "torch.Size([128, 2, 2])\n",
      "tensor(0) tensor([0.7605, 0.2395], dtype=torch.float64)\n",
      "torch.Size([128, 2, 2])\n",
      "tensor(1) tensor([0.6980, 0.3020], dtype=torch.float64)\n",
      "torch.Size([128, 2, 2])\n",
      "tensor(1) tensor([0.5798, 0.4202], dtype=torch.float64)\n",
      "torch.Size([128, 2, 2])\n",
      "tensor(1) tensor([0.3428, 0.6572], dtype=torch.float64)\n",
      "torch.Size([128, 2, 2])\n",
      "tensor(0) tensor([0.5220, 0.4780], dtype=torch.float64)\n",
      "torch.Size([128, 2, 2])\n",
      "tensor(1) tensor([0.2832, 0.7168], dtype=torch.float64)\n",
      "torch.Size([128, 2, 2])\n",
      "tensor(1) tensor([0.4183, 0.5817], dtype=torch.float64)\n",
      "torch.Size([128, 2, 2])\n",
      "tensor(1) tensor([0.5890, 0.4110], dtype=torch.float64)\n",
      "torch.Size([128, 2, 2])\n",
      "tensor(1) tensor([0.5262, 0.4738], dtype=torch.float64)\n",
      "torch.Size([128, 2, 2])\n",
      "tensor(1) tensor([0.4734, 0.5266], dtype=torch.float64)\n",
      "torch.Size([128, 2, 2])\n",
      "tensor(1) tensor([0.6589, 0.3411], dtype=torch.float64)\n",
      "torch.Size([128, 2, 2])\n",
      "tensor(0) tensor([0.7484, 0.2516], dtype=torch.float64)\n",
      "torch.Size([128, 2, 2])\n",
      "tensor(0) tensor([0.7417, 0.2583], dtype=torch.float64)\n",
      "torch.Size([128, 2, 2])\n",
      "tensor(0) tensor([0.4188, 0.5812], dtype=torch.float64)\n",
      "torch.Size([128, 2, 2])\n",
      "tensor(0) tensor([0.5771, 0.4229], dtype=torch.float64)\n",
      "torch.Size([128, 2, 2])\n",
      "tensor(1) tensor([0.4650, 0.5350], dtype=torch.float64)\n",
      "torch.Size([128, 2, 2])\n",
      "tensor(1) tensor([0.3597, 0.6403], dtype=torch.float64)\n",
      "torch.Size([128, 2, 2])\n",
      "tensor(0) tensor([0.5997, 0.4003], dtype=torch.float64)\n",
      "torch.Size([128, 2, 2])\n",
      "tensor(1) tensor([0.6425, 0.3575], dtype=torch.float64)\n",
      "torch.Size([128, 2, 2])\n",
      "tensor(1) tensor([0.7074, 0.2926], dtype=torch.float64)\n",
      "torch.Size([128, 2, 2])\n",
      "tensor(1) tensor([0.5611, 0.4389], dtype=torch.float64)\n",
      "torch.Size([128, 2, 2])\n",
      "tensor(1) tensor([0.6050, 0.3950], dtype=torch.float64)\n",
      "torch.Size([128, 2, 2])\n",
      "tensor(0) tensor([0.7080, 0.2920], dtype=torch.float64)\n",
      "torch.Size([128, 2, 2])\n",
      "tensor(0) tensor([0.4292, 0.5708], dtype=torch.float64)\n",
      "torch.Size([128, 2, 2])\n",
      "tensor(0) tensor([0.4494, 0.5506], dtype=torch.float64)\n",
      "torch.Size([128, 2, 2])\n",
      "tensor(0) tensor([0.4233, 0.5767], dtype=torch.float64)\n",
      "torch.Size([128, 2, 2])\n",
      "tensor(1) tensor([0.5001, 0.4999], dtype=torch.float64)\n",
      "torch.Size([128, 2, 2])\n",
      "tensor(1) tensor([0.5274, 0.4726], dtype=torch.float64)\n",
      "torch.Size([128, 2, 2])\n",
      "tensor(1) tensor([0.5701, 0.4299], dtype=torch.float64)\n",
      "torch.Size([128, 2, 2])\n",
      "tensor(0) tensor([0.7346, 0.2654], dtype=torch.float64)\n",
      "torch.Size([128, 2, 2])\n",
      "tensor(0) tensor([0.8087, 0.1913], dtype=torch.float64)\n",
      "torch.Size([128, 2, 2])\n",
      "tensor(1) tensor([0.5180, 0.4820], dtype=torch.float64)\n",
      "torch.Size([128, 2, 2])\n",
      "tensor(1) tensor([0.3266, 0.6734], dtype=torch.float64)\n",
      "torch.Size([128, 2, 2])\n",
      "tensor(1) tensor([0.6842, 0.3158], dtype=torch.float64)\n",
      "torch.Size([128, 2, 2])\n",
      "tensor(0) tensor([0.7099, 0.2901], dtype=torch.float64)\n",
      "torch.Size([128, 2, 2])\n",
      "tensor(1) tensor([0.4942, 0.5058], dtype=torch.float64)\n",
      "torch.Size([128, 2, 2])\n",
      "tensor(0) tensor([0.7967, 0.2033], dtype=torch.float64)\n",
      "torch.Size([128, 2, 2])\n",
      "tensor(1) tensor([0.8405, 0.1595], dtype=torch.float64)\n",
      "torch.Size([128, 2, 2])\n",
      "tensor(1) tensor([0.4918, 0.5082], dtype=torch.float64)\n",
      "torch.Size([128, 2, 2])\n",
      "tensor(1) tensor([0.5003, 0.4997], dtype=torch.float64)\n",
      "torch.Size([128, 2, 2])\n",
      "tensor(0) tensor([0.5730, 0.4270], dtype=torch.float64)\n",
      "torch.Size([128, 2, 2])\n",
      "tensor(0) tensor([0.6734, 0.3266], dtype=torch.float64)\n",
      "torch.Size([128, 2, 2])\n",
      "tensor(0) tensor([0.6281, 0.3719], dtype=torch.float64)\n"
     ]
    },
    {
     "name": "stderr",
     "output_type": "stream",
     "text": [
      " 29%|██▉       | 731/2494 [00:02<00:06, 266.25it/s]"
     ]
    },
    {
     "name": "stdout",
     "output_type": "stream",
     "text": [
      "torch.Size([128, 2, 2])\n",
      "tensor(0) tensor([0.7837, 0.2163], dtype=torch.float64)\n",
      "torch.Size([128, 2, 2])\n",
      "tensor(0) tensor([0.6703, 0.3297], dtype=torch.float64)\n",
      "torch.Size([128, 2, 2])\n",
      "tensor(0) tensor([0.3874, 0.6126], dtype=torch.float64)\n",
      "torch.Size([128, 2, 2])\n",
      "tensor(1) tensor([0.5392, 0.4608], dtype=torch.float64)\n",
      "torch.Size([128, 2, 2])\n",
      "tensor(1) tensor([0.5236, 0.4764], dtype=torch.float64)\n",
      "torch.Size([128, 2, 2])\n",
      "tensor(1) tensor([0.7152, 0.2848], dtype=torch.float64)\n",
      "torch.Size([128, 2, 2])\n",
      "tensor(0) tensor([0.5323, 0.4677], dtype=torch.float64)\n",
      "torch.Size([128, 2, 2])\n",
      "tensor(0) tensor([0.8144, 0.1856], dtype=torch.float64)\n",
      "torch.Size([128, 2, 2])\n",
      "tensor(1) tensor([0.5651, 0.4349], dtype=torch.float64)\n",
      "torch.Size([128, 2, 2])\n",
      "tensor(0) tensor([0.5961, 0.4039], dtype=torch.float64)\n",
      "torch.Size([128, 2, 2])\n",
      "tensor(1) tensor([0.3722, 0.6278], dtype=torch.float64)\n",
      "torch.Size([128, 2, 2])\n",
      "tensor(1) tensor([0.4173, 0.5827], dtype=torch.float64)\n",
      "torch.Size([128, 2, 2])\n",
      "tensor(1) tensor([0.4082, 0.5918], dtype=torch.float64)\n",
      "torch.Size([128, 2, 2])\n",
      "tensor(1) tensor([0.6048, 0.3952], dtype=torch.float64)\n",
      "torch.Size([128, 2, 2])\n",
      "tensor(0) tensor([0.6081, 0.3919], dtype=torch.float64)\n",
      "torch.Size([128, 2, 2])\n",
      "tensor(1) tensor([0.3228, 0.6772], dtype=torch.float64)\n",
      "torch.Size([128, 2, 2])\n",
      "tensor(1) tensor([0.5270, 0.4730], dtype=torch.float64)\n",
      "torch.Size([128, 2, 2])\n",
      "tensor(0) tensor([0.8114, 0.1886], dtype=torch.float64)\n",
      "torch.Size([128, 2, 2])\n",
      "tensor(1) tensor([0.3495, 0.6505], dtype=torch.float64)\n",
      "torch.Size([128, 2, 2])\n",
      "tensor(1) tensor([0.4417, 0.5583], dtype=torch.float64)\n",
      "torch.Size([128, 2, 2])\n",
      "tensor(0) tensor([0.3519, 0.6481], dtype=torch.float64)\n",
      "torch.Size([128, 2, 2])\n",
      "tensor(1) tensor([0.5153, 0.4847], dtype=torch.float64)\n",
      "torch.Size([128, 2, 2])\n",
      "tensor(0) tensor([0.6180, 0.3820], dtype=torch.float64)\n",
      "torch.Size([128, 2, 2])\n",
      "tensor(1) tensor([0.5918, 0.4082], dtype=torch.float64)\n",
      "torch.Size([128, 2, 2])\n",
      "tensor(0) tensor([0.6200, 0.3800], dtype=torch.float64)\n",
      "torch.Size([128, 2, 2])\n",
      "tensor(1) tensor([0.3972, 0.6028], dtype=torch.float64)\n",
      "torch.Size([128, 2, 2])\n",
      "tensor(0) tensor([0.4473, 0.5527], dtype=torch.float64)\n",
      "torch.Size([128, 2, 2])\n",
      "tensor(0) tensor([0.5175, 0.4825], dtype=torch.float64)\n",
      "torch.Size([128, 2, 2])\n",
      "tensor(0) tensor([0.7530, 0.2470], dtype=torch.float64)\n",
      "torch.Size([128, 2, 2])\n",
      "tensor(0) tensor([0.5973, 0.4027], dtype=torch.float64)\n",
      "torch.Size([128, 2, 2])\n",
      "tensor(0) tensor([0.5589, 0.4411], dtype=torch.float64)\n",
      "torch.Size([128, 2, 2])\n",
      "tensor(1) tensor([0.4047, 0.5953], dtype=torch.float64)\n",
      "torch.Size([128, 2, 2])\n",
      "tensor(0) tensor([0.5609, 0.4391], dtype=torch.float64)\n",
      "torch.Size([128, 2, 2])\n",
      "tensor(1) tensor([0.4952, 0.5048], dtype=torch.float64)\n",
      "torch.Size([128, 2, 2])\n",
      "tensor(0) tensor([0.2638, 0.7362], dtype=torch.float64)\n",
      "torch.Size([128, 2, 2])\n",
      "tensor(0) tensor([0.4915, 0.5085], dtype=torch.float64)\n",
      "torch.Size([128, 2, 2])\n",
      "tensor(0) tensor([0.7314, 0.2686], dtype=torch.float64)\n",
      "torch.Size([128, 2, 2])\n",
      "tensor(1) tensor([0.4875, 0.5125], dtype=torch.float64)\n",
      "torch.Size([128, 2, 2])\n",
      "tensor(0) tensor([0.7699, 0.2301], dtype=torch.float64)\n",
      "torch.Size([128, 2, 2])\n",
      "tensor(0) tensor([0.5163, 0.4837], dtype=torch.float64)\n",
      "torch.Size([128, 2, 2])\n",
      "tensor(1) tensor([0.5446, 0.4554], dtype=torch.float64)\n",
      "torch.Size([128, 2, 2])\n",
      "tensor(1) tensor([0.5548, 0.4452], dtype=torch.float64)\n",
      "torch.Size([128, 2, 2])\n",
      "tensor(1) tensor([0.7067, 0.2933], dtype=torch.float64)\n",
      "torch.Size([128, 2, 2])\n",
      "tensor(0) tensor([0.4915, 0.5085], dtype=torch.float64)\n",
      "torch.Size([128, 2, 2])\n",
      "tensor(0) tensor([0.7912, 0.2088], dtype=torch.float64)\n",
      "torch.Size([128, 2, 2])\n",
      "tensor(1) tensor([0.4767, 0.5233], dtype=torch.float64)\n",
      "torch.Size([128, 2, 2])\n",
      "tensor(1) tensor([0.6681, 0.3319], dtype=torch.float64)\n",
      "torch.Size([128, 2, 2])\n",
      "tensor(1) tensor([0.3884, 0.6116], dtype=torch.float64)\n",
      "torch.Size([128, 2, 2])\n",
      "tensor(0) tensor([0.8278, 0.1722], dtype=torch.float64)\n",
      "torch.Size([128, 2, 2])\n",
      "tensor(0) tensor([0.5636, 0.4364], dtype=torch.float64)\n",
      "torch.Size([128, 2, 2])\n",
      "tensor(0) tensor([0.5331, 0.4669], dtype=torch.float64)\n",
      "torch.Size([128, 2, 2])\n"
     ]
    },
    {
     "name": "stderr",
     "output_type": "stream",
     "text": [
      " 32%|███▏      | 791/2494 [00:02<00:06, 280.18it/s]"
     ]
    },
    {
     "name": "stdout",
     "output_type": "stream",
     "text": [
      "tensor(0) tensor([0.5851, 0.4149], dtype=torch.float64)\n",
      "torch.Size([128, 2, 2])\n",
      "tensor(1) tensor([0.6510, 0.3490], dtype=torch.float64)\n",
      "torch.Size([128, 2, 2])\n",
      "tensor(1) tensor([0.4067, 0.5933], dtype=torch.float64)\n",
      "torch.Size([128, 2, 2])\n",
      "tensor(1) tensor([0.5058, 0.4942], dtype=torch.float64)\n",
      "torch.Size([128, 2, 2])\n",
      "tensor(0) tensor([0.3697, 0.6303], dtype=torch.float64)\n",
      "torch.Size([128, 2, 2])\n",
      "tensor(1) tensor([0.2718, 0.7282], dtype=torch.float64)\n",
      "torch.Size([128, 2, 2])\n",
      "tensor(0) tensor([0.7185, 0.2815], dtype=torch.float64)\n",
      "torch.Size([128, 2, 2])\n",
      "tensor(1) tensor([0.7845, 0.2155], dtype=torch.float64)\n",
      "torch.Size([128, 2, 2])\n",
      "tensor(0) tensor([0.3779, 0.6221], dtype=torch.float64)\n",
      "torch.Size([128, 2, 2])\n",
      "tensor(1) tensor([0.4186, 0.5814], dtype=torch.float64)\n",
      "torch.Size([128, 2, 2])\n",
      "tensor(0) tensor([0.7696, 0.2304], dtype=torch.float64)\n",
      "torch.Size([128, 2, 2])\n",
      "tensor(0) tensor([0.4931, 0.5069], dtype=torch.float64)\n",
      "torch.Size([128, 2, 2])\n",
      "tensor(0) tensor([0.4827, 0.5173], dtype=torch.float64)\n",
      "torch.Size([128, 2, 2])\n",
      "tensor(1) tensor([0.5542, 0.4458], dtype=torch.float64)\n",
      "torch.Size([128, 2, 2])\n",
      "tensor(1) tensor([0.4050, 0.5950], dtype=torch.float64)\n",
      "torch.Size([128, 2, 2])\n",
      "tensor(1) tensor([0.4665, 0.5335], dtype=torch.float64)\n",
      "torch.Size([128, 2, 2])\n",
      "tensor(1) tensor([0.3830, 0.6170], dtype=torch.float64)\n",
      "torch.Size([128, 2, 2])\n",
      "tensor(1) tensor([0.7104, 0.2896], dtype=torch.float64)\n",
      "torch.Size([128, 2, 2])\n",
      "tensor(1) tensor([0.4320, 0.5680], dtype=torch.float64)\n",
      "torch.Size([128, 2, 2])\n",
      "tensor(0) tensor([0.7913, 0.2087], dtype=torch.float64)\n",
      "torch.Size([128, 2, 2])\n",
      "tensor(1) tensor([0.4388, 0.5612], dtype=torch.float64)\n",
      "torch.Size([128, 2, 2])\n",
      "tensor(0) tensor([0.6129, 0.3871], dtype=torch.float64)\n",
      "torch.Size([128, 2, 2])\n",
      "tensor(1) tensor([0.2146, 0.7854], dtype=torch.float64)\n",
      "torch.Size([128, 2, 2])\n",
      "tensor(0) tensor([0.7836, 0.2164], dtype=torch.float64)\n",
      "torch.Size([128, 2, 2])\n",
      "tensor(0) tensor([0.6247, 0.3753], dtype=torch.float64)\n",
      "torch.Size([128, 2, 2])\n",
      "tensor(0) tensor([0.6524, 0.3476], dtype=torch.float64)\n",
      "torch.Size([128, 2, 2])\n",
      "tensor(0) tensor([0.8083, 0.1917], dtype=torch.float64)\n",
      "torch.Size([128, 2, 2])\n",
      "tensor(0) tensor([0.3930, 0.6070], dtype=torch.float64)\n",
      "torch.Size([128, 2, 2])\n",
      "tensor(0) tensor([0.8071, 0.1929], dtype=torch.float64)\n",
      "torch.Size([128, 2, 2])\n",
      "tensor(1) tensor([0.7050, 0.2950], dtype=torch.float64)\n",
      "torch.Size([128, 2, 2])\n",
      "tensor(1) tensor([0.5791, 0.4209], dtype=torch.float64)\n",
      "torch.Size([128, 2, 2])\n",
      "tensor(0) tensor([0.7550, 0.2450], dtype=torch.float64)\n",
      "torch.Size([128, 2, 2])\n",
      "tensor(0) tensor([0.5659, 0.4341], dtype=torch.float64)\n",
      "torch.Size([128, 2, 2])\n",
      "tensor(1) tensor([0.5655, 0.4345], dtype=torch.float64)\n",
      "torch.Size([128, 2, 2])\n",
      "tensor(1) tensor([0.5898, 0.4102], dtype=torch.float64)\n",
      "torch.Size([128, 2, 2])\n",
      "tensor(1) tensor([0.3817, 0.6183], dtype=torch.float64)\n",
      "torch.Size([128, 2, 2])\n",
      "tensor(0) tensor([0.4273, 0.5727], dtype=torch.float64)\n",
      "torch.Size([128, 2, 2])\n",
      "tensor(1) tensor([0.3910, 0.6090], dtype=torch.float64)\n",
      "torch.Size([128, 2, 2])\n",
      "tensor(0) tensor([0.7354, 0.2646], dtype=torch.float64)\n",
      "torch.Size([128, 2, 2])\n",
      "tensor(1) tensor([0.6621, 0.3379], dtype=torch.float64)\n",
      "torch.Size([128, 2, 2])\n",
      "tensor(0) tensor([0.4772, 0.5228], dtype=torch.float64)\n",
      "torch.Size([128, 2, 2])\n",
      "tensor(1) tensor([0.4857, 0.5143], dtype=torch.float64)\n",
      "torch.Size([128, 2, 2])\n",
      "tensor(1) tensor([0.5973, 0.4027], dtype=torch.float64)\n",
      "torch.Size([128, 2, 2])\n",
      "tensor(1) tensor([0.1892, 0.8108], dtype=torch.float64)\n",
      "torch.Size([128, 2, 2])\n",
      "tensor(1) tensor([0.4938, 0.5062], dtype=torch.float64)\n",
      "torch.Size([128, 2, 2])\n",
      "tensor(1) tensor([0.5605, 0.4395], dtype=torch.float64)\n",
      "torch.Size([128, 2, 2])\n",
      "tensor(1) tensor([0.5627, 0.4373], dtype=torch.float64)\n",
      "torch.Size([128, 2, 2])\n",
      "tensor(0) tensor([0.4357, 0.5643], dtype=torch.float64)\n",
      "torch.Size([128, 2, 2])\n",
      "tensor(1) tensor([0.4798, 0.5202], dtype=torch.float64)\n",
      "torch.Size([128, 2, 2])\n",
      "tensor(1) tensor([0.3586, 0.6414], dtype=torch.float64)\n",
      "torch.Size([128, 2, 2])\n",
      "tensor(1) tensor([0.6014, 0.3986], dtype=torch.float64)\n",
      "torch.Size([128, 2, 2])\n",
      "tensor(1) tensor([0.5074, 0.4926], dtype=torch.float64)\n",
      "torch.Size([128, 2, 2])\n",
      "tensor(1) tensor([0.5257, 0.4743], dtype=torch.float64)\n",
      "torch.Size([128, 2, 2])\n",
      "tensor(1) tensor([0.5093, 0.4907], dtype=torch.float64)\n",
      "torch.Size([128, 2, 2])\n",
      "tensor(1) tensor([0.4012, 0.5988], dtype=torch.float64)\n",
      "torch.Size([128, 2, 2])\n",
      "tensor(1) tensor([0.5822, 0.4178], dtype=torch.float64)\n",
      "torch.Size([128, 2, 2])\n",
      "tensor(0) tensor([0.4806, 0.5194], dtype=torch.float64)\n",
      "torch.Size([128, 2, 2])\n",
      "tensor(1) tensor([0.6507, 0.3493], dtype=torch.float64)\n",
      "torch.Size([128, 2, 2])\n",
      "tensor(0) tensor([0.7221, 0.2779], dtype=torch.float64)\n",
      "torch.Size([128, 2, 2])\n",
      "tensor(1) tensor([0.3955, 0.6045], dtype=torch.float64)\n"
     ]
    },
    {
     "name": "stderr",
     "output_type": "stream",
     "text": [
      " 34%|███▍      | 852/2494 [00:03<00:05, 288.73it/s]"
     ]
    },
    {
     "name": "stdout",
     "output_type": "stream",
     "text": [
      "torch.Size([128, 2, 2])\n",
      "tensor(0) tensor([0.5800, 0.4200], dtype=torch.float64)\n",
      "torch.Size([128, 2, 2])\n",
      "tensor(1) tensor([0.3656, 0.6344], dtype=torch.float64)\n",
      "torch.Size([128, 2, 2])\n",
      "tensor(0) tensor([0.5997, 0.4003], dtype=torch.float64)\n",
      "torch.Size([128, 2, 2])\n",
      "tensor(1) tensor([0.4468, 0.5532], dtype=torch.float64)\n",
      "torch.Size([128, 2, 2])\n",
      "tensor(1) tensor([0.5846, 0.4154], dtype=torch.float64)\n",
      "torch.Size([128, 2, 2])\n",
      "tensor(0) tensor([0.7252, 0.2748], dtype=torch.float64)\n",
      "torch.Size([128, 2, 2])\n",
      "tensor(1) tensor([0.6431, 0.3569], dtype=torch.float64)\n",
      "torch.Size([128, 2, 2])\n",
      "tensor(1) tensor([0.3303, 0.6697], dtype=torch.float64)\n",
      "torch.Size([128, 2, 2])\n",
      "tensor(0) tensor([0.7015, 0.2985], dtype=torch.float64)\n",
      "torch.Size([128, 2, 2])\n",
      "tensor(1) tensor([0.2580, 0.7420], dtype=torch.float64)\n",
      "torch.Size([128, 2, 2])\n",
      "tensor(0) tensor([0.5621, 0.4379], dtype=torch.float64)\n",
      "torch.Size([128, 2, 2])\n",
      "tensor(1) tensor([0.5789, 0.4211], dtype=torch.float64)\n",
      "torch.Size([128, 2, 2])\n",
      "tensor(1) tensor([0.5004, 0.4996], dtype=torch.float64)\n",
      "torch.Size([128, 2, 2])\n",
      "tensor(1) tensor([0.2807, 0.7193], dtype=torch.float64)\n",
      "torch.Size([128, 2, 2])\n",
      "tensor(1) tensor([0.4008, 0.5992], dtype=torch.float64)\n",
      "torch.Size([128, 2, 2])\n",
      "tensor(0) tensor([0.6322, 0.3678], dtype=torch.float64)\n",
      "torch.Size([128, 2, 2])\n",
      "tensor(0) tensor([0.6461, 0.3539], dtype=torch.float64)\n",
      "torch.Size([128, 2, 2])\n",
      "tensor(0) tensor([0.7893, 0.2107], dtype=torch.float64)\n",
      "torch.Size([128, 2, 2])\n",
      "tensor(0) tensor([0.7156, 0.2844], dtype=torch.float64)\n",
      "torch.Size([128, 2, 2])\n",
      "tensor(1) tensor([0.2686, 0.7314], dtype=torch.float64)\n",
      "torch.Size([128, 2, 2])\n",
      "tensor(0) tensor([0.7205, 0.2795], dtype=torch.float64)\n",
      "torch.Size([128, 2, 2])\n",
      "tensor(0) tensor([0.5633, 0.4367], dtype=torch.float64)\n",
      "torch.Size([128, 2, 2])\n",
      "tensor(0) tensor([0.6438, 0.3562], dtype=torch.float64)\n",
      "torch.Size([128, 2, 2])\n",
      "tensor(1) tensor([0.4518, 0.5482], dtype=torch.float64)\n",
      "torch.Size([128, 2, 2])\n",
      "tensor(1) tensor([0.7406, 0.2594], dtype=torch.float64)\n",
      "torch.Size([128, 2, 2])\n",
      "tensor(1) tensor([0.6522, 0.3478], dtype=torch.float64)\n",
      "torch.Size([128, 2, 2])\n",
      "tensor(1) tensor([0.5493, 0.4507], dtype=torch.float64)\n",
      "torch.Size([128, 2, 2])\n",
      "tensor(0) tensor([0.7558, 0.2442], dtype=torch.float64)\n",
      "torch.Size([128, 2, 2])\n",
      "tensor(1) tensor([0.4005, 0.5995], dtype=torch.float64)\n",
      "torch.Size([128, 2, 2])\n",
      "tensor(0) tensor([0.5159, 0.4841], dtype=torch.float64)\n",
      "torch.Size([128, 2, 2])\n",
      "tensor(0) tensor([0.3337, 0.6663], dtype=torch.float64)\n",
      "torch.Size([128, 2, 2])\n",
      "tensor(1) tensor([0.6633, 0.3367], dtype=torch.float64)\n",
      "torch.Size([128, 2, 2])\n",
      "tensor(0) tensor([0.7861, 0.2139], dtype=torch.float64)\n",
      "torch.Size([128, 2, 2])\n",
      "tensor(1) tensor([0.6189, 0.3811], dtype=torch.float64)\n",
      "torch.Size([128, 2, 2])\n",
      "tensor(1) tensor([0.6421, 0.3579], dtype=torch.float64)\n",
      "torch.Size([128, 2, 2])\n",
      "tensor(0) tensor([0.4286, 0.5714], dtype=torch.float64)\n",
      "torch.Size([128, 2, 2])\n",
      "tensor(0) tensor([0.4691, 0.5309], dtype=torch.float64)\n",
      "torch.Size([128, 2, 2])\n",
      "tensor(1) tensor([0.5074, 0.4926], dtype=torch.float64)\n",
      "torch.Size([128, 2, 2])\n",
      "tensor(0) tensor([0.7562, 0.2438], dtype=torch.float64)\n",
      "torch.Size([128, 2, 2])\n",
      "tensor(1) tensor([0.4186, 0.5814], dtype=torch.float64)\n",
      "torch.Size([128, 2, 2])\n",
      "tensor(0) tensor([0.4495, 0.5505], dtype=torch.float64)\n",
      "torch.Size([128, 2, 2])\n",
      "tensor(0) tensor([0.4365, 0.5635], dtype=torch.float64)\n",
      "torch.Size([128, 2, 2])\n",
      "tensor(1) tensor([0.5149, 0.4851], dtype=torch.float64)\n",
      "torch.Size([128, 2, 2])\n",
      "tensor(1) tensor([0.4577, 0.5423], dtype=torch.float64)\n",
      "torch.Size([128, 2, 2])\n",
      "tensor(1) tensor([0.7199, 0.2801], dtype=torch.float64)\n",
      "torch.Size([128, 2, 2])\n",
      "tensor(0) tensor([0.6810, 0.3190], dtype=torch.float64)\n",
      "torch.Size([128, 2, 2])\n",
      "tensor(0) tensor([0.6504, 0.3496], dtype=torch.float64)\n",
      "torch.Size([128, 2, 2])\n",
      "tensor(0) tensor([0.5338, 0.4662], dtype=torch.float64)\n",
      "torch.Size([128, 2, 2])\n",
      "tensor(1) tensor([0.5478, 0.4522], dtype=torch.float64)\n",
      "torch.Size([128, 2, 2])\n",
      "tensor(0) tensor([0.4062, 0.5938], dtype=torch.float64)\n",
      "torch.Size([128, 2, 2])\n",
      "tensor(0) tensor([0.5401, 0.4599], dtype=torch.float64)\n",
      "torch.Size([128, 2, 2])\n",
      "tensor(1) tensor([0.5516, 0.4484], dtype=torch.float64)\n",
      "torch.Size([128, 2, 2])\n",
      "tensor(1) tensor([0.3899, 0.6101], dtype=torch.float64)\n",
      "torch.Size([128, 2, 2])\n",
      "tensor(0) tensor([0.5196, 0.4804], dtype=torch.float64)\n",
      "torch.Size([128, 2, 2])\n",
      "tensor(1) tensor([0.3718, 0.6282], dtype=torch.float64)\n",
      "torch.Size([128, 2, 2])\n",
      "tensor(0) tensor([0.5980, 0.4020], dtype=torch.float64)\n",
      "torch.Size([128, 2, 2])\n",
      "tensor(1) tensor([0.6667, 0.3333], dtype=torch.float64)\n",
      "torch.Size([128, 2, 2])\n",
      "tensor(0) tensor([0.6567, 0.3433], dtype=torch.float64)\n",
      "torch.Size([128, 2, 2])\n",
      "tensor(0) tensor([0.4679, 0.5321], dtype=torch.float64)\n",
      "torch.Size([128, 2, 2])\n",
      "tensor(0) tensor([0.5814, 0.4186], dtype=torch.float64)\n",
      "torch.Size([128, 2, 2])\n"
     ]
    },
    {
     "name": "stderr",
     "output_type": "stream",
     "text": [
      " 37%|███▋      | 912/2494 [00:03<00:05, 291.67it/s]"
     ]
    },
    {
     "name": "stdout",
     "output_type": "stream",
     "text": [
      "tensor(0) tensor([0.5907, 0.4093], dtype=torch.float64)\n",
      "torch.Size([128, 2, 2])\n",
      "tensor(1) tensor([0.4219, 0.5781], dtype=torch.float64)\n",
      "torch.Size([128, 2, 2])\n",
      "tensor(1) tensor([0.4288, 0.5712], dtype=torch.float64)\n",
      "torch.Size([128, 2, 2])\n",
      "tensor(0) tensor([0.4194, 0.5806], dtype=torch.float64)\n",
      "torch.Size([128, 2, 2])\n",
      "tensor(1) tensor([0.7116, 0.2884], dtype=torch.float64)\n",
      "torch.Size([128, 2, 2])\n",
      "tensor(1) tensor([0.3639, 0.6361], dtype=torch.float64)\n",
      "torch.Size([128, 2, 2])\n",
      "tensor(1) tensor([0.3605, 0.6395], dtype=torch.float64)\n",
      "torch.Size([128, 2, 2])\n",
      "tensor(1) tensor([0.5486, 0.4514], dtype=torch.float64)\n",
      "torch.Size([128, 2, 2])\n",
      "tensor(0) tensor([0.5980, 0.4020], dtype=torch.float64)\n",
      "torch.Size([128, 2, 2])\n",
      "tensor(1) tensor([0.4881, 0.5119], dtype=torch.float64)\n",
      "torch.Size([128, 2, 2])\n",
      "tensor(0) tensor([0.6485, 0.3515], dtype=torch.float64)\n",
      "torch.Size([128, 2, 2])\n",
      "tensor(1) tensor([0.3366, 0.6634], dtype=torch.float64)\n",
      "torch.Size([128, 2, 2])\n",
      "tensor(1) tensor([0.5539, 0.4461], dtype=torch.float64)\n",
      "torch.Size([128, 2, 2])\n",
      "tensor(0) tensor([0.7716, 0.2284], dtype=torch.float64)\n",
      "torch.Size([128, 2, 2])\n",
      "tensor(0) tensor([0.5481, 0.4519], dtype=torch.float64)\n",
      "torch.Size([128, 2, 2])\n",
      "tensor(1) tensor([0.4304, 0.5696], dtype=torch.float64)\n",
      "torch.Size([128, 2, 2])\n",
      "tensor(1) tensor([0.4940, 0.5060], dtype=torch.float64)\n",
      "torch.Size([128, 2, 2])\n",
      "tensor(0) tensor([0.6233, 0.3767], dtype=torch.float64)\n",
      "torch.Size([128, 2, 2])\n",
      "tensor(1) tensor([0.6780, 0.3220], dtype=torch.float64)\n",
      "torch.Size([128, 2, 2])\n",
      "tensor(0) tensor([0.7122, 0.2878], dtype=torch.float64)\n",
      "torch.Size([128, 2, 2])\n",
      "tensor(0) tensor([0.2617, 0.7383], dtype=torch.float64)\n",
      "torch.Size([128, 2, 2])\n",
      "tensor(0) tensor([0.5556, 0.4444], dtype=torch.float64)\n",
      "torch.Size([128, 2, 2])\n",
      "tensor(0) tensor([0.6924, 0.3076], dtype=torch.float64)\n",
      "torch.Size([128, 2, 2])\n",
      "tensor(0) tensor([0.6380, 0.3620], dtype=torch.float64)\n",
      "torch.Size([128, 2, 2])\n",
      "tensor(0) tensor([0.7995, 0.2005], dtype=torch.float64)\n",
      "torch.Size([128, 2, 2])\n",
      "tensor(0) tensor([0.6065, 0.3935], dtype=torch.float64)\n",
      "torch.Size([128, 2, 2])\n",
      "tensor(0) tensor([0.7321, 0.2679], dtype=torch.float64)\n",
      "torch.Size([128, 2, 2])\n",
      "tensor(1) tensor([0.5521, 0.4479], dtype=torch.float64)\n",
      "torch.Size([128, 2, 2])\n",
      "tensor(0) tensor([0.6350, 0.3650], dtype=torch.float64)\n",
      "torch.Size([128, 2, 2])\n",
      "tensor(1) tensor([0.6078, 0.3922], dtype=torch.float64)\n",
      "torch.Size([128, 2, 2])\n",
      "tensor(0) tensor([0.5083, 0.4917], dtype=torch.float64)\n",
      "torch.Size([128, 2, 2])\n",
      "tensor(1) tensor([0.5710, 0.4290], dtype=torch.float64)\n",
      "torch.Size([128, 2, 2])\n",
      "tensor(0) tensor([0.6252, 0.3748], dtype=torch.float64)\n",
      "torch.Size([128, 2, 2])\n",
      "tensor(1) tensor([0.4870, 0.5130], dtype=torch.float64)\n",
      "torch.Size([128, 2, 2])\n",
      "tensor(0) tensor([0.7894, 0.2106], dtype=torch.float64)\n",
      "torch.Size([128, 2, 2])\n",
      "tensor(0) tensor([0.5287, 0.4713], dtype=torch.float64)\n",
      "torch.Size([128, 2, 2])\n",
      "tensor(0) tensor([0.6195, 0.3805], dtype=torch.float64)\n",
      "torch.Size([128, 2, 2])\n",
      "tensor(0) tensor([0.5969, 0.4031], dtype=torch.float64)\n",
      "torch.Size([128, 2, 2])\n",
      "tensor(0) tensor([0.5453, 0.4547], dtype=torch.float64)\n",
      "torch.Size([128, 2, 2])\n",
      "tensor(1) tensor([0.4604, 0.5396], dtype=torch.float64)\n",
      "torch.Size([128, 2, 2])\n",
      "tensor(0) tensor([0.5393, 0.4607], dtype=torch.float64)\n",
      "torch.Size([128, 2, 2])\n",
      "tensor(1) tensor([0.4949, 0.5051], dtype=torch.float64)\n",
      "torch.Size([128, 2, 2])\n",
      "tensor(0) tensor([0.5215, 0.4785], dtype=torch.float64)\n",
      "torch.Size([128, 2, 2])\n",
      "tensor(1) tensor([0.6413, 0.3587], dtype=torch.float64)\n",
      "torch.Size([128, 2, 2])\n",
      "tensor(1) tensor([0.5251, 0.4749], dtype=torch.float64)\n",
      "torch.Size([128, 2, 2])\n",
      "tensor(0) tensor([0.5989, 0.4011], dtype=torch.float64)\n",
      "torch.Size([128, 2, 2])\n",
      "tensor(1) tensor([0.5279, 0.4721], dtype=torch.float64)\n",
      "torch.Size([128, 2, 2])\n",
      "tensor(0) tensor([0.6868, 0.3132], dtype=torch.float64)\n",
      "torch.Size([128, 2, 2])\n",
      "tensor(1) tensor([0.7380, 0.2620], dtype=torch.float64)\n",
      "torch.Size([128, 2, 2])\n",
      "tensor(0) tensor([0.8139, 0.1861], dtype=torch.float64)\n",
      "torch.Size([128, 2, 2])\n",
      "tensor(1) tensor([0.4495, 0.5505], dtype=torch.float64)\n",
      "torch.Size([128, 2, 2])\n",
      "tensor(0) tensor([0.6358, 0.3642], dtype=torch.float64)\n",
      "torch.Size([128, 2, 2])\n",
      "tensor(1) tensor([0.5830, 0.4170], dtype=torch.float64)\n",
      "torch.Size([128, 2, 2])\n",
      "tensor(1) tensor([0.5198, 0.4802], dtype=torch.float64)\n",
      "torch.Size([128, 2, 2])\n",
      "tensor(0) tensor([0.4493, 0.5507], dtype=torch.float64)\n",
      "torch.Size([128, 2, 2])\n",
      "tensor(1) tensor([0.4339, 0.5661], dtype=torch.float64)\n",
      "torch.Size([128, 2, 2])\n",
      "tensor(0) tensor([0.4759, 0.5241], dtype=torch.float64)\n",
      "torch.Size([128, 2, 2])\n",
      "tensor(0) tensor([0.4289, 0.5711], dtype=torch.float64)\n",
      "torch.Size([128, 2, 2])\n",
      "tensor(1) tensor([0.7384, 0.2616], dtype=torch.float64)\n",
      "torch.Size([128, 2, 2])\n"
     ]
    },
    {
     "name": "stderr",
     "output_type": "stream",
     "text": [
      " 39%|███▉      | 972/2494 [00:03<00:05, 294.23it/s]"
     ]
    },
    {
     "name": "stdout",
     "output_type": "stream",
     "text": [
      "tensor(0) tensor([0.6726, 0.3274], dtype=torch.float64)\n",
      "torch.Size([128, 2, 2])\n",
      "tensor(0) tensor([0.3940, 0.6060], dtype=torch.float64)\n",
      "torch.Size([128, 2, 2])\n",
      "tensor(0) tensor([0.7045, 0.2955], dtype=torch.float64)\n",
      "torch.Size([128, 2, 2])\n",
      "tensor(0) tensor([0.5996, 0.4004], dtype=torch.float64)\n",
      "torch.Size([128, 2, 2])\n",
      "tensor(1) tensor([0.5574, 0.4426], dtype=torch.float64)\n",
      "torch.Size([128, 2, 2])\n",
      "tensor(0) tensor([0.5563, 0.4437], dtype=torch.float64)\n",
      "torch.Size([128, 2, 2])\n",
      "tensor(1) tensor([0.7036, 0.2964], dtype=torch.float64)\n",
      "torch.Size([128, 2, 2])\n",
      "tensor(1) tensor([0.6801, 0.3199], dtype=torch.float64)\n",
      "torch.Size([128, 2, 2])\n",
      "tensor(1) tensor([0.4399, 0.5601], dtype=torch.float64)\n",
      "torch.Size([128, 2, 2])\n",
      "tensor(1) tensor([0.4540, 0.5460], dtype=torch.float64)\n",
      "torch.Size([128, 2, 2])\n",
      "tensor(0) tensor([0.2449, 0.7551], dtype=torch.float64)\n",
      "torch.Size([128, 2, 2])\n",
      "tensor(1) tensor([0.3897, 0.6103], dtype=torch.float64)\n",
      "torch.Size([128, 2, 2])\n",
      "tensor(0) tensor([0.6887, 0.3113], dtype=torch.float64)\n",
      "torch.Size([128, 2, 2])\n",
      "tensor(0) tensor([0.4924, 0.5076], dtype=torch.float64)\n",
      "torch.Size([128, 2, 2])\n",
      "tensor(1) tensor([0.5244, 0.4756], dtype=torch.float64)\n",
      "torch.Size([128, 2, 2])\n",
      "tensor(1) tensor([0.6599, 0.3401], dtype=torch.float64)\n",
      "torch.Size([128, 2, 2])\n",
      "tensor(1) tensor([0.6849, 0.3151], dtype=torch.float64)\n",
      "torch.Size([128, 2, 2])\n",
      "tensor(0) tensor([0.6693, 0.3307], dtype=torch.float64)\n",
      "torch.Size([128, 2, 2])\n",
      "tensor(1) tensor([0.6900, 0.3100], dtype=torch.float64)\n",
      "torch.Size([128, 2, 2])\n",
      "tensor(1) tensor([0.3543, 0.6457], dtype=torch.float64)\n",
      "torch.Size([128, 2, 2])\n",
      "tensor(1) tensor([0.2785, 0.7215], dtype=torch.float64)\n",
      "torch.Size([128, 2, 2])\n",
      "tensor(0) tensor([0.5843, 0.4157], dtype=torch.float64)\n",
      "torch.Size([128, 2, 2])\n",
      "tensor(1) tensor([0.5545, 0.4455], dtype=torch.float64)\n",
      "torch.Size([128, 2, 2])\n",
      "tensor(0) tensor([0.6076, 0.3924], dtype=torch.float64)\n",
      "torch.Size([128, 2, 2])\n",
      "tensor(1) tensor([0.4636, 0.5364], dtype=torch.float64)\n",
      "torch.Size([128, 2, 2])\n",
      "tensor(1) tensor([0.3557, 0.6443], dtype=torch.float64)\n",
      "torch.Size([128, 2, 2])\n",
      "tensor(1) tensor([0.6609, 0.3391], dtype=torch.float64)\n",
      "torch.Size([128, 2, 2])\n",
      "tensor(0) tensor([0.5427, 0.4573], dtype=torch.float64)\n",
      "torch.Size([128, 2, 2])\n",
      "tensor(1) tensor([0.4122, 0.5878], dtype=torch.float64)\n",
      "torch.Size([128, 2, 2])\n",
      "tensor(0) tensor([0.5083, 0.4917], dtype=torch.float64)\n",
      "torch.Size([128, 2, 2])\n",
      "tensor(0) tensor([0.5692, 0.4308], dtype=torch.float64)\n",
      "torch.Size([128, 2, 2])\n",
      "tensor(0) tensor([0.4461, 0.5539], dtype=torch.float64)\n",
      "torch.Size([128, 2, 2])\n",
      "tensor(1) tensor([0.3723, 0.6277], dtype=torch.float64)\n",
      "torch.Size([128, 2, 2])\n",
      "tensor(1) tensor([0.5039, 0.4961], dtype=torch.float64)\n",
      "torch.Size([128, 2, 2])\n",
      "tensor(1) tensor([0.3937, 0.6063], dtype=torch.float64)\n",
      "torch.Size([128, 2, 2])\n",
      "tensor(0) tensor([0.7706, 0.2294], dtype=torch.float64)\n",
      "torch.Size([128, 2, 2])\n",
      "tensor(0) tensor([0.4673, 0.5327], dtype=torch.float64)\n",
      "torch.Size([128, 2, 2])\n",
      "tensor(0) tensor([0.7694, 0.2306], dtype=torch.float64)\n",
      "torch.Size([128, 2, 2])\n",
      "tensor(0) tensor([0.6315, 0.3685], dtype=torch.float64)\n",
      "torch.Size([128, 2, 2])\n",
      "tensor(0) tensor([0.5098, 0.4902], dtype=torch.float64)\n",
      "torch.Size([128, 2, 2])\n",
      "tensor(1) tensor([0.3326, 0.6674], dtype=torch.float64)\n",
      "torch.Size([128, 2, 2])\n",
      "tensor(1) tensor([0.6258, 0.3742], dtype=torch.float64)\n",
      "torch.Size([128, 2, 2])\n",
      "tensor(0) tensor([0.6909, 0.3091], dtype=torch.float64)\n",
      "torch.Size([128, 2, 2])\n",
      "tensor(0) tensor([0.6310, 0.3690], dtype=torch.float64)\n",
      "torch.Size([128, 2, 2])\n",
      "tensor(1) tensor([0.5257, 0.4743], dtype=torch.float64)\n",
      "torch.Size([128, 2, 2])\n",
      "tensor(1) tensor([0.3464, 0.6536], dtype=torch.float64)\n",
      "torch.Size([128, 2, 2])\n",
      "tensor(1) tensor([0.6708, 0.3292], dtype=torch.float64)\n",
      "torch.Size([128, 2, 2])\n",
      "tensor(0) tensor([0.5476, 0.4524], dtype=torch.float64)\n",
      "torch.Size([128, 2, 2])\n",
      "tensor(0) tensor([0.5533, 0.4467], dtype=torch.float64)\n",
      "torch.Size([128, 2, 2])\n",
      "tensor(1) tensor([0.5160, 0.4840], dtype=torch.float64)\n",
      "torch.Size([128, 2, 2])\n",
      "tensor(0) tensor([0.4430, 0.5570], dtype=torch.float64)\n",
      "torch.Size([128, 2, 2])\n",
      "tensor(0) tensor([0.5471, 0.4529], dtype=torch.float64)\n",
      "torch.Size([128, 2, 2])\n",
      "tensor(1) tensor([0.7219, 0.2781], dtype=torch.float64)\n",
      "torch.Size([128, 2, 2])\n",
      "tensor(0) tensor([0.3997, 0.6003], dtype=torch.float64)\n",
      "torch.Size([128, 2, 2])\n",
      "tensor(0) tensor([0.7929, 0.2071], dtype=torch.float64)\n",
      "torch.Size([128, 2, 2])\n",
      "tensor(0) tensor([0.5519, 0.4481], dtype=torch.float64)\n",
      "torch.Size([128, 2, 2])\n",
      "tensor(0) tensor([0.6121, 0.3879], dtype=torch.float64)\n",
      "torch.Size([128, 2, 2])\n",
      "tensor(1) tensor([0.5273, 0.4727], dtype=torch.float64)\n",
      "torch.Size([128, 2, 2])\n",
      "tensor(0) tensor([0.5387, 0.4613], dtype=torch.float64)\n",
      "torch.Size([128, 2, 2])\n",
      "tensor(1) "
     ]
    },
    {
     "name": "stderr",
     "output_type": "stream",
     "text": [
      "\r",
      " 40%|████      | 1002/2494 [00:03<00:05, 290.81it/s]"
     ]
    },
    {
     "name": "stdout",
     "output_type": "stream",
     "text": [
      "tensor([0.3516, 0.6484], dtype=torch.float64)\n",
      "torch.Size([128, 2, 2])\n",
      "tensor(0) tensor([0.6664, 0.3336], dtype=torch.float64)\n",
      "torch.Size([128, 2, 2])\n",
      "tensor(1) tensor([0.4073, 0.5927], dtype=torch.float64)\n",
      "torch.Size([128, 2, 2])\n",
      "tensor(1) tensor([0.6606, 0.3394], dtype=torch.float64)\n",
      "torch.Size([128, 2, 2])\n",
      "tensor(0) tensor([0.6348, 0.3652], dtype=torch.float64)\n",
      "torch.Size([128, 2, 2])\n",
      "tensor(1) tensor([0.4636, 0.5364], dtype=torch.float64)\n",
      "torch.Size([128, 2, 2])\n",
      "tensor(1) tensor([0.4279, 0.5721], dtype=torch.float64)\n",
      "torch.Size([128, 2, 2])\n",
      "tensor(1) tensor([0.6849, 0.3151], dtype=torch.float64)\n",
      "torch.Size([128, 2, 2])\n",
      "tensor(0) tensor([0.6367, 0.3633], dtype=torch.float64)\n",
      "torch.Size([128, 2, 2])\n",
      "tensor(0) tensor([0.5235, 0.4765], dtype=torch.float64)\n",
      "torch.Size([128, 2, 2])\n",
      "tensor(0) tensor([0.4726, 0.5274], dtype=torch.float64)\n",
      "torch.Size([128, 2, 2])\n",
      "tensor(1) tensor([0.4571, 0.5429], dtype=torch.float64)\n",
      "torch.Size([128, 2, 2])\n",
      "tensor(1) tensor([0.3517, 0.6483], dtype=torch.float64)\n",
      "torch.Size([128, 2, 2])\n",
      "tensor(0) tensor([0.5661, 0.4339], dtype=torch.float64)\n",
      "torch.Size([128, 2, 2])\n",
      "tensor(0) tensor([0.8358, 0.1642], dtype=torch.float64)\n",
      "torch.Size([128, 2, 2])\n",
      "tensor(1) tensor([0.1621, 0.8379], dtype=torch.float64)\n",
      "torch.Size([128, 2, 2])\n",
      "tensor(0) tensor([0.5624, 0.4376], dtype=torch.float64)\n",
      "torch.Size([128, 2, 2])\n",
      "tensor(0) tensor([0.6155, 0.3845], dtype=torch.float64)\n",
      "torch.Size([128, 2, 2])\n",
      "tensor(1) tensor([0.5675, 0.4325], dtype=torch.float64)\n",
      "torch.Size([128, 2, 2])\n",
      "tensor(0) tensor([0.6906, 0.3094], dtype=torch.float64)\n",
      "torch.Size([128, 2, 2])\n",
      "tensor(0) tensor([0.7259, 0.2741], dtype=torch.float64)\n",
      "torch.Size([128, 2, 2])\n",
      "tensor(0) tensor([0.6346, 0.3654], dtype=torch.float64)\n",
      "torch.Size([128, 2, 2])\n",
      "tensor(0) tensor([0.7057, 0.2943], dtype=torch.float64)\n",
      "torch.Size([128, 2, 2])\n",
      "tensor(0) tensor([0.8538, 0.1462], dtype=torch.float64)\n",
      "torch.Size([128, 2, 2])\n",
      "tensor(0) tensor([0.5385, 0.4615], dtype=torch.float64)\n",
      "torch.Size([128, 2, 2])\n",
      "tensor(0) tensor([0.5751, 0.4249], dtype=torch.float64)\n",
      "torch.Size([128, 2, 2])\n",
      "tensor(0) tensor([0.5027, 0.4973], dtype=torch.float64)\n",
      "torch.Size([128, 2, 2])\n",
      "tensor(1) tensor([0.5921, 0.4079], dtype=torch.float64)\n",
      "torch.Size([128, 2, 2])\n",
      "tensor(0) tensor([0.5438, 0.4562], dtype=torch.float64)\n",
      "torch.Size([128, 2, 2])\n",
      "tensor(0) tensor([0.6496, 0.3504], dtype=torch.float64)\n",
      "torch.Size([128, 2, 2])\n",
      "tensor(1) tensor([0.5403, 0.4597], dtype=torch.float64)\n",
      "torch.Size([128, 2, 2])\n",
      "tensor(0) tensor([0.5556, 0.4444], dtype=torch.float64)\n",
      "torch.Size([128, 2, 2])\n",
      "tensor(1) tensor([0.5837, 0.4163], dtype=torch.float64)\n",
      "torch.Size([128, 2, 2])\n",
      "tensor(1) tensor([0.5168, 0.4832], dtype=torch.float64)\n",
      "torch.Size([128, 2, 2])\n",
      "tensor(1) tensor([0.3774, 0.6226], dtype=torch.float64)\n",
      "torch.Size([128, 2, 2])\n",
      "tensor(1) tensor([0.4197, 0.5803], dtype=torch.float64)\n",
      "torch.Size([128, 2, 2])\n",
      "tensor(0) tensor([0.4671, 0.5329], dtype=torch.float64)\n",
      "torch.Size([128, 2, 2])\n",
      "tensor(0) tensor([0.6683, 0.3317], dtype=torch.float64)\n",
      "torch.Size([128, 2, 2])\n",
      "tensor(1) tensor([0.5078, 0.4922], dtype=torch.float64)\n",
      "torch.Size([128, 2, 2])\n",
      "tensor(1) tensor([0.3556, 0.6444], dtype=torch.float64)\n",
      "torch.Size([128, 2, 2])\n",
      "tensor(0) tensor([0.6104, 0.3896], dtype=torch.float64)\n",
      "torch.Size([128, 2, 2])\n",
      "tensor(1) tensor([0.5386, 0.4614], dtype=torch.float64)\n",
      "torch.Size([128, 2, 2])\n",
      "tensor(1) tensor([0.5834, 0.4166], dtype=torch.float64)\n",
      "torch.Size([128, 2, 2])\n",
      "tensor(0) tensor([0.8223, 0.1777], dtype=torch.float64)\n",
      "torch.Size([128, 2, 2])\n",
      "tensor(0) tensor([0.6328, 0.3672], dtype=torch.float64)\n",
      "torch.Size([128, 2, 2])\n",
      "tensor(0) tensor([0.6162, 0.3838], dtype=torch.float64)\n",
      "torch.Size([128, 2, 2])\n",
      "tensor(0) tensor([0.6168, 0.3832], dtype=torch.float64)\n",
      "torch.Size([128, 2, 2])\n",
      "tensor(1) tensor([0.2726, 0.7274], dtype=torch.float64)\n",
      "torch.Size([128, 2, 2])\n",
      "tensor(0) tensor([0.6146, 0.3854], dtype=torch.float64)\n",
      "torch.Size([128, 2, 2])\n",
      "tensor(0) tensor([0.4324, 0.5676], dtype=torch.float64)\n",
      "torch.Size([128, 2, 2])\n",
      "tensor(0) tensor([0.7801, 0.2199], dtype=torch.float64)\n",
      "torch.Size([128, 2, 2])\n",
      "tensor(0) tensor([0.7632, 0.2368], dtype=torch.float64)\n",
      "torch.Size([128, 2, 2])\n",
      "tensor(1) tensor([0.5616, 0.4384], dtype=torch.float64)\n",
      "torch.Size([128, 2, 2])\n",
      "tensor(1) tensor([0.3514, 0.6486], dtype=torch.float64)\n",
      "torch.Size([128, 2, 2])\n",
      "tensor(1) tensor([0.5834, 0.4166], dtype=torch.float64)\n"
     ]
    },
    {
     "name": "stderr",
     "output_type": "stream",
     "text": [
      " 43%|████▎     | 1060/2494 [00:03<00:05, 271.41it/s]"
     ]
    },
    {
     "name": "stdout",
     "output_type": "stream",
     "text": [
      "torch.Size([128, 2, 2])\n",
      "tensor(0) tensor([0.6459, 0.3541], dtype=torch.float64)\n",
      "torch.Size([128, 2, 2])\n",
      "tensor(0) tensor([0.4288, 0.5712], dtype=torch.float64)\n",
      "torch.Size([128, 2, 2])\n",
      "tensor(0) tensor([0.6705, 0.3295], dtype=torch.float64)\n",
      "torch.Size([128, 2, 2])\n",
      "tensor(1) tensor([0.5262, 0.4738], dtype=torch.float64)\n",
      "torch.Size([128, 2, 2])\n",
      "tensor(0) tensor([0.7505, 0.2495], dtype=torch.float64)\n",
      "torch.Size([128, 2, 2])\n",
      "tensor(0) tensor([0.5890, 0.4110], dtype=torch.float64)\n",
      "torch.Size([128, 2, 2])\n",
      "tensor(1) tensor([0.5959, 0.4041], dtype=torch.float64)\n",
      "torch.Size([128, 2, 2])\n",
      "tensor(1) tensor([0.3561, 0.6439], dtype=torch.float64)\n",
      "torch.Size([128, 2, 2])\n",
      "tensor(0) tensor([0.7724, 0.2276], dtype=torch.float64)\n",
      "torch.Size([128, 2, 2])\n",
      "tensor(1) tensor([0.7312, 0.2688], dtype=torch.float64)\n",
      "torch.Size([128, 2, 2])\n",
      "tensor(1) tensor([0.6784, 0.3216], dtype=torch.float64)\n",
      "torch.Size([128, 2, 2])\n",
      "tensor(0) tensor([0.1817, 0.8183], dtype=torch.float64)\n",
      "torch.Size([128, 2, 2])\n",
      "tensor(1) tensor([0.7778, 0.2222], dtype=torch.float64)\n",
      "torch.Size([128, 2, 2])\n",
      "tensor(1) tensor([0.4433, 0.5567], dtype=torch.float64)\n",
      "torch.Size([128, 2, 2])\n",
      "tensor(1) tensor([0.3911, 0.6089], dtype=torch.float64)\n",
      "torch.Size([128, 2, 2])\n",
      "tensor(0) tensor([0.7665, 0.2335], dtype=torch.float64)\n",
      "torch.Size([128, 2, 2])\n",
      "tensor(1) tensor([0.6097, 0.3903], dtype=torch.float64)\n",
      "torch.Size([128, 2, 2])\n",
      "tensor(1) tensor([0.7532, 0.2468], dtype=torch.float64)\n",
      "torch.Size([128, 2, 2])\n",
      "tensor(1) tensor([0.5312, 0.4688], dtype=torch.float64)\n",
      "torch.Size([128, 2, 2])\n",
      "tensor(0) tensor([0.6475, 0.3525], dtype=torch.float64)\n",
      "torch.Size([128, 2, 2])\n",
      "tensor(0) tensor([0.6805, 0.3195], dtype=torch.float64)\n",
      "torch.Size([128, 2, 2])\n",
      "tensor(0) tensor([0.8185, 0.1815], dtype=torch.float64)\n",
      "torch.Size([128, 2, 2])\n",
      "tensor(1) tensor([0.3968, 0.6032], dtype=torch.float64)\n",
      "torch.Size([128, 2, 2])\n",
      "tensor(1) tensor([0.3806, 0.6194], dtype=torch.float64)\n",
      "torch.Size([128, 2, 2])\n",
      "tensor(1) tensor([0.5720, 0.4280], dtype=torch.float64)\n",
      "torch.Size([128, 2, 2])\n",
      "tensor(1) tensor([0.6084, 0.3916], dtype=torch.float64)\n",
      "torch.Size([128, 2, 2])\n",
      "tensor(0) tensor([0.5068, 0.4932], dtype=torch.float64)\n",
      "torch.Size([128, 2, 2])\n",
      "tensor(1) tensor([0.4442, 0.5558], dtype=torch.float64)\n",
      "torch.Size([128, 2, 2])\n",
      "tensor(1) tensor([0.3811, 0.6189], dtype=torch.float64)\n",
      "torch.Size([128, 2, 2])\n",
      "tensor(1) tensor([0.4737, 0.5263], dtype=torch.float64)\n",
      "torch.Size([128, 2, 2])\n",
      "tensor(0) tensor([0.7650, 0.2350], dtype=torch.float64)\n",
      "torch.Size([128, 2, 2])\n",
      "tensor(1) tensor([0.5057, 0.4943], dtype=torch.float64)\n",
      "torch.Size([128, 2, 2])\n",
      "tensor(1) tensor([0.3931, 0.6069], dtype=torch.float64)\n",
      "torch.Size([128, 2, 2])\n",
      "tensor(1) tensor([0.4336, 0.5664], dtype=torch.float64)\n",
      "torch.Size([128, 2, 2])\n",
      "tensor(0) tensor([0.3710, 0.6290], dtype=torch.float64)\n",
      "torch.Size([128, 2, 2])\n",
      "tensor(1) tensor([0.5221, 0.4779], dtype=torch.float64)\n",
      "torch.Size([128, 2, 2])\n",
      "tensor(1) tensor([0.4411, 0.5589], dtype=torch.float64)\n",
      "torch.Size([128, 2, 2])\n",
      "tensor(1) tensor([0.5303, 0.4697], dtype=torch.float64)\n",
      "torch.Size([128, 2, 2])\n",
      "tensor(0) tensor([0.7039, 0.2961], dtype=torch.float64)\n",
      "torch.Size([128, 2, 2])\n",
      "tensor(1) tensor([0.3740, 0.6260], dtype=torch.float64)\n",
      "torch.Size([128, 2, 2])\n",
      "tensor(1) tensor([0.4699, 0.5301], dtype=torch.float64)\n",
      "torch.Size([128, 2, 2])\n",
      "tensor(1) tensor([0.2444, 0.7556], dtype=torch.float64)\n",
      "torch.Size([128, 2, 2])\n",
      "tensor(0) tensor([0.6358, 0.3642], dtype=torch.float64)\n",
      "torch.Size([128, 2, 2])\n",
      "tensor(1) tensor([0.4686, 0.5314], dtype=torch.float64)\n",
      "torch.Size([128, 2, 2])\n",
      "tensor(0) tensor([0.6145, 0.3855], dtype=torch.float64)\n",
      "torch.Size([128, 2, 2])\n",
      "tensor(1) tensor([0.6529, 0.3471], dtype=torch.float64)\n",
      "torch.Size([128, 2, 2])\n",
      "tensor(1) tensor([0.4630, 0.5370], dtype=torch.float64)\n",
      "torch.Size([128, 2, 2])\n",
      "tensor(0) tensor([0.7051, 0.2949], dtype=torch.float64)\n",
      "torch.Size([128, 2, 2])\n",
      "tensor(0) tensor([0.7263, 0.2737], dtype=torch.float64)\n",
      "torch.Size([128, 2, 2])\n",
      "tensor(1) tensor([0.1541, 0.8459], dtype=torch.float64)\n",
      "torch.Size([128, 2, 2])\n",
      "tensor(1) tensor([0.6640, 0.3360], dtype=torch.float64)\n",
      "torch.Size([128, 2, 2])\n",
      "tensor(1) tensor([0.5760, 0.4240], dtype=torch.float64)\n",
      "torch.Size([128, 2, 2])\n",
      "tensor(1) tensor([0.6015, 0.3985], dtype=torch.float64)\n",
      "torch.Size([128, 2, 2])\n",
      "tensor(0) tensor([0.5313, 0.4687], dtype=torch.float64)\n",
      "torch.Size([128, 2, 2])\n"
     ]
    },
    {
     "name": "stderr",
     "output_type": "stream",
     "text": [
      " 45%|████▍     | 1119/2494 [00:03<00:04, 281.83it/s]"
     ]
    },
    {
     "name": "stdout",
     "output_type": "stream",
     "text": [
      "tensor(0) tensor([0.5088, 0.4912], dtype=torch.float64)\n",
      "torch.Size([128, 2, 2])\n",
      "tensor(0) tensor([0.5331, 0.4669], dtype=torch.float64)\n",
      "torch.Size([128, 2, 2])\n",
      "tensor(0) tensor([0.5866, 0.4134], dtype=torch.float64)\n",
      "torch.Size([128, 2, 2])\n",
      "tensor(1) tensor([0.5791, 0.4209], dtype=torch.float64)\n",
      "torch.Size([128, 2, 2])\n",
      "tensor(0) tensor([0.6463, 0.3537], dtype=torch.float64)\n",
      "torch.Size([128, 2, 2])\n",
      "tensor(1) tensor([0.5554, 0.4446], dtype=torch.float64)\n",
      "torch.Size([128, 2, 2])\n",
      "tensor(0) tensor([0.4726, 0.5274], dtype=torch.float64)\n",
      "torch.Size([128, 2, 2])\n",
      "tensor(1) tensor([0.5056, 0.4944], dtype=torch.float64)\n",
      "torch.Size([128, 2, 2])\n",
      "tensor(0) tensor([0.5325, 0.4675], dtype=torch.float64)\n",
      "torch.Size([128, 2, 2])\n",
      "tensor(0) tensor([0.4713, 0.5287], dtype=torch.float64)\n",
      "torch.Size([128, 2, 2])\n",
      "tensor(0) tensor([0.5665, 0.4335], dtype=torch.float64)\n",
      "torch.Size([128, 2, 2])\n",
      "tensor(1) tensor([0.6711, 0.3289], dtype=torch.float64)\n",
      "torch.Size([128, 2, 2])\n",
      "tensor(1) tensor([0.6609, 0.3391], dtype=torch.float64)\n",
      "torch.Size([128, 2, 2])\n",
      "tensor(0) tensor([0.5830, 0.4170], dtype=torch.float64)\n",
      "torch.Size([128, 2, 2])\n",
      "tensor(0) tensor([0.7737, 0.2263], dtype=torch.float64)\n",
      "torch.Size([128, 2, 2])\n",
      "tensor(0) tensor([0.5525, 0.4475], dtype=torch.float64)\n",
      "torch.Size([128, 2, 2])\n",
      "tensor(0) tensor([0.6202, 0.3798], dtype=torch.float64)\n",
      "torch.Size([128, 2, 2])\n",
      "tensor(1) tensor([0.3187, 0.6813], dtype=torch.float64)\n",
      "torch.Size([128, 2, 2])\n",
      "tensor(1) tensor([0.3692, 0.6308], dtype=torch.float64)\n",
      "torch.Size([128, 2, 2])\n",
      "tensor(0) tensor([0.7854, 0.2146], dtype=torch.float64)\n",
      "torch.Size([128, 2, 2])\n",
      "tensor(0) tensor([0.6466, 0.3534], dtype=torch.float64)\n",
      "torch.Size([128, 2, 2])\n",
      "tensor(1) tensor([0.7282, 0.2718], dtype=torch.float64)\n",
      "torch.Size([128, 2, 2])\n",
      "tensor(0) tensor([0.7776, 0.2224], dtype=torch.float64)\n",
      "torch.Size([128, 2, 2])\n",
      "tensor(1) tensor([0.4492, 0.5508], dtype=torch.float64)\n",
      "torch.Size([128, 2, 2])\n",
      "tensor(1) tensor([0.2242, 0.7758], dtype=torch.float64)\n",
      "torch.Size([128, 2, 2])\n",
      "tensor(1) tensor([0.7412, 0.2588], dtype=torch.float64)\n",
      "torch.Size([128, 2, 2])\n",
      "tensor(0) tensor([0.6199, 0.3801], dtype=torch.float64)\n",
      "torch.Size([128, 2, 2])\n",
      "tensor(1) tensor([0.2482, 0.7518], dtype=torch.float64)\n",
      "torch.Size([128, 2, 2])\n",
      "tensor(1) tensor([0.4783, 0.5217], dtype=torch.float64)\n",
      "torch.Size([128, 2, 2])\n",
      "tensor(1) tensor([0.3239, 0.6761], dtype=torch.float64)\n",
      "torch.Size([128, 2, 2])\n",
      "tensor(1) tensor([0.4128, 0.5872], dtype=torch.float64)\n",
      "torch.Size([128, 2, 2])\n",
      "tensor(0) tensor([0.8190, 0.1810], dtype=torch.float64)\n",
      "torch.Size([128, 2, 2])\n",
      "tensor(0) tensor([0.8258, 0.1742], dtype=torch.float64)\n",
      "torch.Size([128, 2, 2])\n",
      "tensor(1) tensor([0.6436, 0.3564], dtype=torch.float64)\n",
      "torch.Size([128, 2, 2])\n",
      "tensor(0) tensor([0.5124, 0.4876], dtype=torch.float64)\n",
      "torch.Size([128, 2, 2])\n",
      "tensor(0) tensor([0.7085, 0.2915], dtype=torch.float64)\n",
      "torch.Size([128, 2, 2])\n",
      "tensor(0) tensor([0.5990, 0.4010], dtype=torch.float64)\n",
      "torch.Size([128, 2, 2])\n",
      "tensor(1) tensor([0.5844, 0.4156], dtype=torch.float64)\n",
      "torch.Size([128, 2, 2])\n",
      "tensor(1) tensor([0.4554, 0.5446], dtype=torch.float64)\n",
      "torch.Size([128, 2, 2])\n",
      "tensor(1) tensor([0.7409, 0.2591], dtype=torch.float64)\n",
      "torch.Size([128, 2, 2])\n",
      "tensor(0) tensor([0.3286, 0.6714], dtype=torch.float64)\n",
      "torch.Size([128, 2, 2])\n",
      "tensor(1) tensor([0.3515, 0.6485], dtype=torch.float64)\n",
      "torch.Size([128, 2, 2])\n",
      "tensor(0) tensor([0.7854, 0.2146], dtype=torch.float64)\n",
      "torch.Size([128, 2, 2])\n",
      "tensor(1) tensor([0.3956, 0.6044], dtype=torch.float64)\n",
      "torch.Size([128, 2, 2])\n",
      "tensor(0) tensor([0.6366, 0.3634], dtype=torch.float64)\n",
      "torch.Size([128, 2, 2])\n",
      "tensor(1) tensor([0.5367, 0.4633], dtype=torch.float64)\n",
      "torch.Size([128, 2, 2])\n",
      "tensor(0) tensor([0.3898, 0.6102], dtype=torch.float64)\n",
      "torch.Size([128, 2, 2])\n",
      "tensor(0) tensor([0.5577, 0.4423], dtype=torch.float64)\n",
      "torch.Size([128, 2, 2])\n",
      "tensor(1) tensor([0.2467, 0.7533], dtype=torch.float64)\n",
      "torch.Size([128, 2, 2])\n",
      "tensor(0) tensor([0.5927, 0.4073], dtype=torch.float64)\n",
      "torch.Size([128, 2, 2])\n",
      "tensor(0) tensor([0.5126, 0.4874], dtype=torch.float64)\n",
      "torch.Size([128, 2, 2])\n",
      "tensor(1) tensor([0.3706, 0.6294], dtype=torch.float64)\n",
      "torch.Size([128, 2, 2])\n",
      "tensor(1) tensor([0.7619, 0.2381], dtype=torch.float64)\n",
      "torch.Size([128, 2, 2])\n",
      "tensor(0) tensor([0.7138, 0.2862], dtype=torch.float64)\n",
      "torch.Size([128, 2, 2])\n",
      "tensor(0) tensor([0.7887, 0.2113], dtype=torch.float64)\n",
      "torch.Size([128, 2, 2])\n",
      "tensor(1) tensor([0.5585, 0.4415], dtype=torch.float64)\n",
      "torch.Size([128, 2, 2])\n",
      "tensor(0) tensor([0.5035, 0.4965], dtype=torch.float64)\n",
      "torch.Size([128, 2, 2])\n",
      "tensor(0) tensor([0.5851, 0.4149], dtype=torch.float64)\n",
      "torch.Size([128, 2, 2])\n",
      "tensor(0) tensor([0.2219, 0.7781], dtype=torch.float64)\n",
      "torch.Size([128, 2, 2])\n",
      "tensor(1) tensor([0.5832, 0.4168], dtype=torch.float64)\n"
     ]
    },
    {
     "name": "stderr",
     "output_type": "stream",
     "text": [
      " 47%|████▋     | 1179/2494 [00:04<00:04, 289.35it/s]"
     ]
    },
    {
     "name": "stdout",
     "output_type": "stream",
     "text": [
      "torch.Size([128, 2, 2])\n",
      "tensor(1) tensor([0.5169, 0.4831], dtype=torch.float64)\n",
      "torch.Size([128, 2, 2])\n",
      "tensor(0) tensor([0.7704, 0.2296], dtype=torch.float64)\n",
      "torch.Size([128, 2, 2])\n",
      "tensor(0) tensor([0.8142, 0.1858], dtype=torch.float64)\n",
      "torch.Size([128, 2, 2])\n",
      "tensor(1) tensor([0.5106, 0.4894], dtype=torch.float64)\n",
      "torch.Size([128, 2, 2])\n",
      "tensor(1) tensor([0.8167, 0.1833], dtype=torch.float64)\n",
      "torch.Size([128, 2, 2])\n",
      "tensor(1) tensor([0.4602, 0.5398], dtype=torch.float64)\n",
      "torch.Size([128, 2, 2])\n",
      "tensor(1) tensor([0.5484, 0.4516], dtype=torch.float64)\n",
      "torch.Size([128, 2, 2])\n",
      "tensor(1) tensor([0.3334, 0.6666], dtype=torch.float64)\n",
      "torch.Size([128, 2, 2])\n",
      "tensor(1) tensor([0.6241, 0.3759], dtype=torch.float64)\n",
      "torch.Size([128, 2, 2])\n",
      "tensor(1) tensor([0.5217, 0.4783], dtype=torch.float64)\n",
      "torch.Size([128, 2, 2])\n",
      "tensor(1) tensor([0.4380, 0.5620], dtype=torch.float64)\n",
      "torch.Size([128, 2, 2])\n",
      "tensor(0) tensor([0.6015, 0.3985], dtype=torch.float64)\n",
      "torch.Size([128, 2, 2])\n",
      "tensor(0) tensor([0.7026, 0.2974], dtype=torch.float64)\n",
      "torch.Size([128, 2, 2])\n",
      "tensor(1) tensor([0.3867, 0.6133], dtype=torch.float64)\n",
      "torch.Size([128, 2, 2])\n",
      "tensor(1) tensor([0.5550, 0.4450], dtype=torch.float64)\n",
      "torch.Size([128, 2, 2])\n",
      "tensor(0) tensor([0.5126, 0.4874], dtype=torch.float64)\n",
      "torch.Size([128, 2, 2])\n",
      "tensor(0) tensor([0.6818, 0.3182], dtype=torch.float64)\n",
      "torch.Size([128, 2, 2])\n",
      "tensor(0) tensor([0.6851, 0.3149], dtype=torch.float64)\n",
      "torch.Size([128, 2, 2])\n",
      "tensor(1) tensor([0.4109, 0.5891], dtype=torch.float64)\n",
      "torch.Size([128, 2, 2])\n",
      "tensor(1) tensor([0.5781, 0.4219], dtype=torch.float64)\n",
      "torch.Size([128, 2, 2])\n",
      "tensor(1) tensor([0.2990, 0.7010], dtype=torch.float64)\n",
      "torch.Size([128, 2, 2])\n",
      "tensor(0) tensor([0.5517, 0.4483], dtype=torch.float64)\n",
      "torch.Size([128, 2, 2])\n",
      "tensor(1) tensor([0.5786, 0.4214], dtype=torch.float64)\n",
      "torch.Size([128, 2, 2])\n",
      "tensor(0) tensor([0.8330, 0.1670], dtype=torch.float64)\n",
      "torch.Size([128, 2, 2])\n",
      "tensor(1) tensor([0.4709, 0.5291], dtype=torch.float64)\n",
      "torch.Size([128, 2, 2])\n",
      "tensor(1) tensor([0.7670, 0.2330], dtype=torch.float64)\n",
      "torch.Size([128, 2, 2])\n",
      "tensor(1) tensor([0.6199, 0.3801], dtype=torch.float64)\n",
      "torch.Size([128, 2, 2])\n",
      "tensor(1) tensor([0.3630, 0.6370], dtype=torch.float64)\n",
      "torch.Size([128, 2, 2])\n",
      "tensor(1) tensor([0.5535, 0.4465], dtype=torch.float64)\n",
      "torch.Size([128, 2, 2])\n",
      "tensor(0) tensor([0.4422, 0.5578], dtype=torch.float64)\n",
      "torch.Size([128, 2, 2])\n",
      "tensor(0) tensor([0.5004, 0.4996], dtype=torch.float64)\n",
      "torch.Size([128, 2, 2])\n",
      "tensor(1) tensor([0.5553, 0.4447], dtype=torch.float64)\n",
      "torch.Size([128, 2, 2])\n",
      "tensor(0) tensor([0.7086, 0.2914], dtype=torch.float64)\n",
      "torch.Size([128, 2, 2])\n",
      "tensor(1) tensor([0.3513, 0.6487], dtype=torch.float64)\n",
      "torch.Size([128, 2, 2])\n",
      "tensor(1) tensor([0.7400, 0.2600], dtype=torch.float64)\n",
      "torch.Size([128, 2, 2])\n",
      "tensor(0) tensor([0.7940, 0.2060], dtype=torch.float64)\n",
      "torch.Size([128, 2, 2])\n",
      "tensor(1) tensor([0.4782, 0.5218], dtype=torch.float64)\n",
      "torch.Size([128, 2, 2])\n",
      "tensor(1) tensor([0.4133, 0.5867], dtype=torch.float64)\n",
      "torch.Size([128, 2, 2])\n",
      "tensor(1) tensor([0.3946, 0.6054], dtype=torch.float64)\n",
      "torch.Size([128, 2, 2])\n",
      "tensor(1) tensor([0.3357, 0.6643], dtype=torch.float64)\n",
      "torch.Size([128, 2, 2])\n",
      "tensor(0) tensor([0.5035, 0.4965], dtype=torch.float64)\n",
      "torch.Size([128, 2, 2])\n",
      "tensor(0) tensor([0.6416, 0.3584], dtype=torch.float64)\n",
      "torch.Size([128, 2, 2])\n",
      "tensor(1) tensor([0.5472, 0.4528], dtype=torch.float64)\n",
      "torch.Size([128, 2, 2])\n",
      "tensor(1) tensor([0.6905, 0.3095], dtype=torch.float64)\n",
      "torch.Size([128, 2, 2])\n",
      "tensor(0) tensor([0.5774, 0.4226], dtype=torch.float64)\n",
      "torch.Size([128, 2, 2])\n",
      "tensor(0) tensor([0.7799, 0.2201], dtype=torch.float64)\n",
      "torch.Size([128, 2, 2])\n",
      "tensor(0) tensor([0.7861, 0.2139], dtype=torch.float64)\n",
      "torch.Size([128, 2, 2])\n",
      "tensor(1) tensor([0.7657, 0.2343], dtype=torch.float64)\n",
      "torch.Size([128, 2, 2])\n",
      "tensor(1) tensor([0.4820, 0.5180], dtype=torch.float64)\n",
      "torch.Size([128, 2, 2])\n",
      "tensor(1) tensor([0.5881, 0.4119], dtype=torch.float64)\n",
      "torch.Size([128, 2, 2])\n",
      "tensor(0) tensor([0.7062, 0.2938], dtype=torch.float64)\n",
      "torch.Size([128, 2, 2])\n",
      "tensor(0) tensor([0.7037, 0.2963], dtype=torch.float64)\n",
      "torch.Size([128, 2, 2])\n",
      "tensor(1) tensor([0.7494, 0.2506], dtype=torch.float64)\n",
      "torch.Size([128, 2, 2])\n",
      "tensor(1) tensor([0.5738, 0.4262], dtype=torch.float64)\n",
      "torch.Size([128, 2, 2])\n",
      "tensor(0) tensor([0.6868, 0.3132], dtype=torch.float64)\n",
      "torch.Size([128, 2, 2])\n",
      "tensor(0) tensor([0.5587, 0.4413], dtype=torch.float64)\n",
      "torch.Size([128, 2, 2])\n",
      "tensor(0) tensor([0.4702, 0.5298], dtype=torch.float64)\n",
      "torch.Size([128, 2, 2])\n",
      "tensor(0) tensor([0.7403, 0.2597], dtype=torch.float64)\n",
      "torch.Size([128, 2, 2])\n",
      "tensor(1) tensor([0.3098, 0.6902], dtype=torch.float64)\n",
      "torch.Size([128, 2, 2])\n",
      "tensor(0) tensor([0.4534, 0.5466], dtype=torch.float64)\n"
     ]
    },
    {
     "name": "stderr",
     "output_type": "stream",
     "text": [
      " 50%|████▉     | 1239/2494 [00:04<00:04, 287.44it/s]"
     ]
    },
    {
     "name": "stdout",
     "output_type": "stream",
     "text": [
      "torch.Size([128, 2, 2])\n",
      "tensor(1) tensor([0.4758, 0.5242], dtype=torch.float64)\n",
      "torch.Size([128, 2, 2])\n",
      "tensor(1) tensor([0.3997, 0.6003], dtype=torch.float64)\n",
      "torch.Size([128, 2, 2])\n",
      "tensor(1) tensor([0.3709, 0.6291], dtype=torch.float64)\n",
      "torch.Size([128, 2, 2])\n",
      "tensor(0) tensor([0.7226, 0.2774], dtype=torch.float64)\n",
      "torch.Size([128, 2, 2])\n",
      "tensor(1) tensor([0.3593, 0.6407], dtype=torch.float64)\n",
      "torch.Size([128, 2, 2])\n",
      "tensor(1) tensor([0.6067, 0.3933], dtype=torch.float64)\n",
      "torch.Size([128, 2, 2])\n",
      "tensor(0) tensor([0.6826, 0.3174], dtype=torch.float64)\n",
      "torch.Size([128, 2, 2])\n",
      "tensor(1) tensor([0.5996, 0.4004], dtype=torch.float64)\n",
      "torch.Size([128, 2, 2])\n",
      "tensor(0) tensor([0.7544, 0.2456], dtype=torch.float64)\n",
      "torch.Size([128, 2, 2])\n",
      "tensor(0) tensor([0.5161, 0.4839], dtype=torch.float64)\n",
      "torch.Size([128, 2, 2])\n",
      "tensor(1) tensor([0.5115, 0.4885], dtype=torch.float64)\n",
      "torch.Size([128, 2, 2])\n",
      "tensor(1) tensor([0.5117, 0.4883], dtype=torch.float64)\n",
      "torch.Size([128, 2, 2])\n",
      "tensor(0) tensor([0.6247, 0.3753], dtype=torch.float64)\n",
      "torch.Size([128, 2, 2])\n",
      "tensor(0) tensor([0.4271, 0.5729], dtype=torch.float64)\n",
      "torch.Size([128, 2, 2])\n",
      "tensor(0) tensor([0.5421, 0.4579], dtype=torch.float64)\n",
      "torch.Size([128, 2, 2])\n",
      "tensor(0) tensor([0.4227, 0.5773], dtype=torch.float64)\n",
      "torch.Size([128, 2, 2])\n",
      "tensor(0) tensor([0.6280, 0.3720], dtype=torch.float64)\n",
      "torch.Size([128, 2, 2])\n",
      "tensor(1) tensor([0.4352, 0.5648], dtype=torch.float64)\n",
      "torch.Size([128, 2, 2])\n",
      "tensor(1) tensor([0.2613, 0.7387], dtype=torch.float64)\n",
      "torch.Size([128, 2, 2])\n",
      "tensor(1) tensor([0.5565, 0.4435], dtype=torch.float64)\n",
      "torch.Size([128, 2, 2])\n",
      "tensor(1) tensor([0.2846, 0.7154], dtype=torch.float64)\n",
      "torch.Size([128, 2, 2])\n",
      "tensor(0) tensor([0.2933, 0.7067], dtype=torch.float64)\n",
      "torch.Size([128, 2, 2])\n",
      "tensor(0) tensor([0.3590, 0.6410], dtype=torch.float64)\n",
      "torch.Size([128, 2, 2])\n",
      "tensor(1) tensor([0.3805, 0.6195], dtype=torch.float64)\n",
      "torch.Size([128, 2, 2])\n",
      "tensor(0) tensor([0.8015, 0.1985], dtype=torch.float64)\n",
      "torch.Size([128, 2, 2])\n",
      "tensor(1) tensor([0.4619, 0.5381], dtype=torch.float64)\n",
      "torch.Size([128, 2, 2])\n",
      "tensor(0) tensor([0.5825, 0.4175], dtype=torch.float64)\n",
      "torch.Size([128, 2, 2])\n",
      "tensor(0) tensor([0.7746, 0.2254], dtype=torch.float64)\n",
      "torch.Size([128, 2, 2])\n",
      "tensor(0) tensor([0.4873, 0.5127], dtype=torch.float64)\n",
      "torch.Size([128, 2, 2])\n",
      "tensor(1) tensor([0.6785, 0.3215], dtype=torch.float64)\n",
      "torch.Size([128, 2, 2])\n",
      "tensor(1) tensor([0.8166, 0.1834], dtype=torch.float64)\n",
      "torch.Size([128, 2, 2])\n",
      "tensor(0) tensor([0.4290, 0.5710], dtype=torch.float64)\n",
      "torch.Size([128, 2, 2])\n",
      "tensor(1) tensor([0.7817, 0.2183], dtype=torch.float64)\n",
      "torch.Size([128, 2, 2])\n",
      "tensor(0) tensor([0.3844, 0.6156], dtype=torch.float64)\n",
      "torch.Size([128, 2, 2])\n",
      "tensor(0) tensor([0.3882, 0.6118], dtype=torch.float64)\n",
      "torch.Size([128, 2, 2])\n",
      "tensor(1) tensor([0.4777, 0.5223], dtype=torch.float64)\n",
      "torch.Size([128, 2, 2])\n",
      "tensor(0) tensor([0.7107, 0.2893], dtype=torch.float64)\n",
      "torch.Size([128, 2, 2])\n",
      "tensor(1) tensor([0.4163, 0.5837], dtype=torch.float64)\n",
      "torch.Size([128, 2, 2])\n",
      "tensor(0) tensor([0.7098, 0.2902], dtype=torch.float64)\n",
      "torch.Size([128, 2, 2])\n",
      "tensor(0) tensor([0.6107, 0.3893], dtype=torch.float64)\n",
      "torch.Size([128, 2, 2])\n",
      "tensor(0) tensor([0.4337, 0.5663], dtype=torch.float64)\n",
      "torch.Size([128, 2, 2])\n",
      "tensor(1) tensor([0.4845, 0.5155], dtype=torch.float64)\n",
      "torch.Size([128, 2, 2])\n",
      "tensor(0) tensor([0.7194, 0.2806], dtype=torch.float64)\n",
      "torch.Size([128, 2, 2])\n",
      "tensor(1) tensor([0.3361, 0.6639], dtype=torch.float64)\n",
      "torch.Size([128, 2, 2])\n",
      "tensor(1) tensor([0.4917, 0.5083], dtype=torch.float64)\n",
      "torch.Size([128, 2, 2])\n",
      "tensor(0) tensor([0.5004, 0.4996], dtype=torch.float64)\n",
      "torch.Size([128, 2, 2])\n",
      "tensor(1) tensor([0.4438, 0.5562], dtype=torch.float64)\n",
      "torch.Size([128, 2, 2])\n",
      "tensor(1) tensor([0.3532, 0.6468], dtype=torch.float64)\n",
      "torch.Size([128, 2, 2])\n",
      "tensor(0) tensor([0.4752, 0.5248], dtype=torch.float64)\n",
      "torch.Size([128, 2, 2])\n",
      "tensor(0) tensor([0.5957, 0.4043], dtype=torch.float64)\n",
      "torch.Size([128, 2, 2])\n",
      "tensor(0) tensor([0.7417, 0.2583], dtype=torch.float64)\n",
      "torch.Size([128, 2, 2])\n",
      "tensor(1) tensor([0.6533, 0.3467], dtype=torch.float64)\n",
      "torch.Size([128, 2, 2])\n",
      "tensor(1) tensor([0.4849, 0.5151], dtype=torch.float64)\n",
      "torch.Size([128, 2, 2])\n",
      "tensor(0) tensor([0.4473, 0.5527], dtype=torch.float64)\n",
      "torch.Size([128, 2, 2])\n",
      "tensor(1) tensor([0.3942, 0.6058], dtype=torch.float64)\n"
     ]
    },
    {
     "name": "stderr",
     "output_type": "stream",
     "text": [
      " 52%|█████▏    | 1296/2494 [00:04<00:04, 271.12it/s]"
     ]
    },
    {
     "name": "stdout",
     "output_type": "stream",
     "text": [
      "torch.Size([128, 2, 2])\n",
      "tensor(1) tensor([0.6437, 0.3563], dtype=torch.float64)\n",
      "torch.Size([128, 2, 2])\n",
      "tensor(0) tensor([0.7012, 0.2988], dtype=torch.float64)\n",
      "torch.Size([128, 2, 2])\n",
      "tensor(1) tensor([0.4895, 0.5105], dtype=torch.float64)\n",
      "torch.Size([128, 2, 2])\n",
      "tensor(1) tensor([0.4771, 0.5229], dtype=torch.float64)\n",
      "torch.Size([128, 2, 2])\n",
      "tensor(0) tensor([0.7360, 0.2640], dtype=torch.float64)\n",
      "torch.Size([128, 2, 2])\n",
      "tensor(1) tensor([0.4167, 0.5833], dtype=torch.float64)\n",
      "torch.Size([128, 2, 2])\n",
      "tensor(1) tensor([0.3754, 0.6246], dtype=torch.float64)\n",
      "torch.Size([128, 2, 2])\n",
      "tensor(1) tensor([0.4742, 0.5258], dtype=torch.float64)\n",
      "torch.Size([128, 2, 2])\n",
      "tensor(1) tensor([0.6609, 0.3391], dtype=torch.float64)\n",
      "torch.Size([128, 2, 2])\n",
      "tensor(0) tensor([0.6146, 0.3854], dtype=torch.float64)\n",
      "torch.Size([128, 2, 2])\n",
      "tensor(0) tensor([0.5781, 0.4219], dtype=torch.float64)\n",
      "torch.Size([128, 2, 2])\n",
      "tensor(1) tensor([0.5106, 0.4894], dtype=torch.float64)\n",
      "torch.Size([128, 2, 2])\n",
      "tensor(1) tensor([0.4701, 0.5299], dtype=torch.float64)\n",
      "torch.Size([128, 2, 2])\n",
      "tensor(0) tensor([0.7816, 0.2184], dtype=torch.float64)\n",
      "torch.Size([128, 2, 2])\n",
      "tensor(1) tensor([0.2964, 0.7036], dtype=torch.float64)\n",
      "torch.Size([128, 2, 2])\n",
      "tensor(1) tensor([0.6315, 0.3685], dtype=torch.float64)\n",
      "torch.Size([128, 2, 2])\n",
      "tensor(0) tensor([0.6746, 0.3254], dtype=torch.float64)\n",
      "torch.Size([128, 2, 2])\n",
      "tensor(0) tensor([0.4480, 0.5520], dtype=torch.float64)\n",
      "torch.Size([128, 2, 2])\n",
      "tensor(1) tensor([0.3653, 0.6347], dtype=torch.float64)\n",
      "torch.Size([128, 2, 2])\n",
      "tensor(1) tensor([0.6613, 0.3387], dtype=torch.float64)\n",
      "torch.Size([128, 2, 2])\n",
      "tensor(0) tensor([0.7202, 0.2798], dtype=torch.float64)\n",
      "torch.Size([128, 2, 2])\n",
      "tensor(0) tensor([0.5814, 0.4186], dtype=torch.float64)\n",
      "torch.Size([128, 2, 2])\n",
      "tensor(0) tensor([0.4350, 0.5650], dtype=torch.float64)\n",
      "torch.Size([128, 2, 2])\n",
      "tensor(1) tensor([0.5514, 0.4486], dtype=torch.float64)\n",
      "torch.Size([128, 2, 2])\n",
      "tensor(1) tensor([0.3223, 0.6777], dtype=torch.float64)\n",
      "torch.Size([128, 2, 2])\n",
      "tensor(1) tensor([0.4976, 0.5024], dtype=torch.float64)\n",
      "torch.Size([128, 2, 2])\n",
      "tensor(1) tensor([0.6442, 0.3558], dtype=torch.float64)\n",
      "torch.Size([128, 2, 2])\n",
      "tensor(1) tensor([0.5647, 0.4353], dtype=torch.float64)\n",
      "torch.Size([128, 2, 2])\n",
      "tensor(0) tensor([0.5129, 0.4871], dtype=torch.float64)\n",
      "torch.Size([128, 2, 2])\n",
      "tensor(0) tensor([0.7487, 0.2513], dtype=torch.float64)\n",
      "torch.Size([128, 2, 2])\n",
      "tensor(1) tensor([0.7420, 0.2580], dtype=torch.float64)\n",
      "torch.Size([128, 2, 2])\n",
      "tensor(1) tensor([0.5343, 0.4657], dtype=torch.float64)\n",
      "torch.Size([128, 2, 2])\n",
      "tensor(0) tensor([0.5997, 0.4003], dtype=torch.float64)\n",
      "torch.Size([128, 2, 2])\n",
      "tensor(0) tensor([0.5983, 0.4017], dtype=torch.float64)\n",
      "torch.Size([128, 2, 2])\n",
      "tensor(1) tensor([0.6983, 0.3017], dtype=torch.float64)\n",
      "torch.Size([128, 2, 2])\n",
      "tensor(1) tensor([0.3975, 0.6025], dtype=torch.float64)\n",
      "torch.Size([128, 2, 2])\n",
      "tensor(1) tensor([0.4238, 0.5762], dtype=torch.float64)\n",
      "torch.Size([128, 2, 2])\n",
      "tensor(1) tensor([0.4918, 0.5082], dtype=torch.float64)\n",
      "torch.Size([128, 2, 2])\n",
      "tensor(1) tensor([0.4543, 0.5457], dtype=torch.float64)\n",
      "torch.Size([128, 2, 2])\n",
      "tensor(1) tensor([0.5297, 0.4703], dtype=torch.float64)\n",
      "torch.Size([128, 2, 2])\n",
      "tensor(0) tensor([0.4596, 0.5404], dtype=torch.float64)\n",
      "torch.Size([128, 2, 2])\n",
      "tensor(1) tensor([0.4033, 0.5967], dtype=torch.float64)\n",
      "torch.Size([128, 2, 2])\n",
      "tensor(0) tensor([0.4592, 0.5408], dtype=torch.float64)\n",
      "torch.Size([128, 2, 2])\n",
      "tensor(1) tensor([0.6550, 0.3450], dtype=torch.float64)\n",
      "torch.Size([128, 2, 2])\n",
      "tensor(0) tensor([0.8166, 0.1834], dtype=torch.float64)\n",
      "torch.Size([128, 2, 2])\n",
      "tensor(0) tensor([0.3994, 0.6006], dtype=torch.float64)\n",
      "torch.Size([128, 2, 2])\n",
      "tensor(0) tensor([0.6750, 0.3250], dtype=torch.float64)\n",
      "torch.Size([128, 2, 2])\n",
      "tensor(0) tensor([0.4581, 0.5419], dtype=torch.float64)\n",
      "torch.Size([128, 2, 2])\n",
      "tensor(0) tensor([0.5033, 0.4967], dtype=torch.float64)\n",
      "torch.Size([128, 2, 2])\n",
      "tensor(0) tensor([0.7044, 0.2956], dtype=torch.float64)\n",
      "torch.Size([128, 2, 2])\n",
      "tensor(1) tensor([0.4159, 0.5841], dtype=torch.float64)\n",
      "torch.Size([128, 2, 2])\n",
      "tensor(0) tensor([0.5897, 0.4103], dtype=torch.float64)\n",
      "torch.Size([128, 2, 2])\n",
      "tensor(0) tensor([0.7369, 0.2631], dtype=torch.float64)\n",
      "torch.Size([128, 2, 2])\n",
      "tensor(0) tensor([0.8339, 0.1661], dtype=torch.float64)\n"
     ]
    },
    {
     "name": "stderr",
     "output_type": "stream",
     "text": [
      " 54%|█████▍    | 1356/2494 [00:04<00:04, 283.77it/s]"
     ]
    },
    {
     "name": "stdout",
     "output_type": "stream",
     "text": [
      "torch.Size([128, 2, 2])\n",
      "tensor(1) tensor([0.5430, 0.4570], dtype=torch.float64)\n",
      "torch.Size([128, 2, 2])\n",
      "tensor(1) tensor([0.3533, 0.6467], dtype=torch.float64)\n",
      "torch.Size([128, 2, 2])\n",
      "tensor(0) tensor([0.4546, 0.5454], dtype=torch.float64)\n",
      "torch.Size([128, 2, 2])\n",
      "tensor(1) tensor([0.5961, 0.4039], dtype=torch.float64)\n",
      "torch.Size([128, 2, 2])\n",
      "tensor(1) tensor([0.7057, 0.2943], dtype=torch.float64)\n",
      "torch.Size([128, 2, 2])\n",
      "tensor(1) tensor([0.4331, 0.5669], dtype=torch.float64)\n",
      "torch.Size([128, 2, 2])\n",
      "tensor(0) tensor([0.5218, 0.4782], dtype=torch.float64)\n",
      "torch.Size([128, 2, 2])\n",
      "tensor(1) tensor([0.7908, 0.2092], dtype=torch.float64)\n",
      "torch.Size([128, 2, 2])\n",
      "tensor(0) tensor([0.7526, 0.2474], dtype=torch.float64)\n",
      "torch.Size([128, 2, 2])\n",
      "tensor(1) tensor([0.3127, 0.6873], dtype=torch.float64)\n",
      "torch.Size([128, 2, 2])\n",
      "tensor(1) tensor([0.3022, 0.6978], dtype=torch.float64)\n",
      "torch.Size([128, 2, 2])\n",
      "tensor(1) tensor([0.4504, 0.5496], dtype=torch.float64)\n",
      "torch.Size([128, 2, 2])\n",
      "tensor(1) tensor([0.6380, 0.3620], dtype=torch.float64)\n",
      "torch.Size([128, 2, 2])\n",
      "tensor(0) tensor([0.3284, 0.6716], dtype=torch.float64)\n",
      "torch.Size([128, 2, 2])\n",
      "tensor(1) tensor([0.3992, 0.6008], dtype=torch.float64)\n",
      "torch.Size([128, 2, 2])\n",
      "tensor(0) tensor([0.6538, 0.3462], dtype=torch.float64)\n",
      "torch.Size([128, 2, 2])\n",
      "tensor(0) tensor([0.5321, 0.4679], dtype=torch.float64)\n",
      "torch.Size([128, 2, 2])\n",
      "tensor(1) tensor([0.5213, 0.4787], dtype=torch.float64)\n",
      "torch.Size([128, 2, 2])\n",
      "tensor(1) tensor([0.4568, 0.5432], dtype=torch.float64)\n",
      "torch.Size([128, 2, 2])\n",
      "tensor(0) tensor([0.4823, 0.5177], dtype=torch.float64)\n",
      "torch.Size([128, 2, 2])\n",
      "tensor(0) tensor([0.7717, 0.2283], dtype=torch.float64)\n",
      "torch.Size([128, 2, 2])\n",
      "tensor(1) tensor([0.7135, 0.2865], dtype=torch.float64)\n",
      "torch.Size([128, 2, 2])\n",
      "tensor(1) tensor([0.5592, 0.4408], dtype=torch.float64)\n",
      "torch.Size([128, 2, 2])\n",
      "tensor(1) tensor([0.7610, 0.2390], dtype=torch.float64)\n",
      "torch.Size([128, 2, 2])\n",
      "tensor(1) tensor([0.4984, 0.5016], dtype=torch.float64)\n",
      "torch.Size([128, 2, 2])\n",
      "tensor(0) tensor([0.6911, 0.3089], dtype=torch.float64)\n",
      "torch.Size([128, 2, 2])\n",
      "tensor(0) tensor([0.4160, 0.5840], dtype=torch.float64)\n",
      "torch.Size([128, 2, 2])\n",
      "tensor(1) tensor([0.3877, 0.6123], dtype=torch.float64)\n",
      "torch.Size([128, 2, 2])\n",
      "tensor(0) tensor([0.4718, 0.5282], dtype=torch.float64)\n",
      "torch.Size([128, 2, 2])\n",
      "tensor(0) tensor([0.4580, 0.5420], dtype=torch.float64)\n",
      "torch.Size([128, 2, 2])\n",
      "tensor(1) tensor([0.6495, 0.3505], dtype=torch.float64)\n",
      "torch.Size([128, 2, 2])\n",
      "tensor(0) tensor([0.3267, 0.6733], dtype=torch.float64)\n",
      "torch.Size([128, 2, 2])\n",
      "tensor(1) tensor([0.5574, 0.4426], dtype=torch.float64)\n",
      "torch.Size([128, 2, 2])\n",
      "tensor(1) tensor([0.4895, 0.5105], dtype=torch.float64)\n",
      "torch.Size([128, 2, 2])\n",
      "tensor(1) tensor([0.5260, 0.4740], dtype=torch.float64)\n",
      "torch.Size([128, 2, 2])\n",
      "tensor(0) tensor([0.7823, 0.2177], dtype=torch.float64)\n",
      "torch.Size([128, 2, 2])\n",
      "tensor(0) tensor([0.5183, 0.4817], dtype=torch.float64)\n",
      "torch.Size([128, 2, 2])\n",
      "tensor(0) tensor([0.8011, 0.1989], dtype=torch.float64)\n",
      "torch.Size([128, 2, 2])\n",
      "tensor(1) tensor([0.6977, 0.3023], dtype=torch.float64)\n",
      "torch.Size([128, 2, 2])\n",
      "tensor(1) tensor([0.4067, 0.5933], dtype=torch.float64)\n",
      "torch.Size([128, 2, 2])\n",
      "tensor(1) tensor([0.5305, 0.4695], dtype=torch.float64)\n",
      "torch.Size([128, 2, 2])\n",
      "tensor(0) tensor([0.6566, 0.3434], dtype=torch.float64)\n",
      "torch.Size([128, 2, 2])\n",
      "tensor(0) tensor([0.5017, 0.4983], dtype=torch.float64)\n",
      "torch.Size([128, 2, 2])\n",
      "tensor(1) tensor([0.5762, 0.4238], dtype=torch.float64)\n",
      "torch.Size([128, 2, 2])\n",
      "tensor(0) tensor([0.7038, 0.2962], dtype=torch.float64)\n",
      "torch.Size([128, 2, 2])\n",
      "tensor(1) tensor([0.6095, 0.3905], dtype=torch.float64)\n",
      "torch.Size([128, 2, 2])\n",
      "tensor(1) tensor([0.6071, 0.3929], dtype=torch.float64)\n",
      "torch.Size([128, 2, 2])\n",
      "tensor(0) tensor([0.8096, 0.1904], dtype=torch.float64)\n",
      "torch.Size([128, 2, 2])\n",
      "tensor(0) tensor([0.3995, 0.6005], dtype=torch.float64)\n",
      "torch.Size([128, 2, 2])\n",
      "tensor(1) tensor([0.5476, 0.4524], dtype=torch.float64)\n",
      "torch.Size([128, 2, 2])\n",
      "tensor(0) tensor([0.8374, 0.1626], dtype=torch.float64)\n",
      "torch.Size([128, 2, 2])\n",
      "tensor(0) tensor([0.7792, 0.2208], dtype=torch.float64)\n",
      "torch.Size([128, 2, 2])\n",
      "tensor(0) tensor([0.3413, 0.6587], dtype=torch.float64)\n",
      "torch.Size([128, 2, 2])\n",
      "tensor(0) tensor([0.5252, 0.4748], dtype=torch.float64)\n",
      "torch.Size([128, 2, 2])\n",
      "tensor(0) tensor([0.5001, 0.4999], dtype=torch.float64)\n",
      "torch.Size([128, 2, 2])\n",
      "tensor(1) tensor([0.5618, 0.4382], dtype=torch.float64)\n",
      "torch.Size([128, 2, 2])\n",
      "tensor(1) tensor([0.7222, 0.2778], dtype=torch.float64)\n",
      "torch.Size([128, 2, 2])\n",
      "tensor(0) tensor([0.7565, 0.2435], dtype=torch.float64)\n",
      "torch.Size([128, 2, 2])\n",
      "tensor(1) tensor([0.6423, 0.3577], dtype=torch.float64)\n",
      "torch.Size([128, 2, 2])\n",
      "tensor(1) "
     ]
    },
    {
     "name": "stderr",
     "output_type": "stream",
     "text": [
      " 57%|█████▋    | 1415/2494 [00:04<00:03, 288.85it/s]"
     ]
    },
    {
     "name": "stdout",
     "output_type": "stream",
     "text": [
      "tensor([0.5879, 0.4121], dtype=torch.float64)\n",
      "torch.Size([128, 2, 2])\n",
      "tensor(0) tensor([0.7549, 0.2451], dtype=torch.float64)\n",
      "torch.Size([128, 2, 2])\n",
      "tensor(1) tensor([0.3630, 0.6370], dtype=torch.float64)\n",
      "torch.Size([128, 2, 2])\n",
      "tensor(1) tensor([0.5554, 0.4446], dtype=torch.float64)\n",
      "torch.Size([128, 2, 2])\n",
      "tensor(1) tensor([0.3909, 0.6091], dtype=torch.float64)\n",
      "torch.Size([128, 2, 2])\n",
      "tensor(1) tensor([0.1966, 0.8034], dtype=torch.float64)\n",
      "torch.Size([128, 2, 2])\n",
      "tensor(0) tensor([0.7028, 0.2972], dtype=torch.float64)\n",
      "torch.Size([128, 2, 2])\n",
      "tensor(1) tensor([0.4911, 0.5089], dtype=torch.float64)\n",
      "torch.Size([128, 2, 2])\n",
      "tensor(0) tensor([0.7034, 0.2966], dtype=torch.float64)\n",
      "torch.Size([128, 2, 2])\n",
      "tensor(0) tensor([0.7395, 0.2605], dtype=torch.float64)\n",
      "torch.Size([128, 2, 2])\n",
      "tensor(0) tensor([0.7929, 0.2071], dtype=torch.float64)\n",
      "torch.Size([128, 2, 2])\n",
      "tensor(0) tensor([0.6460, 0.3540], dtype=torch.float64)\n",
      "torch.Size([128, 2, 2])\n",
      "tensor(0) tensor([0.5116, 0.4884], dtype=torch.float64)\n",
      "torch.Size([128, 2, 2])\n",
      "tensor(0) tensor([0.4794, 0.5206], dtype=torch.float64)\n",
      "torch.Size([128, 2, 2])\n",
      "tensor(1) tensor([0.5833, 0.4167], dtype=torch.float64)\n",
      "torch.Size([128, 2, 2])\n",
      "tensor(1) tensor([0.5079, 0.4921], dtype=torch.float64)\n",
      "torch.Size([128, 2, 2])\n",
      "tensor(0) tensor([0.7461, 0.2539], dtype=torch.float64)\n",
      "torch.Size([128, 2, 2])\n",
      "tensor(1) tensor([0.4119, 0.5881], dtype=torch.float64)\n",
      "torch.Size([128, 2, 2])\n",
      "tensor(1) tensor([0.4371, 0.5629], dtype=torch.float64)\n",
      "torch.Size([128, 2, 2])\n",
      "tensor(0) tensor([0.7203, 0.2797], dtype=torch.float64)\n",
      "torch.Size([128, 2, 2])\n",
      "tensor(0) tensor([0.6592, 0.3408], dtype=torch.float64)\n",
      "torch.Size([128, 2, 2])\n",
      "tensor(0) tensor([0.7690, 0.2310], dtype=torch.float64)\n",
      "torch.Size([128, 2, 2])\n",
      "tensor(1) tensor([0.4877, 0.5123], dtype=torch.float64)\n",
      "torch.Size([128, 2, 2])\n",
      "tensor(1) tensor([0.3778, 0.6222], dtype=torch.float64)\n",
      "torch.Size([128, 2, 2])\n",
      "tensor(0) tensor([0.6858, 0.3142], dtype=torch.float64)\n",
      "torch.Size([128, 2, 2])\n",
      "tensor(1) tensor([0.4856, 0.5144], dtype=torch.float64)\n",
      "torch.Size([128, 2, 2])\n",
      "tensor(0) tensor([0.5123, 0.4877], dtype=torch.float64)\n",
      "torch.Size([128, 2, 2])\n",
      "tensor(1) tensor([0.5128, 0.4872], dtype=torch.float64)\n",
      "torch.Size([128, 2, 2])\n",
      "tensor(1) tensor([0.2727, 0.7273], dtype=torch.float64)\n",
      "torch.Size([128, 2, 2])\n",
      "tensor(0) tensor([0.7745, 0.2255], dtype=torch.float64)\n",
      "torch.Size([128, 2, 2])\n",
      "tensor(1) tensor([0.3872, 0.6128], dtype=torch.float64)\n",
      "torch.Size([128, 2, 2])\n",
      "tensor(0) tensor([0.4849, 0.5151], dtype=torch.float64)\n",
      "torch.Size([128, 2, 2])\n",
      "tensor(0) tensor([0.7724, 0.2276], dtype=torch.float64)\n",
      "torch.Size([128, 2, 2])\n",
      "tensor(1) tensor([0.4205, 0.5795], dtype=torch.float64)\n",
      "torch.Size([128, 2, 2])\n",
      "tensor(1) tensor([0.3945, 0.6055], dtype=torch.float64)\n",
      "torch.Size([128, 2, 2])\n",
      "tensor(0) tensor([0.6158, 0.3842], dtype=torch.float64)\n",
      "torch.Size([128, 2, 2])\n",
      "tensor(1) tensor([0.3886, 0.6114], dtype=torch.float64)\n",
      "torch.Size([128, 2, 2])\n",
      "tensor(1) tensor([0.4800, 0.5200], dtype=torch.float64)\n",
      "torch.Size([128, 2, 2])\n",
      "tensor(1) tensor([0.5281, 0.4719], dtype=torch.float64)\n",
      "torch.Size([128, 2, 2])\n",
      "tensor(1) tensor([0.3250, 0.6750], dtype=torch.float64)\n",
      "torch.Size([128, 2, 2])\n",
      "tensor(1) tensor([0.6361, 0.3639], dtype=torch.float64)\n",
      "torch.Size([128, 2, 2])\n",
      "tensor(0) tensor([0.4911, 0.5089], dtype=torch.float64)\n",
      "torch.Size([128, 2, 2])\n",
      "tensor(1) tensor([0.3833, 0.6167], dtype=torch.float64)\n",
      "torch.Size([128, 2, 2])\n",
      "tensor(0) tensor([0.6428, 0.3572], dtype=torch.float64)\n",
      "torch.Size([128, 2, 2])\n",
      "tensor(0) tensor([0.5907, 0.4093], dtype=torch.float64)\n",
      "torch.Size([128, 2, 2])\n",
      "tensor(1) tensor([0.7137, 0.2863], dtype=torch.float64)\n",
      "torch.Size([128, 2, 2])\n",
      "tensor(1) tensor([0.4258, 0.5742], dtype=torch.float64)\n",
      "torch.Size([128, 2, 2])\n",
      "tensor(1) tensor([0.3210, 0.6790], dtype=torch.float64)\n",
      "torch.Size([128, 2, 2])\n",
      "tensor(1) tensor([0.6824, 0.3176], dtype=torch.float64)\n",
      "torch.Size([128, 2, 2])\n",
      "tensor(1) tensor([0.4124, 0.5876], dtype=torch.float64)\n",
      "torch.Size([128, 2, 2])\n",
      "tensor(1) tensor([0.4633, 0.5367], dtype=torch.float64)\n",
      "torch.Size([128, 2, 2])\n",
      "tensor(1) tensor([0.2828, 0.7172], dtype=torch.float64)\n",
      "torch.Size([128, 2, 2])\n",
      "tensor(1) tensor([0.5324, 0.4676], dtype=torch.float64)\n",
      "torch.Size([128, 2, 2])\n",
      "tensor(0) tensor([0.7946, 0.2054], dtype=torch.float64)\n",
      "torch.Size([128, 2, 2])\n",
      "tensor(0) tensor([0.4985, 0.5015], dtype=torch.float64)\n",
      "torch.Size([128, 2, 2])\n",
      "tensor(0) tensor([0.3538, 0.6462], dtype=torch.float64)\n",
      "torch.Size([128, 2, 2])\n",
      "tensor(1) tensor([0.4568, 0.5432], dtype=torch.float64)\n",
      "torch.Size([128, 2, 2])\n",
      "tensor(1) tensor([0.5136, 0.4864], dtype=torch.float64)\n",
      "torch.Size([128, 2, 2])\n",
      "tensor(1) tensor([0.5520, 0.4480], dtype=torch.float64)\n",
      "torch.Size([128, 2, 2])\n",
      "tensor(1) tensor([0.6041, 0.3959], dtype=torch.float64)\n"
     ]
    },
    {
     "name": "stderr",
     "output_type": "stream",
     "text": [
      " 59%|█████▉    | 1476/2494 [00:05<00:03, 293.44it/s]"
     ]
    },
    {
     "name": "stdout",
     "output_type": "stream",
     "text": [
      "torch.Size([128, 2, 2])\n",
      "tensor(0) tensor([0.6410, 0.3590], dtype=torch.float64)\n",
      "torch.Size([128, 2, 2])\n",
      "tensor(1) tensor([0.4930, 0.5070], dtype=torch.float64)\n",
      "torch.Size([128, 2, 2])\n",
      "tensor(0) tensor([0.7035, 0.2965], dtype=torch.float64)\n",
      "torch.Size([128, 2, 2])\n",
      "tensor(1) tensor([0.4588, 0.5412], dtype=torch.float64)\n",
      "torch.Size([128, 2, 2])\n",
      "tensor(0) tensor([0.5810, 0.4190], dtype=torch.float64)\n",
      "torch.Size([128, 2, 2])\n",
      "tensor(0) tensor([0.5992, 0.4008], dtype=torch.float64)\n",
      "torch.Size([128, 2, 2])\n",
      "tensor(0) tensor([0.8357, 0.1643], dtype=torch.float64)\n",
      "torch.Size([128, 2, 2])\n",
      "tensor(1) tensor([0.5626, 0.4374], dtype=torch.float64)\n",
      "torch.Size([128, 2, 2])\n",
      "tensor(1) tensor([0.5912, 0.4088], dtype=torch.float64)\n",
      "torch.Size([128, 2, 2])\n",
      "tensor(0) tensor([0.5602, 0.4398], dtype=torch.float64)\n",
      "torch.Size([128, 2, 2])\n",
      "tensor(1) tensor([0.4186, 0.5814], dtype=torch.float64)\n",
      "torch.Size([128, 2, 2])\n",
      "tensor(1) tensor([0.7122, 0.2878], dtype=torch.float64)\n",
      "torch.Size([128, 2, 2])\n",
      "tensor(1) tensor([0.3492, 0.6508], dtype=torch.float64)\n",
      "torch.Size([128, 2, 2])\n",
      "tensor(1) tensor([0.4741, 0.5259], dtype=torch.float64)\n",
      "torch.Size([128, 2, 2])\n",
      "tensor(0) tensor([0.5471, 0.4529], dtype=torch.float64)\n",
      "torch.Size([128, 2, 2])\n",
      "tensor(1) tensor([0.5378, 0.4622], dtype=torch.float64)\n",
      "torch.Size([128, 2, 2])\n",
      "tensor(0) tensor([0.6572, 0.3428], dtype=torch.float64)\n",
      "torch.Size([128, 2, 2])\n",
      "tensor(1) tensor([0.5972, 0.4028], dtype=torch.float64)\n",
      "torch.Size([128, 2, 2])\n",
      "tensor(0) tensor([0.6815, 0.3185], dtype=torch.float64)\n",
      "torch.Size([128, 2, 2])\n",
      "tensor(1) tensor([0.2740, 0.7260], dtype=torch.float64)\n",
      "torch.Size([128, 2, 2])\n",
      "tensor(0) tensor([0.5509, 0.4491], dtype=torch.float64)\n",
      "torch.Size([128, 2, 2])\n",
      "tensor(1) tensor([0.6031, 0.3969], dtype=torch.float64)\n",
      "torch.Size([128, 2, 2])\n",
      "tensor(0) tensor([0.6667, 0.3333], dtype=torch.float64)\n",
      "torch.Size([128, 2, 2])\n",
      "tensor(1) tensor([0.5603, 0.4397], dtype=torch.float64)\n",
      "torch.Size([128, 2, 2])\n",
      "tensor(1) tensor([0.3309, 0.6691], dtype=torch.float64)\n",
      "torch.Size([128, 2, 2])\n",
      "tensor(1) tensor([0.5337, 0.4663], dtype=torch.float64)\n",
      "torch.Size([128, 2, 2])\n",
      "tensor(1) tensor([0.4140, 0.5860], dtype=torch.float64)\n",
      "torch.Size([128, 2, 2])\n",
      "tensor(1) tensor([0.2772, 0.7228], dtype=torch.float64)\n",
      "torch.Size([128, 2, 2])\n",
      "tensor(0) tensor([0.4101, 0.5899], dtype=torch.float64)\n",
      "torch.Size([128, 2, 2])\n",
      "tensor(0) tensor([0.7680, 0.2320], dtype=torch.float64)\n",
      "torch.Size([128, 2, 2])\n",
      "tensor(1) tensor([0.2956, 0.7044], dtype=torch.float64)\n",
      "torch.Size([128, 2, 2])\n",
      "tensor(0) tensor([0.5689, 0.4311], dtype=torch.float64)\n",
      "torch.Size([128, 2, 2])\n",
      "tensor(1) tensor([0.5847, 0.4153], dtype=torch.float64)\n",
      "torch.Size([128, 2, 2])\n",
      "tensor(0) tensor([0.6325, 0.3675], dtype=torch.float64)\n",
      "torch.Size([128, 2, 2])\n",
      "tensor(0) tensor([0.7787, 0.2213], dtype=torch.float64)\n",
      "torch.Size([128, 2, 2])\n",
      "tensor(0) tensor([0.6685, 0.3315], dtype=torch.float64)\n",
      "torch.Size([128, 2, 2])\n",
      "tensor(1) tensor([0.5011, 0.4989], dtype=torch.float64)\n",
      "torch.Size([128, 2, 2])\n",
      "tensor(1) tensor([0.6369, 0.3631], dtype=torch.float64)\n",
      "torch.Size([128, 2, 2])\n",
      "tensor(1) tensor([0.6270, 0.3730], dtype=torch.float64)\n",
      "torch.Size([128, 2, 2])\n",
      "tensor(1) tensor([0.3633, 0.6367], dtype=torch.float64)\n",
      "torch.Size([128, 2, 2])\n",
      "tensor(1) tensor([0.5303, 0.4697], dtype=torch.float64)\n",
      "torch.Size([128, 2, 2])\n",
      "tensor(1) tensor([0.4003, 0.5997], dtype=torch.float64)\n",
      "torch.Size([128, 2, 2])\n",
      "tensor(0) tensor([0.5614, 0.4386], dtype=torch.float64)\n",
      "torch.Size([128, 2, 2])\n",
      "tensor(0) tensor([0.6014, 0.3986], dtype=torch.float64)\n",
      "torch.Size([128, 2, 2])\n",
      "tensor(1) tensor([0.5011, 0.4989], dtype=torch.float64)\n",
      "torch.Size([128, 2, 2])\n",
      "tensor(1) tensor([0.3356, 0.6644], dtype=torch.float64)\n",
      "torch.Size([128, 2, 2])\n",
      "tensor(0) tensor([0.8291, 0.1709], dtype=torch.float64)\n",
      "torch.Size([128, 2, 2])\n",
      "tensor(0) tensor([0.3285, 0.6715], dtype=torch.float64)\n",
      "torch.Size([128, 2, 2])\n",
      "tensor(1) tensor([0.4074, 0.5926], dtype=torch.float64)\n",
      "torch.Size([128, 2, 2])\n",
      "tensor(0) tensor([0.6039, 0.3961], dtype=torch.float64)\n",
      "torch.Size([128, 2, 2])\n",
      "tensor(0) tensor([0.5300, 0.4700], dtype=torch.float64)\n",
      "torch.Size([128, 2, 2])\n",
      "tensor(1) tensor([0.6215, 0.3785], dtype=torch.float64)\n",
      "torch.Size([128, 2, 2])\n",
      "tensor(1) tensor([0.3293, 0.6707], dtype=torch.float64)\n",
      "torch.Size([128, 2, 2])\n",
      "tensor(1) tensor([0.5545, 0.4455], dtype=torch.float64)\n",
      "torch.Size([128, 2, 2])\n",
      "tensor(1) tensor([0.5683, 0.4317], dtype=torch.float64)\n",
      "torch.Size([128, 2, 2])\n",
      "tensor(0) tensor([0.7022, 0.2978], dtype=torch.float64)\n",
      "torch.Size([128, 2, 2])\n",
      "tensor(1) tensor([0.3789, 0.6211], dtype=torch.float64)\n",
      "torch.Size([128, 2, 2])\n",
      "tensor(0) tensor([0.6413, 0.3587], dtype=torch.float64)\n",
      "torch.Size([128, 2, 2])\n",
      "tensor(0) tensor([0.5494, 0.4506], dtype=torch.float64)\n",
      "torch.Size([128, 2, 2])\n",
      "tensor(1) tensor([0.4914, 0.5086], dtype=torch.float64)\n"
     ]
    },
    {
     "name": "stderr",
     "output_type": "stream",
     "text": [
      " 62%|██████▏   | 1536/2494 [00:05<00:03, 294.10it/s]"
     ]
    },
    {
     "name": "stdout",
     "output_type": "stream",
     "text": [
      "torch.Size([128, 2, 2])\n",
      "tensor(1) tensor([0.3485, 0.6515], dtype=torch.float64)\n",
      "torch.Size([128, 2, 2])\n",
      "tensor(1) tensor([0.5725, 0.4275], dtype=torch.float64)\n",
      "torch.Size([128, 2, 2])\n",
      "tensor(1) tensor([0.3943, 0.6057], dtype=torch.float64)\n",
      "torch.Size([128, 2, 2])\n",
      "tensor(1) tensor([0.5213, 0.4787], dtype=torch.float64)\n",
      "torch.Size([128, 2, 2])\n",
      "tensor(0) tensor([0.5899, 0.4101], dtype=torch.float64)\n",
      "torch.Size([128, 2, 2])\n",
      "tensor(1) tensor([0.5780, 0.4220], dtype=torch.float64)\n",
      "torch.Size([128, 2, 2])\n",
      "tensor(1) tensor([0.4552, 0.5448], dtype=torch.float64)\n",
      "torch.Size([128, 2, 2])\n",
      "tensor(1) tensor([0.5752, 0.4248], dtype=torch.float64)\n",
      "torch.Size([128, 2, 2])\n",
      "tensor(0) tensor([0.5242, 0.4758], dtype=torch.float64)\n",
      "torch.Size([128, 2, 2])\n",
      "tensor(1) tensor([0.5658, 0.4342], dtype=torch.float64)\n",
      "torch.Size([128, 2, 2])\n",
      "tensor(1) tensor([0.5541, 0.4459], dtype=torch.float64)\n",
      "torch.Size([128, 2, 2])\n",
      "tensor(1) tensor([0.5382, 0.4618], dtype=torch.float64)\n",
      "torch.Size([128, 2, 2])\n",
      "tensor(0) tensor([0.8180, 0.1820], dtype=torch.float64)\n",
      "torch.Size([128, 2, 2])\n",
      "tensor(1) tensor([0.4542, 0.5458], dtype=torch.float64)\n",
      "torch.Size([128, 2, 2])\n",
      "tensor(0) tensor([0.8244, 0.1756], dtype=torch.float64)\n",
      "torch.Size([128, 2, 2])\n",
      "tensor(0) tensor([0.7506, 0.2494], dtype=torch.float64)\n",
      "torch.Size([128, 2, 2])\n",
      "tensor(0) tensor([0.7403, 0.2597], dtype=torch.float64)\n",
      "torch.Size([128, 2, 2])\n",
      "tensor(1) tensor([0.4628, 0.5372], dtype=torch.float64)\n",
      "torch.Size([128, 2, 2])\n",
      "tensor(1) tensor([0.2596, 0.7404], dtype=torch.float64)\n",
      "torch.Size([128, 2, 2])\n",
      "tensor(0) tensor([0.5885, 0.4115], dtype=torch.float64)\n",
      "torch.Size([128, 2, 2])\n",
      "tensor(0) tensor([0.3810, 0.6190], dtype=torch.float64)\n",
      "torch.Size([128, 2, 2])\n",
      "tensor(0) tensor([0.5413, 0.4587], dtype=torch.float64)\n",
      "torch.Size([128, 2, 2])\n",
      "tensor(0) tensor([0.6901, 0.3099], dtype=torch.float64)\n",
      "torch.Size([128, 2, 2])\n",
      "tensor(1) tensor([0.3258, 0.6742], dtype=torch.float64)\n",
      "torch.Size([128, 2, 2])\n",
      "tensor(0) tensor([0.5846, 0.4154], dtype=torch.float64)\n",
      "torch.Size([128, 2, 2])\n",
      "tensor(0) tensor([0.7661, 0.2339], dtype=torch.float64)\n",
      "torch.Size([128, 2, 2])\n",
      "tensor(0) tensor([0.6597, 0.3403], dtype=torch.float64)\n",
      "torch.Size([128, 2, 2])\n",
      "tensor(1) tensor([0.4953, 0.5047], dtype=torch.float64)\n",
      "torch.Size([128, 2, 2])\n",
      "tensor(0) tensor([0.7831, 0.2169], dtype=torch.float64)\n",
      "torch.Size([128, 2, 2])\n",
      "tensor(1) tensor([0.5429, 0.4571], dtype=torch.float64)\n",
      "torch.Size([128, 2, 2])\n",
      "tensor(0) tensor([0.8261, 0.1739], dtype=torch.float64)\n",
      "torch.Size([128, 2, 2])\n",
      "tensor(1) tensor([0.4826, 0.5174], dtype=torch.float64)\n",
      "torch.Size([128, 2, 2])\n",
      "tensor(0) tensor([0.7403, 0.2597], dtype=torch.float64)\n",
      "torch.Size([128, 2, 2])\n",
      "tensor(0) tensor([0.3892, 0.6108], dtype=torch.float64)\n",
      "torch.Size([128, 2, 2])\n",
      "tensor(0) tensor([0.4703, 0.5297], dtype=torch.float64)\n",
      "torch.Size([128, 2, 2])\n",
      "tensor(0) tensor([0.6611, 0.3389], dtype=torch.float64)\n",
      "torch.Size([128, 2, 2])\n",
      "tensor(1) tensor([0.5547, 0.4453], dtype=torch.float64)\n",
      "torch.Size([128, 2, 2])\n",
      "tensor(1) tensor([0.4630, 0.5370], dtype=torch.float64)\n",
      "torch.Size([128, 2, 2])\n",
      "tensor(0) tensor([0.6367, 0.3633], dtype=torch.float64)\n",
      "torch.Size([128, 2, 2])\n",
      "tensor(0) tensor([0.4401, 0.5599], dtype=torch.float64)\n",
      "torch.Size([128, 2, 2])\n",
      "tensor(1) tensor([0.3922, 0.6078], dtype=torch.float64)\n",
      "torch.Size([128, 2, 2])\n",
      "tensor(0) tensor([0.7672, 0.2328], dtype=torch.float64)\n",
      "torch.Size([128, 2, 2])\n",
      "tensor(1) tensor([0.4487, 0.5513], dtype=torch.float64)\n",
      "torch.Size([128, 2, 2])\n",
      "tensor(1) tensor([0.4342, 0.5658], dtype=torch.float64)\n",
      "torch.Size([128, 2, 2])\n",
      "tensor(1) tensor([0.5629, 0.4371], dtype=torch.float64)\n",
      "torch.Size([128, 2, 2])\n",
      "tensor(0) tensor([0.6548, 0.3452], dtype=torch.float64)\n",
      "torch.Size([128, 2, 2])\n",
      "tensor(0) tensor([0.6264, 0.3736], dtype=torch.float64)\n",
      "torch.Size([128, 2, 2])\n",
      "tensor(1) tensor([0.5095, 0.4905], dtype=torch.float64)\n",
      "torch.Size([128, 2, 2])\n",
      "tensor(0) tensor([0.6759, 0.3241], dtype=torch.float64)\n",
      "torch.Size([128, 2, 2])\n",
      "tensor(0) tensor([0.4848, 0.5152], dtype=torch.float64)\n",
      "torch.Size([128, 2, 2])\n",
      "tensor(0) tensor([0.6393, 0.3607], dtype=torch.float64)\n",
      "torch.Size([128, 2, 2])\n",
      "tensor(0) tensor([0.5351, 0.4649], dtype=torch.float64)\n",
      "torch.Size([128, 2, 2])\n",
      "tensor(1) tensor([0.5484, 0.4516], dtype=torch.float64)\n",
      "torch.Size([128, 2, 2])\n",
      "tensor(1) tensor([0.5714, 0.4286], dtype=torch.float64)\n",
      "torch.Size([128, 2, 2])\n",
      "tensor(0) tensor([0.6186, 0.3814], dtype=torch.float64)\n",
      "torch.Size([128, 2, 2])\n",
      "tensor(1) tensor([0.3699, 0.6301], dtype=torch.float64)\n",
      "torch.Size([128, 2, 2])\n",
      "tensor(0) tensor([0.6540, 0.3460], dtype=torch.float64)\n",
      "torch.Size([128, 2, 2])\n",
      "tensor(0) tensor([0.6106, 0.3894], dtype=torch.float64)\n",
      "torch.Size([128, 2, 2])\n",
      "tensor(0) "
     ]
    },
    {
     "name": "stderr",
     "output_type": "stream",
     "text": [
      " 64%|██████▍   | 1596/2494 [00:05<00:03, 271.65it/s]"
     ]
    },
    {
     "name": "stdout",
     "output_type": "stream",
     "text": [
      "tensor([0.5223, 0.4777], dtype=torch.float64)\n",
      "torch.Size([128, 2, 2])\n",
      "tensor(1) tensor([0.6737, 0.3263], dtype=torch.float64)\n",
      "torch.Size([128, 2, 2])\n",
      "tensor(1) tensor([0.5676, 0.4324], dtype=torch.float64)\n",
      "torch.Size([128, 2, 2])\n",
      "tensor(0) tensor([0.6419, 0.3581], dtype=torch.float64)\n",
      "torch.Size([128, 2, 2])\n",
      "tensor(0) tensor([0.4094, 0.5906], dtype=torch.float64)\n",
      "torch.Size([128, 2, 2])\n",
      "tensor(0) tensor([0.6005, 0.3995], dtype=torch.float64)\n",
      "torch.Size([128, 2, 2])\n",
      "tensor(1) tensor([0.4630, 0.5370], dtype=torch.float64)\n",
      "torch.Size([128, 2, 2])\n",
      "tensor(1) tensor([0.4137, 0.5863], dtype=torch.float64)\n",
      "torch.Size([128, 2, 2])\n",
      "tensor(0) tensor([0.8821, 0.1179], dtype=torch.float64)\n",
      "torch.Size([128, 2, 2])\n",
      "tensor(1) tensor([0.3546, 0.6454], dtype=torch.float64)\n",
      "torch.Size([128, 2, 2])\n",
      "tensor(0) tensor([0.6374, 0.3626], dtype=torch.float64)\n",
      "torch.Size([128, 2, 2])\n",
      "tensor(1) tensor([0.6178, 0.3822], dtype=torch.float64)\n",
      "torch.Size([128, 2, 2])\n",
      "tensor(1) tensor([0.6461, 0.3539], dtype=torch.float64)\n",
      "torch.Size([128, 2, 2])\n",
      "tensor(0) tensor([0.7656, 0.2344], dtype=torch.float64)\n",
      "torch.Size([128, 2, 2])\n",
      "tensor(0) tensor([0.4957, 0.5043], dtype=torch.float64)\n",
      "torch.Size([128, 2, 2])\n",
      "tensor(0) tensor([0.8098, 0.1902], dtype=torch.float64)\n",
      "torch.Size([128, 2, 2])\n",
      "tensor(0) tensor([0.4342, 0.5658], dtype=torch.float64)\n",
      "torch.Size([128, 2, 2])\n",
      "tensor(0) tensor([0.5146, 0.4854], dtype=torch.float64)\n",
      "torch.Size([128, 2, 2])\n",
      "tensor(1) tensor([0.5208, 0.4792], dtype=torch.float64)\n",
      "torch.Size([128, 2, 2])\n",
      "tensor(0) tensor([0.4792, 0.5208], dtype=torch.float64)\n",
      "torch.Size([128, 2, 2])\n",
      "tensor(1) tensor([0.7682, 0.2318], dtype=torch.float64)\n",
      "torch.Size([128, 2, 2])\n",
      "tensor(1) tensor([0.6547, 0.3453], dtype=torch.float64)\n",
      "torch.Size([128, 2, 2])\n",
      "tensor(0) tensor([0.6147, 0.3853], dtype=torch.float64)\n",
      "torch.Size([128, 2, 2])\n",
      "tensor(0) tensor([0.7106, 0.2894], dtype=torch.float64)\n",
      "torch.Size([128, 2, 2])\n",
      "tensor(0) tensor([0.7051, 0.2949], dtype=torch.float64)\n",
      "torch.Size([128, 2, 2])\n",
      "tensor(0) tensor([0.6819, 0.3181], dtype=torch.float64)\n",
      "torch.Size([128, 2, 2])\n",
      "tensor(0) tensor([0.6076, 0.3924], dtype=torch.float64)\n",
      "torch.Size([128, 2, 2])\n",
      "tensor(1) tensor([0.3323, 0.6677], dtype=torch.float64)\n",
      "torch.Size([128, 2, 2])\n",
      "tensor(1) tensor([0.3438, 0.6562], dtype=torch.float64)\n",
      "torch.Size([128, 2, 2])\n",
      "tensor(1) tensor([0.7891, 0.2109], dtype=torch.float64)\n",
      "torch.Size([128, 2, 2])\n",
      "tensor(0) tensor([0.6346, 0.3654], dtype=torch.float64)\n",
      "torch.Size([128, 2, 2])\n",
      "tensor(0) tensor([0.7563, 0.2437], dtype=torch.float64)\n",
      "torch.Size([128, 2, 2])\n",
      "tensor(0) tensor([0.4521, 0.5479], dtype=torch.float64)\n",
      "torch.Size([128, 2, 2])\n",
      "tensor(0) tensor([0.2914, 0.7086], dtype=torch.float64)\n",
      "torch.Size([128, 2, 2])\n",
      "tensor(1) tensor([0.7733, 0.2267], dtype=torch.float64)\n",
      "torch.Size([128, 2, 2])\n",
      "tensor(0) tensor([0.6847, 0.3153], dtype=torch.float64)\n",
      "torch.Size([128, 2, 2])\n",
      "tensor(0) tensor([0.5134, 0.4866], dtype=torch.float64)\n",
      "torch.Size([128, 2, 2])\n",
      "tensor(1) tensor([0.5327, 0.4673], dtype=torch.float64)\n",
      "torch.Size([128, 2, 2])\n",
      "tensor(1) tensor([0.5846, 0.4154], dtype=torch.float64)\n",
      "torch.Size([128, 2, 2])\n",
      "tensor(1) tensor([0.4737, 0.5263], dtype=torch.float64)\n",
      "torch.Size([128, 2, 2])\n",
      "tensor(0) tensor([0.4596, 0.5404], dtype=torch.float64)\n",
      "torch.Size([128, 2, 2])\n",
      "tensor(1) tensor([0.6441, 0.3559], dtype=torch.float64)\n",
      "torch.Size([128, 2, 2])\n",
      "tensor(1) tensor([0.7698, 0.2302], dtype=torch.float64)\n",
      "torch.Size([128, 2, 2])\n",
      "tensor(1) tensor([0.5157, 0.4843], dtype=torch.float64)\n",
      "torch.Size([128, 2, 2])\n",
      "tensor(0) tensor([0.4577, 0.5423], dtype=torch.float64)\n",
      "torch.Size([128, 2, 2])\n",
      "tensor(1) tensor([0.4174, 0.5826], dtype=torch.float64)\n",
      "torch.Size([128, 2, 2])\n",
      "tensor(1) tensor([0.5653, 0.4347], dtype=torch.float64)\n",
      "torch.Size([128, 2, 2])\n",
      "tensor(0) tensor([0.6731, 0.3269], dtype=torch.float64)\n",
      "torch.Size([128, 2, 2])\n",
      "tensor(1) tensor([0.6347, 0.3653], dtype=torch.float64)\n",
      "torch.Size([128, 2, 2])\n",
      "tensor(1) tensor([0.3647, 0.6353], dtype=torch.float64)\n",
      "torch.Size([128, 2, 2])\n",
      "tensor(0) tensor([0.6207, 0.3793], dtype=torch.float64)\n"
     ]
    },
    {
     "name": "stderr",
     "output_type": "stream",
     "text": [
      " 66%|██████▌   | 1652/2494 [00:05<00:03, 269.29it/s]"
     ]
    },
    {
     "name": "stdout",
     "output_type": "stream",
     "text": [
      "torch.Size([128, 2, 2])\n",
      "tensor(0) tensor([0.6960, 0.3040], dtype=torch.float64)\n",
      "torch.Size([128, 2, 2])\n",
      "tensor(0) tensor([0.8301, 0.1699], dtype=torch.float64)\n",
      "torch.Size([128, 2, 2])\n",
      "tensor(0) tensor([0.6870, 0.3130], dtype=torch.float64)\n",
      "torch.Size([128, 2, 2])\n",
      "tensor(1) tensor([0.7123, 0.2877], dtype=torch.float64)\n",
      "torch.Size([128, 2, 2])\n",
      "tensor(1) tensor([0.3553, 0.6447], dtype=torch.float64)\n",
      "torch.Size([128, 2, 2])\n",
      "tensor(1) tensor([0.5129, 0.4871], dtype=torch.float64)\n",
      "torch.Size([128, 2, 2])\n",
      "tensor(1) tensor([0.5535, 0.4465], dtype=torch.float64)\n",
      "torch.Size([128, 2, 2])\n",
      "tensor(1) tensor([0.5206, 0.4794], dtype=torch.float64)\n",
      "torch.Size([128, 2, 2])\n",
      "tensor(0) tensor([0.5630, 0.4370], dtype=torch.float64)\n",
      "torch.Size([128, 2, 2])\n",
      "tensor(0) tensor([0.5786, 0.4214], dtype=torch.float64)\n",
      "torch.Size([128, 2, 2])\n",
      "tensor(0) tensor([0.6395, 0.3605], dtype=torch.float64)\n",
      "torch.Size([128, 2, 2])\n",
      "tensor(1) tensor([0.6317, 0.3683], dtype=torch.float64)\n",
      "torch.Size([128, 2, 2])\n",
      "tensor(0) tensor([0.6993, 0.3007], dtype=torch.float64)\n",
      "torch.Size([128, 2, 2])\n",
      "tensor(1) tensor([0.7209, 0.2791], dtype=torch.float64)\n",
      "torch.Size([128, 2, 2])\n",
      "tensor(1) tensor([0.4416, 0.5584], dtype=torch.float64)\n",
      "torch.Size([128, 2, 2])\n",
      "tensor(0) tensor([0.6230, 0.3770], dtype=torch.float64)\n",
      "torch.Size([128, 2, 2])\n",
      "tensor(0) tensor([0.7320, 0.2680], dtype=torch.float64)\n",
      "torch.Size([128, 2, 2])\n",
      "tensor(0) tensor([0.5155, 0.4845], dtype=torch.float64)\n",
      "torch.Size([128, 2, 2])\n",
      "tensor(0) tensor([0.6151, 0.3849], dtype=torch.float64)\n",
      "torch.Size([128, 2, 2])\n",
      "tensor(0) tensor([0.7083, 0.2917], dtype=torch.float64)\n",
      "torch.Size([128, 2, 2])\n",
      "tensor(0) tensor([0.5920, 0.4080], dtype=torch.float64)\n",
      "torch.Size([128, 2, 2])\n",
      "tensor(0) tensor([0.8277, 0.1723], dtype=torch.float64)\n",
      "torch.Size([128, 2, 2])\n",
      "tensor(1) tensor([0.5432, 0.4568], dtype=torch.float64)\n",
      "torch.Size([128, 2, 2])\n",
      "tensor(0) tensor([0.6293, 0.3707], dtype=torch.float64)\n",
      "torch.Size([128, 2, 2])\n",
      "tensor(0) tensor([0.8468, 0.1532], dtype=torch.float64)\n",
      "torch.Size([128, 2, 2])\n",
      "tensor(0) tensor([0.4590, 0.5410], dtype=torch.float64)\n",
      "torch.Size([128, 2, 2])\n",
      "tensor(0) tensor([0.3708, 0.6292], dtype=torch.float64)\n",
      "torch.Size([128, 2, 2])\n",
      "tensor(1) tensor([0.3603, 0.6397], dtype=torch.float64)\n",
      "torch.Size([128, 2, 2])\n",
      "tensor(0) tensor([0.7936, 0.2064], dtype=torch.float64)\n",
      "torch.Size([128, 2, 2])\n",
      "tensor(0) tensor([0.8489, 0.1511], dtype=torch.float64)\n",
      "torch.Size([128, 2, 2])\n",
      "tensor(0) tensor([0.6646, 0.3354], dtype=torch.float64)\n",
      "torch.Size([128, 2, 2])\n",
      "tensor(1) tensor([0.6496, 0.3504], dtype=torch.float64)\n",
      "torch.Size([128, 2, 2])\n",
      "tensor(1) tensor([0.4158, 0.5842], dtype=torch.float64)\n",
      "torch.Size([128, 2, 2])\n",
      "tensor(0) tensor([0.6215, 0.3785], dtype=torch.float64)\n",
      "torch.Size([128, 2, 2])\n",
      "tensor(0) tensor([0.3195, 0.6805], dtype=torch.float64)\n",
      "torch.Size([128, 2, 2])\n",
      "tensor(0) tensor([0.5764, 0.4236], dtype=torch.float64)\n",
      "torch.Size([128, 2, 2])\n",
      "tensor(0) tensor([0.3795, 0.6205], dtype=torch.float64)\n",
      "torch.Size([128, 2, 2])\n",
      "tensor(1) tensor([0.3492, 0.6508], dtype=torch.float64)\n",
      "torch.Size([128, 2, 2])\n",
      "tensor(1) tensor([0.6482, 0.3518], dtype=torch.float64)\n",
      "torch.Size([128, 2, 2])\n",
      "tensor(1) tensor([0.8213, 0.1787], dtype=torch.float64)\n",
      "torch.Size([128, 2, 2])\n",
      "tensor(1) tensor([0.4512, 0.5488], dtype=torch.float64)\n",
      "torch.Size([128, 2, 2])\n",
      "tensor(0) tensor([0.4574, 0.5426], dtype=torch.float64)\n",
      "torch.Size([128, 2, 2])\n",
      "tensor(0) tensor([0.4942, 0.5058], dtype=torch.float64)\n",
      "torch.Size([128, 2, 2])\n",
      "tensor(1) tensor([0.7701, 0.2299], dtype=torch.float64)\n",
      "torch.Size([128, 2, 2])\n",
      "tensor(1) tensor([0.7314, 0.2686], dtype=torch.float64)\n",
      "torch.Size([128, 2, 2])\n",
      "tensor(1) tensor([0.4527, 0.5473], dtype=torch.float64)\n",
      "torch.Size([128, 2, 2])\n",
      "tensor(0) tensor([0.5364, 0.4636], dtype=torch.float64)\n",
      "torch.Size([128, 2, 2])\n",
      "tensor(1) tensor([0.4304, 0.5696], dtype=torch.float64)\n",
      "torch.Size([128, 2, 2])\n",
      "tensor(1) tensor([0.7177, 0.2823], dtype=torch.float64)\n",
      "torch.Size([128, 2, 2])\n",
      "tensor(0) tensor([0.8124, 0.1876], dtype=torch.float64)\n",
      "torch.Size([128, 2, 2])\n",
      "tensor(1) tensor([0.4945, 0.5055], dtype=torch.float64)\n",
      "torch.Size([128, 2, 2])\n",
      "tensor(1) tensor([0.4472, 0.5528], dtype=torch.float64)\n",
      "torch.Size([128, 2, 2])\n",
      "tensor(0) tensor([0.6210, 0.3790], dtype=torch.float64)\n",
      "torch.Size([128, 2, 2])\n",
      "tensor(0) tensor([0.6860, 0.3140], dtype=torch.float64)\n"
     ]
    },
    {
     "name": "stderr",
     "output_type": "stream",
     "text": [
      " 69%|██████▊   | 1713/2494 [00:06<00:02, 283.30it/s]"
     ]
    },
    {
     "name": "stdout",
     "output_type": "stream",
     "text": [
      "torch.Size([128, 2, 2])\n",
      "tensor(0) tensor([0.6275, 0.3725], dtype=torch.float64)\n",
      "torch.Size([128, 2, 2])\n",
      "tensor(0) tensor([0.8308, 0.1692], dtype=torch.float64)\n",
      "torch.Size([128, 2, 2])\n",
      "tensor(0) tensor([0.6054, 0.3946], dtype=torch.float64)\n",
      "torch.Size([128, 2, 2])\n",
      "tensor(1) tensor([0.3838, 0.6162], dtype=torch.float64)\n",
      "torch.Size([128, 2, 2])\n",
      "tensor(0) tensor([0.7120, 0.2880], dtype=torch.float64)\n",
      "torch.Size([128, 2, 2])\n",
      "tensor(0) tensor([0.6596, 0.3404], dtype=torch.float64)\n",
      "torch.Size([128, 2, 2])\n",
      "tensor(1) tensor([0.5581, 0.4419], dtype=torch.float64)\n",
      "torch.Size([128, 2, 2])\n",
      "tensor(1) tensor([0.5814, 0.4186], dtype=torch.float64)\n",
      "torch.Size([128, 2, 2])\n",
      "tensor(0) tensor([0.6534, 0.3466], dtype=torch.float64)\n",
      "torch.Size([128, 2, 2])\n",
      "tensor(1) tensor([0.6577, 0.3423], dtype=torch.float64)\n",
      "torch.Size([128, 2, 2])\n",
      "tensor(1) tensor([0.3406, 0.6594], dtype=torch.float64)\n",
      "torch.Size([128, 2, 2])\n",
      "tensor(1) tensor([0.3374, 0.6626], dtype=torch.float64)\n",
      "torch.Size([128, 2, 2])\n",
      "tensor(1) tensor([0.5238, 0.4762], dtype=torch.float64)\n",
      "torch.Size([128, 2, 2])\n",
      "tensor(0) tensor([0.8378, 0.1622], dtype=torch.float64)\n",
      "torch.Size([128, 2, 2])\n",
      "tensor(1) tensor([0.5857, 0.4143], dtype=torch.float64)\n",
      "torch.Size([128, 2, 2])\n",
      "tensor(0) tensor([0.7332, 0.2668], dtype=torch.float64)\n",
      "torch.Size([128, 2, 2])\n",
      "tensor(0) tensor([0.8458, 0.1542], dtype=torch.float64)\n",
      "torch.Size([128, 2, 2])\n",
      "tensor(1) tensor([0.4273, 0.5727], dtype=torch.float64)\n",
      "torch.Size([128, 2, 2])\n",
      "tensor(1) tensor([0.3675, 0.6325], dtype=torch.float64)\n",
      "torch.Size([128, 2, 2])\n",
      "tensor(1) tensor([0.3494, 0.6506], dtype=torch.float64)\n",
      "torch.Size([128, 2, 2])\n",
      "tensor(1) tensor([0.5997, 0.4003], dtype=torch.float64)\n",
      "torch.Size([128, 2, 2])\n",
      "tensor(1) tensor([0.5788, 0.4212], dtype=torch.float64)\n",
      "torch.Size([128, 2, 2])\n",
      "tensor(0) tensor([0.6351, 0.3649], dtype=torch.float64)\n",
      "torch.Size([128, 2, 2])\n",
      "tensor(1) tensor([0.6442, 0.3558], dtype=torch.float64)\n",
      "torch.Size([128, 2, 2])\n",
      "tensor(1) tensor([0.3938, 0.6062], dtype=torch.float64)\n",
      "torch.Size([128, 2, 2])\n",
      "tensor(1) tensor([0.3207, 0.6793], dtype=torch.float64)\n",
      "torch.Size([128, 2, 2])\n",
      "tensor(0) tensor([0.7175, 0.2825], dtype=torch.float64)\n",
      "torch.Size([128, 2, 2])\n",
      "tensor(0) tensor([0.7070, 0.2930], dtype=torch.float64)\n",
      "torch.Size([128, 2, 2])\n",
      "tensor(0) tensor([0.6129, 0.3871], dtype=torch.float64)\n",
      "torch.Size([128, 2, 2])\n",
      "tensor(0) tensor([0.7717, 0.2283], dtype=torch.float64)\n",
      "torch.Size([128, 2, 2])\n",
      "tensor(1) tensor([0.8004, 0.1996], dtype=torch.float64)\n",
      "torch.Size([128, 2, 2])\n",
      "tensor(0) tensor([0.5942, 0.4058], dtype=torch.float64)\n",
      "torch.Size([128, 2, 2])\n",
      "tensor(1) tensor([0.5875, 0.4125], dtype=torch.float64)\n",
      "torch.Size([128, 2, 2])\n",
      "tensor(0) tensor([0.4753, 0.5247], dtype=torch.float64)\n",
      "torch.Size([128, 2, 2])\n",
      "tensor(0) tensor([0.7421, 0.2579], dtype=torch.float64)\n",
      "torch.Size([128, 2, 2])\n",
      "tensor(0) tensor([0.5630, 0.4370], dtype=torch.float64)\n",
      "torch.Size([128, 2, 2])\n",
      "tensor(0) tensor([0.5697, 0.4303], dtype=torch.float64)\n",
      "torch.Size([128, 2, 2])\n",
      "tensor(1) tensor([0.6423, 0.3577], dtype=torch.float64)\n",
      "torch.Size([128, 2, 2])\n",
      "tensor(1) tensor([0.4894, 0.5106], dtype=torch.float64)\n",
      "torch.Size([128, 2, 2])\n",
      "tensor(1) tensor([0.6932, 0.3068], dtype=torch.float64)\n",
      "torch.Size([128, 2, 2])\n",
      "tensor(0) tensor([0.4518, 0.5482], dtype=torch.float64)\n",
      "torch.Size([128, 2, 2])\n",
      "tensor(0) tensor([0.7465, 0.2535], dtype=torch.float64)\n",
      "torch.Size([128, 2, 2])\n",
      "tensor(0) tensor([0.3452, 0.6548], dtype=torch.float64)\n",
      "torch.Size([128, 2, 2])\n",
      "tensor(1) tensor([0.5009, 0.4991], dtype=torch.float64)\n",
      "torch.Size([128, 2, 2])\n",
      "tensor(1) tensor([0.5377, 0.4623], dtype=torch.float64)\n",
      "torch.Size([128, 2, 2])\n",
      "tensor(0) tensor([0.8440, 0.1560], dtype=torch.float64)\n",
      "torch.Size([128, 2, 2])\n",
      "tensor(1) tensor([0.7096, 0.2904], dtype=torch.float64)\n",
      "torch.Size([128, 2, 2])\n",
      "tensor(1) tensor([0.6059, 0.3941], dtype=torch.float64)\n",
      "torch.Size([128, 2, 2])\n",
      "tensor(0) tensor([0.6750, 0.3250], dtype=torch.float64)\n",
      "torch.Size([128, 2, 2])\n",
      "tensor(1) tensor([0.7615, 0.2385], dtype=torch.float64)\n",
      "torch.Size([128, 2, 2])\n",
      "tensor(1) tensor([0.4501, 0.5499], dtype=torch.float64)\n",
      "torch.Size([128, 2, 2])\n",
      "tensor(1) tensor([0.6236, 0.3764], dtype=torch.float64)\n",
      "torch.Size([128, 2, 2])\n",
      "tensor(1) tensor([0.3539, 0.6461], dtype=torch.float64)\n",
      "torch.Size([128, 2, 2])\n",
      "tensor(1) tensor([0.1941, 0.8059], dtype=torch.float64)\n",
      "torch.Size([128, 2, 2])\n",
      "tensor(0) tensor([0.7745, 0.2255], dtype=torch.float64)\n",
      "torch.Size([128, 2, 2])\n",
      "tensor(1) tensor([0.4112, 0.5888], dtype=torch.float64)\n",
      "torch.Size([128, 2, 2])\n",
      "tensor(1) tensor([0.4999, 0.5001], dtype=torch.float64)\n",
      "torch.Size([128, 2, 2])\n",
      "tensor(1) tensor([0.5667, 0.4333], dtype=torch.float64)\n",
      "torch.Size([128, 2, 2])\n",
      "tensor(0) tensor([0.5355, 0.4645], dtype=torch.float64)\n",
      "torch.Size([128, 2, 2])\n",
      "tensor(0) tensor([0.7762, 0.2238], dtype=torch.float64)\n"
     ]
    },
    {
     "name": "stderr",
     "output_type": "stream",
     "text": [
      " 71%|███████   | 1773/2494 [00:06<00:02, 290.12it/s]"
     ]
    },
    {
     "name": "stdout",
     "output_type": "stream",
     "text": [
      "torch.Size([128, 2, 2])\n",
      "tensor(1) tensor([0.4517, 0.5483], dtype=torch.float64)\n",
      "torch.Size([128, 2, 2])\n",
      "tensor(0) tensor([0.7590, 0.2410], dtype=torch.float64)\n",
      "torch.Size([128, 2, 2])\n",
      "tensor(0) tensor([0.6404, 0.3596], dtype=torch.float64)\n",
      "torch.Size([128, 2, 2])\n",
      "tensor(0) tensor([0.5668, 0.4332], dtype=torch.float64)\n",
      "torch.Size([128, 2, 2])\n",
      "tensor(1) tensor([0.5169, 0.4831], dtype=torch.float64)\n",
      "torch.Size([128, 2, 2])\n",
      "tensor(1) tensor([0.7092, 0.2908], dtype=torch.float64)\n",
      "torch.Size([128, 2, 2])\n",
      "tensor(0) tensor([0.6117, 0.3883], dtype=torch.float64)\n",
      "torch.Size([128, 2, 2])\n",
      "tensor(1) tensor([0.4738, 0.5262], dtype=torch.float64)\n",
      "torch.Size([128, 2, 2])\n",
      "tensor(1) tensor([0.5681, 0.4319], dtype=torch.float64)\n",
      "torch.Size([128, 2, 2])\n",
      "tensor(0) tensor([0.4880, 0.5120], dtype=torch.float64)\n",
      "torch.Size([128, 2, 2])\n",
      "tensor(1) tensor([0.3531, 0.6469], dtype=torch.float64)\n",
      "torch.Size([128, 2, 2])\n",
      "tensor(1) tensor([0.4570, 0.5430], dtype=torch.float64)\n",
      "torch.Size([128, 2, 2])\n",
      "tensor(1) tensor([0.4621, 0.5379], dtype=torch.float64)\n",
      "torch.Size([128, 2, 2])\n",
      "tensor(1) tensor([0.4187, 0.5813], dtype=torch.float64)\n",
      "torch.Size([128, 2, 2])\n",
      "tensor(1) tensor([0.7223, 0.2777], dtype=torch.float64)\n",
      "torch.Size([128, 2, 2])\n",
      "tensor(1) tensor([0.3712, 0.6288], dtype=torch.float64)\n",
      "torch.Size([128, 2, 2])\n",
      "tensor(0) tensor([0.6952, 0.3048], dtype=torch.float64)\n",
      "torch.Size([128, 2, 2])\n",
      "tensor(1) tensor([0.4277, 0.5723], dtype=torch.float64)\n",
      "torch.Size([128, 2, 2])\n",
      "tensor(0) tensor([0.4989, 0.5011], dtype=torch.float64)\n",
      "torch.Size([128, 2, 2])\n",
      "tensor(0) tensor([0.7103, 0.2897], dtype=torch.float64)\n",
      "torch.Size([128, 2, 2])\n",
      "tensor(0) tensor([0.7747, 0.2253], dtype=torch.float64)\n",
      "torch.Size([128, 2, 2])\n",
      "tensor(0) tensor([0.8381, 0.1619], dtype=torch.float64)\n",
      "torch.Size([128, 2, 2])\n",
      "tensor(0) tensor([0.7731, 0.2269], dtype=torch.float64)\n",
      "torch.Size([128, 2, 2])\n",
      "tensor(1) tensor([0.4214, 0.5786], dtype=torch.float64)\n",
      "torch.Size([128, 2, 2])\n",
      "tensor(1) tensor([0.6104, 0.3896], dtype=torch.float64)\n",
      "torch.Size([128, 2, 2])\n",
      "tensor(1) tensor([0.3316, 0.6684], dtype=torch.float64)\n",
      "torch.Size([128, 2, 2])\n",
      "tensor(1) tensor([0.5513, 0.4487], dtype=torch.float64)\n",
      "torch.Size([128, 2, 2])\n",
      "tensor(0) tensor([0.8095, 0.1905], dtype=torch.float64)\n",
      "torch.Size([128, 2, 2])\n",
      "tensor(1) tensor([0.6427, 0.3573], dtype=torch.float64)\n",
      "torch.Size([128, 2, 2])\n",
      "tensor(1) tensor([0.4328, 0.5672], dtype=torch.float64)\n",
      "torch.Size([128, 2, 2])\n",
      "tensor(0) tensor([0.6144, 0.3856], dtype=torch.float64)\n",
      "torch.Size([128, 2, 2])\n",
      "tensor(1) tensor([0.3955, 0.6045], dtype=torch.float64)\n",
      "torch.Size([128, 2, 2])\n",
      "tensor(0) tensor([0.6241, 0.3759], dtype=torch.float64)\n",
      "torch.Size([128, 2, 2])\n",
      "tensor(0) tensor([0.7012, 0.2988], dtype=torch.float64)\n",
      "torch.Size([128, 2, 2])\n",
      "tensor(0) tensor([0.8402, 0.1598], dtype=torch.float64)\n",
      "torch.Size([128, 2, 2])\n",
      "tensor(0) tensor([0.6480, 0.3520], dtype=torch.float64)\n",
      "torch.Size([128, 2, 2])\n",
      "tensor(1) tensor([0.4565, 0.5435], dtype=torch.float64)\n",
      "torch.Size([128, 2, 2])\n",
      "tensor(0) tensor([0.5776, 0.4224], dtype=torch.float64)\n",
      "torch.Size([128, 2, 2])\n",
      "tensor(0) tensor([0.6460, 0.3540], dtype=torch.float64)\n",
      "torch.Size([128, 2, 2])\n",
      "tensor(0) tensor([0.5245, 0.4755], dtype=torch.float64)\n",
      "torch.Size([128, 2, 2])\n",
      "tensor(1) tensor([0.8456, 0.1544], dtype=torch.float64)\n",
      "torch.Size([128, 2, 2])\n",
      "tensor(0) tensor([0.6026, 0.3974], dtype=torch.float64)\n",
      "torch.Size([128, 2, 2])\n",
      "tensor(1) tensor([0.5582, 0.4418], dtype=torch.float64)\n",
      "torch.Size([128, 2, 2])\n",
      "tensor(1) tensor([0.2839, 0.7161], dtype=torch.float64)\n",
      "torch.Size([128, 2, 2])\n",
      "tensor(0) tensor([0.7573, 0.2427], dtype=torch.float64)\n",
      "torch.Size([128, 2, 2])\n",
      "tensor(0) tensor([0.4917, 0.5083], dtype=torch.float64)\n",
      "torch.Size([128, 2, 2])\n",
      "tensor(1) tensor([0.2351, 0.7649], dtype=torch.float64)\n",
      "torch.Size([128, 2, 2])\n",
      "tensor(1) tensor([0.3740, 0.6260], dtype=torch.float64)\n",
      "torch.Size([128, 2, 2])\n",
      "tensor(1) tensor([0.5112, 0.4888], dtype=torch.float64)\n",
      "torch.Size([128, 2, 2])\n",
      "tensor(0) tensor([0.4266, 0.5734], dtype=torch.float64)\n",
      "torch.Size([128, 2, 2])\n",
      "tensor(1) tensor([0.6555, 0.3445], dtype=torch.float64)\n",
      "torch.Size([128, 2, 2])\n",
      "tensor(0) tensor([0.5141, 0.4859], dtype=torch.float64)\n",
      "torch.Size([128, 2, 2])\n",
      "tensor(0) tensor([0.8019, 0.1981], dtype=torch.float64)\n",
      "torch.Size([128, 2, 2])\n",
      "tensor(1) tensor([0.4427, 0.5573], dtype=torch.float64)\n",
      "torch.Size([128, 2, 2])\n",
      "tensor(0) tensor([0.3894, 0.6106], dtype=torch.float64)\n",
      "torch.Size([128, 2, 2])\n",
      "tensor(0) tensor([0.8128, 0.1872], dtype=torch.float64)\n",
      "torch.Size([128, 2, 2])\n",
      "tensor(1) tensor([0.2461, 0.7539], dtype=torch.float64)\n",
      "torch.Size([128, 2, 2])\n",
      "tensor(0) tensor([0.8271, 0.1729], dtype=torch.float64)\n",
      "torch.Size([128, 2, 2])\n",
      "tensor(0) tensor([0.6114, 0.3886], dtype=torch.float64)\n",
      "torch.Size([128, 2, 2])\n",
      "tensor(1) tensor([0.5487, 0.4513], dtype=torch.float64)\n"
     ]
    },
    {
     "name": "stderr",
     "output_type": "stream",
     "text": [
      "\r",
      " 72%|███████▏  | 1803/2494 [00:06<00:02, 285.34it/s]"
     ]
    },
    {
     "name": "stdout",
     "output_type": "stream",
     "text": [
      "torch.Size([128, 2, 2])\n",
      "tensor(0) tensor([0.6661, 0.3339], dtype=torch.float64)\n",
      "torch.Size([128, 2, 2])\n",
      "tensor(1) tensor([0.5342, 0.4658], dtype=torch.float64)\n",
      "torch.Size([128, 2, 2])\n",
      "tensor(0) tensor([0.7400, 0.2600], dtype=torch.float64)\n",
      "torch.Size([128, 2, 2])\n",
      "tensor(1) tensor([0.4343, 0.5657], dtype=torch.float64)\n",
      "torch.Size([128, 2, 2])\n",
      "tensor(0) tensor([0.7399, 0.2601], dtype=torch.float64)\n",
      "torch.Size([128, 2, 2])\n",
      "tensor(1) tensor([0.7464, 0.2536], dtype=torch.float64)\n",
      "torch.Size([128, 2, 2])\n",
      "tensor(1) tensor([0.5780, 0.4220], dtype=torch.float64)\n",
      "torch.Size([128, 2, 2])\n",
      "tensor(0) tensor([0.5225, 0.4775], dtype=torch.float64)\n",
      "torch.Size([128, 2, 2])\n",
      "tensor(1) tensor([0.5786, 0.4214], dtype=torch.float64)\n",
      "torch.Size([128, 2, 2])\n",
      "tensor(1) tensor([0.4775, 0.5225], dtype=torch.float64)\n",
      "torch.Size([128, 2, 2])\n",
      "tensor(0) tensor([0.8534, 0.1466], dtype=torch.float64)\n",
      "torch.Size([128, 2, 2])\n",
      "tensor(0) tensor([0.4510, 0.5490], dtype=torch.float64)\n",
      "torch.Size([128, 2, 2])\n",
      "tensor(1) tensor([0.4863, 0.5137], dtype=torch.float64)\n",
      "torch.Size([128, 2, 2])\n",
      "tensor(0) tensor([0.3923, 0.6077], dtype=torch.float64)\n",
      "torch.Size([128, 2, 2])\n",
      "tensor(1) tensor([0.5860, 0.4140], dtype=torch.float64)\n",
      "torch.Size([128, 2, 2])\n",
      "tensor(1) tensor([0.5007, 0.4993], dtype=torch.float64)\n",
      "torch.Size([128, 2, 2])\n",
      "tensor(1) tensor([0.5840, 0.4160], dtype=torch.float64)\n",
      "torch.Size([128, 2, 2])\n",
      "tensor(0) tensor([0.7469, 0.2531], dtype=torch.float64)\n",
      "torch.Size([128, 2, 2])\n",
      "tensor(1) tensor([0.6263, 0.3737], dtype=torch.float64)\n",
      "torch.Size([128, 2, 2])\n",
      "tensor(0) tensor([0.4223, 0.5777], dtype=torch.float64)\n",
      "torch.Size([128, 2, 2])\n",
      "tensor(1) tensor([0.3010, 0.6990], dtype=torch.float64)\n",
      "torch.Size([128, 2, 2])\n",
      "tensor(1) tensor([0.7948, 0.2052], dtype=torch.float64)\n",
      "torch.Size([128, 2, 2])\n",
      "tensor(1) tensor([0.3188, 0.6812], dtype=torch.float64)\n",
      "torch.Size([128, 2, 2])\n",
      "tensor(0) tensor([0.6605, 0.3395], dtype=torch.float64)\n",
      "torch.Size([128, 2, 2])\n",
      "tensor(0) tensor([0.5105, 0.4895], dtype=torch.float64)\n",
      "torch.Size([128, 2, 2])\n",
      "tensor(0) tensor([0.5113, 0.4887], dtype=torch.float64)\n",
      "torch.Size([128, 2, 2])\n",
      "tensor(0) tensor([0.2877, 0.7123], dtype=torch.float64)\n",
      "torch.Size([128, 2, 2])\n",
      "tensor(1) tensor([0.6587, 0.3413], dtype=torch.float64)\n",
      "torch.Size([128, 2, 2])\n",
      "tensor(1) tensor([0.7221, 0.2779], dtype=torch.float64)\n",
      "torch.Size([128, 2, 2])\n",
      "tensor(0) tensor([0.4958, 0.5042], dtype=torch.float64)\n",
      "torch.Size([128, 2, 2])\n",
      "tensor(0) tensor([0.4925, 0.5075], dtype=torch.float64)\n",
      "torch.Size([128, 2, 2])\n",
      "tensor(1) tensor([0.4192, 0.5808], dtype=torch.float64)\n",
      "torch.Size([128, 2, 2])\n",
      "tensor(0) tensor([0.7633, 0.2367], dtype=torch.float64)\n",
      "torch.Size([128, 2, 2])\n",
      "tensor(0) tensor([0.3041, 0.6959], dtype=torch.float64)\n",
      "torch.Size([128, 2, 2])\n",
      "tensor(0) tensor([0.4124, 0.5876], dtype=torch.float64)\n",
      "torch.Size([128, 2, 2])\n",
      "tensor(1) tensor([0.5797, 0.4203], dtype=torch.float64)\n",
      "torch.Size([128, 2, 2])\n",
      "tensor(1) tensor([0.4144, 0.5856], dtype=torch.float64)\n",
      "torch.Size([128, 2, 2])\n",
      "tensor(0) tensor([0.5980, 0.4020], dtype=torch.float64)\n",
      "torch.Size([128, 2, 2])\n",
      "tensor(1) tensor([0.5605, 0.4395], dtype=torch.float64)\n",
      "torch.Size([128, 2, 2])\n",
      "tensor(1) tensor([0.3780, 0.6220], dtype=torch.float64)\n",
      "torch.Size([128, 2, 2])\n",
      "tensor(0) tensor([0.5121, 0.4879], dtype=torch.float64)\n",
      "torch.Size([128, 2, 2])\n",
      "tensor(0) tensor([0.7712, 0.2288], dtype=torch.float64)\n",
      "torch.Size([128, 2, 2])\n",
      "tensor(1) tensor([0.5748, 0.4252], dtype=torch.float64)\n",
      "torch.Size([128, 2, 2])\n",
      "tensor(0) tensor([0.6309, 0.3691], dtype=torch.float64)\n",
      "torch.Size([128, 2, 2])\n",
      "tensor(0) tensor([0.8116, 0.1884], dtype=torch.float64)\n",
      "torch.Size([128, 2, 2])\n",
      "tensor(0) tensor([0.6306, 0.3694], dtype=torch.float64)\n",
      "torch.Size([128, 2, 2])\n",
      "tensor(1) tensor([0.2608, 0.7392], dtype=torch.float64)\n",
      "torch.Size([128, 2, 2])\n",
      "tensor(0) tensor([0.7434, 0.2566], dtype=torch.float64)\n",
      "torch.Size([128, 2, 2])\n",
      "tensor(1) tensor([0.6171, 0.3829], dtype=torch.float64)\n",
      "torch.Size([128, 2, 2])\n",
      "tensor(1) tensor([0.3887, 0.6113], dtype=torch.float64)\n",
      "torch.Size([128, 2, 2])\n",
      "tensor(0) tensor([0.7282, 0.2718], dtype=torch.float64)\n",
      "torch.Size([128, 2, 2])\n",
      "tensor(0) tensor([0.6001, 0.3999], dtype=torch.float64)\n",
      "torch.Size([128, 2, 2])\n",
      "tensor(0) tensor([0.7593, 0.2407], dtype=torch.float64)\n",
      "torch.Size([128, 2, 2])\n",
      "tensor(1) tensor([0.4577, 0.5423], dtype=torch.float64)\n"
     ]
    },
    {
     "name": "stderr",
     "output_type": "stream",
     "text": [
      " 75%|███████▍  | 1860/2494 [00:06<00:02, 269.69it/s]"
     ]
    },
    {
     "name": "stdout",
     "output_type": "stream",
     "text": [
      "torch.Size([128, 2, 2])\n",
      "tensor(1) tensor([0.5720, 0.4280], dtype=torch.float64)\n",
      "torch.Size([128, 2, 2])\n",
      "tensor(1) tensor([0.6235, 0.3765], dtype=torch.float64)\n",
      "torch.Size([128, 2, 2])\n",
      "tensor(0) tensor([0.8132, 0.1868], dtype=torch.float64)\n",
      "torch.Size([128, 2, 2])\n",
      "tensor(1) tensor([0.5802, 0.4198], dtype=torch.float64)\n",
      "torch.Size([128, 2, 2])\n",
      "tensor(1) tensor([0.4952, 0.5048], dtype=torch.float64)\n",
      "torch.Size([128, 2, 2])\n",
      "tensor(1) tensor([0.4723, 0.5277], dtype=torch.float64)\n",
      "torch.Size([128, 2, 2])\n",
      "tensor(0) tensor([0.7244, 0.2756], dtype=torch.float64)\n",
      "torch.Size([128, 2, 2])\n",
      "tensor(0) tensor([0.7972, 0.2028], dtype=torch.float64)\n",
      "torch.Size([128, 2, 2])\n",
      "tensor(1) tensor([0.7210, 0.2790], dtype=torch.float64)\n",
      "torch.Size([128, 2, 2])\n",
      "tensor(0) tensor([0.5817, 0.4183], dtype=torch.float64)\n",
      "torch.Size([128, 2, 2])\n",
      "tensor(1) tensor([0.3556, 0.6444], dtype=torch.float64)\n",
      "torch.Size([128, 2, 2])\n",
      "tensor(1) tensor([0.3952, 0.6048], dtype=torch.float64)\n",
      "torch.Size([128, 2, 2])\n",
      "tensor(1) tensor([0.3284, 0.6716], dtype=torch.float64)\n",
      "torch.Size([128, 2, 2])\n",
      "tensor(1) tensor([0.2978, 0.7022], dtype=torch.float64)\n",
      "torch.Size([128, 2, 2])\n",
      "tensor(0) tensor([0.5956, 0.4044], dtype=torch.float64)\n",
      "torch.Size([128, 2, 2])\n",
      "tensor(0) tensor([0.6715, 0.3285], dtype=torch.float64)\n",
      "torch.Size([128, 2, 2])\n",
      "tensor(0) tensor([0.6430, 0.3570], dtype=torch.float64)\n",
      "torch.Size([128, 2, 2])\n",
      "tensor(1) tensor([0.4103, 0.5897], dtype=torch.float64)\n",
      "torch.Size([128, 2, 2])\n",
      "tensor(1) tensor([0.2204, 0.7796], dtype=torch.float64)\n",
      "torch.Size([128, 2, 2])\n",
      "tensor(1) tensor([0.4277, 0.5723], dtype=torch.float64)\n",
      "torch.Size([128, 2, 2])\n",
      "tensor(1) tensor([0.3461, 0.6539], dtype=torch.float64)\n",
      "torch.Size([128, 2, 2])\n",
      "tensor(1) tensor([0.3807, 0.6193], dtype=torch.float64)\n",
      "torch.Size([128, 2, 2])\n",
      "tensor(0) tensor([0.6138, 0.3862], dtype=torch.float64)\n",
      "torch.Size([128, 2, 2])\n",
      "tensor(0) tensor([0.4178, 0.5822], dtype=torch.float64)\n",
      "torch.Size([128, 2, 2])\n",
      "tensor(1) tensor([0.3531, 0.6469], dtype=torch.float64)\n",
      "torch.Size([128, 2, 2])\n",
      "tensor(1) tensor([0.5901, 0.4099], dtype=torch.float64)\n",
      "torch.Size([128, 2, 2])\n",
      "tensor(0) tensor([0.6258, 0.3742], dtype=torch.float64)\n",
      "torch.Size([128, 2, 2])\n",
      "tensor(0) tensor([0.6600, 0.3400], dtype=torch.float64)\n",
      "torch.Size([128, 2, 2])\n",
      "tensor(1) tensor([0.4828, 0.5172], dtype=torch.float64)\n",
      "torch.Size([128, 2, 2])\n",
      "tensor(1) tensor([0.5641, 0.4359], dtype=torch.float64)\n",
      "torch.Size([128, 2, 2])\n",
      "tensor(0) tensor([0.5727, 0.4273], dtype=torch.float64)\n",
      "torch.Size([128, 2, 2])\n",
      "tensor(1) tensor([0.5738, 0.4262], dtype=torch.float64)\n",
      "torch.Size([128, 2, 2])\n",
      "tensor(1) tensor([0.6669, 0.3331], dtype=torch.float64)\n",
      "torch.Size([128, 2, 2])\n",
      "tensor(1) tensor([0.4143, 0.5857], dtype=torch.float64)\n",
      "torch.Size([128, 2, 2])\n",
      "tensor(0) tensor([0.7032, 0.2968], dtype=torch.float64)\n",
      "torch.Size([128, 2, 2])\n",
      "tensor(1) tensor([0.3863, 0.6137], dtype=torch.float64)\n",
      "torch.Size([128, 2, 2])\n",
      "tensor(1) tensor([0.4301, 0.5699], dtype=torch.float64)\n",
      "torch.Size([128, 2, 2])\n",
      "tensor(1) tensor([0.2677, 0.7323], dtype=torch.float64)\n",
      "torch.Size([128, 2, 2])\n",
      "tensor(1) tensor([0.3501, 0.6499], dtype=torch.float64)\n",
      "torch.Size([128, 2, 2])\n",
      "tensor(1) tensor([0.5701, 0.4299], dtype=torch.float64)\n",
      "torch.Size([128, 2, 2])\n",
      "tensor(0) tensor([0.5515, 0.4485], dtype=torch.float64)\n",
      "torch.Size([128, 2, 2])\n",
      "tensor(0) tensor([0.7974, 0.2026], dtype=torch.float64)\n",
      "torch.Size([128, 2, 2])\n",
      "tensor(1) tensor([0.3854, 0.6146], dtype=torch.float64)\n",
      "torch.Size([128, 2, 2])\n",
      "tensor(0) tensor([0.7864, 0.2136], dtype=torch.float64)\n",
      "torch.Size([128, 2, 2])\n",
      "tensor(0) tensor([0.7509, 0.2491], dtype=torch.float64)\n",
      "torch.Size([128, 2, 2])\n",
      "tensor(1) tensor([0.4706, 0.5294], dtype=torch.float64)\n",
      "torch.Size([128, 2, 2])\n",
      "tensor(0) tensor([0.6136, 0.3864], dtype=torch.float64)\n",
      "torch.Size([128, 2, 2])\n",
      "tensor(0) tensor([0.5188, 0.4812], dtype=torch.float64)\n",
      "torch.Size([128, 2, 2])\n",
      "tensor(0) tensor([0.7870, 0.2130], dtype=torch.float64)\n",
      "torch.Size([128, 2, 2])\n",
      "tensor(0) tensor([0.6150, 0.3850], dtype=torch.float64)\n",
      "torch.Size([128, 2, 2])\n",
      "tensor(0) tensor([0.6416, 0.3584], dtype=torch.float64)\n",
      "torch.Size([128, 2, 2])\n",
      "tensor(0) tensor([0.5050, 0.4950], dtype=torch.float64)\n",
      "torch.Size([128, 2, 2])\n",
      "tensor(0) tensor([0.6067, 0.3933], dtype=torch.float64)\n",
      "torch.Size([128, 2, 2])\n",
      "tensor(1) tensor([0.5223, 0.4777], dtype=torch.float64)\n",
      "torch.Size([128, 2, 2])\n",
      "tensor(1) tensor([0.5039, 0.4961], dtype=torch.float64)\n"
     ]
    },
    {
     "name": "stderr",
     "output_type": "stream",
     "text": [
      " 77%|███████▋  | 1920/2494 [00:06<00:02, 282.26it/s]"
     ]
    },
    {
     "name": "stdout",
     "output_type": "stream",
     "text": [
      "torch.Size([128, 2, 2])\n",
      "tensor(1) tensor([0.5152, 0.4848], dtype=torch.float64)\n",
      "torch.Size([128, 2, 2])\n",
      "tensor(1) tensor([0.5868, 0.4132], dtype=torch.float64)\n",
      "torch.Size([128, 2, 2])\n",
      "tensor(0) tensor([0.5822, 0.4178], dtype=torch.float64)\n",
      "torch.Size([128, 2, 2])\n",
      "tensor(1) tensor([0.7165, 0.2835], dtype=torch.float64)\n",
      "torch.Size([128, 2, 2])\n",
      "tensor(1) tensor([0.5105, 0.4895], dtype=torch.float64)\n",
      "torch.Size([128, 2, 2])\n",
      "tensor(0) tensor([0.5023, 0.4977], dtype=torch.float64)\n",
      "torch.Size([128, 2, 2])\n",
      "tensor(0) tensor([0.7177, 0.2823], dtype=torch.float64)\n",
      "torch.Size([128, 2, 2])\n",
      "tensor(0) tensor([0.6819, 0.3181], dtype=torch.float64)\n",
      "torch.Size([128, 2, 2])\n",
      "tensor(0) tensor([0.4259, 0.5741], dtype=torch.float64)\n",
      "torch.Size([128, 2, 2])\n",
      "tensor(0) tensor([0.8024, 0.1976], dtype=torch.float64)\n",
      "torch.Size([128, 2, 2])\n",
      "tensor(0) tensor([0.6409, 0.3591], dtype=torch.float64)\n",
      "torch.Size([128, 2, 2])\n",
      "tensor(1) tensor([0.4153, 0.5847], dtype=torch.float64)\n",
      "torch.Size([128, 2, 2])\n",
      "tensor(1) tensor([0.4881, 0.5119], dtype=torch.float64)\n",
      "torch.Size([128, 2, 2])\n",
      "tensor(1) tensor([0.4225, 0.5775], dtype=torch.float64)\n",
      "torch.Size([128, 2, 2])\n",
      "tensor(0) tensor([0.6769, 0.3231], dtype=torch.float64)\n",
      "torch.Size([128, 2, 2])\n",
      "tensor(1) tensor([0.4426, 0.5574], dtype=torch.float64)\n",
      "torch.Size([128, 2, 2])\n",
      "tensor(1) tensor([0.3793, 0.6207], dtype=torch.float64)\n",
      "torch.Size([128, 2, 2])\n",
      "tensor(1) tensor([0.4637, 0.5363], dtype=torch.float64)\n",
      "torch.Size([128, 2, 2])\n",
      "tensor(1) tensor([0.5497, 0.4503], dtype=torch.float64)\n",
      "torch.Size([128, 2, 2])\n",
      "tensor(0) tensor([0.5884, 0.4116], dtype=torch.float64)\n",
      "torch.Size([128, 2, 2])\n",
      "tensor(1) tensor([0.3406, 0.6594], dtype=torch.float64)\n",
      "torch.Size([128, 2, 2])\n",
      "tensor(1) tensor([0.7224, 0.2776], dtype=torch.float64)\n",
      "torch.Size([128, 2, 2])\n",
      "tensor(1) tensor([0.4920, 0.5080], dtype=torch.float64)\n",
      "torch.Size([128, 2, 2])\n",
      "tensor(0) tensor([0.5185, 0.4815], dtype=torch.float64)\n",
      "torch.Size([128, 2, 2])\n",
      "tensor(0) tensor([0.8428, 0.1572], dtype=torch.float64)\n",
      "torch.Size([128, 2, 2])\n",
      "tensor(0) tensor([0.6312, 0.3688], dtype=torch.float64)\n",
      "torch.Size([128, 2, 2])\n",
      "tensor(1) tensor([0.5921, 0.4079], dtype=torch.float64)\n",
      "torch.Size([128, 2, 2])\n",
      "tensor(0) tensor([0.7571, 0.2429], dtype=torch.float64)\n",
      "torch.Size([128, 2, 2])\n",
      "tensor(1) tensor([0.5854, 0.4146], dtype=torch.float64)\n",
      "torch.Size([128, 2, 2])\n",
      "tensor(1) tensor([0.4432, 0.5568], dtype=torch.float64)\n",
      "torch.Size([128, 2, 2])\n",
      "tensor(1) tensor([0.6467, 0.3533], dtype=torch.float64)\n",
      "torch.Size([128, 2, 2])\n",
      "tensor(1) tensor([0.4128, 0.5872], dtype=torch.float64)\n",
      "torch.Size([128, 2, 2])\n",
      "tensor(1) tensor([0.3063, 0.6937], dtype=torch.float64)\n",
      "torch.Size([128, 2, 2])\n",
      "tensor(1) tensor([0.4658, 0.5342], dtype=torch.float64)\n",
      "torch.Size([128, 2, 2])\n",
      "tensor(1) tensor([0.7596, 0.2404], dtype=torch.float64)\n",
      "torch.Size([128, 2, 2])\n",
      "tensor(1) tensor([0.5797, 0.4203], dtype=torch.float64)\n",
      "torch.Size([128, 2, 2])\n",
      "tensor(0) tensor([0.8226, 0.1774], dtype=torch.float64)\n",
      "torch.Size([128, 2, 2])\n",
      "tensor(0) tensor([0.7218, 0.2782], dtype=torch.float64)\n",
      "torch.Size([128, 2, 2])\n",
      "tensor(1) tensor([0.3001, 0.6999], dtype=torch.float64)\n",
      "torch.Size([128, 2, 2])\n",
      "tensor(0) tensor([0.3019, 0.6981], dtype=torch.float64)\n",
      "torch.Size([128, 2, 2])\n",
      "tensor(1) tensor([0.5562, 0.4438], dtype=torch.float64)\n",
      "torch.Size([128, 2, 2])\n",
      "tensor(0) tensor([0.5606, 0.4394], dtype=torch.float64)\n",
      "torch.Size([128, 2, 2])\n",
      "tensor(0) tensor([0.6110, 0.3890], dtype=torch.float64)\n",
      "torch.Size([128, 2, 2])\n",
      "tensor(1) tensor([0.5429, 0.4571], dtype=torch.float64)\n",
      "torch.Size([128, 2, 2])\n",
      "tensor(0) tensor([0.7998, 0.2002], dtype=torch.float64)\n",
      "torch.Size([128, 2, 2])\n",
      "tensor(0) tensor([0.7261, 0.2739], dtype=torch.float64)\n",
      "torch.Size([128, 2, 2])\n",
      "tensor(0) tensor([0.6611, 0.3389], dtype=torch.float64)\n",
      "torch.Size([128, 2, 2])\n",
      "tensor(1) tensor([0.3586, 0.6414], dtype=torch.float64)\n",
      "torch.Size([128, 2, 2])\n",
      "tensor(0) tensor([0.6970, 0.3030], dtype=torch.float64)\n",
      "torch.Size([128, 2, 2])\n",
      "tensor(0) tensor([0.5637, 0.4363], dtype=torch.float64)\n",
      "torch.Size([128, 2, 2])\n",
      "tensor(1) tensor([0.3402, 0.6598], dtype=torch.float64)\n",
      "torch.Size([128, 2, 2])\n",
      "tensor(1) tensor([0.5852, 0.4148], dtype=torch.float64)\n",
      "torch.Size([128, 2, 2])\n",
      "tensor(1) tensor([0.5889, 0.4111], dtype=torch.float64)\n",
      "torch.Size([128, 2, 2])\n",
      "tensor(1) tensor([0.3537, 0.6463], dtype=torch.float64)\n",
      "torch.Size([128, 2, 2])\n",
      "tensor(1) tensor([0.2317, 0.7683], dtype=torch.float64)\n",
      "torch.Size([128, 2, 2])\n",
      "tensor(1) tensor([0.6405, 0.3595], dtype=torch.float64)\n",
      "torch.Size([128, 2, 2])\n",
      "tensor(1) tensor([0.6161, 0.3839], dtype=torch.float64)\n",
      "torch.Size([128, 2, 2])\n",
      "tensor(1) tensor([0.5676, 0.4324], dtype=torch.float64)\n",
      "torch.Size([128, 2, 2])\n",
      "tensor(0) tensor([0.7198, 0.2802], dtype=torch.float64)\n",
      "torch.Size([128, 2, 2])\n"
     ]
    },
    {
     "name": "stderr",
     "output_type": "stream",
     "text": [
      " 79%|███████▉  | 1979/2494 [00:06<00:01, 288.45it/s]"
     ]
    },
    {
     "name": "stdout",
     "output_type": "stream",
     "text": [
      "tensor(0) tensor([0.4959, 0.5041], dtype=torch.float64)\n",
      "torch.Size([128, 2, 2])\n",
      "tensor(1) tensor([0.5437, 0.4563], dtype=torch.float64)\n",
      "torch.Size([128, 2, 2])\n",
      "tensor(1) tensor([0.3424, 0.6576], dtype=torch.float64)\n",
      "torch.Size([128, 2, 2])\n",
      "tensor(0) tensor([0.6366, 0.3634], dtype=torch.float64)\n",
      "torch.Size([128, 2, 2])\n",
      "tensor(1) tensor([0.5238, 0.4762], dtype=torch.float64)\n",
      "torch.Size([128, 2, 2])\n",
      "tensor(0) tensor([0.5064, 0.4936], dtype=torch.float64)\n",
      "torch.Size([128, 2, 2])\n",
      "tensor(0) tensor([0.6658, 0.3342], dtype=torch.float64)\n",
      "torch.Size([128, 2, 2])\n",
      "tensor(1) tensor([0.4101, 0.5899], dtype=torch.float64)\n",
      "torch.Size([128, 2, 2])\n",
      "tensor(1) tensor([0.4597, 0.5403], dtype=torch.float64)\n",
      "torch.Size([128, 2, 2])\n",
      "tensor(1) tensor([0.6226, 0.3774], dtype=torch.float64)\n",
      "torch.Size([128, 2, 2])\n",
      "tensor(1) tensor([0.3969, 0.6031], dtype=torch.float64)\n",
      "torch.Size([128, 2, 2])\n",
      "tensor(1) tensor([0.3166, 0.6834], dtype=torch.float64)\n",
      "torch.Size([128, 2, 2])\n",
      "tensor(1) tensor([0.4443, 0.5557], dtype=torch.float64)\n",
      "torch.Size([128, 2, 2])\n",
      "tensor(0) tensor([0.4370, 0.5630], dtype=torch.float64)\n",
      "torch.Size([128, 2, 2])\n",
      "tensor(1) tensor([0.3718, 0.6282], dtype=torch.float64)\n",
      "torch.Size([128, 2, 2])\n",
      "tensor(0) tensor([0.6891, 0.3109], dtype=torch.float64)\n",
      "torch.Size([128, 2, 2])\n",
      "tensor(1) tensor([0.7522, 0.2478], dtype=torch.float64)\n",
      "torch.Size([128, 2, 2])\n",
      "tensor(1) tensor([0.4789, 0.5211], dtype=torch.float64)\n",
      "torch.Size([128, 2, 2])\n",
      "tensor(0) tensor([0.6770, 0.3230], dtype=torch.float64)\n",
      "torch.Size([128, 2, 2])\n",
      "tensor(0) tensor([0.5946, 0.4054], dtype=torch.float64)\n",
      "torch.Size([128, 2, 2])\n",
      "tensor(1) tensor([0.2940, 0.7060], dtype=torch.float64)\n",
      "torch.Size([128, 2, 2])\n",
      "tensor(0) tensor([0.5651, 0.4349], dtype=torch.float64)\n",
      "torch.Size([128, 2, 2])\n",
      "tensor(0) tensor([0.8308, 0.1692], dtype=torch.float64)\n",
      "torch.Size([128, 2, 2])\n",
      "tensor(1) tensor([0.4535, 0.5465], dtype=torch.float64)\n",
      "torch.Size([128, 2, 2])\n",
      "tensor(1) tensor([0.6713, 0.3287], dtype=torch.float64)\n",
      "torch.Size([128, 2, 2])\n",
      "tensor(1) tensor([0.5011, 0.4989], dtype=torch.float64)\n",
      "torch.Size([128, 2, 2])\n",
      "tensor(0) tensor([0.7295, 0.2705], dtype=torch.float64)\n",
      "torch.Size([128, 2, 2])\n",
      "tensor(0) tensor([0.7775, 0.2225], dtype=torch.float64)\n",
      "torch.Size([128, 2, 2])\n",
      "tensor(1) tensor([0.6674, 0.3326], dtype=torch.float64)\n",
      "torch.Size([128, 2, 2])\n",
      "tensor(0) tensor([0.6718, 0.3282], dtype=torch.float64)\n",
      "torch.Size([128, 2, 2])\n",
      "tensor(0) tensor([0.6410, 0.3590], dtype=torch.float64)\n",
      "torch.Size([128, 2, 2])\n",
      "tensor(1) tensor([0.4530, 0.5470], dtype=torch.float64)\n",
      "torch.Size([128, 2, 2])\n",
      "tensor(1) tensor([0.5068, 0.4932], dtype=torch.float64)\n",
      "torch.Size([128, 2, 2])\n",
      "tensor(1) tensor([0.4976, 0.5024], dtype=torch.float64)\n",
      "torch.Size([128, 2, 2])\n",
      "tensor(1) tensor([0.5213, 0.4787], dtype=torch.float64)\n",
      "torch.Size([128, 2, 2])\n",
      "tensor(1) tensor([0.5980, 0.4020], dtype=torch.float64)\n",
      "torch.Size([128, 2, 2])\n",
      "tensor(1) tensor([0.5065, 0.4935], dtype=torch.float64)\n",
      "torch.Size([128, 2, 2])\n",
      "tensor(1) tensor([0.6870, 0.3130], dtype=torch.float64)\n",
      "torch.Size([128, 2, 2])\n",
      "tensor(1) tensor([0.4081, 0.5919], dtype=torch.float64)\n",
      "torch.Size([128, 2, 2])\n",
      "tensor(0) tensor([0.5269, 0.4731], dtype=torch.float64)\n",
      "torch.Size([128, 2, 2])\n",
      "tensor(0) tensor([0.4455, 0.5545], dtype=torch.float64)\n",
      "torch.Size([128, 2, 2])\n",
      "tensor(0) tensor([0.4366, 0.5634], dtype=torch.float64)\n",
      "torch.Size([128, 2, 2])\n",
      "tensor(0) tensor([0.5823, 0.4177], dtype=torch.float64)\n",
      "torch.Size([128, 2, 2])\n",
      "tensor(0) tensor([0.5808, 0.4192], dtype=torch.float64)\n",
      "torch.Size([128, 2, 2])\n",
      "tensor(0) tensor([0.5892, 0.4108], dtype=torch.float64)\n",
      "torch.Size([128, 2, 2])\n",
      "tensor(1) tensor([0.3881, 0.6119], dtype=torch.float64)\n",
      "torch.Size([128, 2, 2])\n",
      "tensor(1) tensor([0.5593, 0.4407], dtype=torch.float64)\n",
      "torch.Size([128, 2, 2])\n",
      "tensor(0) tensor([0.7791, 0.2209], dtype=torch.float64)\n",
      "torch.Size([128, 2, 2])\n",
      "tensor(1) tensor([0.2585, 0.7415], dtype=torch.float64)\n",
      "torch.Size([128, 2, 2])\n",
      "tensor(1) tensor([0.6503, 0.3497], dtype=torch.float64)\n",
      "torch.Size([128, 2, 2])\n",
      "tensor(1) tensor([0.7591, 0.2409], dtype=torch.float64)\n",
      "torch.Size([128, 2, 2])\n",
      "tensor(0) tensor([0.7294, 0.2706], dtype=torch.float64)\n",
      "torch.Size([128, 2, 2])\n",
      "tensor(1) tensor([0.6143, 0.3857], dtype=torch.float64)\n",
      "torch.Size([128, 2, 2])\n",
      "tensor(1) tensor([0.5234, 0.4766], dtype=torch.float64)\n",
      "torch.Size([128, 2, 2])\n",
      "tensor(1) tensor([0.5994, 0.4006], dtype=torch.float64)\n",
      "torch.Size([128, 2, 2])\n",
      "tensor(0) tensor([0.6322, 0.3678], dtype=torch.float64)\n",
      "torch.Size([128, 2, 2])\n",
      "tensor(1) tensor([0.5249, 0.4751], dtype=torch.float64)\n",
      "torch.Size([128, 2, 2])\n",
      "tensor(0) tensor([0.7296, 0.2704], dtype=torch.float64)\n",
      "torch.Size([128, 2, 2])\n",
      "tensor(0) tensor([0.6270, 0.3730], dtype=torch.float64)\n",
      "torch.Size([128, 2, 2])\n",
      "tensor(0) "
     ]
    },
    {
     "name": "stderr",
     "output_type": "stream",
     "text": [
      " 82%|████████▏ | 2038/2494 [00:07<00:01, 291.25it/s]"
     ]
    },
    {
     "name": "stdout",
     "output_type": "stream",
     "text": [
      "tensor([0.4718, 0.5282], dtype=torch.float64)\n",
      "torch.Size([128, 2, 2])\n",
      "tensor(0) tensor([0.7123, 0.2877], dtype=torch.float64)\n",
      "torch.Size([128, 2, 2])\n",
      "tensor(0) tensor([0.2980, 0.7020], dtype=torch.float64)\n",
      "torch.Size([128, 2, 2])\n",
      "tensor(0) tensor([0.7302, 0.2698], dtype=torch.float64)\n",
      "torch.Size([128, 2, 2])\n",
      "tensor(0) tensor([0.5001, 0.4999], dtype=torch.float64)\n",
      "torch.Size([128, 2, 2])\n",
      "tensor(1) tensor([0.3725, 0.6275], dtype=torch.float64)\n",
      "torch.Size([128, 2, 2])\n",
      "tensor(0) tensor([0.5600, 0.4400], dtype=torch.float64)\n",
      "torch.Size([128, 2, 2])\n",
      "tensor(1) tensor([0.6295, 0.3705], dtype=torch.float64)\n",
      "torch.Size([128, 2, 2])\n",
      "tensor(0) tensor([0.3791, 0.6209], dtype=torch.float64)\n",
      "torch.Size([128, 2, 2])\n",
      "tensor(1) tensor([0.5379, 0.4621], dtype=torch.float64)\n",
      "torch.Size([128, 2, 2])\n",
      "tensor(1) tensor([0.4569, 0.5431], dtype=torch.float64)\n",
      "torch.Size([128, 2, 2])\n",
      "tensor(1) tensor([0.6609, 0.3391], dtype=torch.float64)\n",
      "torch.Size([128, 2, 2])\n",
      "tensor(1) tensor([0.5179, 0.4821], dtype=torch.float64)\n",
      "torch.Size([128, 2, 2])\n",
      "tensor(1) tensor([0.3375, 0.6625], dtype=torch.float64)\n",
      "torch.Size([128, 2, 2])\n",
      "tensor(1) tensor([0.4693, 0.5307], dtype=torch.float64)\n",
      "torch.Size([128, 2, 2])\n",
      "tensor(1) tensor([0.3583, 0.6417], dtype=torch.float64)\n",
      "torch.Size([128, 2, 2])\n",
      "tensor(0) tensor([0.3798, 0.6202], dtype=torch.float64)\n",
      "torch.Size([128, 2, 2])\n",
      "tensor(0) tensor([0.3543, 0.6457], dtype=torch.float64)\n",
      "torch.Size([128, 2, 2])\n",
      "tensor(0) tensor([0.7065, 0.2935], dtype=torch.float64)\n",
      "torch.Size([128, 2, 2])\n",
      "tensor(1) tensor([0.5264, 0.4736], dtype=torch.float64)\n",
      "torch.Size([128, 2, 2])\n",
      "tensor(0) tensor([0.6175, 0.3825], dtype=torch.float64)\n",
      "torch.Size([128, 2, 2])\n",
      "tensor(1) tensor([0.6105, 0.3895], dtype=torch.float64)\n",
      "torch.Size([128, 2, 2])\n",
      "tensor(0) tensor([0.3750, 0.6250], dtype=torch.float64)\n",
      "torch.Size([128, 2, 2])\n",
      "tensor(0) tensor([0.7178, 0.2822], dtype=torch.float64)\n",
      "torch.Size([128, 2, 2])\n",
      "tensor(0) tensor([0.3228, 0.6772], dtype=torch.float64)\n",
      "torch.Size([128, 2, 2])\n",
      "tensor(0) tensor([0.5346, 0.4654], dtype=torch.float64)\n",
      "torch.Size([128, 2, 2])\n",
      "tensor(0) tensor([0.6389, 0.3611], dtype=torch.float64)\n",
      "torch.Size([128, 2, 2])\n",
      "tensor(1) tensor([0.6621, 0.3379], dtype=torch.float64)\n",
      "torch.Size([128, 2, 2])\n",
      "tensor(1) tensor([0.3798, 0.6202], dtype=torch.float64)\n",
      "torch.Size([128, 2, 2])\n",
      "tensor(1) tensor([0.3985, 0.6015], dtype=torch.float64)\n",
      "torch.Size([128, 2, 2])\n",
      "tensor(0) tensor([0.6736, 0.3264], dtype=torch.float64)\n",
      "torch.Size([128, 2, 2])\n",
      "tensor(1) tensor([0.5638, 0.4362], dtype=torch.float64)\n",
      "torch.Size([128, 2, 2])\n",
      "tensor(0) tensor([0.3538, 0.6462], dtype=torch.float64)\n",
      "torch.Size([128, 2, 2])\n",
      "tensor(0) tensor([0.6405, 0.3595], dtype=torch.float64)\n",
      "torch.Size([128, 2, 2])\n",
      "tensor(1) tensor([0.5153, 0.4847], dtype=torch.float64)\n",
      "torch.Size([128, 2, 2])\n",
      "tensor(0) tensor([0.4808, 0.5192], dtype=torch.float64)\n",
      "torch.Size([128, 2, 2])\n",
      "tensor(1) tensor([0.6620, 0.3380], dtype=torch.float64)\n",
      "torch.Size([128, 2, 2])\n",
      "tensor(1) tensor([0.7852, 0.2148], dtype=torch.float64)\n",
      "torch.Size([128, 2, 2])\n",
      "tensor(0) tensor([0.8017, 0.1983], dtype=torch.float64)\n",
      "torch.Size([128, 2, 2])\n",
      "tensor(1) tensor([0.4196, 0.5804], dtype=torch.float64)\n",
      "torch.Size([128, 2, 2])\n",
      "tensor(0) tensor([0.4868, 0.5132], dtype=torch.float64)\n",
      "torch.Size([128, 2, 2])\n",
      "tensor(1) tensor([0.4567, 0.5433], dtype=torch.float64)\n",
      "torch.Size([128, 2, 2])\n",
      "tensor(1) tensor([0.6932, 0.3068], dtype=torch.float64)\n",
      "torch.Size([128, 2, 2])\n",
      "tensor(0) tensor([0.5581, 0.4419], dtype=torch.float64)\n",
      "torch.Size([128, 2, 2])\n",
      "tensor(1) tensor([0.5577, 0.4423], dtype=torch.float64)\n",
      "torch.Size([128, 2, 2])\n",
      "tensor(1) tensor([0.6436, 0.3564], dtype=torch.float64)\n",
      "torch.Size([128, 2, 2])\n",
      "tensor(1) tensor([0.5020, 0.4980], dtype=torch.float64)\n",
      "torch.Size([128, 2, 2])\n",
      "tensor(0) tensor([0.8052, 0.1948], dtype=torch.float64)\n",
      "torch.Size([128, 2, 2])\n",
      "tensor(1) tensor([0.6153, 0.3847], dtype=torch.float64)\n",
      "torch.Size([128, 2, 2])\n",
      "tensor(1) tensor([0.4569, 0.5431], dtype=torch.float64)\n",
      "torch.Size([128, 2, 2])\n",
      "tensor(0) tensor([0.5980, 0.4020], dtype=torch.float64)\n",
      "torch.Size([128, 2, 2])\n",
      "tensor(0) tensor([0.8363, 0.1637], dtype=torch.float64)\n",
      "torch.Size([128, 2, 2])\n",
      "tensor(1) tensor([0.4624, 0.5376], dtype=torch.float64)\n",
      "torch.Size([128, 2, 2])\n",
      "tensor(0) tensor([0.4314, 0.5686], dtype=torch.float64)\n",
      "torch.Size([128, 2, 2])\n",
      "tensor(1) tensor([0.7052, 0.2948], dtype=torch.float64)\n",
      "torch.Size([128, 2, 2])\n",
      "tensor(1) tensor([0.5667, 0.4333], dtype=torch.float64)\n",
      "torch.Size([128, 2, 2])\n",
      "tensor(1) tensor([0.6239, 0.3761], dtype=torch.float64)\n",
      "torch.Size([128, 2, 2])\n",
      "tensor(0) tensor([0.6253, 0.3747], dtype=torch.float64)\n",
      "torch.Size([128, 2, 2])\n",
      "tensor(0) tensor([0.6322, 0.3678], dtype=torch.float64)\n",
      "torch.Size([128, 2, 2])\n"
     ]
    },
    {
     "name": "stderr",
     "output_type": "stream",
     "text": [
      " 84%|████████▍ | 2098/2494 [00:07<00:01, 289.61it/s]"
     ]
    },
    {
     "name": "stdout",
     "output_type": "stream",
     "text": [
      "tensor(1) tensor([0.7537, 0.2463], dtype=torch.float64)\n",
      "torch.Size([128, 2, 2])\n",
      "tensor(1) tensor([0.6062, 0.3938], dtype=torch.float64)\n",
      "torch.Size([128, 2, 2])\n",
      "tensor(0) tensor([0.4591, 0.5409], dtype=torch.float64)\n",
      "torch.Size([128, 2, 2])\n",
      "tensor(0) tensor([0.3538, 0.6462], dtype=torch.float64)\n",
      "torch.Size([128, 2, 2])\n",
      "tensor(0) tensor([0.7636, 0.2364], dtype=torch.float64)\n",
      "torch.Size([128, 2, 2])\n",
      "tensor(1) tensor([0.5246, 0.4754], dtype=torch.float64)\n",
      "torch.Size([128, 2, 2])\n",
      "tensor(1) tensor([0.4536, 0.5464], dtype=torch.float64)\n",
      "torch.Size([128, 2, 2])\n",
      "tensor(0) tensor([0.4223, 0.5777], dtype=torch.float64)\n",
      "torch.Size([128, 2, 2])\n",
      "tensor(0) tensor([0.6604, 0.3396], dtype=torch.float64)\n",
      "torch.Size([128, 2, 2])\n",
      "tensor(0) tensor([0.7859, 0.2141], dtype=torch.float64)\n",
      "torch.Size([128, 2, 2])\n",
      "tensor(1) tensor([0.7606, 0.2394], dtype=torch.float64)\n",
      "torch.Size([128, 2, 2])\n",
      "tensor(1) tensor([0.3510, 0.6490], dtype=torch.float64)\n",
      "torch.Size([128, 2, 2])\n",
      "tensor(1) tensor([0.3954, 0.6046], dtype=torch.float64)\n",
      "torch.Size([128, 2, 2])\n",
      "tensor(0) tensor([0.6267, 0.3733], dtype=torch.float64)\n",
      "torch.Size([128, 2, 2])\n",
      "tensor(1) tensor([0.3889, 0.6111], dtype=torch.float64)\n",
      "torch.Size([128, 2, 2])\n",
      "tensor(0) tensor([0.6909, 0.3091], dtype=torch.float64)\n",
      "torch.Size([128, 2, 2])\n",
      "tensor(1) tensor([0.3661, 0.6339], dtype=torch.float64)\n",
      "torch.Size([128, 2, 2])\n",
      "tensor(0) tensor([0.6581, 0.3419], dtype=torch.float64)\n",
      "torch.Size([128, 2, 2])\n",
      "tensor(0) tensor([0.4377, 0.5623], dtype=torch.float64)\n",
      "torch.Size([128, 2, 2])\n",
      "tensor(0) tensor([0.8219, 0.1781], dtype=torch.float64)\n",
      "torch.Size([128, 2, 2])\n",
      "tensor(0) tensor([0.7137, 0.2863], dtype=torch.float64)\n",
      "torch.Size([128, 2, 2])\n",
      "tensor(0) tensor([0.7802, 0.2198], dtype=torch.float64)\n",
      "torch.Size([128, 2, 2])\n",
      "tensor(1) tensor([0.4102, 0.5898], dtype=torch.float64)\n",
      "torch.Size([128, 2, 2])\n",
      "tensor(0) tensor([0.7009, 0.2991], dtype=torch.float64)\n",
      "torch.Size([128, 2, 2])\n",
      "tensor(0) tensor([0.7800, 0.2200], dtype=torch.float64)\n",
      "torch.Size([128, 2, 2])\n",
      "tensor(1) tensor([0.4088, 0.5912], dtype=torch.float64)\n",
      "torch.Size([128, 2, 2])\n",
      "tensor(1) tensor([0.2509, 0.7491], dtype=torch.float64)\n",
      "torch.Size([128, 2, 2])\n",
      "tensor(0) tensor([0.6392, 0.3608], dtype=torch.float64)\n",
      "torch.Size([128, 2, 2])\n",
      "tensor(1) tensor([0.6542, 0.3458], dtype=torch.float64)\n",
      "torch.Size([128, 2, 2])\n",
      "tensor(1) tensor([0.7490, 0.2510], dtype=torch.float64)\n",
      "torch.Size([128, 2, 2])\n",
      "tensor(0) tensor([0.5254, 0.4746], dtype=torch.float64)\n",
      "torch.Size([128, 2, 2])\n",
      "tensor(1) tensor([0.4003, 0.5997], dtype=torch.float64)\n",
      "torch.Size([128, 2, 2])\n",
      "tensor(1) tensor([0.4992, 0.5008], dtype=torch.float64)\n",
      "torch.Size([128, 2, 2])\n",
      "tensor(1) tensor([0.6045, 0.3955], dtype=torch.float64)\n",
      "torch.Size([128, 2, 2])\n",
      "tensor(0) tensor([0.8254, 0.1746], dtype=torch.float64)\n",
      "torch.Size([128, 2, 2])\n",
      "tensor(0) tensor([0.6425, 0.3575], dtype=torch.float64)\n",
      "torch.Size([128, 2, 2])\n",
      "tensor(0) tensor([0.6259, 0.3741], dtype=torch.float64)\n",
      "torch.Size([128, 2, 2])\n",
      "tensor(1) tensor([0.5847, 0.4153], dtype=torch.float64)\n",
      "torch.Size([128, 2, 2])\n",
      "tensor(0) tensor([0.4657, 0.5343], dtype=torch.float64)\n",
      "torch.Size([128, 2, 2])\n",
      "tensor(0) tensor([0.5528, 0.4472], dtype=torch.float64)\n",
      "torch.Size([128, 2, 2])\n",
      "tensor(1) tensor([0.4547, 0.5453], dtype=torch.float64)\n",
      "torch.Size([128, 2, 2])\n",
      "tensor(0) tensor([0.6014, 0.3986], dtype=torch.float64)\n",
      "torch.Size([128, 2, 2])\n",
      "tensor(0) tensor([0.8129, 0.1871], dtype=torch.float64)\n",
      "torch.Size([128, 2, 2])\n",
      "tensor(0) tensor([0.6787, 0.3213], dtype=torch.float64)\n",
      "torch.Size([128, 2, 2])\n",
      "tensor(0) tensor([0.6604, 0.3396], dtype=torch.float64)\n",
      "torch.Size([128, 2, 2])\n",
      "tensor(1) tensor([0.6426, 0.3574], dtype=torch.float64)\n",
      "torch.Size([128, 2, 2])\n",
      "tensor(0) tensor([0.5549, 0.4451], dtype=torch.float64)\n",
      "torch.Size([128, 2, 2])\n",
      "tensor(1) tensor([0.5295, 0.4705], dtype=torch.float64)\n",
      "torch.Size([128, 2, 2])\n",
      "tensor(0) tensor([0.6992, 0.3008], dtype=torch.float64)\n",
      "torch.Size([128, 2, 2])\n",
      "tensor(1) tensor([0.7098, 0.2902], dtype=torch.float64)\n",
      "torch.Size([128, 2, 2])\n",
      "tensor(1) tensor([0.5469, 0.4531], dtype=torch.float64)\n",
      "torch.Size([128, 2, 2])\n",
      "tensor(0) tensor([0.7282, 0.2718], dtype=torch.float64)\n",
      "torch.Size([128, 2, 2])\n",
      "tensor(0) tensor([0.2293, 0.7707], dtype=torch.float64)\n",
      "torch.Size([128, 2, 2])\n",
      "tensor(1) tensor([0.5797, 0.4203], dtype=torch.float64)\n",
      "torch.Size([128, 2, 2])\n",
      "tensor(1) tensor([0.5965, 0.4035], dtype=torch.float64)\n",
      "torch.Size([128, 2, 2])\n",
      "tensor(1) "
     ]
    },
    {
     "name": "stderr",
     "output_type": "stream",
     "text": [
      " 86%|████████▋ | 2156/2494 [00:07<00:01, 278.49it/s]"
     ]
    },
    {
     "name": "stdout",
     "output_type": "stream",
     "text": [
      "tensor([0.4627, 0.5373], dtype=torch.float64)\n",
      "torch.Size([128, 2, 2])\n",
      "tensor(0) tensor([0.5948, 0.4052], dtype=torch.float64)\n",
      "torch.Size([128, 2, 2])\n",
      "tensor(0) tensor([0.6395, 0.3605], dtype=torch.float64)\n",
      "torch.Size([128, 2, 2])\n",
      "tensor(0) tensor([0.7245, 0.2755], dtype=torch.float64)\n",
      "torch.Size([128, 2, 2])\n",
      "tensor(0) tensor([0.6756, 0.3244], dtype=torch.float64)\n",
      "torch.Size([128, 2, 2])\n",
      "tensor(0) tensor([0.5344, 0.4656], dtype=torch.float64)\n",
      "torch.Size([128, 2, 2])\n",
      "tensor(0) tensor([0.6309, 0.3691], dtype=torch.float64)\n",
      "torch.Size([128, 2, 2])\n",
      "tensor(1) tensor([0.7099, 0.2901], dtype=torch.float64)\n",
      "torch.Size([128, 2, 2])\n",
      "tensor(0) tensor([0.6489, 0.3511], dtype=torch.float64)\n",
      "torch.Size([128, 2, 2])\n",
      "tensor(1) tensor([0.4607, 0.5393], dtype=torch.float64)\n",
      "torch.Size([128, 2, 2])\n",
      "tensor(0) tensor([0.5009, 0.4991], dtype=torch.float64)\n",
      "torch.Size([128, 2, 2])\n",
      "tensor(1) tensor([0.5355, 0.4645], dtype=torch.float64)\n",
      "torch.Size([128, 2, 2])\n",
      "tensor(0) tensor([0.7421, 0.2579], dtype=torch.float64)\n",
      "torch.Size([128, 2, 2])\n",
      "tensor(0) tensor([0.7584, 0.2416], dtype=torch.float64)\n",
      "torch.Size([128, 2, 2])\n",
      "tensor(0) tensor([0.7049, 0.2951], dtype=torch.float64)\n",
      "torch.Size([128, 2, 2])\n",
      "tensor(1) tensor([0.6038, 0.3962], dtype=torch.float64)\n",
      "torch.Size([128, 2, 2])\n",
      "tensor(1) tensor([0.4534, 0.5466], dtype=torch.float64)\n",
      "torch.Size([128, 2, 2])\n",
      "tensor(0) tensor([0.6745, 0.3255], dtype=torch.float64)\n",
      "torch.Size([128, 2, 2])\n",
      "tensor(1) tensor([0.2663, 0.7337], dtype=torch.float64)\n",
      "torch.Size([128, 2, 2])\n",
      "tensor(1) tensor([0.6639, 0.3361], dtype=torch.float64)\n",
      "torch.Size([128, 2, 2])\n",
      "tensor(1) tensor([0.4835, 0.5165], dtype=torch.float64)\n",
      "torch.Size([128, 2, 2])\n",
      "tensor(0) tensor([0.7560, 0.2440], dtype=torch.float64)\n",
      "torch.Size([128, 2, 2])\n",
      "tensor(0) tensor([0.5812, 0.4188], dtype=torch.float64)\n",
      "torch.Size([128, 2, 2])\n",
      "tensor(1) tensor([0.7197, 0.2803], dtype=torch.float64)\n",
      "torch.Size([128, 2, 2])\n",
      "tensor(0) tensor([0.6787, 0.3213], dtype=torch.float64)\n",
      "torch.Size([128, 2, 2])\n",
      "tensor(1) tensor([0.6665, 0.3335], dtype=torch.float64)\n",
      "torch.Size([128, 2, 2])\n",
      "tensor(1) tensor([0.5883, 0.4117], dtype=torch.float64)\n",
      "torch.Size([128, 2, 2])\n",
      "tensor(0) tensor([0.6324, 0.3676], dtype=torch.float64)\n",
      "torch.Size([128, 2, 2])\n",
      "tensor(1) tensor([0.5357, 0.4643], dtype=torch.float64)\n",
      "torch.Size([128, 2, 2])\n",
      "tensor(0) tensor([0.5741, 0.4259], dtype=torch.float64)\n",
      "torch.Size([128, 2, 2])\n",
      "tensor(1) tensor([0.3654, 0.6346], dtype=torch.float64)\n",
      "torch.Size([128, 2, 2])\n",
      "tensor(1) tensor([0.7298, 0.2702], dtype=torch.float64)\n",
      "torch.Size([128, 2, 2])\n",
      "tensor(0) tensor([0.6422, 0.3578], dtype=torch.float64)\n",
      "torch.Size([128, 2, 2])\n",
      "tensor(0) tensor([0.5506, 0.4494], dtype=torch.float64)\n",
      "torch.Size([128, 2, 2])\n",
      "tensor(1) tensor([0.5721, 0.4279], dtype=torch.float64)\n",
      "torch.Size([128, 2, 2])\n",
      "tensor(1) tensor([0.7364, 0.2636], dtype=torch.float64)\n",
      "torch.Size([128, 2, 2])\n",
      "tensor(1) tensor([0.5271, 0.4729], dtype=torch.float64)\n",
      "torch.Size([128, 2, 2])\n",
      "tensor(0) tensor([0.4012, 0.5988], dtype=torch.float64)\n",
      "torch.Size([128, 2, 2])\n",
      "tensor(0) tensor([0.5968, 0.4032], dtype=torch.float64)\n",
      "torch.Size([128, 2, 2])\n",
      "tensor(1) tensor([0.5955, 0.4045], dtype=torch.float64)\n",
      "torch.Size([128, 2, 2])\n",
      "tensor(1) tensor([0.4633, 0.5367], dtype=torch.float64)\n",
      "torch.Size([128, 2, 2])\n",
      "tensor(1) tensor([0.3004, 0.6996], dtype=torch.float64)\n",
      "torch.Size([128, 2, 2])\n",
      "tensor(0) tensor([0.5952, 0.4048], dtype=torch.float64)\n",
      "torch.Size([128, 2, 2])\n",
      "tensor(0) tensor([0.8723, 0.1277], dtype=torch.float64)\n",
      "torch.Size([128, 2, 2])\n",
      "tensor(0) tensor([0.4313, 0.5687], dtype=torch.float64)\n",
      "torch.Size([128, 2, 2])\n",
      "tensor(0) tensor([0.7875, 0.2125], dtype=torch.float64)\n",
      "torch.Size([128, 2, 2])\n",
      "tensor(0) tensor([0.4053, 0.5947], dtype=torch.float64)\n",
      "torch.Size([128, 2, 2])\n",
      "tensor(1) tensor([0.4977, 0.5023], dtype=torch.float64)\n",
      "torch.Size([128, 2, 2])\n",
      "tensor(1) tensor([0.3615, 0.6385], dtype=torch.float64)\n",
      "torch.Size([128, 2, 2])\n",
      "tensor(0) tensor([0.6031, 0.3969], dtype=torch.float64)\n",
      "torch.Size([128, 2, 2])\n",
      "tensor(0) tensor([0.5677, 0.4323], dtype=torch.float64)\n",
      "torch.Size([128, 2, 2])\n",
      "tensor(1) tensor([0.7011, 0.2989], dtype=torch.float64)\n",
      "torch.Size([128, 2, 2])\n",
      "tensor(1) tensor([0.5945, 0.4055], dtype=torch.float64)\n",
      "torch.Size([128, 2, 2])\n",
      "tensor(0) tensor([0.7892, 0.2108], dtype=torch.float64)\n"
     ]
    },
    {
     "name": "stderr",
     "output_type": "stream",
     "text": [
      " 89%|████████▊ | 2211/2494 [00:07<00:01, 264.63it/s]"
     ]
    },
    {
     "name": "stdout",
     "output_type": "stream",
     "text": [
      "torch.Size([128, 2, 2])\n",
      "tensor(1) tensor([0.4375, 0.5625], dtype=torch.float64)\n",
      "torch.Size([128, 2, 2])\n",
      "tensor(1) tensor([0.4126, 0.5874], dtype=torch.float64)\n",
      "torch.Size([128, 2, 2])\n",
      "tensor(1) tensor([0.6422, 0.3578], dtype=torch.float64)\n",
      "torch.Size([128, 2, 2])\n",
      "tensor(1) tensor([0.3786, 0.6214], dtype=torch.float64)\n",
      "torch.Size([128, 2, 2])\n",
      "tensor(0) tensor([0.2824, 0.7176], dtype=torch.float64)\n",
      "torch.Size([128, 2, 2])\n",
      "tensor(1) tensor([0.5622, 0.4378], dtype=torch.float64)\n",
      "torch.Size([128, 2, 2])\n",
      "tensor(0) tensor([0.7594, 0.2406], dtype=torch.float64)\n",
      "torch.Size([128, 2, 2])\n",
      "tensor(0) tensor([0.7344, 0.2656], dtype=torch.float64)\n",
      "torch.Size([128, 2, 2])\n",
      "tensor(0) tensor([0.5626, 0.4374], dtype=torch.float64)\n",
      "torch.Size([128, 2, 2])\n",
      "tensor(0) tensor([0.4532, 0.5468], dtype=torch.float64)\n",
      "torch.Size([128, 2, 2])\n",
      "tensor(0) tensor([0.5801, 0.4199], dtype=torch.float64)\n",
      "torch.Size([128, 2, 2])\n",
      "tensor(1) tensor([0.6006, 0.3994], dtype=torch.float64)\n",
      "torch.Size([128, 2, 2])\n",
      "tensor(1) tensor([0.4731, 0.5269], dtype=torch.float64)\n",
      "torch.Size([128, 2, 2])\n",
      "tensor(1) tensor([0.4873, 0.5127], dtype=torch.float64)\n",
      "torch.Size([128, 2, 2])\n",
      "tensor(0) tensor([0.5755, 0.4245], dtype=torch.float64)\n",
      "torch.Size([128, 2, 2])\n",
      "tensor(0) tensor([0.5928, 0.4072], dtype=torch.float64)\n",
      "torch.Size([128, 2, 2])\n",
      "tensor(1) tensor([0.4500, 0.5500], dtype=torch.float64)\n",
      "torch.Size([128, 2, 2])\n",
      "tensor(1) tensor([0.3785, 0.6215], dtype=torch.float64)\n",
      "torch.Size([128, 2, 2])\n",
      "tensor(0) tensor([0.5139, 0.4861], dtype=torch.float64)\n",
      "torch.Size([128, 2, 2])\n",
      "tensor(0) tensor([0.5629, 0.4371], dtype=torch.float64)\n",
      "torch.Size([128, 2, 2])\n",
      "tensor(0) tensor([0.6715, 0.3285], dtype=torch.float64)\n",
      "torch.Size([128, 2, 2])\n",
      "tensor(1) tensor([0.3861, 0.6139], dtype=torch.float64)\n",
      "torch.Size([128, 2, 2])\n",
      "tensor(1) tensor([0.3050, 0.6950], dtype=torch.float64)\n",
      "torch.Size([128, 2, 2])\n",
      "tensor(0) tensor([0.4143, 0.5857], dtype=torch.float64)\n",
      "torch.Size([128, 2, 2])\n",
      "tensor(1) tensor([0.3145, 0.6855], dtype=torch.float64)\n",
      "torch.Size([128, 2, 2])\n",
      "tensor(1) tensor([0.4632, 0.5368], dtype=torch.float64)\n",
      "torch.Size([128, 2, 2])\n",
      "tensor(0) tensor([0.7583, 0.2417], dtype=torch.float64)\n",
      "torch.Size([128, 2, 2])\n",
      "tensor(0) tensor([0.6018, 0.3982], dtype=torch.float64)\n",
      "torch.Size([128, 2, 2])\n",
      "tensor(1) tensor([0.5152, 0.4848], dtype=torch.float64)\n",
      "torch.Size([128, 2, 2])\n",
      "tensor(1) tensor([0.4387, 0.5613], dtype=torch.float64)\n",
      "torch.Size([128, 2, 2])\n",
      "tensor(1) tensor([0.5120, 0.4880], dtype=torch.float64)\n",
      "torch.Size([128, 2, 2])\n",
      "tensor(1) tensor([0.4593, 0.5407], dtype=torch.float64)\n",
      "torch.Size([128, 2, 2])\n",
      "tensor(1) tensor([0.5944, 0.4056], dtype=torch.float64)\n",
      "torch.Size([128, 2, 2])\n",
      "tensor(0) tensor([0.4935, 0.5065], dtype=torch.float64)\n",
      "torch.Size([128, 2, 2])\n",
      "tensor(1) tensor([0.4663, 0.5337], dtype=torch.float64)\n",
      "torch.Size([128, 2, 2])\n",
      "tensor(1) tensor([0.5741, 0.4259], dtype=torch.float64)\n",
      "torch.Size([128, 2, 2])\n",
      "tensor(0) tensor([0.4673, 0.5327], dtype=torch.float64)\n",
      "torch.Size([128, 2, 2])\n",
      "tensor(1) tensor([0.5785, 0.4215], dtype=torch.float64)\n",
      "torch.Size([128, 2, 2])\n",
      "tensor(0) tensor([0.5324, 0.4676], dtype=torch.float64)\n",
      "torch.Size([128, 2, 2])\n",
      "tensor(1) tensor([0.5179, 0.4821], dtype=torch.float64)\n",
      "torch.Size([128, 2, 2])\n",
      "tensor(0) tensor([0.5005, 0.4995], dtype=torch.float64)\n",
      "torch.Size([128, 2, 2])\n",
      "tensor(0) tensor([0.5784, 0.4216], dtype=torch.float64)\n",
      "torch.Size([128, 2, 2])\n",
      "tensor(1) tensor([0.2757, 0.7243], dtype=torch.float64)\n",
      "torch.Size([128, 2, 2])\n",
      "tensor(1) tensor([0.3972, 0.6028], dtype=torch.float64)\n",
      "torch.Size([128, 2, 2])\n",
      "tensor(0) tensor([0.5969, 0.4031], dtype=torch.float64)\n",
      "torch.Size([128, 2, 2])\n",
      "tensor(0) tensor([0.6228, 0.3772], dtype=torch.float64)\n",
      "torch.Size([128, 2, 2])\n",
      "tensor(0) tensor([0.7642, 0.2358], dtype=torch.float64)\n",
      "torch.Size([128, 2, 2])\n",
      "tensor(1) tensor([0.5143, 0.4857], dtype=torch.float64)\n",
      "torch.Size([128, 2, 2])\n",
      "tensor(1) tensor([0.6285, 0.3715], dtype=torch.float64)\n",
      "torch.Size([128, 2, 2])\n",
      "tensor(0) tensor([0.8067, 0.1933], dtype=torch.float64)\n",
      "torch.Size([128, 2, 2])\n",
      "tensor(1) tensor([0.3940, 0.6060], dtype=torch.float64)\n",
      "torch.Size([128, 2, 2])\n",
      "tensor(1) tensor([0.5849, 0.4151], dtype=torch.float64)\n"
     ]
    },
    {
     "name": "stderr",
     "output_type": "stream",
     "text": [
      " 91%|█████████ | 2268/2494 [00:08<00:00, 274.39it/s]"
     ]
    },
    {
     "name": "stdout",
     "output_type": "stream",
     "text": [
      "torch.Size([128, 2, 2])\n",
      "tensor(1) tensor([0.4397, 0.5603], dtype=torch.float64)\n",
      "torch.Size([128, 2, 2])\n",
      "tensor(1) tensor([0.2796, 0.7204], dtype=torch.float64)\n",
      "torch.Size([128, 2, 2])\n",
      "tensor(0) tensor([0.5178, 0.4822], dtype=torch.float64)\n",
      "torch.Size([128, 2, 2])\n",
      "tensor(1) tensor([0.6873, 0.3127], dtype=torch.float64)\n",
      "torch.Size([128, 2, 2])\n",
      "tensor(1) tensor([0.6093, 0.3907], dtype=torch.float64)\n",
      "torch.Size([128, 2, 2])\n",
      "tensor(1) tensor([0.6487, 0.3513], dtype=torch.float64)\n",
      "torch.Size([128, 2, 2])\n",
      "tensor(1) tensor([0.5072, 0.4928], dtype=torch.float64)\n",
      "torch.Size([128, 2, 2])\n",
      "tensor(1) tensor([0.5045, 0.4955], dtype=torch.float64)\n",
      "torch.Size([128, 2, 2])\n",
      "tensor(1) tensor([0.3848, 0.6152], dtype=torch.float64)\n",
      "torch.Size([128, 2, 2])\n",
      "tensor(1) tensor([0.6058, 0.3942], dtype=torch.float64)\n",
      "torch.Size([128, 2, 2])\n",
      "tensor(0) tensor([0.5806, 0.4194], dtype=torch.float64)\n",
      "torch.Size([128, 2, 2])\n",
      "tensor(1) tensor([0.8075, 0.1925], dtype=torch.float64)\n",
      "torch.Size([128, 2, 2])\n",
      "tensor(1) tensor([0.5158, 0.4842], dtype=torch.float64)\n",
      "torch.Size([128, 2, 2])\n",
      "tensor(0) tensor([0.6996, 0.3004], dtype=torch.float64)\n",
      "torch.Size([128, 2, 2])\n",
      "tensor(0) tensor([0.6945, 0.3055], dtype=torch.float64)\n",
      "torch.Size([128, 2, 2])\n",
      "tensor(0) tensor([0.6657, 0.3343], dtype=torch.float64)\n",
      "torch.Size([128, 2, 2])\n",
      "tensor(0) tensor([0.4639, 0.5361], dtype=torch.float64)\n",
      "torch.Size([128, 2, 2])\n",
      "tensor(1) tensor([0.5423, 0.4577], dtype=torch.float64)\n",
      "torch.Size([128, 2, 2])\n",
      "tensor(1) tensor([0.5515, 0.4485], dtype=torch.float64)\n",
      "torch.Size([128, 2, 2])\n",
      "tensor(1) tensor([0.7671, 0.2329], dtype=torch.float64)\n",
      "torch.Size([128, 2, 2])\n",
      "tensor(0) tensor([0.5929, 0.4071], dtype=torch.float64)\n",
      "torch.Size([128, 2, 2])\n",
      "tensor(0) tensor([0.5270, 0.4730], dtype=torch.float64)\n",
      "torch.Size([128, 2, 2])\n",
      "tensor(1) tensor([0.3686, 0.6314], dtype=torch.float64)\n",
      "torch.Size([128, 2, 2])\n",
      "tensor(0) tensor([0.5142, 0.4858], dtype=torch.float64)\n",
      "torch.Size([128, 2, 2])\n",
      "tensor(1) tensor([0.6474, 0.3526], dtype=torch.float64)\n",
      "torch.Size([128, 2, 2])\n",
      "tensor(1) tensor([0.5079, 0.4921], dtype=torch.float64)\n",
      "torch.Size([128, 2, 2])\n",
      "tensor(0) tensor([0.6324, 0.3676], dtype=torch.float64)\n",
      "torch.Size([128, 2, 2])\n",
      "tensor(0) tensor([0.4836, 0.5164], dtype=torch.float64)\n",
      "torch.Size([128, 2, 2])\n",
      "tensor(0) tensor([0.7547, 0.2453], dtype=torch.float64)\n",
      "torch.Size([128, 2, 2])\n",
      "tensor(0) tensor([0.6881, 0.3119], dtype=torch.float64)\n",
      "torch.Size([128, 2, 2])\n",
      "tensor(0) tensor([0.6781, 0.3219], dtype=torch.float64)\n",
      "torch.Size([128, 2, 2])\n",
      "tensor(0) tensor([0.6914, 0.3086], dtype=torch.float64)\n",
      "torch.Size([128, 2, 2])\n",
      "tensor(1) tensor([0.7237, 0.2763], dtype=torch.float64)\n",
      "torch.Size([128, 2, 2])\n",
      "tensor(0) tensor([0.4350, 0.5650], dtype=torch.float64)\n",
      "torch.Size([128, 2, 2])\n",
      "tensor(0) tensor([0.5060, 0.4940], dtype=torch.float64)\n",
      "torch.Size([128, 2, 2])\n",
      "tensor(0) tensor([0.5433, 0.4567], dtype=torch.float64)\n",
      "torch.Size([128, 2, 2])\n",
      "tensor(0) tensor([0.5735, 0.4265], dtype=torch.float64)\n",
      "torch.Size([128, 2, 2])\n",
      "tensor(1) tensor([0.5128, 0.4872], dtype=torch.float64)\n",
      "torch.Size([128, 2, 2])\n",
      "tensor(0) tensor([0.7059, 0.2941], dtype=torch.float64)\n",
      "torch.Size([128, 2, 2])\n",
      "tensor(1) tensor([0.5749, 0.4251], dtype=torch.float64)\n",
      "torch.Size([128, 2, 2])\n",
      "tensor(1) tensor([0.5246, 0.4754], dtype=torch.float64)\n",
      "torch.Size([128, 2, 2])\n",
      "tensor(1) tensor([0.3135, 0.6865], dtype=torch.float64)\n",
      "torch.Size([128, 2, 2])\n",
      "tensor(0) tensor([0.6700, 0.3300], dtype=torch.float64)\n",
      "torch.Size([128, 2, 2])\n",
      "tensor(0) tensor([0.7067, 0.2933], dtype=torch.float64)\n",
      "torch.Size([128, 2, 2])\n",
      "tensor(0) tensor([0.4593, 0.5407], dtype=torch.float64)\n",
      "torch.Size([128, 2, 2])\n",
      "tensor(0) tensor([0.6690, 0.3310], dtype=torch.float64)\n",
      "torch.Size([128, 2, 2])\n",
      "tensor(0) tensor([0.4456, 0.5544], dtype=torch.float64)\n",
      "torch.Size([128, 2, 2])\n",
      "tensor(1) tensor([0.5007, 0.4993], dtype=torch.float64)\n",
      "torch.Size([128, 2, 2])\n",
      "tensor(0) tensor([0.5612, 0.4388], dtype=torch.float64)\n",
      "torch.Size([128, 2, 2])\n",
      "tensor(1) tensor([0.6667, 0.3333], dtype=torch.float64)\n",
      "torch.Size([128, 2, 2])\n",
      "tensor(1) tensor([0.6046, 0.3954], dtype=torch.float64)\n",
      "torch.Size([128, 2, 2])\n",
      "tensor(0) tensor([0.7619, 0.2381], dtype=torch.float64)\n",
      "torch.Size([128, 2, 2])\n",
      "tensor(1) tensor([0.4588, 0.5412], dtype=torch.float64)\n",
      "torch.Size([128, 2, 2])\n",
      "tensor(1) tensor([0.4216, 0.5784], dtype=torch.float64)\n",
      "torch.Size([128, 2, 2])\n",
      "tensor(1) tensor([0.2668, 0.7332], dtype=torch.float64)\n",
      "torch.Size([128, 2, 2])\n",
      "tensor(1) tensor([0.4428, 0.5572], dtype=torch.float64)\n",
      "torch.Size([128, 2, 2])\n",
      "tensor(0) tensor([0.6053, 0.3947], dtype=torch.float64)\n"
     ]
    },
    {
     "name": "stderr",
     "output_type": "stream",
     "text": [
      " 93%|█████████▎| 2325/2494 [00:08<00:00, 277.83it/s]"
     ]
    },
    {
     "name": "stdout",
     "output_type": "stream",
     "text": [
      "torch.Size([128, 2, 2])\n",
      "tensor(0) tensor([0.4099, 0.5901], dtype=torch.float64)\n",
      "torch.Size([128, 2, 2])\n",
      "tensor(1) tensor([0.7037, 0.2963], dtype=torch.float64)\n",
      "torch.Size([128, 2, 2])\n",
      "tensor(1) tensor([0.6049, 0.3951], dtype=torch.float64)\n",
      "torch.Size([128, 2, 2])\n",
      "tensor(0) tensor([0.7875, 0.2125], dtype=torch.float64)\n",
      "torch.Size([128, 2, 2])\n",
      "tensor(0) tensor([0.6306, 0.3694], dtype=torch.float64)\n",
      "torch.Size([128, 2, 2])\n",
      "tensor(1) tensor([0.4284, 0.5716], dtype=torch.float64)\n",
      "torch.Size([128, 2, 2])\n",
      "tensor(1) tensor([0.3732, 0.6268], dtype=torch.float64)\n",
      "torch.Size([128, 2, 2])\n",
      "tensor(1) tensor([0.5884, 0.4116], dtype=torch.float64)\n",
      "torch.Size([128, 2, 2])\n",
      "tensor(0) tensor([0.4597, 0.5403], dtype=torch.float64)\n",
      "torch.Size([128, 2, 2])\n",
      "tensor(1) tensor([0.6131, 0.3869], dtype=torch.float64)\n",
      "torch.Size([128, 2, 2])\n",
      "tensor(1) tensor([0.6987, 0.3013], dtype=torch.float64)\n",
      "torch.Size([128, 2, 2])\n",
      "tensor(0) tensor([0.6839, 0.3161], dtype=torch.float64)\n",
      "torch.Size([128, 2, 2])\n",
      "tensor(1) tensor([0.4948, 0.5052], dtype=torch.float64)\n",
      "torch.Size([128, 2, 2])\n",
      "tensor(1) tensor([0.5502, 0.4498], dtype=torch.float64)\n",
      "torch.Size([128, 2, 2])\n",
      "tensor(0) tensor([0.4572, 0.5428], dtype=torch.float64)\n",
      "torch.Size([128, 2, 2])\n",
      "tensor(0) tensor([0.7402, 0.2598], dtype=torch.float64)\n",
      "torch.Size([128, 2, 2])\n",
      "tensor(1) tensor([0.4247, 0.5753], dtype=torch.float64)\n",
      "torch.Size([128, 2, 2])\n",
      "tensor(1) tensor([0.3926, 0.6074], dtype=torch.float64)\n",
      "torch.Size([128, 2, 2])\n",
      "tensor(1) tensor([0.5324, 0.4676], dtype=torch.float64)\n",
      "torch.Size([128, 2, 2])\n",
      "tensor(1) tensor([0.6304, 0.3696], dtype=torch.float64)\n",
      "torch.Size([128, 2, 2])\n",
      "tensor(1) tensor([0.2276, 0.7724], dtype=torch.float64)\n",
      "torch.Size([128, 2, 2])\n",
      "tensor(1) tensor([0.6521, 0.3479], dtype=torch.float64)\n",
      "torch.Size([128, 2, 2])\n",
      "tensor(1) tensor([0.3376, 0.6624], dtype=torch.float64)\n",
      "torch.Size([128, 2, 2])\n",
      "tensor(0) tensor([0.7982, 0.2018], dtype=torch.float64)\n",
      "torch.Size([128, 2, 2])\n",
      "tensor(1) tensor([0.3634, 0.6366], dtype=torch.float64)\n",
      "torch.Size([128, 2, 2])\n",
      "tensor(0) tensor([0.6172, 0.3828], dtype=torch.float64)\n",
      "torch.Size([128, 2, 2])\n",
      "tensor(0) tensor([0.7304, 0.2696], dtype=torch.float64)\n",
      "torch.Size([128, 2, 2])\n",
      "tensor(1) tensor([0.2953, 0.7047], dtype=torch.float64)\n",
      "torch.Size([128, 2, 2])\n",
      "tensor(1) tensor([0.4567, 0.5433], dtype=torch.float64)\n",
      "torch.Size([128, 2, 2])\n",
      "tensor(1) tensor([0.4425, 0.5575], dtype=torch.float64)\n",
      "torch.Size([128, 2, 2])\n",
      "tensor(1) tensor([0.4290, 0.5710], dtype=torch.float64)\n",
      "torch.Size([128, 2, 2])\n",
      "tensor(0) tensor([0.7546, 0.2454], dtype=torch.float64)\n",
      "torch.Size([128, 2, 2])\n",
      "tensor(0) tensor([0.7627, 0.2373], dtype=torch.float64)\n",
      "torch.Size([128, 2, 2])\n",
      "tensor(1) tensor([0.6659, 0.3341], dtype=torch.float64)\n",
      "torch.Size([128, 2, 2])\n",
      "tensor(1) tensor([0.6056, 0.3944], dtype=torch.float64)\n",
      "torch.Size([128, 2, 2])\n",
      "tensor(0) tensor([0.8344, 0.1656], dtype=torch.float64)\n",
      "torch.Size([128, 2, 2])\n",
      "tensor(0) tensor([0.5049, 0.4951], dtype=torch.float64)\n",
      "torch.Size([128, 2, 2])\n",
      "tensor(1) tensor([0.7033, 0.2967], dtype=torch.float64)\n",
      "torch.Size([128, 2, 2])\n",
      "tensor(0) tensor([0.4585, 0.5415], dtype=torch.float64)\n",
      "torch.Size([128, 2, 2])\n",
      "tensor(1) tensor([0.3341, 0.6659], dtype=torch.float64)\n",
      "torch.Size([128, 2, 2])\n",
      "tensor(0) tensor([0.6692, 0.3308], dtype=torch.float64)\n",
      "torch.Size([128, 2, 2])\n",
      "tensor(1) tensor([0.3158, 0.6842], dtype=torch.float64)\n",
      "torch.Size([128, 2, 2])\n",
      "tensor(1) tensor([0.3865, 0.6135], dtype=torch.float64)\n",
      "torch.Size([128, 2, 2])\n",
      "tensor(0) tensor([0.5364, 0.4636], dtype=torch.float64)\n",
      "torch.Size([128, 2, 2])\n",
      "tensor(0) tensor([0.7183, 0.2817], dtype=torch.float64)\n",
      "torch.Size([128, 2, 2])\n",
      "tensor(1) tensor([0.4742, 0.5258], dtype=torch.float64)\n",
      "torch.Size([128, 2, 2])\n",
      "tensor(0) tensor([0.7966, 0.2034], dtype=torch.float64)\n",
      "torch.Size([128, 2, 2])\n",
      "tensor(0) tensor([0.4985, 0.5015], dtype=torch.float64)\n",
      "torch.Size([128, 2, 2])\n",
      "tensor(1) tensor([0.4319, 0.5681], dtype=torch.float64)\n",
      "torch.Size([128, 2, 2])\n",
      "tensor(0) tensor([0.7234, 0.2766], dtype=torch.float64)\n",
      "torch.Size([128, 2, 2])\n",
      "tensor(1) tensor([0.4034, 0.5966], dtype=torch.float64)\n",
      "torch.Size([128, 2, 2])\n",
      "tensor(0) tensor([0.6764, 0.3236], dtype=torch.float64)\n",
      "torch.Size([128, 2, 2])\n",
      "tensor(1) tensor([0.7706, 0.2294], dtype=torch.float64)\n",
      "torch.Size([128, 2, 2])\n",
      "tensor(0) tensor([0.7137, 0.2863], dtype=torch.float64)\n",
      "torch.Size([128, 2, 2])\n",
      "tensor(0) tensor([0.5528, 0.4472], dtype=torch.float64)\n",
      "torch.Size([128, 2, 2])\n",
      "tensor(1) tensor([0.5195, 0.4805], dtype=torch.float64)\n",
      "torch.Size([128, 2, 2])\n",
      "tensor(1) tensor([0.4425, 0.5575], dtype=torch.float64)\n"
     ]
    },
    {
     "name": "stderr",
     "output_type": "stream",
     "text": [
      " 96%|█████████▌| 2382/2494 [00:08<00:00, 279.51it/s]"
     ]
    },
    {
     "name": "stdout",
     "output_type": "stream",
     "text": [
      "torch.Size([128, 2, 2])\n",
      "tensor(1) tensor([0.3811, 0.6189], dtype=torch.float64)\n",
      "torch.Size([128, 2, 2])\n",
      "tensor(0) tensor([0.7377, 0.2623], dtype=torch.float64)\n",
      "torch.Size([128, 2, 2])\n",
      "tensor(1) tensor([0.6309, 0.3691], dtype=torch.float64)\n",
      "torch.Size([128, 2, 2])\n",
      "tensor(1) tensor([0.5841, 0.4159], dtype=torch.float64)\n",
      "torch.Size([128, 2, 2])\n",
      "tensor(0) tensor([0.4951, 0.5049], dtype=torch.float64)\n",
      "torch.Size([128, 2, 2])\n",
      "tensor(1) tensor([0.5113, 0.4887], dtype=torch.float64)\n",
      "torch.Size([128, 2, 2])\n",
      "tensor(0) tensor([0.8337, 0.1663], dtype=torch.float64)\n",
      "torch.Size([128, 2, 2])\n",
      "tensor(1) tensor([0.6513, 0.3487], dtype=torch.float64)\n",
      "torch.Size([128, 2, 2])\n",
      "tensor(1) tensor([0.7160, 0.2840], dtype=torch.float64)\n",
      "torch.Size([128, 2, 2])\n",
      "tensor(0) tensor([0.3351, 0.6649], dtype=torch.float64)\n",
      "torch.Size([128, 2, 2])\n",
      "tensor(0) tensor([0.4947, 0.5053], dtype=torch.float64)\n",
      "torch.Size([128, 2, 2])\n",
      "tensor(1) tensor([0.3704, 0.6296], dtype=torch.float64)\n",
      "torch.Size([128, 2, 2])\n",
      "tensor(1) tensor([0.3973, 0.6027], dtype=torch.float64)\n",
      "torch.Size([128, 2, 2])\n",
      "tensor(1) tensor([0.5240, 0.4760], dtype=torch.float64)\n",
      "torch.Size([128, 2, 2])\n",
      "tensor(0) tensor([0.6597, 0.3403], dtype=torch.float64)\n",
      "torch.Size([128, 2, 2])\n",
      "tensor(0) tensor([0.2733, 0.7267], dtype=torch.float64)\n",
      "torch.Size([128, 2, 2])\n",
      "tensor(1) tensor([0.5099, 0.4901], dtype=torch.float64)\n",
      "torch.Size([128, 2, 2])\n",
      "tensor(1) tensor([0.4476, 0.5524], dtype=torch.float64)\n",
      "torch.Size([128, 2, 2])\n",
      "tensor(1) tensor([0.3817, 0.6183], dtype=torch.float64)\n",
      "torch.Size([128, 2, 2])\n",
      "tensor(1) tensor([0.4393, 0.5607], dtype=torch.float64)\n",
      "torch.Size([128, 2, 2])\n",
      "tensor(0) tensor([0.8022, 0.1978], dtype=torch.float64)\n",
      "torch.Size([128, 2, 2])\n",
      "tensor(1) tensor([0.4252, 0.5748], dtype=torch.float64)\n",
      "torch.Size([128, 2, 2])\n",
      "tensor(1) tensor([0.7121, 0.2879], dtype=torch.float64)\n",
      "torch.Size([128, 2, 2])\n",
      "tensor(0) tensor([0.7595, 0.2405], dtype=torch.float64)\n",
      "torch.Size([128, 2, 2])\n",
      "tensor(1) tensor([0.4523, 0.5477], dtype=torch.float64)\n",
      "torch.Size([128, 2, 2])\n",
      "tensor(1) tensor([0.2234, 0.7766], dtype=torch.float64)\n",
      "torch.Size([128, 2, 2])\n",
      "tensor(1) tensor([0.3829, 0.6171], dtype=torch.float64)\n",
      "torch.Size([128, 2, 2])\n",
      "tensor(1) tensor([0.7151, 0.2849], dtype=torch.float64)\n",
      "torch.Size([128, 2, 2])\n",
      "tensor(0) tensor([0.6784, 0.3216], dtype=torch.float64)\n",
      "torch.Size([128, 2, 2])\n",
      "tensor(0) tensor([0.4625, 0.5375], dtype=torch.float64)\n",
      "torch.Size([128, 2, 2])\n",
      "tensor(0) tensor([0.7333, 0.2667], dtype=torch.float64)\n",
      "torch.Size([128, 2, 2])\n",
      "tensor(0) tensor([0.7072, 0.2928], dtype=torch.float64)\n",
      "torch.Size([128, 2, 2])\n",
      "tensor(1) tensor([0.2842, 0.7158], dtype=torch.float64)\n",
      "torch.Size([128, 2, 2])\n",
      "tensor(0) tensor([0.7749, 0.2251], dtype=torch.float64)\n",
      "torch.Size([128, 2, 2])\n",
      "tensor(0) tensor([0.4969, 0.5031], dtype=torch.float64)\n",
      "torch.Size([128, 2, 2])\n",
      "tensor(0) tensor([0.5029, 0.4971], dtype=torch.float64)\n",
      "torch.Size([128, 2, 2])\n",
      "tensor(0) tensor([0.5915, 0.4085], dtype=torch.float64)\n",
      "torch.Size([128, 2, 2])\n",
      "tensor(1) tensor([0.4376, 0.5624], dtype=torch.float64)\n",
      "torch.Size([128, 2, 2])\n",
      "tensor(1) tensor([0.5370, 0.4630], dtype=torch.float64)\n",
      "torch.Size([128, 2, 2])\n",
      "tensor(0) tensor([0.6506, 0.3494], dtype=torch.float64)\n",
      "torch.Size([128, 2, 2])\n",
      "tensor(0) tensor([0.6844, 0.3156], dtype=torch.float64)\n",
      "torch.Size([128, 2, 2])\n",
      "tensor(0) tensor([0.6489, 0.3511], dtype=torch.float64)\n",
      "torch.Size([128, 2, 2])\n",
      "tensor(1) tensor([0.6525, 0.3475], dtype=torch.float64)\n",
      "torch.Size([128, 2, 2])\n",
      "tensor(1) tensor([0.4424, 0.5576], dtype=torch.float64)\n",
      "torch.Size([128, 2, 2])\n",
      "tensor(1) tensor([0.5315, 0.4685], dtype=torch.float64)\n",
      "torch.Size([128, 2, 2])\n",
      "tensor(0) tensor([0.5424, 0.4576], dtype=torch.float64)\n",
      "torch.Size([128, 2, 2])\n",
      "tensor(0) tensor([0.5446, 0.4554], dtype=torch.float64)\n",
      "torch.Size([128, 2, 2])\n",
      "tensor(1) tensor([0.2640, 0.7360], dtype=torch.float64)\n",
      "torch.Size([128, 2, 2])\n",
      "tensor(0) tensor([0.4778, 0.5222], dtype=torch.float64)\n",
      "torch.Size([128, 2, 2])\n",
      "tensor(0) tensor([0.6137, 0.3863], dtype=torch.float64)\n",
      "torch.Size([128, 2, 2])\n",
      "tensor(0) tensor([0.6891, 0.3109], dtype=torch.float64)\n",
      "torch.Size([128, 2, 2])\n",
      "tensor(0) tensor([0.6052, 0.3948], dtype=torch.float64)\n",
      "torch.Size([128, 2, 2])\n",
      "tensor(0) tensor([0.7472, 0.2528], dtype=torch.float64)\n",
      "torch.Size([128, 2, 2])\n",
      "tensor(1) tensor([0.4927, 0.5073], dtype=torch.float64)\n",
      "torch.Size([128, 2, 2])\n",
      "tensor(0) tensor([0.7739, 0.2261], dtype=torch.float64)\n",
      "torch.Size([128, 2, 2])\n",
      "tensor(1) tensor([0.5152, 0.4848], dtype=torch.float64)\n"
     ]
    },
    {
     "name": "stderr",
     "output_type": "stream",
     "text": [
      " 98%|█████████▊| 2439/2494 [00:08<00:00, 280.87it/s]"
     ]
    },
    {
     "name": "stdout",
     "output_type": "stream",
     "text": [
      "torch.Size([128, 2, 2])\n",
      "tensor(0) tensor([0.6723, 0.3277], dtype=torch.float64)\n",
      "torch.Size([128, 2, 2])\n",
      "tensor(1) tensor([0.2257, 0.7743], dtype=torch.float64)\n",
      "torch.Size([128, 2, 2])\n",
      "tensor(1) tensor([0.5673, 0.4327], dtype=torch.float64)\n",
      "torch.Size([128, 2, 2])\n",
      "tensor(1) tensor([0.4912, 0.5088], dtype=torch.float64)\n",
      "torch.Size([128, 2, 2])\n",
      "tensor(0) tensor([0.7481, 0.2519], dtype=torch.float64)\n",
      "torch.Size([128, 2, 2])\n",
      "tensor(1) tensor([0.5983, 0.4017], dtype=torch.float64)\n",
      "torch.Size([128, 2, 2])\n",
      "tensor(1) tensor([0.3136, 0.6864], dtype=torch.float64)\n",
      "torch.Size([128, 2, 2])\n",
      "tensor(0) tensor([0.4789, 0.5211], dtype=torch.float64)\n",
      "torch.Size([128, 2, 2])\n",
      "tensor(1) tensor([0.3131, 0.6869], dtype=torch.float64)\n",
      "torch.Size([128, 2, 2])\n",
      "tensor(1) tensor([0.4601, 0.5399], dtype=torch.float64)\n",
      "torch.Size([128, 2, 2])\n",
      "tensor(1) tensor([0.4451, 0.5549], dtype=torch.float64)\n",
      "torch.Size([128, 2, 2])\n",
      "tensor(1) tensor([0.3680, 0.6320], dtype=torch.float64)\n",
      "torch.Size([128, 2, 2])\n",
      "tensor(1) tensor([0.4680, 0.5320], dtype=torch.float64)\n",
      "torch.Size([128, 2, 2])\n",
      "tensor(1) tensor([0.4881, 0.5119], dtype=torch.float64)\n",
      "torch.Size([128, 2, 2])\n",
      "tensor(0) tensor([0.4197, 0.5803], dtype=torch.float64)\n",
      "torch.Size([128, 2, 2])\n",
      "tensor(0) tensor([0.5432, 0.4568], dtype=torch.float64)\n",
      "torch.Size([128, 2, 2])\n",
      "tensor(0) tensor([0.7438, 0.2562], dtype=torch.float64)\n",
      "torch.Size([128, 2, 2])\n",
      "tensor(0) tensor([0.7933, 0.2067], dtype=torch.float64)\n",
      "torch.Size([128, 2, 2])\n",
      "tensor(1) tensor([0.3867, 0.6133], dtype=torch.float64)\n",
      "torch.Size([128, 2, 2])\n",
      "tensor(1) tensor([0.5190, 0.4810], dtype=torch.float64)\n",
      "torch.Size([128, 2, 2])\n",
      "tensor(1) tensor([0.6457, 0.3543], dtype=torch.float64)\n",
      "torch.Size([128, 2, 2])\n",
      "tensor(1) tensor([0.5947, 0.4053], dtype=torch.float64)\n",
      "torch.Size([128, 2, 2])\n",
      "tensor(1) tensor([0.5612, 0.4388], dtype=torch.float64)\n",
      "torch.Size([128, 2, 2])\n",
      "tensor(1) tensor([0.6087, 0.3913], dtype=torch.float64)\n",
      "torch.Size([128, 2, 2])\n",
      "tensor(0) tensor([0.7089, 0.2911], dtype=torch.float64)\n",
      "torch.Size([128, 2, 2])\n",
      "tensor(0) tensor([0.6299, 0.3701], dtype=torch.float64)\n",
      "torch.Size([128, 2, 2])\n",
      "tensor(1) tensor([0.3844, 0.6156], dtype=torch.float64)\n",
      "torch.Size([128, 2, 2])\n",
      "tensor(1) tensor([0.6233, 0.3767], dtype=torch.float64)\n",
      "torch.Size([128, 2, 2])\n",
      "tensor(1) tensor([0.4105, 0.5895], dtype=torch.float64)\n",
      "torch.Size([128, 2, 2])\n",
      "tensor(1) tensor([0.4803, 0.5197], dtype=torch.float64)\n",
      "torch.Size([128, 2, 2])\n",
      "tensor(1) tensor([0.5736, 0.4264], dtype=torch.float64)\n",
      "torch.Size([128, 2, 2])\n",
      "tensor(1) tensor([0.5544, 0.4456], dtype=torch.float64)\n",
      "torch.Size([128, 2, 2])\n",
      "tensor(1) tensor([0.3460, 0.6540], dtype=torch.float64)\n",
      "torch.Size([128, 2, 2])\n",
      "tensor(0) tensor([0.6319, 0.3681], dtype=torch.float64)\n",
      "torch.Size([128, 2, 2])\n",
      "tensor(0) tensor([0.7057, 0.2943], dtype=torch.float64)\n",
      "torch.Size([128, 2, 2])\n",
      "tensor(0) tensor([0.5179, 0.4821], dtype=torch.float64)\n",
      "torch.Size([128, 2, 2])\n",
      "tensor(1) tensor([0.5127, 0.4873], dtype=torch.float64)\n",
      "torch.Size([128, 2, 2])\n",
      "tensor(0) tensor([0.7454, 0.2546], dtype=torch.float64)\n",
      "torch.Size([128, 2, 2])\n",
      "tensor(0) tensor([0.4806, 0.5194], dtype=torch.float64)\n",
      "torch.Size([128, 2, 2])\n",
      "tensor(0) tensor([0.7674, 0.2326], dtype=torch.float64)\n",
      "torch.Size([128, 2, 2])\n",
      "tensor(1) tensor([0.7217, 0.2783], dtype=torch.float64)\n",
      "torch.Size([128, 2, 2])\n",
      "tensor(0) tensor([0.5754, 0.4246], dtype=torch.float64)\n",
      "torch.Size([128, 2, 2])\n",
      "tensor(0) tensor([0.7710, 0.2290], dtype=torch.float64)\n",
      "torch.Size([128, 2, 2])\n",
      "tensor(0) tensor([0.7865, 0.2135], dtype=torch.float64)\n",
      "torch.Size([128, 2, 2])\n",
      "tensor(0) tensor([0.7478, 0.2522], dtype=torch.float64)\n",
      "torch.Size([128, 2, 2])\n",
      "tensor(1) tensor([0.4311, 0.5689], dtype=torch.float64)\n",
      "torch.Size([128, 2, 2])\n",
      "tensor(1) tensor([0.6273, 0.3727], dtype=torch.float64)\n",
      "torch.Size([128, 2, 2])\n",
      "tensor(1) tensor([0.5106, 0.4894], dtype=torch.float64)\n",
      "torch.Size([128, 2, 2])\n",
      "tensor(0) tensor([0.3130, 0.6870], dtype=torch.float64)\n",
      "torch.Size([128, 2, 2])\n",
      "tensor(0) tensor([0.5970, 0.4030], dtype=torch.float64)\n",
      "torch.Size([128, 2, 2])\n",
      "tensor(0) tensor([0.3428, 0.6572], dtype=torch.float64)\n",
      "torch.Size([128, 2, 2])\n",
      "tensor(1) tensor([0.6237, 0.3763], dtype=torch.float64)\n",
      "torch.Size([128, 2, 2])\n",
      "tensor(1) tensor([0.4415, 0.5585], dtype=torch.float64)\n",
      "torch.Size([128, 2, 2])\n",
      "tensor(1) tensor([0.4920, 0.5080], dtype=torch.float64)\n",
      "torch.Size([128, 2, 2])\n",
      "tensor(0) tensor([0.7452, 0.2548], dtype=torch.float64)\n",
      "torch.Size([128, 2, 2])\n",
      "tensor(0) tensor([0.6649, 0.3351], dtype=torch.float64)\n",
      "torch.Size([128, 2, 2])\n",
      "tensor(0) tensor([0.7925, 0.2075], dtype=torch.float64)\n"
     ]
    },
    {
     "name": "stderr",
     "output_type": "stream",
     "text": [
      "100%|██████████| 2494/2494 [00:08<00:00, 282.17it/s]"
     ]
    },
    {
     "name": "stdout",
     "output_type": "stream",
     "text": [
      "torch.Size([128, 2, 2])\n",
      "tensor(1) tensor([0.3562, 0.6438], dtype=torch.float64)\n",
      "torch.Size([128, 2, 2])\n",
      "tensor(1) tensor([0.3905, 0.6095], dtype=torch.float64)\n",
      "torch.Size([128, 2, 2])\n",
      "tensor(1) tensor([0.2413, 0.7587], dtype=torch.float64)\n",
      "torch.Size([128, 2, 2])\n",
      "tensor(0) tensor([0.7107, 0.2893], dtype=torch.float64)\n",
      "torch.Size([128, 2, 2])\n",
      "tensor(1) tensor([0.8210, 0.1790], dtype=torch.float64)\n",
      "torch.Size([128, 2, 2])\n",
      "tensor(1) tensor([0.2903, 0.7097], dtype=torch.float64)\n",
      "torch.Size([128, 2, 2])\n",
      "tensor(1) tensor([0.6252, 0.3748], dtype=torch.float64)\n",
      "torch.Size([128, 2, 2])\n",
      "tensor(0) tensor([0.6805, 0.3195], dtype=torch.float64)\n",
      "torch.Size([128, 2, 2])\n",
      "tensor(0) tensor([0.7136, 0.2864], dtype=torch.float64)\n",
      "torch.Size([128, 2, 2])\n",
      "tensor(1) tensor([0.5140, 0.4860], dtype=torch.float64)\n",
      "torch.Size([128, 2, 2])\n",
      "tensor(1) tensor([0.4741, 0.5259], dtype=torch.float64)\n",
      "torch.Size([128, 2, 2])\n",
      "tensor(1) tensor([0.6498, 0.3502], dtype=torch.float64)\n",
      "torch.Size([128, 2, 2])\n",
      "tensor(1) tensor([0.3356, 0.6644], dtype=torch.float64)\n",
      "torch.Size([128, 2, 2])\n",
      "tensor(0) tensor([0.7215, 0.2785], dtype=torch.float64)\n",
      "torch.Size([128, 2, 2])\n",
      "tensor(1) tensor([0.3636, 0.6364], dtype=torch.float64)\n",
      "torch.Size([128, 2, 2])\n",
      "tensor(0) tensor([0.5762, 0.4238], dtype=torch.float64)\n",
      "torch.Size([128, 2, 2])\n",
      "tensor(1) tensor([0.4726, 0.5274], dtype=torch.float64)\n",
      "torch.Size([128, 2, 2])\n",
      "tensor(1) tensor([0.5601, 0.4399], dtype=torch.float64)\n",
      "torch.Size([128, 2, 2])\n",
      "tensor(1) tensor([0.5456, 0.4544], dtype=torch.float64)\n",
      "torch.Size([128, 2, 2])\n",
      "tensor(0) tensor([0.6178, 0.3822], dtype=torch.float64)\n",
      "torch.Size([128, 2, 2])\n",
      "tensor(1) tensor([0.3557, 0.6443], dtype=torch.float64)\n",
      "torch.Size([128, 2, 2])\n",
      "tensor(0) tensor([0.7540, 0.2460], dtype=torch.float64)\n",
      "torch.Size([128, 2, 2])\n",
      "tensor(0) tensor([0.4849, 0.5151], dtype=torch.float64)\n",
      "torch.Size([128, 2, 2])\n",
      "tensor(1) tensor([0.5086, 0.4914], dtype=torch.float64)\n",
      "torch.Size([128, 2, 2])\n",
      "tensor(1) tensor([0.4578, 0.5422], dtype=torch.float64)\n",
      "torch.Size([128, 2, 2])\n",
      "tensor(0) tensor([0.5309, 0.4691], dtype=torch.float64)\n",
      "torch.Size([128, 2, 2])\n",
      "tensor(1) tensor([0.6969, 0.3031], dtype=torch.float64)\n",
      "torch.Size([128, 2, 2])\n",
      "tensor(1) tensor([0.4113, 0.5887], dtype=torch.float64)\n",
      "torch.Size([128, 2, 2])\n",
      "tensor(0) tensor([0.6052, 0.3948], dtype=torch.float64)\n",
      "torch.Size([128, 2, 2])\n",
      "tensor(1) tensor([0.7833, 0.2167], dtype=torch.float64)\n",
      "torch.Size([128, 2, 2])\n",
      "tensor(1) tensor([0.4928, 0.5072], dtype=torch.float64)\n",
      "torch.Size([128, 2, 2])\n",
      "tensor(1) tensor([0.2698, 0.7302], dtype=torch.float64)\n",
      "torch.Size([128, 2, 2])\n",
      "tensor(0) tensor([0.8029, 0.1971], dtype=torch.float64)\n",
      "torch.Size([128, 2, 2])\n",
      "tensor(1) tensor([0.3832, 0.6168], dtype=torch.float64)\n",
      "torch.Size([128, 2, 2])\n",
      "tensor(1) tensor([0.7220, 0.2780], dtype=torch.float64)\n",
      "torch.Size([128, 2, 2])\n",
      "tensor(1) tensor([0.2775, 0.7225], dtype=torch.float64)\n",
      "torch.Size([128, 2, 2])\n",
      "tensor(1) tensor([0.7344, 0.2656], dtype=torch.float64)\n",
      "torch.Size([128, 2, 2])\n",
      "tensor(1) tensor([0.3859, 0.6141], dtype=torch.float64)\n",
      "torch.Size([128, 2, 2])\n",
      "tensor(0) tensor([0.5080, 0.4920], dtype=torch.float64)\n",
      "torch.Size([128, 2, 2])\n",
      "tensor(1) tensor([0.4071, 0.5929], dtype=torch.float64)\n",
      "torch.Size([128, 2, 2])\n",
      "tensor(0) tensor([0.6061, 0.3939], dtype=torch.float64)\n",
      "torch.Size([128, 2, 2])\n",
      "tensor(1) tensor([0.6126, 0.3874], dtype=torch.float64)\n",
      "torch.Size([128, 2, 2])\n",
      "tensor(1) tensor([0.4533, 0.5467], dtype=torch.float64)\n",
      "torch.Size([128, 2, 2])\n",
      "tensor(0) tensor([0.6321, 0.3679], dtype=torch.float64)\n",
      "torch.Size([128, 2, 2])\n",
      "tensor(0) tensor([0.8483, 0.1517], dtype=torch.float64)\n",
      "torch.Size([128, 2, 2])\n",
      "tensor(0) tensor([0.7560, 0.2440], dtype=torch.float64)\n",
      "Accuracy: 0.638\n"
     ]
    },
    {
     "name": "stderr",
     "output_type": "stream",
     "text": [
      "\n"
     ]
    }
   ],
   "source": [
    "import os\n",
    "import cv2\n",
    "import numpy as np\n",
    "from tqdm import tqdm\n",
    "\n",
    "REBUILD_DATA = False\n",
    "\n",
    "class DogsVSCats():\n",
    "    IMG_SIZE = 50\n",
    "    CATS = 'PetImages/Cat'\n",
    "    DOGS = 'PetImages/Dog'\n",
    "    LABELS = {CATS: 0, DOGS: 1}\n",
    "    training_data = []\n",
    "    catcount = 0\n",
    "    dogcount = 0\n",
    "    \n",
    "    def make_training_data(self):\n",
    "        for label in self.LABELS:\n",
    "            for f in tqdm(os.listdir(label)):\n",
    "                try:\n",
    "                    path = os.path.join(label, f)\n",
    "                    img = cv2.imread(path, cv2.IMREAD_GRAYSCALE)\n",
    "                    img = cv2.resize(img, (self.IMG_SIZE, self.IMG_SIZE))\n",
    "                    self.training_data.append([np.array(img), np.eye(2)[self.LABELS[label]]])\n",
    "                    if label == self.CATS:\n",
    "                        self.catcount += 1\n",
    "                    elif label == self.DOGS:\n",
    "                        self.dogcount += 1\n",
    "                except Exception as e:\n",
    "                    pass\n",
    "                \n",
    "        np.random.shuffle(self.training_data)\n",
    "        np.save('training_data.npy', self.training_data)\n",
    "        print('Cats:', self.catcount)\n",
    "        print('Dogs:', self.dogcount)\n",
    "        \n",
    "if REBUILD_DATA:\n",
    "    dogsvcats = DogsVSCats()\n",
    "    dogsvcats.make_training_data()\n",
    "    \n",
    "training_data = np.load('training_data.npy', allow_pickle = True)\n",
    "print(len(training_data))\n",
    "\n",
    "import torch\n",
    "import torch.nn as nn\n",
    "import torch.nn.functional as F\n",
    "\n",
    "class Net(nn.Module):\n",
    "    def __init__(self):\n",
    "        super().__init__()\n",
    "        self.conv1 = nn.Conv2d(1, 32, 5)\n",
    "        self.conv2 = nn.Conv2d(32, 64, 5)\n",
    "        self.conv3 = nn.Conv2d(64, 128, 5)\n",
    "        \n",
    "        x = torch.randn(50, 50).view(-1, 1, 50, 50)\n",
    "        self._to_linear = None\n",
    "        self.convs(x)\n",
    "        self.fc1 = nn.Linear(self._to_linear, 512)\n",
    "        self.fc2 = nn.Linear(512, 2)\n",
    "        \n",
    "    def convs(self, x):\n",
    "        x = F.max_pool2d(F.relu(self.conv1(x)), (2, 2))\n",
    "        x = F.max_pool2d(F.relu(self.conv2(x)), (2, 2))\n",
    "        x = F.max_pool2d(F.relu(self.conv3(x)), (2, 2))\n",
    "        \n",
    "        print(x[0].shape)\n",
    "        if self._to_linear is None:\n",
    "            self._to_linear = x[0].shape[0]*x[0].shape[1]*x[0].shape[2]\n",
    "#         print(x)\n",
    "        return x\n",
    "    \n",
    "    def forward(self, x):\n",
    "        x = self.convs(x)\n",
    "        x = x.view(-1, self._to_linear)\n",
    "        x = F.relu(self.fc1(x))\n",
    "        x = self.fc2(x)\n",
    "        return F.softmax(x, dim = 1)\n",
    "    \n",
    "net = Net()\n",
    "net = net.double()\n",
    "\n",
    "import torch.optim as optim\n",
    "\n",
    "optimizer = optim.Adam(net.parameters(), lr = 0.001)\n",
    "loss_function = nn.MSELoss()\n",
    "\n",
    "X = torch.tensor([i[0] for i in training_data]).view(-1, 50, 50)\n",
    "X = X/255.0\n",
    "y = torch.tensor([i[1] for i in training_data])\n",
    "\n",
    "VAL_PCT = 0.1\n",
    "val_size = int(len(X)*VAL_PCT)\n",
    "print(val_size)\n",
    "\n",
    "train_X = X[:-val_size].double()\n",
    "train_y = y[:-val_size].double()\n",
    "\n",
    "test_X = X[-val_size:].double()\n",
    "test_y = y[-val_size:].double()\n",
    "\n",
    "print(len(train_X))\n",
    "print(len(test_X))\n",
    "\n",
    "BATCH_SIZE = 100\n",
    "EPOCHS = 1\n",
    "\n",
    "for epoch in range(EPOCHS):\n",
    "    for i in tqdm(range(0, len(train_X), BATCH_SIZE)):\n",
    "        batch_X = train_X[i:i+BATCH_SIZE].view(-1, 1, 50, 50)\n",
    "        batch_y = train_y[i:i+BATCH_SIZE]\n",
    "        net.zero_grad()\n",
    "        outputs = net(batch_X)\n",
    "        loss = loss_function(outputs, batch_y)\n",
    "        loss.backward()\n",
    "        optimizer.step()\n",
    "print(loss)\n",
    "\n",
    "correct = 0\n",
    "total = 0\n",
    "with torch.no_grad():\n",
    "    for i in tqdm(range(len(test_X))):\n",
    "        real_class = torch.argmax(test_y[i])\n",
    "        net_out = net(test_X[i].view(-1, 1, 50, 50))[0]\n",
    "        print(real_class, net_out)\n",
    "        predicted_class = torch.argmax(net_out)\n",
    "        if predicted_class == real_class:\n",
    "            correct += 1\n",
    "        total += 1\n",
    "        \n",
    "print(\"Accuracy:\", round(correct/total, 3))"
   ]
  },
  {
   "cell_type": "code",
   "execution_count": 5,
   "metadata": {},
   "outputs": [
    {
     "name": "stdout",
     "output_type": "stream",
     "text": [
      "torch.Size([128, 2, 2])\n",
      "torch.Size([128, 2, 2])\n",
      "torch.Size([128, 2, 2])\n",
      "torch.Size([128, 2, 2])\n",
      "torch.Size([128, 2, 2])\n",
      "torch.Size([128, 2, 2])\n",
      "torch.Size([128, 2, 2])\n",
      "torch.Size([128, 2, 2])\n",
      "torch.Size([128, 2, 2])\n",
      "torch.Size([128, 2, 2])\n",
      "torch.Size([128, 2, 2])\n",
      "torch.Size([128, 2, 2])\n",
      "torch.Size([128, 2, 2])\n",
      "torch.Size([128, 2, 2])\n",
      "torch.Size([128, 2, 2])\n",
      "torch.Size([128, 2, 2])\n",
      "torch.Size([128, 2, 2])\n",
      "torch.Size([128, 2, 2])\n",
      "torch.Size([128, 2, 2])\n",
      "torch.Size([128, 2, 2])\n",
      "torch.Size([128, 2, 2])\n",
      "torch.Size([128, 2, 2])\n",
      "torch.Size([128, 2, 2])\n",
      "torch.Size([128, 2, 2])\n",
      "torch.Size([128, 2, 2])\n",
      "torch.Size([128, 2, 2])\n",
      "torch.Size([128, 2, 2])\n",
      "torch.Size([128, 2, 2])\n",
      "torch.Size([128, 2, 2])\n",
      "torch.Size([128, 2, 2])\n",
      "torch.Size([128, 2, 2])\n",
      "torch.Size([128, 2, 2])\n",
      "torch.Size([128, 2, 2])\n",
      "torch.Size([128, 2, 2])\n",
      "torch.Size([128, 2, 2])\n",
      "torch.Size([128, 2, 2])\n",
      "torch.Size([128, 2, 2])\n",
      "torch.Size([128, 2, 2])\n",
      "torch.Size([128, 2, 2])\n",
      "torch.Size([128, 2, 2])\n",
      "torch.Size([128, 2, 2])\n",
      "torch.Size([128, 2, 2])\n",
      "torch.Size([128, 2, 2])\n",
      "torch.Size([128, 2, 2])\n",
      "torch.Size([128, 2, 2])\n",
      "torch.Size([128, 2, 2])\n",
      "torch.Size([128, 2, 2])\n",
      "torch.Size([128, 2, 2])\n",
      "torch.Size([128, 2, 2])\n",
      "torch.Size([128, 2, 2])\n",
      "torch.Size([128, 2, 2])\n",
      "torch.Size([128, 2, 2])\n",
      "torch.Size([128, 2, 2])\n",
      "torch.Size([128, 2, 2])\n",
      "torch.Size([128, 2, 2])\n",
      "torch.Size([128, 2, 2])\n",
      "torch.Size([128, 2, 2])\n",
      "torch.Size([128, 2, 2])\n",
      "torch.Size([128, 2, 2])\n",
      "torch.Size([128, 2, 2])\n",
      "torch.Size([128, 2, 2])\n",
      "torch.Size([128, 2, 2])\n",
      "torch.Size([128, 2, 2])\n",
      "torch.Size([128, 2, 2])\n",
      "torch.Size([128, 2, 2])\n",
      "torch.Size([128, 2, 2])\n",
      "torch.Size([128, 2, 2])\n",
      "torch.Size([128, 2, 2])\n",
      "torch.Size([128, 2, 2])\n",
      "torch.Size([128, 2, 2])\n",
      "torch.Size([128, 2, 2])\n",
      "torch.Size([128, 2, 2])\n",
      "torch.Size([128, 2, 2])\n",
      "torch.Size([128, 2, 2])\n",
      "torch.Size([128, 2, 2])\n",
      "torch.Size([128, 2, 2])\n",
      "torch.Size([128, 2, 2])\n",
      "torch.Size([128, 2, 2])\n",
      "torch.Size([128, 2, 2])\n",
      "torch.Size([128, 2, 2])\n",
      "torch.Size([128, 2, 2])\n",
      "torch.Size([128, 2, 2])\n",
      "torch.Size([128, 2, 2])\n",
      "torch.Size([128, 2, 2])\n",
      "torch.Size([128, 2, 2])\n",
      "torch.Size([128, 2, 2])\n",
      "torch.Size([128, 2, 2])\n",
      "torch.Size([128, 2, 2])\n",
      "torch.Size([128, 2, 2])\n",
      "torch.Size([128, 2, 2])\n",
      "torch.Size([128, 2, 2])\n",
      "torch.Size([128, 2, 2])\n",
      "torch.Size([128, 2, 2])\n",
      "torch.Size([128, 2, 2])\n",
      "torch.Size([128, 2, 2])\n",
      "torch.Size([128, 2, 2])\n",
      "torch.Size([128, 2, 2])\n",
      "torch.Size([128, 2, 2])\n",
      "torch.Size([128, 2, 2])\n",
      "torch.Size([128, 2, 2])\n",
      "torch.Size([128, 2, 2])\n",
      "torch.Size([128, 2, 2])\n",
      "torch.Size([128, 2, 2])\n",
      "torch.Size([128, 2, 2])\n",
      "torch.Size([128, 2, 2])\n",
      "torch.Size([128, 2, 2])\n",
      "torch.Size([128, 2, 2])\n",
      "torch.Size([128, 2, 2])\n",
      "torch.Size([128, 2, 2])\n",
      "torch.Size([128, 2, 2])\n",
      "torch.Size([128, 2, 2])\n",
      "torch.Size([128, 2, 2])\n",
      "torch.Size([128, 2, 2])\n",
      "torch.Size([128, 2, 2])\n",
      "torch.Size([128, 2, 2])\n",
      "torch.Size([128, 2, 2])\n",
      "torch.Size([128, 2, 2])\n",
      "torch.Size([128, 2, 2])\n",
      "torch.Size([128, 2, 2])\n",
      "torch.Size([128, 2, 2])\n",
      "torch.Size([128, 2, 2])\n",
      "torch.Size([128, 2, 2])\n",
      "torch.Size([128, 2, 2])\n",
      "torch.Size([128, 2, 2])\n",
      "torch.Size([128, 2, 2])\n",
      "torch.Size([128, 2, 2])\n",
      "torch.Size([128, 2, 2])\n",
      "torch.Size([128, 2, 2])\n",
      "torch.Size([128, 2, 2])\n",
      "torch.Size([128, 2, 2])\n",
      "torch.Size([128, 2, 2])\n",
      "torch.Size([128, 2, 2])\n",
      "torch.Size([128, 2, 2])\n",
      "torch.Size([128, 2, 2])\n",
      "torch.Size([128, 2, 2])\n",
      "torch.Size([128, 2, 2])\n",
      "torch.Size([128, 2, 2])\n",
      "torch.Size([128, 2, 2])\n",
      "torch.Size([128, 2, 2])\n",
      "torch.Size([128, 2, 2])\n",
      "torch.Size([128, 2, 2])\n",
      "torch.Size([128, 2, 2])\n",
      "torch.Size([128, 2, 2])\n",
      "torch.Size([128, 2, 2])\n",
      "torch.Size([128, 2, 2])\n",
      "torch.Size([128, 2, 2])\n",
      "torch.Size([128, 2, 2])\n",
      "torch.Size([128, 2, 2])\n",
      "torch.Size([128, 2, 2])\n",
      "torch.Size([128, 2, 2])\n",
      "torch.Size([128, 2, 2])\n",
      "torch.Size([128, 2, 2])\n",
      "torch.Size([128, 2, 2])\n",
      "torch.Size([128, 2, 2])\n",
      "torch.Size([128, 2, 2])\n",
      "torch.Size([128, 2, 2])\n",
      "torch.Size([128, 2, 2])\n",
      "torch.Size([128, 2, 2])\n",
      "torch.Size([128, 2, 2])\n",
      "torch.Size([128, 2, 2])\n",
      "torch.Size([128, 2, 2])\n",
      "torch.Size([128, 2, 2])\n",
      "torch.Size([128, 2, 2])\n",
      "torch.Size([128, 2, 2])\n",
      "torch.Size([128, 2, 2])\n",
      "torch.Size([128, 2, 2])\n",
      "torch.Size([128, 2, 2])\n",
      "torch.Size([128, 2, 2])\n",
      "torch.Size([128, 2, 2])\n",
      "torch.Size([128, 2, 2])\n",
      "torch.Size([128, 2, 2])\n",
      "torch.Size([128, 2, 2])\n",
      "torch.Size([128, 2, 2])\n",
      "torch.Size([128, 2, 2])\n",
      "torch.Size([128, 2, 2])\n",
      "torch.Size([128, 2, 2])\n",
      "torch.Size([128, 2, 2])\n",
      "torch.Size([128, 2, 2])\n",
      "torch.Size([128, 2, 2])\n",
      "torch.Size([128, 2, 2])\n",
      "torch.Size([128, 2, 2])\n",
      "torch.Size([128, 2, 2])\n",
      "torch.Size([128, 2, 2])\n",
      "torch.Size([128, 2, 2])\n",
      "torch.Size([128, 2, 2])\n",
      "torch.Size([128, 2, 2])\n",
      "torch.Size([128, 2, 2])\n",
      "torch.Size([128, 2, 2])\n",
      "torch.Size([128, 2, 2])\n",
      "torch.Size([128, 2, 2])\n",
      "torch.Size([128, 2, 2])\n",
      "torch.Size([128, 2, 2])\n",
      "torch.Size([128, 2, 2])\n",
      "torch.Size([128, 2, 2])\n",
      "torch.Size([128, 2, 2])\n",
      "torch.Size([128, 2, 2])\n",
      "torch.Size([128, 2, 2])\n",
      "torch.Size([128, 2, 2])\n",
      "torch.Size([128, 2, 2])\n",
      "torch.Size([128, 2, 2])\n",
      "torch.Size([128, 2, 2])\n",
      "torch.Size([128, 2, 2])\n",
      "torch.Size([128, 2, 2])\n",
      "torch.Size([128, 2, 2])\n",
      "torch.Size([128, 2, 2])\n",
      "torch.Size([128, 2, 2])\n",
      "torch.Size([128, 2, 2])\n",
      "torch.Size([128, 2, 2])\n",
      "torch.Size([128, 2, 2])\n",
      "torch.Size([128, 2, 2])\n",
      "torch.Size([128, 2, 2])\n",
      "torch.Size([128, 2, 2])\n",
      "torch.Size([128, 2, 2])\n",
      "torch.Size([128, 2, 2])\n",
      "torch.Size([128, 2, 2])\n",
      "torch.Size([128, 2, 2])\n",
      "torch.Size([128, 2, 2])\n",
      "torch.Size([128, 2, 2])\n",
      "torch.Size([128, 2, 2])\n",
      "torch.Size([128, 2, 2])\n",
      "torch.Size([128, 2, 2])\n",
      "torch.Size([128, 2, 2])\n",
      "torch.Size([128, 2, 2])\n",
      "torch.Size([128, 2, 2])\n",
      "torch.Size([128, 2, 2])\n",
      "Epoch: 0. Loss: 0.2151257862220275\n",
      "torch.Size([128, 2, 2])\n",
      "torch.Size([128, 2, 2])\n",
      "torch.Size([128, 2, 2])\n",
      "torch.Size([128, 2, 2])\n",
      "torch.Size([128, 2, 2])\n",
      "torch.Size([128, 2, 2])\n",
      "torch.Size([128, 2, 2])\n",
      "torch.Size([128, 2, 2])\n",
      "torch.Size([128, 2, 2])\n",
      "torch.Size([128, 2, 2])\n",
      "torch.Size([128, 2, 2])\n",
      "torch.Size([128, 2, 2])\n",
      "torch.Size([128, 2, 2])\n",
      "torch.Size([128, 2, 2])\n",
      "torch.Size([128, 2, 2])\n",
      "torch.Size([128, 2, 2])\n",
      "torch.Size([128, 2, 2])\n",
      "torch.Size([128, 2, 2])\n",
      "torch.Size([128, 2, 2])\n",
      "torch.Size([128, 2, 2])\n",
      "torch.Size([128, 2, 2])\n",
      "torch.Size([128, 2, 2])\n",
      "torch.Size([128, 2, 2])\n",
      "torch.Size([128, 2, 2])\n",
      "torch.Size([128, 2, 2])\n",
      "torch.Size([128, 2, 2])\n",
      "torch.Size([128, 2, 2])\n",
      "torch.Size([128, 2, 2])\n",
      "torch.Size([128, 2, 2])\n",
      "torch.Size([128, 2, 2])\n",
      "torch.Size([128, 2, 2])\n",
      "torch.Size([128, 2, 2])\n",
      "torch.Size([128, 2, 2])\n",
      "torch.Size([128, 2, 2])\n",
      "torch.Size([128, 2, 2])\n",
      "torch.Size([128, 2, 2])\n",
      "torch.Size([128, 2, 2])\n",
      "torch.Size([128, 2, 2])\n",
      "torch.Size([128, 2, 2])\n",
      "torch.Size([128, 2, 2])\n",
      "torch.Size([128, 2, 2])\n",
      "torch.Size([128, 2, 2])\n",
      "torch.Size([128, 2, 2])\n",
      "torch.Size([128, 2, 2])\n",
      "torch.Size([128, 2, 2])\n",
      "torch.Size([128, 2, 2])\n",
      "torch.Size([128, 2, 2])\n",
      "torch.Size([128, 2, 2])\n",
      "torch.Size([128, 2, 2])\n",
      "torch.Size([128, 2, 2])\n",
      "torch.Size([128, 2, 2])\n",
      "torch.Size([128, 2, 2])\n",
      "torch.Size([128, 2, 2])\n",
      "torch.Size([128, 2, 2])\n",
      "torch.Size([128, 2, 2])\n",
      "torch.Size([128, 2, 2])\n",
      "torch.Size([128, 2, 2])\n",
      "torch.Size([128, 2, 2])\n",
      "torch.Size([128, 2, 2])\n",
      "torch.Size([128, 2, 2])\n",
      "torch.Size([128, 2, 2])\n",
      "torch.Size([128, 2, 2])\n",
      "torch.Size([128, 2, 2])\n",
      "torch.Size([128, 2, 2])\n",
      "torch.Size([128, 2, 2])\n",
      "torch.Size([128, 2, 2])\n",
      "torch.Size([128, 2, 2])\n",
      "torch.Size([128, 2, 2])\n",
      "torch.Size([128, 2, 2])\n",
      "torch.Size([128, 2, 2])\n",
      "torch.Size([128, 2, 2])\n",
      "torch.Size([128, 2, 2])\n",
      "torch.Size([128, 2, 2])\n",
      "torch.Size([128, 2, 2])\n",
      "torch.Size([128, 2, 2])\n",
      "torch.Size([128, 2, 2])\n",
      "torch.Size([128, 2, 2])\n",
      "torch.Size([128, 2, 2])\n",
      "torch.Size([128, 2, 2])\n",
      "torch.Size([128, 2, 2])\n",
      "torch.Size([128, 2, 2])\n",
      "torch.Size([128, 2, 2])\n",
      "torch.Size([128, 2, 2])\n",
      "torch.Size([128, 2, 2])\n",
      "torch.Size([128, 2, 2])\n",
      "torch.Size([128, 2, 2])\n",
      "torch.Size([128, 2, 2])\n",
      "torch.Size([128, 2, 2])\n",
      "torch.Size([128, 2, 2])\n",
      "torch.Size([128, 2, 2])\n",
      "torch.Size([128, 2, 2])\n",
      "torch.Size([128, 2, 2])\n",
      "torch.Size([128, 2, 2])\n",
      "torch.Size([128, 2, 2])\n",
      "torch.Size([128, 2, 2])\n",
      "torch.Size([128, 2, 2])\n",
      "torch.Size([128, 2, 2])\n",
      "torch.Size([128, 2, 2])\n",
      "torch.Size([128, 2, 2])\n",
      "torch.Size([128, 2, 2])\n",
      "torch.Size([128, 2, 2])\n",
      "torch.Size([128, 2, 2])\n",
      "torch.Size([128, 2, 2])\n",
      "torch.Size([128, 2, 2])\n",
      "torch.Size([128, 2, 2])\n",
      "torch.Size([128, 2, 2])\n",
      "torch.Size([128, 2, 2])\n",
      "torch.Size([128, 2, 2])\n",
      "torch.Size([128, 2, 2])\n",
      "torch.Size([128, 2, 2])\n",
      "torch.Size([128, 2, 2])\n",
      "torch.Size([128, 2, 2])\n",
      "torch.Size([128, 2, 2])\n",
      "torch.Size([128, 2, 2])\n",
      "torch.Size([128, 2, 2])\n"
     ]
    },
    {
     "name": "stdout",
     "output_type": "stream",
     "text": [
      "torch.Size([128, 2, 2])\n",
      "torch.Size([128, 2, 2])\n",
      "torch.Size([128, 2, 2])\n",
      "torch.Size([128, 2, 2])\n",
      "torch.Size([128, 2, 2])\n",
      "torch.Size([128, 2, 2])\n",
      "torch.Size([128, 2, 2])\n",
      "torch.Size([128, 2, 2])\n",
      "torch.Size([128, 2, 2])\n",
      "torch.Size([128, 2, 2])\n",
      "torch.Size([128, 2, 2])\n",
      "torch.Size([128, 2, 2])\n",
      "torch.Size([128, 2, 2])\n",
      "torch.Size([128, 2, 2])\n",
      "torch.Size([128, 2, 2])\n",
      "torch.Size([128, 2, 2])\n",
      "torch.Size([128, 2, 2])\n",
      "torch.Size([128, 2, 2])\n",
      "torch.Size([128, 2, 2])\n",
      "torch.Size([128, 2, 2])\n",
      "torch.Size([128, 2, 2])\n",
      "torch.Size([128, 2, 2])\n",
      "torch.Size([128, 2, 2])\n",
      "torch.Size([128, 2, 2])\n",
      "torch.Size([128, 2, 2])\n",
      "torch.Size([128, 2, 2])\n",
      "torch.Size([128, 2, 2])\n",
      "torch.Size([128, 2, 2])\n",
      "torch.Size([128, 2, 2])\n",
      "torch.Size([128, 2, 2])\n",
      "torch.Size([128, 2, 2])\n",
      "torch.Size([128, 2, 2])\n",
      "torch.Size([128, 2, 2])\n",
      "torch.Size([128, 2, 2])\n",
      "torch.Size([128, 2, 2])\n",
      "torch.Size([128, 2, 2])\n",
      "torch.Size([128, 2, 2])\n",
      "torch.Size([128, 2, 2])\n",
      "torch.Size([128, 2, 2])\n",
      "torch.Size([128, 2, 2])\n",
      "torch.Size([128, 2, 2])\n",
      "torch.Size([128, 2, 2])\n",
      "torch.Size([128, 2, 2])\n",
      "torch.Size([128, 2, 2])\n",
      "torch.Size([128, 2, 2])\n",
      "torch.Size([128, 2, 2])\n",
      "torch.Size([128, 2, 2])\n",
      "torch.Size([128, 2, 2])\n",
      "torch.Size([128, 2, 2])\n",
      "torch.Size([128, 2, 2])\n",
      "torch.Size([128, 2, 2])\n",
      "torch.Size([128, 2, 2])\n",
      "torch.Size([128, 2, 2])\n",
      "torch.Size([128, 2, 2])\n",
      "torch.Size([128, 2, 2])\n",
      "torch.Size([128, 2, 2])\n",
      "torch.Size([128, 2, 2])\n",
      "torch.Size([128, 2, 2])\n",
      "torch.Size([128, 2, 2])\n",
      "torch.Size([128, 2, 2])\n",
      "torch.Size([128, 2, 2])\n",
      "torch.Size([128, 2, 2])\n",
      "torch.Size([128, 2, 2])\n",
      "torch.Size([128, 2, 2])\n",
      "torch.Size([128, 2, 2])\n",
      "torch.Size([128, 2, 2])\n",
      "torch.Size([128, 2, 2])\n",
      "torch.Size([128, 2, 2])\n",
      "torch.Size([128, 2, 2])\n",
      "torch.Size([128, 2, 2])\n",
      "torch.Size([128, 2, 2])\n",
      "torch.Size([128, 2, 2])\n",
      "torch.Size([128, 2, 2])\n",
      "torch.Size([128, 2, 2])\n",
      "torch.Size([128, 2, 2])\n",
      "torch.Size([128, 2, 2])\n",
      "torch.Size([128, 2, 2])\n",
      "torch.Size([128, 2, 2])\n",
      "torch.Size([128, 2, 2])\n",
      "torch.Size([128, 2, 2])\n",
      "torch.Size([128, 2, 2])\n",
      "torch.Size([128, 2, 2])\n",
      "torch.Size([128, 2, 2])\n",
      "torch.Size([128, 2, 2])\n",
      "torch.Size([128, 2, 2])\n",
      "torch.Size([128, 2, 2])\n",
      "torch.Size([128, 2, 2])\n",
      "torch.Size([128, 2, 2])\n",
      "torch.Size([128, 2, 2])\n",
      "torch.Size([128, 2, 2])\n",
      "torch.Size([128, 2, 2])\n",
      "torch.Size([128, 2, 2])\n",
      "torch.Size([128, 2, 2])\n",
      "torch.Size([128, 2, 2])\n",
      "torch.Size([128, 2, 2])\n",
      "torch.Size([128, 2, 2])\n",
      "torch.Size([128, 2, 2])\n",
      "torch.Size([128, 2, 2])\n",
      "torch.Size([128, 2, 2])\n",
      "torch.Size([128, 2, 2])\n",
      "torch.Size([128, 2, 2])\n",
      "torch.Size([128, 2, 2])\n",
      "torch.Size([128, 2, 2])\n",
      "torch.Size([128, 2, 2])\n",
      "torch.Size([128, 2, 2])\n",
      "torch.Size([128, 2, 2])\n",
      "torch.Size([128, 2, 2])\n",
      "torch.Size([128, 2, 2])\n",
      "torch.Size([128, 2, 2])\n",
      "torch.Size([128, 2, 2])\n",
      "Epoch: 1. Loss: 0.19756807843345056\n",
      "torch.Size([128, 2, 2])\n",
      "torch.Size([128, 2, 2])\n",
      "torch.Size([128, 2, 2])\n",
      "torch.Size([128, 2, 2])\n",
      "torch.Size([128, 2, 2])\n",
      "torch.Size([128, 2, 2])\n",
      "torch.Size([128, 2, 2])\n",
      "torch.Size([128, 2, 2])\n",
      "torch.Size([128, 2, 2])\n",
      "torch.Size([128, 2, 2])\n",
      "torch.Size([128, 2, 2])\n",
      "torch.Size([128, 2, 2])\n",
      "torch.Size([128, 2, 2])\n",
      "torch.Size([128, 2, 2])\n",
      "torch.Size([128, 2, 2])\n",
      "torch.Size([128, 2, 2])\n",
      "torch.Size([128, 2, 2])\n",
      "torch.Size([128, 2, 2])\n",
      "torch.Size([128, 2, 2])\n",
      "torch.Size([128, 2, 2])\n",
      "torch.Size([128, 2, 2])\n",
      "torch.Size([128, 2, 2])\n",
      "torch.Size([128, 2, 2])\n",
      "torch.Size([128, 2, 2])\n",
      "torch.Size([128, 2, 2])\n",
      "torch.Size([128, 2, 2])\n",
      "torch.Size([128, 2, 2])\n",
      "torch.Size([128, 2, 2])\n",
      "torch.Size([128, 2, 2])\n",
      "torch.Size([128, 2, 2])\n",
      "torch.Size([128, 2, 2])\n",
      "torch.Size([128, 2, 2])\n",
      "torch.Size([128, 2, 2])\n",
      "torch.Size([128, 2, 2])\n",
      "torch.Size([128, 2, 2])\n",
      "torch.Size([128, 2, 2])\n",
      "torch.Size([128, 2, 2])\n",
      "torch.Size([128, 2, 2])\n",
      "torch.Size([128, 2, 2])\n",
      "torch.Size([128, 2, 2])\n",
      "torch.Size([128, 2, 2])\n",
      "torch.Size([128, 2, 2])\n",
      "torch.Size([128, 2, 2])\n",
      "torch.Size([128, 2, 2])\n",
      "torch.Size([128, 2, 2])\n",
      "torch.Size([128, 2, 2])\n",
      "torch.Size([128, 2, 2])\n",
      "torch.Size([128, 2, 2])\n",
      "torch.Size([128, 2, 2])\n",
      "torch.Size([128, 2, 2])\n",
      "torch.Size([128, 2, 2])\n",
      "torch.Size([128, 2, 2])\n",
      "torch.Size([128, 2, 2])\n",
      "torch.Size([128, 2, 2])\n",
      "torch.Size([128, 2, 2])\n",
      "torch.Size([128, 2, 2])\n",
      "torch.Size([128, 2, 2])\n",
      "torch.Size([128, 2, 2])\n",
      "torch.Size([128, 2, 2])\n",
      "torch.Size([128, 2, 2])\n",
      "torch.Size([128, 2, 2])\n",
      "torch.Size([128, 2, 2])\n",
      "torch.Size([128, 2, 2])\n",
      "torch.Size([128, 2, 2])\n",
      "torch.Size([128, 2, 2])\n",
      "torch.Size([128, 2, 2])\n",
      "torch.Size([128, 2, 2])\n",
      "torch.Size([128, 2, 2])\n",
      "torch.Size([128, 2, 2])\n",
      "torch.Size([128, 2, 2])\n",
      "torch.Size([128, 2, 2])\n",
      "torch.Size([128, 2, 2])\n",
      "torch.Size([128, 2, 2])\n",
      "torch.Size([128, 2, 2])\n",
      "torch.Size([128, 2, 2])\n",
      "torch.Size([128, 2, 2])\n",
      "torch.Size([128, 2, 2])\n",
      "torch.Size([128, 2, 2])\n",
      "torch.Size([128, 2, 2])\n",
      "torch.Size([128, 2, 2])\n",
      "torch.Size([128, 2, 2])\n",
      "torch.Size([128, 2, 2])\n",
      "torch.Size([128, 2, 2])\n",
      "torch.Size([128, 2, 2])\n",
      "torch.Size([128, 2, 2])\n",
      "torch.Size([128, 2, 2])\n",
      "torch.Size([128, 2, 2])\n",
      "torch.Size([128, 2, 2])\n",
      "torch.Size([128, 2, 2])\n",
      "torch.Size([128, 2, 2])\n",
      "torch.Size([128, 2, 2])\n",
      "torch.Size([128, 2, 2])\n",
      "torch.Size([128, 2, 2])\n",
      "torch.Size([128, 2, 2])\n",
      "torch.Size([128, 2, 2])\n",
      "torch.Size([128, 2, 2])\n",
      "torch.Size([128, 2, 2])\n",
      "torch.Size([128, 2, 2])\n",
      "torch.Size([128, 2, 2])\n",
      "torch.Size([128, 2, 2])\n",
      "torch.Size([128, 2, 2])\n",
      "torch.Size([128, 2, 2])\n",
      "torch.Size([128, 2, 2])\n",
      "torch.Size([128, 2, 2])\n",
      "torch.Size([128, 2, 2])\n",
      "torch.Size([128, 2, 2])\n",
      "torch.Size([128, 2, 2])\n",
      "torch.Size([128, 2, 2])\n",
      "torch.Size([128, 2, 2])\n",
      "torch.Size([128, 2, 2])\n",
      "torch.Size([128, 2, 2])\n",
      "torch.Size([128, 2, 2])\n",
      "torch.Size([128, 2, 2])\n",
      "torch.Size([128, 2, 2])\n",
      "torch.Size([128, 2, 2])\n",
      "torch.Size([128, 2, 2])\n",
      "torch.Size([128, 2, 2])\n",
      "torch.Size([128, 2, 2])\n",
      "torch.Size([128, 2, 2])\n",
      "torch.Size([128, 2, 2])\n",
      "torch.Size([128, 2, 2])\n",
      "torch.Size([128, 2, 2])\n",
      "torch.Size([128, 2, 2])\n",
      "torch.Size([128, 2, 2])\n",
      "torch.Size([128, 2, 2])\n",
      "torch.Size([128, 2, 2])\n",
      "torch.Size([128, 2, 2])\n",
      "torch.Size([128, 2, 2])\n",
      "torch.Size([128, 2, 2])\n",
      "torch.Size([128, 2, 2])\n",
      "torch.Size([128, 2, 2])\n",
      "torch.Size([128, 2, 2])\n",
      "torch.Size([128, 2, 2])\n",
      "torch.Size([128, 2, 2])\n",
      "torch.Size([128, 2, 2])\n",
      "torch.Size([128, 2, 2])\n",
      "torch.Size([128, 2, 2])\n",
      "torch.Size([128, 2, 2])\n",
      "torch.Size([128, 2, 2])\n",
      "torch.Size([128, 2, 2])\n",
      "torch.Size([128, 2, 2])\n",
      "torch.Size([128, 2, 2])\n",
      "torch.Size([128, 2, 2])\n",
      "torch.Size([128, 2, 2])\n",
      "torch.Size([128, 2, 2])\n",
      "torch.Size([128, 2, 2])\n",
      "torch.Size([128, 2, 2])\n",
      "torch.Size([128, 2, 2])\n",
      "torch.Size([128, 2, 2])\n",
      "torch.Size([128, 2, 2])\n",
      "torch.Size([128, 2, 2])\n",
      "torch.Size([128, 2, 2])\n",
      "torch.Size([128, 2, 2])\n",
      "torch.Size([128, 2, 2])\n",
      "torch.Size([128, 2, 2])\n",
      "torch.Size([128, 2, 2])\n",
      "torch.Size([128, 2, 2])\n",
      "torch.Size([128, 2, 2])\n",
      "torch.Size([128, 2, 2])\n",
      "torch.Size([128, 2, 2])\n",
      "torch.Size([128, 2, 2])\n",
      "torch.Size([128, 2, 2])\n",
      "torch.Size([128, 2, 2])\n",
      "torch.Size([128, 2, 2])\n",
      "torch.Size([128, 2, 2])\n",
      "torch.Size([128, 2, 2])\n",
      "torch.Size([128, 2, 2])\n",
      "torch.Size([128, 2, 2])\n",
      "torch.Size([128, 2, 2])\n",
      "torch.Size([128, 2, 2])\n",
      "torch.Size([128, 2, 2])\n",
      "torch.Size([128, 2, 2])\n",
      "torch.Size([128, 2, 2])\n",
      "torch.Size([128, 2, 2])\n",
      "torch.Size([128, 2, 2])\n",
      "torch.Size([128, 2, 2])\n",
      "torch.Size([128, 2, 2])\n",
      "torch.Size([128, 2, 2])\n",
      "torch.Size([128, 2, 2])\n",
      "torch.Size([128, 2, 2])\n",
      "torch.Size([128, 2, 2])\n",
      "torch.Size([128, 2, 2])\n",
      "torch.Size([128, 2, 2])\n",
      "torch.Size([128, 2, 2])\n",
      "torch.Size([128, 2, 2])\n",
      "torch.Size([128, 2, 2])\n",
      "torch.Size([128, 2, 2])\n",
      "torch.Size([128, 2, 2])\n",
      "torch.Size([128, 2, 2])\n",
      "torch.Size([128, 2, 2])\n",
      "torch.Size([128, 2, 2])\n",
      "torch.Size([128, 2, 2])\n",
      "torch.Size([128, 2, 2])\n",
      "torch.Size([128, 2, 2])\n",
      "torch.Size([128, 2, 2])\n",
      "torch.Size([128, 2, 2])\n",
      "torch.Size([128, 2, 2])\n",
      "torch.Size([128, 2, 2])\n",
      "torch.Size([128, 2, 2])\n",
      "torch.Size([128, 2, 2])\n",
      "torch.Size([128, 2, 2])\n",
      "torch.Size([128, 2, 2])\n",
      "torch.Size([128, 2, 2])\n",
      "torch.Size([128, 2, 2])\n",
      "torch.Size([128, 2, 2])\n",
      "torch.Size([128, 2, 2])\n",
      "torch.Size([128, 2, 2])\n",
      "torch.Size([128, 2, 2])\n",
      "torch.Size([128, 2, 2])\n",
      "torch.Size([128, 2, 2])\n",
      "torch.Size([128, 2, 2])\n",
      "torch.Size([128, 2, 2])\n",
      "torch.Size([128, 2, 2])\n",
      "torch.Size([128, 2, 2])\n",
      "torch.Size([128, 2, 2])\n",
      "torch.Size([128, 2, 2])\n",
      "torch.Size([128, 2, 2])\n",
      "torch.Size([128, 2, 2])\n",
      "torch.Size([128, 2, 2])\n",
      "torch.Size([128, 2, 2])\n",
      "torch.Size([128, 2, 2])\n",
      "torch.Size([128, 2, 2])\n",
      "torch.Size([128, 2, 2])\n",
      "torch.Size([128, 2, 2])\n",
      "torch.Size([128, 2, 2])\n",
      "Epoch: 2. Loss: 0.18323090958893304\n"
     ]
    }
   ],
   "source": [
    "def train(net):\n",
    "    optimizer = optim.Adam(net.parameters(), lr=0.001)\n",
    "    BATCH_SIZE = 100\n",
    "    EPOCHS = 3\n",
    "    for epoch in range(EPOCHS):\n",
    "        for i in range(0, len(train_X), BATCH_SIZE): # from 0, to the len of x, stepping BATCH_SIZE at a time. [:50] ..for now just to dev\n",
    "            #print(f\"{i}:{i+BATCH_SIZE}\")\n",
    "            batch_X = train_X[i:i+BATCH_SIZE].view(-1, 1, 50, 50)\n",
    "            batch_y = train_y[i:i+BATCH_SIZE]\n",
    "\n",
    "            batch_X, batch_y = batch_X.to(device), batch_y.to(device)\n",
    "            net.zero_grad()\n",
    "\n",
    "            optimizer.zero_grad()   # zero the gradient buffers\n",
    "            outputs = net(batch_X)\n",
    "            loss = loss_function(outputs, batch_y)\n",
    "            loss.backward()\n",
    "            optimizer.step()    # Does the update\n",
    "\n",
    "        print(f\"Epoch: {epoch}. Loss: {loss}\")\n",
    "\n",
    "train(net)"
   ]
  },
  {
   "cell_type": "code",
   "execution_count": 6,
   "metadata": {},
   "outputs": [
    {
     "name": "stderr",
     "output_type": "stream",
     "text": [
      "  2%|▏         | 61/2494 [00:00<00:08, 271.52it/s]"
     ]
    },
    {
     "name": "stdout",
     "output_type": "stream",
     "text": [
      "torch.Size([128, 2, 2])\n",
      "torch.Size([128, 2, 2])\n",
      "torch.Size([128, 2, 2])\n",
      "torch.Size([128, 2, 2])\n",
      "torch.Size([128, 2, 2])\n",
      "torch.Size([128, 2, 2])\n",
      "torch.Size([128, 2, 2])\n",
      "torch.Size([128, 2, 2])\n",
      "torch.Size([128, 2, 2])\n",
      "torch.Size([128, 2, 2])\n",
      "torch.Size([128, 2, 2])\n",
      "torch.Size([128, 2, 2])\n",
      "torch.Size([128, 2, 2])\n",
      "torch.Size([128, 2, 2])\n",
      "torch.Size([128, 2, 2])\n",
      "torch.Size([128, 2, 2])\n",
      "torch.Size([128, 2, 2])\n",
      "torch.Size([128, 2, 2])\n",
      "torch.Size([128, 2, 2])\n",
      "torch.Size([128, 2, 2])\n",
      "torch.Size([128, 2, 2])\n",
      "torch.Size([128, 2, 2])\n",
      "torch.Size([128, 2, 2])\n",
      "torch.Size([128, 2, 2])\n",
      "torch.Size([128, 2, 2])\n",
      "torch.Size([128, 2, 2])\n",
      "torch.Size([128, 2, 2])\n",
      "torch.Size([128, 2, 2])\n",
      "torch.Size([128, 2, 2])\n",
      "torch.Size([128, 2, 2])\n",
      "torch.Size([128, 2, 2])\n",
      "torch.Size([128, 2, 2])\n",
      "torch.Size([128, 2, 2])\n",
      "torch.Size([128, 2, 2])\n",
      "torch.Size([128, 2, 2])\n",
      "torch.Size([128, 2, 2])\n",
      "torch.Size([128, 2, 2])\n",
      "torch.Size([128, 2, 2])\n",
      "torch.Size([128, 2, 2])\n",
      "torch.Size([128, 2, 2])\n",
      "torch.Size([128, 2, 2])\n",
      "torch.Size([128, 2, 2])\n",
      "torch.Size([128, 2, 2])\n",
      "torch.Size([128, 2, 2])\n",
      "torch.Size([128, 2, 2])\n",
      "torch.Size([128, 2, 2])\n",
      "torch.Size([128, 2, 2])\n",
      "torch.Size([128, 2, 2])\n",
      "torch.Size([128, 2, 2])\n",
      "torch.Size([128, 2, 2])\n",
      "torch.Size([128, 2, 2])\n",
      "torch.Size([128, 2, 2])\n",
      "torch.Size([128, 2, 2])\n",
      "torch.Size([128, 2, 2])\n",
      "torch.Size([128, 2, 2])\n",
      "torch.Size([128, 2, 2])\n",
      "torch.Size([128, 2, 2])\n",
      "torch.Size([128, 2, 2])\n",
      "torch.Size([128, 2, 2])\n",
      "torch.Size([128, 2, 2])\n",
      "torch.Size([128, 2, 2])\n",
      "torch.Size([128, 2, 2])\n",
      "torch.Size([128, 2, 2])\n",
      "torch.Size([128, 2, 2])\n"
     ]
    },
    {
     "name": "stderr",
     "output_type": "stream",
     "text": [
      "  6%|▌         | 142/2494 [00:00<00:07, 325.24it/s]"
     ]
    },
    {
     "name": "stdout",
     "output_type": "stream",
     "text": [
      "torch.Size([128, 2, 2])\n",
      "torch.Size([128, 2, 2])\n",
      "torch.Size([128, 2, 2])\n",
      "torch.Size([128, 2, 2])\n",
      "torch.Size([128, 2, 2])\n",
      "torch.Size([128, 2, 2])\n",
      "torch.Size([128, 2, 2])\n",
      "torch.Size([128, 2, 2])\n",
      "torch.Size([128, 2, 2])\n",
      "torch.Size([128, 2, 2])\n",
      "torch.Size([128, 2, 2])\n",
      "torch.Size([128, 2, 2])\n",
      "torch.Size([128, 2, 2])\n",
      "torch.Size([128, 2, 2])\n",
      "torch.Size([128, 2, 2])\n",
      "torch.Size([128, 2, 2])\n",
      "torch.Size([128, 2, 2])\n",
      "torch.Size([128, 2, 2])\n",
      "torch.Size([128, 2, 2])\n",
      "torch.Size([128, 2, 2])\n",
      "torch.Size([128, 2, 2])\n",
      "torch.Size([128, 2, 2])\n",
      "torch.Size([128, 2, 2])\n",
      "torch.Size([128, 2, 2])\n",
      "torch.Size([128, 2, 2])\n",
      "torch.Size([128, 2, 2])\n",
      "torch.Size([128, 2, 2])\n",
      "torch.Size([128, 2, 2])\n",
      "torch.Size([128, 2, 2])\n",
      "torch.Size([128, 2, 2])\n",
      "torch.Size([128, 2, 2])\n",
      "torch.Size([128, 2, 2])\n",
      "torch.Size([128, 2, 2])\n",
      "torch.Size([128, 2, 2])\n",
      "torch.Size([128, 2, 2])\n",
      "torch.Size([128, 2, 2])\n",
      "torch.Size([128, 2, 2])\n",
      "torch.Size([128, 2, 2])\n",
      "torch.Size([128, 2, 2])\n",
      "torch.Size([128, 2, 2])\n",
      "torch.Size([128, 2, 2])\n",
      "torch.Size([128, 2, 2])\n",
      "torch.Size([128, 2, 2])\n",
      "torch.Size([128, 2, 2])\n",
      "torch.Size([128, 2, 2])\n",
      "torch.Size([128, 2, 2])\n",
      "torch.Size([128, 2, 2])\n",
      "torch.Size([128, 2, 2])\n",
      "torch.Size([128, 2, 2])\n",
      "torch.Size([128, 2, 2])\n",
      "torch.Size([128, 2, 2])\n",
      "torch.Size([128, 2, 2])\n",
      "torch.Size([128, 2, 2])\n",
      "torch.Size([128, 2, 2])\n",
      "torch.Size([128, 2, 2])\n",
      "torch.Size([128, 2, 2])\n",
      "torch.Size([128, 2, 2])\n",
      "torch.Size([128, 2, 2])\n",
      "torch.Size([128, 2, 2])\n",
      "torch.Size([128, 2, 2])\n",
      "torch.Size([128, 2, 2])\n",
      "torch.Size([128, 2, 2])\n",
      "torch.Size([128, 2, 2])\n",
      "torch.Size([128, 2, 2])\n",
      "torch.Size([128, 2, 2])\n",
      "torch.Size([128, 2, 2])\n",
      "torch.Size([128, 2, 2])\n",
      "torch.Size([128, 2, 2])\n",
      "torch.Size([128, 2, 2])\n",
      "torch.Size([128, 2, 2])\n",
      "torch.Size([128, 2, 2])\n",
      "torch.Size([128, 2, 2])\n",
      "torch.Size([128, 2, 2])\n",
      "torch.Size([128, 2, 2])\n",
      "torch.Size([128, 2, 2])\n",
      "torch.Size([128, 2, 2])\n",
      "torch.Size([128, 2, 2])\n",
      "torch.Size([128, 2, 2])\n",
      "torch.Size([128, 2, 2])\n",
      "torch.Size([128, 2, 2])\n",
      "torch.Size([128, 2, 2])\n",
      "torch.Size([128, 2, 2])\n"
     ]
    },
    {
     "name": "stderr",
     "output_type": "stream",
     "text": [
      "  8%|▊         | 211/2494 [00:00<00:06, 333.48it/s]"
     ]
    },
    {
     "name": "stdout",
     "output_type": "stream",
     "text": [
      "torch.Size([128, 2, 2])\n",
      "torch.Size([128, 2, 2])\n",
      "torch.Size([128, 2, 2])\n",
      "torch.Size([128, 2, 2])\n",
      "torch.Size([128, 2, 2])\n",
      "torch.Size([128, 2, 2])\n",
      "torch.Size([128, 2, 2])\n",
      "torch.Size([128, 2, 2])\n",
      "torch.Size([128, 2, 2])\n",
      "torch.Size([128, 2, 2])\n",
      "torch.Size([128, 2, 2])\n",
      "torch.Size([128, 2, 2])\n",
      "torch.Size([128, 2, 2])\n",
      "torch.Size([128, 2, 2])\n",
      "torch.Size([128, 2, 2])\n",
      "torch.Size([128, 2, 2])\n",
      "torch.Size([128, 2, 2])\n",
      "torch.Size([128, 2, 2])\n",
      "torch.Size([128, 2, 2])\n",
      "torch.Size([128, 2, 2])\n",
      "torch.Size([128, 2, 2])\n",
      "torch.Size([128, 2, 2])\n",
      "torch.Size([128, 2, 2])\n",
      "torch.Size([128, 2, 2])\n",
      "torch.Size([128, 2, 2])\n",
      "torch.Size([128, 2, 2])\n",
      "torch.Size([128, 2, 2])\n",
      "torch.Size([128, 2, 2])\n",
      "torch.Size([128, 2, 2])\n",
      "torch.Size([128, 2, 2])\n",
      "torch.Size([128, 2, 2])\n",
      "torch.Size([128, 2, 2])\n",
      "torch.Size([128, 2, 2])\n",
      "torch.Size([128, 2, 2])\n",
      "torch.Size([128, 2, 2])\n",
      "torch.Size([128, 2, 2])\n",
      "torch.Size([128, 2, 2])\n",
      "torch.Size([128, 2, 2])\n",
      "torch.Size([128, 2, 2])\n",
      "torch.Size([128, 2, 2])\n",
      "torch.Size([128, 2, 2])\n",
      "torch.Size([128, 2, 2])\n",
      "torch.Size([128, 2, 2])\n",
      "torch.Size([128, 2, 2])\n",
      "torch.Size([128, 2, 2])\n",
      "torch.Size([128, 2, 2])\n",
      "torch.Size([128, 2, 2])\n",
      "torch.Size([128, 2, 2])\n",
      "torch.Size([128, 2, 2])\n",
      "torch.Size([128, 2, 2])\n",
      "torch.Size([128, 2, 2])\n",
      "torch.Size([128, 2, 2])\n",
      "torch.Size([128, 2, 2])\n",
      "torch.Size([128, 2, 2])\n",
      "torch.Size([128, 2, 2])\n",
      "torch.Size([128, 2, 2])\n",
      "torch.Size([128, 2, 2])\n",
      "torch.Size([128, 2, 2])\n",
      "torch.Size([128, 2, 2])\n",
      "torch.Size([128, 2, 2])\n",
      "torch.Size([128, 2, 2])\n",
      "torch.Size([128, 2, 2])\n",
      "torch.Size([128, 2, 2])\n",
      "torch.Size([128, 2, 2])\n",
      "torch.Size([128, 2, 2])\n",
      "torch.Size([128, 2, 2])\n",
      "torch.Size([128, 2, 2])\n",
      "torch.Size([128, 2, 2])\n"
     ]
    },
    {
     "name": "stderr",
     "output_type": "stream",
     "text": [
      " 12%|█▏        | 290/2494 [00:00<00:06, 360.55it/s]"
     ]
    },
    {
     "name": "stdout",
     "output_type": "stream",
     "text": [
      "torch.Size([128, 2, 2])\n",
      "torch.Size([128, 2, 2])\n",
      "torch.Size([128, 2, 2])\n",
      "torch.Size([128, 2, 2])\n",
      "torch.Size([128, 2, 2])\n",
      "torch.Size([128, 2, 2])\n",
      "torch.Size([128, 2, 2])\n",
      "torch.Size([128, 2, 2])\n",
      "torch.Size([128, 2, 2])\n",
      "torch.Size([128, 2, 2])\n",
      "torch.Size([128, 2, 2])\n",
      "torch.Size([128, 2, 2])\n",
      "torch.Size([128, 2, 2])\n",
      "torch.Size([128, 2, 2])\n",
      "torch.Size([128, 2, 2])\n",
      "torch.Size([128, 2, 2])\n",
      "torch.Size([128, 2, 2])\n",
      "torch.Size([128, 2, 2])\n",
      "torch.Size([128, 2, 2])\n",
      "torch.Size([128, 2, 2])\n",
      "torch.Size([128, 2, 2])\n",
      "torch.Size([128, 2, 2])\n",
      "torch.Size([128, 2, 2])\n",
      "torch.Size([128, 2, 2])\n",
      "torch.Size([128, 2, 2])\n",
      "torch.Size([128, 2, 2])\n",
      "torch.Size([128, 2, 2])\n",
      "torch.Size([128, 2, 2])\n",
      "torch.Size([128, 2, 2])\n",
      "torch.Size([128, 2, 2])\n",
      "torch.Size([128, 2, 2])\n",
      "torch.Size([128, 2, 2])\n",
      "torch.Size([128, 2, 2])\n",
      "torch.Size([128, 2, 2])\n",
      "torch.Size([128, 2, 2])\n",
      "torch.Size([128, 2, 2])\n",
      "torch.Size([128, 2, 2])\n",
      "torch.Size([128, 2, 2])\n",
      "torch.Size([128, 2, 2])\n",
      "torch.Size([128, 2, 2])\n",
      "torch.Size([128, 2, 2])\n",
      "torch.Size([128, 2, 2])\n",
      "torch.Size([128, 2, 2])\n",
      "torch.Size([128, 2, 2])\n",
      "torch.Size([128, 2, 2])\n",
      "torch.Size([128, 2, 2])\n",
      "torch.Size([128, 2, 2])\n",
      "torch.Size([128, 2, 2])\n",
      "torch.Size([128, 2, 2])\n",
      "torch.Size([128, 2, 2])\n",
      "torch.Size([128, 2, 2])\n",
      "torch.Size([128, 2, 2])\n",
      "torch.Size([128, 2, 2])\n",
      "torch.Size([128, 2, 2])\n",
      "torch.Size([128, 2, 2])\n",
      "torch.Size([128, 2, 2])\n",
      "torch.Size([128, 2, 2])\n",
      "torch.Size([128, 2, 2])\n",
      "torch.Size([128, 2, 2])\n",
      "torch.Size([128, 2, 2])\n",
      "torch.Size([128, 2, 2])\n",
      "torch.Size([128, 2, 2])\n",
      "torch.Size([128, 2, 2])\n",
      "torch.Size([128, 2, 2])\n",
      "torch.Size([128, 2, 2])\n",
      "torch.Size([128, 2, 2])\n",
      "torch.Size([128, 2, 2])\n",
      "torch.Size([128, 2, 2])\n",
      "torch.Size([128, 2, 2])\n",
      "torch.Size([128, 2, 2])\n",
      "torch.Size([128, 2, 2])\n",
      "torch.Size([128, 2, 2])\n",
      "torch.Size([128, 2, 2])\n",
      "torch.Size([128, 2, 2])\n",
      "torch.Size([128, 2, 2])\n",
      "torch.Size([128, 2, 2])\n",
      "torch.Size([128, 2, 2])\n",
      "torch.Size([128, 2, 2])\n",
      "torch.Size([128, 2, 2])\n"
     ]
    },
    {
     "name": "stderr",
     "output_type": "stream",
     "text": [
      " 15%|█▌        | 376/2494 [00:01<00:05, 392.03it/s]"
     ]
    },
    {
     "name": "stdout",
     "output_type": "stream",
     "text": [
      "torch.Size([128, 2, 2])\n",
      "torch.Size([128, 2, 2])\n",
      "torch.Size([128, 2, 2])\n",
      "torch.Size([128, 2, 2])\n",
      "torch.Size([128, 2, 2])\n",
      "torch.Size([128, 2, 2])\n",
      "torch.Size([128, 2, 2])\n",
      "torch.Size([128, 2, 2])\n",
      "torch.Size([128, 2, 2])\n",
      "torch.Size([128, 2, 2])\n",
      "torch.Size([128, 2, 2])\n",
      "torch.Size([128, 2, 2])\n",
      "torch.Size([128, 2, 2])\n",
      "torch.Size([128, 2, 2])\n",
      "torch.Size([128, 2, 2])\n",
      "torch.Size([128, 2, 2])\n",
      "torch.Size([128, 2, 2])\n",
      "torch.Size([128, 2, 2])\n",
      "torch.Size([128, 2, 2])\n",
      "torch.Size([128, 2, 2])\n",
      "torch.Size([128, 2, 2])\n",
      "torch.Size([128, 2, 2])\n",
      "torch.Size([128, 2, 2])\n",
      "torch.Size([128, 2, 2])\n",
      "torch.Size([128, 2, 2])\n",
      "torch.Size([128, 2, 2])\n",
      "torch.Size([128, 2, 2])\n",
      "torch.Size([128, 2, 2])\n",
      "torch.Size([128, 2, 2])\n",
      "torch.Size([128, 2, 2])\n",
      "torch.Size([128, 2, 2])\n",
      "torch.Size([128, 2, 2])\n",
      "torch.Size([128, 2, 2])\n",
      "torch.Size([128, 2, 2])\n",
      "torch.Size([128, 2, 2])\n",
      "torch.Size([128, 2, 2])\n",
      "torch.Size([128, 2, 2])\n",
      "torch.Size([128, 2, 2])\n",
      "torch.Size([128, 2, 2])\n",
      "torch.Size([128, 2, 2])\n",
      "torch.Size([128, 2, 2])\n",
      "torch.Size([128, 2, 2])\n",
      "torch.Size([128, 2, 2])\n",
      "torch.Size([128, 2, 2])\n",
      "torch.Size([128, 2, 2])\n",
      "torch.Size([128, 2, 2])\n",
      "torch.Size([128, 2, 2])\n",
      "torch.Size([128, 2, 2])\n",
      "torch.Size([128, 2, 2])\n",
      "torch.Size([128, 2, 2])\n",
      "torch.Size([128, 2, 2])\n",
      "torch.Size([128, 2, 2])\n",
      "torch.Size([128, 2, 2])\n",
      "torch.Size([128, 2, 2])\n",
      "torch.Size([128, 2, 2])\n",
      "torch.Size([128, 2, 2])\n",
      "torch.Size([128, 2, 2])\n",
      "torch.Size([128, 2, 2])\n",
      "torch.Size([128, 2, 2])\n",
      "torch.Size([128, 2, 2])\n",
      "torch.Size([128, 2, 2])\n",
      "torch.Size([128, 2, 2])\n",
      "torch.Size([128, 2, 2])\n",
      "torch.Size([128, 2, 2])\n",
      "torch.Size([128, 2, 2])\n",
      "torch.Size([128, 2, 2])\n",
      "torch.Size([128, 2, 2])\n",
      "torch.Size([128, 2, 2])\n",
      "torch.Size([128, 2, 2])\n",
      "torch.Size([128, 2, 2])\n",
      "torch.Size([128, 2, 2])\n",
      "torch.Size([128, 2, 2])\n",
      "torch.Size([128, 2, 2])\n",
      "torch.Size([128, 2, 2])\n",
      "torch.Size([128, 2, 2])\n",
      "torch.Size([128, 2, 2])\n",
      "torch.Size([128, 2, 2])\n",
      "torch.Size([128, 2, 2])\n",
      "torch.Size([128, 2, 2])\n",
      "torch.Size([128, 2, 2])\n",
      "torch.Size([128, 2, 2])\n",
      "torch.Size([128, 2, 2])\n",
      "torch.Size([128, 2, 2])\n",
      "torch.Size([128, 2, 2])\n",
      "torch.Size([128, 2, 2])\n",
      "torch.Size([128, 2, 2])\n"
     ]
    },
    {
     "name": "stderr",
     "output_type": "stream",
     "text": [
      " 19%|█▊        | 463/2494 [00:01<00:04, 411.15it/s]"
     ]
    },
    {
     "name": "stdout",
     "output_type": "stream",
     "text": [
      "torch.Size([128, 2, 2])\n",
      "torch.Size([128, 2, 2])\n",
      "torch.Size([128, 2, 2])\n",
      "torch.Size([128, 2, 2])\n",
      "torch.Size([128, 2, 2])\n",
      "torch.Size([128, 2, 2])\n",
      "torch.Size([128, 2, 2])\n",
      "torch.Size([128, 2, 2])\n",
      "torch.Size([128, 2, 2])\n",
      "torch.Size([128, 2, 2])\n",
      "torch.Size([128, 2, 2])\n",
      "torch.Size([128, 2, 2])\n",
      "torch.Size([128, 2, 2])\n",
      "torch.Size([128, 2, 2])\n",
      "torch.Size([128, 2, 2])\n",
      "torch.Size([128, 2, 2])\n",
      "torch.Size([128, 2, 2])\n",
      "torch.Size([128, 2, 2])\n",
      "torch.Size([128, 2, 2])\n",
      "torch.Size([128, 2, 2])\n",
      "torch.Size([128, 2, 2])\n",
      "torch.Size([128, 2, 2])\n",
      "torch.Size([128, 2, 2])\n",
      "torch.Size([128, 2, 2])\n",
      "torch.Size([128, 2, 2])\n",
      "torch.Size([128, 2, 2])\n",
      "torch.Size([128, 2, 2])\n",
      "torch.Size([128, 2, 2])\n",
      "torch.Size([128, 2, 2])\n",
      "torch.Size([128, 2, 2])\n",
      "torch.Size([128, 2, 2])\n",
      "torch.Size([128, 2, 2])\n",
      "torch.Size([128, 2, 2])\n",
      "torch.Size([128, 2, 2])\n",
      "torch.Size([128, 2, 2])\n",
      "torch.Size([128, 2, 2])\n",
      "torch.Size([128, 2, 2])\n",
      "torch.Size([128, 2, 2])\n",
      "torch.Size([128, 2, 2])\n",
      "torch.Size([128, 2, 2])\n",
      "torch.Size([128, 2, 2])\n",
      "torch.Size([128, 2, 2])\n",
      "torch.Size([128, 2, 2])\n",
      "torch.Size([128, 2, 2])\n",
      "torch.Size([128, 2, 2])\n",
      "torch.Size([128, 2, 2])\n",
      "torch.Size([128, 2, 2])\n",
      "torch.Size([128, 2, 2])\n",
      "torch.Size([128, 2, 2])\n",
      "torch.Size([128, 2, 2])\n",
      "torch.Size([128, 2, 2])\n",
      "torch.Size([128, 2, 2])\n",
      "torch.Size([128, 2, 2])\n",
      "torch.Size([128, 2, 2])\n",
      "torch.Size([128, 2, 2])\n",
      "torch.Size([128, 2, 2])\n",
      "torch.Size([128, 2, 2])\n",
      "torch.Size([128, 2, 2])\n",
      "torch.Size([128, 2, 2])\n",
      "torch.Size([128, 2, 2])\n",
      "torch.Size([128, 2, 2])\n",
      "torch.Size([128, 2, 2])\n",
      "torch.Size([128, 2, 2])\n",
      "torch.Size([128, 2, 2])\n",
      "torch.Size([128, 2, 2])\n",
      "torch.Size([128, 2, 2])\n",
      "torch.Size([128, 2, 2])\n",
      "torch.Size([128, 2, 2])\n",
      "torch.Size([128, 2, 2])\n",
      "torch.Size([128, 2, 2])\n",
      "torch.Size([128, 2, 2])\n",
      "torch.Size([128, 2, 2])\n",
      "torch.Size([128, 2, 2])\n",
      "torch.Size([128, 2, 2])\n",
      "torch.Size([128, 2, 2])\n",
      "torch.Size([128, 2, 2])\n",
      "torch.Size([128, 2, 2])\n",
      "torch.Size([128, 2, 2])\n",
      "torch.Size([128, 2, 2])\n",
      "torch.Size([128, 2, 2])\n",
      "torch.Size([128, 2, 2])\n",
      "torch.Size([128, 2, 2])\n",
      "torch.Size([128, 2, 2])\n",
      "torch.Size([128, 2, 2])\n",
      "torch.Size([128, 2, 2])\n",
      "torch.Size([128, 2, 2])\n",
      "torch.Size([128, 2, 2])\n"
     ]
    },
    {
     "name": "stderr",
     "output_type": "stream",
     "text": [
      " 22%|██▏       | 547/2494 [00:01<00:04, 412.95it/s]"
     ]
    },
    {
     "name": "stdout",
     "output_type": "stream",
     "text": [
      "torch.Size([128, 2, 2])\n",
      "torch.Size([128, 2, 2])\n",
      "torch.Size([128, 2, 2])\n",
      "torch.Size([128, 2, 2])\n",
      "torch.Size([128, 2, 2])\n",
      "torch.Size([128, 2, 2])\n",
      "torch.Size([128, 2, 2])\n",
      "torch.Size([128, 2, 2])\n",
      "torch.Size([128, 2, 2])\n",
      "torch.Size([128, 2, 2])\n",
      "torch.Size([128, 2, 2])\n",
      "torch.Size([128, 2, 2])\n",
      "torch.Size([128, 2, 2])\n",
      "torch.Size([128, 2, 2])\n",
      "torch.Size([128, 2, 2])\n",
      "torch.Size([128, 2, 2])\n",
      "torch.Size([128, 2, 2])\n",
      "torch.Size([128, 2, 2])\n",
      "torch.Size([128, 2, 2])\n",
      "torch.Size([128, 2, 2])\n",
      "torch.Size([128, 2, 2])\n",
      "torch.Size([128, 2, 2])\n",
      "torch.Size([128, 2, 2])\n",
      "torch.Size([128, 2, 2])\n",
      "torch.Size([128, 2, 2])\n",
      "torch.Size([128, 2, 2])\n",
      "torch.Size([128, 2, 2])\n",
      "torch.Size([128, 2, 2])\n",
      "torch.Size([128, 2, 2])\n",
      "torch.Size([128, 2, 2])\n",
      "torch.Size([128, 2, 2])\n",
      "torch.Size([128, 2, 2])\n",
      "torch.Size([128, 2, 2])\n",
      "torch.Size([128, 2, 2])\n",
      "torch.Size([128, 2, 2])\n",
      "torch.Size([128, 2, 2])\n",
      "torch.Size([128, 2, 2])\n",
      "torch.Size([128, 2, 2])\n",
      "torch.Size([128, 2, 2])\n",
      "torch.Size([128, 2, 2])\n",
      "torch.Size([128, 2, 2])\n",
      "torch.Size([128, 2, 2])\n",
      "torch.Size([128, 2, 2])\n",
      "torch.Size([128, 2, 2])\n",
      "torch.Size([128, 2, 2])\n",
      "torch.Size([128, 2, 2])\n",
      "torch.Size([128, 2, 2])\n",
      "torch.Size([128, 2, 2])\n",
      "torch.Size([128, 2, 2])\n",
      "torch.Size([128, 2, 2])\n",
      "torch.Size([128, 2, 2])\n",
      "torch.Size([128, 2, 2])\n",
      "torch.Size([128, 2, 2])\n",
      "torch.Size([128, 2, 2])\n",
      "torch.Size([128, 2, 2])\n",
      "torch.Size([128, 2, 2])\n",
      "torch.Size([128, 2, 2])\n",
      "torch.Size([128, 2, 2])\n",
      "torch.Size([128, 2, 2])\n",
      "torch.Size([128, 2, 2])\n",
      "torch.Size([128, 2, 2])\n",
      "torch.Size([128, 2, 2])\n",
      "torch.Size([128, 2, 2])\n",
      "torch.Size([128, 2, 2])\n",
      "torch.Size([128, 2, 2])\n",
      "torch.Size([128, 2, 2])\n",
      "torch.Size([128, 2, 2])\n",
      "torch.Size([128, 2, 2])\n",
      "torch.Size([128, 2, 2])\n",
      "torch.Size([128, 2, 2])\n",
      "torch.Size([128, 2, 2])\n",
      "torch.Size([128, 2, 2])\n",
      "torch.Size([128, 2, 2])\n",
      "torch.Size([128, 2, 2])\n",
      "torch.Size([128, 2, 2])\n",
      "torch.Size([128, 2, 2])\n",
      "torch.Size([128, 2, 2])\n",
      "torch.Size([128, 2, 2])\n",
      "torch.Size([128, 2, 2])\n",
      "torch.Size([128, 2, 2])\n",
      "torch.Size([128, 2, 2])\n",
      "torch.Size([128, 2, 2])\n",
      "torch.Size([128, 2, 2])\n"
     ]
    },
    {
     "name": "stderr",
     "output_type": "stream",
     "text": [
      " 25%|██▌       | 631/2494 [00:01<00:04, 414.66it/s]"
     ]
    },
    {
     "name": "stdout",
     "output_type": "stream",
     "text": [
      "torch.Size([128, 2, 2])\n",
      "torch.Size([128, 2, 2])\n",
      "torch.Size([128, 2, 2])\n",
      "torch.Size([128, 2, 2])\n",
      "torch.Size([128, 2, 2])\n",
      "torch.Size([128, 2, 2])\n",
      "torch.Size([128, 2, 2])\n",
      "torch.Size([128, 2, 2])\n",
      "torch.Size([128, 2, 2])\n",
      "torch.Size([128, 2, 2])\n",
      "torch.Size([128, 2, 2])\n",
      "torch.Size([128, 2, 2])\n",
      "torch.Size([128, 2, 2])\n",
      "torch.Size([128, 2, 2])\n",
      "torch.Size([128, 2, 2])\n",
      "torch.Size([128, 2, 2])\n",
      "torch.Size([128, 2, 2])\n",
      "torch.Size([128, 2, 2])\n",
      "torch.Size([128, 2, 2])\n",
      "torch.Size([128, 2, 2])\n",
      "torch.Size([128, 2, 2])\n",
      "torch.Size([128, 2, 2])\n",
      "torch.Size([128, 2, 2])\n",
      "torch.Size([128, 2, 2])\n",
      "torch.Size([128, 2, 2])\n",
      "torch.Size([128, 2, 2])\n",
      "torch.Size([128, 2, 2])\n",
      "torch.Size([128, 2, 2])\n",
      "torch.Size([128, 2, 2])\n",
      "torch.Size([128, 2, 2])\n",
      "torch.Size([128, 2, 2])\n",
      "torch.Size([128, 2, 2])\n",
      "torch.Size([128, 2, 2])\n",
      "torch.Size([128, 2, 2])\n",
      "torch.Size([128, 2, 2])\n",
      "torch.Size([128, 2, 2])\n",
      "torch.Size([128, 2, 2])\n",
      "torch.Size([128, 2, 2])\n",
      "torch.Size([128, 2, 2])\n",
      "torch.Size([128, 2, 2])\n",
      "torch.Size([128, 2, 2])\n",
      "torch.Size([128, 2, 2])\n",
      "torch.Size([128, 2, 2])\n",
      "torch.Size([128, 2, 2])\n",
      "torch.Size([128, 2, 2])\n",
      "torch.Size([128, 2, 2])\n",
      "torch.Size([128, 2, 2])\n",
      "torch.Size([128, 2, 2])\n",
      "torch.Size([128, 2, 2])\n",
      "torch.Size([128, 2, 2])\n",
      "torch.Size([128, 2, 2])\n",
      "torch.Size([128, 2, 2])\n",
      "torch.Size([128, 2, 2])\n",
      "torch.Size([128, 2, 2])\n",
      "torch.Size([128, 2, 2])\n",
      "torch.Size([128, 2, 2])\n",
      "torch.Size([128, 2, 2])\n",
      "torch.Size([128, 2, 2])\n",
      "torch.Size([128, 2, 2])\n",
      "torch.Size([128, 2, 2])\n",
      "torch.Size([128, 2, 2])\n",
      "torch.Size([128, 2, 2])\n",
      "torch.Size([128, 2, 2])\n",
      "torch.Size([128, 2, 2])\n",
      "torch.Size([128, 2, 2])\n",
      "torch.Size([128, 2, 2])\n",
      "torch.Size([128, 2, 2])\n",
      "torch.Size([128, 2, 2])\n",
      "torch.Size([128, 2, 2])\n",
      "torch.Size([128, 2, 2])\n",
      "torch.Size([128, 2, 2])\n",
      "torch.Size([128, 2, 2])\n",
      "torch.Size([128, 2, 2])\n",
      "torch.Size([128, 2, 2])\n",
      "torch.Size([128, 2, 2])\n",
      "torch.Size([128, 2, 2])\n",
      "torch.Size([128, 2, 2])\n",
      "torch.Size([128, 2, 2])\n",
      "torch.Size([128, 2, 2])\n",
      "torch.Size([128, 2, 2])\n",
      "torch.Size([128, 2, 2])\n",
      "torch.Size([128, 2, 2])\n",
      "torch.Size([128, 2, 2])\n",
      "torch.Size([128, 2, 2])\n"
     ]
    },
    {
     "name": "stderr",
     "output_type": "stream",
     "text": [
      " 29%|██▊       | 715/2494 [00:01<00:04, 412.74it/s]"
     ]
    },
    {
     "name": "stdout",
     "output_type": "stream",
     "text": [
      "torch.Size([128, 2, 2])\n",
      "torch.Size([128, 2, 2])\n",
      "torch.Size([128, 2, 2])\n",
      "torch.Size([128, 2, 2])\n",
      "torch.Size([128, 2, 2])\n",
      "torch.Size([128, 2, 2])\n",
      "torch.Size([128, 2, 2])\n",
      "torch.Size([128, 2, 2])\n",
      "torch.Size([128, 2, 2])\n",
      "torch.Size([128, 2, 2])\n",
      "torch.Size([128, 2, 2])\n",
      "torch.Size([128, 2, 2])\n",
      "torch.Size([128, 2, 2])\n",
      "torch.Size([128, 2, 2])\n",
      "torch.Size([128, 2, 2])\n",
      "torch.Size([128, 2, 2])\n",
      "torch.Size([128, 2, 2])\n",
      "torch.Size([128, 2, 2])\n",
      "torch.Size([128, 2, 2])\n",
      "torch.Size([128, 2, 2])\n",
      "torch.Size([128, 2, 2])\n",
      "torch.Size([128, 2, 2])\n",
      "torch.Size([128, 2, 2])\n",
      "torch.Size([128, 2, 2])\n",
      "torch.Size([128, 2, 2])\n",
      "torch.Size([128, 2, 2])\n",
      "torch.Size([128, 2, 2])\n",
      "torch.Size([128, 2, 2])\n",
      "torch.Size([128, 2, 2])\n",
      "torch.Size([128, 2, 2])\n",
      "torch.Size([128, 2, 2])\n",
      "torch.Size([128, 2, 2])\n",
      "torch.Size([128, 2, 2])\n",
      "torch.Size([128, 2, 2])\n",
      "torch.Size([128, 2, 2])\n",
      "torch.Size([128, 2, 2])\n",
      "torch.Size([128, 2, 2])\n",
      "torch.Size([128, 2, 2])\n",
      "torch.Size([128, 2, 2])\n",
      "torch.Size([128, 2, 2])\n",
      "torch.Size([128, 2, 2])\n",
      "torch.Size([128, 2, 2])\n",
      "torch.Size([128, 2, 2])\n",
      "torch.Size([128, 2, 2])\n",
      "torch.Size([128, 2, 2])\n",
      "torch.Size([128, 2, 2])\n",
      "torch.Size([128, 2, 2])\n",
      "torch.Size([128, 2, 2])\n",
      "torch.Size([128, 2, 2])\n",
      "torch.Size([128, 2, 2])\n",
      "torch.Size([128, 2, 2])\n",
      "torch.Size([128, 2, 2])\n",
      "torch.Size([128, 2, 2])\n",
      "torch.Size([128, 2, 2])\n",
      "torch.Size([128, 2, 2])\n",
      "torch.Size([128, 2, 2])\n",
      "torch.Size([128, 2, 2])\n",
      "torch.Size([128, 2, 2])\n",
      "torch.Size([128, 2, 2])\n",
      "torch.Size([128, 2, 2])\n",
      "torch.Size([128, 2, 2])\n",
      "torch.Size([128, 2, 2])\n",
      "torch.Size([128, 2, 2])\n",
      "torch.Size([128, 2, 2])\n",
      "torch.Size([128, 2, 2])\n",
      "torch.Size([128, 2, 2])\n",
      "torch.Size([128, 2, 2])\n",
      "torch.Size([128, 2, 2])\n",
      "torch.Size([128, 2, 2])\n",
      "torch.Size([128, 2, 2])\n",
      "torch.Size([128, 2, 2])\n",
      "torch.Size([128, 2, 2])\n",
      "torch.Size([128, 2, 2])\n",
      "torch.Size([128, 2, 2])\n",
      "torch.Size([128, 2, 2])\n",
      "torch.Size([128, 2, 2])\n",
      "torch.Size([128, 2, 2])\n",
      "torch.Size([128, 2, 2])\n",
      "torch.Size([128, 2, 2])\n",
      "torch.Size([128, 2, 2])\n",
      "torch.Size([128, 2, 2])\n",
      "torch.Size([128, 2, 2])\n",
      "torch.Size([128, 2, 2])\n"
     ]
    },
    {
     "name": "stderr",
     "output_type": "stream",
     "text": [
      "\r",
      " 30%|███       | 757/2494 [00:01<00:04, 412.21it/s]"
     ]
    },
    {
     "name": "stdout",
     "output_type": "stream",
     "text": [
      "torch.Size([128, 2, 2])\n",
      "torch.Size([128, 2, 2])\n",
      "torch.Size([128, 2, 2])\n",
      "torch.Size([128, 2, 2])\n",
      "torch.Size([128, 2, 2])\n",
      "torch.Size([128, 2, 2])\n",
      "torch.Size([128, 2, 2])\n",
      "torch.Size([128, 2, 2])\n",
      "torch.Size([128, 2, 2])\n",
      "torch.Size([128, 2, 2])\n",
      "torch.Size([128, 2, 2])\n",
      "torch.Size([128, 2, 2])\n",
      "torch.Size([128, 2, 2])\n",
      "torch.Size([128, 2, 2])\n",
      "torch.Size([128, 2, 2])\n",
      "torch.Size([128, 2, 2])\n",
      "torch.Size([128, 2, 2])\n",
      "torch.Size([128, 2, 2])\n",
      "torch.Size([128, 2, 2])\n",
      "torch.Size([128, 2, 2])\n",
      "torch.Size([128, 2, 2])\n",
      "torch.Size([128, 2, 2])\n",
      "torch.Size([128, 2, 2])\n",
      "torch.Size([128, 2, 2])\n",
      "torch.Size([128, 2, 2])\n",
      "torch.Size([128, 2, 2])\n",
      "torch.Size([128, 2, 2])\n",
      "torch.Size([128, 2, 2])\n",
      "torch.Size([128, 2, 2])\n",
      "torch.Size([128, 2, 2])\n",
      "torch.Size([128, 2, 2])\n",
      "torch.Size([128, 2, 2])\n",
      "torch.Size([128, 2, 2])\n",
      "torch.Size([128, 2, 2])\n",
      "torch.Size([128, 2, 2])\n",
      "torch.Size([128, 2, 2])\n",
      "torch.Size([128, 2, 2])\n",
      "torch.Size([128, 2, 2])\n",
      "torch.Size([128, 2, 2])\n",
      "torch.Size([128, 2, 2])\n",
      "torch.Size([128, 2, 2])\n",
      "torch.Size([128, 2, 2])\n",
      "torch.Size([128, 2, 2])\n",
      "torch.Size([128, 2, 2])\n",
      "torch.Size([128, 2, 2])\n",
      "torch.Size([128, 2, 2])\n",
      "torch.Size([128, 2, 2])\n",
      "torch.Size([128, 2, 2])\n",
      "torch.Size([128, 2, 2])\n",
      "torch.Size([128, 2, 2])\n",
      "torch.Size([128, 2, 2])\n",
      "torch.Size([128, 2, 2])\n",
      "torch.Size([128, 2, 2])\n",
      "torch.Size([128, 2, 2])\n",
      "torch.Size([128, 2, 2])\n",
      "torch.Size([128, 2, 2])\n",
      "torch.Size([128, 2, 2])\n",
      "torch.Size([128, 2, 2])\n",
      "torch.Size([128, 2, 2])\n",
      "torch.Size([128, 2, 2])\n",
      "torch.Size([128, 2, 2])\n",
      "torch.Size([128, 2, 2])\n",
      "torch.Size([128, 2, 2])\n",
      "torch.Size([128, 2, 2])\n",
      "torch.Size([128, 2, 2])\n",
      "torch.Size([128, 2, 2])\n",
      "torch.Size([128, 2, 2])\n",
      "torch.Size([128, 2, 2])\n",
      "torch.Size([128, 2, 2])\n",
      "torch.Size([128, 2, 2])\n",
      "torch.Size([128, 2, 2])\n",
      "torch.Size([128, 2, 2])\n",
      "torch.Size([128, 2, 2])\n",
      "torch.Size([128, 2, 2])\n",
      "torch.Size([128, 2, 2])\n"
     ]
    },
    {
     "name": "stderr",
     "output_type": "stream",
     "text": [
      " 34%|███▎      | 838/2494 [00:02<00:04, 371.00it/s]"
     ]
    },
    {
     "name": "stdout",
     "output_type": "stream",
     "text": [
      "torch.Size([128, 2, 2])\n",
      "torch.Size([128, 2, 2])\n",
      "torch.Size([128, 2, 2])\n",
      "torch.Size([128, 2, 2])\n",
      "torch.Size([128, 2, 2])\n",
      "torch.Size([128, 2, 2])\n",
      "torch.Size([128, 2, 2])\n",
      "torch.Size([128, 2, 2])\n",
      "torch.Size([128, 2, 2])\n",
      "torch.Size([128, 2, 2])\n",
      "torch.Size([128, 2, 2])\n",
      "torch.Size([128, 2, 2])\n",
      "torch.Size([128, 2, 2])\n",
      "torch.Size([128, 2, 2])\n",
      "torch.Size([128, 2, 2])\n",
      "torch.Size([128, 2, 2])\n",
      "torch.Size([128, 2, 2])\n",
      "torch.Size([128, 2, 2])\n",
      "torch.Size([128, 2, 2])\n",
      "torch.Size([128, 2, 2])\n",
      "torch.Size([128, 2, 2])\n",
      "torch.Size([128, 2, 2])\n",
      "torch.Size([128, 2, 2])\n",
      "torch.Size([128, 2, 2])\n",
      "torch.Size([128, 2, 2])\n",
      "torch.Size([128, 2, 2])\n",
      "torch.Size([128, 2, 2])\n",
      "torch.Size([128, 2, 2])\n",
      "torch.Size([128, 2, 2])\n",
      "torch.Size([128, 2, 2])\n",
      "torch.Size([128, 2, 2])\n",
      "torch.Size([128, 2, 2])\n",
      "torch.Size([128, 2, 2])\n",
      "torch.Size([128, 2, 2])\n",
      "torch.Size([128, 2, 2])\n",
      "torch.Size([128, 2, 2])\n",
      "torch.Size([128, 2, 2])\n",
      "torch.Size([128, 2, 2])\n",
      "torch.Size([128, 2, 2])\n",
      "torch.Size([128, 2, 2])\n",
      "torch.Size([128, 2, 2])\n",
      "torch.Size([128, 2, 2])\n",
      "torch.Size([128, 2, 2])\n",
      "torch.Size([128, 2, 2])\n",
      "torch.Size([128, 2, 2])\n",
      "torch.Size([128, 2, 2])\n",
      "torch.Size([128, 2, 2])\n",
      "torch.Size([128, 2, 2])\n",
      "torch.Size([128, 2, 2])\n",
      "torch.Size([128, 2, 2])\n",
      "torch.Size([128, 2, 2])\n",
      "torch.Size([128, 2, 2])\n",
      "torch.Size([128, 2, 2])\n",
      "torch.Size([128, 2, 2])\n",
      "torch.Size([128, 2, 2])\n",
      "torch.Size([128, 2, 2])\n",
      "torch.Size([128, 2, 2])\n",
      "torch.Size([128, 2, 2])\n",
      "torch.Size([128, 2, 2])\n",
      "torch.Size([128, 2, 2])\n",
      "torch.Size([128, 2, 2])\n",
      "torch.Size([128, 2, 2])\n",
      "torch.Size([128, 2, 2])\n",
      "torch.Size([128, 2, 2])\n",
      "torch.Size([128, 2, 2])\n",
      "torch.Size([128, 2, 2])\n",
      "torch.Size([128, 2, 2])\n",
      "torch.Size([128, 2, 2])\n",
      "torch.Size([128, 2, 2])\n",
      "torch.Size([128, 2, 2])\n",
      "torch.Size([128, 2, 2])\n",
      "torch.Size([128, 2, 2])\n",
      "torch.Size([128, 2, 2])\n"
     ]
    },
    {
     "name": "stderr",
     "output_type": "stream",
     "text": [
      " 37%|███▋      | 922/2494 [00:02<00:03, 393.62it/s]"
     ]
    },
    {
     "name": "stdout",
     "output_type": "stream",
     "text": [
      "torch.Size([128, 2, 2])\n",
      "torch.Size([128, 2, 2])\n",
      "torch.Size([128, 2, 2])\n",
      "torch.Size([128, 2, 2])\n",
      "torch.Size([128, 2, 2])\n",
      "torch.Size([128, 2, 2])\n",
      "torch.Size([128, 2, 2])\n",
      "torch.Size([128, 2, 2])\n",
      "torch.Size([128, 2, 2])\n",
      "torch.Size([128, 2, 2])\n",
      "torch.Size([128, 2, 2])\n",
      "torch.Size([128, 2, 2])\n",
      "torch.Size([128, 2, 2])\n",
      "torch.Size([128, 2, 2])\n",
      "torch.Size([128, 2, 2])\n",
      "torch.Size([128, 2, 2])\n",
      "torch.Size([128, 2, 2])\n",
      "torch.Size([128, 2, 2])\n",
      "torch.Size([128, 2, 2])\n",
      "torch.Size([128, 2, 2])\n",
      "torch.Size([128, 2, 2])\n",
      "torch.Size([128, 2, 2])\n",
      "torch.Size([128, 2, 2])\n",
      "torch.Size([128, 2, 2])\n",
      "torch.Size([128, 2, 2])\n",
      "torch.Size([128, 2, 2])\n",
      "torch.Size([128, 2, 2])\n",
      "torch.Size([128, 2, 2])\n",
      "torch.Size([128, 2, 2])\n",
      "torch.Size([128, 2, 2])\n",
      "torch.Size([128, 2, 2])\n",
      "torch.Size([128, 2, 2])\n",
      "torch.Size([128, 2, 2])\n",
      "torch.Size([128, 2, 2])\n",
      "torch.Size([128, 2, 2])\n",
      "torch.Size([128, 2, 2])\n",
      "torch.Size([128, 2, 2])\n",
      "torch.Size([128, 2, 2])\n",
      "torch.Size([128, 2, 2])\n",
      "torch.Size([128, 2, 2])\n",
      "torch.Size([128, 2, 2])\n",
      "torch.Size([128, 2, 2])\n",
      "torch.Size([128, 2, 2])\n",
      "torch.Size([128, 2, 2])\n",
      "torch.Size([128, 2, 2])\n",
      "torch.Size([128, 2, 2])\n",
      "torch.Size([128, 2, 2])\n",
      "torch.Size([128, 2, 2])\n",
      "torch.Size([128, 2, 2])\n",
      "torch.Size([128, 2, 2])\n",
      "torch.Size([128, 2, 2])\n",
      "torch.Size([128, 2, 2])\n",
      "torch.Size([128, 2, 2])\n",
      "torch.Size([128, 2, 2])\n",
      "torch.Size([128, 2, 2])\n",
      "torch.Size([128, 2, 2])\n",
      "torch.Size([128, 2, 2])\n",
      "torch.Size([128, 2, 2])\n",
      "torch.Size([128, 2, 2])\n",
      "torch.Size([128, 2, 2])\n",
      "torch.Size([128, 2, 2])\n",
      "torch.Size([128, 2, 2])\n",
      "torch.Size([128, 2, 2])\n",
      "torch.Size([128, 2, 2])\n",
      "torch.Size([128, 2, 2])\n",
      "torch.Size([128, 2, 2])\n",
      "torch.Size([128, 2, 2])\n",
      "torch.Size([128, 2, 2])\n",
      "torch.Size([128, 2, 2])\n",
      "torch.Size([128, 2, 2])\n",
      "torch.Size([128, 2, 2])\n",
      "torch.Size([128, 2, 2])\n",
      "torch.Size([128, 2, 2])\n",
      "torch.Size([128, 2, 2])\n",
      "torch.Size([128, 2, 2])\n",
      "torch.Size([128, 2, 2])\n",
      "torch.Size([128, 2, 2])\n",
      "torch.Size([128, 2, 2])\n",
      "torch.Size([128, 2, 2])\n",
      "torch.Size([128, 2, 2])\n",
      "torch.Size([128, 2, 2])\n",
      "torch.Size([128, 2, 2])\n",
      "torch.Size([128, 2, 2])\n",
      "torch.Size([128, 2, 2])\n",
      "torch.Size([128, 2, 2])\n",
      "torch.Size([128, 2, 2])\n"
     ]
    },
    {
     "name": "stderr",
     "output_type": "stream",
     "text": [
      " 40%|████      | 1007/2494 [00:02<00:03, 407.89it/s]"
     ]
    },
    {
     "name": "stdout",
     "output_type": "stream",
     "text": [
      "torch.Size([128, 2, 2])\n",
      "torch.Size([128, 2, 2])\n",
      "torch.Size([128, 2, 2])\n",
      "torch.Size([128, 2, 2])\n",
      "torch.Size([128, 2, 2])\n",
      "torch.Size([128, 2, 2])\n",
      "torch.Size([128, 2, 2])\n",
      "torch.Size([128, 2, 2])\n",
      "torch.Size([128, 2, 2])\n",
      "torch.Size([128, 2, 2])\n",
      "torch.Size([128, 2, 2])\n",
      "torch.Size([128, 2, 2])\n",
      "torch.Size([128, 2, 2])\n",
      "torch.Size([128, 2, 2])\n",
      "torch.Size([128, 2, 2])\n",
      "torch.Size([128, 2, 2])\n",
      "torch.Size([128, 2, 2])\n",
      "torch.Size([128, 2, 2])\n",
      "torch.Size([128, 2, 2])\n",
      "torch.Size([128, 2, 2])\n",
      "torch.Size([128, 2, 2])\n",
      "torch.Size([128, 2, 2])\n",
      "torch.Size([128, 2, 2])\n",
      "torch.Size([128, 2, 2])\n",
      "torch.Size([128, 2, 2])\n",
      "torch.Size([128, 2, 2])\n",
      "torch.Size([128, 2, 2])\n",
      "torch.Size([128, 2, 2])\n",
      "torch.Size([128, 2, 2])\n",
      "torch.Size([128, 2, 2])\n",
      "torch.Size([128, 2, 2])\n",
      "torch.Size([128, 2, 2])\n",
      "torch.Size([128, 2, 2])\n",
      "torch.Size([128, 2, 2])\n",
      "torch.Size([128, 2, 2])\n",
      "torch.Size([128, 2, 2])\n",
      "torch.Size([128, 2, 2])\n",
      "torch.Size([128, 2, 2])\n",
      "torch.Size([128, 2, 2])\n",
      "torch.Size([128, 2, 2])\n",
      "torch.Size([128, 2, 2])\n",
      "torch.Size([128, 2, 2])\n",
      "torch.Size([128, 2, 2])\n",
      "torch.Size([128, 2, 2])\n",
      "torch.Size([128, 2, 2])\n",
      "torch.Size([128, 2, 2])\n",
      "torch.Size([128, 2, 2])\n",
      "torch.Size([128, 2, 2])\n",
      "torch.Size([128, 2, 2])\n",
      "torch.Size([128, 2, 2])\n",
      "torch.Size([128, 2, 2])\n",
      "torch.Size([128, 2, 2])\n",
      "torch.Size([128, 2, 2])\n",
      "torch.Size([128, 2, 2])\n",
      "torch.Size([128, 2, 2])\n",
      "torch.Size([128, 2, 2])\n",
      "torch.Size([128, 2, 2])\n",
      "torch.Size([128, 2, 2])\n",
      "torch.Size([128, 2, 2])\n",
      "torch.Size([128, 2, 2])\n",
      "torch.Size([128, 2, 2])\n",
      "torch.Size([128, 2, 2])\n",
      "torch.Size([128, 2, 2])\n",
      "torch.Size([128, 2, 2])\n",
      "torch.Size([128, 2, 2])\n",
      "torch.Size([128, 2, 2])\n",
      "torch.Size([128, 2, 2])\n",
      "torch.Size([128, 2, 2])\n",
      "torch.Size([128, 2, 2])\n",
      "torch.Size([128, 2, 2])\n",
      "torch.Size([128, 2, 2])\n",
      "torch.Size([128, 2, 2])\n",
      "torch.Size([128, 2, 2])\n",
      "torch.Size([128, 2, 2])\n",
      "torch.Size([128, 2, 2])\n",
      "torch.Size([128, 2, 2])\n",
      "torch.Size([128, 2, 2])\n",
      "torch.Size([128, 2, 2])\n",
      "torch.Size([128, 2, 2])\n",
      "torch.Size([128, 2, 2])\n",
      "torch.Size([128, 2, 2])\n",
      "torch.Size([128, 2, 2])\n",
      "torch.Size([128, 2, 2])\n"
     ]
    },
    {
     "name": "stderr",
     "output_type": "stream",
     "text": [
      " 44%|████▎     | 1090/2494 [00:02<00:03, 405.70it/s]"
     ]
    },
    {
     "name": "stdout",
     "output_type": "stream",
     "text": [
      "torch.Size([128, 2, 2])\n",
      "torch.Size([128, 2, 2])\n",
      "torch.Size([128, 2, 2])\n",
      "torch.Size([128, 2, 2])\n",
      "torch.Size([128, 2, 2])\n",
      "torch.Size([128, 2, 2])\n",
      "torch.Size([128, 2, 2])\n",
      "torch.Size([128, 2, 2])\n",
      "torch.Size([128, 2, 2])\n",
      "torch.Size([128, 2, 2])\n",
      "torch.Size([128, 2, 2])\n",
      "torch.Size([128, 2, 2])\n",
      "torch.Size([128, 2, 2])\n",
      "torch.Size([128, 2, 2])\n",
      "torch.Size([128, 2, 2])\n",
      "torch.Size([128, 2, 2])\n",
      "torch.Size([128, 2, 2])\n",
      "torch.Size([128, 2, 2])\n",
      "torch.Size([128, 2, 2])\n",
      "torch.Size([128, 2, 2])\n",
      "torch.Size([128, 2, 2])\n",
      "torch.Size([128, 2, 2])\n",
      "torch.Size([128, 2, 2])\n",
      "torch.Size([128, 2, 2])\n",
      "torch.Size([128, 2, 2])\n",
      "torch.Size([128, 2, 2])\n",
      "torch.Size([128, 2, 2])\n",
      "torch.Size([128, 2, 2])\n",
      "torch.Size([128, 2, 2])\n",
      "torch.Size([128, 2, 2])\n",
      "torch.Size([128, 2, 2])\n",
      "torch.Size([128, 2, 2])\n",
      "torch.Size([128, 2, 2])\n",
      "torch.Size([128, 2, 2])\n",
      "torch.Size([128, 2, 2])\n",
      "torch.Size([128, 2, 2])\n",
      "torch.Size([128, 2, 2])\n",
      "torch.Size([128, 2, 2])\n",
      "torch.Size([128, 2, 2])\n",
      "torch.Size([128, 2, 2])\n",
      "torch.Size([128, 2, 2])\n",
      "torch.Size([128, 2, 2])\n",
      "torch.Size([128, 2, 2])\n",
      "torch.Size([128, 2, 2])\n",
      "torch.Size([128, 2, 2])\n",
      "torch.Size([128, 2, 2])\n",
      "torch.Size([128, 2, 2])\n",
      "torch.Size([128, 2, 2])\n",
      "torch.Size([128, 2, 2])\n",
      "torch.Size([128, 2, 2])\n",
      "torch.Size([128, 2, 2])\n",
      "torch.Size([128, 2, 2])\n",
      "torch.Size([128, 2, 2])\n",
      "torch.Size([128, 2, 2])\n",
      "torch.Size([128, 2, 2])\n",
      "torch.Size([128, 2, 2])\n",
      "torch.Size([128, 2, 2])\n",
      "torch.Size([128, 2, 2])\n",
      "torch.Size([128, 2, 2])\n",
      "torch.Size([128, 2, 2])\n",
      "torch.Size([128, 2, 2])\n",
      "torch.Size([128, 2, 2])\n",
      "torch.Size([128, 2, 2])\n",
      "torch.Size([128, 2, 2])\n",
      "torch.Size([128, 2, 2])\n",
      "torch.Size([128, 2, 2])\n",
      "torch.Size([128, 2, 2])\n",
      "torch.Size([128, 2, 2])\n",
      "torch.Size([128, 2, 2])\n",
      "torch.Size([128, 2, 2])\n",
      "torch.Size([128, 2, 2])\n",
      "torch.Size([128, 2, 2])\n",
      "torch.Size([128, 2, 2])\n",
      "torch.Size([128, 2, 2])\n",
      "torch.Size([128, 2, 2])\n",
      "torch.Size([128, 2, 2])\n",
      "torch.Size([128, 2, 2])\n",
      "torch.Size([128, 2, 2])\n",
      "torch.Size([128, 2, 2])\n"
     ]
    },
    {
     "name": "stderr",
     "output_type": "stream",
     "text": [
      " 47%|████▋     | 1170/2494 [00:03<00:03, 371.88it/s]"
     ]
    },
    {
     "name": "stdout",
     "output_type": "stream",
     "text": [
      "torch.Size([128, 2, 2])\n",
      "torch.Size([128, 2, 2])\n",
      "torch.Size([128, 2, 2])\n",
      "torch.Size([128, 2, 2])\n",
      "torch.Size([128, 2, 2])\n",
      "torch.Size([128, 2, 2])\n",
      "torch.Size([128, 2, 2])\n",
      "torch.Size([128, 2, 2])\n",
      "torch.Size([128, 2, 2])\n",
      "torch.Size([128, 2, 2])\n",
      "torch.Size([128, 2, 2])\n",
      "torch.Size([128, 2, 2])\n",
      "torch.Size([128, 2, 2])\n",
      "torch.Size([128, 2, 2])\n",
      "torch.Size([128, 2, 2])\n",
      "torch.Size([128, 2, 2])\n",
      "torch.Size([128, 2, 2])\n",
      "torch.Size([128, 2, 2])\n",
      "torch.Size([128, 2, 2])\n",
      "torch.Size([128, 2, 2])\n",
      "torch.Size([128, 2, 2])\n",
      "torch.Size([128, 2, 2])\n",
      "torch.Size([128, 2, 2])\n",
      "torch.Size([128, 2, 2])\n",
      "torch.Size([128, 2, 2])\n",
      "torch.Size([128, 2, 2])\n",
      "torch.Size([128, 2, 2])\n",
      "torch.Size([128, 2, 2])\n",
      "torch.Size([128, 2, 2])\n",
      "torch.Size([128, 2, 2])\n",
      "torch.Size([128, 2, 2])\n",
      "torch.Size([128, 2, 2])\n",
      "torch.Size([128, 2, 2])\n",
      "torch.Size([128, 2, 2])\n",
      "torch.Size([128, 2, 2])\n",
      "torch.Size([128, 2, 2])\n",
      "torch.Size([128, 2, 2])\n",
      "torch.Size([128, 2, 2])\n",
      "torch.Size([128, 2, 2])\n",
      "torch.Size([128, 2, 2])\n",
      "torch.Size([128, 2, 2])\n",
      "torch.Size([128, 2, 2])\n",
      "torch.Size([128, 2, 2])\n",
      "torch.Size([128, 2, 2])\n",
      "torch.Size([128, 2, 2])\n",
      "torch.Size([128, 2, 2])\n",
      "torch.Size([128, 2, 2])\n",
      "torch.Size([128, 2, 2])\n",
      "torch.Size([128, 2, 2])\n",
      "torch.Size([128, 2, 2])\n",
      "torch.Size([128, 2, 2])\n",
      "torch.Size([128, 2, 2])\n",
      "torch.Size([128, 2, 2])\n",
      "torch.Size([128, 2, 2])\n",
      "torch.Size([128, 2, 2])\n",
      "torch.Size([128, 2, 2])\n",
      "torch.Size([128, 2, 2])\n",
      "torch.Size([128, 2, 2])\n",
      "torch.Size([128, 2, 2])\n",
      "torch.Size([128, 2, 2])\n",
      "torch.Size([128, 2, 2])\n",
      "torch.Size([128, 2, 2])\n",
      "torch.Size([128, 2, 2])\n",
      "torch.Size([128, 2, 2])\n",
      "torch.Size([128, 2, 2])\n",
      "torch.Size([128, 2, 2])\n",
      "torch.Size([128, 2, 2])\n",
      "torch.Size([128, 2, 2])\n",
      "torch.Size([128, 2, 2])\n"
     ]
    },
    {
     "name": "stderr",
     "output_type": "stream",
     "text": [
      " 50%|█████     | 1248/2494 [00:03<00:03, 371.08it/s]"
     ]
    },
    {
     "name": "stdout",
     "output_type": "stream",
     "text": [
      "torch.Size([128, 2, 2])\n",
      "torch.Size([128, 2, 2])\n",
      "torch.Size([128, 2, 2])\n",
      "torch.Size([128, 2, 2])\n",
      "torch.Size([128, 2, 2])\n",
      "torch.Size([128, 2, 2])\n",
      "torch.Size([128, 2, 2])\n",
      "torch.Size([128, 2, 2])\n",
      "torch.Size([128, 2, 2])\n",
      "torch.Size([128, 2, 2])\n",
      "torch.Size([128, 2, 2])\n",
      "torch.Size([128, 2, 2])\n",
      "torch.Size([128, 2, 2])\n",
      "torch.Size([128, 2, 2])\n",
      "torch.Size([128, 2, 2])\n",
      "torch.Size([128, 2, 2])\n",
      "torch.Size([128, 2, 2])\n",
      "torch.Size([128, 2, 2])\n",
      "torch.Size([128, 2, 2])\n",
      "torch.Size([128, 2, 2])\n",
      "torch.Size([128, 2, 2])\n",
      "torch.Size([128, 2, 2])\n",
      "torch.Size([128, 2, 2])\n",
      "torch.Size([128, 2, 2])\n",
      "torch.Size([128, 2, 2])\n",
      "torch.Size([128, 2, 2])\n",
      "torch.Size([128, 2, 2])\n",
      "torch.Size([128, 2, 2])\n",
      "torch.Size([128, 2, 2])\n",
      "torch.Size([128, 2, 2])\n",
      "torch.Size([128, 2, 2])\n",
      "torch.Size([128, 2, 2])\n",
      "torch.Size([128, 2, 2])\n",
      "torch.Size([128, 2, 2])\n",
      "torch.Size([128, 2, 2])\n",
      "torch.Size([128, 2, 2])\n",
      "torch.Size([128, 2, 2])\n",
      "torch.Size([128, 2, 2])\n",
      "torch.Size([128, 2, 2])\n",
      "torch.Size([128, 2, 2])\n",
      "torch.Size([128, 2, 2])\n",
      "torch.Size([128, 2, 2])\n",
      "torch.Size([128, 2, 2])\n",
      "torch.Size([128, 2, 2])\n",
      "torch.Size([128, 2, 2])\n",
      "torch.Size([128, 2, 2])\n",
      "torch.Size([128, 2, 2])\n",
      "torch.Size([128, 2, 2])\n",
      "torch.Size([128, 2, 2])\n",
      "torch.Size([128, 2, 2])\n",
      "torch.Size([128, 2, 2])\n",
      "torch.Size([128, 2, 2])\n",
      "torch.Size([128, 2, 2])\n",
      "torch.Size([128, 2, 2])\n",
      "torch.Size([128, 2, 2])\n",
      "torch.Size([128, 2, 2])\n",
      "torch.Size([128, 2, 2])\n",
      "torch.Size([128, 2, 2])\n",
      "torch.Size([128, 2, 2])\n",
      "torch.Size([128, 2, 2])\n",
      "torch.Size([128, 2, 2])\n",
      "torch.Size([128, 2, 2])\n",
      "torch.Size([128, 2, 2])\n",
      "torch.Size([128, 2, 2])\n",
      "torch.Size([128, 2, 2])\n",
      "torch.Size([128, 2, 2])\n",
      "torch.Size([128, 2, 2])\n",
      "torch.Size([128, 2, 2])\n",
      "torch.Size([128, 2, 2])\n",
      "torch.Size([128, 2, 2])\n",
      "torch.Size([128, 2, 2])\n",
      "torch.Size([128, 2, 2])\n",
      "torch.Size([128, 2, 2])\n",
      "torch.Size([128, 2, 2])\n",
      "torch.Size([128, 2, 2])\n",
      "torch.Size([128, 2, 2])\n"
     ]
    },
    {
     "name": "stderr",
     "output_type": "stream",
     "text": [
      " 53%|█████▎    | 1334/2494 [00:03<00:02, 397.13it/s]"
     ]
    },
    {
     "name": "stdout",
     "output_type": "stream",
     "text": [
      "torch.Size([128, 2, 2])\n",
      "torch.Size([128, 2, 2])\n",
      "torch.Size([128, 2, 2])\n",
      "torch.Size([128, 2, 2])\n",
      "torch.Size([128, 2, 2])\n",
      "torch.Size([128, 2, 2])\n",
      "torch.Size([128, 2, 2])\n",
      "torch.Size([128, 2, 2])\n",
      "torch.Size([128, 2, 2])\n",
      "torch.Size([128, 2, 2])\n",
      "torch.Size([128, 2, 2])\n",
      "torch.Size([128, 2, 2])\n",
      "torch.Size([128, 2, 2])\n",
      "torch.Size([128, 2, 2])\n",
      "torch.Size([128, 2, 2])\n",
      "torch.Size([128, 2, 2])\n",
      "torch.Size([128, 2, 2])\n",
      "torch.Size([128, 2, 2])\n",
      "torch.Size([128, 2, 2])\n",
      "torch.Size([128, 2, 2])\n",
      "torch.Size([128, 2, 2])\n",
      "torch.Size([128, 2, 2])\n",
      "torch.Size([128, 2, 2])\n",
      "torch.Size([128, 2, 2])\n",
      "torch.Size([128, 2, 2])\n",
      "torch.Size([128, 2, 2])\n",
      "torch.Size([128, 2, 2])\n",
      "torch.Size([128, 2, 2])\n",
      "torch.Size([128, 2, 2])\n",
      "torch.Size([128, 2, 2])\n",
      "torch.Size([128, 2, 2])\n",
      "torch.Size([128, 2, 2])\n",
      "torch.Size([128, 2, 2])\n",
      "torch.Size([128, 2, 2])\n",
      "torch.Size([128, 2, 2])\n",
      "torch.Size([128, 2, 2])\n",
      "torch.Size([128, 2, 2])\n",
      "torch.Size([128, 2, 2])\n",
      "torch.Size([128, 2, 2])\n",
      "torch.Size([128, 2, 2])\n",
      "torch.Size([128, 2, 2])\n",
      "torch.Size([128, 2, 2])\n",
      "torch.Size([128, 2, 2])\n",
      "torch.Size([128, 2, 2])\n",
      "torch.Size([128, 2, 2])\n",
      "torch.Size([128, 2, 2])\n",
      "torch.Size([128, 2, 2])\n",
      "torch.Size([128, 2, 2])\n",
      "torch.Size([128, 2, 2])\n",
      "torch.Size([128, 2, 2])\n",
      "torch.Size([128, 2, 2])\n",
      "torch.Size([128, 2, 2])\n",
      "torch.Size([128, 2, 2])\n",
      "torch.Size([128, 2, 2])\n",
      "torch.Size([128, 2, 2])\n",
      "torch.Size([128, 2, 2])\n",
      "torch.Size([128, 2, 2])\n",
      "torch.Size([128, 2, 2])\n",
      "torch.Size([128, 2, 2])\n",
      "torch.Size([128, 2, 2])\n",
      "torch.Size([128, 2, 2])\n",
      "torch.Size([128, 2, 2])\n",
      "torch.Size([128, 2, 2])\n",
      "torch.Size([128, 2, 2])\n",
      "torch.Size([128, 2, 2])\n",
      "torch.Size([128, 2, 2])\n",
      "torch.Size([128, 2, 2])\n",
      "torch.Size([128, 2, 2])\n",
      "torch.Size([128, 2, 2])\n",
      "torch.Size([128, 2, 2])\n",
      "torch.Size([128, 2, 2])\n",
      "torch.Size([128, 2, 2])\n",
      "torch.Size([128, 2, 2])\n",
      "torch.Size([128, 2, 2])\n",
      "torch.Size([128, 2, 2])\n",
      "torch.Size([128, 2, 2])\n",
      "torch.Size([128, 2, 2])\n",
      "torch.Size([128, 2, 2])\n",
      "torch.Size([128, 2, 2])\n",
      "torch.Size([128, 2, 2])\n",
      "torch.Size([128, 2, 2])\n",
      "torch.Size([128, 2, 2])\n",
      "torch.Size([128, 2, 2])\n",
      "torch.Size([128, 2, 2])\n",
      "torch.Size([128, 2, 2])\n"
     ]
    },
    {
     "name": "stderr",
     "output_type": "stream",
     "text": [
      " 57%|█████▋    | 1419/2494 [00:03<00:02, 408.55it/s]"
     ]
    },
    {
     "name": "stdout",
     "output_type": "stream",
     "text": [
      "torch.Size([128, 2, 2])\n",
      "torch.Size([128, 2, 2])\n",
      "torch.Size([128, 2, 2])\n",
      "torch.Size([128, 2, 2])\n",
      "torch.Size([128, 2, 2])\n",
      "torch.Size([128, 2, 2])\n",
      "torch.Size([128, 2, 2])\n",
      "torch.Size([128, 2, 2])\n",
      "torch.Size([128, 2, 2])\n",
      "torch.Size([128, 2, 2])\n",
      "torch.Size([128, 2, 2])\n",
      "torch.Size([128, 2, 2])\n",
      "torch.Size([128, 2, 2])\n",
      "torch.Size([128, 2, 2])\n",
      "torch.Size([128, 2, 2])\n",
      "torch.Size([128, 2, 2])\n",
      "torch.Size([128, 2, 2])\n",
      "torch.Size([128, 2, 2])\n",
      "torch.Size([128, 2, 2])\n",
      "torch.Size([128, 2, 2])\n",
      "torch.Size([128, 2, 2])\n",
      "torch.Size([128, 2, 2])\n",
      "torch.Size([128, 2, 2])\n",
      "torch.Size([128, 2, 2])\n",
      "torch.Size([128, 2, 2])\n",
      "torch.Size([128, 2, 2])\n",
      "torch.Size([128, 2, 2])\n",
      "torch.Size([128, 2, 2])\n",
      "torch.Size([128, 2, 2])\n",
      "torch.Size([128, 2, 2])\n",
      "torch.Size([128, 2, 2])\n",
      "torch.Size([128, 2, 2])\n",
      "torch.Size([128, 2, 2])\n",
      "torch.Size([128, 2, 2])\n",
      "torch.Size([128, 2, 2])\n",
      "torch.Size([128, 2, 2])\n",
      "torch.Size([128, 2, 2])\n",
      "torch.Size([128, 2, 2])\n",
      "torch.Size([128, 2, 2])\n",
      "torch.Size([128, 2, 2])\n",
      "torch.Size([128, 2, 2])\n",
      "torch.Size([128, 2, 2])\n",
      "torch.Size([128, 2, 2])\n",
      "torch.Size([128, 2, 2])\n",
      "torch.Size([128, 2, 2])\n",
      "torch.Size([128, 2, 2])\n",
      "torch.Size([128, 2, 2])\n",
      "torch.Size([128, 2, 2])\n",
      "torch.Size([128, 2, 2])\n",
      "torch.Size([128, 2, 2])\n",
      "torch.Size([128, 2, 2])\n",
      "torch.Size([128, 2, 2])\n",
      "torch.Size([128, 2, 2])\n",
      "torch.Size([128, 2, 2])\n",
      "torch.Size([128, 2, 2])\n",
      "torch.Size([128, 2, 2])\n",
      "torch.Size([128, 2, 2])\n",
      "torch.Size([128, 2, 2])\n",
      "torch.Size([128, 2, 2])\n",
      "torch.Size([128, 2, 2])\n",
      "torch.Size([128, 2, 2])\n",
      "torch.Size([128, 2, 2])\n",
      "torch.Size([128, 2, 2])\n",
      "torch.Size([128, 2, 2])\n",
      "torch.Size([128, 2, 2])\n",
      "torch.Size([128, 2, 2])\n",
      "torch.Size([128, 2, 2])\n",
      "torch.Size([128, 2, 2])\n",
      "torch.Size([128, 2, 2])\n",
      "torch.Size([128, 2, 2])\n",
      "torch.Size([128, 2, 2])\n",
      "torch.Size([128, 2, 2])\n",
      "torch.Size([128, 2, 2])\n",
      "torch.Size([128, 2, 2])\n",
      "torch.Size([128, 2, 2])\n",
      "torch.Size([128, 2, 2])\n",
      "torch.Size([128, 2, 2])\n",
      "torch.Size([128, 2, 2])\n",
      "torch.Size([128, 2, 2])\n",
      "torch.Size([128, 2, 2])\n",
      "torch.Size([128, 2, 2])\n",
      "torch.Size([128, 2, 2])\n",
      "torch.Size([128, 2, 2])\n",
      "torch.Size([128, 2, 2])\n"
     ]
    },
    {
     "name": "stderr",
     "output_type": "stream",
     "text": [
      " 60%|██████    | 1502/2494 [00:03<00:02, 406.78it/s]"
     ]
    },
    {
     "name": "stdout",
     "output_type": "stream",
     "text": [
      "torch.Size([128, 2, 2])\n",
      "torch.Size([128, 2, 2])\n",
      "torch.Size([128, 2, 2])\n",
      "torch.Size([128, 2, 2])\n",
      "torch.Size([128, 2, 2])\n",
      "torch.Size([128, 2, 2])\n",
      "torch.Size([128, 2, 2])\n",
      "torch.Size([128, 2, 2])\n",
      "torch.Size([128, 2, 2])\n",
      "torch.Size([128, 2, 2])\n",
      "torch.Size([128, 2, 2])\n",
      "torch.Size([128, 2, 2])\n",
      "torch.Size([128, 2, 2])\n",
      "torch.Size([128, 2, 2])\n",
      "torch.Size([128, 2, 2])\n",
      "torch.Size([128, 2, 2])\n",
      "torch.Size([128, 2, 2])\n",
      "torch.Size([128, 2, 2])\n",
      "torch.Size([128, 2, 2])\n",
      "torch.Size([128, 2, 2])\n",
      "torch.Size([128, 2, 2])\n",
      "torch.Size([128, 2, 2])\n",
      "torch.Size([128, 2, 2])\n",
      "torch.Size([128, 2, 2])\n",
      "torch.Size([128, 2, 2])\n",
      "torch.Size([128, 2, 2])\n",
      "torch.Size([128, 2, 2])\n",
      "torch.Size([128, 2, 2])\n",
      "torch.Size([128, 2, 2])\n",
      "torch.Size([128, 2, 2])\n",
      "torch.Size([128, 2, 2])\n",
      "torch.Size([128, 2, 2])\n",
      "torch.Size([128, 2, 2])\n",
      "torch.Size([128, 2, 2])\n",
      "torch.Size([128, 2, 2])\n",
      "torch.Size([128, 2, 2])\n",
      "torch.Size([128, 2, 2])\n",
      "torch.Size([128, 2, 2])\n",
      "torch.Size([128, 2, 2])\n",
      "torch.Size([128, 2, 2])\n",
      "torch.Size([128, 2, 2])\n",
      "torch.Size([128, 2, 2])\n",
      "torch.Size([128, 2, 2])\n",
      "torch.Size([128, 2, 2])\n",
      "torch.Size([128, 2, 2])\n",
      "torch.Size([128, 2, 2])\n",
      "torch.Size([128, 2, 2])\n",
      "torch.Size([128, 2, 2])\n",
      "torch.Size([128, 2, 2])\n",
      "torch.Size([128, 2, 2])\n",
      "torch.Size([128, 2, 2])\n",
      "torch.Size([128, 2, 2])\n",
      "torch.Size([128, 2, 2])\n",
      "torch.Size([128, 2, 2])\n",
      "torch.Size([128, 2, 2])\n",
      "torch.Size([128, 2, 2])\n",
      "torch.Size([128, 2, 2])\n",
      "torch.Size([128, 2, 2])\n",
      "torch.Size([128, 2, 2])\n",
      "torch.Size([128, 2, 2])\n",
      "torch.Size([128, 2, 2])\n",
      "torch.Size([128, 2, 2])\n",
      "torch.Size([128, 2, 2])\n",
      "torch.Size([128, 2, 2])\n",
      "torch.Size([128, 2, 2])\n",
      "torch.Size([128, 2, 2])\n",
      "torch.Size([128, 2, 2])\n",
      "torch.Size([128, 2, 2])\n",
      "torch.Size([128, 2, 2])\n",
      "torch.Size([128, 2, 2])\n",
      "torch.Size([128, 2, 2])\n",
      "torch.Size([128, 2, 2])\n",
      "torch.Size([128, 2, 2])\n",
      "torch.Size([128, 2, 2])\n",
      "torch.Size([128, 2, 2])\n",
      "torch.Size([128, 2, 2])\n",
      "torch.Size([128, 2, 2])\n",
      "torch.Size([128, 2, 2])\n",
      "torch.Size([128, 2, 2])\n",
      "torch.Size([128, 2, 2])\n",
      "torch.Size([128, 2, 2])\n",
      "torch.Size([128, 2, 2])\n"
     ]
    },
    {
     "name": "stderr",
     "output_type": "stream",
     "text": [
      " 64%|██████▎   | 1584/2494 [00:04<00:02, 398.65it/s]"
     ]
    },
    {
     "name": "stdout",
     "output_type": "stream",
     "text": [
      "torch.Size([128, 2, 2])\n",
      "torch.Size([128, 2, 2])\n",
      "torch.Size([128, 2, 2])\n",
      "torch.Size([128, 2, 2])\n",
      "torch.Size([128, 2, 2])\n",
      "torch.Size([128, 2, 2])\n",
      "torch.Size([128, 2, 2])\n",
      "torch.Size([128, 2, 2])\n",
      "torch.Size([128, 2, 2])\n",
      "torch.Size([128, 2, 2])\n",
      "torch.Size([128, 2, 2])\n",
      "torch.Size([128, 2, 2])\n",
      "torch.Size([128, 2, 2])\n",
      "torch.Size([128, 2, 2])\n",
      "torch.Size([128, 2, 2])\n",
      "torch.Size([128, 2, 2])\n",
      "torch.Size([128, 2, 2])\n",
      "torch.Size([128, 2, 2])\n",
      "torch.Size([128, 2, 2])\n",
      "torch.Size([128, 2, 2])\n",
      "torch.Size([128, 2, 2])\n",
      "torch.Size([128, 2, 2])\n",
      "torch.Size([128, 2, 2])\n",
      "torch.Size([128, 2, 2])\n",
      "torch.Size([128, 2, 2])\n",
      "torch.Size([128, 2, 2])\n",
      "torch.Size([128, 2, 2])\n",
      "torch.Size([128, 2, 2])\n",
      "torch.Size([128, 2, 2])\n",
      "torch.Size([128, 2, 2])\n",
      "torch.Size([128, 2, 2])\n",
      "torch.Size([128, 2, 2])\n",
      "torch.Size([128, 2, 2])\n",
      "torch.Size([128, 2, 2])\n",
      "torch.Size([128, 2, 2])\n",
      "torch.Size([128, 2, 2])\n",
      "torch.Size([128, 2, 2])\n",
      "torch.Size([128, 2, 2])\n",
      "torch.Size([128, 2, 2])\n",
      "torch.Size([128, 2, 2])\n",
      "torch.Size([128, 2, 2])\n",
      "torch.Size([128, 2, 2])\n",
      "torch.Size([128, 2, 2])\n",
      "torch.Size([128, 2, 2])\n",
      "torch.Size([128, 2, 2])\n",
      "torch.Size([128, 2, 2])\n",
      "torch.Size([128, 2, 2])\n",
      "torch.Size([128, 2, 2])\n",
      "torch.Size([128, 2, 2])\n",
      "torch.Size([128, 2, 2])\n",
      "torch.Size([128, 2, 2])\n",
      "torch.Size([128, 2, 2])\n",
      "torch.Size([128, 2, 2])\n",
      "torch.Size([128, 2, 2])\n",
      "torch.Size([128, 2, 2])\n",
      "torch.Size([128, 2, 2])\n",
      "torch.Size([128, 2, 2])\n",
      "torch.Size([128, 2, 2])\n",
      "torch.Size([128, 2, 2])\n",
      "torch.Size([128, 2, 2])\n",
      "torch.Size([128, 2, 2])\n",
      "torch.Size([128, 2, 2])\n",
      "torch.Size([128, 2, 2])\n",
      "torch.Size([128, 2, 2])\n",
      "torch.Size([128, 2, 2])\n",
      "torch.Size([128, 2, 2])\n",
      "torch.Size([128, 2, 2])\n",
      "torch.Size([128, 2, 2])\n",
      "torch.Size([128, 2, 2])\n",
      "torch.Size([128, 2, 2])\n",
      "torch.Size([128, 2, 2])\n",
      "torch.Size([128, 2, 2])\n",
      "torch.Size([128, 2, 2])\n",
      "torch.Size([128, 2, 2])\n",
      "torch.Size([128, 2, 2])\n",
      "torch.Size([128, 2, 2])\n",
      "torch.Size([128, 2, 2])\n",
      "torch.Size([128, 2, 2])\n",
      "torch.Size([128, 2, 2])\n"
     ]
    },
    {
     "name": "stderr",
     "output_type": "stream",
     "text": [
      "\r",
      " 65%|██████▌   | 1624/2494 [00:04<00:02, 377.56it/s]"
     ]
    },
    {
     "name": "stdout",
     "output_type": "stream",
     "text": [
      "torch.Size([128, 2, 2])\n",
      "torch.Size([128, 2, 2])\n",
      "torch.Size([128, 2, 2])\n",
      "torch.Size([128, 2, 2])\n",
      "torch.Size([128, 2, 2])\n",
      "torch.Size([128, 2, 2])\n",
      "torch.Size([128, 2, 2])\n",
      "torch.Size([128, 2, 2])\n",
      "torch.Size([128, 2, 2])\n",
      "torch.Size([128, 2, 2])\n",
      "torch.Size([128, 2, 2])\n",
      "torch.Size([128, 2, 2])\n",
      "torch.Size([128, 2, 2])\n",
      "torch.Size([128, 2, 2])\n",
      "torch.Size([128, 2, 2])\n",
      "torch.Size([128, 2, 2])\n",
      "torch.Size([128, 2, 2])\n",
      "torch.Size([128, 2, 2])\n",
      "torch.Size([128, 2, 2])\n",
      "torch.Size([128, 2, 2])\n",
      "torch.Size([128, 2, 2])\n",
      "torch.Size([128, 2, 2])\n",
      "torch.Size([128, 2, 2])\n",
      "torch.Size([128, 2, 2])\n",
      "torch.Size([128, 2, 2])\n",
      "torch.Size([128, 2, 2])\n",
      "torch.Size([128, 2, 2])\n",
      "torch.Size([128, 2, 2])\n",
      "torch.Size([128, 2, 2])\n",
      "torch.Size([128, 2, 2])\n",
      "torch.Size([128, 2, 2])\n",
      "torch.Size([128, 2, 2])\n",
      "torch.Size([128, 2, 2])\n",
      "torch.Size([128, 2, 2])\n",
      "torch.Size([128, 2, 2])\n",
      "torch.Size([128, 2, 2])\n",
      "torch.Size([128, 2, 2])\n",
      "torch.Size([128, 2, 2])\n",
      "torch.Size([128, 2, 2])\n",
      "torch.Size([128, 2, 2])\n",
      "torch.Size([128, 2, 2])\n",
      "torch.Size([128, 2, 2])\n",
      "torch.Size([128, 2, 2])\n",
      "torch.Size([128, 2, 2])\n",
      "torch.Size([128, 2, 2])\n",
      "torch.Size([128, 2, 2])\n",
      "torch.Size([128, 2, 2])\n",
      "torch.Size([128, 2, 2])\n",
      "torch.Size([128, 2, 2])\n",
      "torch.Size([128, 2, 2])\n",
      "torch.Size([128, 2, 2])\n",
      "torch.Size([128, 2, 2])\n",
      "torch.Size([128, 2, 2])\n",
      "torch.Size([128, 2, 2])\n",
      "torch.Size([128, 2, 2])\n",
      "torch.Size([128, 2, 2])\n",
      "torch.Size([128, 2, 2])\n",
      "torch.Size([128, 2, 2])\n",
      "torch.Size([128, 2, 2])\n",
      "torch.Size([128, 2, 2])\n",
      "torch.Size([128, 2, 2])\n",
      "torch.Size([128, 2, 2])\n",
      "torch.Size([128, 2, 2])\n",
      "torch.Size([128, 2, 2])\n",
      "torch.Size([128, 2, 2])\n",
      "torch.Size([128, 2, 2])\n",
      "torch.Size([128, 2, 2])\n",
      "torch.Size([128, 2, 2])\n",
      "torch.Size([128, 2, 2])\n",
      "torch.Size([128, 2, 2])\n",
      "torch.Size([128, 2, 2])\n",
      "torch.Size([128, 2, 2])\n"
     ]
    },
    {
     "name": "stderr",
     "output_type": "stream",
     "text": [
      " 68%|██████▊   | 1707/2494 [00:04<00:02, 392.16it/s]"
     ]
    },
    {
     "name": "stdout",
     "output_type": "stream",
     "text": [
      "torch.Size([128, 2, 2])\n",
      "torch.Size([128, 2, 2])\n",
      "torch.Size([128, 2, 2])\n",
      "torch.Size([128, 2, 2])\n",
      "torch.Size([128, 2, 2])\n",
      "torch.Size([128, 2, 2])\n",
      "torch.Size([128, 2, 2])\n",
      "torch.Size([128, 2, 2])\n",
      "torch.Size([128, 2, 2])\n",
      "torch.Size([128, 2, 2])\n",
      "torch.Size([128, 2, 2])\n",
      "torch.Size([128, 2, 2])\n",
      "torch.Size([128, 2, 2])\n",
      "torch.Size([128, 2, 2])\n",
      "torch.Size([128, 2, 2])\n",
      "torch.Size([128, 2, 2])\n",
      "torch.Size([128, 2, 2])\n",
      "torch.Size([128, 2, 2])\n",
      "torch.Size([128, 2, 2])\n",
      "torch.Size([128, 2, 2])\n",
      "torch.Size([128, 2, 2])\n",
      "torch.Size([128, 2, 2])\n",
      "torch.Size([128, 2, 2])\n",
      "torch.Size([128, 2, 2])\n",
      "torch.Size([128, 2, 2])\n",
      "torch.Size([128, 2, 2])\n",
      "torch.Size([128, 2, 2])\n",
      "torch.Size([128, 2, 2])\n",
      "torch.Size([128, 2, 2])\n",
      "torch.Size([128, 2, 2])\n",
      "torch.Size([128, 2, 2])\n",
      "torch.Size([128, 2, 2])\n",
      "torch.Size([128, 2, 2])\n",
      "torch.Size([128, 2, 2])\n",
      "torch.Size([128, 2, 2])\n",
      "torch.Size([128, 2, 2])\n",
      "torch.Size([128, 2, 2])\n",
      "torch.Size([128, 2, 2])\n",
      "torch.Size([128, 2, 2])\n",
      "torch.Size([128, 2, 2])\n",
      "torch.Size([128, 2, 2])\n",
      "torch.Size([128, 2, 2])\n",
      "torch.Size([128, 2, 2])\n",
      "torch.Size([128, 2, 2])\n",
      "torch.Size([128, 2, 2])\n",
      "torch.Size([128, 2, 2])\n",
      "torch.Size([128, 2, 2])\n",
      "torch.Size([128, 2, 2])\n",
      "torch.Size([128, 2, 2])\n",
      "torch.Size([128, 2, 2])\n",
      "torch.Size([128, 2, 2])\n",
      "torch.Size([128, 2, 2])\n",
      "torch.Size([128, 2, 2])\n",
      "torch.Size([128, 2, 2])\n",
      "torch.Size([128, 2, 2])\n",
      "torch.Size([128, 2, 2])\n",
      "torch.Size([128, 2, 2])\n",
      "torch.Size([128, 2, 2])\n",
      "torch.Size([128, 2, 2])\n",
      "torch.Size([128, 2, 2])\n",
      "torch.Size([128, 2, 2])\n",
      "torch.Size([128, 2, 2])\n",
      "torch.Size([128, 2, 2])\n",
      "torch.Size([128, 2, 2])\n",
      "torch.Size([128, 2, 2])\n",
      "torch.Size([128, 2, 2])\n",
      "torch.Size([128, 2, 2])\n",
      "torch.Size([128, 2, 2])\n",
      "torch.Size([128, 2, 2])\n",
      "torch.Size([128, 2, 2])\n",
      "torch.Size([128, 2, 2])\n",
      "torch.Size([128, 2, 2])\n",
      "torch.Size([128, 2, 2])\n",
      "torch.Size([128, 2, 2])\n",
      "torch.Size([128, 2, 2])\n",
      "torch.Size([128, 2, 2])\n",
      "torch.Size([128, 2, 2])\n",
      "torch.Size([128, 2, 2])\n",
      "torch.Size([128, 2, 2])\n",
      "torch.Size([128, 2, 2])\n",
      "torch.Size([128, 2, 2])\n",
      "torch.Size([128, 2, 2])\n",
      "torch.Size([128, 2, 2])\n",
      "torch.Size([128, 2, 2])\n",
      "torch.Size([128, 2, 2])\n",
      "torch.Size([128, 2, 2])\n"
     ]
    },
    {
     "name": "stderr",
     "output_type": "stream",
     "text": [
      " 72%|███████▏  | 1793/2494 [00:04<00:01, 407.78it/s]"
     ]
    },
    {
     "name": "stdout",
     "output_type": "stream",
     "text": [
      "torch.Size([128, 2, 2])\n",
      "torch.Size([128, 2, 2])\n",
      "torch.Size([128, 2, 2])\n",
      "torch.Size([128, 2, 2])\n",
      "torch.Size([128, 2, 2])\n",
      "torch.Size([128, 2, 2])\n",
      "torch.Size([128, 2, 2])\n",
      "torch.Size([128, 2, 2])\n",
      "torch.Size([128, 2, 2])\n",
      "torch.Size([128, 2, 2])\n",
      "torch.Size([128, 2, 2])\n",
      "torch.Size([128, 2, 2])\n",
      "torch.Size([128, 2, 2])\n",
      "torch.Size([128, 2, 2])\n",
      "torch.Size([128, 2, 2])\n",
      "torch.Size([128, 2, 2])\n",
      "torch.Size([128, 2, 2])\n",
      "torch.Size([128, 2, 2])\n",
      "torch.Size([128, 2, 2])\n",
      "torch.Size([128, 2, 2])\n",
      "torch.Size([128, 2, 2])\n",
      "torch.Size([128, 2, 2])\n",
      "torch.Size([128, 2, 2])\n",
      "torch.Size([128, 2, 2])\n",
      "torch.Size([128, 2, 2])\n",
      "torch.Size([128, 2, 2])\n",
      "torch.Size([128, 2, 2])\n",
      "torch.Size([128, 2, 2])\n",
      "torch.Size([128, 2, 2])\n",
      "torch.Size([128, 2, 2])\n",
      "torch.Size([128, 2, 2])\n",
      "torch.Size([128, 2, 2])\n",
      "torch.Size([128, 2, 2])\n",
      "torch.Size([128, 2, 2])\n",
      "torch.Size([128, 2, 2])\n",
      "torch.Size([128, 2, 2])\n",
      "torch.Size([128, 2, 2])\n",
      "torch.Size([128, 2, 2])\n",
      "torch.Size([128, 2, 2])\n",
      "torch.Size([128, 2, 2])\n",
      "torch.Size([128, 2, 2])\n",
      "torch.Size([128, 2, 2])\n",
      "torch.Size([128, 2, 2])\n",
      "torch.Size([128, 2, 2])\n",
      "torch.Size([128, 2, 2])\n",
      "torch.Size([128, 2, 2])\n",
      "torch.Size([128, 2, 2])\n",
      "torch.Size([128, 2, 2])\n",
      "torch.Size([128, 2, 2])\n",
      "torch.Size([128, 2, 2])\n",
      "torch.Size([128, 2, 2])\n",
      "torch.Size([128, 2, 2])\n",
      "torch.Size([128, 2, 2])\n",
      "torch.Size([128, 2, 2])\n",
      "torch.Size([128, 2, 2])\n",
      "torch.Size([128, 2, 2])\n",
      "torch.Size([128, 2, 2])\n",
      "torch.Size([128, 2, 2])\n",
      "torch.Size([128, 2, 2])\n",
      "torch.Size([128, 2, 2])\n",
      "torch.Size([128, 2, 2])\n",
      "torch.Size([128, 2, 2])\n",
      "torch.Size([128, 2, 2])\n",
      "torch.Size([128, 2, 2])\n",
      "torch.Size([128, 2, 2])\n",
      "torch.Size([128, 2, 2])\n",
      "torch.Size([128, 2, 2])\n",
      "torch.Size([128, 2, 2])\n",
      "torch.Size([128, 2, 2])\n",
      "torch.Size([128, 2, 2])\n",
      "torch.Size([128, 2, 2])\n",
      "torch.Size([128, 2, 2])\n",
      "torch.Size([128, 2, 2])\n",
      "torch.Size([128, 2, 2])\n",
      "torch.Size([128, 2, 2])\n",
      "torch.Size([128, 2, 2])\n",
      "torch.Size([128, 2, 2])\n",
      "torch.Size([128, 2, 2])\n",
      "torch.Size([128, 2, 2])\n",
      "torch.Size([128, 2, 2])\n",
      "torch.Size([128, 2, 2])\n",
      "torch.Size([128, 2, 2])\n",
      "torch.Size([128, 2, 2])\n"
     ]
    },
    {
     "name": "stderr",
     "output_type": "stream",
     "text": [
      " 75%|███████▌  | 1875/2494 [00:04<00:01, 405.50it/s]"
     ]
    },
    {
     "name": "stdout",
     "output_type": "stream",
     "text": [
      "torch.Size([128, 2, 2])\n",
      "torch.Size([128, 2, 2])\n",
      "torch.Size([128, 2, 2])\n",
      "torch.Size([128, 2, 2])\n",
      "torch.Size([128, 2, 2])\n",
      "torch.Size([128, 2, 2])\n",
      "torch.Size([128, 2, 2])\n",
      "torch.Size([128, 2, 2])\n",
      "torch.Size([128, 2, 2])\n",
      "torch.Size([128, 2, 2])\n",
      "torch.Size([128, 2, 2])\n",
      "torch.Size([128, 2, 2])\n",
      "torch.Size([128, 2, 2])\n",
      "torch.Size([128, 2, 2])\n",
      "torch.Size([128, 2, 2])\n",
      "torch.Size([128, 2, 2])\n",
      "torch.Size([128, 2, 2])\n",
      "torch.Size([128, 2, 2])\n",
      "torch.Size([128, 2, 2])\n",
      "torch.Size([128, 2, 2])\n",
      "torch.Size([128, 2, 2])\n",
      "torch.Size([128, 2, 2])\n",
      "torch.Size([128, 2, 2])\n",
      "torch.Size([128, 2, 2])\n",
      "torch.Size([128, 2, 2])\n",
      "torch.Size([128, 2, 2])\n",
      "torch.Size([128, 2, 2])\n",
      "torch.Size([128, 2, 2])\n",
      "torch.Size([128, 2, 2])\n",
      "torch.Size([128, 2, 2])\n",
      "torch.Size([128, 2, 2])\n",
      "torch.Size([128, 2, 2])\n",
      "torch.Size([128, 2, 2])\n",
      "torch.Size([128, 2, 2])\n",
      "torch.Size([128, 2, 2])\n",
      "torch.Size([128, 2, 2])\n",
      "torch.Size([128, 2, 2])\n",
      "torch.Size([128, 2, 2])\n",
      "torch.Size([128, 2, 2])\n",
      "torch.Size([128, 2, 2])\n",
      "torch.Size([128, 2, 2])\n",
      "torch.Size([128, 2, 2])\n",
      "torch.Size([128, 2, 2])\n",
      "torch.Size([128, 2, 2])\n",
      "torch.Size([128, 2, 2])\n",
      "torch.Size([128, 2, 2])\n",
      "torch.Size([128, 2, 2])\n",
      "torch.Size([128, 2, 2])\n",
      "torch.Size([128, 2, 2])\n",
      "torch.Size([128, 2, 2])\n",
      "torch.Size([128, 2, 2])\n",
      "torch.Size([128, 2, 2])\n",
      "torch.Size([128, 2, 2])\n",
      "torch.Size([128, 2, 2])\n",
      "torch.Size([128, 2, 2])\n",
      "torch.Size([128, 2, 2])\n",
      "torch.Size([128, 2, 2])\n",
      "torch.Size([128, 2, 2])\n",
      "torch.Size([128, 2, 2])\n",
      "torch.Size([128, 2, 2])\n",
      "torch.Size([128, 2, 2])\n",
      "torch.Size([128, 2, 2])\n",
      "torch.Size([128, 2, 2])\n",
      "torch.Size([128, 2, 2])\n",
      "torch.Size([128, 2, 2])\n",
      "torch.Size([128, 2, 2])\n",
      "torch.Size([128, 2, 2])\n",
      "torch.Size([128, 2, 2])\n",
      "torch.Size([128, 2, 2])\n",
      "torch.Size([128, 2, 2])\n",
      "torch.Size([128, 2, 2])\n",
      "torch.Size([128, 2, 2])\n",
      "torch.Size([128, 2, 2])\n",
      "torch.Size([128, 2, 2])\n",
      "torch.Size([128, 2, 2])\n",
      "torch.Size([128, 2, 2])\n",
      "torch.Size([128, 2, 2])\n",
      "torch.Size([128, 2, 2])\n",
      "torch.Size([128, 2, 2])\n",
      "torch.Size([128, 2, 2])\n",
      "torch.Size([128, 2, 2])\n",
      "torch.Size([128, 2, 2])\n",
      "torch.Size([128, 2, 2])\n"
     ]
    },
    {
     "name": "stderr",
     "output_type": "stream",
     "text": [
      " 79%|███████▊  | 1959/2494 [00:04<00:01, 410.79it/s]"
     ]
    },
    {
     "name": "stdout",
     "output_type": "stream",
     "text": [
      "torch.Size([128, 2, 2])\n",
      "torch.Size([128, 2, 2])\n",
      "torch.Size([128, 2, 2])\n",
      "torch.Size([128, 2, 2])\n",
      "torch.Size([128, 2, 2])\n",
      "torch.Size([128, 2, 2])\n",
      "torch.Size([128, 2, 2])\n",
      "torch.Size([128, 2, 2])\n",
      "torch.Size([128, 2, 2])\n",
      "torch.Size([128, 2, 2])\n",
      "torch.Size([128, 2, 2])\n",
      "torch.Size([128, 2, 2])\n",
      "torch.Size([128, 2, 2])\n",
      "torch.Size([128, 2, 2])\n",
      "torch.Size([128, 2, 2])\n",
      "torch.Size([128, 2, 2])\n",
      "torch.Size([128, 2, 2])\n",
      "torch.Size([128, 2, 2])\n",
      "torch.Size([128, 2, 2])\n",
      "torch.Size([128, 2, 2])\n",
      "torch.Size([128, 2, 2])\n",
      "torch.Size([128, 2, 2])\n",
      "torch.Size([128, 2, 2])\n",
      "torch.Size([128, 2, 2])\n",
      "torch.Size([128, 2, 2])\n",
      "torch.Size([128, 2, 2])\n",
      "torch.Size([128, 2, 2])\n",
      "torch.Size([128, 2, 2])\n",
      "torch.Size([128, 2, 2])\n",
      "torch.Size([128, 2, 2])\n",
      "torch.Size([128, 2, 2])\n",
      "torch.Size([128, 2, 2])\n",
      "torch.Size([128, 2, 2])\n",
      "torch.Size([128, 2, 2])\n",
      "torch.Size([128, 2, 2])\n",
      "torch.Size([128, 2, 2])\n",
      "torch.Size([128, 2, 2])\n",
      "torch.Size([128, 2, 2])\n",
      "torch.Size([128, 2, 2])\n",
      "torch.Size([128, 2, 2])\n",
      "torch.Size([128, 2, 2])\n",
      "torch.Size([128, 2, 2])\n",
      "torch.Size([128, 2, 2])\n",
      "torch.Size([128, 2, 2])\n",
      "torch.Size([128, 2, 2])\n",
      "torch.Size([128, 2, 2])\n",
      "torch.Size([128, 2, 2])\n",
      "torch.Size([128, 2, 2])\n",
      "torch.Size([128, 2, 2])\n",
      "torch.Size([128, 2, 2])\n",
      "torch.Size([128, 2, 2])\n",
      "torch.Size([128, 2, 2])\n",
      "torch.Size([128, 2, 2])\n",
      "torch.Size([128, 2, 2])\n",
      "torch.Size([128, 2, 2])\n",
      "torch.Size([128, 2, 2])\n",
      "torch.Size([128, 2, 2])\n",
      "torch.Size([128, 2, 2])\n",
      "torch.Size([128, 2, 2])\n",
      "torch.Size([128, 2, 2])\n",
      "torch.Size([128, 2, 2])\n",
      "torch.Size([128, 2, 2])\n",
      "torch.Size([128, 2, 2])\n",
      "torch.Size([128, 2, 2])\n",
      "torch.Size([128, 2, 2])\n",
      "torch.Size([128, 2, 2])\n",
      "torch.Size([128, 2, 2])\n",
      "torch.Size([128, 2, 2])\n",
      "torch.Size([128, 2, 2])\n",
      "torch.Size([128, 2, 2])\n",
      "torch.Size([128, 2, 2])\n",
      "torch.Size([128, 2, 2])\n",
      "torch.Size([128, 2, 2])\n",
      "torch.Size([128, 2, 2])\n",
      "torch.Size([128, 2, 2])\n",
      "torch.Size([128, 2, 2])\n",
      "torch.Size([128, 2, 2])\n",
      "torch.Size([128, 2, 2])\n",
      "torch.Size([128, 2, 2])\n",
      "torch.Size([128, 2, 2])\n",
      "torch.Size([128, 2, 2])\n",
      "torch.Size([128, 2, 2])\n",
      "torch.Size([128, 2, 2])\n",
      "torch.Size([128, 2, 2])\n",
      "torch.Size([128, 2, 2])\n"
     ]
    },
    {
     "name": "stderr",
     "output_type": "stream",
     "text": [
      " 82%|████████▏ | 2044/2494 [00:05<00:01, 410.08it/s]"
     ]
    },
    {
     "name": "stdout",
     "output_type": "stream",
     "text": [
      "torch.Size([128, 2, 2])\n",
      "torch.Size([128, 2, 2])\n",
      "torch.Size([128, 2, 2])\n",
      "torch.Size([128, 2, 2])\n",
      "torch.Size([128, 2, 2])\n",
      "torch.Size([128, 2, 2])\n",
      "torch.Size([128, 2, 2])\n",
      "torch.Size([128, 2, 2])\n",
      "torch.Size([128, 2, 2])\n",
      "torch.Size([128, 2, 2])\n",
      "torch.Size([128, 2, 2])\n",
      "torch.Size([128, 2, 2])\n",
      "torch.Size([128, 2, 2])\n",
      "torch.Size([128, 2, 2])\n",
      "torch.Size([128, 2, 2])\n",
      "torch.Size([128, 2, 2])\n",
      "torch.Size([128, 2, 2])\n",
      "torch.Size([128, 2, 2])\n",
      "torch.Size([128, 2, 2])\n",
      "torch.Size([128, 2, 2])\n",
      "torch.Size([128, 2, 2])\n",
      "torch.Size([128, 2, 2])\n",
      "torch.Size([128, 2, 2])\n",
      "torch.Size([128, 2, 2])\n",
      "torch.Size([128, 2, 2])\n",
      "torch.Size([128, 2, 2])\n",
      "torch.Size([128, 2, 2])\n",
      "torch.Size([128, 2, 2])\n",
      "torch.Size([128, 2, 2])\n",
      "torch.Size([128, 2, 2])\n",
      "torch.Size([128, 2, 2])\n",
      "torch.Size([128, 2, 2])\n",
      "torch.Size([128, 2, 2])\n",
      "torch.Size([128, 2, 2])\n",
      "torch.Size([128, 2, 2])\n",
      "torch.Size([128, 2, 2])\n",
      "torch.Size([128, 2, 2])\n",
      "torch.Size([128, 2, 2])\n",
      "torch.Size([128, 2, 2])\n",
      "torch.Size([128, 2, 2])\n",
      "torch.Size([128, 2, 2])\n",
      "torch.Size([128, 2, 2])\n",
      "torch.Size([128, 2, 2])\n",
      "torch.Size([128, 2, 2])\n",
      "torch.Size([128, 2, 2])\n",
      "torch.Size([128, 2, 2])\n",
      "torch.Size([128, 2, 2])\n",
      "torch.Size([128, 2, 2])\n",
      "torch.Size([128, 2, 2])\n",
      "torch.Size([128, 2, 2])\n",
      "torch.Size([128, 2, 2])\n",
      "torch.Size([128, 2, 2])\n",
      "torch.Size([128, 2, 2])\n",
      "torch.Size([128, 2, 2])\n",
      "torch.Size([128, 2, 2])\n",
      "torch.Size([128, 2, 2])\n",
      "torch.Size([128, 2, 2])\n",
      "torch.Size([128, 2, 2])\n",
      "torch.Size([128, 2, 2])\n",
      "torch.Size([128, 2, 2])\n",
      "torch.Size([128, 2, 2])\n",
      "torch.Size([128, 2, 2])\n",
      "torch.Size([128, 2, 2])\n",
      "torch.Size([128, 2, 2])\n",
      "torch.Size([128, 2, 2])\n",
      "torch.Size([128, 2, 2])\n",
      "torch.Size([128, 2, 2])\n",
      "torch.Size([128, 2, 2])\n",
      "torch.Size([128, 2, 2])\n",
      "torch.Size([128, 2, 2])\n",
      "torch.Size([128, 2, 2])\n",
      "torch.Size([128, 2, 2])\n",
      "torch.Size([128, 2, 2])\n",
      "torch.Size([128, 2, 2])\n",
      "torch.Size([128, 2, 2])\n",
      "torch.Size([128, 2, 2])\n",
      "torch.Size([128, 2, 2])\n",
      "torch.Size([128, 2, 2])\n",
      "torch.Size([128, 2, 2])\n",
      "torch.Size([128, 2, 2])\n",
      "torch.Size([128, 2, 2])\n"
     ]
    },
    {
     "name": "stderr",
     "output_type": "stream",
     "text": [
      " 85%|████████▌ | 2130/2494 [00:05<00:00, 412.67it/s]"
     ]
    },
    {
     "name": "stdout",
     "output_type": "stream",
     "text": [
      "torch.Size([128, 2, 2])\n",
      "torch.Size([128, 2, 2])\n",
      "torch.Size([128, 2, 2])\n",
      "torch.Size([128, 2, 2])\n",
      "torch.Size([128, 2, 2])\n",
      "torch.Size([128, 2, 2])\n",
      "torch.Size([128, 2, 2])\n",
      "torch.Size([128, 2, 2])\n",
      "torch.Size([128, 2, 2])\n",
      "torch.Size([128, 2, 2])\n",
      "torch.Size([128, 2, 2])\n",
      "torch.Size([128, 2, 2])\n",
      "torch.Size([128, 2, 2])\n",
      "torch.Size([128, 2, 2])\n",
      "torch.Size([128, 2, 2])\n",
      "torch.Size([128, 2, 2])\n",
      "torch.Size([128, 2, 2])\n",
      "torch.Size([128, 2, 2])\n",
      "torch.Size([128, 2, 2])\n",
      "torch.Size([128, 2, 2])\n",
      "torch.Size([128, 2, 2])\n",
      "torch.Size([128, 2, 2])\n",
      "torch.Size([128, 2, 2])\n",
      "torch.Size([128, 2, 2])\n",
      "torch.Size([128, 2, 2])\n",
      "torch.Size([128, 2, 2])\n",
      "torch.Size([128, 2, 2])\n",
      "torch.Size([128, 2, 2])\n",
      "torch.Size([128, 2, 2])\n",
      "torch.Size([128, 2, 2])\n",
      "torch.Size([128, 2, 2])\n",
      "torch.Size([128, 2, 2])\n",
      "torch.Size([128, 2, 2])\n",
      "torch.Size([128, 2, 2])\n",
      "torch.Size([128, 2, 2])\n",
      "torch.Size([128, 2, 2])\n",
      "torch.Size([128, 2, 2])\n",
      "torch.Size([128, 2, 2])\n",
      "torch.Size([128, 2, 2])\n",
      "torch.Size([128, 2, 2])\n",
      "torch.Size([128, 2, 2])\n",
      "torch.Size([128, 2, 2])\n",
      "torch.Size([128, 2, 2])\n",
      "torch.Size([128, 2, 2])\n",
      "torch.Size([128, 2, 2])\n",
      "torch.Size([128, 2, 2])\n",
      "torch.Size([128, 2, 2])\n",
      "torch.Size([128, 2, 2])\n",
      "torch.Size([128, 2, 2])\n",
      "torch.Size([128, 2, 2])\n",
      "torch.Size([128, 2, 2])\n",
      "torch.Size([128, 2, 2])\n",
      "torch.Size([128, 2, 2])\n",
      "torch.Size([128, 2, 2])\n",
      "torch.Size([128, 2, 2])\n",
      "torch.Size([128, 2, 2])\n",
      "torch.Size([128, 2, 2])\n",
      "torch.Size([128, 2, 2])\n",
      "torch.Size([128, 2, 2])\n",
      "torch.Size([128, 2, 2])\n",
      "torch.Size([128, 2, 2])\n",
      "torch.Size([128, 2, 2])\n",
      "torch.Size([128, 2, 2])\n",
      "torch.Size([128, 2, 2])\n",
      "torch.Size([128, 2, 2])\n",
      "torch.Size([128, 2, 2])\n",
      "torch.Size([128, 2, 2])\n",
      "torch.Size([128, 2, 2])\n",
      "torch.Size([128, 2, 2])\n",
      "torch.Size([128, 2, 2])\n",
      "torch.Size([128, 2, 2])\n",
      "torch.Size([128, 2, 2])\n",
      "torch.Size([128, 2, 2])\n",
      "torch.Size([128, 2, 2])\n",
      "torch.Size([128, 2, 2])\n",
      "torch.Size([128, 2, 2])\n",
      "torch.Size([128, 2, 2])\n",
      "torch.Size([128, 2, 2])\n",
      "torch.Size([128, 2, 2])\n",
      "torch.Size([128, 2, 2])\n",
      "torch.Size([128, 2, 2])\n",
      "torch.Size([128, 2, 2])\n",
      "torch.Size([128, 2, 2])\n",
      "torch.Size([128, 2, 2])\n",
      "torch.Size([128, 2, 2])\n"
     ]
    },
    {
     "name": "stderr",
     "output_type": "stream",
     "text": [
      " 89%|████████▉ | 2215/2494 [00:05<00:00, 417.16it/s]"
     ]
    },
    {
     "name": "stdout",
     "output_type": "stream",
     "text": [
      "torch.Size([128, 2, 2])\n",
      "torch.Size([128, 2, 2])\n",
      "torch.Size([128, 2, 2])\n",
      "torch.Size([128, 2, 2])\n",
      "torch.Size([128, 2, 2])\n",
      "torch.Size([128, 2, 2])\n",
      "torch.Size([128, 2, 2])\n",
      "torch.Size([128, 2, 2])\n",
      "torch.Size([128, 2, 2])\n",
      "torch.Size([128, 2, 2])\n",
      "torch.Size([128, 2, 2])\n",
      "torch.Size([128, 2, 2])\n",
      "torch.Size([128, 2, 2])\n",
      "torch.Size([128, 2, 2])\n",
      "torch.Size([128, 2, 2])\n",
      "torch.Size([128, 2, 2])\n",
      "torch.Size([128, 2, 2])\n",
      "torch.Size([128, 2, 2])\n",
      "torch.Size([128, 2, 2])\n",
      "torch.Size([128, 2, 2])\n",
      "torch.Size([128, 2, 2])\n",
      "torch.Size([128, 2, 2])\n",
      "torch.Size([128, 2, 2])\n",
      "torch.Size([128, 2, 2])\n",
      "torch.Size([128, 2, 2])\n",
      "torch.Size([128, 2, 2])\n",
      "torch.Size([128, 2, 2])\n",
      "torch.Size([128, 2, 2])\n",
      "torch.Size([128, 2, 2])\n",
      "torch.Size([128, 2, 2])\n",
      "torch.Size([128, 2, 2])\n",
      "torch.Size([128, 2, 2])\n",
      "torch.Size([128, 2, 2])\n",
      "torch.Size([128, 2, 2])\n",
      "torch.Size([128, 2, 2])\n",
      "torch.Size([128, 2, 2])\n",
      "torch.Size([128, 2, 2])\n",
      "torch.Size([128, 2, 2])\n",
      "torch.Size([128, 2, 2])\n",
      "torch.Size([128, 2, 2])\n",
      "torch.Size([128, 2, 2])\n",
      "torch.Size([128, 2, 2])\n",
      "torch.Size([128, 2, 2])\n",
      "torch.Size([128, 2, 2])\n",
      "torch.Size([128, 2, 2])\n",
      "torch.Size([128, 2, 2])\n",
      "torch.Size([128, 2, 2])\n",
      "torch.Size([128, 2, 2])\n",
      "torch.Size([128, 2, 2])\n",
      "torch.Size([128, 2, 2])\n",
      "torch.Size([128, 2, 2])\n",
      "torch.Size([128, 2, 2])\n",
      "torch.Size([128, 2, 2])\n",
      "torch.Size([128, 2, 2])\n",
      "torch.Size([128, 2, 2])\n",
      "torch.Size([128, 2, 2])\n",
      "torch.Size([128, 2, 2])\n",
      "torch.Size([128, 2, 2])\n",
      "torch.Size([128, 2, 2])\n",
      "torch.Size([128, 2, 2])\n",
      "torch.Size([128, 2, 2])\n",
      "torch.Size([128, 2, 2])\n",
      "torch.Size([128, 2, 2])\n",
      "torch.Size([128, 2, 2])\n",
      "torch.Size([128, 2, 2])\n",
      "torch.Size([128, 2, 2])\n",
      "torch.Size([128, 2, 2])\n",
      "torch.Size([128, 2, 2])\n",
      "torch.Size([128, 2, 2])\n",
      "torch.Size([128, 2, 2])\n",
      "torch.Size([128, 2, 2])\n",
      "torch.Size([128, 2, 2])\n",
      "torch.Size([128, 2, 2])\n",
      "torch.Size([128, 2, 2])\n",
      "torch.Size([128, 2, 2])\n",
      "torch.Size([128, 2, 2])\n",
      "torch.Size([128, 2, 2])\n",
      "torch.Size([128, 2, 2])\n",
      "torch.Size([128, 2, 2])\n",
      "torch.Size([128, 2, 2])\n",
      "torch.Size([128, 2, 2])\n",
      "torch.Size([128, 2, 2])\n",
      "torch.Size([128, 2, 2])\n",
      "torch.Size([128, 2, 2])\n",
      "torch.Size([128, 2, 2])\n"
     ]
    },
    {
     "name": "stderr",
     "output_type": "stream",
     "text": [
      " 92%|█████████▏| 2300/2494 [00:05<00:00, 419.84it/s]"
     ]
    },
    {
     "name": "stdout",
     "output_type": "stream",
     "text": [
      "torch.Size([128, 2, 2])\n",
      "torch.Size([128, 2, 2])\n",
      "torch.Size([128, 2, 2])\n",
      "torch.Size([128, 2, 2])\n",
      "torch.Size([128, 2, 2])\n",
      "torch.Size([128, 2, 2])\n",
      "torch.Size([128, 2, 2])\n",
      "torch.Size([128, 2, 2])\n",
      "torch.Size([128, 2, 2])\n",
      "torch.Size([128, 2, 2])\n",
      "torch.Size([128, 2, 2])\n",
      "torch.Size([128, 2, 2])\n",
      "torch.Size([128, 2, 2])\n",
      "torch.Size([128, 2, 2])\n",
      "torch.Size([128, 2, 2])\n",
      "torch.Size([128, 2, 2])\n",
      "torch.Size([128, 2, 2])\n",
      "torch.Size([128, 2, 2])\n",
      "torch.Size([128, 2, 2])\n",
      "torch.Size([128, 2, 2])\n",
      "torch.Size([128, 2, 2])\n",
      "torch.Size([128, 2, 2])\n",
      "torch.Size([128, 2, 2])\n",
      "torch.Size([128, 2, 2])\n",
      "torch.Size([128, 2, 2])\n",
      "torch.Size([128, 2, 2])\n",
      "torch.Size([128, 2, 2])\n",
      "torch.Size([128, 2, 2])\n",
      "torch.Size([128, 2, 2])\n",
      "torch.Size([128, 2, 2])\n",
      "torch.Size([128, 2, 2])\n",
      "torch.Size([128, 2, 2])\n",
      "torch.Size([128, 2, 2])\n",
      "torch.Size([128, 2, 2])\n",
      "torch.Size([128, 2, 2])\n",
      "torch.Size([128, 2, 2])\n",
      "torch.Size([128, 2, 2])\n",
      "torch.Size([128, 2, 2])\n",
      "torch.Size([128, 2, 2])\n",
      "torch.Size([128, 2, 2])\n",
      "torch.Size([128, 2, 2])\n",
      "torch.Size([128, 2, 2])\n",
      "torch.Size([128, 2, 2])\n",
      "torch.Size([128, 2, 2])\n",
      "torch.Size([128, 2, 2])\n",
      "torch.Size([128, 2, 2])\n",
      "torch.Size([128, 2, 2])\n",
      "torch.Size([128, 2, 2])\n",
      "torch.Size([128, 2, 2])\n",
      "torch.Size([128, 2, 2])\n",
      "torch.Size([128, 2, 2])\n",
      "torch.Size([128, 2, 2])\n",
      "torch.Size([128, 2, 2])\n",
      "torch.Size([128, 2, 2])\n",
      "torch.Size([128, 2, 2])\n",
      "torch.Size([128, 2, 2])\n",
      "torch.Size([128, 2, 2])\n",
      "torch.Size([128, 2, 2])\n",
      "torch.Size([128, 2, 2])\n",
      "torch.Size([128, 2, 2])\n",
      "torch.Size([128, 2, 2])\n",
      "torch.Size([128, 2, 2])\n",
      "torch.Size([128, 2, 2])\n",
      "torch.Size([128, 2, 2])\n",
      "torch.Size([128, 2, 2])\n",
      "torch.Size([128, 2, 2])\n",
      "torch.Size([128, 2, 2])\n",
      "torch.Size([128, 2, 2])\n",
      "torch.Size([128, 2, 2])\n",
      "torch.Size([128, 2, 2])\n",
      "torch.Size([128, 2, 2])\n",
      "torch.Size([128, 2, 2])\n",
      "torch.Size([128, 2, 2])\n",
      "torch.Size([128, 2, 2])\n",
      "torch.Size([128, 2, 2])\n",
      "torch.Size([128, 2, 2])\n",
      "torch.Size([128, 2, 2])\n",
      "torch.Size([128, 2, 2])\n",
      "torch.Size([128, 2, 2])\n",
      "torch.Size([128, 2, 2])\n",
      "torch.Size([128, 2, 2])\n",
      "torch.Size([128, 2, 2])\n",
      "torch.Size([128, 2, 2])\n",
      "torch.Size([128, 2, 2])\n",
      "torch.Size([128, 2, 2])\n"
     ]
    },
    {
     "name": "stderr",
     "output_type": "stream",
     "text": [
      " 96%|█████████▌| 2385/2494 [00:05<00:00, 417.74it/s]"
     ]
    },
    {
     "name": "stdout",
     "output_type": "stream",
     "text": [
      "torch.Size([128, 2, 2])\n",
      "torch.Size([128, 2, 2])\n",
      "torch.Size([128, 2, 2])\n",
      "torch.Size([128, 2, 2])\n",
      "torch.Size([128, 2, 2])\n",
      "torch.Size([128, 2, 2])\n",
      "torch.Size([128, 2, 2])\n",
      "torch.Size([128, 2, 2])\n",
      "torch.Size([128, 2, 2])\n",
      "torch.Size([128, 2, 2])\n",
      "torch.Size([128, 2, 2])\n",
      "torch.Size([128, 2, 2])\n",
      "torch.Size([128, 2, 2])\n",
      "torch.Size([128, 2, 2])\n",
      "torch.Size([128, 2, 2])\n",
      "torch.Size([128, 2, 2])\n",
      "torch.Size([128, 2, 2])\n",
      "torch.Size([128, 2, 2])\n",
      "torch.Size([128, 2, 2])\n",
      "torch.Size([128, 2, 2])\n",
      "torch.Size([128, 2, 2])\n",
      "torch.Size([128, 2, 2])\n",
      "torch.Size([128, 2, 2])\n",
      "torch.Size([128, 2, 2])\n",
      "torch.Size([128, 2, 2])\n",
      "torch.Size([128, 2, 2])\n",
      "torch.Size([128, 2, 2])\n",
      "torch.Size([128, 2, 2])\n",
      "torch.Size([128, 2, 2])\n",
      "torch.Size([128, 2, 2])\n",
      "torch.Size([128, 2, 2])\n",
      "torch.Size([128, 2, 2])\n",
      "torch.Size([128, 2, 2])\n",
      "torch.Size([128, 2, 2])\n",
      "torch.Size([128, 2, 2])\n",
      "torch.Size([128, 2, 2])\n",
      "torch.Size([128, 2, 2])\n",
      "torch.Size([128, 2, 2])\n",
      "torch.Size([128, 2, 2])\n",
      "torch.Size([128, 2, 2])\n",
      "torch.Size([128, 2, 2])\n",
      "torch.Size([128, 2, 2])\n",
      "torch.Size([128, 2, 2])\n",
      "torch.Size([128, 2, 2])\n",
      "torch.Size([128, 2, 2])\n",
      "torch.Size([128, 2, 2])\n",
      "torch.Size([128, 2, 2])\n",
      "torch.Size([128, 2, 2])\n",
      "torch.Size([128, 2, 2])\n",
      "torch.Size([128, 2, 2])\n",
      "torch.Size([128, 2, 2])\n",
      "torch.Size([128, 2, 2])\n",
      "torch.Size([128, 2, 2])\n",
      "torch.Size([128, 2, 2])\n",
      "torch.Size([128, 2, 2])\n",
      "torch.Size([128, 2, 2])\n",
      "torch.Size([128, 2, 2])\n",
      "torch.Size([128, 2, 2])\n",
      "torch.Size([128, 2, 2])\n",
      "torch.Size([128, 2, 2])\n",
      "torch.Size([128, 2, 2])\n",
      "torch.Size([128, 2, 2])\n",
      "torch.Size([128, 2, 2])\n",
      "torch.Size([128, 2, 2])\n",
      "torch.Size([128, 2, 2])\n",
      "torch.Size([128, 2, 2])\n",
      "torch.Size([128, 2, 2])\n",
      "torch.Size([128, 2, 2])\n",
      "torch.Size([128, 2, 2])\n",
      "torch.Size([128, 2, 2])\n",
      "torch.Size([128, 2, 2])\n",
      "torch.Size([128, 2, 2])\n",
      "torch.Size([128, 2, 2])\n",
      "torch.Size([128, 2, 2])\n",
      "torch.Size([128, 2, 2])\n",
      "torch.Size([128, 2, 2])\n",
      "torch.Size([128, 2, 2])\n",
      "torch.Size([128, 2, 2])\n",
      "torch.Size([128, 2, 2])\n"
     ]
    },
    {
     "name": "stderr",
     "output_type": "stream",
     "text": [
      " 99%|█████████▉| 2467/2494 [00:06<00:00, 379.05it/s]"
     ]
    },
    {
     "name": "stdout",
     "output_type": "stream",
     "text": [
      "torch.Size([128, 2, 2])\n",
      "torch.Size([128, 2, 2])\n",
      "torch.Size([128, 2, 2])\n",
      "torch.Size([128, 2, 2])\n",
      "torch.Size([128, 2, 2])\n",
      "torch.Size([128, 2, 2])\n",
      "torch.Size([128, 2, 2])\n",
      "torch.Size([128, 2, 2])\n",
      "torch.Size([128, 2, 2])\n",
      "torch.Size([128, 2, 2])\n",
      "torch.Size([128, 2, 2])\n",
      "torch.Size([128, 2, 2])\n",
      "torch.Size([128, 2, 2])\n",
      "torch.Size([128, 2, 2])\n",
      "torch.Size([128, 2, 2])\n",
      "torch.Size([128, 2, 2])\n",
      "torch.Size([128, 2, 2])\n",
      "torch.Size([128, 2, 2])\n",
      "torch.Size([128, 2, 2])\n",
      "torch.Size([128, 2, 2])\n",
      "torch.Size([128, 2, 2])\n",
      "torch.Size([128, 2, 2])\n",
      "torch.Size([128, 2, 2])\n",
      "torch.Size([128, 2, 2])\n",
      "torch.Size([128, 2, 2])\n",
      "torch.Size([128, 2, 2])\n",
      "torch.Size([128, 2, 2])\n",
      "torch.Size([128, 2, 2])\n",
      "torch.Size([128, 2, 2])\n",
      "torch.Size([128, 2, 2])\n",
      "torch.Size([128, 2, 2])\n",
      "torch.Size([128, 2, 2])\n",
      "torch.Size([128, 2, 2])\n",
      "torch.Size([128, 2, 2])\n",
      "torch.Size([128, 2, 2])\n",
      "torch.Size([128, 2, 2])\n",
      "torch.Size([128, 2, 2])\n",
      "torch.Size([128, 2, 2])\n",
      "torch.Size([128, 2, 2])\n",
      "torch.Size([128, 2, 2])\n",
      "torch.Size([128, 2, 2])\n",
      "torch.Size([128, 2, 2])\n",
      "torch.Size([128, 2, 2])\n",
      "torch.Size([128, 2, 2])\n",
      "torch.Size([128, 2, 2])\n",
      "torch.Size([128, 2, 2])\n",
      "torch.Size([128, 2, 2])\n",
      "torch.Size([128, 2, 2])\n",
      "torch.Size([128, 2, 2])\n",
      "torch.Size([128, 2, 2])\n",
      "torch.Size([128, 2, 2])\n",
      "torch.Size([128, 2, 2])\n",
      "torch.Size([128, 2, 2])\n",
      "torch.Size([128, 2, 2])\n",
      "torch.Size([128, 2, 2])\n",
      "torch.Size([128, 2, 2])\n",
      "torch.Size([128, 2, 2])\n",
      "torch.Size([128, 2, 2])\n",
      "torch.Size([128, 2, 2])\n",
      "torch.Size([128, 2, 2])\n",
      "torch.Size([128, 2, 2])\n",
      "torch.Size([128, 2, 2])\n",
      "torch.Size([128, 2, 2])\n",
      "torch.Size([128, 2, 2])\n",
      "torch.Size([128, 2, 2])\n",
      "torch.Size([128, 2, 2])\n",
      "torch.Size([128, 2, 2])\n",
      "torch.Size([128, 2, 2])\n",
      "torch.Size([128, 2, 2])\n",
      "torch.Size([128, 2, 2])\n",
      "torch.Size([128, 2, 2])\n",
      "torch.Size([128, 2, 2])\n",
      "torch.Size([128, 2, 2])\n"
     ]
    },
    {
     "name": "stderr",
     "output_type": "stream",
     "text": [
      "\r",
      "100%|██████████| 2494/2494 [00:06<00:00, 395.82it/s]"
     ]
    },
    {
     "name": "stdout",
     "output_type": "stream",
     "text": [
      "torch.Size([128, 2, 2])\n",
      "torch.Size([128, 2, 2])\n",
      "torch.Size([128, 2, 2])\n",
      "torch.Size([128, 2, 2])\n",
      "torch.Size([128, 2, 2])\n",
      "torch.Size([128, 2, 2])\n",
      "torch.Size([128, 2, 2])\n",
      "torch.Size([128, 2, 2])\n",
      "torch.Size([128, 2, 2])\n",
      "torch.Size([128, 2, 2])\n",
      "Accuracy:  0.757\n"
     ]
    },
    {
     "name": "stderr",
     "output_type": "stream",
     "text": [
      "\n"
     ]
    }
   ],
   "source": [
    "test_X.to(device)\n",
    "test_y.to(device)\n",
    "\n",
    "def test(net):\n",
    "    correct = 0\n",
    "    total = 0\n",
    "    with torch.no_grad():\n",
    "        for i in tqdm(range(len(test_X))):\n",
    "            real_class = torch.argmax(test_y[i]).to(device)\n",
    "            net_out = net(test_X[i].view(-1, 1, 50, 50).to(device))[0]  # returns a list, \n",
    "            predicted_class = torch.argmax(net_out)\n",
    "\n",
    "            if predicted_class == real_class:\n",
    "                correct += 1\n",
    "            total += 1\n",
    "\n",
    "    print(\"Accuracy: \", round(correct/total, 3))\n",
    "\n",
    "test(net)"
   ]
  },
  {
   "cell_type": "code",
   "execution_count": 7,
   "metadata": {},
   "outputs": [
    {
     "name": "stderr",
     "output_type": "stream",
     "text": [
      "  4%|▍         | 1/25 [00:00<00:08,  2.88it/s]"
     ]
    },
    {
     "name": "stdout",
     "output_type": "stream",
     "text": [
      "torch.Size([128, 2, 2])\n"
     ]
    },
    {
     "name": "stderr",
     "output_type": "stream",
     "text": [
      "\r",
      "  8%|▊         | 2/25 [00:00<00:08,  2.81it/s]"
     ]
    },
    {
     "name": "stdout",
     "output_type": "stream",
     "text": [
      "torch.Size([128, 2, 2])\n"
     ]
    },
    {
     "name": "stderr",
     "output_type": "stream",
     "text": [
      "\r",
      " 12%|█▏        | 3/25 [00:01<00:07,  2.89it/s]"
     ]
    },
    {
     "name": "stdout",
     "output_type": "stream",
     "text": [
      "torch.Size([128, 2, 2])\n"
     ]
    },
    {
     "name": "stderr",
     "output_type": "stream",
     "text": [
      "\r",
      " 16%|█▌        | 4/25 [00:01<00:06,  3.02it/s]"
     ]
    },
    {
     "name": "stdout",
     "output_type": "stream",
     "text": [
      "torch.Size([128, 2, 2])\n"
     ]
    },
    {
     "name": "stderr",
     "output_type": "stream",
     "text": [
      "\r",
      " 20%|██        | 5/25 [00:01<00:06,  3.12it/s]"
     ]
    },
    {
     "name": "stdout",
     "output_type": "stream",
     "text": [
      "torch.Size([128, 2, 2])\n"
     ]
    },
    {
     "name": "stderr",
     "output_type": "stream",
     "text": [
      "\r",
      " 24%|██▍       | 6/25 [00:01<00:05,  3.19it/s]"
     ]
    },
    {
     "name": "stdout",
     "output_type": "stream",
     "text": [
      "torch.Size([128, 2, 2])\n"
     ]
    },
    {
     "name": "stderr",
     "output_type": "stream",
     "text": [
      "\r",
      " 28%|██▊       | 7/25 [00:02<00:05,  3.21it/s]"
     ]
    },
    {
     "name": "stdout",
     "output_type": "stream",
     "text": [
      "torch.Size([128, 2, 2])\n"
     ]
    },
    {
     "name": "stderr",
     "output_type": "stream",
     "text": [
      "\r",
      " 32%|███▏      | 8/25 [00:02<00:05,  3.22it/s]"
     ]
    },
    {
     "name": "stdout",
     "output_type": "stream",
     "text": [
      "torch.Size([128, 2, 2])\n"
     ]
    },
    {
     "name": "stderr",
     "output_type": "stream",
     "text": [
      "\r",
      " 36%|███▌      | 9/25 [00:02<00:04,  3.26it/s]"
     ]
    },
    {
     "name": "stdout",
     "output_type": "stream",
     "text": [
      "torch.Size([128, 2, 2])\n"
     ]
    },
    {
     "name": "stderr",
     "output_type": "stream",
     "text": [
      "\r",
      " 40%|████      | 10/25 [00:03<00:04,  3.25it/s]"
     ]
    },
    {
     "name": "stdout",
     "output_type": "stream",
     "text": [
      "torch.Size([128, 2, 2])\n"
     ]
    },
    {
     "name": "stderr",
     "output_type": "stream",
     "text": [
      "\r",
      " 44%|████▍     | 11/25 [00:03<00:04,  3.19it/s]"
     ]
    },
    {
     "name": "stdout",
     "output_type": "stream",
     "text": [
      "torch.Size([128, 2, 2])\n"
     ]
    },
    {
     "name": "stderr",
     "output_type": "stream",
     "text": [
      "\r",
      " 48%|████▊     | 12/25 [00:03<00:03,  3.26it/s]"
     ]
    },
    {
     "name": "stdout",
     "output_type": "stream",
     "text": [
      "torch.Size([128, 2, 2])\n"
     ]
    },
    {
     "name": "stderr",
     "output_type": "stream",
     "text": [
      "\r",
      " 52%|█████▏    | 13/25 [00:04<00:03,  3.28it/s]"
     ]
    },
    {
     "name": "stdout",
     "output_type": "stream",
     "text": [
      "torch.Size([128, 2, 2])\n"
     ]
    },
    {
     "name": "stderr",
     "output_type": "stream",
     "text": [
      "\r",
      " 56%|█████▌    | 14/25 [00:04<00:03,  3.32it/s]"
     ]
    },
    {
     "name": "stdout",
     "output_type": "stream",
     "text": [
      "torch.Size([128, 2, 2])\n"
     ]
    },
    {
     "name": "stderr",
     "output_type": "stream",
     "text": [
      "\r",
      " 60%|██████    | 15/25 [00:04<00:03,  3.30it/s]"
     ]
    },
    {
     "name": "stdout",
     "output_type": "stream",
     "text": [
      "torch.Size([128, 2, 2])\n"
     ]
    },
    {
     "name": "stderr",
     "output_type": "stream",
     "text": [
      "\r",
      " 64%|██████▍   | 16/25 [00:04<00:02,  3.30it/s]"
     ]
    },
    {
     "name": "stdout",
     "output_type": "stream",
     "text": [
      "torch.Size([128, 2, 2])\n"
     ]
    },
    {
     "name": "stderr",
     "output_type": "stream",
     "text": [
      "\r",
      " 68%|██████▊   | 17/25 [00:05<00:02,  3.20it/s]"
     ]
    },
    {
     "name": "stdout",
     "output_type": "stream",
     "text": [
      "torch.Size([128, 2, 2])\n"
     ]
    },
    {
     "name": "stderr",
     "output_type": "stream",
     "text": [
      "\r",
      " 72%|███████▏  | 18/25 [00:05<00:02,  3.26it/s]"
     ]
    },
    {
     "name": "stdout",
     "output_type": "stream",
     "text": [
      "torch.Size([128, 2, 2])\n"
     ]
    },
    {
     "name": "stderr",
     "output_type": "stream",
     "text": [
      "\r",
      " 76%|███████▌  | 19/25 [00:05<00:01,  3.31it/s]"
     ]
    },
    {
     "name": "stdout",
     "output_type": "stream",
     "text": [
      "torch.Size([128, 2, 2])\n"
     ]
    },
    {
     "name": "stderr",
     "output_type": "stream",
     "text": [
      "\r",
      " 80%|████████  | 20/25 [00:06<00:01,  3.31it/s]"
     ]
    },
    {
     "name": "stdout",
     "output_type": "stream",
     "text": [
      "torch.Size([128, 2, 2])\n"
     ]
    },
    {
     "name": "stderr",
     "output_type": "stream",
     "text": [
      "\r",
      " 84%|████████▍ | 21/25 [00:06<00:01,  3.33it/s]"
     ]
    },
    {
     "name": "stdout",
     "output_type": "stream",
     "text": [
      "torch.Size([128, 2, 2])\n"
     ]
    },
    {
     "name": "stderr",
     "output_type": "stream",
     "text": [
      "\r",
      " 88%|████████▊ | 22/25 [00:06<00:00,  3.35it/s]"
     ]
    },
    {
     "name": "stdout",
     "output_type": "stream",
     "text": [
      "torch.Size([128, 2, 2])\n"
     ]
    },
    {
     "name": "stderr",
     "output_type": "stream",
     "text": [
      "\r",
      " 92%|█████████▏| 23/25 [00:07<00:00,  3.24it/s]"
     ]
    },
    {
     "name": "stdout",
     "output_type": "stream",
     "text": [
      "torch.Size([128, 2, 2])\n"
     ]
    },
    {
     "name": "stderr",
     "output_type": "stream",
     "text": [
      "\r",
      " 96%|█████████▌| 24/25 [00:07<00:00,  3.28it/s]"
     ]
    },
    {
     "name": "stdout",
     "output_type": "stream",
     "text": [
      "torch.Size([128, 2, 2])\n"
     ]
    },
    {
     "name": "stderr",
     "output_type": "stream",
     "text": [
      "100%|██████████| 25/25 [00:07<00:00,  3.25it/s]"
     ]
    },
    {
     "name": "stdout",
     "output_type": "stream",
     "text": [
      "torch.Size([128, 2, 2])\n",
      "Accuracy:  0.757\n"
     ]
    },
    {
     "name": "stderr",
     "output_type": "stream",
     "text": [
      "\n"
     ]
    }
   ],
   "source": [
    "correct = 0\n",
    "total = 0\n",
    "for i in tqdm(range(0, len(test_X), BATCH_SIZE)):\n",
    "\n",
    "    batch_X = test_X[i:i+BATCH_SIZE].view(-1, 1, 50, 50).to(device)\n",
    "    batch_y = test_y[i:i+BATCH_SIZE].to(device)\n",
    "    batch_out = net(batch_X)\n",
    "\n",
    "    out_maxes = [torch.argmax(i) for i in batch_out]\n",
    "    target_maxes = [torch.argmax(i) for i in batch_y]\n",
    "    for i,j in zip(out_maxes, target_maxes):\n",
    "        if i == j:\n",
    "            correct += 1\n",
    "        total += 1\n",
    "print(\"Accuracy: \", round(correct/total, 3))"
   ]
  }
 ],
 "metadata": {
  "kernelspec": {
   "display_name": "Python 3",
   "language": "python",
   "name": "python3"
  },
  "language_info": {
   "codemirror_mode": {
    "name": "ipython",
    "version": 3
   },
   "file_extension": ".py",
   "mimetype": "text/x-python",
   "name": "python",
   "nbconvert_exporter": "python",
   "pygments_lexer": "ipython3",
   "version": "3.7.4"
  }
 },
 "nbformat": 4,
 "nbformat_minor": 4
}
