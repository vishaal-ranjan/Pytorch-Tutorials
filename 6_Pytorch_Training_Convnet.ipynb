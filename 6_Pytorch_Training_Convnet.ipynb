{
 "cells": [
  {
   "cell_type": "code",
   "execution_count": 1,
   "metadata": {},
   "outputs": [
    {
     "name": "stdout",
     "output_type": "stream",
     "text": [
      "24946\n"
     ]
    }
   ],
   "source": [
    "import os\n",
    "import cv2\n",
    "import numpy as np\n",
    "from tqdm import tqdm\n",
    "\n",
    "REBUILD_DATA = False\n",
    "\n",
    "class DogsVSCats():\n",
    "    IMG_SIZE = 50\n",
    "    CATS = 'PetImages/Cat'\n",
    "    DOGS = 'PetImages/Dog'\n",
    "    LABELS = {CATS: 0, DOGS: 1}\n",
    "    training_data = []\n",
    "    catcount = 0\n",
    "    dogcount = 0\n",
    "    \n",
    "    def make_training_data(self):\n",
    "        for label in self.LABELS:\n",
    "            for f in tqdm(os.listdir(label)):\n",
    "                try:\n",
    "                    path = os.path.join(label, f)\n",
    "                    img = cv2.imread(path, cv2.IMREAD_GRAYSCALE)\n",
    "                    img = cv2.resize(img, (self.IMG_SIZE, self.IMG_SIZE))\n",
    "                    self.training_data.append([np.array(img), np.eye(2)[self.LABELS[label]]])\n",
    "                    if label == self.CATS:\n",
    "                        self.catcount += 1\n",
    "                    elif label == self.DOGS:\n",
    "                        self.dogcount += 1\n",
    "                except Exception as e:\n",
    "                    pass\n",
    "                \n",
    "        np.random.shuffle(self.training_data)\n",
    "        np.save('training_data.npy', self.training_data)\n",
    "        print('Cats:', self.catcount)\n",
    "        print('Dogs:', self.dogcount)\n",
    "        \n",
    "if REBUILD_DATA:\n",
    "    dogsvcats = DogsVSCats()\n",
    "    dogsvcats.make_training_data()\n",
    "    \n",
    "training_data = np.load('training_data.npy', allow_pickle = True)\n",
    "print(len(training_data))"
   ]
  },
  {
   "cell_type": "code",
   "execution_count": 31,
   "metadata": {},
   "outputs": [
    {
     "name": "stdout",
     "output_type": "stream",
     "text": [
      "torch.Size([128, 2, 2])\n"
     ]
    }
   ],
   "source": [
    "import torch\n",
    "import torch.nn as nn\n",
    "import torch.nn.functional as F\n",
    "\n",
    "class Net(nn.Module):\n",
    "    def __init__(self):\n",
    "        super().__init__()\n",
    "        self.conv1 = nn.Conv2d(1, 32, 5)\n",
    "        self.conv2 = nn.Conv2d(32, 64, 5)\n",
    "        self.conv3 = nn.Conv2d(64, 128, 5)\n",
    "        \n",
    "        x = torch.randn(50, 50).view(-1, 1, 50, 50)\n",
    "        self._to_linear = None\n",
    "        self.convs(x)\n",
    "        self.fc1 = nn.Linear(self._to_linear, 512)\n",
    "        self.fc2 = nn.Linear(512, 2)\n",
    "        \n",
    "    def convs(self, x):\n",
    "        x = F.max_pool2d(F.relu(self.conv1(x)), (2, 2))\n",
    "        x = F.max_pool2d(F.relu(self.conv2(x)), (2, 2))\n",
    "        x = F.max_pool2d(F.relu(self.conv3(x)), (2, 2))\n",
    "        \n",
    "        print(x[0].shape)\n",
    "        if self._to_linear is None:\n",
    "            self._to_linear = x[0].shape[0]*x[0].shape[1]*x[0].shape[2]\n",
    "#         print(x)\n",
    "        return x\n",
    "    \n",
    "    def forward(self, x):\n",
    "        x = self.convs(x)\n",
    "        x = x.view(-1, self._to_linear)\n",
    "        x = F.relu(self.fc1(x))\n",
    "        x = self.fc2(x)\n",
    "        return F.softmax(x, dim = 1)\n",
    "    \n",
    "net = Net()\n",
    "net = net.double()"
   ]
  },
  {
   "cell_type": "code",
   "execution_count": 32,
   "metadata": {},
   "outputs": [
    {
     "name": "stdout",
     "output_type": "stream",
     "text": [
      "2494\n"
     ]
    }
   ],
   "source": [
    "import torch.optim as optim\n",
    "\n",
    "optimizer = optim.Adam(net.parameters(), lr = 0.001)\n",
    "loss_function = nn.MSELoss()\n",
    "\n",
    "X = torch.tensor([i[0] for i in training_data]).view(-1, 50, 50)\n",
    "X = X/255.0\n",
    "y = torch.tensor([i[1] for i in training_data])\n",
    "\n",
    "VAL_PCT = 0.1\n",
    "val_size = int(len(X)*VAL_PCT)\n",
    "print(val_size)"
   ]
  },
  {
   "cell_type": "code",
   "execution_count": 36,
   "metadata": {},
   "outputs": [
    {
     "name": "stdout",
     "output_type": "stream",
     "text": [
      "22452\n",
      "2494\n"
     ]
    }
   ],
   "source": [
    "train_X = X[:-val_size].double()\n",
    "train_y = y[:-val_size].double()\n",
    "\n",
    "test_X = X[-val_size:].double()\n",
    "test_y = y[-val_size:].double()\n",
    "\n",
    "print(len(train_X))\n",
    "print(len(test_X))"
   ]
  },
  {
   "cell_type": "code",
   "execution_count": 34,
   "metadata": {
    "scrolled": true
   },
   "outputs": [
    {
     "name": "stderr",
     "output_type": "stream",
     "text": [
      "\r",
      "  0%|          | 0/225 [00:00<?, ?it/s]"
     ]
    },
    {
     "name": "stdout",
     "output_type": "stream",
     "text": [
      "torch.Size([128, 2, 2])\n"
     ]
    },
    {
     "name": "stderr",
     "output_type": "stream",
     "text": [
      "\r",
      "  0%|          | 1/225 [00:00<02:52,  1.30it/s]"
     ]
    },
    {
     "name": "stdout",
     "output_type": "stream",
     "text": [
      "torch.Size([128, 2, 2])\n"
     ]
    },
    {
     "name": "stderr",
     "output_type": "stream",
     "text": [
      "\r",
      "  1%|          | 2/225 [00:01<02:44,  1.35it/s]"
     ]
    },
    {
     "name": "stdout",
     "output_type": "stream",
     "text": [
      "torch.Size([128, 2, 2])\n"
     ]
    },
    {
     "name": "stderr",
     "output_type": "stream",
     "text": [
      "\r",
      "  1%|▏         | 3/225 [00:02<02:37,  1.41it/s]"
     ]
    },
    {
     "name": "stdout",
     "output_type": "stream",
     "text": [
      "torch.Size([128, 2, 2])\n"
     ]
    },
    {
     "name": "stderr",
     "output_type": "stream",
     "text": [
      "\r",
      "  2%|▏         | 4/225 [00:02<02:32,  1.45it/s]"
     ]
    },
    {
     "name": "stdout",
     "output_type": "stream",
     "text": [
      "torch.Size([128, 2, 2])\n"
     ]
    },
    {
     "name": "stderr",
     "output_type": "stream",
     "text": [
      "\r",
      "  2%|▏         | 5/225 [00:03<02:27,  1.49it/s]"
     ]
    },
    {
     "name": "stdout",
     "output_type": "stream",
     "text": [
      "torch.Size([128, 2, 2])\n"
     ]
    },
    {
     "name": "stderr",
     "output_type": "stream",
     "text": [
      "\r",
      "  3%|▎         | 6/225 [00:03<02:24,  1.51it/s]"
     ]
    },
    {
     "name": "stdout",
     "output_type": "stream",
     "text": [
      "torch.Size([128, 2, 2])\n"
     ]
    },
    {
     "name": "stderr",
     "output_type": "stream",
     "text": [
      "\r",
      "  3%|▎         | 7/225 [00:04<02:23,  1.52it/s]"
     ]
    },
    {
     "name": "stdout",
     "output_type": "stream",
     "text": [
      "torch.Size([128, 2, 2])\n"
     ]
    },
    {
     "name": "stderr",
     "output_type": "stream",
     "text": [
      "\r",
      "  4%|▎         | 8/225 [00:05<02:22,  1.53it/s]"
     ]
    },
    {
     "name": "stdout",
     "output_type": "stream",
     "text": [
      "torch.Size([128, 2, 2])\n"
     ]
    },
    {
     "name": "stderr",
     "output_type": "stream",
     "text": [
      "\r",
      "  4%|▍         | 9/225 [00:05<02:20,  1.53it/s]"
     ]
    },
    {
     "name": "stdout",
     "output_type": "stream",
     "text": [
      "torch.Size([128, 2, 2])\n"
     ]
    },
    {
     "name": "stderr",
     "output_type": "stream",
     "text": [
      "\r",
      "  4%|▍         | 10/225 [00:06<02:20,  1.53it/s]"
     ]
    },
    {
     "name": "stdout",
     "output_type": "stream",
     "text": [
      "torch.Size([128, 2, 2])\n"
     ]
    },
    {
     "name": "stderr",
     "output_type": "stream",
     "text": [
      "\r",
      "  5%|▍         | 11/225 [00:07<02:20,  1.52it/s]"
     ]
    },
    {
     "name": "stdout",
     "output_type": "stream",
     "text": [
      "torch.Size([128, 2, 2])\n"
     ]
    },
    {
     "name": "stderr",
     "output_type": "stream",
     "text": [
      "\r",
      "  5%|▌         | 12/225 [00:07<02:18,  1.53it/s]"
     ]
    },
    {
     "name": "stdout",
     "output_type": "stream",
     "text": [
      "torch.Size([128, 2, 2])\n"
     ]
    },
    {
     "name": "stderr",
     "output_type": "stream",
     "text": [
      "\r",
      "  6%|▌         | 13/225 [00:08<02:18,  1.53it/s]"
     ]
    },
    {
     "name": "stdout",
     "output_type": "stream",
     "text": [
      "torch.Size([128, 2, 2])\n"
     ]
    },
    {
     "name": "stderr",
     "output_type": "stream",
     "text": [
      "\r",
      "  6%|▌         | 14/225 [00:09<02:16,  1.54it/s]"
     ]
    },
    {
     "name": "stdout",
     "output_type": "stream",
     "text": [
      "torch.Size([128, 2, 2])\n"
     ]
    },
    {
     "name": "stderr",
     "output_type": "stream",
     "text": [
      "\r",
      "  7%|▋         | 15/225 [00:09<02:16,  1.54it/s]"
     ]
    },
    {
     "name": "stdout",
     "output_type": "stream",
     "text": [
      "torch.Size([128, 2, 2])\n"
     ]
    },
    {
     "name": "stderr",
     "output_type": "stream",
     "text": [
      "\r",
      "  7%|▋         | 16/225 [00:10<02:18,  1.51it/s]"
     ]
    },
    {
     "name": "stdout",
     "output_type": "stream",
     "text": [
      "torch.Size([128, 2, 2])\n"
     ]
    },
    {
     "name": "stderr",
     "output_type": "stream",
     "text": [
      "\r",
      "  8%|▊         | 17/225 [00:11<02:18,  1.50it/s]"
     ]
    },
    {
     "name": "stdout",
     "output_type": "stream",
     "text": [
      "torch.Size([128, 2, 2])\n"
     ]
    },
    {
     "name": "stderr",
     "output_type": "stream",
     "text": [
      "\r",
      "  8%|▊         | 18/225 [00:11<02:18,  1.50it/s]"
     ]
    },
    {
     "name": "stdout",
     "output_type": "stream",
     "text": [
      "torch.Size([128, 2, 2])\n"
     ]
    },
    {
     "name": "stderr",
     "output_type": "stream",
     "text": [
      "\r",
      "  8%|▊         | 19/225 [00:12<02:18,  1.49it/s]"
     ]
    },
    {
     "name": "stdout",
     "output_type": "stream",
     "text": [
      "torch.Size([128, 2, 2])\n"
     ]
    },
    {
     "name": "stderr",
     "output_type": "stream",
     "text": [
      "\r",
      "  9%|▉         | 20/225 [00:13<02:18,  1.48it/s]"
     ]
    },
    {
     "name": "stdout",
     "output_type": "stream",
     "text": [
      "torch.Size([128, 2, 2])\n"
     ]
    },
    {
     "name": "stderr",
     "output_type": "stream",
     "text": [
      "\r",
      "  9%|▉         | 21/225 [00:13<02:18,  1.47it/s]"
     ]
    },
    {
     "name": "stdout",
     "output_type": "stream",
     "text": [
      "torch.Size([128, 2, 2])\n"
     ]
    },
    {
     "name": "stderr",
     "output_type": "stream",
     "text": [
      "\r",
      " 10%|▉         | 22/225 [00:14<02:18,  1.47it/s]"
     ]
    },
    {
     "name": "stdout",
     "output_type": "stream",
     "text": [
      "torch.Size([128, 2, 2])\n"
     ]
    },
    {
     "name": "stderr",
     "output_type": "stream",
     "text": [
      "\r",
      " 10%|█         | 23/225 [00:15<02:18,  1.46it/s]"
     ]
    },
    {
     "name": "stdout",
     "output_type": "stream",
     "text": [
      "torch.Size([128, 2, 2])\n"
     ]
    },
    {
     "name": "stderr",
     "output_type": "stream",
     "text": [
      "\r",
      " 11%|█         | 24/225 [00:15<02:17,  1.46it/s]"
     ]
    },
    {
     "name": "stdout",
     "output_type": "stream",
     "text": [
      "torch.Size([128, 2, 2])\n"
     ]
    },
    {
     "name": "stderr",
     "output_type": "stream",
     "text": [
      "\r",
      " 11%|█         | 25/225 [00:16<02:17,  1.45it/s]"
     ]
    },
    {
     "name": "stdout",
     "output_type": "stream",
     "text": [
      "torch.Size([128, 2, 2])\n"
     ]
    },
    {
     "name": "stderr",
     "output_type": "stream",
     "text": [
      "\r",
      " 12%|█▏        | 26/225 [00:17<02:16,  1.46it/s]"
     ]
    },
    {
     "name": "stdout",
     "output_type": "stream",
     "text": [
      "torch.Size([128, 2, 2])\n"
     ]
    },
    {
     "name": "stderr",
     "output_type": "stream",
     "text": [
      "\r",
      " 12%|█▏        | 27/225 [00:18<02:15,  1.46it/s]"
     ]
    },
    {
     "name": "stdout",
     "output_type": "stream",
     "text": [
      "torch.Size([128, 2, 2])\n"
     ]
    },
    {
     "name": "stderr",
     "output_type": "stream",
     "text": [
      "\r",
      " 12%|█▏        | 28/225 [00:18<02:13,  1.48it/s]"
     ]
    },
    {
     "name": "stdout",
     "output_type": "stream",
     "text": [
      "torch.Size([128, 2, 2])\n"
     ]
    },
    {
     "name": "stderr",
     "output_type": "stream",
     "text": [
      "\r",
      " 13%|█▎        | 29/225 [00:19<02:11,  1.49it/s]"
     ]
    },
    {
     "name": "stdout",
     "output_type": "stream",
     "text": [
      "torch.Size([128, 2, 2])\n"
     ]
    },
    {
     "name": "stderr",
     "output_type": "stream",
     "text": [
      "\r",
      " 13%|█▎        | 30/225 [00:20<02:09,  1.51it/s]"
     ]
    },
    {
     "name": "stdout",
     "output_type": "stream",
     "text": [
      "torch.Size([128, 2, 2])\n"
     ]
    },
    {
     "name": "stderr",
     "output_type": "stream",
     "text": [
      "\r",
      " 14%|█▍        | 31/225 [00:20<02:08,  1.51it/s]"
     ]
    },
    {
     "name": "stdout",
     "output_type": "stream",
     "text": [
      "torch.Size([128, 2, 2])\n"
     ]
    },
    {
     "name": "stderr",
     "output_type": "stream",
     "text": [
      "\r",
      " 14%|█▍        | 32/225 [00:21<02:07,  1.52it/s]"
     ]
    },
    {
     "name": "stdout",
     "output_type": "stream",
     "text": [
      "torch.Size([128, 2, 2])\n"
     ]
    },
    {
     "name": "stderr",
     "output_type": "stream",
     "text": [
      "\r",
      " 15%|█▍        | 33/225 [00:21<02:06,  1.52it/s]"
     ]
    },
    {
     "name": "stdout",
     "output_type": "stream",
     "text": [
      "torch.Size([128, 2, 2])\n"
     ]
    },
    {
     "name": "stderr",
     "output_type": "stream",
     "text": [
      "\r",
      " 15%|█▌        | 34/225 [00:22<02:04,  1.53it/s]"
     ]
    },
    {
     "name": "stdout",
     "output_type": "stream",
     "text": [
      "torch.Size([128, 2, 2])\n"
     ]
    },
    {
     "name": "stderr",
     "output_type": "stream",
     "text": [
      "\r",
      " 16%|█▌        | 35/225 [00:23<02:07,  1.49it/s]"
     ]
    },
    {
     "name": "stdout",
     "output_type": "stream",
     "text": [
      "torch.Size([128, 2, 2])\n"
     ]
    },
    {
     "name": "stderr",
     "output_type": "stream",
     "text": [
      "\r",
      " 16%|█▌        | 36/225 [00:24<02:11,  1.44it/s]"
     ]
    },
    {
     "name": "stdout",
     "output_type": "stream",
     "text": [
      "torch.Size([128, 2, 2])\n"
     ]
    },
    {
     "name": "stderr",
     "output_type": "stream",
     "text": [
      "\r",
      " 16%|█▋        | 37/225 [00:24<02:10,  1.44it/s]"
     ]
    },
    {
     "name": "stdout",
     "output_type": "stream",
     "text": [
      "torch.Size([128, 2, 2])\n"
     ]
    },
    {
     "name": "stderr",
     "output_type": "stream",
     "text": [
      "\r",
      " 17%|█▋        | 38/225 [00:25<02:08,  1.45it/s]"
     ]
    },
    {
     "name": "stdout",
     "output_type": "stream",
     "text": [
      "torch.Size([128, 2, 2])\n"
     ]
    },
    {
     "name": "stderr",
     "output_type": "stream",
     "text": [
      "\r",
      " 17%|█▋        | 39/225 [00:26<02:11,  1.41it/s]"
     ]
    },
    {
     "name": "stdout",
     "output_type": "stream",
     "text": [
      "torch.Size([128, 2, 2])\n"
     ]
    },
    {
     "name": "stderr",
     "output_type": "stream",
     "text": [
      "\r",
      " 18%|█▊        | 40/225 [00:26<02:13,  1.39it/s]"
     ]
    },
    {
     "name": "stdout",
     "output_type": "stream",
     "text": [
      "torch.Size([128, 2, 2])\n"
     ]
    },
    {
     "name": "stderr",
     "output_type": "stream",
     "text": [
      "\r",
      " 18%|█▊        | 41/225 [00:27<02:17,  1.34it/s]"
     ]
    },
    {
     "name": "stdout",
     "output_type": "stream",
     "text": [
      "torch.Size([128, 2, 2])\n"
     ]
    },
    {
     "name": "stderr",
     "output_type": "stream",
     "text": [
      "\r",
      " 19%|█▊        | 42/225 [00:28<02:21,  1.30it/s]"
     ]
    },
    {
     "name": "stdout",
     "output_type": "stream",
     "text": [
      "torch.Size([128, 2, 2])\n"
     ]
    },
    {
     "name": "stderr",
     "output_type": "stream",
     "text": [
      "\r",
      " 19%|█▉        | 43/225 [00:29<02:26,  1.24it/s]"
     ]
    },
    {
     "name": "stdout",
     "output_type": "stream",
     "text": [
      "torch.Size([128, 2, 2])\n"
     ]
    },
    {
     "name": "stderr",
     "output_type": "stream",
     "text": [
      "\r",
      " 20%|█▉        | 44/225 [00:30<02:26,  1.24it/s]"
     ]
    },
    {
     "name": "stdout",
     "output_type": "stream",
     "text": [
      "torch.Size([128, 2, 2])\n"
     ]
    },
    {
     "name": "stderr",
     "output_type": "stream",
     "text": [
      "\r",
      " 20%|██        | 45/225 [00:31<02:21,  1.27it/s]"
     ]
    },
    {
     "name": "stdout",
     "output_type": "stream",
     "text": [
      "torch.Size([128, 2, 2])\n"
     ]
    },
    {
     "name": "stderr",
     "output_type": "stream",
     "text": [
      "\r",
      " 20%|██        | 46/225 [00:31<02:17,  1.30it/s]"
     ]
    },
    {
     "name": "stdout",
     "output_type": "stream",
     "text": [
      "torch.Size([128, 2, 2])\n"
     ]
    },
    {
     "name": "stderr",
     "output_type": "stream",
     "text": [
      "\r",
      " 21%|██        | 47/225 [00:32<02:13,  1.33it/s]"
     ]
    },
    {
     "name": "stdout",
     "output_type": "stream",
     "text": [
      "torch.Size([128, 2, 2])\n"
     ]
    },
    {
     "name": "stderr",
     "output_type": "stream",
     "text": [
      "\r",
      " 21%|██▏       | 48/225 [00:33<02:09,  1.37it/s]"
     ]
    },
    {
     "name": "stdout",
     "output_type": "stream",
     "text": [
      "torch.Size([128, 2, 2])\n"
     ]
    },
    {
     "name": "stderr",
     "output_type": "stream",
     "text": [
      "\r",
      " 22%|██▏       | 49/225 [00:33<02:07,  1.38it/s]"
     ]
    },
    {
     "name": "stdout",
     "output_type": "stream",
     "text": [
      "torch.Size([128, 2, 2])\n"
     ]
    },
    {
     "name": "stderr",
     "output_type": "stream",
     "text": [
      "\r",
      " 22%|██▏       | 50/225 [00:34<02:04,  1.40it/s]"
     ]
    },
    {
     "name": "stdout",
     "output_type": "stream",
     "text": [
      "torch.Size([128, 2, 2])\n"
     ]
    },
    {
     "name": "stderr",
     "output_type": "stream",
     "text": [
      "\r",
      " 23%|██▎       | 51/225 [00:35<02:02,  1.42it/s]"
     ]
    },
    {
     "name": "stdout",
     "output_type": "stream",
     "text": [
      "torch.Size([128, 2, 2])\n"
     ]
    },
    {
     "name": "stderr",
     "output_type": "stream",
     "text": [
      "\r",
      " 23%|██▎       | 52/225 [00:35<02:00,  1.44it/s]"
     ]
    },
    {
     "name": "stdout",
     "output_type": "stream",
     "text": [
      "torch.Size([128, 2, 2])\n"
     ]
    },
    {
     "name": "stderr",
     "output_type": "stream",
     "text": [
      "\r",
      " 24%|██▎       | 53/225 [00:36<01:59,  1.44it/s]"
     ]
    },
    {
     "name": "stdout",
     "output_type": "stream",
     "text": [
      "torch.Size([128, 2, 2])\n"
     ]
    },
    {
     "name": "stderr",
     "output_type": "stream",
     "text": [
      "\r",
      " 24%|██▍       | 54/225 [00:37<01:58,  1.45it/s]"
     ]
    },
    {
     "name": "stdout",
     "output_type": "stream",
     "text": [
      "torch.Size([128, 2, 2])\n"
     ]
    },
    {
     "name": "stderr",
     "output_type": "stream",
     "text": [
      "\r",
      " 24%|██▍       | 55/225 [00:37<01:57,  1.45it/s]"
     ]
    },
    {
     "name": "stdout",
     "output_type": "stream",
     "text": [
      "torch.Size([128, 2, 2])\n"
     ]
    },
    {
     "name": "stderr",
     "output_type": "stream",
     "text": [
      "\r",
      " 25%|██▍       | 56/225 [00:38<01:57,  1.44it/s]"
     ]
    },
    {
     "name": "stdout",
     "output_type": "stream",
     "text": [
      "torch.Size([128, 2, 2])\n"
     ]
    },
    {
     "name": "stderr",
     "output_type": "stream",
     "text": [
      "\r",
      " 25%|██▌       | 57/225 [00:39<01:57,  1.44it/s]"
     ]
    },
    {
     "name": "stdout",
     "output_type": "stream",
     "text": [
      "torch.Size([128, 2, 2])\n"
     ]
    },
    {
     "name": "stderr",
     "output_type": "stream",
     "text": [
      "\r",
      " 26%|██▌       | 58/225 [00:40<01:56,  1.44it/s]"
     ]
    },
    {
     "name": "stdout",
     "output_type": "stream",
     "text": [
      "torch.Size([128, 2, 2])\n"
     ]
    },
    {
     "name": "stderr",
     "output_type": "stream",
     "text": [
      "\r",
      " 26%|██▌       | 59/225 [00:40<01:55,  1.44it/s]"
     ]
    },
    {
     "name": "stdout",
     "output_type": "stream",
     "text": [
      "torch.Size([128, 2, 2])\n"
     ]
    },
    {
     "name": "stderr",
     "output_type": "stream",
     "text": [
      "\r",
      " 27%|██▋       | 60/225 [00:41<01:54,  1.44it/s]"
     ]
    },
    {
     "name": "stdout",
     "output_type": "stream",
     "text": [
      "torch.Size([128, 2, 2])\n"
     ]
    },
    {
     "name": "stderr",
     "output_type": "stream",
     "text": [
      "\r",
      " 27%|██▋       | 61/225 [00:42<01:53,  1.44it/s]"
     ]
    },
    {
     "name": "stdout",
     "output_type": "stream",
     "text": [
      "torch.Size([128, 2, 2])\n"
     ]
    },
    {
     "name": "stderr",
     "output_type": "stream",
     "text": [
      "\r",
      " 28%|██▊       | 62/225 [00:42<01:55,  1.41it/s]"
     ]
    },
    {
     "name": "stdout",
     "output_type": "stream",
     "text": [
      "torch.Size([128, 2, 2])\n"
     ]
    },
    {
     "name": "stderr",
     "output_type": "stream",
     "text": [
      "\r",
      " 28%|██▊       | 63/225 [00:43<01:56,  1.39it/s]"
     ]
    },
    {
     "name": "stdout",
     "output_type": "stream",
     "text": [
      "torch.Size([128, 2, 2])\n"
     ]
    },
    {
     "name": "stderr",
     "output_type": "stream",
     "text": [
      "\r",
      " 28%|██▊       | 64/225 [00:44<01:57,  1.37it/s]"
     ]
    },
    {
     "name": "stdout",
     "output_type": "stream",
     "text": [
      "torch.Size([128, 2, 2])\n"
     ]
    },
    {
     "name": "stderr",
     "output_type": "stream",
     "text": [
      "\r",
      " 29%|██▉       | 65/225 [00:45<01:58,  1.36it/s]"
     ]
    },
    {
     "name": "stdout",
     "output_type": "stream",
     "text": [
      "torch.Size([128, 2, 2])\n"
     ]
    },
    {
     "name": "stderr",
     "output_type": "stream",
     "text": [
      "\r",
      " 29%|██▉       | 66/225 [00:45<01:58,  1.34it/s]"
     ]
    },
    {
     "name": "stdout",
     "output_type": "stream",
     "text": [
      "torch.Size([128, 2, 2])\n"
     ]
    },
    {
     "name": "stderr",
     "output_type": "stream",
     "text": [
      "\r",
      " 30%|██▉       | 67/225 [00:46<01:55,  1.37it/s]"
     ]
    },
    {
     "name": "stdout",
     "output_type": "stream",
     "text": [
      "torch.Size([128, 2, 2])\n"
     ]
    },
    {
     "name": "stderr",
     "output_type": "stream",
     "text": [
      "\r",
      " 30%|███       | 68/225 [00:47<01:52,  1.39it/s]"
     ]
    },
    {
     "name": "stdout",
     "output_type": "stream",
     "text": [
      "torch.Size([128, 2, 2])\n"
     ]
    },
    {
     "name": "stderr",
     "output_type": "stream",
     "text": [
      "\r",
      " 31%|███       | 69/225 [00:47<01:51,  1.40it/s]"
     ]
    },
    {
     "name": "stdout",
     "output_type": "stream",
     "text": [
      "torch.Size([128, 2, 2])\n"
     ]
    },
    {
     "name": "stderr",
     "output_type": "stream",
     "text": [
      "\r",
      " 31%|███       | 70/225 [00:48<01:49,  1.41it/s]"
     ]
    },
    {
     "name": "stdout",
     "output_type": "stream",
     "text": [
      "torch.Size([128, 2, 2])\n"
     ]
    },
    {
     "name": "stderr",
     "output_type": "stream",
     "text": [
      "\r",
      " 32%|███▏      | 71/225 [00:49<01:54,  1.35it/s]"
     ]
    },
    {
     "name": "stdout",
     "output_type": "stream",
     "text": [
      "torch.Size([128, 2, 2])\n"
     ]
    },
    {
     "name": "stderr",
     "output_type": "stream",
     "text": [
      "\r",
      " 32%|███▏      | 72/225 [00:50<01:56,  1.31it/s]"
     ]
    },
    {
     "name": "stdout",
     "output_type": "stream",
     "text": [
      "torch.Size([128, 2, 2])\n"
     ]
    },
    {
     "name": "stderr",
     "output_type": "stream",
     "text": [
      "\r",
      " 32%|███▏      | 73/225 [00:51<01:53,  1.34it/s]"
     ]
    },
    {
     "name": "stdout",
     "output_type": "stream",
     "text": [
      "torch.Size([128, 2, 2])\n"
     ]
    },
    {
     "name": "stderr",
     "output_type": "stream",
     "text": [
      "\r",
      " 33%|███▎      | 74/225 [00:51<01:51,  1.36it/s]"
     ]
    },
    {
     "name": "stdout",
     "output_type": "stream",
     "text": [
      "torch.Size([128, 2, 2])\n"
     ]
    },
    {
     "name": "stderr",
     "output_type": "stream",
     "text": [
      "\r",
      " 33%|███▎      | 75/225 [00:52<01:51,  1.35it/s]"
     ]
    },
    {
     "name": "stdout",
     "output_type": "stream",
     "text": [
      "torch.Size([128, 2, 2])\n"
     ]
    },
    {
     "name": "stderr",
     "output_type": "stream",
     "text": [
      "\r",
      " 34%|███▍      | 76/225 [00:53<01:50,  1.34it/s]"
     ]
    },
    {
     "name": "stdout",
     "output_type": "stream",
     "text": [
      "torch.Size([128, 2, 2])\n"
     ]
    },
    {
     "name": "stderr",
     "output_type": "stream",
     "text": [
      "\r",
      " 34%|███▍      | 77/225 [00:53<01:48,  1.36it/s]"
     ]
    },
    {
     "name": "stdout",
     "output_type": "stream",
     "text": [
      "torch.Size([128, 2, 2])\n"
     ]
    },
    {
     "name": "stderr",
     "output_type": "stream",
     "text": [
      "\r",
      " 35%|███▍      | 78/225 [00:54<01:46,  1.38it/s]"
     ]
    },
    {
     "name": "stdout",
     "output_type": "stream",
     "text": [
      "torch.Size([128, 2, 2])\n"
     ]
    },
    {
     "name": "stderr",
     "output_type": "stream",
     "text": [
      "\r",
      " 35%|███▌      | 79/225 [00:55<01:45,  1.38it/s]"
     ]
    },
    {
     "name": "stdout",
     "output_type": "stream",
     "text": [
      "torch.Size([128, 2, 2])\n"
     ]
    },
    {
     "name": "stderr",
     "output_type": "stream",
     "text": [
      "\r",
      " 36%|███▌      | 80/225 [00:56<01:43,  1.40it/s]"
     ]
    },
    {
     "name": "stdout",
     "output_type": "stream",
     "text": [
      "torch.Size([128, 2, 2])\n"
     ]
    },
    {
     "name": "stderr",
     "output_type": "stream",
     "text": [
      "\r",
      " 36%|███▌      | 81/225 [00:56<01:41,  1.42it/s]"
     ]
    },
    {
     "name": "stdout",
     "output_type": "stream",
     "text": [
      "torch.Size([128, 2, 2])\n"
     ]
    },
    {
     "name": "stderr",
     "output_type": "stream",
     "text": [
      "\r",
      " 36%|███▋      | 82/225 [00:57<01:45,  1.36it/s]"
     ]
    },
    {
     "name": "stdout",
     "output_type": "stream",
     "text": [
      "torch.Size([128, 2, 2])\n"
     ]
    },
    {
     "name": "stderr",
     "output_type": "stream",
     "text": [
      "\r",
      " 37%|███▋      | 83/225 [00:58<01:48,  1.31it/s]"
     ]
    },
    {
     "name": "stdout",
     "output_type": "stream",
     "text": [
      "torch.Size([128, 2, 2])\n"
     ]
    },
    {
     "name": "stderr",
     "output_type": "stream",
     "text": [
      "\r",
      " 37%|███▋      | 84/225 [00:59<01:48,  1.30it/s]"
     ]
    },
    {
     "name": "stdout",
     "output_type": "stream",
     "text": [
      "torch.Size([128, 2, 2])\n"
     ]
    },
    {
     "name": "stderr",
     "output_type": "stream",
     "text": [
      "\r",
      " 38%|███▊      | 85/225 [00:59<01:45,  1.32it/s]"
     ]
    },
    {
     "name": "stdout",
     "output_type": "stream",
     "text": [
      "torch.Size([128, 2, 2])\n"
     ]
    },
    {
     "name": "stderr",
     "output_type": "stream",
     "text": [
      "\r",
      " 38%|███▊      | 86/225 [01:00<01:43,  1.34it/s]"
     ]
    },
    {
     "name": "stdout",
     "output_type": "stream",
     "text": [
      "torch.Size([128, 2, 2])\n"
     ]
    },
    {
     "name": "stderr",
     "output_type": "stream",
     "text": [
      "\r",
      " 39%|███▊      | 87/225 [01:01<01:41,  1.37it/s]"
     ]
    },
    {
     "name": "stdout",
     "output_type": "stream",
     "text": [
      "torch.Size([128, 2, 2])\n"
     ]
    },
    {
     "name": "stderr",
     "output_type": "stream",
     "text": [
      "\r",
      " 39%|███▉      | 88/225 [01:01<01:38,  1.40it/s]"
     ]
    },
    {
     "name": "stdout",
     "output_type": "stream",
     "text": [
      "torch.Size([128, 2, 2])\n"
     ]
    },
    {
     "name": "stderr",
     "output_type": "stream",
     "text": [
      "\r",
      " 40%|███▉      | 89/225 [01:02<01:35,  1.42it/s]"
     ]
    },
    {
     "name": "stdout",
     "output_type": "stream",
     "text": [
      "torch.Size([128, 2, 2])\n"
     ]
    },
    {
     "name": "stderr",
     "output_type": "stream",
     "text": [
      "\r",
      " 40%|████      | 90/225 [01:03<01:34,  1.43it/s]"
     ]
    },
    {
     "name": "stdout",
     "output_type": "stream",
     "text": [
      "torch.Size([128, 2, 2])\n"
     ]
    },
    {
     "name": "stderr",
     "output_type": "stream",
     "text": [
      "\r",
      " 40%|████      | 91/225 [01:04<01:33,  1.43it/s]"
     ]
    },
    {
     "name": "stdout",
     "output_type": "stream",
     "text": [
      "torch.Size([128, 2, 2])\n"
     ]
    },
    {
     "name": "stderr",
     "output_type": "stream",
     "text": [
      "\r",
      " 41%|████      | 92/225 [01:04<01:33,  1.43it/s]"
     ]
    },
    {
     "name": "stdout",
     "output_type": "stream",
     "text": [
      "torch.Size([128, 2, 2])\n"
     ]
    },
    {
     "name": "stderr",
     "output_type": "stream",
     "text": [
      "\r",
      " 41%|████▏     | 93/225 [01:05<01:32,  1.43it/s]"
     ]
    },
    {
     "name": "stdout",
     "output_type": "stream",
     "text": [
      "torch.Size([128, 2, 2])\n"
     ]
    },
    {
     "name": "stderr",
     "output_type": "stream",
     "text": [
      "\r",
      " 42%|████▏     | 94/225 [01:06<01:31,  1.43it/s]"
     ]
    },
    {
     "name": "stdout",
     "output_type": "stream",
     "text": [
      "torch.Size([128, 2, 2])\n"
     ]
    },
    {
     "name": "stderr",
     "output_type": "stream",
     "text": [
      "\r",
      " 42%|████▏     | 95/225 [01:06<01:31,  1.43it/s]"
     ]
    },
    {
     "name": "stdout",
     "output_type": "stream",
     "text": [
      "torch.Size([128, 2, 2])\n"
     ]
    },
    {
     "name": "stderr",
     "output_type": "stream",
     "text": [
      "\r",
      " 43%|████▎     | 96/225 [01:07<01:30,  1.43it/s]"
     ]
    },
    {
     "name": "stdout",
     "output_type": "stream",
     "text": [
      "torch.Size([128, 2, 2])\n"
     ]
    },
    {
     "name": "stderr",
     "output_type": "stream",
     "text": [
      "\r",
      " 43%|████▎     | 97/225 [01:08<01:31,  1.40it/s]"
     ]
    },
    {
     "name": "stdout",
     "output_type": "stream",
     "text": [
      "torch.Size([128, 2, 2])\n"
     ]
    },
    {
     "name": "stderr",
     "output_type": "stream",
     "text": [
      "\r",
      " 44%|████▎     | 98/225 [01:08<01:29,  1.41it/s]"
     ]
    },
    {
     "name": "stdout",
     "output_type": "stream",
     "text": [
      "torch.Size([128, 2, 2])\n"
     ]
    },
    {
     "name": "stderr",
     "output_type": "stream",
     "text": [
      "\r",
      " 44%|████▍     | 99/225 [01:09<01:28,  1.42it/s]"
     ]
    },
    {
     "name": "stdout",
     "output_type": "stream",
     "text": [
      "torch.Size([128, 2, 2])\n"
     ]
    },
    {
     "name": "stderr",
     "output_type": "stream",
     "text": [
      "\r",
      " 44%|████▍     | 100/225 [01:10<01:28,  1.42it/s]"
     ]
    },
    {
     "name": "stdout",
     "output_type": "stream",
     "text": [
      "torch.Size([128, 2, 2])\n"
     ]
    },
    {
     "name": "stderr",
     "output_type": "stream",
     "text": [
      "\r",
      " 45%|████▍     | 101/225 [01:11<01:26,  1.43it/s]"
     ]
    },
    {
     "name": "stdout",
     "output_type": "stream",
     "text": [
      "torch.Size([128, 2, 2])\n"
     ]
    },
    {
     "name": "stderr",
     "output_type": "stream",
     "text": [
      "\r",
      " 45%|████▌     | 102/225 [01:11<01:25,  1.45it/s]"
     ]
    },
    {
     "name": "stdout",
     "output_type": "stream",
     "text": [
      "torch.Size([128, 2, 2])\n"
     ]
    },
    {
     "name": "stderr",
     "output_type": "stream",
     "text": [
      "\r",
      " 46%|████▌     | 103/225 [01:12<01:24,  1.44it/s]"
     ]
    },
    {
     "name": "stdout",
     "output_type": "stream",
     "text": [
      "torch.Size([128, 2, 2])\n"
     ]
    },
    {
     "name": "stderr",
     "output_type": "stream",
     "text": [
      "\r",
      " 46%|████▌     | 104/225 [01:13<01:23,  1.45it/s]"
     ]
    },
    {
     "name": "stdout",
     "output_type": "stream",
     "text": [
      "torch.Size([128, 2, 2])\n"
     ]
    },
    {
     "name": "stderr",
     "output_type": "stream",
     "text": [
      "\r",
      " 47%|████▋     | 105/225 [01:13<01:22,  1.45it/s]"
     ]
    },
    {
     "name": "stdout",
     "output_type": "stream",
     "text": [
      "torch.Size([128, 2, 2])\n"
     ]
    },
    {
     "name": "stderr",
     "output_type": "stream",
     "text": [
      "\r",
      " 47%|████▋     | 106/225 [01:14<01:22,  1.44it/s]"
     ]
    },
    {
     "name": "stdout",
     "output_type": "stream",
     "text": [
      "torch.Size([128, 2, 2])\n"
     ]
    },
    {
     "name": "stderr",
     "output_type": "stream",
     "text": [
      "\r",
      " 48%|████▊     | 107/225 [01:15<01:22,  1.43it/s]"
     ]
    },
    {
     "name": "stdout",
     "output_type": "stream",
     "text": [
      "torch.Size([128, 2, 2])\n"
     ]
    },
    {
     "name": "stderr",
     "output_type": "stream",
     "text": [
      "\r",
      " 48%|████▊     | 108/225 [01:15<01:22,  1.42it/s]"
     ]
    },
    {
     "name": "stdout",
     "output_type": "stream",
     "text": [
      "torch.Size([128, 2, 2])\n"
     ]
    },
    {
     "name": "stderr",
     "output_type": "stream",
     "text": [
      "\r",
      " 48%|████▊     | 109/225 [01:16<01:21,  1.43it/s]"
     ]
    },
    {
     "name": "stdout",
     "output_type": "stream",
     "text": [
      "torch.Size([128, 2, 2])\n"
     ]
    },
    {
     "name": "stderr",
     "output_type": "stream",
     "text": [
      "\r",
      " 49%|████▉     | 110/225 [01:17<01:20,  1.44it/s]"
     ]
    },
    {
     "name": "stdout",
     "output_type": "stream",
     "text": [
      "torch.Size([128, 2, 2])\n"
     ]
    },
    {
     "name": "stderr",
     "output_type": "stream",
     "text": [
      "\r",
      " 49%|████▉     | 111/225 [01:18<01:19,  1.44it/s]"
     ]
    },
    {
     "name": "stdout",
     "output_type": "stream",
     "text": [
      "torch.Size([128, 2, 2])\n"
     ]
    },
    {
     "name": "stderr",
     "output_type": "stream",
     "text": [
      "\r",
      " 50%|████▉     | 112/225 [01:18<01:17,  1.45it/s]"
     ]
    },
    {
     "name": "stdout",
     "output_type": "stream",
     "text": [
      "torch.Size([128, 2, 2])\n"
     ]
    },
    {
     "name": "stderr",
     "output_type": "stream",
     "text": [
      "\r",
      " 50%|█████     | 113/225 [01:19<01:17,  1.45it/s]"
     ]
    },
    {
     "name": "stdout",
     "output_type": "stream",
     "text": [
      "torch.Size([128, 2, 2])\n"
     ]
    },
    {
     "name": "stderr",
     "output_type": "stream",
     "text": [
      "\r",
      " 51%|█████     | 114/225 [01:20<01:16,  1.45it/s]"
     ]
    },
    {
     "name": "stdout",
     "output_type": "stream",
     "text": [
      "torch.Size([128, 2, 2])\n"
     ]
    },
    {
     "name": "stderr",
     "output_type": "stream",
     "text": [
      "\r",
      " 51%|█████     | 115/225 [01:20<01:16,  1.44it/s]"
     ]
    },
    {
     "name": "stdout",
     "output_type": "stream",
     "text": [
      "torch.Size([128, 2, 2])\n"
     ]
    },
    {
     "name": "stderr",
     "output_type": "stream",
     "text": [
      "\r",
      " 52%|█████▏    | 116/225 [01:21<01:16,  1.43it/s]"
     ]
    },
    {
     "name": "stdout",
     "output_type": "stream",
     "text": [
      "torch.Size([128, 2, 2])\n"
     ]
    },
    {
     "name": "stderr",
     "output_type": "stream",
     "text": [
      "\r",
      " 52%|█████▏    | 117/225 [01:22<01:16,  1.42it/s]"
     ]
    },
    {
     "name": "stdout",
     "output_type": "stream",
     "text": [
      "torch.Size([128, 2, 2])\n"
     ]
    },
    {
     "name": "stderr",
     "output_type": "stream",
     "text": [
      "\r",
      " 52%|█████▏    | 118/225 [01:22<01:16,  1.40it/s]"
     ]
    },
    {
     "name": "stdout",
     "output_type": "stream",
     "text": [
      "torch.Size([128, 2, 2])\n"
     ]
    },
    {
     "name": "stderr",
     "output_type": "stream",
     "text": [
      "\r",
      " 53%|█████▎    | 119/225 [01:23<01:16,  1.38it/s]"
     ]
    },
    {
     "name": "stdout",
     "output_type": "stream",
     "text": [
      "torch.Size([128, 2, 2])\n"
     ]
    },
    {
     "name": "stderr",
     "output_type": "stream",
     "text": [
      "\r",
      " 53%|█████▎    | 120/225 [01:24<01:15,  1.39it/s]"
     ]
    },
    {
     "name": "stdout",
     "output_type": "stream",
     "text": [
      "torch.Size([128, 2, 2])\n"
     ]
    },
    {
     "name": "stderr",
     "output_type": "stream",
     "text": [
      "\r",
      " 54%|█████▍    | 121/225 [01:25<01:13,  1.41it/s]"
     ]
    },
    {
     "name": "stdout",
     "output_type": "stream",
     "text": [
      "torch.Size([128, 2, 2])\n"
     ]
    },
    {
     "name": "stderr",
     "output_type": "stream",
     "text": [
      "\r",
      " 54%|█████▍    | 122/225 [01:25<01:12,  1.41it/s]"
     ]
    },
    {
     "name": "stdout",
     "output_type": "stream",
     "text": [
      "torch.Size([128, 2, 2])\n"
     ]
    },
    {
     "name": "stderr",
     "output_type": "stream",
     "text": [
      "\r",
      " 55%|█████▍    | 123/225 [01:26<01:11,  1.42it/s]"
     ]
    },
    {
     "name": "stdout",
     "output_type": "stream",
     "text": [
      "torch.Size([128, 2, 2])\n"
     ]
    },
    {
     "name": "stderr",
     "output_type": "stream",
     "text": [
      "\r",
      " 55%|█████▌    | 124/225 [01:27<01:10,  1.43it/s]"
     ]
    },
    {
     "name": "stdout",
     "output_type": "stream",
     "text": [
      "torch.Size([128, 2, 2])\n"
     ]
    },
    {
     "name": "stderr",
     "output_type": "stream",
     "text": [
      "\r",
      " 56%|█████▌    | 125/225 [01:27<01:09,  1.43it/s]"
     ]
    },
    {
     "name": "stdout",
     "output_type": "stream",
     "text": [
      "torch.Size([128, 2, 2])\n"
     ]
    },
    {
     "name": "stderr",
     "output_type": "stream",
     "text": [
      "\r",
      " 56%|█████▌    | 126/225 [01:28<01:09,  1.43it/s]"
     ]
    },
    {
     "name": "stdout",
     "output_type": "stream",
     "text": [
      "torch.Size([128, 2, 2])\n"
     ]
    },
    {
     "name": "stderr",
     "output_type": "stream",
     "text": [
      "\r",
      " 56%|█████▋    | 127/225 [01:29<01:08,  1.43it/s]"
     ]
    },
    {
     "name": "stdout",
     "output_type": "stream",
     "text": [
      "torch.Size([128, 2, 2])\n"
     ]
    },
    {
     "name": "stderr",
     "output_type": "stream",
     "text": [
      "\r",
      " 57%|█████▋    | 128/225 [01:29<01:07,  1.44it/s]"
     ]
    },
    {
     "name": "stdout",
     "output_type": "stream",
     "text": [
      "torch.Size([128, 2, 2])\n"
     ]
    },
    {
     "name": "stderr",
     "output_type": "stream",
     "text": [
      "\r",
      " 57%|█████▋    | 129/225 [01:30<01:06,  1.44it/s]"
     ]
    },
    {
     "name": "stdout",
     "output_type": "stream",
     "text": [
      "torch.Size([128, 2, 2])\n"
     ]
    },
    {
     "name": "stderr",
     "output_type": "stream",
     "text": [
      "\r",
      " 58%|█████▊    | 130/225 [01:31<01:06,  1.44it/s]"
     ]
    },
    {
     "name": "stdout",
     "output_type": "stream",
     "text": [
      "torch.Size([128, 2, 2])\n"
     ]
    },
    {
     "name": "stderr",
     "output_type": "stream",
     "text": [
      "\r",
      " 58%|█████▊    | 131/225 [01:32<01:05,  1.44it/s]"
     ]
    },
    {
     "name": "stdout",
     "output_type": "stream",
     "text": [
      "torch.Size([128, 2, 2])\n"
     ]
    },
    {
     "name": "stderr",
     "output_type": "stream",
     "text": [
      "\r",
      " 59%|█████▊    | 132/225 [01:32<01:04,  1.44it/s]"
     ]
    },
    {
     "name": "stdout",
     "output_type": "stream",
     "text": [
      "torch.Size([128, 2, 2])\n"
     ]
    },
    {
     "name": "stderr",
     "output_type": "stream",
     "text": [
      "\r",
      " 59%|█████▉    | 133/225 [01:33<01:03,  1.44it/s]"
     ]
    },
    {
     "name": "stdout",
     "output_type": "stream",
     "text": [
      "torch.Size([128, 2, 2])\n"
     ]
    },
    {
     "name": "stderr",
     "output_type": "stream",
     "text": [
      "\r",
      " 60%|█████▉    | 134/225 [01:34<01:03,  1.44it/s]"
     ]
    },
    {
     "name": "stdout",
     "output_type": "stream",
     "text": [
      "torch.Size([128, 2, 2])\n"
     ]
    },
    {
     "name": "stderr",
     "output_type": "stream",
     "text": [
      "\r",
      " 60%|██████    | 135/225 [01:34<01:02,  1.44it/s]"
     ]
    },
    {
     "name": "stdout",
     "output_type": "stream",
     "text": [
      "torch.Size([128, 2, 2])\n"
     ]
    },
    {
     "name": "stderr",
     "output_type": "stream",
     "text": [
      "\r",
      " 60%|██████    | 136/225 [01:35<01:02,  1.43it/s]"
     ]
    },
    {
     "name": "stdout",
     "output_type": "stream",
     "text": [
      "torch.Size([128, 2, 2])\n"
     ]
    },
    {
     "name": "stderr",
     "output_type": "stream",
     "text": [
      "\r",
      " 61%|██████    | 137/225 [01:36<01:01,  1.43it/s]"
     ]
    },
    {
     "name": "stdout",
     "output_type": "stream",
     "text": [
      "torch.Size([128, 2, 2])\n"
     ]
    },
    {
     "name": "stderr",
     "output_type": "stream",
     "text": [
      "\r",
      " 61%|██████▏   | 138/225 [01:36<01:00,  1.43it/s]"
     ]
    },
    {
     "name": "stdout",
     "output_type": "stream",
     "text": [
      "torch.Size([128, 2, 2])\n"
     ]
    },
    {
     "name": "stderr",
     "output_type": "stream",
     "text": [
      "\r",
      " 62%|██████▏   | 139/225 [01:37<01:00,  1.43it/s]"
     ]
    },
    {
     "name": "stdout",
     "output_type": "stream",
     "text": [
      "torch.Size([128, 2, 2])\n"
     ]
    },
    {
     "name": "stderr",
     "output_type": "stream",
     "text": [
      "\r",
      " 62%|██████▏   | 140/225 [01:38<00:59,  1.44it/s]"
     ]
    },
    {
     "name": "stdout",
     "output_type": "stream",
     "text": [
      "torch.Size([128, 2, 2])\n"
     ]
    },
    {
     "name": "stderr",
     "output_type": "stream",
     "text": [
      "\r",
      " 63%|██████▎   | 141/225 [01:39<00:58,  1.44it/s]"
     ]
    },
    {
     "name": "stdout",
     "output_type": "stream",
     "text": [
      "torch.Size([128, 2, 2])\n"
     ]
    },
    {
     "name": "stderr",
     "output_type": "stream",
     "text": [
      "\r",
      " 63%|██████▎   | 142/225 [01:39<00:58,  1.41it/s]"
     ]
    },
    {
     "name": "stdout",
     "output_type": "stream",
     "text": [
      "torch.Size([128, 2, 2])\n"
     ]
    },
    {
     "name": "stderr",
     "output_type": "stream",
     "text": [
      "\r",
      " 64%|██████▎   | 143/225 [01:40<00:57,  1.42it/s]"
     ]
    },
    {
     "name": "stdout",
     "output_type": "stream",
     "text": [
      "torch.Size([128, 2, 2])\n"
     ]
    },
    {
     "name": "stderr",
     "output_type": "stream",
     "text": [
      "\r",
      " 64%|██████▍   | 144/225 [01:41<00:57,  1.42it/s]"
     ]
    },
    {
     "name": "stdout",
     "output_type": "stream",
     "text": [
      "torch.Size([128, 2, 2])\n"
     ]
    },
    {
     "name": "stderr",
     "output_type": "stream",
     "text": [
      "\r",
      " 64%|██████▍   | 145/225 [01:41<00:56,  1.42it/s]"
     ]
    },
    {
     "name": "stdout",
     "output_type": "stream",
     "text": [
      "torch.Size([128, 2, 2])\n"
     ]
    },
    {
     "name": "stderr",
     "output_type": "stream",
     "text": [
      "\r",
      " 65%|██████▍   | 146/225 [01:42<00:55,  1.41it/s]"
     ]
    },
    {
     "name": "stdout",
     "output_type": "stream",
     "text": [
      "torch.Size([128, 2, 2])\n"
     ]
    },
    {
     "name": "stderr",
     "output_type": "stream",
     "text": [
      "\r",
      " 65%|██████▌   | 147/225 [01:43<00:55,  1.41it/s]"
     ]
    },
    {
     "name": "stdout",
     "output_type": "stream",
     "text": [
      "torch.Size([128, 2, 2])\n"
     ]
    },
    {
     "name": "stderr",
     "output_type": "stream",
     "text": [
      "\r",
      " 66%|██████▌   | 148/225 [01:43<00:54,  1.42it/s]"
     ]
    },
    {
     "name": "stdout",
     "output_type": "stream",
     "text": [
      "torch.Size([128, 2, 2])\n"
     ]
    },
    {
     "name": "stderr",
     "output_type": "stream",
     "text": [
      "\r",
      " 66%|██████▌   | 149/225 [01:44<00:53,  1.43it/s]"
     ]
    },
    {
     "name": "stdout",
     "output_type": "stream",
     "text": [
      "torch.Size([128, 2, 2])\n"
     ]
    },
    {
     "name": "stderr",
     "output_type": "stream",
     "text": [
      "\r",
      " 67%|██████▋   | 150/225 [01:45<00:52,  1.44it/s]"
     ]
    },
    {
     "name": "stdout",
     "output_type": "stream",
     "text": [
      "torch.Size([128, 2, 2])\n"
     ]
    },
    {
     "name": "stderr",
     "output_type": "stream",
     "text": [
      "\r",
      " 67%|██████▋   | 151/225 [01:46<00:51,  1.44it/s]"
     ]
    },
    {
     "name": "stdout",
     "output_type": "stream",
     "text": [
      "torch.Size([128, 2, 2])\n"
     ]
    },
    {
     "name": "stderr",
     "output_type": "stream",
     "text": [
      "\r",
      " 68%|██████▊   | 152/225 [01:46<00:50,  1.44it/s]"
     ]
    },
    {
     "name": "stdout",
     "output_type": "stream",
     "text": [
      "torch.Size([128, 2, 2])\n"
     ]
    },
    {
     "name": "stderr",
     "output_type": "stream",
     "text": [
      "\r",
      " 68%|██████▊   | 153/225 [01:47<00:50,  1.44it/s]"
     ]
    },
    {
     "name": "stdout",
     "output_type": "stream",
     "text": [
      "torch.Size([128, 2, 2])\n"
     ]
    },
    {
     "name": "stderr",
     "output_type": "stream",
     "text": [
      "\r",
      " 68%|██████▊   | 154/225 [01:48<00:49,  1.43it/s]"
     ]
    },
    {
     "name": "stdout",
     "output_type": "stream",
     "text": [
      "torch.Size([128, 2, 2])\n"
     ]
    },
    {
     "name": "stderr",
     "output_type": "stream",
     "text": [
      "\r",
      " 69%|██████▉   | 155/225 [01:48<00:49,  1.42it/s]"
     ]
    },
    {
     "name": "stdout",
     "output_type": "stream",
     "text": [
      "torch.Size([128, 2, 2])\n"
     ]
    },
    {
     "name": "stderr",
     "output_type": "stream",
     "text": [
      "\r",
      " 69%|██████▉   | 156/225 [01:49<00:48,  1.41it/s]"
     ]
    },
    {
     "name": "stdout",
     "output_type": "stream",
     "text": [
      "torch.Size([128, 2, 2])\n"
     ]
    },
    {
     "name": "stderr",
     "output_type": "stream",
     "text": [
      "\r",
      " 70%|██████▉   | 157/225 [01:50<00:48,  1.41it/s]"
     ]
    },
    {
     "name": "stdout",
     "output_type": "stream",
     "text": [
      "torch.Size([128, 2, 2])\n"
     ]
    },
    {
     "name": "stderr",
     "output_type": "stream",
     "text": [
      "\r",
      " 70%|███████   | 158/225 [01:50<00:47,  1.42it/s]"
     ]
    },
    {
     "name": "stdout",
     "output_type": "stream",
     "text": [
      "torch.Size([128, 2, 2])\n"
     ]
    },
    {
     "name": "stderr",
     "output_type": "stream",
     "text": [
      "\r",
      " 71%|███████   | 159/225 [01:51<00:46,  1.43it/s]"
     ]
    },
    {
     "name": "stdout",
     "output_type": "stream",
     "text": [
      "torch.Size([128, 2, 2])\n"
     ]
    },
    {
     "name": "stderr",
     "output_type": "stream",
     "text": [
      "\r",
      " 71%|███████   | 160/225 [01:52<00:45,  1.44it/s]"
     ]
    },
    {
     "name": "stdout",
     "output_type": "stream",
     "text": [
      "torch.Size([128, 2, 2])\n"
     ]
    },
    {
     "name": "stderr",
     "output_type": "stream",
     "text": [
      "\r",
      " 72%|███████▏  | 161/225 [01:53<00:44,  1.44it/s]"
     ]
    },
    {
     "name": "stdout",
     "output_type": "stream",
     "text": [
      "torch.Size([128, 2, 2])\n"
     ]
    },
    {
     "name": "stderr",
     "output_type": "stream",
     "text": [
      "\r",
      " 72%|███████▏  | 162/225 [01:53<00:44,  1.43it/s]"
     ]
    },
    {
     "name": "stdout",
     "output_type": "stream",
     "text": [
      "torch.Size([128, 2, 2])\n"
     ]
    },
    {
     "name": "stderr",
     "output_type": "stream",
     "text": [
      "\r",
      " 72%|███████▏  | 163/225 [01:54<00:43,  1.42it/s]"
     ]
    },
    {
     "name": "stdout",
     "output_type": "stream",
     "text": [
      "torch.Size([128, 2, 2])\n"
     ]
    },
    {
     "name": "stderr",
     "output_type": "stream",
     "text": [
      "\r",
      " 73%|███████▎  | 164/225 [01:55<00:43,  1.41it/s]"
     ]
    },
    {
     "name": "stdout",
     "output_type": "stream",
     "text": [
      "torch.Size([128, 2, 2])\n"
     ]
    },
    {
     "name": "stderr",
     "output_type": "stream",
     "text": [
      "\r",
      " 73%|███████▎  | 165/225 [01:55<00:42,  1.41it/s]"
     ]
    },
    {
     "name": "stdout",
     "output_type": "stream",
     "text": [
      "torch.Size([128, 2, 2])\n"
     ]
    },
    {
     "name": "stderr",
     "output_type": "stream",
     "text": [
      "\r",
      " 74%|███████▍  | 166/225 [01:56<00:41,  1.41it/s]"
     ]
    },
    {
     "name": "stdout",
     "output_type": "stream",
     "text": [
      "torch.Size([128, 2, 2])\n"
     ]
    },
    {
     "name": "stderr",
     "output_type": "stream",
     "text": [
      "\r",
      " 74%|███████▍  | 167/225 [01:57<00:40,  1.42it/s]"
     ]
    },
    {
     "name": "stdout",
     "output_type": "stream",
     "text": [
      "torch.Size([128, 2, 2])\n"
     ]
    },
    {
     "name": "stderr",
     "output_type": "stream",
     "text": [
      "\r",
      " 75%|███████▍  | 168/225 [01:57<00:39,  1.43it/s]"
     ]
    },
    {
     "name": "stdout",
     "output_type": "stream",
     "text": [
      "torch.Size([128, 2, 2])\n"
     ]
    },
    {
     "name": "stderr",
     "output_type": "stream",
     "text": [
      "\r",
      " 75%|███████▌  | 169/225 [01:58<00:38,  1.44it/s]"
     ]
    },
    {
     "name": "stdout",
     "output_type": "stream",
     "text": [
      "torch.Size([128, 2, 2])\n"
     ]
    },
    {
     "name": "stderr",
     "output_type": "stream",
     "text": [
      "\r",
      " 76%|███████▌  | 170/225 [01:59<00:37,  1.45it/s]"
     ]
    },
    {
     "name": "stdout",
     "output_type": "stream",
     "text": [
      "torch.Size([128, 2, 2])\n"
     ]
    },
    {
     "name": "stderr",
     "output_type": "stream",
     "text": [
      "\r",
      " 76%|███████▌  | 171/225 [02:00<00:37,  1.42it/s]"
     ]
    },
    {
     "name": "stdout",
     "output_type": "stream",
     "text": [
      "torch.Size([128, 2, 2])\n"
     ]
    },
    {
     "name": "stderr",
     "output_type": "stream",
     "text": [
      "\r",
      " 76%|███████▋  | 172/225 [02:00<00:38,  1.36it/s]"
     ]
    },
    {
     "name": "stdout",
     "output_type": "stream",
     "text": [
      "torch.Size([128, 2, 2])\n"
     ]
    },
    {
     "name": "stderr",
     "output_type": "stream",
     "text": [
      "\r",
      " 77%|███████▋  | 173/225 [02:01<00:38,  1.34it/s]"
     ]
    },
    {
     "name": "stdout",
     "output_type": "stream",
     "text": [
      "torch.Size([128, 2, 2])\n"
     ]
    },
    {
     "name": "stderr",
     "output_type": "stream",
     "text": [
      "\r",
      " 77%|███████▋  | 174/225 [02:02<00:37,  1.35it/s]"
     ]
    },
    {
     "name": "stdout",
     "output_type": "stream",
     "text": [
      "torch.Size([128, 2, 2])\n"
     ]
    },
    {
     "name": "stderr",
     "output_type": "stream",
     "text": [
      "\r",
      " 78%|███████▊  | 175/225 [02:03<00:37,  1.34it/s]"
     ]
    },
    {
     "name": "stdout",
     "output_type": "stream",
     "text": [
      "torch.Size([128, 2, 2])\n"
     ]
    },
    {
     "name": "stderr",
     "output_type": "stream",
     "text": [
      "\r",
      " 78%|███████▊  | 176/225 [02:03<00:36,  1.35it/s]"
     ]
    },
    {
     "name": "stdout",
     "output_type": "stream",
     "text": [
      "torch.Size([128, 2, 2])\n"
     ]
    },
    {
     "name": "stderr",
     "output_type": "stream",
     "text": [
      "\r",
      " 79%|███████▊  | 177/225 [02:04<00:35,  1.36it/s]"
     ]
    },
    {
     "name": "stdout",
     "output_type": "stream",
     "text": [
      "torch.Size([128, 2, 2])\n"
     ]
    },
    {
     "name": "stderr",
     "output_type": "stream",
     "text": [
      "\r",
      " 79%|███████▉  | 178/225 [02:05<00:34,  1.38it/s]"
     ]
    },
    {
     "name": "stdout",
     "output_type": "stream",
     "text": [
      "torch.Size([128, 2, 2])\n"
     ]
    },
    {
     "name": "stderr",
     "output_type": "stream",
     "text": [
      "\r",
      " 80%|███████▉  | 179/225 [02:06<00:33,  1.39it/s]"
     ]
    },
    {
     "name": "stdout",
     "output_type": "stream",
     "text": [
      "torch.Size([128, 2, 2])\n"
     ]
    },
    {
     "name": "stderr",
     "output_type": "stream",
     "text": [
      "\r",
      " 80%|████████  | 180/225 [02:06<00:31,  1.41it/s]"
     ]
    },
    {
     "name": "stdout",
     "output_type": "stream",
     "text": [
      "torch.Size([128, 2, 2])\n"
     ]
    },
    {
     "name": "stderr",
     "output_type": "stream",
     "text": [
      "\r",
      " 80%|████████  | 181/225 [02:07<00:31,  1.40it/s]"
     ]
    },
    {
     "name": "stdout",
     "output_type": "stream",
     "text": [
      "torch.Size([128, 2, 2])\n"
     ]
    },
    {
     "name": "stderr",
     "output_type": "stream",
     "text": [
      "\r",
      " 81%|████████  | 182/225 [02:08<00:30,  1.40it/s]"
     ]
    },
    {
     "name": "stdout",
     "output_type": "stream",
     "text": [
      "torch.Size([128, 2, 2])\n"
     ]
    },
    {
     "name": "stderr",
     "output_type": "stream",
     "text": [
      "\r",
      " 81%|████████▏ | 183/225 [02:08<00:29,  1.43it/s]"
     ]
    },
    {
     "name": "stdout",
     "output_type": "stream",
     "text": [
      "torch.Size([128, 2, 2])\n"
     ]
    },
    {
     "name": "stderr",
     "output_type": "stream",
     "text": [
      "\r",
      " 82%|████████▏ | 184/225 [02:09<00:28,  1.43it/s]"
     ]
    },
    {
     "name": "stdout",
     "output_type": "stream",
     "text": [
      "torch.Size([128, 2, 2])\n"
     ]
    },
    {
     "name": "stderr",
     "output_type": "stream",
     "text": [
      "\r",
      " 82%|████████▏ | 185/225 [02:10<00:28,  1.43it/s]"
     ]
    },
    {
     "name": "stdout",
     "output_type": "stream",
     "text": [
      "torch.Size([128, 2, 2])\n"
     ]
    },
    {
     "name": "stderr",
     "output_type": "stream",
     "text": [
      "\r",
      " 83%|████████▎ | 186/225 [02:10<00:27,  1.43it/s]"
     ]
    },
    {
     "name": "stdout",
     "output_type": "stream",
     "text": [
      "torch.Size([128, 2, 2])\n"
     ]
    },
    {
     "name": "stderr",
     "output_type": "stream",
     "text": [
      "\r",
      " 83%|████████▎ | 187/225 [02:11<00:26,  1.43it/s]"
     ]
    },
    {
     "name": "stdout",
     "output_type": "stream",
     "text": [
      "torch.Size([128, 2, 2])\n"
     ]
    },
    {
     "name": "stderr",
     "output_type": "stream",
     "text": [
      "\r",
      " 84%|████████▎ | 188/225 [02:12<00:25,  1.42it/s]"
     ]
    },
    {
     "name": "stdout",
     "output_type": "stream",
     "text": [
      "torch.Size([128, 2, 2])\n"
     ]
    },
    {
     "name": "stderr",
     "output_type": "stream",
     "text": [
      "\r",
      " 84%|████████▍ | 189/225 [02:12<00:25,  1.44it/s]"
     ]
    },
    {
     "name": "stdout",
     "output_type": "stream",
     "text": [
      "torch.Size([128, 2, 2])\n"
     ]
    },
    {
     "name": "stderr",
     "output_type": "stream",
     "text": [
      "\r",
      " 84%|████████▍ | 190/225 [02:13<00:24,  1.44it/s]"
     ]
    },
    {
     "name": "stdout",
     "output_type": "stream",
     "text": [
      "torch.Size([128, 2, 2])\n"
     ]
    },
    {
     "name": "stderr",
     "output_type": "stream",
     "text": [
      "\r",
      " 85%|████████▍ | 191/225 [02:14<00:23,  1.45it/s]"
     ]
    },
    {
     "name": "stdout",
     "output_type": "stream",
     "text": [
      "torch.Size([128, 2, 2])\n"
     ]
    },
    {
     "name": "stderr",
     "output_type": "stream",
     "text": [
      "\r",
      " 85%|████████▌ | 192/225 [02:15<00:22,  1.45it/s]"
     ]
    },
    {
     "name": "stdout",
     "output_type": "stream",
     "text": [
      "torch.Size([128, 2, 2])\n"
     ]
    },
    {
     "name": "stderr",
     "output_type": "stream",
     "text": [
      "\r",
      " 86%|████████▌ | 193/225 [02:15<00:21,  1.46it/s]"
     ]
    },
    {
     "name": "stdout",
     "output_type": "stream",
     "text": [
      "torch.Size([128, 2, 2])\n"
     ]
    },
    {
     "name": "stderr",
     "output_type": "stream",
     "text": [
      "\r",
      " 86%|████████▌ | 194/225 [02:16<00:22,  1.37it/s]"
     ]
    },
    {
     "name": "stdout",
     "output_type": "stream",
     "text": [
      "torch.Size([128, 2, 2])\n"
     ]
    },
    {
     "name": "stderr",
     "output_type": "stream",
     "text": [
      "\r",
      " 87%|████████▋ | 195/225 [02:17<00:21,  1.37it/s]"
     ]
    },
    {
     "name": "stdout",
     "output_type": "stream",
     "text": [
      "torch.Size([128, 2, 2])\n"
     ]
    },
    {
     "name": "stderr",
     "output_type": "stream",
     "text": [
      "\r",
      " 87%|████████▋ | 196/225 [02:18<00:20,  1.38it/s]"
     ]
    },
    {
     "name": "stdout",
     "output_type": "stream",
     "text": [
      "torch.Size([128, 2, 2])\n"
     ]
    },
    {
     "name": "stderr",
     "output_type": "stream",
     "text": [
      "\r",
      " 88%|████████▊ | 197/225 [02:18<00:20,  1.36it/s]"
     ]
    },
    {
     "name": "stdout",
     "output_type": "stream",
     "text": [
      "torch.Size([128, 2, 2])\n"
     ]
    },
    {
     "name": "stderr",
     "output_type": "stream",
     "text": [
      "\r",
      " 88%|████████▊ | 198/225 [02:19<00:19,  1.35it/s]"
     ]
    },
    {
     "name": "stdout",
     "output_type": "stream",
     "text": [
      "torch.Size([128, 2, 2])\n"
     ]
    },
    {
     "name": "stderr",
     "output_type": "stream",
     "text": [
      "\r",
      " 88%|████████▊ | 199/225 [02:20<00:19,  1.36it/s]"
     ]
    },
    {
     "name": "stdout",
     "output_type": "stream",
     "text": [
      "torch.Size([128, 2, 2])\n"
     ]
    },
    {
     "name": "stderr",
     "output_type": "stream",
     "text": [
      "\r",
      " 89%|████████▉ | 200/225 [02:20<00:18,  1.36it/s]"
     ]
    },
    {
     "name": "stdout",
     "output_type": "stream",
     "text": [
      "torch.Size([128, 2, 2])\n"
     ]
    },
    {
     "name": "stderr",
     "output_type": "stream",
     "text": [
      "\r",
      " 89%|████████▉ | 201/225 [02:21<00:17,  1.38it/s]"
     ]
    },
    {
     "name": "stdout",
     "output_type": "stream",
     "text": [
      "torch.Size([128, 2, 2])\n"
     ]
    },
    {
     "name": "stderr",
     "output_type": "stream",
     "text": [
      "\r",
      " 90%|████████▉ | 202/225 [02:22<00:16,  1.40it/s]"
     ]
    },
    {
     "name": "stdout",
     "output_type": "stream",
     "text": [
      "torch.Size([128, 2, 2])\n"
     ]
    },
    {
     "name": "stderr",
     "output_type": "stream",
     "text": [
      "\r",
      " 90%|█████████ | 203/225 [02:23<00:15,  1.41it/s]"
     ]
    },
    {
     "name": "stdout",
     "output_type": "stream",
     "text": [
      "torch.Size([128, 2, 2])\n"
     ]
    },
    {
     "name": "stderr",
     "output_type": "stream",
     "text": [
      "\r",
      " 91%|█████████ | 204/225 [02:23<00:14,  1.42it/s]"
     ]
    },
    {
     "name": "stdout",
     "output_type": "stream",
     "text": [
      "torch.Size([128, 2, 2])\n"
     ]
    },
    {
     "name": "stderr",
     "output_type": "stream",
     "text": [
      "\r",
      " 91%|█████████ | 205/225 [02:24<00:13,  1.43it/s]"
     ]
    },
    {
     "name": "stdout",
     "output_type": "stream",
     "text": [
      "torch.Size([128, 2, 2])\n"
     ]
    },
    {
     "name": "stderr",
     "output_type": "stream",
     "text": [
      "\r",
      " 92%|█████████▏| 206/225 [02:25<00:13,  1.44it/s]"
     ]
    },
    {
     "name": "stdout",
     "output_type": "stream",
     "text": [
      "torch.Size([128, 2, 2])\n"
     ]
    },
    {
     "name": "stderr",
     "output_type": "stream",
     "text": [
      "\r",
      " 92%|█████████▏| 207/225 [02:25<00:12,  1.45it/s]"
     ]
    },
    {
     "name": "stdout",
     "output_type": "stream",
     "text": [
      "torch.Size([128, 2, 2])\n"
     ]
    },
    {
     "name": "stderr",
     "output_type": "stream",
     "text": [
      "\r",
      " 92%|█████████▏| 208/225 [02:26<00:11,  1.45it/s]"
     ]
    },
    {
     "name": "stdout",
     "output_type": "stream",
     "text": [
      "torch.Size([128, 2, 2])\n"
     ]
    },
    {
     "name": "stderr",
     "output_type": "stream",
     "text": [
      "\r",
      " 93%|█████████▎| 209/225 [02:27<00:11,  1.45it/s]"
     ]
    },
    {
     "name": "stdout",
     "output_type": "stream",
     "text": [
      "torch.Size([128, 2, 2])\n"
     ]
    },
    {
     "name": "stderr",
     "output_type": "stream",
     "text": [
      "\r",
      " 93%|█████████▎| 210/225 [02:27<00:10,  1.45it/s]"
     ]
    },
    {
     "name": "stdout",
     "output_type": "stream",
     "text": [
      "torch.Size([128, 2, 2])\n"
     ]
    },
    {
     "name": "stderr",
     "output_type": "stream",
     "text": [
      "\r",
      " 94%|█████████▍| 211/225 [02:28<00:09,  1.45it/s]"
     ]
    },
    {
     "name": "stdout",
     "output_type": "stream",
     "text": [
      "torch.Size([128, 2, 2])\n"
     ]
    },
    {
     "name": "stderr",
     "output_type": "stream",
     "text": [
      "\r",
      " 94%|█████████▍| 212/225 [02:29<00:08,  1.45it/s]"
     ]
    },
    {
     "name": "stdout",
     "output_type": "stream",
     "text": [
      "torch.Size([128, 2, 2])\n"
     ]
    },
    {
     "name": "stderr",
     "output_type": "stream",
     "text": [
      "\r",
      " 95%|█████████▍| 213/225 [02:29<00:08,  1.45it/s]"
     ]
    },
    {
     "name": "stdout",
     "output_type": "stream",
     "text": [
      "torch.Size([128, 2, 2])\n"
     ]
    },
    {
     "name": "stderr",
     "output_type": "stream",
     "text": [
      "\r",
      " 95%|█████████▌| 214/225 [02:30<00:07,  1.44it/s]"
     ]
    },
    {
     "name": "stdout",
     "output_type": "stream",
     "text": [
      "torch.Size([128, 2, 2])\n"
     ]
    },
    {
     "name": "stderr",
     "output_type": "stream",
     "text": [
      "\r",
      " 96%|█████████▌| 215/225 [02:31<00:06,  1.44it/s]"
     ]
    },
    {
     "name": "stdout",
     "output_type": "stream",
     "text": [
      "torch.Size([128, 2, 2])\n"
     ]
    },
    {
     "name": "stderr",
     "output_type": "stream",
     "text": [
      "\r",
      " 96%|█████████▌| 216/225 [02:32<00:06,  1.44it/s]"
     ]
    },
    {
     "name": "stdout",
     "output_type": "stream",
     "text": [
      "torch.Size([128, 2, 2])\n"
     ]
    },
    {
     "name": "stderr",
     "output_type": "stream",
     "text": [
      "\r",
      " 96%|█████████▋| 217/225 [02:32<00:05,  1.45it/s]"
     ]
    },
    {
     "name": "stdout",
     "output_type": "stream",
     "text": [
      "torch.Size([128, 2, 2])\n"
     ]
    },
    {
     "name": "stderr",
     "output_type": "stream",
     "text": [
      "\r",
      " 97%|█████████▋| 218/225 [02:33<00:04,  1.41it/s]"
     ]
    },
    {
     "name": "stdout",
     "output_type": "stream",
     "text": [
      "torch.Size([128, 2, 2])\n"
     ]
    },
    {
     "name": "stderr",
     "output_type": "stream",
     "text": [
      "\r",
      " 97%|█████████▋| 219/225 [02:34<00:04,  1.36it/s]"
     ]
    },
    {
     "name": "stdout",
     "output_type": "stream",
     "text": [
      "torch.Size([128, 2, 2])\n"
     ]
    },
    {
     "name": "stderr",
     "output_type": "stream",
     "text": [
      "\r",
      " 98%|█████████▊| 220/225 [02:35<00:03,  1.33it/s]"
     ]
    },
    {
     "name": "stdout",
     "output_type": "stream",
     "text": [
      "torch.Size([128, 2, 2])\n"
     ]
    },
    {
     "name": "stderr",
     "output_type": "stream",
     "text": [
      "\r",
      " 98%|█████████▊| 221/225 [02:35<00:03,  1.33it/s]"
     ]
    },
    {
     "name": "stdout",
     "output_type": "stream",
     "text": [
      "torch.Size([128, 2, 2])\n"
     ]
    },
    {
     "name": "stderr",
     "output_type": "stream",
     "text": [
      "\r",
      " 99%|█████████▊| 222/225 [02:36<00:02,  1.34it/s]"
     ]
    },
    {
     "name": "stdout",
     "output_type": "stream",
     "text": [
      "torch.Size([128, 2, 2])\n"
     ]
    },
    {
     "name": "stderr",
     "output_type": "stream",
     "text": [
      "\r",
      " 99%|█████████▉| 223/225 [02:37<00:01,  1.31it/s]"
     ]
    },
    {
     "name": "stdout",
     "output_type": "stream",
     "text": [
      "torch.Size([128, 2, 2])\n"
     ]
    },
    {
     "name": "stderr",
     "output_type": "stream",
     "text": [
      "\r",
      "100%|█████████▉| 224/225 [02:38<00:00,  1.19it/s]"
     ]
    },
    {
     "name": "stdout",
     "output_type": "stream",
     "text": [
      "torch.Size([128, 2, 2])\n"
     ]
    },
    {
     "name": "stderr",
     "output_type": "stream",
     "text": [
      "100%|██████████| 225/225 [02:38<00:00,  1.42it/s]\n"
     ]
    }
   ],
   "source": [
    "BATCH_SIZE = 100\n",
    "EPOCHS = 1\n",
    "\n",
    "for epoch in range(EPOCHS):\n",
    "    for i in tqdm(range(0, len(train_X), BATCH_SIZE)):\n",
    "        batch_X = train_X[i:i+BATCH_SIZE].view(-1, 1, 50, 50)\n",
    "        batch_y = train_y[i:i+BATCH_SIZE]\n",
    "        net.zero_grad()\n",
    "        outputs = net(batch_X)\n",
    "        loss = loss_function(outputs, batch_y)\n",
    "        loss.backward()\n",
    "        optimizer.step()\n",
    "print(loss)"
   ]
  },
  {
   "cell_type": "code",
   "execution_count": 37,
   "metadata": {},
   "outputs": [
    {
     "name": "stderr",
     "output_type": "stream",
     "text": [
      "  2%|▏         | 43/2494 [00:00<00:15, 155.34it/s]"
     ]
    },
    {
     "name": "stdout",
     "output_type": "stream",
     "text": [
      "torch.Size([128, 2, 2])\n",
      "tensor(0) tensor([0.5313, 0.4687], dtype=torch.float64)\n",
      "torch.Size([128, 2, 2])\n",
      "tensor(1) tensor([0.5549, 0.4451], dtype=torch.float64)\n",
      "torch.Size([128, 2, 2])\n",
      "tensor(1) tensor([0.6367, 0.3633], dtype=torch.float64)\n",
      "torch.Size([128, 2, 2])\n",
      "tensor(0) tensor([0.7407, 0.2593], dtype=torch.float64)\n",
      "torch.Size([128, 2, 2])\n",
      "tensor(1) tensor([0.4685, 0.5315], dtype=torch.float64)\n",
      "torch.Size([128, 2, 2])\n",
      "tensor(0) tensor([0.7444, 0.2556], dtype=torch.float64)\n",
      "torch.Size([128, 2, 2])\n",
      "tensor(0) tensor([0.7938, 0.2062], dtype=torch.float64)\n",
      "torch.Size([128, 2, 2])\n",
      "tensor(1) tensor([0.6203, 0.3797], dtype=torch.float64)\n",
      "torch.Size([128, 2, 2])\n",
      "tensor(1) tensor([0.4070, 0.5930], dtype=torch.float64)\n",
      "torch.Size([128, 2, 2])\n",
      "tensor(1) tensor([0.4791, 0.5209], dtype=torch.float64)\n",
      "torch.Size([128, 2, 2])\n",
      "tensor(0) tensor([0.6327, 0.3673], dtype=torch.float64)\n",
      "torch.Size([128, 2, 2])\n",
      "tensor(1) tensor([0.5044, 0.4956], dtype=torch.float64)\n",
      "torch.Size([128, 2, 2])\n",
      "tensor(1) tensor([0.4432, 0.5568], dtype=torch.float64)\n",
      "torch.Size([128, 2, 2])\n",
      "tensor(1) tensor([0.5826, 0.4174], dtype=torch.float64)\n",
      "torch.Size([128, 2, 2])\n",
      "tensor(1) tensor([0.7519, 0.2481], dtype=torch.float64)\n",
      "torch.Size([128, 2, 2])\n",
      "tensor(0) tensor([0.1991, 0.8009], dtype=torch.float64)\n",
      "torch.Size([128, 2, 2])\n",
      "tensor(0) tensor([0.7527, 0.2473], dtype=torch.float64)\n",
      "torch.Size([128, 2, 2])\n",
      "tensor(1) tensor([0.8053, 0.1947], dtype=torch.float64)\n",
      "torch.Size([128, 2, 2])\n",
      "tensor(0) tensor([0.5094, 0.4906], dtype=torch.float64)\n",
      "torch.Size([128, 2, 2])\n",
      "tensor(0) tensor([0.7092, 0.2908], dtype=torch.float64)\n",
      "torch.Size([128, 2, 2])\n",
      "tensor(1) tensor([0.6028, 0.3972], dtype=torch.float64)\n",
      "torch.Size([128, 2, 2])\n",
      "tensor(1) tensor([0.5282, 0.4718], dtype=torch.float64)\n",
      "torch.Size([128, 2, 2])\n",
      "tensor(0) tensor([0.7972, 0.2028], dtype=torch.float64)\n",
      "torch.Size([128, 2, 2])\n",
      "tensor(0) tensor([0.3961, 0.6039], dtype=torch.float64)\n",
      "torch.Size([128, 2, 2])\n",
      "tensor(0) tensor([0.5614, 0.4386], dtype=torch.float64)\n",
      "torch.Size([128, 2, 2])\n",
      "tensor(0) tensor([0.6680, 0.3320], dtype=torch.float64)\n",
      "torch.Size([128, 2, 2])\n",
      "tensor(0) tensor([0.5775, 0.4225], dtype=torch.float64)\n",
      "torch.Size([128, 2, 2])\n",
      "tensor(1) tensor([0.3554, 0.6446], dtype=torch.float64)\n",
      "torch.Size([128, 2, 2])\n",
      "tensor(1) tensor([0.8009, 0.1991], dtype=torch.float64)\n",
      "torch.Size([128, 2, 2])\n",
      "tensor(1) tensor([0.5022, 0.4978], dtype=torch.float64)\n",
      "torch.Size([128, 2, 2])\n",
      "tensor(1) tensor([0.7290, 0.2710], dtype=torch.float64)\n",
      "torch.Size([128, 2, 2])\n",
      "tensor(0) tensor([0.5954, 0.4046], dtype=torch.float64)\n",
      "torch.Size([128, 2, 2])\n",
      "tensor(1) tensor([0.6931, 0.3069], dtype=torch.float64)\n",
      "torch.Size([128, 2, 2])\n",
      "tensor(0) tensor([0.5377, 0.4623], dtype=torch.float64)\n",
      "torch.Size([128, 2, 2])\n",
      "tensor(1) tensor([0.5785, 0.4215], dtype=torch.float64)\n",
      "torch.Size([128, 2, 2])\n",
      "tensor(0) tensor([0.4584, 0.5416], dtype=torch.float64)\n",
      "torch.Size([128, 2, 2])\n",
      "tensor(0) tensor([0.4209, 0.5791], dtype=torch.float64)\n",
      "torch.Size([128, 2, 2])\n",
      "tensor(0) tensor([0.6309, 0.3691], dtype=torch.float64)\n",
      "torch.Size([128, 2, 2])\n",
      "tensor(1) tensor([0.5535, 0.4465], dtype=torch.float64)\n",
      "torch.Size([128, 2, 2])\n",
      "tensor(0) tensor([0.7514, 0.2486], dtype=torch.float64)\n",
      "torch.Size([128, 2, 2])\n",
      "tensor(1) tensor([0.6428, 0.3572], dtype=torch.float64)\n",
      "torch.Size([128, 2, 2])\n",
      "tensor(1) tensor([0.5471, 0.4529], dtype=torch.float64)\n",
      "torch.Size([128, 2, 2])\n",
      "tensor(1) tensor([0.6917, 0.3083], dtype=torch.float64)\n",
      "torch.Size([128, 2, 2])\n",
      "tensor(1) tensor([0.5999, 0.4001], dtype=torch.float64)\n",
      "torch.Size([128, 2, 2])\n",
      "tensor(0) tensor([0.5635, 0.4365], dtype=torch.float64)\n",
      "torch.Size([128, 2, 2])\n",
      "tensor(0) tensor([0.7117, 0.2883], dtype=torch.float64)\n",
      "torch.Size([128, 2, 2])\n",
      "tensor(1) tensor([0.4577, 0.5423], dtype=torch.float64)\n",
      "torch.Size([128, 2, 2])\n",
      "tensor(0) tensor([0.7546, 0.2454], dtype=torch.float64)\n",
      "torch.Size([128, 2, 2])\n",
      "tensor(0) tensor([0.8897, 0.1103], dtype=torch.float64)\n",
      "torch.Size([128, 2, 2])\n",
      "tensor(1) tensor([0.7367, 0.2633], dtype=torch.float64)\n",
      "torch.Size([128, 2, 2])\n",
      "tensor(0) tensor([0.6822, 0.3178], dtype=torch.float64)\n",
      "torch.Size([128, 2, 2])\n",
      "tensor(1) tensor([0.7086, 0.2914], dtype=torch.float64)\n",
      "torch.Size([128, 2, 2])\n",
      "tensor(0) tensor([0.6550, 0.3450], dtype=torch.float64)\n",
      "torch.Size([128, 2, 2])\n",
      "tensor(0) tensor([0.6086, 0.3914], dtype=torch.float64)\n"
     ]
    },
    {
     "name": "stderr",
     "output_type": "stream",
     "text": [
      "  4%|▍         | 105/2494 [00:00<00:11, 207.77it/s]"
     ]
    },
    {
     "name": "stdout",
     "output_type": "stream",
     "text": [
      "torch.Size([128, 2, 2])\n",
      "tensor(0) tensor([0.6182, 0.3818], dtype=torch.float64)\n",
      "torch.Size([128, 2, 2])\n",
      "tensor(0) tensor([0.6508, 0.3492], dtype=torch.float64)\n",
      "torch.Size([128, 2, 2])\n",
      "tensor(1) tensor([0.6515, 0.3485], dtype=torch.float64)\n",
      "torch.Size([128, 2, 2])\n",
      "tensor(1) tensor([0.7022, 0.2978], dtype=torch.float64)\n",
      "torch.Size([128, 2, 2])\n",
      "tensor(0) tensor([0.6539, 0.3461], dtype=torch.float64)\n",
      "torch.Size([128, 2, 2])\n",
      "tensor(0) tensor([0.5805, 0.4195], dtype=torch.float64)\n",
      "torch.Size([128, 2, 2])\n",
      "tensor(1) tensor([0.4786, 0.5214], dtype=torch.float64)\n",
      "torch.Size([128, 2, 2])\n",
      "tensor(0) tensor([0.6598, 0.3402], dtype=torch.float64)\n",
      "torch.Size([128, 2, 2])\n",
      "tensor(1) tensor([0.5308, 0.4692], dtype=torch.float64)\n",
      "torch.Size([128, 2, 2])\n",
      "tensor(0) tensor([0.6222, 0.3778], dtype=torch.float64)\n",
      "torch.Size([128, 2, 2])\n",
      "tensor(0) tensor([0.8378, 0.1622], dtype=torch.float64)\n",
      "torch.Size([128, 2, 2])\n",
      "tensor(1) tensor([0.6523, 0.3477], dtype=torch.float64)\n",
      "torch.Size([128, 2, 2])\n",
      "tensor(1) tensor([0.7618, 0.2382], dtype=torch.float64)\n",
      "torch.Size([128, 2, 2])\n",
      "tensor(0) tensor([0.5412, 0.4588], dtype=torch.float64)\n",
      "torch.Size([128, 2, 2])\n",
      "tensor(1) tensor([0.5711, 0.4289], dtype=torch.float64)\n",
      "torch.Size([128, 2, 2])\n",
      "tensor(0) tensor([0.7596, 0.2404], dtype=torch.float64)\n",
      "torch.Size([128, 2, 2])\n",
      "tensor(0) tensor([0.7217, 0.2783], dtype=torch.float64)\n",
      "torch.Size([128, 2, 2])\n",
      "tensor(1) tensor([0.4791, 0.5209], dtype=torch.float64)\n",
      "torch.Size([128, 2, 2])\n",
      "tensor(1) tensor([0.8269, 0.1731], dtype=torch.float64)\n",
      "torch.Size([128, 2, 2])\n",
      "tensor(1) tensor([0.4459, 0.5541], dtype=torch.float64)\n",
      "torch.Size([128, 2, 2])\n",
      "tensor(1) tensor([0.4094, 0.5906], dtype=torch.float64)\n",
      "torch.Size([128, 2, 2])\n",
      "tensor(0) tensor([0.5091, 0.4909], dtype=torch.float64)\n",
      "torch.Size([128, 2, 2])\n",
      "tensor(0) tensor([0.7713, 0.2287], dtype=torch.float64)\n",
      "torch.Size([128, 2, 2])\n",
      "tensor(0) tensor([0.7195, 0.2805], dtype=torch.float64)\n",
      "torch.Size([128, 2, 2])\n",
      "tensor(0) tensor([0.7636, 0.2364], dtype=torch.float64)\n",
      "torch.Size([128, 2, 2])\n",
      "tensor(1) tensor([0.4469, 0.5531], dtype=torch.float64)\n",
      "torch.Size([128, 2, 2])\n",
      "tensor(1) tensor([0.5265, 0.4735], dtype=torch.float64)\n",
      "torch.Size([128, 2, 2])\n",
      "tensor(1) tensor([0.3987, 0.6013], dtype=torch.float64)\n",
      "torch.Size([128, 2, 2])\n",
      "tensor(1) tensor([0.5342, 0.4658], dtype=torch.float64)\n",
      "torch.Size([128, 2, 2])\n",
      "tensor(0) tensor([0.5307, 0.4693], dtype=torch.float64)\n",
      "torch.Size([128, 2, 2])\n",
      "tensor(1) tensor([0.6586, 0.3414], dtype=torch.float64)\n",
      "torch.Size([128, 2, 2])\n",
      "tensor(0) tensor([0.7336, 0.2664], dtype=torch.float64)\n",
      "torch.Size([128, 2, 2])\n",
      "tensor(1) tensor([0.5448, 0.4552], dtype=torch.float64)\n",
      "torch.Size([128, 2, 2])\n",
      "tensor(1) tensor([0.7206, 0.2794], dtype=torch.float64)\n",
      "torch.Size([128, 2, 2])\n",
      "tensor(1) tensor([0.4660, 0.5340], dtype=torch.float64)\n",
      "torch.Size([128, 2, 2])\n",
      "tensor(0) tensor([0.8140, 0.1860], dtype=torch.float64)\n",
      "torch.Size([128, 2, 2])\n",
      "tensor(1) tensor([0.2649, 0.7351], dtype=torch.float64)\n",
      "torch.Size([128, 2, 2])\n",
      "tensor(0) tensor([0.7274, 0.2726], dtype=torch.float64)\n",
      "torch.Size([128, 2, 2])\n",
      "tensor(0) tensor([0.7893, 0.2107], dtype=torch.float64)\n",
      "torch.Size([128, 2, 2])\n",
      "tensor(1) tensor([0.4300, 0.5700], dtype=torch.float64)\n",
      "torch.Size([128, 2, 2])\n",
      "tensor(0) tensor([0.6655, 0.3345], dtype=torch.float64)\n",
      "torch.Size([128, 2, 2])\n",
      "tensor(0) tensor([0.6468, 0.3532], dtype=torch.float64)\n",
      "torch.Size([128, 2, 2])\n",
      "tensor(0) tensor([0.8122, 0.1878], dtype=torch.float64)\n",
      "torch.Size([128, 2, 2])\n",
      "tensor(1) tensor([0.4588, 0.5412], dtype=torch.float64)\n",
      "torch.Size([128, 2, 2])\n",
      "tensor(1) tensor([0.5235, 0.4765], dtype=torch.float64)\n",
      "torch.Size([128, 2, 2])\n",
      "tensor(1) tensor([0.3665, 0.6335], dtype=torch.float64)\n",
      "torch.Size([128, 2, 2])\n",
      "tensor(0) tensor([0.5735, 0.4265], dtype=torch.float64)\n",
      "torch.Size([128, 2, 2])\n",
      "tensor(1) tensor([0.4792, 0.5208], dtype=torch.float64)\n",
      "torch.Size([128, 2, 2])\n",
      "tensor(1) tensor([0.4613, 0.5387], dtype=torch.float64)\n",
      "torch.Size([128, 2, 2])\n",
      "tensor(1) tensor([0.1878, 0.8122], dtype=torch.float64)\n",
      "torch.Size([128, 2, 2])\n",
      "tensor(0) tensor([0.4777, 0.5223], dtype=torch.float64)\n",
      "torch.Size([128, 2, 2])\n",
      "tensor(1) tensor([0.6371, 0.3629], dtype=torch.float64)\n",
      "torch.Size([128, 2, 2])\n",
      "tensor(1) tensor([0.6589, 0.3411], dtype=torch.float64)\n",
      "torch.Size([128, 2, 2])\n",
      "tensor(0) tensor([0.7116, 0.2884], dtype=torch.float64)\n",
      "torch.Size([128, 2, 2])\n",
      "tensor(1) tensor([0.5131, 0.4869], dtype=torch.float64)\n",
      "torch.Size([128, 2, 2])\n",
      "tensor(1) tensor([0.7107, 0.2893], dtype=torch.float64)\n",
      "torch.Size([128, 2, 2])\n",
      "tensor(1) tensor([0.4216, 0.5784], dtype=torch.float64)\n",
      "torch.Size([128, 2, 2])\n",
      "tensor(1) tensor([0.4282, 0.5718], dtype=torch.float64)\n",
      "torch.Size([128, 2, 2])\n",
      "tensor(1) tensor([0.5859, 0.4141], dtype=torch.float64)\n",
      "torch.Size([128, 2, 2])\n",
      "tensor(1) tensor([0.3581, 0.6419], dtype=torch.float64)\n",
      "torch.Size([128, 2, 2])\n",
      "tensor(0) tensor([0.5013, 0.4987], dtype=torch.float64)\n",
      "torch.Size([128, 2, 2])\n",
      "tensor(0) tensor([0.7420, 0.2580], dtype=torch.float64)\n",
      "torch.Size([128, 2, 2])\n",
      "tensor(1) "
     ]
    },
    {
     "name": "stderr",
     "output_type": "stream",
     "text": [
      "  7%|▋         | 170/2494 [00:00<00:09, 254.32it/s]"
     ]
    },
    {
     "name": "stdout",
     "output_type": "stream",
     "text": [
      "tensor([0.3349, 0.6651], dtype=torch.float64)\n",
      "torch.Size([128, 2, 2])\n",
      "tensor(0) tensor([0.7464, 0.2536], dtype=torch.float64)\n",
      "torch.Size([128, 2, 2])\n",
      "tensor(1) tensor([0.3779, 0.6221], dtype=torch.float64)\n",
      "torch.Size([128, 2, 2])\n",
      "tensor(1) tensor([0.6742, 0.3258], dtype=torch.float64)\n",
      "torch.Size([128, 2, 2])\n",
      "tensor(0) tensor([0.4822, 0.5178], dtype=torch.float64)\n",
      "torch.Size([128, 2, 2])\n",
      "tensor(1) tensor([0.4692, 0.5308], dtype=torch.float64)\n",
      "torch.Size([128, 2, 2])\n",
      "tensor(0) tensor([0.6125, 0.3875], dtype=torch.float64)\n",
      "torch.Size([128, 2, 2])\n",
      "tensor(0) tensor([0.8944, 0.1056], dtype=torch.float64)\n",
      "torch.Size([128, 2, 2])\n",
      "tensor(1) tensor([0.4240, 0.5760], dtype=torch.float64)\n",
      "torch.Size([128, 2, 2])\n",
      "tensor(0) tensor([0.5159, 0.4841], dtype=torch.float64)\n",
      "torch.Size([128, 2, 2])\n",
      "tensor(1) tensor([0.8367, 0.1633], dtype=torch.float64)\n",
      "torch.Size([128, 2, 2])\n",
      "tensor(0) tensor([0.2856, 0.7144], dtype=torch.float64)\n",
      "torch.Size([128, 2, 2])\n",
      "tensor(1) tensor([0.4623, 0.5377], dtype=torch.float64)\n",
      "torch.Size([128, 2, 2])\n",
      "tensor(1) tensor([0.6537, 0.3463], dtype=torch.float64)\n",
      "torch.Size([128, 2, 2])\n",
      "tensor(0) tensor([0.8042, 0.1958], dtype=torch.float64)\n",
      "torch.Size([128, 2, 2])\n",
      "tensor(1) tensor([0.5262, 0.4738], dtype=torch.float64)\n",
      "torch.Size([128, 2, 2])\n",
      "tensor(0) tensor([0.5976, 0.4024], dtype=torch.float64)\n",
      "torch.Size([128, 2, 2])\n",
      "tensor(1) tensor([0.3187, 0.6813], dtype=torch.float64)\n",
      "torch.Size([128, 2, 2])\n",
      "tensor(1) tensor([0.6750, 0.3250], dtype=torch.float64)\n",
      "torch.Size([128, 2, 2])\n",
      "tensor(0) tensor([0.7933, 0.2067], dtype=torch.float64)\n",
      "torch.Size([128, 2, 2])\n",
      "tensor(1) tensor([0.6587, 0.3413], dtype=torch.float64)\n",
      "torch.Size([128, 2, 2])\n",
      "tensor(0) tensor([0.7940, 0.2060], dtype=torch.float64)\n",
      "torch.Size([128, 2, 2])\n",
      "tensor(1) tensor([0.6286, 0.3714], dtype=torch.float64)\n",
      "torch.Size([128, 2, 2])\n",
      "tensor(1) tensor([0.4232, 0.5768], dtype=torch.float64)\n",
      "torch.Size([128, 2, 2])\n",
      "tensor(1) tensor([0.6441, 0.3559], dtype=torch.float64)\n",
      "torch.Size([128, 2, 2])\n",
      "tensor(1) tensor([0.4368, 0.5632], dtype=torch.float64)\n",
      "torch.Size([128, 2, 2])\n",
      "tensor(1) tensor([0.4720, 0.5280], dtype=torch.float64)\n",
      "torch.Size([128, 2, 2])\n",
      "tensor(0) tensor([0.5209, 0.4791], dtype=torch.float64)\n",
      "torch.Size([128, 2, 2])\n",
      "tensor(0) tensor([0.6650, 0.3350], dtype=torch.float64)\n",
      "torch.Size([128, 2, 2])\n",
      "tensor(0) tensor([0.4721, 0.5279], dtype=torch.float64)\n",
      "torch.Size([128, 2, 2])\n",
      "tensor(0) tensor([0.3970, 0.6030], dtype=torch.float64)\n",
      "torch.Size([128, 2, 2])\n",
      "tensor(1) tensor([0.6890, 0.3110], dtype=torch.float64)\n",
      "torch.Size([128, 2, 2])\n",
      "tensor(1) tensor([0.4928, 0.5072], dtype=torch.float64)\n",
      "torch.Size([128, 2, 2])\n",
      "tensor(1) tensor([0.4300, 0.5700], dtype=torch.float64)\n",
      "torch.Size([128, 2, 2])\n",
      "tensor(1) tensor([0.6246, 0.3754], dtype=torch.float64)\n",
      "torch.Size([128, 2, 2])\n",
      "tensor(1) tensor([0.5961, 0.4039], dtype=torch.float64)\n",
      "torch.Size([128, 2, 2])\n",
      "tensor(1) tensor([0.7252, 0.2748], dtype=torch.float64)\n",
      "torch.Size([128, 2, 2])\n",
      "tensor(1) tensor([0.6647, 0.3353], dtype=torch.float64)\n",
      "torch.Size([128, 2, 2])\n",
      "tensor(0) tensor([0.5230, 0.4770], dtype=torch.float64)\n",
      "torch.Size([128, 2, 2])\n",
      "tensor(1) tensor([0.7719, 0.2281], dtype=torch.float64)\n",
      "torch.Size([128, 2, 2])\n",
      "tensor(1) tensor([0.3675, 0.6325], dtype=torch.float64)\n",
      "torch.Size([128, 2, 2])\n",
      "tensor(1) tensor([0.2703, 0.7297], dtype=torch.float64)\n",
      "torch.Size([128, 2, 2])\n",
      "tensor(0) tensor([0.5518, 0.4482], dtype=torch.float64)\n",
      "torch.Size([128, 2, 2])\n",
      "tensor(1) tensor([0.5301, 0.4699], dtype=torch.float64)\n",
      "torch.Size([128, 2, 2])\n",
      "tensor(0) tensor([0.6688, 0.3312], dtype=torch.float64)\n",
      "torch.Size([128, 2, 2])\n",
      "tensor(1) tensor([0.5694, 0.4306], dtype=torch.float64)\n",
      "torch.Size([128, 2, 2])\n",
      "tensor(0) tensor([0.5514, 0.4486], dtype=torch.float64)\n",
      "torch.Size([128, 2, 2])\n",
      "tensor(0) tensor([0.5621, 0.4379], dtype=torch.float64)\n",
      "torch.Size([128, 2, 2])\n",
      "tensor(0) tensor([0.6019, 0.3981], dtype=torch.float64)\n",
      "torch.Size([128, 2, 2])\n",
      "tensor(0) tensor([0.5727, 0.4273], dtype=torch.float64)\n",
      "torch.Size([128, 2, 2])\n",
      "tensor(1) tensor([0.5505, 0.4495], dtype=torch.float64)\n",
      "torch.Size([128, 2, 2])\n",
      "tensor(1) tensor([0.4153, 0.5847], dtype=torch.float64)\n",
      "torch.Size([128, 2, 2])\n",
      "tensor(0) tensor([0.6941, 0.3059], dtype=torch.float64)\n",
      "torch.Size([128, 2, 2])\n",
      "tensor(0) tensor([0.9051, 0.0949], dtype=torch.float64)\n",
      "torch.Size([128, 2, 2])\n",
      "tensor(1) tensor([0.4772, 0.5228], dtype=torch.float64)\n",
      "torch.Size([128, 2, 2])\n",
      "tensor(0) tensor([0.7841, 0.2159], dtype=torch.float64)\n",
      "torch.Size([128, 2, 2])\n",
      "tensor(1) tensor([0.4240, 0.5760], dtype=torch.float64)\n",
      "torch.Size([128, 2, 2])\n",
      "tensor(0) tensor([0.4989, 0.5011], dtype=torch.float64)\n",
      "torch.Size([128, 2, 2])\n",
      "tensor(0) tensor([0.6004, 0.3996], dtype=torch.float64)\n",
      "torch.Size([128, 2, 2])\n",
      "tensor(1) tensor([0.6105, 0.3895], dtype=torch.float64)\n",
      "torch.Size([128, 2, 2])\n",
      "tensor(0) tensor([0.8081, 0.1919], dtype=torch.float64)\n",
      "torch.Size([128, 2, 2])\n",
      "tensor(0) tensor([0.3876, 0.6124], dtype=torch.float64)\n",
      "torch.Size([128, 2, 2])\n",
      "tensor(1) tensor([0.5309, 0.4691], dtype=torch.float64)\n",
      "torch.Size([128, 2, 2])\n",
      "tensor(0) tensor([0.5193, 0.4807], dtype=torch.float64)\n",
      "torch.Size([128, 2, 2])\n",
      "tensor(0) tensor([0.6466, 0.3534], dtype=torch.float64)\n",
      "torch.Size([128, 2, 2])\n",
      "tensor(0) tensor([0.6067, 0.3933], dtype=torch.float64)\n"
     ]
    },
    {
     "name": "stderr",
     "output_type": "stream",
     "text": [
      " 10%|▉         | 237/2494 [00:00<00:07, 287.77it/s]"
     ]
    },
    {
     "name": "stdout",
     "output_type": "stream",
     "text": [
      "torch.Size([128, 2, 2])\n",
      "tensor(0) tensor([0.6835, 0.3165], dtype=torch.float64)\n",
      "torch.Size([128, 2, 2])\n",
      "tensor(1) tensor([0.4498, 0.5502], dtype=torch.float64)\n",
      "torch.Size([128, 2, 2])\n",
      "tensor(0) tensor([0.5813, 0.4187], dtype=torch.float64)\n",
      "torch.Size([128, 2, 2])\n",
      "tensor(0) tensor([0.7360, 0.2640], dtype=torch.float64)\n",
      "torch.Size([128, 2, 2])\n",
      "tensor(0) tensor([0.8057, 0.1943], dtype=torch.float64)\n",
      "torch.Size([128, 2, 2])\n",
      "tensor(0) tensor([0.6557, 0.3443], dtype=torch.float64)\n",
      "torch.Size([128, 2, 2])\n",
      "tensor(0) tensor([0.6657, 0.3343], dtype=torch.float64)\n",
      "torch.Size([128, 2, 2])\n",
      "tensor(0) tensor([0.3629, 0.6371], dtype=torch.float64)\n",
      "torch.Size([128, 2, 2])\n",
      "tensor(1) tensor([0.6079, 0.3921], dtype=torch.float64)\n",
      "torch.Size([128, 2, 2])\n",
      "tensor(1) tensor([0.5949, 0.4051], dtype=torch.float64)\n",
      "torch.Size([128, 2, 2])\n",
      "tensor(0) tensor([0.6430, 0.3570], dtype=torch.float64)\n",
      "torch.Size([128, 2, 2])\n",
      "tensor(0) tensor([0.4309, 0.5691], dtype=torch.float64)\n",
      "torch.Size([128, 2, 2])\n",
      "tensor(1) tensor([0.7611, 0.2389], dtype=torch.float64)\n",
      "torch.Size([128, 2, 2])\n",
      "tensor(1) tensor([0.6119, 0.3881], dtype=torch.float64)\n",
      "torch.Size([128, 2, 2])\n",
      "tensor(1) tensor([0.6566, 0.3434], dtype=torch.float64)\n",
      "torch.Size([128, 2, 2])\n",
      "tensor(1) tensor([0.4408, 0.5592], dtype=torch.float64)\n",
      "torch.Size([128, 2, 2])\n",
      "tensor(1) tensor([0.7078, 0.2922], dtype=torch.float64)\n",
      "torch.Size([128, 2, 2])\n",
      "tensor(1) tensor([0.7741, 0.2259], dtype=torch.float64)\n",
      "torch.Size([128, 2, 2])\n",
      "tensor(1) tensor([0.5677, 0.4323], dtype=torch.float64)\n",
      "torch.Size([128, 2, 2])\n",
      "tensor(0) tensor([0.2947, 0.7053], dtype=torch.float64)\n",
      "torch.Size([128, 2, 2])\n",
      "tensor(1) tensor([0.6532, 0.3468], dtype=torch.float64)\n",
      "torch.Size([128, 2, 2])\n",
      "tensor(1) tensor([0.2974, 0.7026], dtype=torch.float64)\n",
      "torch.Size([128, 2, 2])\n",
      "tensor(1) tensor([0.5104, 0.4896], dtype=torch.float64)\n",
      "torch.Size([128, 2, 2])\n",
      "tensor(0) tensor([0.7417, 0.2583], dtype=torch.float64)\n",
      "torch.Size([128, 2, 2])\n",
      "tensor(0) tensor([0.6775, 0.3225], dtype=torch.float64)\n",
      "torch.Size([128, 2, 2])\n",
      "tensor(0) tensor([0.7323, 0.2677], dtype=torch.float64)\n",
      "torch.Size([128, 2, 2])\n",
      "tensor(1) tensor([0.6762, 0.3238], dtype=torch.float64)\n",
      "torch.Size([128, 2, 2])\n",
      "tensor(1) tensor([0.6427, 0.3573], dtype=torch.float64)\n",
      "torch.Size([128, 2, 2])\n",
      "tensor(0) tensor([0.6394, 0.3606], dtype=torch.float64)\n",
      "torch.Size([128, 2, 2])\n",
      "tensor(1) tensor([0.5462, 0.4538], dtype=torch.float64)\n",
      "torch.Size([128, 2, 2])\n",
      "tensor(0) tensor([0.5334, 0.4666], dtype=torch.float64)\n",
      "torch.Size([128, 2, 2])\n",
      "tensor(1) tensor([0.5801, 0.4199], dtype=torch.float64)\n",
      "torch.Size([128, 2, 2])\n",
      "tensor(1) tensor([0.4386, 0.5614], dtype=torch.float64)\n",
      "torch.Size([128, 2, 2])\n",
      "tensor(0) tensor([0.7108, 0.2892], dtype=torch.float64)\n",
      "torch.Size([128, 2, 2])\n",
      "tensor(1) tensor([0.2831, 0.7169], dtype=torch.float64)\n",
      "torch.Size([128, 2, 2])\n",
      "tensor(1) tensor([0.5865, 0.4135], dtype=torch.float64)\n",
      "torch.Size([128, 2, 2])\n",
      "tensor(0) tensor([0.4692, 0.5308], dtype=torch.float64)\n",
      "torch.Size([128, 2, 2])\n",
      "tensor(0) tensor([0.6808, 0.3192], dtype=torch.float64)\n",
      "torch.Size([128, 2, 2])\n",
      "tensor(1) tensor([0.4734, 0.5266], dtype=torch.float64)\n",
      "torch.Size([128, 2, 2])\n",
      "tensor(1) tensor([0.6024, 0.3976], dtype=torch.float64)\n",
      "torch.Size([128, 2, 2])\n",
      "tensor(0) tensor([0.3940, 0.6060], dtype=torch.float64)\n",
      "torch.Size([128, 2, 2])\n",
      "tensor(0) tensor([0.5132, 0.4868], dtype=torch.float64)\n",
      "torch.Size([128, 2, 2])\n",
      "tensor(0) tensor([0.6227, 0.3773], dtype=torch.float64)\n",
      "torch.Size([128, 2, 2])\n",
      "tensor(0) tensor([0.5819, 0.4181], dtype=torch.float64)\n",
      "torch.Size([128, 2, 2])\n",
      "tensor(1) tensor([0.6736, 0.3264], dtype=torch.float64)\n",
      "torch.Size([128, 2, 2])\n",
      "tensor(1) tensor([0.5094, 0.4906], dtype=torch.float64)\n",
      "torch.Size([128, 2, 2])\n",
      "tensor(0) tensor([0.6546, 0.3454], dtype=torch.float64)\n",
      "torch.Size([128, 2, 2])\n",
      "tensor(1) tensor([0.5675, 0.4325], dtype=torch.float64)\n",
      "torch.Size([128, 2, 2])\n",
      "tensor(1) tensor([0.5889, 0.4111], dtype=torch.float64)\n",
      "torch.Size([128, 2, 2])\n",
      "tensor(0) tensor([0.8180, 0.1820], dtype=torch.float64)\n",
      "torch.Size([128, 2, 2])\n",
      "tensor(0) tensor([0.7869, 0.2131], dtype=torch.float64)\n",
      "torch.Size([128, 2, 2])\n",
      "tensor(0) tensor([0.7244, 0.2756], dtype=torch.float64)\n",
      "torch.Size([128, 2, 2])\n",
      "tensor(1) tensor([0.5906, 0.4094], dtype=torch.float64)\n",
      "torch.Size([128, 2, 2])\n",
      "tensor(0) tensor([0.3644, 0.6356], dtype=torch.float64)\n",
      "torch.Size([128, 2, 2])\n",
      "tensor(1) tensor([0.6797, 0.3203], dtype=torch.float64)\n",
      "torch.Size([128, 2, 2])\n",
      "tensor(1) tensor([0.3090, 0.6910], dtype=torch.float64)\n",
      "torch.Size([128, 2, 2])\n",
      "tensor(1) tensor([0.5053, 0.4947], dtype=torch.float64)\n",
      "torch.Size([128, 2, 2])\n",
      "tensor(1) tensor([0.3576, 0.6424], dtype=torch.float64)\n",
      "torch.Size([128, 2, 2])\n",
      "tensor(0) tensor([0.6015, 0.3985], dtype=torch.float64)\n",
      "torch.Size([128, 2, 2])\n",
      "tensor(1) tensor([0.6668, 0.3332], dtype=torch.float64)\n",
      "torch.Size([128, 2, 2])\n",
      "tensor(1) tensor([0.5766, 0.4234], dtype=torch.float64)\n",
      "torch.Size([128, 2, 2])\n",
      "tensor(0) tensor([0.5030, 0.4970], dtype=torch.float64)\n",
      "torch.Size([128, 2, 2])\n",
      "tensor(1) tensor([0.6642, 0.3358], dtype=torch.float64)\n",
      "torch.Size([128, 2, 2])\n",
      "tensor(1) tensor([0.4107, 0.5893], dtype=torch.float64)\n",
      "torch.Size([128, 2, 2])\n",
      "tensor(1) tensor([0.6567, 0.3433], dtype=torch.float64)\n",
      "torch.Size([128, 2, 2])\n",
      "tensor(1) tensor([0.4632, 0.5368], dtype=torch.float64)\n"
     ]
    },
    {
     "name": "stderr",
     "output_type": "stream",
     "text": [
      " 12%|█▏        | 304/2494 [00:01<00:07, 307.53it/s]"
     ]
    },
    {
     "name": "stdout",
     "output_type": "stream",
     "text": [
      "torch.Size([128, 2, 2])\n",
      "tensor(1) tensor([0.4162, 0.5838], dtype=torch.float64)\n",
      "torch.Size([128, 2, 2])\n",
      "tensor(1) tensor([0.3145, 0.6855], dtype=torch.float64)\n",
      "torch.Size([128, 2, 2])\n",
      "tensor(0) tensor([0.8513, 0.1487], dtype=torch.float64)\n",
      "torch.Size([128, 2, 2])\n",
      "tensor(1) tensor([0.4980, 0.5020], dtype=torch.float64)\n",
      "torch.Size([128, 2, 2])\n",
      "tensor(1) tensor([0.7220, 0.2780], dtype=torch.float64)\n",
      "torch.Size([128, 2, 2])\n",
      "tensor(1) tensor([0.6319, 0.3681], dtype=torch.float64)\n",
      "torch.Size([128, 2, 2])\n",
      "tensor(0) tensor([0.6429, 0.3571], dtype=torch.float64)\n",
      "torch.Size([128, 2, 2])\n",
      "tensor(0) tensor([0.7933, 0.2067], dtype=torch.float64)\n",
      "torch.Size([128, 2, 2])\n",
      "tensor(0) tensor([0.6224, 0.3776], dtype=torch.float64)\n",
      "torch.Size([128, 2, 2])\n",
      "tensor(0) tensor([0.9071, 0.0929], dtype=torch.float64)\n",
      "torch.Size([128, 2, 2])\n",
      "tensor(0) tensor([0.7062, 0.2938], dtype=torch.float64)\n",
      "torch.Size([128, 2, 2])\n",
      "tensor(0) tensor([0.8496, 0.1504], dtype=torch.float64)\n",
      "torch.Size([128, 2, 2])\n",
      "tensor(1) tensor([0.7369, 0.2631], dtype=torch.float64)\n",
      "torch.Size([128, 2, 2])\n",
      "tensor(0) tensor([0.3420, 0.6580], dtype=torch.float64)\n",
      "torch.Size([128, 2, 2])\n",
      "tensor(0) tensor([0.6213, 0.3787], dtype=torch.float64)\n",
      "torch.Size([128, 2, 2])\n",
      "tensor(1) tensor([0.7349, 0.2651], dtype=torch.float64)\n",
      "torch.Size([128, 2, 2])\n",
      "tensor(0) tensor([0.7662, 0.2338], dtype=torch.float64)\n",
      "torch.Size([128, 2, 2])\n",
      "tensor(0) tensor([0.8020, 0.1980], dtype=torch.float64)\n",
      "torch.Size([128, 2, 2])\n",
      "tensor(0) tensor([0.6736, 0.3264], dtype=torch.float64)\n",
      "torch.Size([128, 2, 2])\n",
      "tensor(0) tensor([0.4306, 0.5694], dtype=torch.float64)\n",
      "torch.Size([128, 2, 2])\n",
      "tensor(1) tensor([0.4095, 0.5905], dtype=torch.float64)\n",
      "torch.Size([128, 2, 2])\n",
      "tensor(1) tensor([0.3353, 0.6647], dtype=torch.float64)\n",
      "torch.Size([128, 2, 2])\n",
      "tensor(0) tensor([0.6929, 0.3071], dtype=torch.float64)\n",
      "torch.Size([128, 2, 2])\n",
      "tensor(0) tensor([0.9070, 0.0930], dtype=torch.float64)\n",
      "torch.Size([128, 2, 2])\n",
      "tensor(1) tensor([0.5575, 0.4425], dtype=torch.float64)\n",
      "torch.Size([128, 2, 2])\n",
      "tensor(0) tensor([0.7696, 0.2304], dtype=torch.float64)\n",
      "torch.Size([128, 2, 2])\n",
      "tensor(1) tensor([0.4726, 0.5274], dtype=torch.float64)\n",
      "torch.Size([128, 2, 2])\n",
      "tensor(1) tensor([0.8233, 0.1767], dtype=torch.float64)\n",
      "torch.Size([128, 2, 2])\n",
      "tensor(1) tensor([0.7532, 0.2468], dtype=torch.float64)\n",
      "torch.Size([128, 2, 2])\n",
      "tensor(1) tensor([0.2851, 0.7149], dtype=torch.float64)\n",
      "torch.Size([128, 2, 2])\n",
      "tensor(0) tensor([0.6033, 0.3967], dtype=torch.float64)\n",
      "torch.Size([128, 2, 2])\n",
      "tensor(0) tensor([0.5434, 0.4566], dtype=torch.float64)\n",
      "torch.Size([128, 2, 2])\n",
      "tensor(1) tensor([0.7024, 0.2976], dtype=torch.float64)\n",
      "torch.Size([128, 2, 2])\n",
      "tensor(1) tensor([0.4781, 0.5219], dtype=torch.float64)\n",
      "torch.Size([128, 2, 2])\n",
      "tensor(1) tensor([0.4858, 0.5142], dtype=torch.float64)\n",
      "torch.Size([128, 2, 2])\n",
      "tensor(0) tensor([0.7745, 0.2255], dtype=torch.float64)\n",
      "torch.Size([128, 2, 2])\n",
      "tensor(0) tensor([0.6061, 0.3939], dtype=torch.float64)\n",
      "torch.Size([128, 2, 2])\n",
      "tensor(0) tensor([0.6977, 0.3023], dtype=torch.float64)\n",
      "torch.Size([128, 2, 2])\n",
      "tensor(1) tensor([0.4229, 0.5771], dtype=torch.float64)\n",
      "torch.Size([128, 2, 2])\n",
      "tensor(1) tensor([0.7795, 0.2205], dtype=torch.float64)\n",
      "torch.Size([128, 2, 2])\n",
      "tensor(1) tensor([0.5724, 0.4276], dtype=torch.float64)\n",
      "torch.Size([128, 2, 2])\n",
      "tensor(0) tensor([0.5493, 0.4507], dtype=torch.float64)\n",
      "torch.Size([128, 2, 2])\n",
      "tensor(1) tensor([0.5790, 0.4210], dtype=torch.float64)\n",
      "torch.Size([128, 2, 2])\n",
      "tensor(0) tensor([0.5734, 0.4266], dtype=torch.float64)\n",
      "torch.Size([128, 2, 2])\n",
      "tensor(1) tensor([0.4677, 0.5323], dtype=torch.float64)\n",
      "torch.Size([128, 2, 2])\n",
      "tensor(1) tensor([0.6051, 0.3949], dtype=torch.float64)\n",
      "torch.Size([128, 2, 2])\n",
      "tensor(0) tensor([0.5870, 0.4130], dtype=torch.float64)\n",
      "torch.Size([128, 2, 2])\n",
      "tensor(0) tensor([0.8161, 0.1839], dtype=torch.float64)\n",
      "torch.Size([128, 2, 2])\n",
      "tensor(0) tensor([0.5514, 0.4486], dtype=torch.float64)\n",
      "torch.Size([128, 2, 2])\n",
      "tensor(1) tensor([0.3438, 0.6562], dtype=torch.float64)\n",
      "torch.Size([128, 2, 2])\n",
      "tensor(0) tensor([0.6653, 0.3347], dtype=torch.float64)\n",
      "torch.Size([128, 2, 2])\n",
      "tensor(0) tensor([0.5517, 0.4483], dtype=torch.float64)\n",
      "torch.Size([128, 2, 2])\n",
      "tensor(0) tensor([0.4785, 0.5215], dtype=torch.float64)\n",
      "torch.Size([128, 2, 2])\n",
      "tensor(1) tensor([0.2608, 0.7392], dtype=torch.float64)\n",
      "torch.Size([128, 2, 2])\n",
      "tensor(1) tensor([0.3701, 0.6299], dtype=torch.float64)\n",
      "torch.Size([128, 2, 2])\n",
      "tensor(1) tensor([0.2409, 0.7591], dtype=torch.float64)\n",
      "torch.Size([128, 2, 2])\n",
      "tensor(1) tensor([0.6478, 0.3522], dtype=torch.float64)\n",
      "torch.Size([128, 2, 2])\n",
      "tensor(1) tensor([0.6420, 0.3580], dtype=torch.float64)\n",
      "torch.Size([128, 2, 2])\n",
      "tensor(1) tensor([0.5034, 0.4966], dtype=torch.float64)\n",
      "torch.Size([128, 2, 2])\n",
      "tensor(0) tensor([0.4668, 0.5332], dtype=torch.float64)\n",
      "torch.Size([128, 2, 2])\n",
      "tensor(0) tensor([0.5058, 0.4942], dtype=torch.float64)\n",
      "torch.Size([128, 2, 2])\n",
      "tensor(0) tensor([0.2324, 0.7676], dtype=torch.float64)\n",
      "torch.Size([128, 2, 2])\n",
      "tensor(0) tensor([0.4852, 0.5148], dtype=torch.float64)\n",
      "torch.Size([128, 2, 2])\n",
      "tensor(1) tensor([0.3402, 0.6598], dtype=torch.float64)\n",
      "torch.Size([128, 2, 2])\n",
      "tensor(0) tensor([0.8411, 0.1589], dtype=torch.float64)\n",
      "torch.Size([128, 2, 2])\n",
      "tensor(1) tensor([0.3949, 0.6051], dtype=torch.float64)\n",
      "torch.Size([128, 2, 2])\n"
     ]
    },
    {
     "name": "stderr",
     "output_type": "stream",
     "text": [
      " 15%|█▍        | 369/2494 [00:01<00:06, 315.15it/s]"
     ]
    },
    {
     "name": "stdout",
     "output_type": "stream",
     "text": [
      "tensor(1) tensor([0.3081, 0.6919], dtype=torch.float64)\n",
      "torch.Size([128, 2, 2])\n",
      "tensor(0) tensor([0.7042, 0.2958], dtype=torch.float64)\n",
      "torch.Size([128, 2, 2])\n",
      "tensor(0) tensor([0.7356, 0.2644], dtype=torch.float64)\n",
      "torch.Size([128, 2, 2])\n",
      "tensor(1) tensor([0.2575, 0.7425], dtype=torch.float64)\n",
      "torch.Size([128, 2, 2])\n",
      "tensor(1) tensor([0.5887, 0.4113], dtype=torch.float64)\n",
      "torch.Size([128, 2, 2])\n",
      "tensor(1) tensor([0.6744, 0.3256], dtype=torch.float64)\n",
      "torch.Size([128, 2, 2])\n",
      "tensor(1) tensor([0.2636, 0.7364], dtype=torch.float64)\n",
      "torch.Size([128, 2, 2])\n",
      "tensor(0) tensor([0.4821, 0.5179], dtype=torch.float64)\n",
      "torch.Size([128, 2, 2])\n",
      "tensor(1) tensor([0.4527, 0.5473], dtype=torch.float64)\n",
      "torch.Size([128, 2, 2])\n",
      "tensor(1) tensor([0.4752, 0.5248], dtype=torch.float64)\n",
      "torch.Size([128, 2, 2])\n",
      "tensor(0) tensor([0.6844, 0.3156], dtype=torch.float64)\n",
      "torch.Size([128, 2, 2])\n",
      "tensor(1) tensor([0.2835, 0.7165], dtype=torch.float64)\n",
      "torch.Size([128, 2, 2])\n",
      "tensor(1) tensor([0.5159, 0.4841], dtype=torch.float64)\n",
      "torch.Size([128, 2, 2])\n",
      "tensor(0) tensor([0.6465, 0.3535], dtype=torch.float64)\n",
      "torch.Size([128, 2, 2])\n",
      "tensor(1) tensor([0.7443, 0.2557], dtype=torch.float64)\n",
      "torch.Size([128, 2, 2])\n",
      "tensor(0) tensor([0.5323, 0.4677], dtype=torch.float64)\n",
      "torch.Size([128, 2, 2])\n",
      "tensor(1) tensor([0.3681, 0.6319], dtype=torch.float64)\n",
      "torch.Size([128, 2, 2])\n",
      "tensor(0) tensor([0.6969, 0.3031], dtype=torch.float64)\n",
      "torch.Size([128, 2, 2])\n",
      "tensor(1) tensor([0.5719, 0.4281], dtype=torch.float64)\n",
      "torch.Size([128, 2, 2])\n",
      "tensor(1) tensor([0.4709, 0.5291], dtype=torch.float64)\n",
      "torch.Size([128, 2, 2])\n",
      "tensor(1) tensor([0.2183, 0.7817], dtype=torch.float64)\n",
      "torch.Size([128, 2, 2])\n",
      "tensor(0) tensor([0.6780, 0.3220], dtype=torch.float64)\n",
      "torch.Size([128, 2, 2])\n",
      "tensor(0) tensor([0.6236, 0.3764], dtype=torch.float64)\n",
      "torch.Size([128, 2, 2])\n",
      "tensor(1) tensor([0.6689, 0.3311], dtype=torch.float64)\n",
      "torch.Size([128, 2, 2])\n",
      "tensor(0) tensor([0.8011, 0.1989], dtype=torch.float64)\n",
      "torch.Size([128, 2, 2])\n",
      "tensor(1) tensor([0.5782, 0.4218], dtype=torch.float64)\n",
      "torch.Size([128, 2, 2])\n",
      "tensor(1) tensor([0.5666, 0.4334], dtype=torch.float64)\n",
      "torch.Size([128, 2, 2])\n",
      "tensor(0) tensor([0.3715, 0.6285], dtype=torch.float64)\n",
      "torch.Size([128, 2, 2])\n",
      "tensor(0) tensor([0.7257, 0.2743], dtype=torch.float64)\n",
      "torch.Size([128, 2, 2])\n",
      "tensor(1) tensor([0.6371, 0.3629], dtype=torch.float64)\n",
      "torch.Size([128, 2, 2])\n",
      "tensor(1) tensor([0.5020, 0.4980], dtype=torch.float64)\n",
      "torch.Size([128, 2, 2])\n",
      "tensor(1) tensor([0.4206, 0.5794], dtype=torch.float64)\n",
      "torch.Size([128, 2, 2])\n",
      "tensor(0) tensor([0.5937, 0.4063], dtype=torch.float64)\n",
      "torch.Size([128, 2, 2])\n",
      "tensor(0) tensor([0.6903, 0.3097], dtype=torch.float64)\n",
      "torch.Size([128, 2, 2])\n",
      "tensor(0) tensor([0.5015, 0.4985], dtype=torch.float64)\n",
      "torch.Size([128, 2, 2])\n",
      "tensor(1) tensor([0.3273, 0.6727], dtype=torch.float64)\n",
      "torch.Size([128, 2, 2])\n",
      "tensor(0) tensor([0.6208, 0.3792], dtype=torch.float64)\n",
      "torch.Size([128, 2, 2])\n",
      "tensor(1) tensor([0.5213, 0.4787], dtype=torch.float64)\n",
      "torch.Size([128, 2, 2])\n",
      "tensor(0) tensor([0.7065, 0.2935], dtype=torch.float64)\n",
      "torch.Size([128, 2, 2])\n",
      "tensor(1) tensor([0.5986, 0.4014], dtype=torch.float64)\n",
      "torch.Size([128, 2, 2])\n",
      "tensor(1) tensor([0.2984, 0.7016], dtype=torch.float64)\n",
      "torch.Size([128, 2, 2])\n",
      "tensor(1) tensor([0.5127, 0.4873], dtype=torch.float64)\n",
      "torch.Size([128, 2, 2])\n",
      "tensor(1) tensor([0.3929, 0.6071], dtype=torch.float64)\n",
      "torch.Size([128, 2, 2])\n",
      "tensor(0) tensor([0.7382, 0.2618], dtype=torch.float64)\n",
      "torch.Size([128, 2, 2])\n",
      "tensor(1) tensor([0.3733, 0.6267], dtype=torch.float64)\n",
      "torch.Size([128, 2, 2])\n",
      "tensor(1) tensor([0.4444, 0.5556], dtype=torch.float64)\n",
      "torch.Size([128, 2, 2])\n",
      "tensor(1) tensor([0.4505, 0.5495], dtype=torch.float64)\n",
      "torch.Size([128, 2, 2])\n",
      "tensor(0) tensor([0.4054, 0.5946], dtype=torch.float64)\n",
      "torch.Size([128, 2, 2])\n",
      "tensor(0) tensor([0.7377, 0.2623], dtype=torch.float64)\n",
      "torch.Size([128, 2, 2])\n",
      "tensor(0) tensor([0.8189, 0.1811], dtype=torch.float64)\n",
      "torch.Size([128, 2, 2])\n",
      "tensor(1) tensor([0.4970, 0.5030], dtype=torch.float64)\n",
      "torch.Size([128, 2, 2])\n",
      "tensor(0) tensor([0.5337, 0.4663], dtype=torch.float64)\n",
      "torch.Size([128, 2, 2])\n",
      "tensor(1) tensor([0.6936, 0.3064], dtype=torch.float64)\n",
      "torch.Size([128, 2, 2])\n",
      "tensor(1) tensor([0.2976, 0.7024], dtype=torch.float64)\n",
      "torch.Size([128, 2, 2])\n",
      "tensor(1) tensor([0.7041, 0.2959], dtype=torch.float64)\n",
      "torch.Size([128, 2, 2])\n",
      "tensor(1) tensor([0.6778, 0.3222], dtype=torch.float64)\n",
      "torch.Size([128, 2, 2])\n",
      "tensor(0) tensor([0.5618, 0.4382], dtype=torch.float64)\n",
      "torch.Size([128, 2, 2])\n",
      "tensor(1) tensor([0.3366, 0.6634], dtype=torch.float64)\n",
      "torch.Size([128, 2, 2])\n",
      "tensor(1) tensor([0.5508, 0.4492], dtype=torch.float64)\n",
      "torch.Size([128, 2, 2])\n",
      "tensor(1) tensor([0.4688, 0.5312], dtype=torch.float64)\n",
      "torch.Size([128, 2, 2])\n",
      "tensor(0) tensor([0.3370, 0.6630], dtype=torch.float64)\n",
      "torch.Size([128, 2, 2])\n",
      "tensor(1) tensor([0.5770, 0.4230], dtype=torch.float64)\n",
      "torch.Size([128, 2, 2])\n",
      "tensor(0) tensor([0.5488, 0.4512], dtype=torch.float64)\n",
      "torch.Size([128, 2, 2])\n",
      "tensor(0) tensor([0.6161, 0.3839], dtype=torch.float64)\n",
      "torch.Size([128, 2, 2])\n",
      "tensor(0) tensor([0.6033, 0.3967], dtype=torch.float64)\n"
     ]
    },
    {
     "name": "stderr",
     "output_type": "stream",
     "text": [
      " 17%|█▋        | 434/2494 [00:01<00:06, 316.11it/s]"
     ]
    },
    {
     "name": "stdout",
     "output_type": "stream",
     "text": [
      "torch.Size([128, 2, 2])\n",
      "tensor(0) tensor([0.5468, 0.4532], dtype=torch.float64)\n",
      "torch.Size([128, 2, 2])\n",
      "tensor(0) tensor([0.6280, 0.3720], dtype=torch.float64)\n",
      "torch.Size([128, 2, 2])\n",
      "tensor(0) tensor([0.4870, 0.5130], dtype=torch.float64)\n",
      "torch.Size([128, 2, 2])\n",
      "tensor(1) tensor([0.7078, 0.2922], dtype=torch.float64)\n",
      "torch.Size([128, 2, 2])\n",
      "tensor(1) tensor([0.3623, 0.6377], dtype=torch.float64)\n",
      "torch.Size([128, 2, 2])\n",
      "tensor(1) tensor([0.8192, 0.1808], dtype=torch.float64)\n",
      "torch.Size([128, 2, 2])\n",
      "tensor(0) tensor([0.7243, 0.2757], dtype=torch.float64)\n",
      "torch.Size([128, 2, 2])\n",
      "tensor(1) tensor([0.5313, 0.4687], dtype=torch.float64)\n",
      "torch.Size([128, 2, 2])\n",
      "tensor(0) tensor([0.5145, 0.4855], dtype=torch.float64)\n",
      "torch.Size([128, 2, 2])\n",
      "tensor(0) tensor([0.4388, 0.5612], dtype=torch.float64)\n",
      "torch.Size([128, 2, 2])\n",
      "tensor(1) tensor([0.7907, 0.2093], dtype=torch.float64)\n",
      "torch.Size([128, 2, 2])\n",
      "tensor(1) tensor([0.3339, 0.6661], dtype=torch.float64)\n",
      "torch.Size([128, 2, 2])\n",
      "tensor(0) tensor([0.4755, 0.5245], dtype=torch.float64)\n",
      "torch.Size([128, 2, 2])\n",
      "tensor(1) tensor([0.7452, 0.2548], dtype=torch.float64)\n",
      "torch.Size([128, 2, 2])\n",
      "tensor(1) tensor([0.7899, 0.2101], dtype=torch.float64)\n",
      "torch.Size([128, 2, 2])\n",
      "tensor(0) tensor([0.8438, 0.1562], dtype=torch.float64)\n",
      "torch.Size([128, 2, 2])\n",
      "tensor(1) tensor([0.7421, 0.2579], dtype=torch.float64)\n",
      "torch.Size([128, 2, 2])\n",
      "tensor(0) tensor([0.7206, 0.2794], dtype=torch.float64)\n",
      "torch.Size([128, 2, 2])\n",
      "tensor(0) tensor([0.5649, 0.4351], dtype=torch.float64)\n",
      "torch.Size([128, 2, 2])\n",
      "tensor(1) tensor([0.4296, 0.5704], dtype=torch.float64)\n",
      "torch.Size([128, 2, 2])\n",
      "tensor(1) tensor([0.6022, 0.3978], dtype=torch.float64)\n",
      "torch.Size([128, 2, 2])\n",
      "tensor(0) tensor([0.7517, 0.2483], dtype=torch.float64)\n",
      "torch.Size([128, 2, 2])\n",
      "tensor(0) tensor([0.4878, 0.5122], dtype=torch.float64)\n",
      "torch.Size([128, 2, 2])\n",
      "tensor(0) tensor([0.6270, 0.3730], dtype=torch.float64)\n",
      "torch.Size([128, 2, 2])\n",
      "tensor(1) tensor([0.5560, 0.4440], dtype=torch.float64)\n",
      "torch.Size([128, 2, 2])\n",
      "tensor(0) tensor([0.7435, 0.2565], dtype=torch.float64)\n",
      "torch.Size([128, 2, 2])\n",
      "tensor(1) tensor([0.4651, 0.5349], dtype=torch.float64)\n",
      "torch.Size([128, 2, 2])\n",
      "tensor(1) tensor([0.5415, 0.4585], dtype=torch.float64)\n",
      "torch.Size([128, 2, 2])\n",
      "tensor(0) tensor([0.8240, 0.1760], dtype=torch.float64)\n",
      "torch.Size([128, 2, 2])\n",
      "tensor(1) tensor([0.4103, 0.5897], dtype=torch.float64)\n",
      "torch.Size([128, 2, 2])\n",
      "tensor(0) tensor([0.6835, 0.3165], dtype=torch.float64)\n",
      "torch.Size([128, 2, 2])\n",
      "tensor(0) tensor([0.6151, 0.3849], dtype=torch.float64)\n",
      "torch.Size([128, 2, 2])\n",
      "tensor(1) tensor([0.5560, 0.4440], dtype=torch.float64)\n",
      "torch.Size([128, 2, 2])\n",
      "tensor(1) tensor([0.6867, 0.3133], dtype=torch.float64)\n",
      "torch.Size([128, 2, 2])\n",
      "tensor(0) tensor([0.7020, 0.2980], dtype=torch.float64)\n",
      "torch.Size([128, 2, 2])\n",
      "tensor(0) tensor([0.8355, 0.1645], dtype=torch.float64)\n",
      "torch.Size([128, 2, 2])\n",
      "tensor(1) tensor([0.5397, 0.4603], dtype=torch.float64)\n",
      "torch.Size([128, 2, 2])\n",
      "tensor(1) tensor([0.4460, 0.5540], dtype=torch.float64)\n",
      "torch.Size([128, 2, 2])\n",
      "tensor(1) tensor([0.4001, 0.5999], dtype=torch.float64)\n",
      "torch.Size([128, 2, 2])\n",
      "tensor(1) tensor([0.4919, 0.5081], dtype=torch.float64)\n",
      "torch.Size([128, 2, 2])\n",
      "tensor(0) tensor([0.8259, 0.1741], dtype=torch.float64)\n",
      "torch.Size([128, 2, 2])\n",
      "tensor(1) tensor([0.6648, 0.3352], dtype=torch.float64)\n",
      "torch.Size([128, 2, 2])\n",
      "tensor(0) tensor([0.7203, 0.2797], dtype=torch.float64)\n",
      "torch.Size([128, 2, 2])\n",
      "tensor(0) tensor([0.7358, 0.2642], dtype=torch.float64)\n",
      "torch.Size([128, 2, 2])\n",
      "tensor(1) tensor([0.7533, 0.2467], dtype=torch.float64)\n",
      "torch.Size([128, 2, 2])\n",
      "tensor(0) tensor([0.5798, 0.4202], dtype=torch.float64)\n",
      "torch.Size([128, 2, 2])\n",
      "tensor(0) tensor([0.5495, 0.4505], dtype=torch.float64)\n",
      "torch.Size([128, 2, 2])\n",
      "tensor(1) tensor([0.6019, 0.3981], dtype=torch.float64)\n",
      "torch.Size([128, 2, 2])\n",
      "tensor(0) tensor([0.6533, 0.3467], dtype=torch.float64)\n",
      "torch.Size([128, 2, 2])\n",
      "tensor(0) tensor([0.5322, 0.4678], dtype=torch.float64)\n",
      "torch.Size([128, 2, 2])\n",
      "tensor(0) tensor([0.6494, 0.3506], dtype=torch.float64)\n",
      "torch.Size([128, 2, 2])\n",
      "tensor(1) tensor([0.6167, 0.3833], dtype=torch.float64)\n",
      "torch.Size([128, 2, 2])\n",
      "tensor(1) tensor([0.4070, 0.5930], dtype=torch.float64)\n",
      "torch.Size([128, 2, 2])\n",
      "tensor(0) tensor([0.6182, 0.3818], dtype=torch.float64)\n",
      "torch.Size([128, 2, 2])\n",
      "tensor(0) tensor([0.7212, 0.2788], dtype=torch.float64)\n",
      "torch.Size([128, 2, 2])\n",
      "tensor(1) tensor([0.6940, 0.3060], dtype=torch.float64)\n",
      "torch.Size([128, 2, 2])\n",
      "tensor(1) tensor([0.5273, 0.4727], dtype=torch.float64)\n",
      "torch.Size([128, 2, 2])\n",
      "tensor(1) tensor([0.3818, 0.6182], dtype=torch.float64)\n",
      "torch.Size([128, 2, 2])\n",
      "tensor(0) tensor([0.6359, 0.3641], dtype=torch.float64)\n",
      "torch.Size([128, 2, 2])\n",
      "tensor(1) tensor([0.5697, 0.4303], dtype=torch.float64)\n",
      "torch.Size([128, 2, 2])\n",
      "tensor(0) tensor([0.8988, 0.1012], dtype=torch.float64)\n",
      "torch.Size([128, 2, 2])\n",
      "tensor(1) tensor([0.5272, 0.4728], dtype=torch.float64)\n",
      "torch.Size([128, 2, 2])\n",
      "tensor(1) tensor([0.6536, 0.3464], dtype=torch.float64)\n",
      "torch.Size([128, 2, 2])\n"
     ]
    },
    {
     "name": "stderr",
     "output_type": "stream",
     "text": [
      " 20%|█▉        | 498/2494 [00:01<00:06, 310.86it/s]"
     ]
    },
    {
     "name": "stdout",
     "output_type": "stream",
     "text": [
      "tensor(1) tensor([0.3946, 0.6054], dtype=torch.float64)\n",
      "torch.Size([128, 2, 2])\n",
      "tensor(1) tensor([0.5565, 0.4435], dtype=torch.float64)\n",
      "torch.Size([128, 2, 2])\n",
      "tensor(1) tensor([0.4748, 0.5252], dtype=torch.float64)\n",
      "torch.Size([128, 2, 2])\n",
      "tensor(1) tensor([0.7072, 0.2928], dtype=torch.float64)\n",
      "torch.Size([128, 2, 2])\n",
      "tensor(1) tensor([0.7821, 0.2179], dtype=torch.float64)\n",
      "torch.Size([128, 2, 2])\n",
      "tensor(0) tensor([0.5687, 0.4313], dtype=torch.float64)\n",
      "torch.Size([128, 2, 2])\n",
      "tensor(0) tensor([0.5136, 0.4864], dtype=torch.float64)\n",
      "torch.Size([128, 2, 2])\n",
      "tensor(1) tensor([0.4419, 0.5581], dtype=torch.float64)\n",
      "torch.Size([128, 2, 2])\n",
      "tensor(0) tensor([0.6567, 0.3433], dtype=torch.float64)\n",
      "torch.Size([128, 2, 2])\n",
      "tensor(1) tensor([0.3346, 0.6654], dtype=torch.float64)\n",
      "torch.Size([128, 2, 2])\n",
      "tensor(1) tensor([0.3572, 0.6428], dtype=torch.float64)\n",
      "torch.Size([128, 2, 2])\n",
      "tensor(0) tensor([0.4981, 0.5019], dtype=torch.float64)\n",
      "torch.Size([128, 2, 2])\n",
      "tensor(1) tensor([0.6747, 0.3253], dtype=torch.float64)\n",
      "torch.Size([128, 2, 2])\n",
      "tensor(0) tensor([0.8058, 0.1942], dtype=torch.float64)\n",
      "torch.Size([128, 2, 2])\n",
      "tensor(0) tensor([0.7184, 0.2816], dtype=torch.float64)\n",
      "torch.Size([128, 2, 2])\n",
      "tensor(0) tensor([0.6741, 0.3259], dtype=torch.float64)\n",
      "torch.Size([128, 2, 2])\n",
      "tensor(1) tensor([0.3409, 0.6591], dtype=torch.float64)\n",
      "torch.Size([128, 2, 2])\n",
      "tensor(1) tensor([0.1511, 0.8489], dtype=torch.float64)\n",
      "torch.Size([128, 2, 2])\n",
      "tensor(1) tensor([0.4218, 0.5782], dtype=torch.float64)\n",
      "torch.Size([128, 2, 2])\n",
      "tensor(1) tensor([0.4242, 0.5758], dtype=torch.float64)\n",
      "torch.Size([128, 2, 2])\n",
      "tensor(0) tensor([0.8244, 0.1756], dtype=torch.float64)\n",
      "torch.Size([128, 2, 2])\n",
      "tensor(1) tensor([0.5235, 0.4765], dtype=torch.float64)\n",
      "torch.Size([128, 2, 2])\n",
      "tensor(1) tensor([0.3594, 0.6406], dtype=torch.float64)\n",
      "torch.Size([128, 2, 2])\n",
      "tensor(1) tensor([0.3344, 0.6656], dtype=torch.float64)\n",
      "torch.Size([128, 2, 2])\n",
      "tensor(0) tensor([0.2902, 0.7098], dtype=torch.float64)\n",
      "torch.Size([128, 2, 2])\n",
      "tensor(1) tensor([0.7048, 0.2952], dtype=torch.float64)\n",
      "torch.Size([128, 2, 2])\n",
      "tensor(1) tensor([0.5088, 0.4912], dtype=torch.float64)\n",
      "torch.Size([128, 2, 2])\n",
      "tensor(1) tensor([0.6180, 0.3820], dtype=torch.float64)\n",
      "torch.Size([128, 2, 2])\n",
      "tensor(1) tensor([0.3442, 0.6558], dtype=torch.float64)\n",
      "torch.Size([128, 2, 2])\n",
      "tensor(0) tensor([0.4404, 0.5596], dtype=torch.float64)\n",
      "torch.Size([128, 2, 2])\n",
      "tensor(0) tensor([0.8554, 0.1446], dtype=torch.float64)\n",
      "torch.Size([128, 2, 2])\n",
      "tensor(1) tensor([0.4189, 0.5811], dtype=torch.float64)\n",
      "torch.Size([128, 2, 2])\n",
      "tensor(0) tensor([0.7576, 0.2424], dtype=torch.float64)\n",
      "torch.Size([128, 2, 2])\n",
      "tensor(0) tensor([0.8009, 0.1991], dtype=torch.float64)\n",
      "torch.Size([128, 2, 2])\n",
      "tensor(1) tensor([0.2582, 0.7418], dtype=torch.float64)\n",
      "torch.Size([128, 2, 2])\n",
      "tensor(0) tensor([0.5186, 0.4814], dtype=torch.float64)\n",
      "torch.Size([128, 2, 2])\n",
      "tensor(1) tensor([0.7141, 0.2859], dtype=torch.float64)\n",
      "torch.Size([128, 2, 2])\n",
      "tensor(1) tensor([0.6766, 0.3234], dtype=torch.float64)\n",
      "torch.Size([128, 2, 2])\n",
      "tensor(0) tensor([0.4864, 0.5136], dtype=torch.float64)\n",
      "torch.Size([128, 2, 2])\n",
      "tensor(1) tensor([0.2169, 0.7831], dtype=torch.float64)\n",
      "torch.Size([128, 2, 2])\n",
      "tensor(1) tensor([0.6719, 0.3281], dtype=torch.float64)\n",
      "torch.Size([128, 2, 2])\n",
      "tensor(1) tensor([0.3792, 0.6208], dtype=torch.float64)\n",
      "torch.Size([128, 2, 2])\n",
      "tensor(0) tensor([0.4322, 0.5678], dtype=torch.float64)\n",
      "torch.Size([128, 2, 2])\n",
      "tensor(0) tensor([0.5003, 0.4997], dtype=torch.float64)\n",
      "torch.Size([128, 2, 2])\n",
      "tensor(1) tensor([0.6295, 0.3705], dtype=torch.float64)\n",
      "torch.Size([128, 2, 2])\n",
      "tensor(0) tensor([0.5874, 0.4126], dtype=torch.float64)\n",
      "torch.Size([128, 2, 2])\n",
      "tensor(0) tensor([0.6091, 0.3909], dtype=torch.float64)\n",
      "torch.Size([128, 2, 2])\n",
      "tensor(1) tensor([0.5955, 0.4045], dtype=torch.float64)\n",
      "torch.Size([128, 2, 2])\n",
      "tensor(0) tensor([0.7758, 0.2242], dtype=torch.float64)\n",
      "torch.Size([128, 2, 2])\n",
      "tensor(0) tensor([0.6477, 0.3523], dtype=torch.float64)\n",
      "torch.Size([128, 2, 2])\n",
      "tensor(0) tensor([0.5938, 0.4062], dtype=torch.float64)\n",
      "torch.Size([128, 2, 2])\n",
      "tensor(0) tensor([0.7991, 0.2009], dtype=torch.float64)\n",
      "torch.Size([128, 2, 2])\n",
      "tensor(1) tensor([0.4247, 0.5753], dtype=torch.float64)\n",
      "torch.Size([128, 2, 2])\n",
      "tensor(1) tensor([0.5560, 0.4440], dtype=torch.float64)\n",
      "torch.Size([128, 2, 2])\n",
      "tensor(0) tensor([0.5658, 0.4342], dtype=torch.float64)\n",
      "torch.Size([128, 2, 2])\n",
      "tensor(1) tensor([0.3333, 0.6667], dtype=torch.float64)\n",
      "torch.Size([128, 2, 2])\n",
      "tensor(0) tensor([0.8468, 0.1532], dtype=torch.float64)\n",
      "torch.Size([128, 2, 2])\n",
      "tensor(1) tensor([0.6206, 0.3794], dtype=torch.float64)\n",
      "torch.Size([128, 2, 2])\n",
      "tensor(1) tensor([0.6125, 0.3875], dtype=torch.float64)\n",
      "torch.Size([128, 2, 2])\n",
      "tensor(0) tensor([0.5668, 0.4332], dtype=torch.float64)\n",
      "torch.Size([128, 2, 2])\n",
      "tensor(0) tensor([0.4284, 0.5716], dtype=torch.float64)\n",
      "torch.Size([128, 2, 2])\n",
      "tensor(1) "
     ]
    },
    {
     "name": "stderr",
     "output_type": "stream",
     "text": [
      " 22%|██▏       | 561/2494 [00:01<00:06, 305.98it/s]"
     ]
    },
    {
     "name": "stdout",
     "output_type": "stream",
     "text": [
      "tensor([0.3540, 0.6460], dtype=torch.float64)\n",
      "torch.Size([128, 2, 2])\n",
      "tensor(1) tensor([0.8382, 0.1618], dtype=torch.float64)\n",
      "torch.Size([128, 2, 2])\n",
      "tensor(0) tensor([0.6519, 0.3481], dtype=torch.float64)\n",
      "torch.Size([128, 2, 2])\n",
      "tensor(1) tensor([0.4010, 0.5990], dtype=torch.float64)\n",
      "torch.Size([128, 2, 2])\n",
      "tensor(1) tensor([0.6359, 0.3641], dtype=torch.float64)\n",
      "torch.Size([128, 2, 2])\n",
      "tensor(0) tensor([0.6521, 0.3479], dtype=torch.float64)\n",
      "torch.Size([128, 2, 2])\n",
      "tensor(1) tensor([0.5507, 0.4493], dtype=torch.float64)\n",
      "torch.Size([128, 2, 2])\n",
      "tensor(1) tensor([0.4034, 0.5966], dtype=torch.float64)\n",
      "torch.Size([128, 2, 2])\n",
      "tensor(0) tensor([0.4699, 0.5301], dtype=torch.float64)\n",
      "torch.Size([128, 2, 2])\n",
      "tensor(1) tensor([0.3397, 0.6603], dtype=torch.float64)\n",
      "torch.Size([128, 2, 2])\n",
      "tensor(1) tensor([0.4524, 0.5476], dtype=torch.float64)\n",
      "torch.Size([128, 2, 2])\n",
      "tensor(1) tensor([0.4864, 0.5136], dtype=torch.float64)\n",
      "torch.Size([128, 2, 2])\n",
      "tensor(0) tensor([0.7843, 0.2157], dtype=torch.float64)\n",
      "torch.Size([128, 2, 2])\n",
      "tensor(1) tensor([0.7040, 0.2960], dtype=torch.float64)\n",
      "torch.Size([128, 2, 2])\n",
      "tensor(0) tensor([0.7040, 0.2960], dtype=torch.float64)\n",
      "torch.Size([128, 2, 2])\n",
      "tensor(1) tensor([0.6959, 0.3041], dtype=torch.float64)\n",
      "torch.Size([128, 2, 2])\n",
      "tensor(0) tensor([0.7305, 0.2695], dtype=torch.float64)\n",
      "torch.Size([128, 2, 2])\n",
      "tensor(1) tensor([0.5314, 0.4686], dtype=torch.float64)\n",
      "torch.Size([128, 2, 2])\n",
      "tensor(1) tensor([0.2642, 0.7358], dtype=torch.float64)\n",
      "torch.Size([128, 2, 2])\n",
      "tensor(0) tensor([0.5119, 0.4881], dtype=torch.float64)\n",
      "torch.Size([128, 2, 2])\n",
      "tensor(0) tensor([0.5118, 0.4882], dtype=torch.float64)\n",
      "torch.Size([128, 2, 2])\n",
      "tensor(1) tensor([0.3901, 0.6099], dtype=torch.float64)\n",
      "torch.Size([128, 2, 2])\n",
      "tensor(1) tensor([0.4994, 0.5006], dtype=torch.float64)\n",
      "torch.Size([128, 2, 2])\n",
      "tensor(0) tensor([0.6091, 0.3909], dtype=torch.float64)\n",
      "torch.Size([128, 2, 2])\n",
      "tensor(0) tensor([0.5928, 0.4072], dtype=torch.float64)\n",
      "torch.Size([128, 2, 2])\n",
      "tensor(1) tensor([0.4144, 0.5856], dtype=torch.float64)\n",
      "torch.Size([128, 2, 2])\n",
      "tensor(0) tensor([0.6568, 0.3432], dtype=torch.float64)\n",
      "torch.Size([128, 2, 2])\n",
      "tensor(0) tensor([0.7810, 0.2190], dtype=torch.float64)\n",
      "torch.Size([128, 2, 2])\n",
      "tensor(0) tensor([0.8478, 0.1522], dtype=torch.float64)\n",
      "torch.Size([128, 2, 2])\n",
      "tensor(0) tensor([0.6975, 0.3025], dtype=torch.float64)\n",
      "torch.Size([128, 2, 2])\n",
      "tensor(0) tensor([0.4723, 0.5277], dtype=torch.float64)\n",
      "torch.Size([128, 2, 2])\n",
      "tensor(0) tensor([0.5257, 0.4743], dtype=torch.float64)\n",
      "torch.Size([128, 2, 2])\n",
      "tensor(1) tensor([0.4897, 0.5103], dtype=torch.float64)\n",
      "torch.Size([128, 2, 2])\n",
      "tensor(0) tensor([0.8275, 0.1725], dtype=torch.float64)\n",
      "torch.Size([128, 2, 2])\n",
      "tensor(1) tensor([0.3727, 0.6273], dtype=torch.float64)\n",
      "torch.Size([128, 2, 2])\n",
      "tensor(0) tensor([0.5146, 0.4854], dtype=torch.float64)\n",
      "torch.Size([128, 2, 2])\n",
      "tensor(0) tensor([0.7185, 0.2815], dtype=torch.float64)\n",
      "torch.Size([128, 2, 2])\n",
      "tensor(1) tensor([0.5805, 0.4195], dtype=torch.float64)\n",
      "torch.Size([128, 2, 2])\n",
      "tensor(1) tensor([0.6132, 0.3868], dtype=torch.float64)\n",
      "torch.Size([128, 2, 2])\n",
      "tensor(0) tensor([0.4539, 0.5461], dtype=torch.float64)\n",
      "torch.Size([128, 2, 2])\n",
      "tensor(0) tensor([0.7661, 0.2339], dtype=torch.float64)\n",
      "torch.Size([128, 2, 2])\n",
      "tensor(1) tensor([0.6455, 0.3545], dtype=torch.float64)\n",
      "torch.Size([128, 2, 2])\n",
      "tensor(0) tensor([0.8134, 0.1866], dtype=torch.float64)\n",
      "torch.Size([128, 2, 2])\n",
      "tensor(0) tensor([0.6068, 0.3932], dtype=torch.float64)\n",
      "torch.Size([128, 2, 2])\n",
      "tensor(0) tensor([0.8148, 0.1852], dtype=torch.float64)\n",
      "torch.Size([128, 2, 2])\n",
      "tensor(1) tensor([0.5119, 0.4881], dtype=torch.float64)\n",
      "torch.Size([128, 2, 2])\n",
      "tensor(1) tensor([0.7110, 0.2890], dtype=torch.float64)\n",
      "torch.Size([128, 2, 2])\n",
      "tensor(0) tensor([0.8621, 0.1379], dtype=torch.float64)\n",
      "torch.Size([128, 2, 2])\n",
      "tensor(0) tensor([0.5946, 0.4054], dtype=torch.float64)\n",
      "torch.Size([128, 2, 2])\n",
      "tensor(0) tensor([0.5266, 0.4734], dtype=torch.float64)\n",
      "torch.Size([128, 2, 2])\n",
      "tensor(1) tensor([0.2919, 0.7081], dtype=torch.float64)\n",
      "torch.Size([128, 2, 2])\n",
      "tensor(1) tensor([0.5067, 0.4933], dtype=torch.float64)\n",
      "torch.Size([128, 2, 2])\n",
      "tensor(1) tensor([0.4079, 0.5921], dtype=torch.float64)\n",
      "torch.Size([128, 2, 2])\n",
      "tensor(0) tensor([0.4285, 0.5715], dtype=torch.float64)\n",
      "torch.Size([128, 2, 2])\n",
      "tensor(1) tensor([0.3321, 0.6679], dtype=torch.float64)\n",
      "torch.Size([128, 2, 2])\n",
      "tensor(0) tensor([0.8070, 0.1930], dtype=torch.float64)\n",
      "torch.Size([128, 2, 2])\n",
      "tensor(0) tensor([0.5222, 0.4778], dtype=torch.float64)\n",
      "torch.Size([128, 2, 2])\n",
      "tensor(1) tensor([0.5691, 0.4309], dtype=torch.float64)\n",
      "torch.Size([128, 2, 2])\n",
      "tensor(0) tensor([0.7769, 0.2231], dtype=torch.float64)\n",
      "torch.Size([128, 2, 2])\n",
      "tensor(0) tensor([0.6228, 0.3772], dtype=torch.float64)\n",
      "torch.Size([128, 2, 2])\n",
      "tensor(0) tensor([0.6602, 0.3398], dtype=torch.float64)\n",
      "torch.Size([128, 2, 2])\n"
     ]
    },
    {
     "name": "stderr",
     "output_type": "stream",
     "text": [
      " 25%|██▌       | 624/2494 [00:02<00:06, 307.30it/s]"
     ]
    },
    {
     "name": "stdout",
     "output_type": "stream",
     "text": [
      "tensor(0) tensor([0.7890, 0.2110], dtype=torch.float64)\n",
      "torch.Size([128, 2, 2])\n",
      "tensor(0) tensor([0.3754, 0.6246], dtype=torch.float64)\n",
      "torch.Size([128, 2, 2])\n",
      "tensor(1) tensor([0.6703, 0.3297], dtype=torch.float64)\n",
      "torch.Size([128, 2, 2])\n",
      "tensor(0) tensor([0.5321, 0.4679], dtype=torch.float64)\n",
      "torch.Size([128, 2, 2])\n",
      "tensor(0) tensor([0.7429, 0.2571], dtype=torch.float64)\n",
      "torch.Size([128, 2, 2])\n",
      "tensor(0) tensor([0.7546, 0.2454], dtype=torch.float64)\n",
      "torch.Size([128, 2, 2])\n",
      "tensor(1) tensor([0.6816, 0.3184], dtype=torch.float64)\n",
      "torch.Size([128, 2, 2])\n",
      "tensor(0) tensor([0.8176, 0.1824], dtype=torch.float64)\n",
      "torch.Size([128, 2, 2])\n",
      "tensor(0) tensor([0.6850, 0.3150], dtype=torch.float64)\n",
      "torch.Size([128, 2, 2])\n",
      "tensor(1) tensor([0.5836, 0.4164], dtype=torch.float64)\n",
      "torch.Size([128, 2, 2])\n",
      "tensor(1) tensor([0.3843, 0.6157], dtype=torch.float64)\n",
      "torch.Size([128, 2, 2])\n",
      "tensor(0) tensor([0.7161, 0.2839], dtype=torch.float64)\n",
      "torch.Size([128, 2, 2])\n",
      "tensor(0) tensor([0.7757, 0.2243], dtype=torch.float64)\n",
      "torch.Size([128, 2, 2])\n",
      "tensor(0) tensor([0.5599, 0.4401], dtype=torch.float64)\n",
      "torch.Size([128, 2, 2])\n",
      "tensor(1) tensor([0.4777, 0.5223], dtype=torch.float64)\n",
      "torch.Size([128, 2, 2])\n",
      "tensor(0) tensor([0.3824, 0.6176], dtype=torch.float64)\n",
      "torch.Size([128, 2, 2])\n",
      "tensor(1) tensor([0.6280, 0.3720], dtype=torch.float64)\n",
      "torch.Size([128, 2, 2])\n",
      "tensor(0) tensor([0.5532, 0.4468], dtype=torch.float64)\n",
      "torch.Size([128, 2, 2])\n",
      "tensor(0) tensor([0.5757, 0.4243], dtype=torch.float64)\n",
      "torch.Size([128, 2, 2])\n",
      "tensor(1) tensor([0.5940, 0.4060], dtype=torch.float64)\n",
      "torch.Size([128, 2, 2])\n",
      "tensor(0) tensor([0.4103, 0.5897], dtype=torch.float64)\n",
      "torch.Size([128, 2, 2])\n",
      "tensor(0) tensor([0.7411, 0.2589], dtype=torch.float64)\n",
      "torch.Size([128, 2, 2])\n",
      "tensor(0) tensor([0.6467, 0.3533], dtype=torch.float64)\n",
      "torch.Size([128, 2, 2])\n",
      "tensor(0) tensor([0.6642, 0.3358], dtype=torch.float64)\n",
      "torch.Size([128, 2, 2])\n",
      "tensor(1) tensor([0.4727, 0.5273], dtype=torch.float64)\n",
      "torch.Size([128, 2, 2])\n",
      "tensor(1) tensor([0.3366, 0.6634], dtype=torch.float64)\n",
      "torch.Size([128, 2, 2])\n",
      "tensor(0) tensor([0.4678, 0.5322], dtype=torch.float64)\n",
      "torch.Size([128, 2, 2])\n",
      "tensor(1) tensor([0.4165, 0.5835], dtype=torch.float64)\n",
      "torch.Size([128, 2, 2])\n",
      "tensor(0) tensor([0.4760, 0.5240], dtype=torch.float64)\n",
      "torch.Size([128, 2, 2])\n",
      "tensor(0) tensor([0.6879, 0.3121], dtype=torch.float64)\n",
      "torch.Size([128, 2, 2])\n",
      "tensor(1) tensor([0.8194, 0.1806], dtype=torch.float64)\n",
      "torch.Size([128, 2, 2])\n",
      "tensor(1) tensor([0.3854, 0.6146], dtype=torch.float64)\n",
      "torch.Size([128, 2, 2])\n",
      "tensor(0) tensor([0.4688, 0.5312], dtype=torch.float64)\n",
      "torch.Size([128, 2, 2])\n",
      "tensor(1) tensor([0.6194, 0.3806], dtype=torch.float64)\n",
      "torch.Size([128, 2, 2])\n",
      "tensor(0) tensor([0.5105, 0.4895], dtype=torch.float64)\n",
      "torch.Size([128, 2, 2])\n",
      "tensor(1) tensor([0.3817, 0.6183], dtype=torch.float64)\n",
      "torch.Size([128, 2, 2])\n",
      "tensor(0) tensor([0.8278, 0.1722], dtype=torch.float64)\n",
      "torch.Size([128, 2, 2])\n",
      "tensor(0) tensor([0.6828, 0.3172], dtype=torch.float64)\n",
      "torch.Size([128, 2, 2])\n",
      "tensor(0) tensor([0.3656, 0.6344], dtype=torch.float64)\n",
      "torch.Size([128, 2, 2])\n",
      "tensor(0) tensor([0.3147, 0.6853], dtype=torch.float64)\n",
      "torch.Size([128, 2, 2])\n",
      "tensor(0) tensor([0.7144, 0.2856], dtype=torch.float64)\n",
      "torch.Size([128, 2, 2])\n",
      "tensor(1) tensor([0.3996, 0.6004], dtype=torch.float64)\n",
      "torch.Size([128, 2, 2])\n",
      "tensor(1) tensor([0.4090, 0.5910], dtype=torch.float64)\n",
      "torch.Size([128, 2, 2])\n",
      "tensor(1) tensor([0.6171, 0.3829], dtype=torch.float64)\n",
      "torch.Size([128, 2, 2])\n",
      "tensor(1) tensor([0.6937, 0.3063], dtype=torch.float64)\n",
      "torch.Size([128, 2, 2])\n",
      "tensor(1) tensor([0.6235, 0.3765], dtype=torch.float64)\n",
      "torch.Size([128, 2, 2])\n",
      "tensor(1) tensor([0.2856, 0.7144], dtype=torch.float64)\n",
      "torch.Size([128, 2, 2])\n",
      "tensor(1) tensor([0.5560, 0.4440], dtype=torch.float64)\n",
      "torch.Size([128, 2, 2])\n",
      "tensor(1) tensor([0.7684, 0.2316], dtype=torch.float64)\n",
      "torch.Size([128, 2, 2])\n",
      "tensor(0) tensor([0.5788, 0.4212], dtype=torch.float64)\n",
      "torch.Size([128, 2, 2])\n",
      "tensor(0) tensor([0.6765, 0.3235], dtype=torch.float64)\n",
      "torch.Size([128, 2, 2])\n",
      "tensor(0) tensor([0.7796, 0.2204], dtype=torch.float64)\n",
      "torch.Size([128, 2, 2])\n",
      "tensor(0) tensor([0.5020, 0.4980], dtype=torch.float64)\n",
      "torch.Size([128, 2, 2])\n",
      "tensor(1) tensor([0.5325, 0.4675], dtype=torch.float64)\n",
      "torch.Size([128, 2, 2])\n",
      "tensor(1) tensor([0.3770, 0.6230], dtype=torch.float64)\n",
      "torch.Size([128, 2, 2])\n",
      "tensor(1) tensor([0.4711, 0.5289], dtype=torch.float64)\n",
      "torch.Size([128, 2, 2])\n",
      "tensor(1) tensor([0.7644, 0.2356], dtype=torch.float64)\n",
      "torch.Size([128, 2, 2])\n",
      "tensor(1) tensor([0.7022, 0.2978], dtype=torch.float64)\n",
      "torch.Size([128, 2, 2])\n",
      "tensor(0) tensor([0.8710, 0.1290], dtype=torch.float64)\n",
      "torch.Size([128, 2, 2])\n",
      "tensor(1) tensor([0.4426, 0.5574], dtype=torch.float64)\n",
      "torch.Size([128, 2, 2])\n",
      "tensor(0) tensor([0.5172, 0.4828], dtype=torch.float64)\n",
      "torch.Size([128, 2, 2])\n",
      "tensor(0) tensor([0.3295, 0.6705], dtype=torch.float64)\n"
     ]
    },
    {
     "name": "stderr",
     "output_type": "stream",
     "text": [
      "\r",
      " 26%|██▋       | 655/2494 [00:02<00:06, 294.44it/s]"
     ]
    },
    {
     "name": "stdout",
     "output_type": "stream",
     "text": [
      "torch.Size([128, 2, 2])\n",
      "tensor(1) tensor([0.3797, 0.6203], dtype=torch.float64)\n",
      "torch.Size([128, 2, 2])\n",
      "tensor(0) tensor([0.7734, 0.2266], dtype=torch.float64)\n",
      "torch.Size([128, 2, 2])\n",
      "tensor(0) tensor([0.6083, 0.3917], dtype=torch.float64)\n",
      "torch.Size([128, 2, 2])\n",
      "tensor(0) tensor([0.6557, 0.3443], dtype=torch.float64)\n",
      "torch.Size([128, 2, 2])\n",
      "tensor(0) tensor([0.5983, 0.4017], dtype=torch.float64)\n",
      "torch.Size([128, 2, 2])\n",
      "tensor(0) tensor([0.4098, 0.5902], dtype=torch.float64)\n",
      "torch.Size([128, 2, 2])\n",
      "tensor(1) tensor([0.3800, 0.6200], dtype=torch.float64)\n",
      "torch.Size([128, 2, 2])\n",
      "tensor(1) tensor([0.5390, 0.4610], dtype=torch.float64)\n",
      "torch.Size([128, 2, 2])\n",
      "tensor(0) tensor([0.6573, 0.3427], dtype=torch.float64)\n",
      "torch.Size([128, 2, 2])\n",
      "tensor(1) tensor([0.2902, 0.7098], dtype=torch.float64)\n",
      "torch.Size([128, 2, 2])\n",
      "tensor(0) tensor([0.4416, 0.5584], dtype=torch.float64)\n",
      "torch.Size([128, 2, 2])\n",
      "tensor(0) tensor([0.8286, 0.1714], dtype=torch.float64)\n",
      "torch.Size([128, 2, 2])\n",
      "tensor(1) tensor([0.7082, 0.2918], dtype=torch.float64)\n",
      "torch.Size([128, 2, 2])\n",
      "tensor(1) tensor([0.3229, 0.6771], dtype=torch.float64)\n",
      "torch.Size([128, 2, 2])\n",
      "tensor(0) tensor([0.4170, 0.5830], dtype=torch.float64)\n",
      "torch.Size([128, 2, 2])\n",
      "tensor(0) tensor([0.4141, 0.5859], dtype=torch.float64)\n",
      "torch.Size([128, 2, 2])\n",
      "tensor(1) tensor([0.6428, 0.3572], dtype=torch.float64)\n",
      "torch.Size([128, 2, 2])\n",
      "tensor(0) tensor([0.7045, 0.2955], dtype=torch.float64)\n",
      "torch.Size([128, 2, 2])\n",
      "tensor(0) tensor([0.3450, 0.6550], dtype=torch.float64)\n",
      "torch.Size([128, 2, 2])\n",
      "tensor(0) tensor([0.2090, 0.7910], dtype=torch.float64)\n",
      "torch.Size([128, 2, 2])\n",
      "tensor(0) tensor([0.8065, 0.1935], dtype=torch.float64)\n",
      "torch.Size([128, 2, 2])\n",
      "tensor(1) tensor([0.2962, 0.7038], dtype=torch.float64)\n",
      "torch.Size([128, 2, 2])\n",
      "tensor(0) tensor([0.3712, 0.6288], dtype=torch.float64)\n",
      "torch.Size([128, 2, 2])\n",
      "tensor(1) tensor([0.2154, 0.7846], dtype=torch.float64)\n",
      "torch.Size([128, 2, 2])\n",
      "tensor(0) tensor([0.6808, 0.3192], dtype=torch.float64)\n",
      "torch.Size([128, 2, 2])\n",
      "tensor(0) tensor([0.5599, 0.4401], dtype=torch.float64)\n",
      "torch.Size([128, 2, 2])\n",
      "tensor(1) tensor([0.8443, 0.1557], dtype=torch.float64)\n",
      "torch.Size([128, 2, 2])\n",
      "tensor(0) tensor([0.5203, 0.4797], dtype=torch.float64)\n",
      "torch.Size([128, 2, 2])\n",
      "tensor(0) tensor([0.8183, 0.1817], dtype=torch.float64)\n",
      "torch.Size([128, 2, 2])\n",
      "tensor(1) tensor([0.4435, 0.5565], dtype=torch.float64)\n",
      "torch.Size([128, 2, 2])\n",
      "tensor(0) tensor([0.5129, 0.4871], dtype=torch.float64)\n",
      "torch.Size([128, 2, 2])\n",
      "tensor(0) tensor([0.6554, 0.3446], dtype=torch.float64)\n",
      "torch.Size([128, 2, 2])\n",
      "tensor(1) tensor([0.3226, 0.6774], dtype=torch.float64)\n",
      "torch.Size([128, 2, 2])\n",
      "tensor(1) tensor([0.4477, 0.5523], dtype=torch.float64)\n",
      "torch.Size([128, 2, 2])\n",
      "tensor(1) tensor([0.6531, 0.3469], dtype=torch.float64)\n",
      "torch.Size([128, 2, 2])\n",
      "tensor(1) tensor([0.8234, 0.1766], dtype=torch.float64)\n",
      "torch.Size([128, 2, 2])\n",
      "tensor(1) tensor([0.3941, 0.6059], dtype=torch.float64)\n",
      "torch.Size([128, 2, 2])\n",
      "tensor(0) tensor([0.6315, 0.3685], dtype=torch.float64)\n",
      "torch.Size([128, 2, 2])\n",
      "tensor(1) tensor([0.2852, 0.7148], dtype=torch.float64)\n",
      "torch.Size([128, 2, 2])\n",
      "tensor(1) tensor([0.5798, 0.4202], dtype=torch.float64)\n",
      "torch.Size([128, 2, 2])\n",
      "tensor(1) tensor([0.8595, 0.1405], dtype=torch.float64)\n",
      "torch.Size([128, 2, 2])\n",
      "tensor(0) tensor([0.6201, 0.3799], dtype=torch.float64)\n",
      "torch.Size([128, 2, 2])\n",
      "tensor(1) tensor([0.6290, 0.3710], dtype=torch.float64)\n",
      "torch.Size([128, 2, 2])\n",
      "tensor(0) tensor([0.5500, 0.4500], dtype=torch.float64)\n",
      "torch.Size([128, 2, 2])\n",
      "tensor(1) tensor([0.7261, 0.2739], dtype=torch.float64)\n",
      "torch.Size([128, 2, 2])\n",
      "tensor(1) tensor([0.7240, 0.2760], dtype=torch.float64)\n",
      "torch.Size([128, 2, 2])\n",
      "tensor(1) tensor([0.6868, 0.3132], dtype=torch.float64)\n",
      "torch.Size([128, 2, 2])\n",
      "tensor(1) tensor([0.6679, 0.3321], dtype=torch.float64)\n",
      "torch.Size([128, 2, 2])\n",
      "tensor(1) tensor([0.5790, 0.4210], dtype=torch.float64)\n",
      "torch.Size([128, 2, 2])\n",
      "tensor(0) tensor([0.4825, 0.5175], dtype=torch.float64)\n",
      "torch.Size([128, 2, 2])\n",
      "tensor(1) tensor([0.2802, 0.7198], dtype=torch.float64)\n",
      "torch.Size([128, 2, 2])\n",
      "tensor(0) tensor([0.7221, 0.2779], dtype=torch.float64)\n",
      "torch.Size([128, 2, 2])\n",
      "tensor(0) tensor([0.6968, 0.3032], dtype=torch.float64)\n",
      "torch.Size([128, 2, 2])\n",
      "tensor(0) tensor([0.7403, 0.2597], dtype=torch.float64)\n",
      "torch.Size([128, 2, 2])\n",
      "tensor(0) tensor([0.6795, 0.3205], dtype=torch.float64)\n",
      "torch.Size([128, 2, 2])\n",
      "tensor(0) tensor([0.6455, 0.3545], dtype=torch.float64)\n",
      "torch.Size([128, 2, 2])\n",
      "tensor(0) tensor([0.6866, 0.3134], dtype=torch.float64)\n",
      "torch.Size([128, 2, 2])\n",
      "tensor(1) tensor([0.4937, 0.5063], dtype=torch.float64)\n",
      "torch.Size([128, 2, 2])\n",
      "tensor(0) tensor([0.7952, 0.2048], dtype=torch.float64)\n"
     ]
    },
    {
     "name": "stderr",
     "output_type": "stream",
     "text": [
      " 29%|██▉       | 720/2494 [00:02<00:05, 307.58it/s]"
     ]
    },
    {
     "name": "stdout",
     "output_type": "stream",
     "text": [
      "torch.Size([128, 2, 2])\n",
      "tensor(1) tensor([0.5164, 0.4836], dtype=torch.float64)\n",
      "torch.Size([128, 2, 2])\n",
      "tensor(1) tensor([0.7003, 0.2997], dtype=torch.float64)\n",
      "torch.Size([128, 2, 2])\n",
      "tensor(1) tensor([0.5336, 0.4664], dtype=torch.float64)\n",
      "torch.Size([128, 2, 2])\n",
      "tensor(0) tensor([0.4014, 0.5986], dtype=torch.float64)\n",
      "torch.Size([128, 2, 2])\n",
      "tensor(0) tensor([0.5679, 0.4321], dtype=torch.float64)\n",
      "torch.Size([128, 2, 2])\n",
      "tensor(0) tensor([0.7651, 0.2349], dtype=torch.float64)\n",
      "torch.Size([128, 2, 2])\n",
      "tensor(1) tensor([0.6766, 0.3234], dtype=torch.float64)\n",
      "torch.Size([128, 2, 2])\n",
      "tensor(1) tensor([0.3300, 0.6700], dtype=torch.float64)\n",
      "torch.Size([128, 2, 2])\n",
      "tensor(1) tensor([0.5622, 0.4378], dtype=torch.float64)\n",
      "torch.Size([128, 2, 2])\n",
      "tensor(0) tensor([0.5470, 0.4530], dtype=torch.float64)\n",
      "torch.Size([128, 2, 2])\n",
      "tensor(1) tensor([0.3355, 0.6645], dtype=torch.float64)\n",
      "torch.Size([128, 2, 2])\n",
      "tensor(1) tensor([0.5188, 0.4812], dtype=torch.float64)\n",
      "torch.Size([128, 2, 2])\n",
      "tensor(0) tensor([0.5763, 0.4237], dtype=torch.float64)\n",
      "torch.Size([128, 2, 2])\n",
      "tensor(0) tensor([0.4115, 0.5885], dtype=torch.float64)\n",
      "torch.Size([128, 2, 2])\n",
      "tensor(0) tensor([0.7745, 0.2255], dtype=torch.float64)\n",
      "torch.Size([128, 2, 2])\n",
      "tensor(1) tensor([0.5146, 0.4854], dtype=torch.float64)\n",
      "torch.Size([128, 2, 2])\n",
      "tensor(0) tensor([0.5003, 0.4997], dtype=torch.float64)\n",
      "torch.Size([128, 2, 2])\n",
      "tensor(1) tensor([0.5962, 0.4038], dtype=torch.float64)\n",
      "torch.Size([128, 2, 2])\n",
      "tensor(1) tensor([0.4094, 0.5906], dtype=torch.float64)\n",
      "torch.Size([128, 2, 2])\n",
      "tensor(1) tensor([0.5161, 0.4839], dtype=torch.float64)\n",
      "torch.Size([128, 2, 2])\n",
      "tensor(0) tensor([0.5889, 0.4111], dtype=torch.float64)\n",
      "torch.Size([128, 2, 2])\n",
      "tensor(0) tensor([0.6865, 0.3135], dtype=torch.float64)\n",
      "torch.Size([128, 2, 2])\n",
      "tensor(0) tensor([0.4146, 0.5854], dtype=torch.float64)\n",
      "torch.Size([128, 2, 2])\n",
      "tensor(0) tensor([0.6632, 0.3368], dtype=torch.float64)\n",
      "torch.Size([128, 2, 2])\n",
      "tensor(1) tensor([0.4648, 0.5352], dtype=torch.float64)\n",
      "torch.Size([128, 2, 2])\n",
      "tensor(1) tensor([0.3117, 0.6883], dtype=torch.float64)\n",
      "torch.Size([128, 2, 2])\n",
      "tensor(0) tensor([0.7557, 0.2443], dtype=torch.float64)\n",
      "torch.Size([128, 2, 2])\n",
      "tensor(0) tensor([0.8726, 0.1274], dtype=torch.float64)\n",
      "torch.Size([128, 2, 2])\n",
      "tensor(1) tensor([0.3919, 0.6081], dtype=torch.float64)\n",
      "torch.Size([128, 2, 2])\n",
      "tensor(0) tensor([0.9205, 0.0795], dtype=torch.float64)\n",
      "torch.Size([128, 2, 2])\n",
      "tensor(1) tensor([0.3590, 0.6410], dtype=torch.float64)\n",
      "torch.Size([128, 2, 2])\n",
      "tensor(1) tensor([0.7501, 0.2499], dtype=torch.float64)\n",
      "torch.Size([128, 2, 2])\n",
      "tensor(0) tensor([0.6643, 0.3357], dtype=torch.float64)\n",
      "torch.Size([128, 2, 2])\n",
      "tensor(1) tensor([0.5242, 0.4758], dtype=torch.float64)\n",
      "torch.Size([128, 2, 2])\n",
      "tensor(0) tensor([0.8367, 0.1633], dtype=torch.float64)\n",
      "torch.Size([128, 2, 2])\n",
      "tensor(1) tensor([0.6226, 0.3774], dtype=torch.float64)\n",
      "torch.Size([128, 2, 2])\n",
      "tensor(1) tensor([0.7377, 0.2623], dtype=torch.float64)\n",
      "torch.Size([128, 2, 2])\n",
      "tensor(1) tensor([0.7882, 0.2118], dtype=torch.float64)\n",
      "torch.Size([128, 2, 2])\n",
      "tensor(0) tensor([0.6380, 0.3620], dtype=torch.float64)\n",
      "torch.Size([128, 2, 2])\n",
      "tensor(0) tensor([0.6439, 0.3561], dtype=torch.float64)\n",
      "torch.Size([128, 2, 2])\n",
      "tensor(0) tensor([0.5733, 0.4267], dtype=torch.float64)\n",
      "torch.Size([128, 2, 2])\n",
      "tensor(0) tensor([0.5561, 0.4439], dtype=torch.float64)\n",
      "torch.Size([128, 2, 2])\n",
      "tensor(1) tensor([0.5996, 0.4004], dtype=torch.float64)\n",
      "torch.Size([128, 2, 2])\n",
      "tensor(1) tensor([0.5431, 0.4569], dtype=torch.float64)\n",
      "torch.Size([128, 2, 2])\n",
      "tensor(0) tensor([0.6605, 0.3395], dtype=torch.float64)\n",
      "torch.Size([128, 2, 2])\n",
      "tensor(0) tensor([0.5879, 0.4121], dtype=torch.float64)\n",
      "torch.Size([128, 2, 2])\n",
      "tensor(1) tensor([0.4857, 0.5143], dtype=torch.float64)\n",
      "torch.Size([128, 2, 2])\n",
      "tensor(1) tensor([0.7315, 0.2685], dtype=torch.float64)\n",
      "torch.Size([128, 2, 2])\n",
      "tensor(1) tensor([0.7723, 0.2277], dtype=torch.float64)\n",
      "torch.Size([128, 2, 2])\n",
      "tensor(1) tensor([0.6608, 0.3392], dtype=torch.float64)\n",
      "torch.Size([128, 2, 2])\n",
      "tensor(1) tensor([0.4004, 0.5996], dtype=torch.float64)\n",
      "torch.Size([128, 2, 2])\n",
      "tensor(0) tensor([0.6432, 0.3568], dtype=torch.float64)\n",
      "torch.Size([128, 2, 2])\n",
      "tensor(1) tensor([0.5979, 0.4021], dtype=torch.float64)\n",
      "torch.Size([128, 2, 2])\n",
      "tensor(1) tensor([0.6429, 0.3571], dtype=torch.float64)\n",
      "torch.Size([128, 2, 2])\n",
      "tensor(1) tensor([0.4643, 0.5357], dtype=torch.float64)\n",
      "torch.Size([128, 2, 2])\n",
      "tensor(0) tensor([0.6074, 0.3926], dtype=torch.float64)\n",
      "torch.Size([128, 2, 2])\n",
      "tensor(0) tensor([0.4382, 0.5618], dtype=torch.float64)\n",
      "torch.Size([128, 2, 2])\n",
      "tensor(0) tensor([0.5621, 0.4379], dtype=torch.float64)\n",
      "torch.Size([128, 2, 2])\n",
      "tensor(0) tensor([0.5700, 0.4300], dtype=torch.float64)\n",
      "torch.Size([128, 2, 2])\n",
      "tensor(1) tensor([0.5585, 0.4415], dtype=torch.float64)\n",
      "torch.Size([128, 2, 2])\n",
      "tensor(0) tensor([0.6384, 0.3616], dtype=torch.float64)\n",
      "torch.Size([128, 2, 2])\n",
      "tensor(1) tensor([0.2641, 0.7359], dtype=torch.float64)\n",
      "torch.Size([128, 2, 2])\n",
      "tensor(1) tensor([0.2410, 0.7590], dtype=torch.float64)\n",
      "torch.Size([128, 2, 2])\n",
      "tensor(0) tensor([0.5385, 0.4615], dtype=torch.float64)\n",
      "torch.Size([128, 2, 2])\n",
      "tensor(0) "
     ]
    },
    {
     "name": "stderr",
     "output_type": "stream",
     "text": [
      " 31%|███▏      | 784/2494 [00:02<00:05, 311.24it/s]"
     ]
    },
    {
     "name": "stdout",
     "output_type": "stream",
     "text": [
      "tensor([0.4773, 0.5227], dtype=torch.float64)\n",
      "torch.Size([128, 2, 2])\n",
      "tensor(1) tensor([0.7906, 0.2094], dtype=torch.float64)\n",
      "torch.Size([128, 2, 2])\n",
      "tensor(1) tensor([0.5234, 0.4766], dtype=torch.float64)\n",
      "torch.Size([128, 2, 2])\n",
      "tensor(1) tensor([0.5409, 0.4591], dtype=torch.float64)\n",
      "torch.Size([128, 2, 2])\n",
      "tensor(1) tensor([0.3707, 0.6293], dtype=torch.float64)\n",
      "torch.Size([128, 2, 2])\n",
      "tensor(1) tensor([0.3475, 0.6525], dtype=torch.float64)\n",
      "torch.Size([128, 2, 2])\n",
      "tensor(1) tensor([0.6195, 0.3805], dtype=torch.float64)\n",
      "torch.Size([128, 2, 2])\n",
      "tensor(1) tensor([0.5106, 0.4894], dtype=torch.float64)\n",
      "torch.Size([128, 2, 2])\n",
      "tensor(1) tensor([0.3077, 0.6923], dtype=torch.float64)\n",
      "torch.Size([128, 2, 2])\n",
      "tensor(1) tensor([0.3847, 0.6153], dtype=torch.float64)\n",
      "torch.Size([128, 2, 2])\n",
      "tensor(1) tensor([0.6127, 0.3873], dtype=torch.float64)\n",
      "torch.Size([128, 2, 2])\n",
      "tensor(1) tensor([0.4427, 0.5573], dtype=torch.float64)\n",
      "torch.Size([128, 2, 2])\n",
      "tensor(1) tensor([0.3470, 0.6530], dtype=torch.float64)\n",
      "torch.Size([128, 2, 2])\n",
      "tensor(1) tensor([0.5409, 0.4591], dtype=torch.float64)\n",
      "torch.Size([128, 2, 2])\n",
      "tensor(0) tensor([0.7862, 0.2138], dtype=torch.float64)\n",
      "torch.Size([128, 2, 2])\n",
      "tensor(0) tensor([0.7331, 0.2669], dtype=torch.float64)\n",
      "torch.Size([128, 2, 2])\n",
      "tensor(1) tensor([0.3189, 0.6811], dtype=torch.float64)\n",
      "torch.Size([128, 2, 2])\n",
      "tensor(1) tensor([0.4162, 0.5838], dtype=torch.float64)\n",
      "torch.Size([128, 2, 2])\n",
      "tensor(0) tensor([0.4310, 0.5690], dtype=torch.float64)\n",
      "torch.Size([128, 2, 2])\n",
      "tensor(0) tensor([0.6365, 0.3635], dtype=torch.float64)\n",
      "torch.Size([128, 2, 2])\n",
      "tensor(1) tensor([0.5366, 0.4634], dtype=torch.float64)\n",
      "torch.Size([128, 2, 2])\n",
      "tensor(1) tensor([0.5491, 0.4509], dtype=torch.float64)\n",
      "torch.Size([128, 2, 2])\n",
      "tensor(1) tensor([0.5376, 0.4624], dtype=torch.float64)\n",
      "torch.Size([128, 2, 2])\n",
      "tensor(1) tensor([0.5189, 0.4811], dtype=torch.float64)\n",
      "torch.Size([128, 2, 2])\n",
      "tensor(0) tensor([0.6620, 0.3380], dtype=torch.float64)\n",
      "torch.Size([128, 2, 2])\n",
      "tensor(1) tensor([0.6174, 0.3826], dtype=torch.float64)\n",
      "torch.Size([128, 2, 2])\n",
      "tensor(0) tensor([0.6437, 0.3563], dtype=torch.float64)\n",
      "torch.Size([128, 2, 2])\n",
      "tensor(1) tensor([0.2942, 0.7058], dtype=torch.float64)\n",
      "torch.Size([128, 2, 2])\n",
      "tensor(1) tensor([0.6839, 0.3161], dtype=torch.float64)\n",
      "torch.Size([128, 2, 2])\n",
      "tensor(0) tensor([0.7935, 0.2065], dtype=torch.float64)\n",
      "torch.Size([128, 2, 2])\n",
      "tensor(0) tensor([0.4796, 0.5204], dtype=torch.float64)\n",
      "torch.Size([128, 2, 2])\n",
      "tensor(1) tensor([0.5009, 0.4991], dtype=torch.float64)\n",
      "torch.Size([128, 2, 2])\n",
      "tensor(1) tensor([0.4096, 0.5904], dtype=torch.float64)\n",
      "torch.Size([128, 2, 2])\n",
      "tensor(0) tensor([0.4843, 0.5157], dtype=torch.float64)\n",
      "torch.Size([128, 2, 2])\n",
      "tensor(0) tensor([0.7777, 0.2223], dtype=torch.float64)\n",
      "torch.Size([128, 2, 2])\n",
      "tensor(0) tensor([0.4731, 0.5269], dtype=torch.float64)\n",
      "torch.Size([128, 2, 2])\n",
      "tensor(0) tensor([0.5117, 0.4883], dtype=torch.float64)\n",
      "torch.Size([128, 2, 2])\n",
      "tensor(1) tensor([0.6268, 0.3732], dtype=torch.float64)\n",
      "torch.Size([128, 2, 2])\n",
      "tensor(0) tensor([0.7244, 0.2756], dtype=torch.float64)\n",
      "torch.Size([128, 2, 2])\n",
      "tensor(0) tensor([0.4773, 0.5227], dtype=torch.float64)\n",
      "torch.Size([128, 2, 2])\n",
      "tensor(0) tensor([0.5049, 0.4951], dtype=torch.float64)\n",
      "torch.Size([128, 2, 2])\n",
      "tensor(0) tensor([0.8563, 0.1437], dtype=torch.float64)\n",
      "torch.Size([128, 2, 2])\n",
      "tensor(1) tensor([0.5671, 0.4329], dtype=torch.float64)\n",
      "torch.Size([128, 2, 2])\n",
      "tensor(0) tensor([0.5295, 0.4705], dtype=torch.float64)\n",
      "torch.Size([128, 2, 2])\n",
      "tensor(0) tensor([0.4651, 0.5349], dtype=torch.float64)\n",
      "torch.Size([128, 2, 2])\n",
      "tensor(1) tensor([0.4342, 0.5658], dtype=torch.float64)\n",
      "torch.Size([128, 2, 2])\n",
      "tensor(1) tensor([0.5785, 0.4215], dtype=torch.float64)\n",
      "torch.Size([128, 2, 2])\n",
      "tensor(0) tensor([0.6125, 0.3875], dtype=torch.float64)\n",
      "torch.Size([128, 2, 2])\n",
      "tensor(1) tensor([0.3946, 0.6054], dtype=torch.float64)\n",
      "torch.Size([128, 2, 2])\n",
      "tensor(0) tensor([0.7323, 0.2677], dtype=torch.float64)\n",
      "torch.Size([128, 2, 2])\n",
      "tensor(1) tensor([0.3779, 0.6221], dtype=torch.float64)\n",
      "torch.Size([128, 2, 2])\n",
      "tensor(1) tensor([0.6114, 0.3886], dtype=torch.float64)\n",
      "torch.Size([128, 2, 2])\n",
      "tensor(1) tensor([0.6931, 0.3069], dtype=torch.float64)\n",
      "torch.Size([128, 2, 2])\n",
      "tensor(1) tensor([0.6482, 0.3518], dtype=torch.float64)\n",
      "torch.Size([128, 2, 2])\n",
      "tensor(1) tensor([0.3849, 0.6151], dtype=torch.float64)\n",
      "torch.Size([128, 2, 2])\n",
      "tensor(1) tensor([0.5621, 0.4379], dtype=torch.float64)\n",
      "torch.Size([128, 2, 2])\n",
      "tensor(0) tensor([0.7851, 0.2149], dtype=torch.float64)\n",
      "torch.Size([128, 2, 2])\n",
      "tensor(1) tensor([0.5981, 0.4019], dtype=torch.float64)\n",
      "torch.Size([128, 2, 2])\n",
      "tensor(1) tensor([0.4337, 0.5663], dtype=torch.float64)\n",
      "torch.Size([128, 2, 2])\n",
      "tensor(0) tensor([0.4520, 0.5480], dtype=torch.float64)\n",
      "torch.Size([128, 2, 2])\n",
      "tensor(1) tensor([0.2881, 0.7119], dtype=torch.float64)\n",
      "torch.Size([128, 2, 2])\n",
      "tensor(0) tensor([0.7860, 0.2140], dtype=torch.float64)\n",
      "torch.Size([128, 2, 2])\n",
      "tensor(1) tensor([0.5139, 0.4861], dtype=torch.float64)\n",
      "torch.Size([128, 2, 2])\n",
      "tensor(0) tensor([0.7133, 0.2867], dtype=torch.float64)\n"
     ]
    },
    {
     "name": "stderr",
     "output_type": "stream",
     "text": [
      " 34%|███▍      | 849/2494 [00:02<00:05, 316.07it/s]"
     ]
    },
    {
     "name": "stdout",
     "output_type": "stream",
     "text": [
      "torch.Size([128, 2, 2])\n",
      "tensor(1) tensor([0.6305, 0.3695], dtype=torch.float64)\n",
      "torch.Size([128, 2, 2])\n",
      "tensor(1) tensor([0.5056, 0.4944], dtype=torch.float64)\n",
      "torch.Size([128, 2, 2])\n",
      "tensor(0) tensor([0.6936, 0.3064], dtype=torch.float64)\n",
      "torch.Size([128, 2, 2])\n",
      "tensor(1) tensor([0.5912, 0.4088], dtype=torch.float64)\n",
      "torch.Size([128, 2, 2])\n",
      "tensor(1) tensor([0.4495, 0.5505], dtype=torch.float64)\n",
      "torch.Size([128, 2, 2])\n",
      "tensor(1) tensor([0.6342, 0.3658], dtype=torch.float64)\n",
      "torch.Size([128, 2, 2])\n",
      "tensor(0) tensor([0.8211, 0.1789], dtype=torch.float64)\n",
      "torch.Size([128, 2, 2])\n",
      "tensor(0) tensor([0.7891, 0.2109], dtype=torch.float64)\n",
      "torch.Size([128, 2, 2])\n",
      "tensor(1) tensor([0.4897, 0.5103], dtype=torch.float64)\n",
      "torch.Size([128, 2, 2])\n",
      "tensor(0) tensor([0.4965, 0.5035], dtype=torch.float64)\n",
      "torch.Size([128, 2, 2])\n",
      "tensor(0) tensor([0.7845, 0.2155], dtype=torch.float64)\n",
      "torch.Size([128, 2, 2])\n",
      "tensor(0) tensor([0.3890, 0.6110], dtype=torch.float64)\n",
      "torch.Size([128, 2, 2])\n",
      "tensor(0) tensor([0.7243, 0.2757], dtype=torch.float64)\n",
      "torch.Size([128, 2, 2])\n",
      "tensor(1) tensor([0.3739, 0.6261], dtype=torch.float64)\n",
      "torch.Size([128, 2, 2])\n",
      "tensor(1) tensor([0.5786, 0.4214], dtype=torch.float64)\n",
      "torch.Size([128, 2, 2])\n",
      "tensor(0) tensor([0.3587, 0.6413], dtype=torch.float64)\n",
      "torch.Size([128, 2, 2])\n",
      "tensor(0) tensor([0.5579, 0.4421], dtype=torch.float64)\n",
      "torch.Size([128, 2, 2])\n",
      "tensor(1) tensor([0.6034, 0.3966], dtype=torch.float64)\n",
      "torch.Size([128, 2, 2])\n",
      "tensor(1) tensor([0.5067, 0.4933], dtype=torch.float64)\n",
      "torch.Size([128, 2, 2])\n",
      "tensor(0) tensor([0.5574, 0.4426], dtype=torch.float64)\n",
      "torch.Size([128, 2, 2])\n",
      "tensor(1) tensor([0.4669, 0.5331], dtype=torch.float64)\n",
      "torch.Size([128, 2, 2])\n",
      "tensor(0) tensor([0.7026, 0.2974], dtype=torch.float64)\n",
      "torch.Size([128, 2, 2])\n",
      "tensor(1) tensor([0.5371, 0.4629], dtype=torch.float64)\n",
      "torch.Size([128, 2, 2])\n",
      "tensor(1) tensor([0.3209, 0.6791], dtype=torch.float64)\n",
      "torch.Size([128, 2, 2])\n",
      "tensor(1) tensor([0.3048, 0.6952], dtype=torch.float64)\n",
      "torch.Size([128, 2, 2])\n",
      "tensor(0) tensor([0.6012, 0.3988], dtype=torch.float64)\n",
      "torch.Size([128, 2, 2])\n",
      "tensor(1) tensor([0.6866, 0.3134], dtype=torch.float64)\n",
      "torch.Size([128, 2, 2])\n",
      "tensor(1) tensor([0.4189, 0.5811], dtype=torch.float64)\n",
      "torch.Size([128, 2, 2])\n",
      "tensor(0) tensor([0.4917, 0.5083], dtype=torch.float64)\n",
      "torch.Size([128, 2, 2])\n",
      "tensor(0) tensor([0.7856, 0.2144], dtype=torch.float64)\n",
      "torch.Size([128, 2, 2])\n",
      "tensor(0) tensor([0.6282, 0.3718], dtype=torch.float64)\n",
      "torch.Size([128, 2, 2])\n",
      "tensor(0) tensor([0.8254, 0.1746], dtype=torch.float64)\n",
      "torch.Size([128, 2, 2])\n",
      "tensor(0) tensor([0.6098, 0.3902], dtype=torch.float64)\n",
      "torch.Size([128, 2, 2])\n",
      "tensor(1) tensor([0.7879, 0.2121], dtype=torch.float64)\n",
      "torch.Size([128, 2, 2])\n",
      "tensor(0) tensor([0.4882, 0.5118], dtype=torch.float64)\n",
      "torch.Size([128, 2, 2])\n",
      "tensor(0) tensor([0.7464, 0.2536], dtype=torch.float64)\n",
      "torch.Size([128, 2, 2])\n",
      "tensor(1) tensor([0.4098, 0.5902], dtype=torch.float64)\n",
      "torch.Size([128, 2, 2])\n",
      "tensor(1) tensor([0.4998, 0.5002], dtype=torch.float64)\n",
      "torch.Size([128, 2, 2])\n",
      "tensor(0) tensor([0.9176, 0.0824], dtype=torch.float64)\n",
      "torch.Size([128, 2, 2])\n",
      "tensor(0) tensor([0.4795, 0.5205], dtype=torch.float64)\n",
      "torch.Size([128, 2, 2])\n",
      "tensor(0) tensor([0.6032, 0.3968], dtype=torch.float64)\n",
      "torch.Size([128, 2, 2])\n",
      "tensor(0) tensor([0.7422, 0.2578], dtype=torch.float64)\n",
      "torch.Size([128, 2, 2])\n",
      "tensor(1) tensor([0.5459, 0.4541], dtype=torch.float64)\n",
      "torch.Size([128, 2, 2])\n",
      "tensor(0) tensor([0.3891, 0.6109], dtype=torch.float64)\n",
      "torch.Size([128, 2, 2])\n",
      "tensor(0) tensor([0.6694, 0.3306], dtype=torch.float64)\n",
      "torch.Size([128, 2, 2])\n",
      "tensor(1) tensor([0.1425, 0.8575], dtype=torch.float64)\n",
      "torch.Size([128, 2, 2])\n",
      "tensor(1) tensor([0.6310, 0.3690], dtype=torch.float64)\n",
      "torch.Size([128, 2, 2])\n",
      "tensor(0) tensor([0.4037, 0.5963], dtype=torch.float64)\n",
      "torch.Size([128, 2, 2])\n",
      "tensor(0) tensor([0.7743, 0.2257], dtype=torch.float64)\n",
      "torch.Size([128, 2, 2])\n",
      "tensor(1) tensor([0.4625, 0.5375], dtype=torch.float64)\n",
      "torch.Size([128, 2, 2])\n",
      "tensor(1) tensor([0.6797, 0.3203], dtype=torch.float64)\n",
      "torch.Size([128, 2, 2])\n",
      "tensor(1) tensor([0.5842, 0.4158], dtype=torch.float64)\n",
      "torch.Size([128, 2, 2])\n",
      "tensor(1) tensor([0.5390, 0.4610], dtype=torch.float64)\n",
      "torch.Size([128, 2, 2])\n",
      "tensor(0) tensor([0.2049, 0.7951], dtype=torch.float64)\n",
      "torch.Size([128, 2, 2])\n",
      "tensor(0) tensor([0.8708, 0.1292], dtype=torch.float64)\n",
      "torch.Size([128, 2, 2])\n",
      "tensor(1) tensor([0.3038, 0.6962], dtype=torch.float64)\n",
      "torch.Size([128, 2, 2])\n",
      "tensor(0) tensor([0.5158, 0.4842], dtype=torch.float64)\n",
      "torch.Size([128, 2, 2])\n",
      "tensor(0) tensor([0.7512, 0.2488], dtype=torch.float64)\n",
      "torch.Size([128, 2, 2])\n",
      "tensor(1) tensor([0.5568, 0.4432], dtype=torch.float64)\n",
      "torch.Size([128, 2, 2])\n",
      "tensor(1) tensor([0.4750, 0.5250], dtype=torch.float64)\n",
      "torch.Size([128, 2, 2])\n",
      "tensor(1) tensor([0.4936, 0.5064], dtype=torch.float64)\n",
      "torch.Size([128, 2, 2])\n",
      "tensor(0) tensor([0.8158, 0.1842], dtype=torch.float64)\n",
      "torch.Size([128, 2, 2])\n",
      "tensor(0) tensor([0.2493, 0.7507], dtype=torch.float64)\n",
      "torch.Size([128, 2, 2])\n",
      "tensor(1) tensor([0.6773, 0.3227], dtype=torch.float64)\n",
      "torch.Size([128, 2, 2])\n",
      "tensor(1) tensor([0.6645, 0.3355], dtype=torch.float64)\n"
     ]
    },
    {
     "name": "stderr",
     "output_type": "stream",
     "text": [
      " 37%|███▋      | 914/2494 [00:02<00:04, 319.46it/s]"
     ]
    },
    {
     "name": "stdout",
     "output_type": "stream",
     "text": [
      "torch.Size([128, 2, 2])\n",
      "tensor(0) tensor([0.8440, 0.1560], dtype=torch.float64)\n",
      "torch.Size([128, 2, 2])\n",
      "tensor(1) tensor([0.6508, 0.3492], dtype=torch.float64)\n",
      "torch.Size([128, 2, 2])\n",
      "tensor(1) tensor([0.8075, 0.1925], dtype=torch.float64)\n",
      "torch.Size([128, 2, 2])\n",
      "tensor(0) tensor([0.6205, 0.3795], dtype=torch.float64)\n",
      "torch.Size([128, 2, 2])\n",
      "tensor(1) tensor([0.2772, 0.7228], dtype=torch.float64)\n",
      "torch.Size([128, 2, 2])\n",
      "tensor(1) tensor([0.4658, 0.5342], dtype=torch.float64)\n",
      "torch.Size([128, 2, 2])\n",
      "tensor(0) tensor([0.8307, 0.1693], dtype=torch.float64)\n",
      "torch.Size([128, 2, 2])\n",
      "tensor(1) tensor([0.5406, 0.4594], dtype=torch.float64)\n",
      "torch.Size([128, 2, 2])\n",
      "tensor(1) tensor([0.7089, 0.2911], dtype=torch.float64)\n",
      "torch.Size([128, 2, 2])\n",
      "tensor(0) tensor([0.5291, 0.4709], dtype=torch.float64)\n",
      "torch.Size([128, 2, 2])\n",
      "tensor(1) tensor([0.6711, 0.3289], dtype=torch.float64)\n",
      "torch.Size([128, 2, 2])\n",
      "tensor(1) tensor([0.3839, 0.6161], dtype=torch.float64)\n",
      "torch.Size([128, 2, 2])\n",
      "tensor(0) tensor([0.5852, 0.4148], dtype=torch.float64)\n",
      "torch.Size([128, 2, 2])\n",
      "tensor(1) tensor([0.7532, 0.2468], dtype=torch.float64)\n",
      "torch.Size([128, 2, 2])\n",
      "tensor(1) tensor([0.5784, 0.4216], dtype=torch.float64)\n",
      "torch.Size([128, 2, 2])\n",
      "tensor(1) tensor([0.5472, 0.4528], dtype=torch.float64)\n",
      "torch.Size([128, 2, 2])\n",
      "tensor(1) tensor([0.4179, 0.5821], dtype=torch.float64)\n",
      "torch.Size([128, 2, 2])\n",
      "tensor(0) tensor([0.5443, 0.4557], dtype=torch.float64)\n",
      "torch.Size([128, 2, 2])\n",
      "tensor(1) tensor([0.5792, 0.4208], dtype=torch.float64)\n",
      "torch.Size([128, 2, 2])\n",
      "tensor(0) tensor([0.7068, 0.2932], dtype=torch.float64)\n",
      "torch.Size([128, 2, 2])\n",
      "tensor(0) tensor([0.4262, 0.5738], dtype=torch.float64)\n",
      "torch.Size([128, 2, 2])\n",
      "tensor(0) tensor([0.5350, 0.4650], dtype=torch.float64)\n",
      "torch.Size([128, 2, 2])\n",
      "tensor(1) tensor([0.4126, 0.5874], dtype=torch.float64)\n",
      "torch.Size([128, 2, 2])\n",
      "tensor(0) tensor([0.8342, 0.1658], dtype=torch.float64)\n",
      "torch.Size([128, 2, 2])\n",
      "tensor(0) tensor([0.7958, 0.2042], dtype=torch.float64)\n",
      "torch.Size([128, 2, 2])\n",
      "tensor(0) tensor([0.8176, 0.1824], dtype=torch.float64)\n",
      "torch.Size([128, 2, 2])\n",
      "tensor(0) tensor([0.6672, 0.3328], dtype=torch.float64)\n",
      "torch.Size([128, 2, 2])\n",
      "tensor(0) tensor([0.8007, 0.1993], dtype=torch.float64)\n",
      "torch.Size([128, 2, 2])\n",
      "tensor(1) tensor([0.5690, 0.4310], dtype=torch.float64)\n",
      "torch.Size([128, 2, 2])\n",
      "tensor(1) tensor([0.6752, 0.3248], dtype=torch.float64)\n",
      "torch.Size([128, 2, 2])\n",
      "tensor(1) tensor([0.3615, 0.6385], dtype=torch.float64)\n",
      "torch.Size([128, 2, 2])\n",
      "tensor(1) tensor([0.5824, 0.4176], dtype=torch.float64)\n",
      "torch.Size([128, 2, 2])\n",
      "tensor(1) tensor([0.3921, 0.6079], dtype=torch.float64)\n",
      "torch.Size([128, 2, 2])\n",
      "tensor(0) tensor([0.6170, 0.3830], dtype=torch.float64)\n",
      "torch.Size([128, 2, 2])\n",
      "tensor(1) tensor([0.3946, 0.6054], dtype=torch.float64)\n",
      "torch.Size([128, 2, 2])\n",
      "tensor(0) tensor([0.4375, 0.5625], dtype=torch.float64)\n",
      "torch.Size([128, 2, 2])\n",
      "tensor(1) tensor([0.6256, 0.3744], dtype=torch.float64)\n",
      "torch.Size([128, 2, 2])\n",
      "tensor(0) tensor([0.6257, 0.3743], dtype=torch.float64)\n",
      "torch.Size([128, 2, 2])\n",
      "tensor(0) tensor([0.6219, 0.3781], dtype=torch.float64)\n",
      "torch.Size([128, 2, 2])\n",
      "tensor(0) tensor([0.6016, 0.3984], dtype=torch.float64)\n",
      "torch.Size([128, 2, 2])\n",
      "tensor(0) tensor([0.5521, 0.4479], dtype=torch.float64)\n",
      "torch.Size([128, 2, 2])\n",
      "tensor(1) tensor([0.4030, 0.5970], dtype=torch.float64)\n",
      "torch.Size([128, 2, 2])\n",
      "tensor(1) tensor([0.4878, 0.5122], dtype=torch.float64)\n",
      "torch.Size([128, 2, 2])\n",
      "tensor(1) tensor([0.6979, 0.3021], dtype=torch.float64)\n",
      "torch.Size([128, 2, 2])\n",
      "tensor(0) tensor([0.8074, 0.1926], dtype=torch.float64)\n",
      "torch.Size([128, 2, 2])\n",
      "tensor(0) tensor([0.8576, 0.1424], dtype=torch.float64)\n",
      "torch.Size([128, 2, 2])\n",
      "tensor(1) tensor([0.6731, 0.3269], dtype=torch.float64)\n",
      "torch.Size([128, 2, 2])\n",
      "tensor(0) tensor([0.8450, 0.1550], dtype=torch.float64)\n",
      "torch.Size([128, 2, 2])\n",
      "tensor(0) tensor([0.4854, 0.5146], dtype=torch.float64)\n",
      "torch.Size([128, 2, 2])\n",
      "tensor(0) tensor([0.4112, 0.5888], dtype=torch.float64)\n",
      "torch.Size([128, 2, 2])\n",
      "tensor(1) tensor([0.4193, 0.5807], dtype=torch.float64)\n",
      "torch.Size([128, 2, 2])\n",
      "tensor(1) tensor([0.6786, 0.3214], dtype=torch.float64)\n",
      "torch.Size([128, 2, 2])\n",
      "tensor(0) tensor([0.6755, 0.3245], dtype=torch.float64)\n",
      "torch.Size([128, 2, 2])\n",
      "tensor(0) tensor([0.6952, 0.3048], dtype=torch.float64)\n",
      "torch.Size([128, 2, 2])\n",
      "tensor(0) tensor([0.6806, 0.3194], dtype=torch.float64)\n",
      "torch.Size([128, 2, 2])\n",
      "tensor(1) tensor([0.3463, 0.6537], dtype=torch.float64)\n",
      "torch.Size([128, 2, 2])\n",
      "tensor(1) tensor([0.1879, 0.8121], dtype=torch.float64)\n",
      "torch.Size([128, 2, 2])\n",
      "tensor(0) tensor([0.6697, 0.3303], dtype=torch.float64)\n",
      "torch.Size([128, 2, 2])\n",
      "tensor(1) tensor([0.6600, 0.3400], dtype=torch.float64)\n",
      "torch.Size([128, 2, 2])\n",
      "tensor(0) tensor([0.6189, 0.3811], dtype=torch.float64)\n",
      "torch.Size([128, 2, 2])\n",
      "tensor(0) tensor([0.6768, 0.3232], dtype=torch.float64)\n",
      "torch.Size([128, 2, 2])\n",
      "tensor(1) tensor([0.2755, 0.7245], dtype=torch.float64)\n",
      "torch.Size([128, 2, 2])\n",
      "tensor(1) tensor([0.6448, 0.3552], dtype=torch.float64)\n",
      "torch.Size([128, 2, 2])\n",
      "tensor(0) tensor([0.5239, 0.4761], dtype=torch.float64)\n",
      "torch.Size([128, 2, 2])\n",
      "tensor(0) tensor([0.5123, 0.4877], dtype=torch.float64)\n"
     ]
    },
    {
     "name": "stderr",
     "output_type": "stream",
     "text": [
      " 39%|███▉      | 979/2494 [00:03<00:04, 319.74it/s]"
     ]
    },
    {
     "name": "stdout",
     "output_type": "stream",
     "text": [
      "torch.Size([128, 2, 2])\n",
      "tensor(1) tensor([0.4510, 0.5490], dtype=torch.float64)\n",
      "torch.Size([128, 2, 2])\n",
      "tensor(1) tensor([0.3184, 0.6816], dtype=torch.float64)\n",
      "torch.Size([128, 2, 2])\n",
      "tensor(1) tensor([0.3885, 0.6115], dtype=torch.float64)\n",
      "torch.Size([128, 2, 2])\n",
      "tensor(0) tensor([0.6152, 0.3848], dtype=torch.float64)\n",
      "torch.Size([128, 2, 2])\n",
      "tensor(1) tensor([0.5827, 0.4173], dtype=torch.float64)\n",
      "torch.Size([128, 2, 2])\n",
      "tensor(1) tensor([0.5509, 0.4491], dtype=torch.float64)\n",
      "torch.Size([128, 2, 2])\n",
      "tensor(0) tensor([0.5231, 0.4769], dtype=torch.float64)\n",
      "torch.Size([128, 2, 2])\n",
      "tensor(0) tensor([0.4904, 0.5096], dtype=torch.float64)\n",
      "torch.Size([128, 2, 2])\n",
      "tensor(0) tensor([0.6062, 0.3938], dtype=torch.float64)\n",
      "torch.Size([128, 2, 2])\n",
      "tensor(1) tensor([0.4521, 0.5479], dtype=torch.float64)\n",
      "torch.Size([128, 2, 2])\n",
      "tensor(0) tensor([0.4243, 0.5757], dtype=torch.float64)\n",
      "torch.Size([128, 2, 2])\n",
      "tensor(0) tensor([0.8245, 0.1755], dtype=torch.float64)\n",
      "torch.Size([128, 2, 2])\n",
      "tensor(0) tensor([0.5792, 0.4208], dtype=torch.float64)\n",
      "torch.Size([128, 2, 2])\n",
      "tensor(0) tensor([0.8790, 0.1210], dtype=torch.float64)\n",
      "torch.Size([128, 2, 2])\n",
      "tensor(0) tensor([0.4769, 0.5231], dtype=torch.float64)\n",
      "torch.Size([128, 2, 2])\n",
      "tensor(0) tensor([0.6871, 0.3129], dtype=torch.float64)\n",
      "torch.Size([128, 2, 2])\n",
      "tensor(1) tensor([0.4566, 0.5434], dtype=torch.float64)\n",
      "torch.Size([128, 2, 2])\n",
      "tensor(0) tensor([0.4869, 0.5131], dtype=torch.float64)\n",
      "torch.Size([128, 2, 2])\n",
      "tensor(1) tensor([0.3235, 0.6765], dtype=torch.float64)\n",
      "torch.Size([128, 2, 2])\n",
      "tensor(1) tensor([0.3919, 0.6081], dtype=torch.float64)\n",
      "torch.Size([128, 2, 2])\n",
      "tensor(1) tensor([0.4398, 0.5602], dtype=torch.float64)\n",
      "torch.Size([128, 2, 2])\n",
      "tensor(1) tensor([0.2955, 0.7045], dtype=torch.float64)\n",
      "torch.Size([128, 2, 2])\n",
      "tensor(1) tensor([0.4243, 0.5757], dtype=torch.float64)\n",
      "torch.Size([128, 2, 2])\n",
      "tensor(0) tensor([0.6429, 0.3571], dtype=torch.float64)\n",
      "torch.Size([128, 2, 2])\n",
      "tensor(0) tensor([0.9236, 0.0764], dtype=torch.float64)\n",
      "torch.Size([128, 2, 2])\n",
      "tensor(0) tensor([0.6145, 0.3855], dtype=torch.float64)\n",
      "torch.Size([128, 2, 2])\n",
      "tensor(0) tensor([0.7356, 0.2644], dtype=torch.float64)\n",
      "torch.Size([128, 2, 2])\n",
      "tensor(1) tensor([0.7262, 0.2738], dtype=torch.float64)\n",
      "torch.Size([128, 2, 2])\n",
      "tensor(0) tensor([0.2711, 0.7289], dtype=torch.float64)\n",
      "torch.Size([128, 2, 2])\n",
      "tensor(1) tensor([0.5101, 0.4899], dtype=torch.float64)\n",
      "torch.Size([128, 2, 2])\n",
      "tensor(1) tensor([0.5096, 0.4904], dtype=torch.float64)\n",
      "torch.Size([128, 2, 2])\n",
      "tensor(0) tensor([0.5507, 0.4493], dtype=torch.float64)\n",
      "torch.Size([128, 2, 2])\n",
      "tensor(0) tensor([0.7154, 0.2846], dtype=torch.float64)\n",
      "torch.Size([128, 2, 2])\n",
      "tensor(0) tensor([0.9283, 0.0717], dtype=torch.float64)\n",
      "torch.Size([128, 2, 2])\n",
      "tensor(1) tensor([0.5261, 0.4739], dtype=torch.float64)\n",
      "torch.Size([128, 2, 2])\n",
      "tensor(0) tensor([0.7388, 0.2612], dtype=torch.float64)\n",
      "torch.Size([128, 2, 2])\n",
      "tensor(0) tensor([0.1915, 0.8085], dtype=torch.float64)\n",
      "torch.Size([128, 2, 2])\n",
      "tensor(0) tensor([0.3052, 0.6948], dtype=torch.float64)\n",
      "torch.Size([128, 2, 2])\n",
      "tensor(1) tensor([0.6108, 0.3892], dtype=torch.float64)\n",
      "torch.Size([128, 2, 2])\n",
      "tensor(1) tensor([0.4320, 0.5680], dtype=torch.float64)\n",
      "torch.Size([128, 2, 2])\n",
      "tensor(0) tensor([0.7235, 0.2765], dtype=torch.float64)\n",
      "torch.Size([128, 2, 2])\n",
      "tensor(0) tensor([0.3482, 0.6518], dtype=torch.float64)\n",
      "torch.Size([128, 2, 2])\n",
      "tensor(0) tensor([0.7236, 0.2764], dtype=torch.float64)\n",
      "torch.Size([128, 2, 2])\n",
      "tensor(0) tensor([0.6131, 0.3869], dtype=torch.float64)\n",
      "torch.Size([128, 2, 2])\n",
      "tensor(0) tensor([0.6528, 0.3472], dtype=torch.float64)\n",
      "torch.Size([128, 2, 2])\n",
      "tensor(0) tensor([0.7308, 0.2692], dtype=torch.float64)\n",
      "torch.Size([128, 2, 2])\n",
      "tensor(1) tensor([0.5397, 0.4603], dtype=torch.float64)\n",
      "torch.Size([128, 2, 2])\n",
      "tensor(1) tensor([0.4777, 0.5223], dtype=torch.float64)\n",
      "torch.Size([128, 2, 2])\n",
      "tensor(1) tensor([0.5351, 0.4649], dtype=torch.float64)\n",
      "torch.Size([128, 2, 2])\n",
      "tensor(0) tensor([0.8187, 0.1813], dtype=torch.float64)\n",
      "torch.Size([128, 2, 2])\n",
      "tensor(0) tensor([0.4054, 0.5946], dtype=torch.float64)\n",
      "torch.Size([128, 2, 2])\n",
      "tensor(0) tensor([0.4891, 0.5109], dtype=torch.float64)\n",
      "torch.Size([128, 2, 2])\n",
      "tensor(0) tensor([0.4975, 0.5025], dtype=torch.float64)\n",
      "torch.Size([128, 2, 2])\n",
      "tensor(1) tensor([0.5822, 0.4178], dtype=torch.float64)\n",
      "torch.Size([128, 2, 2])\n",
      "tensor(0) tensor([0.5612, 0.4388], dtype=torch.float64)\n",
      "torch.Size([128, 2, 2])\n",
      "tensor(0) tensor([0.6304, 0.3696], dtype=torch.float64)\n",
      "torch.Size([128, 2, 2])\n",
      "tensor(0) tensor([0.7939, 0.2061], dtype=torch.float64)\n",
      "torch.Size([128, 2, 2])\n",
      "tensor(1) tensor([0.6568, 0.3432], dtype=torch.float64)\n",
      "torch.Size([128, 2, 2])\n",
      "tensor(1) tensor([0.4655, 0.5345], dtype=torch.float64)\n",
      "torch.Size([128, 2, 2])\n",
      "tensor(0) tensor([0.7268, 0.2732], dtype=torch.float64)\n",
      "torch.Size([128, 2, 2])\n",
      "tensor(1) tensor([0.5028, 0.4972], dtype=torch.float64)\n",
      "torch.Size([128, 2, 2])\n",
      "tensor(1) tensor([0.7751, 0.2249], dtype=torch.float64)\n",
      "torch.Size([128, 2, 2])\n",
      "tensor(0) tensor([0.6428, 0.3572], dtype=torch.float64)\n",
      "torch.Size([128, 2, 2])\n",
      "tensor(0) tensor([0.5276, 0.4724], dtype=torch.float64)\n"
     ]
    },
    {
     "name": "stderr",
     "output_type": "stream",
     "text": [
      " 42%|████▏     | 1043/2494 [00:03<00:04, 315.48it/s]"
     ]
    },
    {
     "name": "stdout",
     "output_type": "stream",
     "text": [
      "torch.Size([128, 2, 2])\n",
      "tensor(1) tensor([0.5340, 0.4660], dtype=torch.float64)\n",
      "torch.Size([128, 2, 2])\n",
      "tensor(1) tensor([0.5501, 0.4499], dtype=torch.float64)\n",
      "torch.Size([128, 2, 2])\n",
      "tensor(1) tensor([0.4334, 0.5666], dtype=torch.float64)\n",
      "torch.Size([128, 2, 2])\n",
      "tensor(0) tensor([0.6121, 0.3879], dtype=torch.float64)\n",
      "torch.Size([128, 2, 2])\n",
      "tensor(0) tensor([0.9224, 0.0776], dtype=torch.float64)\n",
      "torch.Size([128, 2, 2])\n",
      "tensor(0) tensor([0.6483, 0.3517], dtype=torch.float64)\n",
      "torch.Size([128, 2, 2])\n",
      "tensor(0) tensor([0.5535, 0.4465], dtype=torch.float64)\n",
      "torch.Size([128, 2, 2])\n",
      "tensor(1) tensor([0.4029, 0.5971], dtype=torch.float64)\n",
      "torch.Size([128, 2, 2])\n",
      "tensor(0) tensor([0.4921, 0.5079], dtype=torch.float64)\n",
      "torch.Size([128, 2, 2])\n",
      "tensor(0) tensor([0.6839, 0.3161], dtype=torch.float64)\n",
      "torch.Size([128, 2, 2])\n",
      "tensor(0) tensor([0.7330, 0.2670], dtype=torch.float64)\n",
      "torch.Size([128, 2, 2])\n",
      "tensor(1) tensor([0.6806, 0.3194], dtype=torch.float64)\n",
      "torch.Size([128, 2, 2])\n",
      "tensor(0) tensor([0.6411, 0.3589], dtype=torch.float64)\n",
      "torch.Size([128, 2, 2])\n",
      "tensor(1) tensor([0.5387, 0.4613], dtype=torch.float64)\n",
      "torch.Size([128, 2, 2])\n",
      "tensor(0) tensor([0.5755, 0.4245], dtype=torch.float64)\n",
      "torch.Size([128, 2, 2])\n",
      "tensor(0) tensor([0.7852, 0.2148], dtype=torch.float64)\n",
      "torch.Size([128, 2, 2])\n",
      "tensor(1) tensor([0.4249, 0.5751], dtype=torch.float64)\n",
      "torch.Size([128, 2, 2])\n",
      "tensor(0) tensor([0.6722, 0.3278], dtype=torch.float64)\n",
      "torch.Size([128, 2, 2])\n",
      "tensor(0) tensor([0.5967, 0.4033], dtype=torch.float64)\n",
      "torch.Size([128, 2, 2])\n",
      "tensor(0) tensor([0.5664, 0.4336], dtype=torch.float64)\n",
      "torch.Size([128, 2, 2])\n",
      "tensor(0) tensor([0.6641, 0.3359], dtype=torch.float64)\n",
      "torch.Size([128, 2, 2])\n",
      "tensor(0) tensor([0.5259, 0.4741], dtype=torch.float64)\n",
      "torch.Size([128, 2, 2])\n",
      "tensor(0) tensor([0.6488, 0.3512], dtype=torch.float64)\n",
      "torch.Size([128, 2, 2])\n",
      "tensor(1) tensor([0.4319, 0.5681], dtype=torch.float64)\n",
      "torch.Size([128, 2, 2])\n",
      "tensor(1) tensor([0.6762, 0.3238], dtype=torch.float64)\n",
      "torch.Size([128, 2, 2])\n",
      "tensor(1) tensor([0.6542, 0.3458], dtype=torch.float64)\n",
      "torch.Size([128, 2, 2])\n",
      "tensor(1) tensor([0.7074, 0.2926], dtype=torch.float64)\n",
      "torch.Size([128, 2, 2])\n",
      "tensor(1) tensor([0.7416, 0.2584], dtype=torch.float64)\n",
      "torch.Size([128, 2, 2])\n",
      "tensor(0) tensor([0.7777, 0.2223], dtype=torch.float64)\n",
      "torch.Size([128, 2, 2])\n",
      "tensor(1) tensor([0.6670, 0.3330], dtype=torch.float64)\n",
      "torch.Size([128, 2, 2])\n",
      "tensor(1) tensor([0.5158, 0.4842], dtype=torch.float64)\n",
      "torch.Size([128, 2, 2])\n",
      "tensor(1) tensor([0.7960, 0.2040], dtype=torch.float64)\n",
      "torch.Size([128, 2, 2])\n",
      "tensor(1) tensor([0.4834, 0.5166], dtype=torch.float64)\n",
      "torch.Size([128, 2, 2])\n",
      "tensor(1) tensor([0.6531, 0.3469], dtype=torch.float64)\n",
      "torch.Size([128, 2, 2])\n",
      "tensor(1) tensor([0.4700, 0.5300], dtype=torch.float64)\n",
      "torch.Size([128, 2, 2])\n",
      "tensor(1) tensor([0.3457, 0.6543], dtype=torch.float64)\n",
      "torch.Size([128, 2, 2])\n",
      "tensor(1) tensor([0.4518, 0.5482], dtype=torch.float64)\n",
      "torch.Size([128, 2, 2])\n",
      "tensor(0) tensor([0.5908, 0.4092], dtype=torch.float64)\n",
      "torch.Size([128, 2, 2])\n",
      "tensor(0) tensor([0.6723, 0.3277], dtype=torch.float64)\n",
      "torch.Size([128, 2, 2])\n",
      "tensor(1) tensor([0.4987, 0.5013], dtype=torch.float64)\n",
      "torch.Size([128, 2, 2])\n",
      "tensor(1) tensor([0.7752, 0.2248], dtype=torch.float64)\n",
      "torch.Size([128, 2, 2])\n",
      "tensor(1) tensor([0.6655, 0.3345], dtype=torch.float64)\n",
      "torch.Size([128, 2, 2])\n",
      "tensor(0) tensor([0.7679, 0.2321], dtype=torch.float64)\n",
      "torch.Size([128, 2, 2])\n",
      "tensor(0) tensor([0.7004, 0.2996], dtype=torch.float64)\n",
      "torch.Size([128, 2, 2])\n",
      "tensor(0) tensor([0.7106, 0.2894], dtype=torch.float64)\n",
      "torch.Size([128, 2, 2])\n",
      "tensor(1) tensor([0.6610, 0.3390], dtype=torch.float64)\n",
      "torch.Size([128, 2, 2])\n",
      "tensor(1) tensor([0.5710, 0.4290], dtype=torch.float64)\n",
      "torch.Size([128, 2, 2])\n",
      "tensor(0) tensor([0.5911, 0.4089], dtype=torch.float64)\n",
      "torch.Size([128, 2, 2])\n",
      "tensor(1) tensor([0.3565, 0.6435], dtype=torch.float64)\n",
      "torch.Size([128, 2, 2])\n",
      "tensor(0) tensor([0.6112, 0.3888], dtype=torch.float64)\n",
      "torch.Size([128, 2, 2])\n",
      "tensor(0) tensor([0.8153, 0.1847], dtype=torch.float64)\n",
      "torch.Size([128, 2, 2])\n",
      "tensor(1) tensor([0.3787, 0.6213], dtype=torch.float64)\n",
      "torch.Size([128, 2, 2])\n",
      "tensor(0) tensor([0.3851, 0.6149], dtype=torch.float64)\n",
      "torch.Size([128, 2, 2])\n",
      "tensor(1) tensor([0.6041, 0.3959], dtype=torch.float64)\n",
      "torch.Size([128, 2, 2])\n",
      "tensor(0) tensor([0.8564, 0.1436], dtype=torch.float64)\n",
      "torch.Size([128, 2, 2])\n",
      "tensor(0) tensor([0.7733, 0.2267], dtype=torch.float64)\n",
      "torch.Size([128, 2, 2])\n",
      "tensor(1) tensor([0.5321, 0.4679], dtype=torch.float64)\n",
      "torch.Size([128, 2, 2])\n",
      "tensor(0) tensor([0.8058, 0.1942], dtype=torch.float64)\n",
      "torch.Size([128, 2, 2])\n",
      "tensor(0) tensor([0.7997, 0.2003], dtype=torch.float64)\n",
      "torch.Size([128, 2, 2])\n",
      "tensor(0) tensor([0.7746, 0.2254], dtype=torch.float64)\n",
      "torch.Size([128, 2, 2])\n",
      "tensor(0) tensor([0.5912, 0.4088], dtype=torch.float64)\n",
      "torch.Size([128, 2, 2])\n",
      "tensor(1) tensor([0.4325, 0.5675], dtype=torch.float64)\n",
      "torch.Size([128, 2, 2])\n",
      "tensor(0) tensor([0.7843, 0.2157], dtype=torch.float64)\n"
     ]
    },
    {
     "name": "stderr",
     "output_type": "stream",
     "text": [
      " 44%|████▍     | 1109/2494 [00:03<00:04, 318.93it/s]"
     ]
    },
    {
     "name": "stdout",
     "output_type": "stream",
     "text": [
      "torch.Size([128, 2, 2])\n",
      "tensor(1) tensor([0.5765, 0.4235], dtype=torch.float64)\n",
      "torch.Size([128, 2, 2])\n",
      "tensor(1) tensor([0.6858, 0.3142], dtype=torch.float64)\n",
      "torch.Size([128, 2, 2])\n",
      "tensor(0) tensor([0.8003, 0.1997], dtype=torch.float64)\n",
      "torch.Size([128, 2, 2])\n",
      "tensor(1) tensor([0.5687, 0.4313], dtype=torch.float64)\n",
      "torch.Size([128, 2, 2])\n",
      "tensor(0) tensor([0.6885, 0.3115], dtype=torch.float64)\n",
      "torch.Size([128, 2, 2])\n",
      "tensor(1) tensor([0.5511, 0.4489], dtype=torch.float64)\n",
      "torch.Size([128, 2, 2])\n",
      "tensor(0) tensor([0.7003, 0.2997], dtype=torch.float64)\n",
      "torch.Size([128, 2, 2])\n",
      "tensor(1) tensor([0.4139, 0.5861], dtype=torch.float64)\n",
      "torch.Size([128, 2, 2])\n",
      "tensor(1) tensor([0.8180, 0.1820], dtype=torch.float64)\n",
      "torch.Size([128, 2, 2])\n",
      "tensor(0) tensor([0.8436, 0.1564], dtype=torch.float64)\n",
      "torch.Size([128, 2, 2])\n",
      "tensor(0) tensor([0.7138, 0.2862], dtype=torch.float64)\n",
      "torch.Size([128, 2, 2])\n",
      "tensor(1) tensor([0.5449, 0.4551], dtype=torch.float64)\n",
      "torch.Size([128, 2, 2])\n",
      "tensor(1) tensor([0.2148, 0.7852], dtype=torch.float64)\n",
      "torch.Size([128, 2, 2])\n",
      "tensor(1) tensor([0.4044, 0.5956], dtype=torch.float64)\n",
      "torch.Size([128, 2, 2])\n",
      "tensor(0) tensor([0.7757, 0.2243], dtype=torch.float64)\n",
      "torch.Size([128, 2, 2])\n",
      "tensor(0) tensor([0.8642, 0.1358], dtype=torch.float64)\n",
      "torch.Size([128, 2, 2])\n",
      "tensor(0) tensor([0.7031, 0.2969], dtype=torch.float64)\n",
      "torch.Size([128, 2, 2])\n",
      "tensor(1) tensor([0.4160, 0.5840], dtype=torch.float64)\n",
      "torch.Size([128, 2, 2])\n",
      "tensor(1) tensor([0.7260, 0.2740], dtype=torch.float64)\n",
      "torch.Size([128, 2, 2])\n",
      "tensor(1) tensor([0.7046, 0.2954], dtype=torch.float64)\n",
      "torch.Size([128, 2, 2])\n",
      "tensor(1) tensor([0.4590, 0.5410], dtype=torch.float64)\n",
      "torch.Size([128, 2, 2])\n",
      "tensor(1) tensor([0.3231, 0.6769], dtype=torch.float64)\n",
      "torch.Size([128, 2, 2])\n",
      "tensor(1) tensor([0.1763, 0.8237], dtype=torch.float64)\n",
      "torch.Size([128, 2, 2])\n",
      "tensor(0) tensor([0.5649, 0.4351], dtype=torch.float64)\n",
      "torch.Size([128, 2, 2])\n",
      "tensor(1) tensor([0.4669, 0.5331], dtype=torch.float64)\n",
      "torch.Size([128, 2, 2])\n",
      "tensor(1) tensor([0.6345, 0.3655], dtype=torch.float64)\n",
      "torch.Size([128, 2, 2])\n",
      "tensor(0) tensor([0.8395, 0.1605], dtype=torch.float64)\n",
      "torch.Size([128, 2, 2])\n",
      "tensor(1) tensor([0.7452, 0.2548], dtype=torch.float64)\n",
      "torch.Size([128, 2, 2])\n",
      "tensor(0) tensor([0.5119, 0.4881], dtype=torch.float64)\n",
      "torch.Size([128, 2, 2])\n",
      "tensor(1) tensor([0.3536, 0.6464], dtype=torch.float64)\n",
      "torch.Size([128, 2, 2])\n",
      "tensor(1) tensor([0.4456, 0.5544], dtype=torch.float64)\n",
      "torch.Size([128, 2, 2])\n",
      "tensor(0) tensor([0.8606, 0.1394], dtype=torch.float64)\n",
      "torch.Size([128, 2, 2])\n",
      "tensor(0) tensor([0.7358, 0.2642], dtype=torch.float64)\n",
      "torch.Size([128, 2, 2])\n",
      "tensor(0) tensor([0.6508, 0.3492], dtype=torch.float64)\n",
      "torch.Size([128, 2, 2])\n",
      "tensor(1) tensor([0.3447, 0.6553], dtype=torch.float64)\n",
      "torch.Size([128, 2, 2])\n",
      "tensor(1) tensor([0.3770, 0.6230], dtype=torch.float64)\n",
      "torch.Size([128, 2, 2])\n",
      "tensor(0) tensor([0.7597, 0.2403], dtype=torch.float64)\n",
      "torch.Size([128, 2, 2])\n",
      "tensor(1) tensor([0.5880, 0.4120], dtype=torch.float64)\n",
      "torch.Size([128, 2, 2])\n",
      "tensor(0) tensor([0.5180, 0.4820], dtype=torch.float64)\n",
      "torch.Size([128, 2, 2])\n",
      "tensor(1) tensor([0.1734, 0.8266], dtype=torch.float64)\n",
      "torch.Size([128, 2, 2])\n",
      "tensor(0) tensor([0.6630, 0.3370], dtype=torch.float64)\n",
      "torch.Size([128, 2, 2])\n",
      "tensor(0) tensor([0.8228, 0.1772], dtype=torch.float64)\n",
      "torch.Size([128, 2, 2])\n",
      "tensor(0) tensor([0.5343, 0.4657], dtype=torch.float64)\n",
      "torch.Size([128, 2, 2])\n",
      "tensor(0) tensor([0.6345, 0.3655], dtype=torch.float64)\n",
      "torch.Size([128, 2, 2])\n",
      "tensor(1) tensor([0.4675, 0.5325], dtype=torch.float64)\n",
      "torch.Size([128, 2, 2])\n",
      "tensor(1) tensor([0.3899, 0.6101], dtype=torch.float64)\n",
      "torch.Size([128, 2, 2])\n",
      "tensor(0) tensor([0.5244, 0.4756], dtype=torch.float64)\n",
      "torch.Size([128, 2, 2])\n",
      "tensor(0) tensor([0.5434, 0.4566], dtype=torch.float64)\n",
      "torch.Size([128, 2, 2])\n",
      "tensor(1) tensor([0.5938, 0.4062], dtype=torch.float64)\n",
      "torch.Size([128, 2, 2])\n",
      "tensor(0) tensor([0.8241, 0.1759], dtype=torch.float64)\n",
      "torch.Size([128, 2, 2])\n",
      "tensor(0) tensor([0.5056, 0.4944], dtype=torch.float64)\n",
      "torch.Size([128, 2, 2])\n",
      "tensor(1) tensor([0.7199, 0.2801], dtype=torch.float64)\n",
      "torch.Size([128, 2, 2])\n",
      "tensor(1) tensor([0.4780, 0.5220], dtype=torch.float64)\n",
      "torch.Size([128, 2, 2])\n",
      "tensor(0) tensor([0.5723, 0.4277], dtype=torch.float64)\n",
      "torch.Size([128, 2, 2])\n",
      "tensor(1) tensor([0.6002, 0.3998], dtype=torch.float64)\n",
      "torch.Size([128, 2, 2])\n",
      "tensor(1) tensor([0.5451, 0.4549], dtype=torch.float64)\n",
      "torch.Size([128, 2, 2])\n",
      "tensor(1) tensor([0.4298, 0.5702], dtype=torch.float64)\n",
      "torch.Size([128, 2, 2])\n",
      "tensor(1) tensor([0.3657, 0.6343], dtype=torch.float64)\n",
      "torch.Size([128, 2, 2])\n",
      "tensor(1) tensor([0.2447, 0.7553], dtype=torch.float64)\n",
      "torch.Size([128, 2, 2])\n",
      "tensor(1) tensor([0.5325, 0.4675], dtype=torch.float64)\n",
      "torch.Size([128, 2, 2])\n",
      "tensor(0) tensor([0.5461, 0.4539], dtype=torch.float64)\n",
      "torch.Size([128, 2, 2])\n",
      "tensor(1) tensor([0.8012, 0.1988], dtype=torch.float64)\n",
      "torch.Size([128, 2, 2])\n",
      "tensor(0) tensor([0.4045, 0.5955], dtype=torch.float64)\n",
      "torch.Size([128, 2, 2])\n",
      "tensor(0) tensor([0.7837, 0.2163], dtype=torch.float64)\n",
      "torch.Size([128, 2, 2])\n",
      "tensor(0) tensor([0.6440, 0.3560], dtype=torch.float64)\n",
      "torch.Size([128, 2, 2])\n"
     ]
    },
    {
     "name": "stderr",
     "output_type": "stream",
     "text": [
      " 47%|████▋     | 1175/2494 [00:03<00:04, 321.02it/s]"
     ]
    },
    {
     "name": "stdout",
     "output_type": "stream",
     "text": [
      "tensor(0) tensor([0.7486, 0.2514], dtype=torch.float64)\n",
      "torch.Size([128, 2, 2])\n",
      "tensor(1) tensor([0.4348, 0.5652], dtype=torch.float64)\n",
      "torch.Size([128, 2, 2])\n",
      "tensor(0) tensor([0.6845, 0.3155], dtype=torch.float64)\n",
      "torch.Size([128, 2, 2])\n",
      "tensor(0) tensor([0.7404, 0.2596], dtype=torch.float64)\n",
      "torch.Size([128, 2, 2])\n",
      "tensor(0) tensor([0.5683, 0.4317], dtype=torch.float64)\n",
      "torch.Size([128, 2, 2])\n",
      "tensor(1) tensor([0.6872, 0.3128], dtype=torch.float64)\n",
      "torch.Size([128, 2, 2])\n",
      "tensor(1) tensor([0.5187, 0.4813], dtype=torch.float64)\n",
      "torch.Size([128, 2, 2])\n",
      "tensor(1) tensor([0.6691, 0.3309], dtype=torch.float64)\n",
      "torch.Size([128, 2, 2])\n",
      "tensor(0) tensor([0.5493, 0.4507], dtype=torch.float64)\n",
      "torch.Size([128, 2, 2])\n",
      "tensor(0) tensor([0.5887, 0.4113], dtype=torch.float64)\n",
      "torch.Size([128, 2, 2])\n",
      "tensor(1) tensor([0.3011, 0.6989], dtype=torch.float64)\n",
      "torch.Size([128, 2, 2])\n",
      "tensor(0) tensor([0.7718, 0.2282], dtype=torch.float64)\n",
      "torch.Size([128, 2, 2])\n",
      "tensor(1) tensor([0.4946, 0.5054], dtype=torch.float64)\n",
      "torch.Size([128, 2, 2])\n",
      "tensor(1) tensor([0.4479, 0.5521], dtype=torch.float64)\n",
      "torch.Size([128, 2, 2])\n",
      "tensor(1) tensor([0.4392, 0.5608], dtype=torch.float64)\n",
      "torch.Size([128, 2, 2])\n",
      "tensor(1) tensor([0.3103, 0.6897], dtype=torch.float64)\n",
      "torch.Size([128, 2, 2])\n",
      "tensor(1) tensor([0.3526, 0.6474], dtype=torch.float64)\n",
      "torch.Size([128, 2, 2])\n",
      "tensor(1) tensor([0.3608, 0.6392], dtype=torch.float64)\n",
      "torch.Size([128, 2, 2])\n",
      "tensor(0) tensor([0.8204, 0.1796], dtype=torch.float64)\n",
      "torch.Size([128, 2, 2])\n",
      "tensor(0) tensor([0.7997, 0.2003], dtype=torch.float64)\n",
      "torch.Size([128, 2, 2])\n",
      "tensor(1) tensor([0.5400, 0.4600], dtype=torch.float64)\n",
      "torch.Size([128, 2, 2])\n",
      "tensor(0) tensor([0.7005, 0.2995], dtype=torch.float64)\n",
      "torch.Size([128, 2, 2])\n",
      "tensor(0) tensor([0.5471, 0.4529], dtype=torch.float64)\n",
      "torch.Size([128, 2, 2])\n",
      "tensor(1) tensor([0.5960, 0.4040], dtype=torch.float64)\n",
      "torch.Size([128, 2, 2])\n",
      "tensor(0) tensor([0.6252, 0.3748], dtype=torch.float64)\n",
      "torch.Size([128, 2, 2])\n",
      "tensor(0) tensor([0.8478, 0.1522], dtype=torch.float64)\n",
      "torch.Size([128, 2, 2])\n",
      "tensor(1) tensor([0.4800, 0.5200], dtype=torch.float64)\n",
      "torch.Size([128, 2, 2])\n",
      "tensor(1) tensor([0.2185, 0.7815], dtype=torch.float64)\n",
      "torch.Size([128, 2, 2])\n",
      "tensor(1) tensor([0.3116, 0.6884], dtype=torch.float64)\n",
      "torch.Size([128, 2, 2])\n",
      "tensor(1) tensor([0.4488, 0.5512], dtype=torch.float64)\n",
      "torch.Size([128, 2, 2])\n",
      "tensor(1) tensor([0.4541, 0.5459], dtype=torch.float64)\n",
      "torch.Size([128, 2, 2])\n",
      "tensor(0) tensor([0.7366, 0.2634], dtype=torch.float64)\n",
      "torch.Size([128, 2, 2])\n",
      "tensor(0) tensor([0.7920, 0.2080], dtype=torch.float64)\n",
      "torch.Size([128, 2, 2])\n",
      "tensor(1) tensor([0.6674, 0.3326], dtype=torch.float64)\n",
      "torch.Size([128, 2, 2])\n",
      "tensor(1) tensor([0.2107, 0.7893], dtype=torch.float64)\n",
      "torch.Size([128, 2, 2])\n",
      "tensor(0) tensor([0.4240, 0.5760], dtype=torch.float64)\n",
      "torch.Size([128, 2, 2])\n",
      "tensor(1) tensor([0.4784, 0.5216], dtype=torch.float64)\n",
      "torch.Size([128, 2, 2])\n",
      "tensor(1) tensor([0.5877, 0.4123], dtype=torch.float64)\n",
      "torch.Size([128, 2, 2])\n",
      "tensor(0) tensor([0.6713, 0.3287], dtype=torch.float64)\n",
      "torch.Size([128, 2, 2])\n",
      "tensor(0) tensor([0.5739, 0.4261], dtype=torch.float64)\n",
      "torch.Size([128, 2, 2])\n",
      "tensor(1) tensor([0.2234, 0.7766], dtype=torch.float64)\n",
      "torch.Size([128, 2, 2])\n",
      "tensor(1) tensor([0.6115, 0.3885], dtype=torch.float64)\n",
      "torch.Size([128, 2, 2])\n",
      "tensor(0) tensor([0.7483, 0.2517], dtype=torch.float64)\n",
      "torch.Size([128, 2, 2])\n",
      "tensor(1) tensor([0.5001, 0.4999], dtype=torch.float64)\n",
      "torch.Size([128, 2, 2])\n",
      "tensor(1) tensor([0.4229, 0.5771], dtype=torch.float64)\n",
      "torch.Size([128, 2, 2])\n",
      "tensor(1) tensor([0.2488, 0.7512], dtype=torch.float64)\n",
      "torch.Size([128, 2, 2])\n",
      "tensor(1) tensor([0.6439, 0.3561], dtype=torch.float64)\n",
      "torch.Size([128, 2, 2])\n",
      "tensor(0) tensor([0.3672, 0.6328], dtype=torch.float64)\n",
      "torch.Size([128, 2, 2])\n",
      "tensor(0) tensor([0.7143, 0.2857], dtype=torch.float64)\n",
      "torch.Size([128, 2, 2])\n",
      "tensor(0) tensor([0.6694, 0.3306], dtype=torch.float64)\n",
      "torch.Size([128, 2, 2])\n",
      "tensor(1) tensor([0.6620, 0.3380], dtype=torch.float64)\n",
      "torch.Size([128, 2, 2])\n",
      "tensor(1) tensor([0.4526, 0.5474], dtype=torch.float64)\n",
      "torch.Size([128, 2, 2])\n",
      "tensor(0) tensor([0.2936, 0.7064], dtype=torch.float64)\n",
      "torch.Size([128, 2, 2])\n",
      "tensor(0) tensor([0.7837, 0.2163], dtype=torch.float64)\n",
      "torch.Size([128, 2, 2])\n",
      "tensor(1) tensor([0.6166, 0.3834], dtype=torch.float64)\n",
      "torch.Size([128, 2, 2])\n",
      "tensor(1) tensor([0.3503, 0.6497], dtype=torch.float64)\n",
      "torch.Size([128, 2, 2])\n",
      "tensor(0) tensor([0.6968, 0.3032], dtype=torch.float64)\n",
      "torch.Size([128, 2, 2])\n",
      "tensor(0) tensor([0.6615, 0.3385], dtype=torch.float64)\n",
      "torch.Size([128, 2, 2])\n",
      "tensor(0) tensor([0.6442, 0.3558], dtype=torch.float64)\n",
      "torch.Size([128, 2, 2])\n",
      "tensor(0) tensor([0.7141, 0.2859], dtype=torch.float64)\n",
      "torch.Size([128, 2, 2])\n",
      "tensor(0) tensor([0.5925, 0.4075], dtype=torch.float64)\n",
      "torch.Size([128, 2, 2])\n",
      "tensor(0) tensor([0.4997, 0.5003], dtype=torch.float64)\n",
      "torch.Size([128, 2, 2])\n",
      "tensor(1) tensor([0.6085, 0.3915], dtype=torch.float64)\n",
      "torch.Size([128, 2, 2])\n",
      "tensor(1) tensor([0.4508, 0.5492], dtype=torch.float64)\n",
      "torch.Size([128, 2, 2])\n",
      "tensor(1) tensor([0.6191, 0.3809], dtype=torch.float64)\n"
     ]
    },
    {
     "name": "stderr",
     "output_type": "stream",
     "text": [
      " 50%|████▉     | 1241/2494 [00:04<00:03, 316.67it/s]"
     ]
    },
    {
     "name": "stdout",
     "output_type": "stream",
     "text": [
      "torch.Size([128, 2, 2])\n",
      "tensor(0) tensor([0.6027, 0.3973], dtype=torch.float64)\n",
      "torch.Size([128, 2, 2])\n",
      "tensor(1) tensor([0.2888, 0.7112], dtype=torch.float64)\n",
      "torch.Size([128, 2, 2])\n",
      "tensor(1) tensor([0.2901, 0.7099], dtype=torch.float64)\n",
      "torch.Size([128, 2, 2])\n",
      "tensor(0) tensor([0.7823, 0.2177], dtype=torch.float64)\n",
      "torch.Size([128, 2, 2])\n",
      "tensor(0) tensor([0.5774, 0.4226], dtype=torch.float64)\n",
      "torch.Size([128, 2, 2])\n",
      "tensor(0) tensor([0.7425, 0.2575], dtype=torch.float64)\n",
      "torch.Size([128, 2, 2])\n",
      "tensor(1) tensor([0.4764, 0.5236], dtype=torch.float64)\n",
      "torch.Size([128, 2, 2])\n",
      "tensor(0) tensor([0.6638, 0.3362], dtype=torch.float64)\n",
      "torch.Size([128, 2, 2])\n",
      "tensor(0) tensor([0.3765, 0.6235], dtype=torch.float64)\n",
      "torch.Size([128, 2, 2])\n",
      "tensor(1) tensor([0.5337, 0.4663], dtype=torch.float64)\n",
      "torch.Size([128, 2, 2])\n",
      "tensor(1) tensor([0.4001, 0.5999], dtype=torch.float64)\n",
      "torch.Size([128, 2, 2])\n",
      "tensor(1) tensor([0.7958, 0.2042], dtype=torch.float64)\n",
      "torch.Size([128, 2, 2])\n",
      "tensor(0) tensor([0.2975, 0.7025], dtype=torch.float64)\n",
      "torch.Size([128, 2, 2])\n",
      "tensor(1) tensor([0.3315, 0.6685], dtype=torch.float64)\n",
      "torch.Size([128, 2, 2])\n",
      "tensor(1) tensor([0.6822, 0.3178], dtype=torch.float64)\n",
      "torch.Size([128, 2, 2])\n",
      "tensor(0) tensor([0.7855, 0.2145], dtype=torch.float64)\n",
      "torch.Size([128, 2, 2])\n",
      "tensor(1) tensor([0.6398, 0.3602], dtype=torch.float64)\n",
      "torch.Size([128, 2, 2])\n",
      "tensor(0) tensor([0.8382, 0.1618], dtype=torch.float64)\n",
      "torch.Size([128, 2, 2])\n",
      "tensor(0) tensor([0.4537, 0.5463], dtype=torch.float64)\n",
      "torch.Size([128, 2, 2])\n",
      "tensor(0) tensor([0.5275, 0.4725], dtype=torch.float64)\n",
      "torch.Size([128, 2, 2])\n",
      "tensor(1) tensor([0.5192, 0.4808], dtype=torch.float64)\n",
      "torch.Size([128, 2, 2])\n",
      "tensor(1) tensor([0.6341, 0.3659], dtype=torch.float64)\n",
      "torch.Size([128, 2, 2])\n",
      "tensor(0) tensor([0.6060, 0.3940], dtype=torch.float64)\n",
      "torch.Size([128, 2, 2])\n",
      "tensor(1) tensor([0.2371, 0.7629], dtype=torch.float64)\n",
      "torch.Size([128, 2, 2])\n",
      "tensor(0) tensor([0.5238, 0.4762], dtype=torch.float64)\n",
      "torch.Size([128, 2, 2])\n",
      "tensor(0) tensor([0.6123, 0.3877], dtype=torch.float64)\n",
      "torch.Size([128, 2, 2])\n",
      "tensor(0) tensor([0.5230, 0.4770], dtype=torch.float64)\n",
      "torch.Size([128, 2, 2])\n",
      "tensor(0) tensor([0.6708, 0.3292], dtype=torch.float64)\n",
      "torch.Size([128, 2, 2])\n",
      "tensor(1) tensor([0.5765, 0.4235], dtype=torch.float64)\n",
      "torch.Size([128, 2, 2])\n",
      "tensor(1) tensor([0.4889, 0.5111], dtype=torch.float64)\n",
      "torch.Size([128, 2, 2])\n",
      "tensor(1) tensor([0.2354, 0.7646], dtype=torch.float64)\n",
      "torch.Size([128, 2, 2])\n",
      "tensor(1) tensor([0.2745, 0.7255], dtype=torch.float64)\n",
      "torch.Size([128, 2, 2])\n",
      "tensor(0) tensor([0.5903, 0.4097], dtype=torch.float64)\n",
      "torch.Size([128, 2, 2])\n",
      "tensor(0) tensor([0.8300, 0.1700], dtype=torch.float64)\n",
      "torch.Size([128, 2, 2])\n",
      "tensor(0) tensor([0.7061, 0.2939], dtype=torch.float64)\n",
      "torch.Size([128, 2, 2])\n",
      "tensor(1) tensor([0.5129, 0.4871], dtype=torch.float64)\n",
      "torch.Size([128, 2, 2])\n",
      "tensor(0) tensor([0.6352, 0.3648], dtype=torch.float64)\n",
      "torch.Size([128, 2, 2])\n",
      "tensor(0) tensor([0.7709, 0.2291], dtype=torch.float64)\n",
      "torch.Size([128, 2, 2])\n",
      "tensor(1) tensor([0.7365, 0.2635], dtype=torch.float64)\n",
      "torch.Size([128, 2, 2])\n",
      "tensor(0) tensor([0.5985, 0.4015], dtype=torch.float64)\n",
      "torch.Size([128, 2, 2])\n",
      "tensor(1) tensor([0.6999, 0.3001], dtype=torch.float64)\n",
      "torch.Size([128, 2, 2])\n",
      "tensor(0) tensor([0.7467, 0.2533], dtype=torch.float64)\n",
      "torch.Size([128, 2, 2])\n",
      "tensor(0) tensor([0.6019, 0.3981], dtype=torch.float64)\n",
      "torch.Size([128, 2, 2])\n",
      "tensor(1) tensor([0.6417, 0.3583], dtype=torch.float64)\n",
      "torch.Size([128, 2, 2])\n",
      "tensor(1) tensor([0.5203, 0.4797], dtype=torch.float64)\n",
      "torch.Size([128, 2, 2])\n",
      "tensor(0) tensor([0.5195, 0.4805], dtype=torch.float64)\n",
      "torch.Size([128, 2, 2])\n",
      "tensor(0) tensor([0.8205, 0.1795], dtype=torch.float64)\n",
      "torch.Size([128, 2, 2])\n",
      "tensor(0) tensor([0.6028, 0.3972], dtype=torch.float64)\n",
      "torch.Size([128, 2, 2])\n",
      "tensor(0) tensor([0.6937, 0.3063], dtype=torch.float64)\n",
      "torch.Size([128, 2, 2])\n",
      "tensor(0) tensor([0.6610, 0.3390], dtype=torch.float64)\n",
      "torch.Size([128, 2, 2])\n",
      "tensor(1) tensor([0.7426, 0.2574], dtype=torch.float64)\n",
      "torch.Size([128, 2, 2])\n",
      "tensor(1) tensor([0.4206, 0.5794], dtype=torch.float64)\n",
      "torch.Size([128, 2, 2])\n",
      "tensor(0) tensor([0.5777, 0.4223], dtype=torch.float64)\n",
      "torch.Size([128, 2, 2])\n",
      "tensor(0) tensor([0.5835, 0.4165], dtype=torch.float64)\n",
      "torch.Size([128, 2, 2])\n",
      "tensor(1) tensor([0.4372, 0.5628], dtype=torch.float64)\n",
      "torch.Size([128, 2, 2])\n",
      "tensor(0) tensor([0.9160, 0.0840], dtype=torch.float64)\n",
      "torch.Size([128, 2, 2])\n",
      "tensor(0) tensor([0.7147, 0.2853], dtype=torch.float64)\n",
      "torch.Size([128, 2, 2])\n",
      "tensor(0) tensor([0.4355, 0.5645], dtype=torch.float64)\n",
      "torch.Size([128, 2, 2])\n",
      "tensor(0) tensor([0.5312, 0.4688], dtype=torch.float64)\n",
      "torch.Size([128, 2, 2])\n",
      "tensor(1) tensor([0.5141, 0.4859], dtype=torch.float64)\n",
      "torch.Size([128, 2, 2])\n",
      "tensor(0) tensor([0.8182, 0.1818], dtype=torch.float64)\n",
      "torch.Size([128, 2, 2])\n",
      "tensor(0) tensor([0.5818, 0.4182], dtype=torch.float64)\n",
      "torch.Size([128, 2, 2])\n",
      "tensor(1) tensor([0.4886, 0.5114], dtype=torch.float64)\n"
     ]
    },
    {
     "name": "stderr",
     "output_type": "stream",
     "text": [
      " 52%|█████▏    | 1306/2494 [00:04<00:03, 316.65it/s]"
     ]
    },
    {
     "name": "stdout",
     "output_type": "stream",
     "text": [
      "torch.Size([128, 2, 2])\n",
      "tensor(0) tensor([0.6637, 0.3363], dtype=torch.float64)\n",
      "torch.Size([128, 2, 2])\n",
      "tensor(1) tensor([0.6521, 0.3479], dtype=torch.float64)\n",
      "torch.Size([128, 2, 2])\n",
      "tensor(0) tensor([0.6675, 0.3325], dtype=torch.float64)\n",
      "torch.Size([128, 2, 2])\n",
      "tensor(1) tensor([0.4020, 0.5980], dtype=torch.float64)\n",
      "torch.Size([128, 2, 2])\n",
      "tensor(1) tensor([0.5304, 0.4696], dtype=torch.float64)\n",
      "torch.Size([128, 2, 2])\n",
      "tensor(1) tensor([0.5167, 0.4833], dtype=torch.float64)\n",
      "torch.Size([128, 2, 2])\n",
      "tensor(1) tensor([0.5892, 0.4108], dtype=torch.float64)\n",
      "torch.Size([128, 2, 2])\n",
      "tensor(0) tensor([0.8653, 0.1347], dtype=torch.float64)\n",
      "torch.Size([128, 2, 2])\n",
      "tensor(1) tensor([0.5672, 0.4328], dtype=torch.float64)\n",
      "torch.Size([128, 2, 2])\n",
      "tensor(1) tensor([0.4618, 0.5382], dtype=torch.float64)\n",
      "torch.Size([128, 2, 2])\n",
      "tensor(1) tensor([0.5129, 0.4871], dtype=torch.float64)\n",
      "torch.Size([128, 2, 2])\n",
      "tensor(1) tensor([0.3532, 0.6468], dtype=torch.float64)\n",
      "torch.Size([128, 2, 2])\n",
      "tensor(1) tensor([0.6562, 0.3438], dtype=torch.float64)\n",
      "torch.Size([128, 2, 2])\n",
      "tensor(1) tensor([0.5383, 0.4617], dtype=torch.float64)\n",
      "torch.Size([128, 2, 2])\n",
      "tensor(0) tensor([0.4173, 0.5827], dtype=torch.float64)\n",
      "torch.Size([128, 2, 2])\n",
      "tensor(0) tensor([0.6790, 0.3210], dtype=torch.float64)\n",
      "torch.Size([128, 2, 2])\n",
      "tensor(0) tensor([0.7391, 0.2609], dtype=torch.float64)\n",
      "torch.Size([128, 2, 2])\n",
      "tensor(1) tensor([0.5079, 0.4921], dtype=torch.float64)\n",
      "torch.Size([128, 2, 2])\n",
      "tensor(0) tensor([0.5773, 0.4227], dtype=torch.float64)\n",
      "torch.Size([128, 2, 2])\n",
      "tensor(0) tensor([0.7476, 0.2524], dtype=torch.float64)\n",
      "torch.Size([128, 2, 2])\n",
      "tensor(1) tensor([0.4642, 0.5358], dtype=torch.float64)\n",
      "torch.Size([128, 2, 2])\n",
      "tensor(0) tensor([0.5416, 0.4584], dtype=torch.float64)\n",
      "torch.Size([128, 2, 2])\n",
      "tensor(1) tensor([0.4559, 0.5441], dtype=torch.float64)\n",
      "torch.Size([128, 2, 2])\n",
      "tensor(1) tensor([0.3843, 0.6157], dtype=torch.float64)\n",
      "torch.Size([128, 2, 2])\n",
      "tensor(1) tensor([0.3628, 0.6372], dtype=torch.float64)\n",
      "torch.Size([128, 2, 2])\n",
      "tensor(1) tensor([0.4466, 0.5534], dtype=torch.float64)\n",
      "torch.Size([128, 2, 2])\n",
      "tensor(0) tensor([0.5824, 0.4176], dtype=torch.float64)\n",
      "torch.Size([128, 2, 2])\n",
      "tensor(0) tensor([0.5736, 0.4264], dtype=torch.float64)\n",
      "torch.Size([128, 2, 2])\n",
      "tensor(1) tensor([0.7874, 0.2126], dtype=torch.float64)\n",
      "torch.Size([128, 2, 2])\n",
      "tensor(0) tensor([0.6646, 0.3354], dtype=torch.float64)\n",
      "torch.Size([128, 2, 2])\n",
      "tensor(1) tensor([0.6936, 0.3064], dtype=torch.float64)\n",
      "torch.Size([128, 2, 2])\n",
      "tensor(1) tensor([0.3666, 0.6334], dtype=torch.float64)\n",
      "torch.Size([128, 2, 2])\n",
      "tensor(0) tensor([0.5412, 0.4588], dtype=torch.float64)\n",
      "torch.Size([128, 2, 2])\n",
      "tensor(0) tensor([0.5659, 0.4341], dtype=torch.float64)\n",
      "torch.Size([128, 2, 2])\n",
      "tensor(0) tensor([0.6833, 0.3167], dtype=torch.float64)\n",
      "torch.Size([128, 2, 2])\n",
      "tensor(0) tensor([0.7870, 0.2130], dtype=torch.float64)\n",
      "torch.Size([128, 2, 2])\n",
      "tensor(1) tensor([0.4967, 0.5033], dtype=torch.float64)\n",
      "torch.Size([128, 2, 2])\n",
      "tensor(1) tensor([0.6711, 0.3289], dtype=torch.float64)\n",
      "torch.Size([128, 2, 2])\n",
      "tensor(0) tensor([0.6791, 0.3209], dtype=torch.float64)\n",
      "torch.Size([128, 2, 2])\n",
      "tensor(1) tensor([0.5387, 0.4613], dtype=torch.float64)\n",
      "torch.Size([128, 2, 2])\n",
      "tensor(0) tensor([0.7892, 0.2108], dtype=torch.float64)\n",
      "torch.Size([128, 2, 2])\n",
      "tensor(0) tensor([0.5641, 0.4359], dtype=torch.float64)\n",
      "torch.Size([128, 2, 2])\n",
      "tensor(1) tensor([0.8481, 0.1519], dtype=torch.float64)\n",
      "torch.Size([128, 2, 2])\n",
      "tensor(0) tensor([0.6577, 0.3423], dtype=torch.float64)\n",
      "torch.Size([128, 2, 2])\n",
      "tensor(0) tensor([0.8058, 0.1942], dtype=torch.float64)\n",
      "torch.Size([128, 2, 2])\n",
      "tensor(1) tensor([0.4369, 0.5631], dtype=torch.float64)\n",
      "torch.Size([128, 2, 2])\n",
      "tensor(1) tensor([0.3848, 0.6152], dtype=torch.float64)\n",
      "torch.Size([128, 2, 2])\n",
      "tensor(1) tensor([0.6614, 0.3386], dtype=torch.float64)\n",
      "torch.Size([128, 2, 2])\n",
      "tensor(1) tensor([0.4963, 0.5037], dtype=torch.float64)\n",
      "torch.Size([128, 2, 2])\n",
      "tensor(0) tensor([0.8727, 0.1273], dtype=torch.float64)\n",
      "torch.Size([128, 2, 2])\n",
      "tensor(0) tensor([0.7330, 0.2670], dtype=torch.float64)\n",
      "torch.Size([128, 2, 2])\n",
      "tensor(1) tensor([0.6228, 0.3772], dtype=torch.float64)\n",
      "torch.Size([128, 2, 2])\n",
      "tensor(1) tensor([0.5761, 0.4239], dtype=torch.float64)\n",
      "torch.Size([128, 2, 2])\n",
      "tensor(0) tensor([0.5060, 0.4940], dtype=torch.float64)\n",
      "torch.Size([128, 2, 2])\n",
      "tensor(1) tensor([0.2593, 0.7407], dtype=torch.float64)\n",
      "torch.Size([128, 2, 2])\n",
      "tensor(0) tensor([0.8611, 0.1389], dtype=torch.float64)\n",
      "torch.Size([128, 2, 2])\n",
      "tensor(0) tensor([0.7923, 0.2077], dtype=torch.float64)\n",
      "torch.Size([128, 2, 2])\n",
      "tensor(1) tensor([0.5903, 0.4097], dtype=torch.float64)\n",
      "torch.Size([128, 2, 2])\n",
      "tensor(1) tensor([0.4219, 0.5781], dtype=torch.float64)\n",
      "torch.Size([128, 2, 2])\n",
      "tensor(0) tensor([0.2355, 0.7645], dtype=torch.float64)\n",
      "torch.Size([128, 2, 2])\n",
      "tensor(0) tensor([0.6675, 0.3325], dtype=torch.float64)\n",
      "torch.Size([128, 2, 2])\n",
      "tensor(1) tensor([0.5524, 0.4476], dtype=torch.float64)\n",
      "torch.Size([128, 2, 2])\n"
     ]
    },
    {
     "name": "stderr",
     "output_type": "stream",
     "text": [
      " 55%|█████▍    | 1370/2494 [00:04<00:03, 309.58it/s]"
     ]
    },
    {
     "name": "stdout",
     "output_type": "stream",
     "text": [
      "tensor(1) tensor([0.5941, 0.4059], dtype=torch.float64)\n",
      "torch.Size([128, 2, 2])\n",
      "tensor(0) tensor([0.7731, 0.2269], dtype=torch.float64)\n",
      "torch.Size([128, 2, 2])\n",
      "tensor(1) tensor([0.6067, 0.3933], dtype=torch.float64)\n",
      "torch.Size([128, 2, 2])\n",
      "tensor(0) tensor([0.7738, 0.2262], dtype=torch.float64)\n",
      "torch.Size([128, 2, 2])\n",
      "tensor(1) tensor([0.6187, 0.3813], dtype=torch.float64)\n",
      "torch.Size([128, 2, 2])\n",
      "tensor(0) tensor([0.5622, 0.4378], dtype=torch.float64)\n",
      "torch.Size([128, 2, 2])\n",
      "tensor(1) tensor([0.3293, 0.6707], dtype=torch.float64)\n",
      "torch.Size([128, 2, 2])\n",
      "tensor(1) tensor([0.5653, 0.4347], dtype=torch.float64)\n",
      "torch.Size([128, 2, 2])\n",
      "tensor(0) tensor([0.5892, 0.4108], dtype=torch.float64)\n",
      "torch.Size([128, 2, 2])\n",
      "tensor(0) tensor([0.8816, 0.1184], dtype=torch.float64)\n",
      "torch.Size([128, 2, 2])\n",
      "tensor(0) tensor([0.5857, 0.4143], dtype=torch.float64)\n",
      "torch.Size([128, 2, 2])\n",
      "tensor(1) tensor([0.6497, 0.3503], dtype=torch.float64)\n",
      "torch.Size([128, 2, 2])\n",
      "tensor(0) tensor([0.4311, 0.5689], dtype=torch.float64)\n",
      "torch.Size([128, 2, 2])\n",
      "tensor(0) tensor([0.5949, 0.4051], dtype=torch.float64)\n",
      "torch.Size([128, 2, 2])\n",
      "tensor(1) tensor([0.6945, 0.3055], dtype=torch.float64)\n",
      "torch.Size([128, 2, 2])\n",
      "tensor(0) tensor([0.7648, 0.2352], dtype=torch.float64)\n",
      "torch.Size([128, 2, 2])\n",
      "tensor(0) tensor([0.8447, 0.1553], dtype=torch.float64)\n",
      "torch.Size([128, 2, 2])\n",
      "tensor(0) tensor([0.5738, 0.4262], dtype=torch.float64)\n",
      "torch.Size([128, 2, 2])\n",
      "tensor(0) tensor([0.5935, 0.4065], dtype=torch.float64)\n",
      "torch.Size([128, 2, 2])\n",
      "tensor(1) tensor([0.5545, 0.4455], dtype=torch.float64)\n",
      "torch.Size([128, 2, 2])\n",
      "tensor(1) tensor([0.3406, 0.6594], dtype=torch.float64)\n",
      "torch.Size([128, 2, 2])\n",
      "tensor(1) tensor([0.5790, 0.4210], dtype=torch.float64)\n",
      "torch.Size([128, 2, 2])\n",
      "tensor(1) tensor([0.6851, 0.3149], dtype=torch.float64)\n",
      "torch.Size([128, 2, 2])\n",
      "tensor(0) tensor([0.5284, 0.4716], dtype=torch.float64)\n",
      "torch.Size([128, 2, 2])\n",
      "tensor(1) tensor([0.6193, 0.3807], dtype=torch.float64)\n",
      "torch.Size([128, 2, 2])\n",
      "tensor(1) tensor([0.5229, 0.4771], dtype=torch.float64)\n",
      "torch.Size([128, 2, 2])\n",
      "tensor(1) tensor([0.4080, 0.5920], dtype=torch.float64)\n",
      "torch.Size([128, 2, 2])\n",
      "tensor(0) tensor([0.7218, 0.2782], dtype=torch.float64)\n",
      "torch.Size([128, 2, 2])\n",
      "tensor(1) tensor([0.5820, 0.4180], dtype=torch.float64)\n",
      "torch.Size([128, 2, 2])\n",
      "tensor(1) tensor([0.5592, 0.4408], dtype=torch.float64)\n",
      "torch.Size([128, 2, 2])\n",
      "tensor(1) tensor([0.4445, 0.5555], dtype=torch.float64)\n",
      "torch.Size([128, 2, 2])\n",
      "tensor(1) tensor([0.4749, 0.5251], dtype=torch.float64)\n",
      "torch.Size([128, 2, 2])\n",
      "tensor(0) tensor([0.7102, 0.2898], dtype=torch.float64)\n",
      "torch.Size([128, 2, 2])\n",
      "tensor(0) tensor([0.4404, 0.5596], dtype=torch.float64)\n",
      "torch.Size([128, 2, 2])\n",
      "tensor(1) tensor([0.6273, 0.3727], dtype=torch.float64)\n",
      "torch.Size([128, 2, 2])\n",
      "tensor(0) tensor([0.7288, 0.2712], dtype=torch.float64)\n",
      "torch.Size([128, 2, 2])\n",
      "tensor(0) tensor([0.7938, 0.2062], dtype=torch.float64)\n",
      "torch.Size([128, 2, 2])\n",
      "tensor(1) tensor([0.6300, 0.3700], dtype=torch.float64)\n",
      "torch.Size([128, 2, 2])\n",
      "tensor(0) tensor([0.8642, 0.1358], dtype=torch.float64)\n",
      "torch.Size([128, 2, 2])\n",
      "tensor(0) tensor([0.6533, 0.3467], dtype=torch.float64)\n",
      "torch.Size([128, 2, 2])\n",
      "tensor(0) tensor([0.6322, 0.3678], dtype=torch.float64)\n",
      "torch.Size([128, 2, 2])\n",
      "tensor(0) tensor([0.5977, 0.4023], dtype=torch.float64)\n",
      "torch.Size([128, 2, 2])\n",
      "tensor(0) tensor([0.8374, 0.1626], dtype=torch.float64)\n",
      "torch.Size([128, 2, 2])\n",
      "tensor(0) tensor([0.8544, 0.1456], dtype=torch.float64)\n",
      "torch.Size([128, 2, 2])\n",
      "tensor(0) tensor([0.6916, 0.3084], dtype=torch.float64)\n",
      "torch.Size([128, 2, 2])\n",
      "tensor(0) tensor([0.8957, 0.1043], dtype=torch.float64)\n",
      "torch.Size([128, 2, 2])\n",
      "tensor(1) tensor([0.7714, 0.2286], dtype=torch.float64)\n",
      "torch.Size([128, 2, 2])\n",
      "tensor(1) tensor([0.6215, 0.3785], dtype=torch.float64)\n",
      "torch.Size([128, 2, 2])\n",
      "tensor(0) tensor([0.8059, 0.1941], dtype=torch.float64)\n",
      "torch.Size([128, 2, 2])\n",
      "tensor(1) tensor([0.4300, 0.5700], dtype=torch.float64)\n",
      "torch.Size([128, 2, 2])\n",
      "tensor(1) tensor([0.3927, 0.6073], dtype=torch.float64)\n",
      "torch.Size([128, 2, 2])\n",
      "tensor(0) tensor([0.7282, 0.2718], dtype=torch.float64)\n",
      "torch.Size([128, 2, 2])\n",
      "tensor(0) tensor([0.7487, 0.2513], dtype=torch.float64)\n",
      "torch.Size([128, 2, 2])\n",
      "tensor(1) tensor([0.4051, 0.5949], dtype=torch.float64)\n",
      "torch.Size([128, 2, 2])\n",
      "tensor(1) tensor([0.5211, 0.4789], dtype=torch.float64)\n",
      "torch.Size([128, 2, 2])\n",
      "tensor(0) tensor([0.5916, 0.4084], dtype=torch.float64)\n",
      "torch.Size([128, 2, 2])\n",
      "tensor(0) tensor([0.6511, 0.3489], dtype=torch.float64)\n",
      "torch.Size([128, 2, 2])\n",
      "tensor(1) tensor([0.3722, 0.6278], dtype=torch.float64)\n",
      "torch.Size([128, 2, 2])\n",
      "tensor(0) tensor([0.7289, 0.2711], dtype=torch.float64)\n",
      "torch.Size([128, 2, 2])\n",
      "tensor(0) tensor([0.4104, 0.5896], dtype=torch.float64)\n",
      "torch.Size([128, 2, 2])\n",
      "tensor(1) tensor([0.4075, 0.5925], dtype=torch.float64)\n",
      "torch.Size([128, 2, 2])\n"
     ]
    },
    {
     "name": "stderr",
     "output_type": "stream",
     "text": [
      " 57%|█████▋    | 1433/2494 [00:04<00:03, 309.37it/s]"
     ]
    },
    {
     "name": "stdout",
     "output_type": "stream",
     "text": [
      "tensor(1) tensor([0.2267, 0.7733], dtype=torch.float64)\n",
      "torch.Size([128, 2, 2])\n",
      "tensor(1) tensor([0.6258, 0.3742], dtype=torch.float64)\n",
      "torch.Size([128, 2, 2])\n",
      "tensor(0) tensor([0.8309, 0.1691], dtype=torch.float64)\n",
      "torch.Size([128, 2, 2])\n",
      "tensor(1) tensor([0.5022, 0.4978], dtype=torch.float64)\n",
      "torch.Size([128, 2, 2])\n",
      "tensor(1) tensor([0.4974, 0.5026], dtype=torch.float64)\n",
      "torch.Size([128, 2, 2])\n",
      "tensor(0) tensor([0.6994, 0.3006], dtype=torch.float64)\n",
      "torch.Size([128, 2, 2])\n",
      "tensor(1) tensor([0.5568, 0.4432], dtype=torch.float64)\n",
      "torch.Size([128, 2, 2])\n",
      "tensor(1) tensor([0.4616, 0.5384], dtype=torch.float64)\n",
      "torch.Size([128, 2, 2])\n",
      "tensor(1) tensor([0.2383, 0.7617], dtype=torch.float64)\n",
      "torch.Size([128, 2, 2])\n",
      "tensor(1) tensor([0.6137, 0.3863], dtype=torch.float64)\n",
      "torch.Size([128, 2, 2])\n",
      "tensor(1) tensor([0.3458, 0.6542], dtype=torch.float64)\n",
      "torch.Size([128, 2, 2])\n",
      "tensor(1) tensor([0.5298, 0.4702], dtype=torch.float64)\n",
      "torch.Size([128, 2, 2])\n",
      "tensor(1) tensor([0.6920, 0.3080], dtype=torch.float64)\n",
      "torch.Size([128, 2, 2])\n",
      "tensor(1) tensor([0.5535, 0.4465], dtype=torch.float64)\n",
      "torch.Size([128, 2, 2])\n",
      "tensor(0) tensor([0.2264, 0.7736], dtype=torch.float64)\n",
      "torch.Size([128, 2, 2])\n",
      "tensor(0) tensor([0.4877, 0.5123], dtype=torch.float64)\n",
      "torch.Size([128, 2, 2])\n",
      "tensor(0) tensor([0.7689, 0.2311], dtype=torch.float64)\n",
      "torch.Size([128, 2, 2])\n",
      "tensor(1) tensor([0.1832, 0.8168], dtype=torch.float64)\n",
      "torch.Size([128, 2, 2])\n",
      "tensor(1) tensor([0.4089, 0.5911], dtype=torch.float64)\n",
      "torch.Size([128, 2, 2])\n",
      "tensor(0) tensor([0.5707, 0.4293], dtype=torch.float64)\n",
      "torch.Size([128, 2, 2])\n",
      "tensor(1) tensor([0.3054, 0.6946], dtype=torch.float64)\n",
      "torch.Size([128, 2, 2])\n",
      "tensor(1) tensor([0.4562, 0.5438], dtype=torch.float64)\n",
      "torch.Size([128, 2, 2])\n",
      "tensor(1) tensor([0.7825, 0.2175], dtype=torch.float64)\n",
      "torch.Size([128, 2, 2])\n",
      "tensor(1) tensor([0.6947, 0.3053], dtype=torch.float64)\n",
      "torch.Size([128, 2, 2])\n",
      "tensor(0) tensor([0.5861, 0.4139], dtype=torch.float64)\n",
      "torch.Size([128, 2, 2])\n",
      "tensor(0) tensor([0.7807, 0.2193], dtype=torch.float64)\n",
      "torch.Size([128, 2, 2])\n",
      "tensor(0) tensor([0.6242, 0.3758], dtype=torch.float64)\n",
      "torch.Size([128, 2, 2])\n",
      "tensor(1) tensor([0.6325, 0.3675], dtype=torch.float64)\n",
      "torch.Size([128, 2, 2])\n",
      "tensor(0) tensor([0.7682, 0.2318], dtype=torch.float64)\n",
      "torch.Size([128, 2, 2])\n",
      "tensor(0) tensor([0.3031, 0.6969], dtype=torch.float64)\n",
      "torch.Size([128, 2, 2])\n",
      "tensor(0) tensor([0.4304, 0.5696], dtype=torch.float64)\n",
      "torch.Size([128, 2, 2])\n",
      "tensor(1) tensor([0.3504, 0.6496], dtype=torch.float64)\n",
      "torch.Size([128, 2, 2])\n",
      "tensor(1) tensor([0.5652, 0.4348], dtype=torch.float64)\n",
      "torch.Size([128, 2, 2])\n",
      "tensor(1) tensor([0.4482, 0.5518], dtype=torch.float64)\n",
      "torch.Size([128, 2, 2])\n",
      "tensor(0) tensor([0.5809, 0.4191], dtype=torch.float64)\n",
      "torch.Size([128, 2, 2])\n",
      "tensor(0) tensor([0.6063, 0.3937], dtype=torch.float64)\n",
      "torch.Size([128, 2, 2])\n",
      "tensor(1) tensor([0.3806, 0.6194], dtype=torch.float64)\n",
      "torch.Size([128, 2, 2])\n",
      "tensor(1) tensor([0.7682, 0.2318], dtype=torch.float64)\n",
      "torch.Size([128, 2, 2])\n",
      "tensor(0) tensor([0.6602, 0.3398], dtype=torch.float64)\n",
      "torch.Size([128, 2, 2])\n",
      "tensor(1) tensor([0.4134, 0.5866], dtype=torch.float64)\n",
      "torch.Size([128, 2, 2])\n",
      "tensor(1) tensor([0.4383, 0.5617], dtype=torch.float64)\n",
      "torch.Size([128, 2, 2])\n",
      "tensor(1) tensor([0.5664, 0.4336], dtype=torch.float64)\n",
      "torch.Size([128, 2, 2])\n",
      "tensor(1) tensor([0.2946, 0.7054], dtype=torch.float64)\n",
      "torch.Size([128, 2, 2])\n",
      "tensor(0) tensor([0.6334, 0.3666], dtype=torch.float64)\n",
      "torch.Size([128, 2, 2])\n",
      "tensor(1) tensor([0.7764, 0.2236], dtype=torch.float64)\n",
      "torch.Size([128, 2, 2])\n",
      "tensor(0) tensor([0.7281, 0.2719], dtype=torch.float64)\n",
      "torch.Size([128, 2, 2])\n",
      "tensor(1) tensor([0.6047, 0.3953], dtype=torch.float64)\n",
      "torch.Size([128, 2, 2])\n",
      "tensor(0) tensor([0.5895, 0.4105], dtype=torch.float64)\n",
      "torch.Size([128, 2, 2])\n",
      "tensor(1) tensor([0.3069, 0.6931], dtype=torch.float64)\n",
      "torch.Size([128, 2, 2])\n",
      "tensor(0) tensor([0.6280, 0.3720], dtype=torch.float64)\n",
      "torch.Size([128, 2, 2])\n",
      "tensor(1) tensor([0.5206, 0.4794], dtype=torch.float64)\n",
      "torch.Size([128, 2, 2])\n",
      "tensor(1) tensor([0.4852, 0.5148], dtype=torch.float64)\n",
      "torch.Size([128, 2, 2])\n",
      "tensor(0) tensor([0.3643, 0.6357], dtype=torch.float64)\n",
      "torch.Size([128, 2, 2])\n",
      "tensor(1) tensor([0.4163, 0.5837], dtype=torch.float64)\n",
      "torch.Size([128, 2, 2])\n",
      "tensor(1) tensor([0.4542, 0.5458], dtype=torch.float64)\n",
      "torch.Size([128, 2, 2])\n",
      "tensor(1) tensor([0.6061, 0.3939], dtype=torch.float64)\n",
      "torch.Size([128, 2, 2])\n",
      "tensor(0) tensor([0.7084, 0.2916], dtype=torch.float64)\n",
      "torch.Size([128, 2, 2])\n",
      "tensor(1) tensor([0.5745, 0.4255], dtype=torch.float64)\n",
      "torch.Size([128, 2, 2])\n",
      "tensor(1) tensor([0.3382, 0.6618], dtype=torch.float64)\n",
      "torch.Size([128, 2, 2])\n",
      "tensor(0) tensor([0.6111, 0.3889], dtype=torch.float64)\n",
      "torch.Size([128, 2, 2])\n",
      "tensor(0) tensor([0.6199, 0.3801], dtype=torch.float64)\n",
      "torch.Size([128, 2, 2])\n",
      "tensor(0) tensor([0.6470, 0.3530], dtype=torch.float64)\n",
      "torch.Size([128, 2, 2])\n"
     ]
    },
    {
     "name": "stderr",
     "output_type": "stream",
     "text": [
      " 60%|█████▉    | 1495/2494 [00:04<00:03, 307.92it/s]"
     ]
    },
    {
     "name": "stdout",
     "output_type": "stream",
     "text": [
      "tensor(1) tensor([0.6632, 0.3368], dtype=torch.float64)\n",
      "torch.Size([128, 2, 2])\n",
      "tensor(1) tensor([0.5256, 0.4744], dtype=torch.float64)\n",
      "torch.Size([128, 2, 2])\n",
      "tensor(1) tensor([0.6649, 0.3351], dtype=torch.float64)\n",
      "torch.Size([128, 2, 2])\n",
      "tensor(0) tensor([0.6417, 0.3583], dtype=torch.float64)\n",
      "torch.Size([128, 2, 2])\n",
      "tensor(1) tensor([0.6642, 0.3358], dtype=torch.float64)\n",
      "torch.Size([128, 2, 2])\n",
      "tensor(1) tensor([0.6023, 0.3977], dtype=torch.float64)\n",
      "torch.Size([128, 2, 2])\n",
      "tensor(0) tensor([0.4293, 0.5707], dtype=torch.float64)\n",
      "torch.Size([128, 2, 2])\n",
      "tensor(1) tensor([0.3581, 0.6419], dtype=torch.float64)\n",
      "torch.Size([128, 2, 2])\n",
      "tensor(1) tensor([0.5662, 0.4338], dtype=torch.float64)\n",
      "torch.Size([128, 2, 2])\n",
      "tensor(0) tensor([0.7572, 0.2428], dtype=torch.float64)\n",
      "torch.Size([128, 2, 2])\n",
      "tensor(0) tensor([0.8370, 0.1630], dtype=torch.float64)\n",
      "torch.Size([128, 2, 2])\n",
      "tensor(1) tensor([0.5032, 0.4968], dtype=torch.float64)\n",
      "torch.Size([128, 2, 2])\n",
      "tensor(0) tensor([0.8055, 0.1945], dtype=torch.float64)\n",
      "torch.Size([128, 2, 2])\n",
      "tensor(0) tensor([0.8656, 0.1344], dtype=torch.float64)\n",
      "torch.Size([128, 2, 2])\n",
      "tensor(1) tensor([0.5359, 0.4641], dtype=torch.float64)\n",
      "torch.Size([128, 2, 2])\n",
      "tensor(0) tensor([0.7437, 0.2563], dtype=torch.float64)\n",
      "torch.Size([128, 2, 2])\n",
      "tensor(1) tensor([0.4751, 0.5249], dtype=torch.float64)\n",
      "torch.Size([128, 2, 2])\n",
      "tensor(1) tensor([0.4529, 0.5471], dtype=torch.float64)\n",
      "torch.Size([128, 2, 2])\n",
      "tensor(0) tensor([0.7783, 0.2217], dtype=torch.float64)\n",
      "torch.Size([128, 2, 2])\n",
      "tensor(0) tensor([0.7909, 0.2091], dtype=torch.float64)\n",
      "torch.Size([128, 2, 2])\n",
      "tensor(1) tensor([0.5370, 0.4630], dtype=torch.float64)\n",
      "torch.Size([128, 2, 2])\n",
      "tensor(0) tensor([0.8321, 0.1679], dtype=torch.float64)\n",
      "torch.Size([128, 2, 2])\n",
      "tensor(0) tensor([0.6506, 0.3494], dtype=torch.float64)\n",
      "torch.Size([128, 2, 2])\n",
      "tensor(0) tensor([0.3348, 0.6652], dtype=torch.float64)\n",
      "torch.Size([128, 2, 2])\n",
      "tensor(1) tensor([0.1712, 0.8288], dtype=torch.float64)\n",
      "torch.Size([128, 2, 2])\n",
      "tensor(1) tensor([0.6101, 0.3899], dtype=torch.float64)\n",
      "torch.Size([128, 2, 2])\n",
      "tensor(1) tensor([0.5286, 0.4714], dtype=torch.float64)\n",
      "torch.Size([128, 2, 2])\n",
      "tensor(0) tensor([0.6617, 0.3383], dtype=torch.float64)\n",
      "torch.Size([128, 2, 2])\n",
      "tensor(0) tensor([0.4535, 0.5465], dtype=torch.float64)\n",
      "torch.Size([128, 2, 2])\n",
      "tensor(0) tensor([0.8226, 0.1774], dtype=torch.float64)\n",
      "torch.Size([128, 2, 2])\n",
      "tensor(0) tensor([0.6058, 0.3942], dtype=torch.float64)\n",
      "torch.Size([128, 2, 2])\n",
      "tensor(1) tensor([0.6446, 0.3554], dtype=torch.float64)\n",
      "torch.Size([128, 2, 2])\n",
      "tensor(0) tensor([0.6049, 0.3951], dtype=torch.float64)\n",
      "torch.Size([128, 2, 2])\n",
      "tensor(0) tensor([0.6208, 0.3792], dtype=torch.float64)\n",
      "torch.Size([128, 2, 2])\n",
      "tensor(0) tensor([0.6186, 0.3814], dtype=torch.float64)\n",
      "torch.Size([128, 2, 2])\n",
      "tensor(1) tensor([0.3197, 0.6803], dtype=torch.float64)\n",
      "torch.Size([128, 2, 2])\n",
      "tensor(0) tensor([0.8222, 0.1778], dtype=torch.float64)\n",
      "torch.Size([128, 2, 2])\n",
      "tensor(1) tensor([0.4600, 0.5400], dtype=torch.float64)\n",
      "torch.Size([128, 2, 2])\n",
      "tensor(1) tensor([0.7550, 0.2450], dtype=torch.float64)\n",
      "torch.Size([128, 2, 2])\n",
      "tensor(0) tensor([0.7449, 0.2551], dtype=torch.float64)\n",
      "torch.Size([128, 2, 2])\n",
      "tensor(0) tensor([0.6123, 0.3877], dtype=torch.float64)\n",
      "torch.Size([128, 2, 2])\n",
      "tensor(1) tensor([0.6644, 0.3356], dtype=torch.float64)\n",
      "torch.Size([128, 2, 2])\n",
      "tensor(0) tensor([0.6400, 0.3600], dtype=torch.float64)\n",
      "torch.Size([128, 2, 2])\n",
      "tensor(1) tensor([0.3338, 0.6662], dtype=torch.float64)\n",
      "torch.Size([128, 2, 2])\n",
      "tensor(1) tensor([0.5380, 0.4620], dtype=torch.float64)\n",
      "torch.Size([128, 2, 2])\n",
      "tensor(0) tensor([0.6087, 0.3913], dtype=torch.float64)\n",
      "torch.Size([128, 2, 2])\n",
      "tensor(1) tensor([0.5684, 0.4316], dtype=torch.float64)\n",
      "torch.Size([128, 2, 2])\n",
      "tensor(1) tensor([0.5747, 0.4253], dtype=torch.float64)\n",
      "torch.Size([128, 2, 2])\n",
      "tensor(1) tensor([0.6624, 0.3376], dtype=torch.float64)\n",
      "torch.Size([128, 2, 2])\n",
      "tensor(1) tensor([0.6420, 0.3580], dtype=torch.float64)\n",
      "torch.Size([128, 2, 2])\n",
      "tensor(0) tensor([0.4295, 0.5705], dtype=torch.float64)\n",
      "torch.Size([128, 2, 2])\n",
      "tensor(1) tensor([0.2713, 0.7287], dtype=torch.float64)\n",
      "torch.Size([128, 2, 2])\n",
      "tensor(0) tensor([0.6317, 0.3683], dtype=torch.float64)\n",
      "torch.Size([128, 2, 2])\n",
      "tensor(1) tensor([0.4324, 0.5676], dtype=torch.float64)\n",
      "torch.Size([128, 2, 2])\n",
      "tensor(0) tensor([0.4721, 0.5279], dtype=torch.float64)\n",
      "torch.Size([128, 2, 2])\n",
      "tensor(0) tensor([0.8206, 0.1794], dtype=torch.float64)\n",
      "torch.Size([128, 2, 2])\n",
      "tensor(1) tensor([0.4409, 0.5591], dtype=torch.float64)\n",
      "torch.Size([128, 2, 2])\n",
      "tensor(1) tensor([0.5726, 0.4274], dtype=torch.float64)\n",
      "torch.Size([128, 2, 2])\n",
      "tensor(0) tensor([0.4800, 0.5200], dtype=torch.float64)\n",
      "torch.Size([128, 2, 2])\n",
      "tensor(1) tensor([0.2867, 0.7133], dtype=torch.float64)\n",
      "torch.Size([128, 2, 2])\n",
      "tensor(0) tensor([0.7218, 0.2782], dtype=torch.float64)\n"
     ]
    },
    {
     "name": "stderr",
     "output_type": "stream",
     "text": [
      " 62%|██████▏   | 1557/2494 [00:05<00:03, 303.09it/s]"
     ]
    },
    {
     "name": "stdout",
     "output_type": "stream",
     "text": [
      "torch.Size([128, 2, 2])\n",
      "tensor(1) tensor([0.5171, 0.4829], dtype=torch.float64)\n",
      "torch.Size([128, 2, 2])\n",
      "tensor(1) tensor([0.3490, 0.6510], dtype=torch.float64)\n",
      "torch.Size([128, 2, 2])\n",
      "tensor(1) tensor([0.2022, 0.7978], dtype=torch.float64)\n",
      "torch.Size([128, 2, 2])\n",
      "tensor(0) tensor([0.3643, 0.6357], dtype=torch.float64)\n",
      "torch.Size([128, 2, 2])\n",
      "tensor(0) tensor([0.7359, 0.2641], dtype=torch.float64)\n",
      "torch.Size([128, 2, 2])\n",
      "tensor(1) tensor([0.5887, 0.4113], dtype=torch.float64)\n",
      "torch.Size([128, 2, 2])\n",
      "tensor(1) tensor([0.6817, 0.3183], dtype=torch.float64)\n",
      "torch.Size([128, 2, 2])\n",
      "tensor(1) tensor([0.7128, 0.2872], dtype=torch.float64)\n",
      "torch.Size([128, 2, 2])\n",
      "tensor(0) tensor([0.3613, 0.6387], dtype=torch.float64)\n",
      "torch.Size([128, 2, 2])\n",
      "tensor(0) tensor([0.7072, 0.2928], dtype=torch.float64)\n",
      "torch.Size([128, 2, 2])\n",
      "tensor(1) tensor([0.3253, 0.6747], dtype=torch.float64)\n",
      "torch.Size([128, 2, 2])\n",
      "tensor(1) tensor([0.3620, 0.6380], dtype=torch.float64)\n",
      "torch.Size([128, 2, 2])\n",
      "tensor(1) tensor([0.5984, 0.4016], dtype=torch.float64)\n",
      "torch.Size([128, 2, 2])\n",
      "tensor(1) tensor([0.2510, 0.7490], dtype=torch.float64)\n",
      "torch.Size([128, 2, 2])\n",
      "tensor(1) tensor([0.7467, 0.2533], dtype=torch.float64)\n",
      "torch.Size([128, 2, 2])\n",
      "tensor(0) tensor([0.3307, 0.6693], dtype=torch.float64)\n",
      "torch.Size([128, 2, 2])\n",
      "tensor(1) tensor([0.3696, 0.6304], dtype=torch.float64)\n",
      "torch.Size([128, 2, 2])\n",
      "tensor(0) tensor([0.6253, 0.3747], dtype=torch.float64)\n",
      "torch.Size([128, 2, 2])\n",
      "tensor(1) tensor([0.4318, 0.5682], dtype=torch.float64)\n",
      "torch.Size([128, 2, 2])\n",
      "tensor(1) tensor([0.7153, 0.2847], dtype=torch.float64)\n",
      "torch.Size([128, 2, 2])\n",
      "tensor(0) tensor([0.8321, 0.1679], dtype=torch.float64)\n",
      "torch.Size([128, 2, 2])\n",
      "tensor(0) tensor([0.7389, 0.2611], dtype=torch.float64)\n",
      "torch.Size([128, 2, 2])\n",
      "tensor(0) tensor([0.4824, 0.5176], dtype=torch.float64)\n",
      "torch.Size([128, 2, 2])\n",
      "tensor(0) tensor([0.8573, 0.1427], dtype=torch.float64)\n",
      "torch.Size([128, 2, 2])\n",
      "tensor(0) tensor([0.6231, 0.3769], dtype=torch.float64)\n",
      "torch.Size([128, 2, 2])\n",
      "tensor(1) tensor([0.5848, 0.4152], dtype=torch.float64)\n",
      "torch.Size([128, 2, 2])\n",
      "tensor(1) tensor([0.3569, 0.6431], dtype=torch.float64)\n",
      "torch.Size([128, 2, 2])\n",
      "tensor(1) tensor([0.3882, 0.6118], dtype=torch.float64)\n",
      "torch.Size([128, 2, 2])\n",
      "tensor(0) tensor([0.7681, 0.2319], dtype=torch.float64)\n",
      "torch.Size([128, 2, 2])\n",
      "tensor(1) tensor([0.4679, 0.5321], dtype=torch.float64)\n",
      "torch.Size([128, 2, 2])\n",
      "tensor(1) tensor([0.4071, 0.5929], dtype=torch.float64)\n",
      "torch.Size([128, 2, 2])\n",
      "tensor(1) tensor([0.7018, 0.2982], dtype=torch.float64)\n",
      "torch.Size([128, 2, 2])\n",
      "tensor(0) tensor([0.8095, 0.1905], dtype=torch.float64)\n",
      "torch.Size([128, 2, 2])\n",
      "tensor(1) tensor([0.5258, 0.4742], dtype=torch.float64)\n",
      "torch.Size([128, 2, 2])\n",
      "tensor(0) tensor([0.7592, 0.2408], dtype=torch.float64)\n",
      "torch.Size([128, 2, 2])\n",
      "tensor(1) tensor([0.2675, 0.7325], dtype=torch.float64)\n",
      "torch.Size([128, 2, 2])\n",
      "tensor(0) tensor([0.5254, 0.4746], dtype=torch.float64)\n",
      "torch.Size([128, 2, 2])\n",
      "tensor(1) tensor([0.2390, 0.7610], dtype=torch.float64)\n",
      "torch.Size([128, 2, 2])\n",
      "tensor(1) tensor([0.3648, 0.6352], dtype=torch.float64)\n",
      "torch.Size([128, 2, 2])\n",
      "tensor(0) tensor([0.6188, 0.3812], dtype=torch.float64)\n",
      "torch.Size([128, 2, 2])\n",
      "tensor(1) tensor([0.2811, 0.7189], dtype=torch.float64)\n",
      "torch.Size([128, 2, 2])\n",
      "tensor(1) tensor([0.1541, 0.8459], dtype=torch.float64)\n",
      "torch.Size([128, 2, 2])\n",
      "tensor(0) tensor([0.3255, 0.6745], dtype=torch.float64)\n",
      "torch.Size([128, 2, 2])\n",
      "tensor(0) tensor([0.4452, 0.5548], dtype=torch.float64)\n",
      "torch.Size([128, 2, 2])\n",
      "tensor(0) tensor([0.8365, 0.1635], dtype=torch.float64)\n",
      "torch.Size([128, 2, 2])\n",
      "tensor(0) tensor([0.5794, 0.4206], dtype=torch.float64)\n",
      "torch.Size([128, 2, 2])\n",
      "tensor(0) tensor([0.4798, 0.5202], dtype=torch.float64)\n",
      "torch.Size([128, 2, 2])\n",
      "tensor(0) tensor([0.6008, 0.3992], dtype=torch.float64)\n",
      "torch.Size([128, 2, 2])\n",
      "tensor(0) tensor([0.4341, 0.5659], dtype=torch.float64)\n",
      "torch.Size([128, 2, 2])\n",
      "tensor(0) tensor([0.6087, 0.3913], dtype=torch.float64)\n",
      "torch.Size([128, 2, 2])\n",
      "tensor(0) tensor([0.7419, 0.2581], dtype=torch.float64)\n",
      "torch.Size([128, 2, 2])\n",
      "tensor(1) tensor([0.5442, 0.4558], dtype=torch.float64)\n",
      "torch.Size([128, 2, 2])\n",
      "tensor(0) tensor([0.4734, 0.5266], dtype=torch.float64)\n",
      "torch.Size([128, 2, 2])\n",
      "tensor(0) tensor([0.7231, 0.2769], dtype=torch.float64)\n",
      "torch.Size([128, 2, 2])\n",
      "tensor(0) tensor([0.7182, 0.2818], dtype=torch.float64)\n",
      "torch.Size([128, 2, 2])\n",
      "tensor(0) tensor([0.6693, 0.3307], dtype=torch.float64)\n",
      "torch.Size([128, 2, 2])\n",
      "tensor(0) tensor([0.7300, 0.2700], dtype=torch.float64)\n",
      "torch.Size([128, 2, 2])\n",
      "tensor(0) tensor([0.5914, 0.4086], dtype=torch.float64)\n",
      "torch.Size([128, 2, 2])\n",
      "tensor(1) tensor([0.6808, 0.3192], dtype=torch.float64)\n",
      "torch.Size([128, 2, 2])\n",
      "tensor(0) tensor([0.5063, 0.4937], dtype=torch.float64)\n",
      "torch.Size([128, 2, 2])\n"
     ]
    },
    {
     "name": "stderr",
     "output_type": "stream",
     "text": [
      " 65%|██████▍   | 1620/2494 [00:05<00:02, 305.60it/s]"
     ]
    },
    {
     "name": "stdout",
     "output_type": "stream",
     "text": [
      "tensor(0) tensor([0.5727, 0.4273], dtype=torch.float64)\n",
      "torch.Size([128, 2, 2])\n",
      "tensor(0) tensor([0.4689, 0.5311], dtype=torch.float64)\n",
      "torch.Size([128, 2, 2])\n",
      "tensor(1) tensor([0.5907, 0.4093], dtype=torch.float64)\n",
      "torch.Size([128, 2, 2])\n",
      "tensor(0) tensor([0.7123, 0.2877], dtype=torch.float64)\n",
      "torch.Size([128, 2, 2])\n",
      "tensor(0) tensor([0.7984, 0.2016], dtype=torch.float64)\n",
      "torch.Size([128, 2, 2])\n",
      "tensor(1) tensor([0.4002, 0.5998], dtype=torch.float64)\n",
      "torch.Size([128, 2, 2])\n",
      "tensor(1) tensor([0.6076, 0.3924], dtype=torch.float64)\n",
      "torch.Size([128, 2, 2])\n",
      "tensor(0) tensor([0.4711, 0.5289], dtype=torch.float64)\n",
      "torch.Size([128, 2, 2])\n",
      "tensor(0) tensor([0.6274, 0.3726], dtype=torch.float64)\n",
      "torch.Size([128, 2, 2])\n",
      "tensor(1) tensor([0.7419, 0.2581], dtype=torch.float64)\n",
      "torch.Size([128, 2, 2])\n",
      "tensor(1) tensor([0.4258, 0.5742], dtype=torch.float64)\n",
      "torch.Size([128, 2, 2])\n",
      "tensor(1) tensor([0.2125, 0.7875], dtype=torch.float64)\n",
      "torch.Size([128, 2, 2])\n",
      "tensor(1) tensor([0.5244, 0.4756], dtype=torch.float64)\n",
      "torch.Size([128, 2, 2])\n",
      "tensor(0) tensor([0.6900, 0.3100], dtype=torch.float64)\n",
      "torch.Size([128, 2, 2])\n",
      "tensor(1) tensor([0.6436, 0.3564], dtype=torch.float64)\n",
      "torch.Size([128, 2, 2])\n",
      "tensor(1) tensor([0.6362, 0.3638], dtype=torch.float64)\n",
      "torch.Size([128, 2, 2])\n",
      "tensor(0) tensor([0.4855, 0.5145], dtype=torch.float64)\n",
      "torch.Size([128, 2, 2])\n",
      "tensor(1) tensor([0.3142, 0.6858], dtype=torch.float64)\n",
      "torch.Size([128, 2, 2])\n",
      "tensor(0) tensor([0.4799, 0.5201], dtype=torch.float64)\n",
      "torch.Size([128, 2, 2])\n",
      "tensor(1) tensor([0.4976, 0.5024], dtype=torch.float64)\n",
      "torch.Size([128, 2, 2])\n",
      "tensor(0) tensor([0.4458, 0.5542], dtype=torch.float64)\n",
      "torch.Size([128, 2, 2])\n",
      "tensor(0) tensor([0.6795, 0.3205], dtype=torch.float64)\n",
      "torch.Size([128, 2, 2])\n",
      "tensor(1) tensor([0.5166, 0.4834], dtype=torch.float64)\n",
      "torch.Size([128, 2, 2])\n",
      "tensor(0) tensor([0.7537, 0.2463], dtype=torch.float64)\n",
      "torch.Size([128, 2, 2])\n",
      "tensor(1) tensor([0.2449, 0.7551], dtype=torch.float64)\n",
      "torch.Size([128, 2, 2])\n",
      "tensor(1) tensor([0.2493, 0.7507], dtype=torch.float64)\n",
      "torch.Size([128, 2, 2])\n",
      "tensor(1) tensor([0.7247, 0.2753], dtype=torch.float64)\n",
      "torch.Size([128, 2, 2])\n",
      "tensor(1) tensor([0.6230, 0.3770], dtype=torch.float64)\n",
      "torch.Size([128, 2, 2])\n",
      "tensor(1) tensor([0.2253, 0.7747], dtype=torch.float64)\n",
      "torch.Size([128, 2, 2])\n",
      "tensor(1) tensor([0.6085, 0.3915], dtype=torch.float64)\n",
      "torch.Size([128, 2, 2])\n",
      "tensor(0) tensor([0.6380, 0.3620], dtype=torch.float64)\n",
      "torch.Size([128, 2, 2])\n",
      "tensor(0) tensor([0.7823, 0.2177], dtype=torch.float64)\n",
      "torch.Size([128, 2, 2])\n",
      "tensor(1) tensor([0.2760, 0.7240], dtype=torch.float64)\n",
      "torch.Size([128, 2, 2])\n",
      "tensor(0) tensor([0.7005, 0.2995], dtype=torch.float64)\n",
      "torch.Size([128, 2, 2])\n",
      "tensor(1) tensor([0.5923, 0.4077], dtype=torch.float64)\n",
      "torch.Size([128, 2, 2])\n",
      "tensor(1) tensor([0.5085, 0.4915], dtype=torch.float64)\n",
      "torch.Size([128, 2, 2])\n",
      "tensor(0) tensor([0.4668, 0.5332], dtype=torch.float64)\n",
      "torch.Size([128, 2, 2])\n",
      "tensor(0) tensor([0.5215, 0.4785], dtype=torch.float64)\n",
      "torch.Size([128, 2, 2])\n",
      "tensor(1) tensor([0.6091, 0.3909], dtype=torch.float64)\n",
      "torch.Size([128, 2, 2])\n",
      "tensor(1) tensor([0.4631, 0.5369], dtype=torch.float64)\n",
      "torch.Size([128, 2, 2])\n",
      "tensor(0) tensor([0.7589, 0.2411], dtype=torch.float64)\n",
      "torch.Size([128, 2, 2])\n",
      "tensor(0) tensor([0.5911, 0.4089], dtype=torch.float64)\n",
      "torch.Size([128, 2, 2])\n",
      "tensor(1) tensor([0.4553, 0.5447], dtype=torch.float64)\n",
      "torch.Size([128, 2, 2])\n",
      "tensor(0) tensor([0.1618, 0.8382], dtype=torch.float64)\n",
      "torch.Size([128, 2, 2])\n",
      "tensor(0) tensor([0.5455, 0.4545], dtype=torch.float64)\n",
      "torch.Size([128, 2, 2])\n",
      "tensor(1) tensor([0.8243, 0.1757], dtype=torch.float64)\n",
      "torch.Size([128, 2, 2])\n",
      "tensor(1) tensor([0.6560, 0.3440], dtype=torch.float64)\n",
      "torch.Size([128, 2, 2])\n",
      "tensor(1) tensor([0.1888, 0.8112], dtype=torch.float64)\n",
      "torch.Size([128, 2, 2])\n",
      "tensor(0) tensor([0.6093, 0.3907], dtype=torch.float64)\n",
      "torch.Size([128, 2, 2])\n",
      "tensor(1) tensor([0.7753, 0.2247], dtype=torch.float64)\n",
      "torch.Size([128, 2, 2])\n",
      "tensor(1) tensor([0.4344, 0.5656], dtype=torch.float64)\n",
      "torch.Size([128, 2, 2])\n",
      "tensor(1) tensor([0.3047, 0.6953], dtype=torch.float64)\n",
      "torch.Size([128, 2, 2])\n",
      "tensor(1) tensor([0.6882, 0.3118], dtype=torch.float64)\n",
      "torch.Size([128, 2, 2])\n",
      "tensor(1) tensor([0.6743, 0.3257], dtype=torch.float64)\n",
      "torch.Size([128, 2, 2])\n",
      "tensor(1) tensor([0.4777, 0.5223], dtype=torch.float64)\n",
      "torch.Size([128, 2, 2])\n",
      "tensor(0) tensor([0.5488, 0.4512], dtype=torch.float64)\n",
      "torch.Size([128, 2, 2])\n",
      "tensor(1) tensor([0.4555, 0.5445], dtype=torch.float64)\n",
      "torch.Size([128, 2, 2])\n",
      "tensor(0) tensor([0.6781, 0.3219], dtype=torch.float64)\n",
      "torch.Size([128, 2, 2])\n",
      "tensor(0) tensor([0.6369, 0.3631], dtype=torch.float64)\n",
      "torch.Size([128, 2, 2])\n",
      "tensor(1) tensor([0.4154, 0.5846], dtype=torch.float64)\n",
      "torch.Size([128, 2, 2])\n",
      "tensor(1) tensor([0.3681, 0.6319], dtype=torch.float64)\n",
      "torch.Size([128, 2, 2])\n",
      "tensor(0) tensor([0.5323, 0.4677], dtype=torch.float64)\n"
     ]
    },
    {
     "name": "stderr",
     "output_type": "stream",
     "text": [
      " 67%|██████▋   | 1682/2494 [00:05<00:02, 300.67it/s]"
     ]
    },
    {
     "name": "stdout",
     "output_type": "stream",
     "text": [
      "torch.Size([128, 2, 2])\n",
      "tensor(0) tensor([0.3581, 0.6419], dtype=torch.float64)\n",
      "torch.Size([128, 2, 2])\n",
      "tensor(0) tensor([0.5930, 0.4070], dtype=torch.float64)\n",
      "torch.Size([128, 2, 2])\n",
      "tensor(0) tensor([0.8300, 0.1700], dtype=torch.float64)\n",
      "torch.Size([128, 2, 2])\n",
      "tensor(1) tensor([0.4502, 0.5498], dtype=torch.float64)\n",
      "torch.Size([128, 2, 2])\n",
      "tensor(0) tensor([0.7994, 0.2006], dtype=torch.float64)\n",
      "torch.Size([128, 2, 2])\n",
      "tensor(1) tensor([0.6843, 0.3157], dtype=torch.float64)\n",
      "torch.Size([128, 2, 2])\n",
      "tensor(1) tensor([0.4190, 0.5810], dtype=torch.float64)\n",
      "torch.Size([128, 2, 2])\n",
      "tensor(1) tensor([0.3034, 0.6966], dtype=torch.float64)\n",
      "torch.Size([128, 2, 2])\n",
      "tensor(0) tensor([0.5927, 0.4073], dtype=torch.float64)\n",
      "torch.Size([128, 2, 2])\n",
      "tensor(1) tensor([0.6139, 0.3861], dtype=torch.float64)\n",
      "torch.Size([128, 2, 2])\n",
      "tensor(1) tensor([0.9130, 0.0870], dtype=torch.float64)\n",
      "torch.Size([128, 2, 2])\n",
      "tensor(0) tensor([0.8002, 0.1998], dtype=torch.float64)\n",
      "torch.Size([128, 2, 2])\n",
      "tensor(1) tensor([0.5195, 0.4805], dtype=torch.float64)\n",
      "torch.Size([128, 2, 2])\n",
      "tensor(1) tensor([0.6012, 0.3988], dtype=torch.float64)\n",
      "torch.Size([128, 2, 2])\n",
      "tensor(1) tensor([0.4287, 0.5713], dtype=torch.float64)\n",
      "torch.Size([128, 2, 2])\n",
      "tensor(1) tensor([0.6014, 0.3986], dtype=torch.float64)\n",
      "torch.Size([128, 2, 2])\n",
      "tensor(0) tensor([0.6309, 0.3691], dtype=torch.float64)\n",
      "torch.Size([128, 2, 2])\n",
      "tensor(1) tensor([0.6565, 0.3435], dtype=torch.float64)\n",
      "torch.Size([128, 2, 2])\n",
      "tensor(1) tensor([0.4138, 0.5862], dtype=torch.float64)\n",
      "torch.Size([128, 2, 2])\n",
      "tensor(0) tensor([0.1997, 0.8003], dtype=torch.float64)\n",
      "torch.Size([128, 2, 2])\n",
      "tensor(0) tensor([0.5660, 0.4340], dtype=torch.float64)\n",
      "torch.Size([128, 2, 2])\n",
      "tensor(0) tensor([0.5889, 0.4111], dtype=torch.float64)\n",
      "torch.Size([128, 2, 2])\n",
      "tensor(1) tensor([0.6635, 0.3365], dtype=torch.float64)\n",
      "torch.Size([128, 2, 2])\n",
      "tensor(0) tensor([0.8645, 0.1355], dtype=torch.float64)\n",
      "torch.Size([128, 2, 2])\n",
      "tensor(1) tensor([0.2040, 0.7960], dtype=torch.float64)\n",
      "torch.Size([128, 2, 2])\n",
      "tensor(0) tensor([0.5834, 0.4166], dtype=torch.float64)\n",
      "torch.Size([128, 2, 2])\n",
      "tensor(0) tensor([0.7094, 0.2906], dtype=torch.float64)\n",
      "torch.Size([128, 2, 2])\n",
      "tensor(0) tensor([0.6167, 0.3833], dtype=torch.float64)\n",
      "torch.Size([128, 2, 2])\n",
      "tensor(1) tensor([0.4194, 0.5806], dtype=torch.float64)\n",
      "torch.Size([128, 2, 2])\n",
      "tensor(1) tensor([0.4595, 0.5405], dtype=torch.float64)\n",
      "torch.Size([128, 2, 2])\n",
      "tensor(0) tensor([0.6020, 0.3980], dtype=torch.float64)\n",
      "torch.Size([128, 2, 2])\n",
      "tensor(1) tensor([0.3088, 0.6912], dtype=torch.float64)\n",
      "torch.Size([128, 2, 2])\n",
      "tensor(0) tensor([0.6722, 0.3278], dtype=torch.float64)\n",
      "torch.Size([128, 2, 2])\n",
      "tensor(0) tensor([0.5775, 0.4225], dtype=torch.float64)\n",
      "torch.Size([128, 2, 2])\n",
      "tensor(1) tensor([0.5016, 0.4984], dtype=torch.float64)\n",
      "torch.Size([128, 2, 2])\n",
      "tensor(0) tensor([0.6767, 0.3233], dtype=torch.float64)\n",
      "torch.Size([128, 2, 2])\n",
      "tensor(0) tensor([0.7625, 0.2375], dtype=torch.float64)\n",
      "torch.Size([128, 2, 2])\n",
      "tensor(1) tensor([0.3079, 0.6921], dtype=torch.float64)\n",
      "torch.Size([128, 2, 2])\n",
      "tensor(1) tensor([0.4498, 0.5502], dtype=torch.float64)\n",
      "torch.Size([128, 2, 2])\n",
      "tensor(0) tensor([0.5918, 0.4082], dtype=torch.float64)\n",
      "torch.Size([128, 2, 2])\n",
      "tensor(1) tensor([0.5104, 0.4896], dtype=torch.float64)\n",
      "torch.Size([128, 2, 2])\n",
      "tensor(0) tensor([0.5918, 0.4082], dtype=torch.float64)\n",
      "torch.Size([128, 2, 2])\n",
      "tensor(1) tensor([0.1290, 0.8710], dtype=torch.float64)\n",
      "torch.Size([128, 2, 2])\n",
      "tensor(1) tensor([0.2948, 0.7052], dtype=torch.float64)\n",
      "torch.Size([128, 2, 2])\n",
      "tensor(0) tensor([0.8198, 0.1802], dtype=torch.float64)\n",
      "torch.Size([128, 2, 2])\n",
      "tensor(0) tensor([0.4793, 0.5207], dtype=torch.float64)\n",
      "torch.Size([128, 2, 2])\n",
      "tensor(1) tensor([0.3863, 0.6137], dtype=torch.float64)\n",
      "torch.Size([128, 2, 2])\n",
      "tensor(1) tensor([0.4106, 0.5894], dtype=torch.float64)\n",
      "torch.Size([128, 2, 2])\n",
      "tensor(1) tensor([0.3867, 0.6133], dtype=torch.float64)\n",
      "torch.Size([128, 2, 2])\n",
      "tensor(0) tensor([0.6503, 0.3497], dtype=torch.float64)\n",
      "torch.Size([128, 2, 2])\n",
      "tensor(0) tensor([0.5737, 0.4263], dtype=torch.float64)\n",
      "torch.Size([128, 2, 2])\n",
      "tensor(0) tensor([0.6721, 0.3279], dtype=torch.float64)\n",
      "torch.Size([128, 2, 2])\n",
      "tensor(0) tensor([0.5072, 0.4928], dtype=torch.float64)\n",
      "torch.Size([128, 2, 2])\n",
      "tensor(1) tensor([0.2634, 0.7366], dtype=torch.float64)\n",
      "torch.Size([128, 2, 2])\n",
      "tensor(0) tensor([0.6845, 0.3155], dtype=torch.float64)\n",
      "torch.Size([128, 2, 2])\n",
      "tensor(1) tensor([0.2728, 0.7272], dtype=torch.float64)\n",
      "torch.Size([128, 2, 2])\n",
      "tensor(1) tensor([0.3865, 0.6135], dtype=torch.float64)\n",
      "torch.Size([128, 2, 2])\n",
      "tensor(0) tensor([0.4833, 0.5167], dtype=torch.float64)\n",
      "torch.Size([128, 2, 2])\n",
      "tensor(0) tensor([0.6213, 0.3787], dtype=torch.float64)\n",
      "torch.Size([128, 2, 2])\n"
     ]
    },
    {
     "name": "stderr",
     "output_type": "stream",
     "text": [
      " 70%|██████▉   | 1744/2494 [00:05<00:02, 303.07it/s]"
     ]
    },
    {
     "name": "stdout",
     "output_type": "stream",
     "text": [
      "tensor(1) tensor([0.4721, 0.5279], dtype=torch.float64)\n",
      "torch.Size([128, 2, 2])\n",
      "tensor(1) tensor([0.3461, 0.6539], dtype=torch.float64)\n",
      "torch.Size([128, 2, 2])\n",
      "tensor(0) tensor([0.6037, 0.3963], dtype=torch.float64)\n",
      "torch.Size([128, 2, 2])\n",
      "tensor(1) tensor([0.2997, 0.7003], dtype=torch.float64)\n",
      "torch.Size([128, 2, 2])\n",
      "tensor(1) tensor([0.4467, 0.5533], dtype=torch.float64)\n",
      "torch.Size([128, 2, 2])\n",
      "tensor(1) tensor([0.5784, 0.4216], dtype=torch.float64)\n",
      "torch.Size([128, 2, 2])\n",
      "tensor(0) tensor([0.4681, 0.5319], dtype=torch.float64)\n",
      "torch.Size([128, 2, 2])\n",
      "tensor(1) tensor([0.4713, 0.5287], dtype=torch.float64)\n",
      "torch.Size([128, 2, 2])\n",
      "tensor(0) tensor([0.4792, 0.5208], dtype=torch.float64)\n",
      "torch.Size([128, 2, 2])\n",
      "tensor(0) tensor([0.6955, 0.3045], dtype=torch.float64)\n",
      "torch.Size([128, 2, 2])\n",
      "tensor(1) tensor([0.4458, 0.5542], dtype=torch.float64)\n",
      "torch.Size([128, 2, 2])\n",
      "tensor(0) tensor([0.3647, 0.6353], dtype=torch.float64)\n",
      "torch.Size([128, 2, 2])\n",
      "tensor(1) tensor([0.6536, 0.3464], dtype=torch.float64)\n",
      "torch.Size([128, 2, 2])\n",
      "tensor(0) tensor([0.7116, 0.2884], dtype=torch.float64)\n",
      "torch.Size([128, 2, 2])\n",
      "tensor(0) tensor([0.7100, 0.2900], dtype=torch.float64)\n",
      "torch.Size([128, 2, 2])\n",
      "tensor(1) tensor([0.6258, 0.3742], dtype=torch.float64)\n",
      "torch.Size([128, 2, 2])\n",
      "tensor(0) tensor([0.6014, 0.3986], dtype=torch.float64)\n",
      "torch.Size([128, 2, 2])\n",
      "tensor(0) tensor([0.8561, 0.1439], dtype=torch.float64)\n",
      "torch.Size([128, 2, 2])\n",
      "tensor(0) tensor([0.6167, 0.3833], dtype=torch.float64)\n",
      "torch.Size([128, 2, 2])\n",
      "tensor(0) tensor([0.4686, 0.5314], dtype=torch.float64)\n",
      "torch.Size([128, 2, 2])\n",
      "tensor(0) tensor([0.6411, 0.3589], dtype=torch.float64)\n",
      "torch.Size([128, 2, 2])\n",
      "tensor(1) tensor([0.5222, 0.4778], dtype=torch.float64)\n",
      "torch.Size([128, 2, 2])\n",
      "tensor(1) tensor([0.3554, 0.6446], dtype=torch.float64)\n",
      "torch.Size([128, 2, 2])\n",
      "tensor(1) tensor([0.4845, 0.5155], dtype=torch.float64)\n",
      "torch.Size([128, 2, 2])\n",
      "tensor(1) tensor([0.4679, 0.5321], dtype=torch.float64)\n",
      "torch.Size([128, 2, 2])\n",
      "tensor(1) tensor([0.4110, 0.5890], dtype=torch.float64)\n",
      "torch.Size([128, 2, 2])\n",
      "tensor(1) tensor([0.7943, 0.2057], dtype=torch.float64)\n",
      "torch.Size([128, 2, 2])\n",
      "tensor(1) tensor([0.3283, 0.6717], dtype=torch.float64)\n",
      "torch.Size([128, 2, 2])\n",
      "tensor(0) tensor([0.7851, 0.2149], dtype=torch.float64)\n",
      "torch.Size([128, 2, 2])\n",
      "tensor(0) tensor([0.5009, 0.4991], dtype=torch.float64)\n",
      "torch.Size([128, 2, 2])\n",
      "tensor(1) tensor([0.6099, 0.3901], dtype=torch.float64)\n",
      "torch.Size([128, 2, 2])\n",
      "tensor(1) tensor([0.3395, 0.6605], dtype=torch.float64)\n",
      "torch.Size([128, 2, 2])\n",
      "tensor(1) tensor([0.6683, 0.3317], dtype=torch.float64)\n",
      "torch.Size([128, 2, 2])\n",
      "tensor(0) tensor([0.7155, 0.2845], dtype=torch.float64)\n",
      "torch.Size([128, 2, 2])\n",
      "tensor(0) tensor([0.6964, 0.3036], dtype=torch.float64)\n",
      "torch.Size([128, 2, 2])\n",
      "tensor(0) tensor([0.5661, 0.4339], dtype=torch.float64)\n",
      "torch.Size([128, 2, 2])\n",
      "tensor(0) tensor([0.5758, 0.4242], dtype=torch.float64)\n",
      "torch.Size([128, 2, 2])\n",
      "tensor(1) tensor([0.6727, 0.3273], dtype=torch.float64)\n",
      "torch.Size([128, 2, 2])\n",
      "tensor(1) tensor([0.6790, 0.3210], dtype=torch.float64)\n",
      "torch.Size([128, 2, 2])\n",
      "tensor(1) tensor([0.5027, 0.4973], dtype=torch.float64)\n",
      "torch.Size([128, 2, 2])\n",
      "tensor(0) tensor([0.7095, 0.2905], dtype=torch.float64)\n",
      "torch.Size([128, 2, 2])\n",
      "tensor(0) tensor([0.7940, 0.2060], dtype=torch.float64)\n",
      "torch.Size([128, 2, 2])\n",
      "tensor(0) tensor([0.5265, 0.4735], dtype=torch.float64)\n",
      "torch.Size([128, 2, 2])\n",
      "tensor(1) tensor([0.7814, 0.2186], dtype=torch.float64)\n",
      "torch.Size([128, 2, 2])\n",
      "tensor(0) tensor([0.7228, 0.2772], dtype=torch.float64)\n",
      "torch.Size([128, 2, 2])\n",
      "tensor(0) tensor([0.6498, 0.3502], dtype=torch.float64)\n",
      "torch.Size([128, 2, 2])\n",
      "tensor(1) tensor([0.4461, 0.5539], dtype=torch.float64)\n",
      "torch.Size([128, 2, 2])\n",
      "tensor(0) tensor([0.5478, 0.4522], dtype=torch.float64)\n",
      "torch.Size([128, 2, 2])\n",
      "tensor(0) tensor([0.7092, 0.2908], dtype=torch.float64)\n",
      "torch.Size([128, 2, 2])\n",
      "tensor(1) tensor([0.5868, 0.4132], dtype=torch.float64)\n",
      "torch.Size([128, 2, 2])\n",
      "tensor(0) tensor([0.6427, 0.3573], dtype=torch.float64)\n",
      "torch.Size([128, 2, 2])\n",
      "tensor(1) tensor([0.8471, 0.1529], dtype=torch.float64)\n",
      "torch.Size([128, 2, 2])\n",
      "tensor(0) tensor([0.8429, 0.1571], dtype=torch.float64)\n",
      "torch.Size([128, 2, 2])\n",
      "tensor(0) tensor([0.8512, 0.1488], dtype=torch.float64)\n",
      "torch.Size([128, 2, 2])\n",
      "tensor(1) tensor([0.1990, 0.8010], dtype=torch.float64)\n",
      "torch.Size([128, 2, 2])\n",
      "tensor(1) tensor([0.4127, 0.5873], dtype=torch.float64)\n",
      "torch.Size([128, 2, 2])\n",
      "tensor(1) tensor([0.3402, 0.6598], dtype=torch.float64)\n",
      "torch.Size([128, 2, 2])\n",
      "tensor(0) tensor([0.6921, 0.3079], dtype=torch.float64)\n",
      "torch.Size([128, 2, 2])\n",
      "tensor(0) tensor([0.5447, 0.4553], dtype=torch.float64)\n",
      "torch.Size([128, 2, 2])\n",
      "tensor(0) tensor([0.6067, 0.3933], dtype=torch.float64)\n",
      "torch.Size([128, 2, 2])\n",
      "tensor(1) tensor([0.6902, 0.3098], dtype=torch.float64)\n",
      "torch.Size([128, 2, 2])\n",
      "tensor(1) tensor([0.6482, 0.3518], dtype=torch.float64)\n"
     ]
    },
    {
     "name": "stderr",
     "output_type": "stream",
     "text": [
      " 72%|███████▏  | 1807/2494 [00:05<00:02, 305.83it/s]"
     ]
    },
    {
     "name": "stdout",
     "output_type": "stream",
     "text": [
      "torch.Size([128, 2, 2])\n",
      "tensor(0) tensor([0.5963, 0.4037], dtype=torch.float64)\n",
      "torch.Size([128, 2, 2])\n",
      "tensor(1) tensor([0.5373, 0.4627], dtype=torch.float64)\n",
      "torch.Size([128, 2, 2])\n",
      "tensor(0) tensor([0.5419, 0.4581], dtype=torch.float64)\n",
      "torch.Size([128, 2, 2])\n",
      "tensor(1) tensor([0.5490, 0.4510], dtype=torch.float64)\n",
      "torch.Size([128, 2, 2])\n",
      "tensor(1) tensor([0.4677, 0.5323], dtype=torch.float64)\n",
      "torch.Size([128, 2, 2])\n",
      "tensor(0) tensor([0.6706, 0.3294], dtype=torch.float64)\n",
      "torch.Size([128, 2, 2])\n",
      "tensor(0) tensor([0.5129, 0.4871], dtype=torch.float64)\n",
      "torch.Size([128, 2, 2])\n",
      "tensor(1) tensor([0.3896, 0.6104], dtype=torch.float64)\n",
      "torch.Size([128, 2, 2])\n",
      "tensor(0) tensor([0.5456, 0.4544], dtype=torch.float64)\n",
      "torch.Size([128, 2, 2])\n",
      "tensor(0) tensor([0.5777, 0.4223], dtype=torch.float64)\n",
      "torch.Size([128, 2, 2])\n",
      "tensor(0) tensor([0.3857, 0.6143], dtype=torch.float64)\n",
      "torch.Size([128, 2, 2])\n",
      "tensor(1) tensor([0.5313, 0.4687], dtype=torch.float64)\n",
      "torch.Size([128, 2, 2])\n",
      "tensor(1) tensor([0.3574, 0.6426], dtype=torch.float64)\n",
      "torch.Size([128, 2, 2])\n",
      "tensor(1) tensor([0.5901, 0.4099], dtype=torch.float64)\n",
      "torch.Size([128, 2, 2])\n",
      "tensor(0) tensor([0.6520, 0.3480], dtype=torch.float64)\n",
      "torch.Size([128, 2, 2])\n",
      "tensor(0) tensor([0.5565, 0.4435], dtype=torch.float64)\n",
      "torch.Size([128, 2, 2])\n",
      "tensor(1) tensor([0.6087, 0.3913], dtype=torch.float64)\n",
      "torch.Size([128, 2, 2])\n",
      "tensor(1) tensor([0.5238, 0.4762], dtype=torch.float64)\n",
      "torch.Size([128, 2, 2])\n",
      "tensor(0) tensor([0.4726, 0.5274], dtype=torch.float64)\n",
      "torch.Size([128, 2, 2])\n",
      "tensor(0) tensor([0.5953, 0.4047], dtype=torch.float64)\n",
      "torch.Size([128, 2, 2])\n",
      "tensor(1) tensor([0.4447, 0.5553], dtype=torch.float64)\n",
      "torch.Size([128, 2, 2])\n",
      "tensor(0) tensor([0.7283, 0.2717], dtype=torch.float64)\n",
      "torch.Size([128, 2, 2])\n",
      "tensor(0) tensor([0.6906, 0.3094], dtype=torch.float64)\n",
      "torch.Size([128, 2, 2])\n",
      "tensor(0) tensor([0.7792, 0.2208], dtype=torch.float64)\n",
      "torch.Size([128, 2, 2])\n",
      "tensor(0) tensor([0.8309, 0.1691], dtype=torch.float64)\n",
      "torch.Size([128, 2, 2])\n",
      "tensor(0) tensor([0.5749, 0.4251], dtype=torch.float64)\n",
      "torch.Size([128, 2, 2])\n",
      "tensor(1) tensor([0.4943, 0.5057], dtype=torch.float64)\n",
      "torch.Size([128, 2, 2])\n",
      "tensor(0) tensor([0.8443, 0.1557], dtype=torch.float64)\n",
      "torch.Size([128, 2, 2])\n",
      "tensor(0) tensor([0.6965, 0.3035], dtype=torch.float64)\n",
      "torch.Size([128, 2, 2])\n",
      "tensor(1) tensor([0.5124, 0.4876], dtype=torch.float64)\n",
      "torch.Size([128, 2, 2])\n",
      "tensor(1) tensor([0.5801, 0.4199], dtype=torch.float64)\n",
      "torch.Size([128, 2, 2])\n",
      "tensor(1) tensor([0.4276, 0.5724], dtype=torch.float64)\n",
      "torch.Size([128, 2, 2])\n",
      "tensor(0) tensor([0.6453, 0.3547], dtype=torch.float64)\n",
      "torch.Size([128, 2, 2])\n",
      "tensor(1) tensor([0.6949, 0.3051], dtype=torch.float64)\n",
      "torch.Size([128, 2, 2])\n",
      "tensor(1) tensor([0.6122, 0.3878], dtype=torch.float64)\n",
      "torch.Size([128, 2, 2])\n",
      "tensor(0) tensor([0.3941, 0.6059], dtype=torch.float64)\n",
      "torch.Size([128, 2, 2])\n",
      "tensor(1) tensor([0.5774, 0.4226], dtype=torch.float64)\n",
      "torch.Size([128, 2, 2])\n",
      "tensor(1) tensor([0.5921, 0.4079], dtype=torch.float64)\n",
      "torch.Size([128, 2, 2])\n",
      "tensor(0) tensor([0.6906, 0.3094], dtype=torch.float64)\n",
      "torch.Size([128, 2, 2])\n",
      "tensor(1) tensor([0.2474, 0.7526], dtype=torch.float64)\n",
      "torch.Size([128, 2, 2])\n",
      "tensor(1) tensor([0.5234, 0.4766], dtype=torch.float64)\n",
      "torch.Size([128, 2, 2])\n",
      "tensor(0) tensor([0.6099, 0.3901], dtype=torch.float64)\n",
      "torch.Size([128, 2, 2])\n",
      "tensor(0) tensor([0.5004, 0.4996], dtype=torch.float64)\n",
      "torch.Size([128, 2, 2])\n",
      "tensor(0) tensor([0.8233, 0.1767], dtype=torch.float64)\n",
      "torch.Size([128, 2, 2])\n",
      "tensor(0) tensor([0.4312, 0.5688], dtype=torch.float64)\n",
      "torch.Size([128, 2, 2])\n",
      "tensor(0) tensor([0.4370, 0.5630], dtype=torch.float64)\n",
      "torch.Size([128, 2, 2])\n",
      "tensor(0) tensor([0.7110, 0.2890], dtype=torch.float64)\n",
      "torch.Size([128, 2, 2])\n",
      "tensor(1) tensor([0.5601, 0.4399], dtype=torch.float64)\n",
      "torch.Size([128, 2, 2])\n",
      "tensor(1) tensor([0.3924, 0.6076], dtype=torch.float64)\n",
      "torch.Size([128, 2, 2])\n",
      "tensor(1) tensor([0.6414, 0.3586], dtype=torch.float64)\n",
      "torch.Size([128, 2, 2])\n",
      "tensor(0) tensor([0.8159, 0.1841], dtype=torch.float64)\n",
      "torch.Size([128, 2, 2])\n",
      "tensor(0) tensor([0.6878, 0.3122], dtype=torch.float64)\n",
      "torch.Size([128, 2, 2])\n",
      "tensor(1) tensor([0.5930, 0.4070], dtype=torch.float64)\n",
      "torch.Size([128, 2, 2])\n",
      "tensor(0) tensor([0.2329, 0.7671], dtype=torch.float64)\n",
      "torch.Size([128, 2, 2])\n",
      "tensor(0) tensor([0.7003, 0.2997], dtype=torch.float64)\n",
      "torch.Size([128, 2, 2])\n",
      "tensor(0) tensor([0.7682, 0.2318], dtype=torch.float64)\n",
      "torch.Size([128, 2, 2])\n",
      "tensor(0) tensor([0.8271, 0.1729], dtype=torch.float64)\n",
      "torch.Size([128, 2, 2])\n",
      "tensor(1) tensor([0.5068, 0.4932], dtype=torch.float64)\n",
      "torch.Size([128, 2, 2])\n",
      "tensor(0) tensor([0.7210, 0.2790], dtype=torch.float64)\n",
      "torch.Size([128, 2, 2])\n",
      "tensor(0) tensor([0.4948, 0.5052], dtype=torch.float64)\n",
      "torch.Size([128, 2, 2])\n",
      "tensor(0) tensor([0.4476, 0.5524], dtype=torch.float64)\n",
      "torch.Size([128, 2, 2])\n",
      "tensor(0) "
     ]
    },
    {
     "name": "stderr",
     "output_type": "stream",
     "text": [
      " 75%|███████▍  | 1869/2494 [00:06<00:02, 301.00it/s]"
     ]
    },
    {
     "name": "stdout",
     "output_type": "stream",
     "text": [
      "tensor([0.6422, 0.3578], dtype=torch.float64)\n",
      "torch.Size([128, 2, 2])\n",
      "tensor(1) tensor([0.4952, 0.5048], dtype=torch.float64)\n",
      "torch.Size([128, 2, 2])\n",
      "tensor(0) tensor([0.8283, 0.1717], dtype=torch.float64)\n",
      "torch.Size([128, 2, 2])\n",
      "tensor(1) tensor([0.7403, 0.2597], dtype=torch.float64)\n",
      "torch.Size([128, 2, 2])\n",
      "tensor(0) tensor([0.5046, 0.4954], dtype=torch.float64)\n",
      "torch.Size([128, 2, 2])\n",
      "tensor(0) tensor([0.8305, 0.1695], dtype=torch.float64)\n",
      "torch.Size([128, 2, 2])\n",
      "tensor(0) tensor([0.7741, 0.2259], dtype=torch.float64)\n",
      "torch.Size([128, 2, 2])\n",
      "tensor(1) tensor([0.3224, 0.6776], dtype=torch.float64)\n",
      "torch.Size([128, 2, 2])\n",
      "tensor(0) tensor([0.7655, 0.2345], dtype=torch.float64)\n",
      "torch.Size([128, 2, 2])\n",
      "tensor(1) tensor([0.4423, 0.5577], dtype=torch.float64)\n",
      "torch.Size([128, 2, 2])\n",
      "tensor(0) tensor([0.6024, 0.3976], dtype=torch.float64)\n",
      "torch.Size([128, 2, 2])\n",
      "tensor(1) tensor([0.7082, 0.2918], dtype=torch.float64)\n",
      "torch.Size([128, 2, 2])\n",
      "tensor(1) tensor([0.5448, 0.4552], dtype=torch.float64)\n",
      "torch.Size([128, 2, 2])\n",
      "tensor(1) tensor([0.5924, 0.4076], dtype=torch.float64)\n",
      "torch.Size([128, 2, 2])\n",
      "tensor(0) tensor([0.6954, 0.3046], dtype=torch.float64)\n",
      "torch.Size([128, 2, 2])\n",
      "tensor(0) tensor([0.6808, 0.3192], dtype=torch.float64)\n",
      "torch.Size([128, 2, 2])\n",
      "tensor(1) tensor([0.5643, 0.4357], dtype=torch.float64)\n",
      "torch.Size([128, 2, 2])\n",
      "tensor(0) tensor([0.7374, 0.2626], dtype=torch.float64)\n",
      "torch.Size([128, 2, 2])\n",
      "tensor(0) tensor([0.6317, 0.3683], dtype=torch.float64)\n",
      "torch.Size([128, 2, 2])\n",
      "tensor(1) tensor([0.5020, 0.4980], dtype=torch.float64)\n",
      "torch.Size([128, 2, 2])\n",
      "tensor(0) tensor([0.4325, 0.5675], dtype=torch.float64)\n",
      "torch.Size([128, 2, 2])\n",
      "tensor(0) tensor([0.5479, 0.4521], dtype=torch.float64)\n",
      "torch.Size([128, 2, 2])\n",
      "tensor(0) tensor([0.6035, 0.3965], dtype=torch.float64)\n",
      "torch.Size([128, 2, 2])\n",
      "tensor(1) tensor([0.1831, 0.8169], dtype=torch.float64)\n",
      "torch.Size([128, 2, 2])\n",
      "tensor(0) tensor([0.5241, 0.4759], dtype=torch.float64)\n",
      "torch.Size([128, 2, 2])\n",
      "tensor(0) tensor([0.7443, 0.2557], dtype=torch.float64)\n",
      "torch.Size([128, 2, 2])\n",
      "tensor(1) tensor([0.5020, 0.4980], dtype=torch.float64)\n",
      "torch.Size([128, 2, 2])\n",
      "tensor(0) tensor([0.6951, 0.3049], dtype=torch.float64)\n",
      "torch.Size([128, 2, 2])\n",
      "tensor(0) tensor([0.8308, 0.1692], dtype=torch.float64)\n",
      "torch.Size([128, 2, 2])\n",
      "tensor(0) tensor([0.6968, 0.3032], dtype=torch.float64)\n",
      "torch.Size([128, 2, 2])\n",
      "tensor(1) tensor([0.8328, 0.1672], dtype=torch.float64)\n",
      "torch.Size([128, 2, 2])\n",
      "tensor(0) tensor([0.2825, 0.7175], dtype=torch.float64)\n",
      "torch.Size([128, 2, 2])\n",
      "tensor(0) tensor([0.3771, 0.6229], dtype=torch.float64)\n",
      "torch.Size([128, 2, 2])\n",
      "tensor(0) tensor([0.7415, 0.2585], dtype=torch.float64)\n",
      "torch.Size([128, 2, 2])\n",
      "tensor(0) tensor([0.6916, 0.3084], dtype=torch.float64)\n",
      "torch.Size([128, 2, 2])\n",
      "tensor(0) tensor([0.2564, 0.7436], dtype=torch.float64)\n",
      "torch.Size([128, 2, 2])\n",
      "tensor(0) tensor([0.4410, 0.5590], dtype=torch.float64)\n",
      "torch.Size([128, 2, 2])\n",
      "tensor(1) tensor([0.7818, 0.2182], dtype=torch.float64)\n",
      "torch.Size([128, 2, 2])\n",
      "tensor(1) tensor([0.5647, 0.4353], dtype=torch.float64)\n",
      "torch.Size([128, 2, 2])\n",
      "tensor(0) tensor([0.5942, 0.4058], dtype=torch.float64)\n",
      "torch.Size([128, 2, 2])\n",
      "tensor(0) tensor([0.6156, 0.3844], dtype=torch.float64)\n",
      "torch.Size([128, 2, 2])\n",
      "tensor(1) tensor([0.3773, 0.6227], dtype=torch.float64)\n",
      "torch.Size([128, 2, 2])\n",
      "tensor(1) tensor([0.5369, 0.4631], dtype=torch.float64)\n",
      "torch.Size([128, 2, 2])\n",
      "tensor(0) tensor([0.4436, 0.5564], dtype=torch.float64)\n",
      "torch.Size([128, 2, 2])\n",
      "tensor(0) tensor([0.7316, 0.2684], dtype=torch.float64)\n",
      "torch.Size([128, 2, 2])\n",
      "tensor(1) tensor([0.5296, 0.4704], dtype=torch.float64)\n",
      "torch.Size([128, 2, 2])\n",
      "tensor(0) tensor([0.6028, 0.3972], dtype=torch.float64)\n",
      "torch.Size([128, 2, 2])\n",
      "tensor(1) tensor([0.7902, 0.2098], dtype=torch.float64)\n",
      "torch.Size([128, 2, 2])\n",
      "tensor(1) tensor([0.3291, 0.6709], dtype=torch.float64)\n",
      "torch.Size([128, 2, 2])\n",
      "tensor(1) tensor([0.6366, 0.3634], dtype=torch.float64)\n",
      "torch.Size([128, 2, 2])\n",
      "tensor(0) tensor([0.6534, 0.3466], dtype=torch.float64)\n",
      "torch.Size([128, 2, 2])\n",
      "tensor(0) tensor([0.6572, 0.3428], dtype=torch.float64)\n",
      "torch.Size([128, 2, 2])\n",
      "tensor(0) tensor([0.3781, 0.6219], dtype=torch.float64)\n",
      "torch.Size([128, 2, 2])\n",
      "tensor(1) tensor([0.4451, 0.5549], dtype=torch.float64)\n",
      "torch.Size([128, 2, 2])\n",
      "tensor(0) tensor([0.5798, 0.4202], dtype=torch.float64)\n",
      "torch.Size([128, 2, 2])\n",
      "tensor(1) tensor([0.6935, 0.3065], dtype=torch.float64)\n",
      "torch.Size([128, 2, 2])\n",
      "tensor(0) tensor([0.4430, 0.5570], dtype=torch.float64)\n",
      "torch.Size([128, 2, 2])\n",
      "tensor(1) tensor([0.7541, 0.2459], dtype=torch.float64)\n",
      "torch.Size([128, 2, 2])\n",
      "tensor(1) tensor([0.6569, 0.3431], dtype=torch.float64)\n",
      "torch.Size([128, 2, 2])\n",
      "tensor(1) tensor([0.3737, 0.6263], dtype=torch.float64)\n",
      "torch.Size([128, 2, 2])\n"
     ]
    },
    {
     "name": "stderr",
     "output_type": "stream",
     "text": [
      " 77%|███████▋  | 1931/2494 [00:06<00:01, 303.36it/s]"
     ]
    },
    {
     "name": "stdout",
     "output_type": "stream",
     "text": [
      "tensor(0) tensor([0.4551, 0.5449], dtype=torch.float64)\n",
      "torch.Size([128, 2, 2])\n",
      "tensor(0) tensor([0.5005, 0.4995], dtype=torch.float64)\n",
      "torch.Size([128, 2, 2])\n",
      "tensor(1) tensor([0.4559, 0.5441], dtype=torch.float64)\n",
      "torch.Size([128, 2, 2])\n",
      "tensor(0) tensor([0.7527, 0.2473], dtype=torch.float64)\n",
      "torch.Size([128, 2, 2])\n",
      "tensor(1) tensor([0.3936, 0.6064], dtype=torch.float64)\n",
      "torch.Size([128, 2, 2])\n",
      "tensor(1) tensor([0.5593, 0.4407], dtype=torch.float64)\n",
      "torch.Size([128, 2, 2])\n",
      "tensor(0) tensor([0.8319, 0.1681], dtype=torch.float64)\n",
      "torch.Size([128, 2, 2])\n",
      "tensor(0) tensor([0.5653, 0.4347], dtype=torch.float64)\n",
      "torch.Size([128, 2, 2])\n",
      "tensor(1) tensor([0.6770, 0.3230], dtype=torch.float64)\n",
      "torch.Size([128, 2, 2])\n",
      "tensor(1) tensor([0.5816, 0.4184], dtype=torch.float64)\n",
      "torch.Size([128, 2, 2])\n",
      "tensor(1) tensor([0.2448, 0.7552], dtype=torch.float64)\n",
      "torch.Size([128, 2, 2])\n",
      "tensor(1) tensor([0.3235, 0.6765], dtype=torch.float64)\n",
      "torch.Size([128, 2, 2])\n",
      "tensor(1) tensor([0.8270, 0.1730], dtype=torch.float64)\n",
      "torch.Size([128, 2, 2])\n",
      "tensor(0) tensor([0.5918, 0.4082], dtype=torch.float64)\n",
      "torch.Size([128, 2, 2])\n",
      "tensor(1) tensor([0.1189, 0.8811], dtype=torch.float64)\n",
      "torch.Size([128, 2, 2])\n",
      "tensor(1) tensor([0.5715, 0.4285], dtype=torch.float64)\n",
      "torch.Size([128, 2, 2])\n",
      "tensor(0) tensor([0.7100, 0.2900], dtype=torch.float64)\n",
      "torch.Size([128, 2, 2])\n",
      "tensor(0) tensor([0.5634, 0.4366], dtype=torch.float64)\n",
      "torch.Size([128, 2, 2])\n",
      "tensor(0) tensor([0.7894, 0.2106], dtype=torch.float64)\n",
      "torch.Size([128, 2, 2])\n",
      "tensor(0) tensor([0.6903, 0.3097], dtype=torch.float64)\n",
      "torch.Size([128, 2, 2])\n",
      "tensor(1) tensor([0.5124, 0.4876], dtype=torch.float64)\n",
      "torch.Size([128, 2, 2])\n",
      "tensor(1) tensor([0.2865, 0.7135], dtype=torch.float64)\n",
      "torch.Size([128, 2, 2])\n",
      "tensor(0) tensor([0.8151, 0.1849], dtype=torch.float64)\n",
      "torch.Size([128, 2, 2])\n",
      "tensor(0) tensor([0.7424, 0.2576], dtype=torch.float64)\n",
      "torch.Size([128, 2, 2])\n",
      "tensor(0) tensor([0.5164, 0.4836], dtype=torch.float64)\n",
      "torch.Size([128, 2, 2])\n",
      "tensor(1) tensor([0.3674, 0.6326], dtype=torch.float64)\n",
      "torch.Size([128, 2, 2])\n",
      "tensor(1) tensor([0.2475, 0.7525], dtype=torch.float64)\n",
      "torch.Size([128, 2, 2])\n",
      "tensor(0) tensor([0.3897, 0.6103], dtype=torch.float64)\n",
      "torch.Size([128, 2, 2])\n",
      "tensor(0) tensor([0.5019, 0.4981], dtype=torch.float64)\n",
      "torch.Size([128, 2, 2])\n",
      "tensor(1) tensor([0.6098, 0.3902], dtype=torch.float64)\n",
      "torch.Size([128, 2, 2])\n",
      "tensor(0) tensor([0.6675, 0.3325], dtype=torch.float64)\n",
      "torch.Size([128, 2, 2])\n",
      "tensor(0) tensor([0.4476, 0.5524], dtype=torch.float64)\n",
      "torch.Size([128, 2, 2])\n",
      "tensor(0) tensor([0.5732, 0.4268], dtype=torch.float64)\n",
      "torch.Size([128, 2, 2])\n",
      "tensor(0) tensor([0.8709, 0.1291], dtype=torch.float64)\n",
      "torch.Size([128, 2, 2])\n",
      "tensor(1) tensor([0.3385, 0.6615], dtype=torch.float64)\n",
      "torch.Size([128, 2, 2])\n",
      "tensor(0) tensor([0.5809, 0.4191], dtype=torch.float64)\n",
      "torch.Size([128, 2, 2])\n",
      "tensor(1) tensor([0.5134, 0.4866], dtype=torch.float64)\n",
      "torch.Size([128, 2, 2])\n",
      "tensor(1) tensor([0.4150, 0.5850], dtype=torch.float64)\n",
      "torch.Size([128, 2, 2])\n",
      "tensor(0) tensor([0.3308, 0.6692], dtype=torch.float64)\n",
      "torch.Size([128, 2, 2])\n",
      "tensor(1) tensor([0.3699, 0.6301], dtype=torch.float64)\n",
      "torch.Size([128, 2, 2])\n",
      "tensor(0) tensor([0.4534, 0.5466], dtype=torch.float64)\n",
      "torch.Size([128, 2, 2])\n",
      "tensor(0) tensor([0.5223, 0.4777], dtype=torch.float64)\n",
      "torch.Size([128, 2, 2])\n",
      "tensor(0) tensor([0.8182, 0.1818], dtype=torch.float64)\n",
      "torch.Size([128, 2, 2])\n",
      "tensor(0) tensor([0.6889, 0.3111], dtype=torch.float64)\n",
      "torch.Size([128, 2, 2])\n",
      "tensor(0) tensor([0.6956, 0.3044], dtype=torch.float64)\n",
      "torch.Size([128, 2, 2])\n",
      "tensor(1) tensor([0.5773, 0.4227], dtype=torch.float64)\n",
      "torch.Size([128, 2, 2])\n",
      "tensor(0) tensor([0.6379, 0.3621], dtype=torch.float64)\n",
      "torch.Size([128, 2, 2])\n",
      "tensor(1) tensor([0.3106, 0.6894], dtype=torch.float64)\n",
      "torch.Size([128, 2, 2])\n",
      "tensor(0) tensor([0.9371, 0.0629], dtype=torch.float64)\n",
      "torch.Size([128, 2, 2])\n",
      "tensor(0) tensor([0.5656, 0.4344], dtype=torch.float64)\n",
      "torch.Size([128, 2, 2])\n",
      "tensor(0) tensor([0.5993, 0.4007], dtype=torch.float64)\n",
      "torch.Size([128, 2, 2])\n",
      "tensor(0) tensor([0.7664, 0.2336], dtype=torch.float64)\n",
      "torch.Size([128, 2, 2])\n",
      "tensor(1) tensor([0.5086, 0.4914], dtype=torch.float64)\n",
      "torch.Size([128, 2, 2])\n",
      "tensor(0) tensor([0.6081, 0.3919], dtype=torch.float64)\n",
      "torch.Size([128, 2, 2])\n",
      "tensor(1) tensor([0.4861, 0.5139], dtype=torch.float64)\n",
      "torch.Size([128, 2, 2])\n",
      "tensor(1) tensor([0.6176, 0.3824], dtype=torch.float64)\n",
      "torch.Size([128, 2, 2])\n",
      "tensor(1) tensor([0.6235, 0.3765], dtype=torch.float64)\n",
      "torch.Size([128, 2, 2])\n",
      "tensor(0) tensor([0.6923, 0.3077], dtype=torch.float64)\n",
      "torch.Size([128, 2, 2])\n",
      "tensor(0) tensor([0.5553, 0.4447], dtype=torch.float64)\n",
      "torch.Size([128, 2, 2])\n",
      "tensor(1) tensor([0.6566, 0.3434], dtype=torch.float64)\n",
      "torch.Size([128, 2, 2])\n",
      "tensor(0) tensor([0.7485, 0.2515], dtype=torch.float64)\n",
      "torch.Size([128, 2, 2])\n",
      "tensor(0) tensor([0.7929, 0.2071], dtype=torch.float64)\n"
     ]
    },
    {
     "name": "stderr",
     "output_type": "stream",
     "text": [
      " 80%|███████▉  | 1993/2494 [00:06<00:01, 302.85it/s]"
     ]
    },
    {
     "name": "stdout",
     "output_type": "stream",
     "text": [
      "torch.Size([128, 2, 2])\n",
      "tensor(0) tensor([0.6670, 0.3330], dtype=torch.float64)\n",
      "torch.Size([128, 2, 2])\n",
      "tensor(0) tensor([0.6951, 0.3049], dtype=torch.float64)\n",
      "torch.Size([128, 2, 2])\n",
      "tensor(0) tensor([0.2840, 0.7160], dtype=torch.float64)\n",
      "torch.Size([128, 2, 2])\n",
      "tensor(1) tensor([0.7412, 0.2588], dtype=torch.float64)\n",
      "torch.Size([128, 2, 2])\n",
      "tensor(0) tensor([0.7621, 0.2379], dtype=torch.float64)\n",
      "torch.Size([128, 2, 2])\n",
      "tensor(0) tensor([0.2109, 0.7891], dtype=torch.float64)\n",
      "torch.Size([128, 2, 2])\n",
      "tensor(1) tensor([0.7284, 0.2716], dtype=torch.float64)\n",
      "torch.Size([128, 2, 2])\n",
      "tensor(0) tensor([0.4571, 0.5429], dtype=torch.float64)\n",
      "torch.Size([128, 2, 2])\n",
      "tensor(1) tensor([0.8335, 0.1665], dtype=torch.float64)\n",
      "torch.Size([128, 2, 2])\n",
      "tensor(1) tensor([0.6705, 0.3295], dtype=torch.float64)\n",
      "torch.Size([128, 2, 2])\n",
      "tensor(0) tensor([0.5247, 0.4753], dtype=torch.float64)\n",
      "torch.Size([128, 2, 2])\n",
      "tensor(1) tensor([0.5591, 0.4409], dtype=torch.float64)\n",
      "torch.Size([128, 2, 2])\n",
      "tensor(0) tensor([0.7587, 0.2413], dtype=torch.float64)\n",
      "torch.Size([128, 2, 2])\n",
      "tensor(1) tensor([0.6579, 0.3421], dtype=torch.float64)\n",
      "torch.Size([128, 2, 2])\n",
      "tensor(1) tensor([0.5498, 0.4502], dtype=torch.float64)\n",
      "torch.Size([128, 2, 2])\n",
      "tensor(1) tensor([0.6512, 0.3488], dtype=torch.float64)\n",
      "torch.Size([128, 2, 2])\n",
      "tensor(1) tensor([0.6583, 0.3417], dtype=torch.float64)\n",
      "torch.Size([128, 2, 2])\n",
      "tensor(1) tensor([0.4826, 0.5174], dtype=torch.float64)\n",
      "torch.Size([128, 2, 2])\n",
      "tensor(0) tensor([0.9079, 0.0921], dtype=torch.float64)\n",
      "torch.Size([128, 2, 2])\n",
      "tensor(0) tensor([0.7162, 0.2838], dtype=torch.float64)\n",
      "torch.Size([128, 2, 2])\n",
      "tensor(0) tensor([0.6664, 0.3336], dtype=torch.float64)\n",
      "torch.Size([128, 2, 2])\n",
      "tensor(1) tensor([0.3129, 0.6871], dtype=torch.float64)\n",
      "torch.Size([128, 2, 2])\n",
      "tensor(0) tensor([0.8308, 0.1692], dtype=torch.float64)\n",
      "torch.Size([128, 2, 2])\n",
      "tensor(0) tensor([0.5140, 0.4860], dtype=torch.float64)\n",
      "torch.Size([128, 2, 2])\n",
      "tensor(1) tensor([0.5173, 0.4827], dtype=torch.float64)\n",
      "torch.Size([128, 2, 2])\n",
      "tensor(0) tensor([0.3805, 0.6195], dtype=torch.float64)\n",
      "torch.Size([128, 2, 2])\n",
      "tensor(0) tensor([0.5782, 0.4218], dtype=torch.float64)\n",
      "torch.Size([128, 2, 2])\n",
      "tensor(0) tensor([0.6571, 0.3429], dtype=torch.float64)\n",
      "torch.Size([128, 2, 2])\n",
      "tensor(0) tensor([0.7233, 0.2767], dtype=torch.float64)\n",
      "torch.Size([128, 2, 2])\n",
      "tensor(0) tensor([0.6274, 0.3726], dtype=torch.float64)\n",
      "torch.Size([128, 2, 2])\n",
      "tensor(1) tensor([0.5681, 0.4319], dtype=torch.float64)\n",
      "torch.Size([128, 2, 2])\n",
      "tensor(0) tensor([0.6863, 0.3137], dtype=torch.float64)\n",
      "torch.Size([128, 2, 2])\n",
      "tensor(1) tensor([0.6012, 0.3988], dtype=torch.float64)\n",
      "torch.Size([128, 2, 2])\n",
      "tensor(0) tensor([0.7692, 0.2308], dtype=torch.float64)\n",
      "torch.Size([128, 2, 2])\n",
      "tensor(1) tensor([0.3419, 0.6581], dtype=torch.float64)\n",
      "torch.Size([128, 2, 2])\n",
      "tensor(1) tensor([0.5952, 0.4048], dtype=torch.float64)\n",
      "torch.Size([128, 2, 2])\n",
      "tensor(1) tensor([0.5262, 0.4738], dtype=torch.float64)\n",
      "torch.Size([128, 2, 2])\n",
      "tensor(1) tensor([0.6696, 0.3304], dtype=torch.float64)\n",
      "torch.Size([128, 2, 2])\n",
      "tensor(1) tensor([0.5706, 0.4294], dtype=torch.float64)\n",
      "torch.Size([128, 2, 2])\n",
      "tensor(1) tensor([0.5034, 0.4966], dtype=torch.float64)\n",
      "torch.Size([128, 2, 2])\n",
      "tensor(0) tensor([0.8677, 0.1323], dtype=torch.float64)\n",
      "torch.Size([128, 2, 2])\n",
      "tensor(0) tensor([0.6333, 0.3667], dtype=torch.float64)\n",
      "torch.Size([128, 2, 2])\n",
      "tensor(1) tensor([0.3303, 0.6697], dtype=torch.float64)\n",
      "torch.Size([128, 2, 2])\n",
      "tensor(1) tensor([0.4978, 0.5022], dtype=torch.float64)\n",
      "torch.Size([128, 2, 2])\n",
      "tensor(0) tensor([0.5588, 0.4412], dtype=torch.float64)\n",
      "torch.Size([128, 2, 2])\n",
      "tensor(1) tensor([0.3682, 0.6318], dtype=torch.float64)\n",
      "torch.Size([128, 2, 2])\n",
      "tensor(0) tensor([0.6603, 0.3397], dtype=torch.float64)\n",
      "torch.Size([128, 2, 2])\n",
      "tensor(0) tensor([0.8104, 0.1896], dtype=torch.float64)\n",
      "torch.Size([128, 2, 2])\n",
      "tensor(0) tensor([0.5324, 0.4676], dtype=torch.float64)\n",
      "torch.Size([128, 2, 2])\n",
      "tensor(1) tensor([0.4866, 0.5134], dtype=torch.float64)\n",
      "torch.Size([128, 2, 2])\n",
      "tensor(1) tensor([0.2740, 0.7260], dtype=torch.float64)\n",
      "torch.Size([128, 2, 2])\n",
      "tensor(0) tensor([0.7293, 0.2707], dtype=torch.float64)\n",
      "torch.Size([128, 2, 2])\n",
      "tensor(1) tensor([0.3795, 0.6205], dtype=torch.float64)\n",
      "torch.Size([128, 2, 2])\n",
      "tensor(0) tensor([0.6043, 0.3957], dtype=torch.float64)\n",
      "torch.Size([128, 2, 2])\n",
      "tensor(1) tensor([0.6322, 0.3678], dtype=torch.float64)\n",
      "torch.Size([128, 2, 2])\n",
      "tensor(1) tensor([0.2105, 0.7895], dtype=torch.float64)\n",
      "torch.Size([128, 2, 2])\n",
      "tensor(0) tensor([0.7492, 0.2508], dtype=torch.float64)\n",
      "torch.Size([128, 2, 2])\n",
      "tensor(1) tensor([0.5379, 0.4621], dtype=torch.float64)\n",
      "torch.Size([128, 2, 2])\n",
      "tensor(1) tensor([0.4473, 0.5527], dtype=torch.float64)\n",
      "torch.Size([128, 2, 2])\n",
      "tensor(1) tensor([0.6189, 0.3811], dtype=torch.float64)\n",
      "torch.Size([128, 2, 2])\n",
      "tensor(0) tensor([0.4965, 0.5035], dtype=torch.float64)\n"
     ]
    },
    {
     "name": "stderr",
     "output_type": "stream",
     "text": [
      " 82%|████████▏ | 2055/2494 [00:06<00:01, 303.83it/s]"
     ]
    },
    {
     "name": "stdout",
     "output_type": "stream",
     "text": [
      "torch.Size([128, 2, 2])\n",
      "tensor(1) tensor([0.2939, 0.7061], dtype=torch.float64)\n",
      "torch.Size([128, 2, 2])\n",
      "tensor(0) tensor([0.6541, 0.3459], dtype=torch.float64)\n",
      "torch.Size([128, 2, 2])\n",
      "tensor(0) tensor([0.6673, 0.3327], dtype=torch.float64)\n",
      "torch.Size([128, 2, 2])\n",
      "tensor(0) tensor([0.5161, 0.4839], dtype=torch.float64)\n",
      "torch.Size([128, 2, 2])\n",
      "tensor(1) tensor([0.4866, 0.5134], dtype=torch.float64)\n",
      "torch.Size([128, 2, 2])\n",
      "tensor(1) tensor([0.7382, 0.2618], dtype=torch.float64)\n",
      "torch.Size([128, 2, 2])\n",
      "tensor(1) tensor([0.7246, 0.2754], dtype=torch.float64)\n",
      "torch.Size([128, 2, 2])\n",
      "tensor(1) tensor([0.4228, 0.5772], dtype=torch.float64)\n",
      "torch.Size([128, 2, 2])\n",
      "tensor(0) tensor([0.7374, 0.2626], dtype=torch.float64)\n",
      "torch.Size([128, 2, 2])\n",
      "tensor(1) tensor([0.5941, 0.4059], dtype=torch.float64)\n",
      "torch.Size([128, 2, 2])\n",
      "tensor(0) tensor([0.5197, 0.4803], dtype=torch.float64)\n",
      "torch.Size([128, 2, 2])\n",
      "tensor(1) tensor([0.6358, 0.3642], dtype=torch.float64)\n",
      "torch.Size([128, 2, 2])\n",
      "tensor(0) tensor([0.5728, 0.4272], dtype=torch.float64)\n",
      "torch.Size([128, 2, 2])\n",
      "tensor(1) tensor([0.8162, 0.1838], dtype=torch.float64)\n",
      "torch.Size([128, 2, 2])\n",
      "tensor(0) tensor([0.5388, 0.4612], dtype=torch.float64)\n",
      "torch.Size([128, 2, 2])\n",
      "tensor(1) tensor([0.8388, 0.1612], dtype=torch.float64)\n",
      "torch.Size([128, 2, 2])\n",
      "tensor(1) tensor([0.4400, 0.5600], dtype=torch.float64)\n",
      "torch.Size([128, 2, 2])\n",
      "tensor(0) tensor([0.5665, 0.4335], dtype=torch.float64)\n",
      "torch.Size([128, 2, 2])\n",
      "tensor(1) tensor([0.2578, 0.7422], dtype=torch.float64)\n",
      "torch.Size([128, 2, 2])\n",
      "tensor(0) tensor([0.6366, 0.3634], dtype=torch.float64)\n",
      "torch.Size([128, 2, 2])\n",
      "tensor(1) tensor([0.2880, 0.7120], dtype=torch.float64)\n",
      "torch.Size([128, 2, 2])\n",
      "tensor(1) tensor([0.6001, 0.3999], dtype=torch.float64)\n",
      "torch.Size([128, 2, 2])\n",
      "tensor(0) tensor([0.6175, 0.3825], dtype=torch.float64)\n",
      "torch.Size([128, 2, 2])\n",
      "tensor(0) tensor([0.5320, 0.4680], dtype=torch.float64)\n",
      "torch.Size([128, 2, 2])\n",
      "tensor(0) tensor([0.5525, 0.4475], dtype=torch.float64)\n",
      "torch.Size([128, 2, 2])\n",
      "tensor(0) tensor([0.7341, 0.2659], dtype=torch.float64)\n",
      "torch.Size([128, 2, 2])\n",
      "tensor(1) tensor([0.4918, 0.5082], dtype=torch.float64)\n",
      "torch.Size([128, 2, 2])\n",
      "tensor(1) tensor([0.6993, 0.3007], dtype=torch.float64)\n",
      "torch.Size([128, 2, 2])\n",
      "tensor(0) tensor([0.5339, 0.4661], dtype=torch.float64)\n",
      "torch.Size([128, 2, 2])\n",
      "tensor(1) tensor([0.4659, 0.5341], dtype=torch.float64)\n",
      "torch.Size([128, 2, 2])\n",
      "tensor(1) tensor([0.5830, 0.4170], dtype=torch.float64)\n",
      "torch.Size([128, 2, 2])\n",
      "tensor(1) tensor([0.3839, 0.6161], dtype=torch.float64)\n",
      "torch.Size([128, 2, 2])\n",
      "tensor(1) tensor([0.6920, 0.3080], dtype=torch.float64)\n",
      "torch.Size([128, 2, 2])\n",
      "tensor(1) tensor([0.6664, 0.3336], dtype=torch.float64)\n",
      "torch.Size([128, 2, 2])\n",
      "tensor(1) tensor([0.6645, 0.3355], dtype=torch.float64)\n",
      "torch.Size([128, 2, 2])\n",
      "tensor(0) tensor([0.7220, 0.2780], dtype=torch.float64)\n",
      "torch.Size([128, 2, 2])\n",
      "tensor(0) tensor([0.5883, 0.4117], dtype=torch.float64)\n",
      "torch.Size([128, 2, 2])\n",
      "tensor(1) tensor([0.4888, 0.5112], dtype=torch.float64)\n",
      "torch.Size([128, 2, 2])\n",
      "tensor(0) tensor([0.8033, 0.1967], dtype=torch.float64)\n",
      "torch.Size([128, 2, 2])\n",
      "tensor(1) tensor([0.1611, 0.8389], dtype=torch.float64)\n",
      "torch.Size([128, 2, 2])\n",
      "tensor(0) tensor([0.5013, 0.4987], dtype=torch.float64)\n",
      "torch.Size([128, 2, 2])\n",
      "tensor(1) tensor([0.7222, 0.2778], dtype=torch.float64)\n",
      "torch.Size([128, 2, 2])\n",
      "tensor(0) tensor([0.8100, 0.1900], dtype=torch.float64)\n",
      "torch.Size([128, 2, 2])\n",
      "tensor(0) tensor([0.6317, 0.3683], dtype=torch.float64)\n",
      "torch.Size([128, 2, 2])\n",
      "tensor(1) tensor([0.3536, 0.6464], dtype=torch.float64)\n",
      "torch.Size([128, 2, 2])\n",
      "tensor(1) tensor([0.5612, 0.4388], dtype=torch.float64)\n",
      "torch.Size([128, 2, 2])\n",
      "tensor(1) tensor([0.2971, 0.7029], dtype=torch.float64)\n",
      "torch.Size([128, 2, 2])\n",
      "tensor(0) tensor([0.5983, 0.4017], dtype=torch.float64)\n",
      "torch.Size([128, 2, 2])\n",
      "tensor(1) tensor([0.2979, 0.7021], dtype=torch.float64)\n",
      "torch.Size([128, 2, 2])\n",
      "tensor(1) tensor([0.5860, 0.4140], dtype=torch.float64)\n",
      "torch.Size([128, 2, 2])\n",
      "tensor(0) tensor([0.8849, 0.1151], dtype=torch.float64)\n",
      "torch.Size([128, 2, 2])\n",
      "tensor(1) tensor([0.6702, 0.3298], dtype=torch.float64)\n",
      "torch.Size([128, 2, 2])\n",
      "tensor(1) tensor([0.5834, 0.4166], dtype=torch.float64)\n",
      "torch.Size([128, 2, 2])\n",
      "tensor(1) tensor([0.6021, 0.3979], dtype=torch.float64)\n",
      "torch.Size([128, 2, 2])\n",
      "tensor(0) tensor([0.5238, 0.4762], dtype=torch.float64)\n",
      "torch.Size([128, 2, 2])\n",
      "tensor(0) tensor([0.4703, 0.5297], dtype=torch.float64)\n",
      "torch.Size([128, 2, 2])\n",
      "tensor(1) tensor([0.4131, 0.5869], dtype=torch.float64)\n",
      "torch.Size([128, 2, 2])\n",
      "tensor(0) tensor([0.8754, 0.1246], dtype=torch.float64)\n",
      "torch.Size([128, 2, 2])\n",
      "tensor(0) tensor([0.8884, 0.1116], dtype=torch.float64)\n",
      "torch.Size([128, 2, 2])\n",
      "tensor(1) tensor([0.4053, 0.5947], dtype=torch.float64)\n",
      "torch.Size([128, 2, 2])\n",
      "tensor(0) tensor([0.6180, 0.3820], dtype=torch.float64)\n",
      "torch.Size([128, 2, 2])\n",
      "tensor(0) tensor([0.6133, 0.3867], dtype=torch.float64)\n"
     ]
    },
    {
     "name": "stderr",
     "output_type": "stream",
     "text": [
      " 85%|████████▍ | 2117/2494 [00:06<00:01, 304.37it/s]"
     ]
    },
    {
     "name": "stdout",
     "output_type": "stream",
     "text": [
      "torch.Size([128, 2, 2])\n",
      "tensor(0) tensor([0.7470, 0.2530], dtype=torch.float64)\n",
      "torch.Size([128, 2, 2])\n",
      "tensor(1) tensor([0.5495, 0.4505], dtype=torch.float64)\n",
      "torch.Size([128, 2, 2])\n",
      "tensor(1) tensor([0.5679, 0.4321], dtype=torch.float64)\n",
      "torch.Size([128, 2, 2])\n",
      "tensor(1) tensor([0.5186, 0.4814], dtype=torch.float64)\n",
      "torch.Size([128, 2, 2])\n",
      "tensor(0) tensor([0.8185, 0.1815], dtype=torch.float64)\n",
      "torch.Size([128, 2, 2])\n",
      "tensor(0) tensor([0.7957, 0.2043], dtype=torch.float64)\n",
      "torch.Size([128, 2, 2])\n",
      "tensor(1) tensor([0.6111, 0.3889], dtype=torch.float64)\n",
      "torch.Size([128, 2, 2])\n",
      "tensor(1) tensor([0.6610, 0.3390], dtype=torch.float64)\n",
      "torch.Size([128, 2, 2])\n",
      "tensor(0) tensor([0.8238, 0.1762], dtype=torch.float64)\n",
      "torch.Size([128, 2, 2])\n",
      "tensor(0) tensor([0.3556, 0.6444], dtype=torch.float64)\n",
      "torch.Size([128, 2, 2])\n",
      "tensor(0) tensor([0.7115, 0.2885], dtype=torch.float64)\n",
      "torch.Size([128, 2, 2])\n",
      "tensor(1) tensor([0.5581, 0.4419], dtype=torch.float64)\n",
      "torch.Size([128, 2, 2])\n",
      "tensor(0) tensor([0.7928, 0.2072], dtype=torch.float64)\n",
      "torch.Size([128, 2, 2])\n",
      "tensor(1) tensor([0.3508, 0.6492], dtype=torch.float64)\n",
      "torch.Size([128, 2, 2])\n",
      "tensor(1) tensor([0.5664, 0.4336], dtype=torch.float64)\n",
      "torch.Size([128, 2, 2])\n",
      "tensor(0) tensor([0.6714, 0.3286], dtype=torch.float64)\n",
      "torch.Size([128, 2, 2])\n",
      "tensor(0) tensor([0.5615, 0.4385], dtype=torch.float64)\n",
      "torch.Size([128, 2, 2])\n",
      "tensor(1) tensor([0.4144, 0.5856], dtype=torch.float64)\n",
      "torch.Size([128, 2, 2])\n",
      "tensor(0) tensor([0.5500, 0.4500], dtype=torch.float64)\n",
      "torch.Size([128, 2, 2])\n",
      "tensor(1) tensor([0.3307, 0.6693], dtype=torch.float64)\n",
      "torch.Size([128, 2, 2])\n",
      "tensor(1) tensor([0.4446, 0.5554], dtype=torch.float64)\n",
      "torch.Size([128, 2, 2])\n",
      "tensor(1) tensor([0.6199, 0.3801], dtype=torch.float64)\n",
      "torch.Size([128, 2, 2])\n",
      "tensor(1) tensor([0.5737, 0.4263], dtype=torch.float64)\n",
      "torch.Size([128, 2, 2])\n",
      "tensor(0) tensor([0.7442, 0.2558], dtype=torch.float64)\n",
      "torch.Size([128, 2, 2])\n",
      "tensor(1) tensor([0.5254, 0.4746], dtype=torch.float64)\n",
      "torch.Size([128, 2, 2])\n",
      "tensor(0) tensor([0.6930, 0.3070], dtype=torch.float64)\n",
      "torch.Size([128, 2, 2])\n",
      "tensor(1) tensor([0.4955, 0.5045], dtype=torch.float64)\n",
      "torch.Size([128, 2, 2])\n",
      "tensor(0) tensor([0.4373, 0.5627], dtype=torch.float64)\n",
      "torch.Size([128, 2, 2])\n",
      "tensor(0) tensor([0.4723, 0.5277], dtype=torch.float64)\n",
      "torch.Size([128, 2, 2])\n",
      "tensor(0) tensor([0.7861, 0.2139], dtype=torch.float64)\n",
      "torch.Size([128, 2, 2])\n",
      "tensor(1) tensor([0.4476, 0.5524], dtype=torch.float64)\n",
      "torch.Size([128, 2, 2])\n",
      "tensor(0) tensor([0.7043, 0.2957], dtype=torch.float64)\n",
      "torch.Size([128, 2, 2])\n",
      "tensor(1) tensor([0.4483, 0.5517], dtype=torch.float64)\n",
      "torch.Size([128, 2, 2])\n",
      "tensor(0) tensor([0.5554, 0.4446], dtype=torch.float64)\n",
      "torch.Size([128, 2, 2])\n",
      "tensor(1) tensor([0.7429, 0.2571], dtype=torch.float64)\n",
      "torch.Size([128, 2, 2])\n",
      "tensor(1) tensor([0.7271, 0.2729], dtype=torch.float64)\n",
      "torch.Size([128, 2, 2])\n",
      "tensor(1) tensor([0.6501, 0.3499], dtype=torch.float64)\n",
      "torch.Size([128, 2, 2])\n",
      "tensor(0) tensor([0.3337, 0.6663], dtype=torch.float64)\n",
      "torch.Size([128, 2, 2])\n",
      "tensor(0) tensor([0.4525, 0.5475], dtype=torch.float64)\n",
      "torch.Size([128, 2, 2])\n",
      "tensor(0) tensor([0.7155, 0.2845], dtype=torch.float64)\n",
      "torch.Size([128, 2, 2])\n",
      "tensor(1) tensor([0.1782, 0.8218], dtype=torch.float64)\n",
      "torch.Size([128, 2, 2])\n",
      "tensor(0) tensor([0.6115, 0.3885], dtype=torch.float64)\n",
      "torch.Size([128, 2, 2])\n",
      "tensor(1) tensor([0.6864, 0.3136], dtype=torch.float64)\n",
      "torch.Size([128, 2, 2])\n",
      "tensor(0) tensor([0.6239, 0.3761], dtype=torch.float64)\n",
      "torch.Size([128, 2, 2])\n",
      "tensor(1) tensor([0.6568, 0.3432], dtype=torch.float64)\n",
      "torch.Size([128, 2, 2])\n",
      "tensor(1) tensor([0.7479, 0.2521], dtype=torch.float64)\n",
      "torch.Size([128, 2, 2])\n",
      "tensor(1) tensor([0.5419, 0.4581], dtype=torch.float64)\n",
      "torch.Size([128, 2, 2])\n",
      "tensor(0) tensor([0.6086, 0.3914], dtype=torch.float64)\n",
      "torch.Size([128, 2, 2])\n",
      "tensor(0) tensor([0.5789, 0.4211], dtype=torch.float64)\n",
      "torch.Size([128, 2, 2])\n",
      "tensor(0) tensor([0.4491, 0.5509], dtype=torch.float64)\n",
      "torch.Size([128, 2, 2])\n",
      "tensor(1) tensor([0.8430, 0.1570], dtype=torch.float64)\n",
      "torch.Size([128, 2, 2])\n",
      "tensor(0) tensor([0.7766, 0.2234], dtype=torch.float64)\n",
      "torch.Size([128, 2, 2])\n",
      "tensor(1) tensor([0.5482, 0.4518], dtype=torch.float64)\n",
      "torch.Size([128, 2, 2])\n",
      "tensor(0) tensor([0.7545, 0.2455], dtype=torch.float64)\n",
      "torch.Size([128, 2, 2])\n",
      "tensor(1) tensor([0.4587, 0.5413], dtype=torch.float64)\n",
      "torch.Size([128, 2, 2])\n",
      "tensor(0) tensor([0.3973, 0.6027], dtype=torch.float64)\n",
      "torch.Size([128, 2, 2])\n",
      "tensor(1) tensor([0.5895, 0.4105], dtype=torch.float64)\n",
      "torch.Size([128, 2, 2])\n",
      "tensor(0) tensor([0.8165, 0.1835], dtype=torch.float64)\n",
      "torch.Size([128, 2, 2])\n",
      "tensor(0) tensor([0.7605, 0.2395], dtype=torch.float64)\n",
      "torch.Size([128, 2, 2])\n",
      "tensor(1) tensor([0.5528, 0.4472], dtype=torch.float64)\n",
      "torch.Size([128, 2, 2])\n",
      "tensor(0) tensor([0.5819, 0.4181], dtype=torch.float64)\n",
      "torch.Size([128, 2, 2])\n",
      "tensor(1) "
     ]
    },
    {
     "name": "stderr",
     "output_type": "stream",
     "text": [
      " 87%|████████▋ | 2179/2494 [00:07<00:01, 304.52it/s]"
     ]
    },
    {
     "name": "stdout",
     "output_type": "stream",
     "text": [
      "tensor([0.6166, 0.3834], dtype=torch.float64)\n",
      "torch.Size([128, 2, 2])\n",
      "tensor(1) tensor([0.5993, 0.4007], dtype=torch.float64)\n",
      "torch.Size([128, 2, 2])\n",
      "tensor(1) tensor([0.4503, 0.5497], dtype=torch.float64)\n",
      "torch.Size([128, 2, 2])\n",
      "tensor(1) tensor([0.8573, 0.1427], dtype=torch.float64)\n",
      "torch.Size([128, 2, 2])\n",
      "tensor(0) tensor([0.8881, 0.1119], dtype=torch.float64)\n",
      "torch.Size([128, 2, 2])\n",
      "tensor(1) tensor([0.5264, 0.4736], dtype=torch.float64)\n",
      "torch.Size([128, 2, 2])\n",
      "tensor(0) tensor([0.6995, 0.3005], dtype=torch.float64)\n",
      "torch.Size([128, 2, 2])\n",
      "tensor(1) tensor([0.4689, 0.5311], dtype=torch.float64)\n",
      "torch.Size([128, 2, 2])\n",
      "tensor(1) tensor([0.2954, 0.7046], dtype=torch.float64)\n",
      "torch.Size([128, 2, 2])\n",
      "tensor(0) tensor([0.4208, 0.5792], dtype=torch.float64)\n",
      "torch.Size([128, 2, 2])\n",
      "tensor(1) tensor([0.3580, 0.6420], dtype=torch.float64)\n",
      "torch.Size([128, 2, 2])\n",
      "tensor(1) tensor([0.6573, 0.3427], dtype=torch.float64)\n",
      "torch.Size([128, 2, 2])\n",
      "tensor(1) tensor([0.3538, 0.6462], dtype=torch.float64)\n",
      "torch.Size([128, 2, 2])\n",
      "tensor(0) tensor([0.7866, 0.2134], dtype=torch.float64)\n",
      "torch.Size([128, 2, 2])\n",
      "tensor(0) tensor([0.8993, 0.1007], dtype=torch.float64)\n",
      "torch.Size([128, 2, 2])\n",
      "tensor(1) tensor([0.7441, 0.2559], dtype=torch.float64)\n",
      "torch.Size([128, 2, 2])\n",
      "tensor(1) tensor([0.3667, 0.6333], dtype=torch.float64)\n",
      "torch.Size([128, 2, 2])\n",
      "tensor(0) tensor([0.5809, 0.4191], dtype=torch.float64)\n",
      "torch.Size([128, 2, 2])\n",
      "tensor(1) tensor([0.2857, 0.7143], dtype=torch.float64)\n",
      "torch.Size([128, 2, 2])\n",
      "tensor(1) tensor([0.3625, 0.6375], dtype=torch.float64)\n",
      "torch.Size([128, 2, 2])\n",
      "tensor(1) tensor([0.3830, 0.6170], dtype=torch.float64)\n",
      "torch.Size([128, 2, 2])\n",
      "tensor(0) tensor([0.5245, 0.4755], dtype=torch.float64)\n",
      "torch.Size([128, 2, 2])\n",
      "tensor(1) tensor([0.3870, 0.6130], dtype=torch.float64)\n",
      "torch.Size([128, 2, 2])\n",
      "tensor(0) tensor([0.5550, 0.4450], dtype=torch.float64)\n",
      "torch.Size([128, 2, 2])\n",
      "tensor(0) tensor([0.7844, 0.2156], dtype=torch.float64)\n",
      "torch.Size([128, 2, 2])\n",
      "tensor(1) tensor([0.5481, 0.4519], dtype=torch.float64)\n",
      "torch.Size([128, 2, 2])\n",
      "tensor(0) tensor([0.6605, 0.3395], dtype=torch.float64)\n",
      "torch.Size([128, 2, 2])\n",
      "tensor(0) tensor([0.7804, 0.2196], dtype=torch.float64)\n",
      "torch.Size([128, 2, 2])\n",
      "tensor(0) tensor([0.5924, 0.4076], dtype=torch.float64)\n",
      "torch.Size([128, 2, 2])\n",
      "tensor(1) tensor([0.5929, 0.4071], dtype=torch.float64)\n",
      "torch.Size([128, 2, 2])\n",
      "tensor(1) tensor([0.8657, 0.1343], dtype=torch.float64)\n",
      "torch.Size([128, 2, 2])\n",
      "tensor(0) tensor([0.6271, 0.3729], dtype=torch.float64)\n",
      "torch.Size([128, 2, 2])\n",
      "tensor(0) tensor([0.6607, 0.3393], dtype=torch.float64)\n",
      "torch.Size([128, 2, 2])\n",
      "tensor(0) tensor([0.3685, 0.6315], dtype=torch.float64)\n",
      "torch.Size([128, 2, 2])\n",
      "tensor(1) tensor([0.6088, 0.3912], dtype=torch.float64)\n",
      "torch.Size([128, 2, 2])\n",
      "tensor(1) tensor([0.3806, 0.6194], dtype=torch.float64)\n",
      "torch.Size([128, 2, 2])\n",
      "tensor(1) tensor([0.4913, 0.5087], dtype=torch.float64)\n",
      "torch.Size([128, 2, 2])\n",
      "tensor(0) tensor([0.8104, 0.1896], dtype=torch.float64)\n",
      "torch.Size([128, 2, 2])\n",
      "tensor(0) tensor([0.4449, 0.5551], dtype=torch.float64)\n",
      "torch.Size([128, 2, 2])\n",
      "tensor(0) tensor([0.6628, 0.3372], dtype=torch.float64)\n",
      "torch.Size([128, 2, 2])\n",
      "tensor(0) tensor([0.7692, 0.2308], dtype=torch.float64)\n",
      "torch.Size([128, 2, 2])\n",
      "tensor(1) tensor([0.6136, 0.3864], dtype=torch.float64)\n",
      "torch.Size([128, 2, 2])\n",
      "tensor(1) tensor([0.4186, 0.5814], dtype=torch.float64)\n",
      "torch.Size([128, 2, 2])\n",
      "tensor(1) tensor([0.5454, 0.4546], dtype=torch.float64)\n",
      "torch.Size([128, 2, 2])\n",
      "tensor(1) tensor([0.5618, 0.4382], dtype=torch.float64)\n",
      "torch.Size([128, 2, 2])\n",
      "tensor(1) tensor([0.3781, 0.6219], dtype=torch.float64)\n",
      "torch.Size([128, 2, 2])\n",
      "tensor(1) tensor([0.3555, 0.6445], dtype=torch.float64)\n",
      "torch.Size([128, 2, 2])\n",
      "tensor(0) tensor([0.8645, 0.1355], dtype=torch.float64)\n",
      "torch.Size([128, 2, 2])\n",
      "tensor(1) tensor([0.4705, 0.5295], dtype=torch.float64)\n",
      "torch.Size([128, 2, 2])\n",
      "tensor(1) tensor([0.6503, 0.3497], dtype=torch.float64)\n",
      "torch.Size([128, 2, 2])\n",
      "tensor(1) tensor([0.5517, 0.4483], dtype=torch.float64)\n",
      "torch.Size([128, 2, 2])\n",
      "tensor(1) tensor([0.8026, 0.1974], dtype=torch.float64)\n",
      "torch.Size([128, 2, 2])\n",
      "tensor(0) tensor([0.6659, 0.3341], dtype=torch.float64)\n",
      "torch.Size([128, 2, 2])\n",
      "tensor(0) tensor([0.6168, 0.3832], dtype=torch.float64)\n",
      "torch.Size([128, 2, 2])\n",
      "tensor(0) tensor([0.4357, 0.5643], dtype=torch.float64)\n",
      "torch.Size([128, 2, 2])\n",
      "tensor(0) tensor([0.6950, 0.3050], dtype=torch.float64)\n",
      "torch.Size([128, 2, 2])\n",
      "tensor(1) tensor([0.6371, 0.3629], dtype=torch.float64)\n",
      "torch.Size([128, 2, 2])\n",
      "tensor(0) tensor([0.8302, 0.1698], dtype=torch.float64)\n",
      "torch.Size([128, 2, 2])\n",
      "tensor(1) tensor([0.6686, 0.3314], dtype=torch.float64)\n",
      "torch.Size([128, 2, 2])\n",
      "tensor(0) tensor([0.8141, 0.1859], dtype=torch.float64)\n",
      "torch.Size([128, 2, 2])\n",
      "tensor(0) tensor([0.2570, 0.7430], dtype=torch.float64)\n",
      "torch.Size([128, 2, 2])\n",
      "tensor(1) tensor([0.4036, 0.5964], dtype=torch.float64)\n"
     ]
    },
    {
     "name": "stderr",
     "output_type": "stream",
     "text": [
      " 90%|████████▉ | 2241/2494 [00:07<00:00, 301.86it/s]"
     ]
    },
    {
     "name": "stdout",
     "output_type": "stream",
     "text": [
      "torch.Size([128, 2, 2])\n",
      "tensor(0) tensor([0.7642, 0.2358], dtype=torch.float64)\n",
      "torch.Size([128, 2, 2])\n",
      "tensor(0) tensor([0.4793, 0.5207], dtype=torch.float64)\n",
      "torch.Size([128, 2, 2])\n",
      "tensor(1) tensor([0.6271, 0.3729], dtype=torch.float64)\n",
      "torch.Size([128, 2, 2])\n",
      "tensor(1) tensor([0.4772, 0.5228], dtype=torch.float64)\n",
      "torch.Size([128, 2, 2])\n",
      "tensor(0) tensor([0.7084, 0.2916], dtype=torch.float64)\n",
      "torch.Size([128, 2, 2])\n",
      "tensor(0) tensor([0.6892, 0.3108], dtype=torch.float64)\n",
      "torch.Size([128, 2, 2])\n",
      "tensor(0) tensor([0.5997, 0.4003], dtype=torch.float64)\n",
      "torch.Size([128, 2, 2])\n",
      "tensor(1) tensor([0.5736, 0.4264], dtype=torch.float64)\n",
      "torch.Size([128, 2, 2])\n",
      "tensor(1) tensor([0.4602, 0.5398], dtype=torch.float64)\n",
      "torch.Size([128, 2, 2])\n",
      "tensor(0) tensor([0.4293, 0.5707], dtype=torch.float64)\n",
      "torch.Size([128, 2, 2])\n",
      "tensor(0) tensor([0.7901, 0.2099], dtype=torch.float64)\n",
      "torch.Size([128, 2, 2])\n",
      "tensor(0) tensor([0.6739, 0.3261], dtype=torch.float64)\n",
      "torch.Size([128, 2, 2])\n",
      "tensor(1) tensor([0.5638, 0.4362], dtype=torch.float64)\n",
      "torch.Size([128, 2, 2])\n",
      "tensor(1) tensor([0.6866, 0.3134], dtype=torch.float64)\n",
      "torch.Size([128, 2, 2])\n",
      "tensor(0) tensor([0.7057, 0.2943], dtype=torch.float64)\n",
      "torch.Size([128, 2, 2])\n",
      "tensor(1) tensor([0.3807, 0.6193], dtype=torch.float64)\n",
      "torch.Size([128, 2, 2])\n",
      "tensor(0) tensor([0.7493, 0.2507], dtype=torch.float64)\n",
      "torch.Size([128, 2, 2])\n",
      "tensor(1) tensor([0.5245, 0.4755], dtype=torch.float64)\n",
      "torch.Size([128, 2, 2])\n",
      "tensor(1) tensor([0.3440, 0.6560], dtype=torch.float64)\n",
      "torch.Size([128, 2, 2])\n",
      "tensor(0) tensor([0.7840, 0.2160], dtype=torch.float64)\n",
      "torch.Size([128, 2, 2])\n",
      "tensor(1) tensor([0.4223, 0.5777], dtype=torch.float64)\n",
      "torch.Size([128, 2, 2])\n",
      "tensor(1) tensor([0.4866, 0.5134], dtype=torch.float64)\n",
      "torch.Size([128, 2, 2])\n",
      "tensor(1) tensor([0.7314, 0.2686], dtype=torch.float64)\n",
      "torch.Size([128, 2, 2])\n",
      "tensor(1) tensor([0.2870, 0.7130], dtype=torch.float64)\n",
      "torch.Size([128, 2, 2])\n",
      "tensor(0) tensor([0.7141, 0.2859], dtype=torch.float64)\n",
      "torch.Size([128, 2, 2])\n",
      "tensor(0) tensor([0.6332, 0.3668], dtype=torch.float64)\n",
      "torch.Size([128, 2, 2])\n",
      "tensor(0) tensor([0.4943, 0.5057], dtype=torch.float64)\n",
      "torch.Size([128, 2, 2])\n",
      "tensor(0) tensor([0.6586, 0.3414], dtype=torch.float64)\n",
      "torch.Size([128, 2, 2])\n",
      "tensor(1) tensor([0.4372, 0.5628], dtype=torch.float64)\n",
      "torch.Size([128, 2, 2])\n",
      "tensor(1) tensor([0.3924, 0.6076], dtype=torch.float64)\n",
      "torch.Size([128, 2, 2])\n",
      "tensor(1) tensor([0.6911, 0.3089], dtype=torch.float64)\n",
      "torch.Size([128, 2, 2])\n",
      "tensor(1) tensor([0.1980, 0.8020], dtype=torch.float64)\n",
      "torch.Size([128, 2, 2])\n",
      "tensor(1) tensor([0.5203, 0.4797], dtype=torch.float64)\n",
      "torch.Size([128, 2, 2])\n",
      "tensor(0) tensor([0.4074, 0.5926], dtype=torch.float64)\n",
      "torch.Size([128, 2, 2])\n",
      "tensor(0) tensor([0.7593, 0.2407], dtype=torch.float64)\n",
      "torch.Size([128, 2, 2])\n",
      "tensor(1) tensor([0.4575, 0.5425], dtype=torch.float64)\n",
      "torch.Size([128, 2, 2])\n",
      "tensor(1) tensor([0.7328, 0.2672], dtype=torch.float64)\n",
      "torch.Size([128, 2, 2])\n",
      "tensor(0) tensor([0.6615, 0.3385], dtype=torch.float64)\n",
      "torch.Size([128, 2, 2])\n",
      "tensor(1) tensor([0.4556, 0.5444], dtype=torch.float64)\n",
      "torch.Size([128, 2, 2])\n",
      "tensor(1) tensor([0.1075, 0.8925], dtype=torch.float64)\n",
      "torch.Size([128, 2, 2])\n",
      "tensor(1) tensor([0.5868, 0.4132], dtype=torch.float64)\n",
      "torch.Size([128, 2, 2])\n",
      "tensor(0) tensor([0.8261, 0.1739], dtype=torch.float64)\n",
      "torch.Size([128, 2, 2])\n",
      "tensor(0) tensor([0.7384, 0.2616], dtype=torch.float64)\n",
      "torch.Size([128, 2, 2])\n",
      "tensor(1) tensor([0.6995, 0.3005], dtype=torch.float64)\n",
      "torch.Size([128, 2, 2])\n",
      "tensor(1) tensor([0.5067, 0.4933], dtype=torch.float64)\n",
      "torch.Size([128, 2, 2])\n",
      "tensor(0) tensor([0.5466, 0.4534], dtype=torch.float64)\n",
      "torch.Size([128, 2, 2])\n",
      "tensor(0) tensor([0.6161, 0.3839], dtype=torch.float64)\n",
      "torch.Size([128, 2, 2])\n",
      "tensor(0) tensor([0.5935, 0.4065], dtype=torch.float64)\n",
      "torch.Size([128, 2, 2])\n",
      "tensor(1) tensor([0.3975, 0.6025], dtype=torch.float64)\n",
      "torch.Size([128, 2, 2])\n",
      "tensor(0) tensor([0.6740, 0.3260], dtype=torch.float64)\n",
      "torch.Size([128, 2, 2])\n",
      "tensor(1) tensor([0.7100, 0.2900], dtype=torch.float64)\n",
      "torch.Size([128, 2, 2])\n",
      "tensor(0) tensor([0.7349, 0.2651], dtype=torch.float64)\n",
      "torch.Size([128, 2, 2])\n",
      "tensor(1) tensor([0.3904, 0.6096], dtype=torch.float64)\n",
      "torch.Size([128, 2, 2])\n",
      "tensor(1) tensor([0.4062, 0.5938], dtype=torch.float64)\n",
      "torch.Size([128, 2, 2])\n",
      "tensor(1) tensor([0.4245, 0.5755], dtype=torch.float64)\n",
      "torch.Size([128, 2, 2])\n",
      "tensor(1) tensor([0.8097, 0.1903], dtype=torch.float64)\n",
      "torch.Size([128, 2, 2])\n",
      "tensor(1) tensor([0.5923, 0.4077], dtype=torch.float64)\n",
      "torch.Size([128, 2, 2])\n",
      "tensor(1) tensor([0.3760, 0.6240], dtype=torch.float64)\n",
      "torch.Size([128, 2, 2])\n",
      "tensor(0) tensor([0.6135, 0.3865], dtype=torch.float64)\n",
      "torch.Size([128, 2, 2])\n",
      "tensor(0) tensor([0.6874, 0.3126], dtype=torch.float64)\n"
     ]
    },
    {
     "name": "stderr",
     "output_type": "stream",
     "text": [
      "\r",
      " 91%|█████████ | 2272/2494 [00:07<00:00, 302.32it/s]"
     ]
    },
    {
     "name": "stdout",
     "output_type": "stream",
     "text": [
      "torch.Size([128, 2, 2])\n",
      "tensor(0) tensor([0.7482, 0.2518], dtype=torch.float64)\n",
      "torch.Size([128, 2, 2])\n",
      "tensor(1) tensor([0.5282, 0.4718], dtype=torch.float64)\n",
      "torch.Size([128, 2, 2])\n",
      "tensor(0) tensor([0.3577, 0.6423], dtype=torch.float64)\n",
      "torch.Size([128, 2, 2])\n",
      "tensor(1) tensor([0.3348, 0.6652], dtype=torch.float64)\n",
      "torch.Size([128, 2, 2])\n",
      "tensor(0) tensor([0.5212, 0.4788], dtype=torch.float64)\n",
      "torch.Size([128, 2, 2])\n",
      "tensor(1) tensor([0.2242, 0.7758], dtype=torch.float64)\n",
      "torch.Size([128, 2, 2])\n",
      "tensor(1) tensor([0.6896, 0.3104], dtype=torch.float64)\n",
      "torch.Size([128, 2, 2])\n",
      "tensor(0) tensor([0.6776, 0.3224], dtype=torch.float64)\n",
      "torch.Size([128, 2, 2])\n",
      "tensor(1) tensor([0.7890, 0.2110], dtype=torch.float64)\n",
      "torch.Size([128, 2, 2])\n",
      "tensor(0) tensor([0.7493, 0.2507], dtype=torch.float64)\n",
      "torch.Size([128, 2, 2])\n",
      "tensor(1) tensor([0.5544, 0.4456], dtype=torch.float64)\n",
      "torch.Size([128, 2, 2])\n",
      "tensor(1) tensor([0.5329, 0.4671], dtype=torch.float64)\n",
      "torch.Size([128, 2, 2])\n",
      "tensor(1) tensor([0.5627, 0.4373], dtype=torch.float64)\n",
      "torch.Size([128, 2, 2])\n",
      "tensor(0) tensor([0.8993, 0.1007], dtype=torch.float64)\n",
      "torch.Size([128, 2, 2])\n",
      "tensor(1) tensor([0.8260, 0.1740], dtype=torch.float64)\n",
      "torch.Size([128, 2, 2])\n",
      "tensor(0) tensor([0.7685, 0.2315], dtype=torch.float64)\n",
      "torch.Size([128, 2, 2])\n",
      "tensor(1) tensor([0.8751, 0.1249], dtype=torch.float64)\n",
      "torch.Size([128, 2, 2])\n",
      "tensor(0) tensor([0.5877, 0.4123], dtype=torch.float64)\n",
      "torch.Size([128, 2, 2])\n",
      "tensor(0) tensor([0.3802, 0.6198], dtype=torch.float64)\n",
      "torch.Size([128, 2, 2])\n",
      "tensor(0) tensor([0.7305, 0.2695], dtype=torch.float64)\n",
      "torch.Size([128, 2, 2])\n",
      "tensor(1) tensor([0.5803, 0.4197], dtype=torch.float64)\n",
      "torch.Size([128, 2, 2])\n",
      "tensor(0) tensor([0.5029, 0.4971], dtype=torch.float64)\n",
      "torch.Size([128, 2, 2])\n",
      "tensor(1) tensor([0.4192, 0.5808], dtype=torch.float64)\n",
      "torch.Size([128, 2, 2])\n",
      "tensor(1) tensor([0.4497, 0.5503], dtype=torch.float64)\n",
      "torch.Size([128, 2, 2])\n",
      "tensor(1) tensor([0.6206, 0.3794], dtype=torch.float64)\n",
      "torch.Size([128, 2, 2])\n",
      "tensor(1) tensor([0.7974, 0.2026], dtype=torch.float64)\n",
      "torch.Size([128, 2, 2])\n",
      "tensor(0) tensor([0.7256, 0.2744], dtype=torch.float64)\n",
      "torch.Size([128, 2, 2])\n",
      "tensor(1) tensor([0.3396, 0.6604], dtype=torch.float64)\n",
      "torch.Size([128, 2, 2])\n",
      "tensor(1) tensor([0.4471, 0.5529], dtype=torch.float64)\n",
      "torch.Size([128, 2, 2])\n",
      "tensor(1) tensor([0.2968, 0.7032], dtype=torch.float64)\n",
      "torch.Size([128, 2, 2])\n",
      "tensor(0) tensor([0.4739, 0.5261], dtype=torch.float64)\n",
      "torch.Size([128, 2, 2])\n",
      "tensor(0) tensor([0.5441, 0.4559], dtype=torch.float64)\n",
      "torch.Size([128, 2, 2])\n",
      "tensor(1) tensor([0.2071, 0.7929], dtype=torch.float64)\n",
      "torch.Size([128, 2, 2])\n",
      "tensor(1) tensor([0.5315, 0.4685], dtype=torch.float64)\n",
      "torch.Size([128, 2, 2])\n",
      "tensor(0) tensor([0.4536, 0.5464], dtype=torch.float64)\n",
      "torch.Size([128, 2, 2])\n",
      "tensor(1) tensor([0.4278, 0.5722], dtype=torch.float64)\n",
      "torch.Size([128, 2, 2])\n",
      "tensor(1) tensor([0.6229, 0.3771], dtype=torch.float64)\n",
      "torch.Size([128, 2, 2])\n",
      "tensor(0) tensor([0.6083, 0.3917], dtype=torch.float64)\n",
      "torch.Size([128, 2, 2])\n",
      "tensor(0) tensor([0.6276, 0.3724], dtype=torch.float64)\n",
      "torch.Size([128, 2, 2])\n",
      "tensor(1) tensor([0.6571, 0.3429], dtype=torch.float64)\n",
      "torch.Size([128, 2, 2])\n",
      "tensor(1) tensor([0.5952, 0.4048], dtype=torch.float64)\n",
      "torch.Size([128, 2, 2])\n",
      "tensor(0) tensor([0.2089, 0.7911], dtype=torch.float64)\n",
      "torch.Size([128, 2, 2])\n",
      "tensor(0) tensor([0.4369, 0.5631], dtype=torch.float64)\n",
      "torch.Size([128, 2, 2])\n",
      "tensor(0) tensor([0.7494, 0.2506], dtype=torch.float64)\n",
      "torch.Size([128, 2, 2])\n",
      "tensor(1) tensor([0.5349, 0.4651], dtype=torch.float64)\n",
      "torch.Size([128, 2, 2])\n",
      "tensor(1) tensor([0.7520, 0.2480], dtype=torch.float64)\n",
      "torch.Size([128, 2, 2])\n",
      "tensor(1) tensor([0.6320, 0.3680], dtype=torch.float64)\n",
      "torch.Size([128, 2, 2])\n",
      "tensor(1) tensor([0.6775, 0.3225], dtype=torch.float64)\n",
      "torch.Size([128, 2, 2])\n",
      "tensor(1) tensor([0.5422, 0.4578], dtype=torch.float64)\n",
      "torch.Size([128, 2, 2])\n",
      "tensor(1) tensor([0.3589, 0.6411], dtype=torch.float64)\n",
      "torch.Size([128, 2, 2])\n",
      "tensor(0) tensor([0.4432, 0.5568], dtype=torch.float64)\n",
      "torch.Size([128, 2, 2])\n",
      "tensor(1) tensor([0.5423, 0.4577], dtype=torch.float64)\n",
      "torch.Size([128, 2, 2])\n",
      "tensor(0) tensor([0.8219, 0.1781], dtype=torch.float64)\n",
      "torch.Size([128, 2, 2])\n",
      "tensor(1) tensor([0.4567, 0.5433], dtype=torch.float64)\n",
      "torch.Size([128, 2, 2])\n",
      "tensor(0) tensor([0.5485, 0.4515], dtype=torch.float64)\n",
      "torch.Size([128, 2, 2])\n",
      "tensor(1) tensor([0.6757, 0.3243], dtype=torch.float64)\n",
      "torch.Size([128, 2, 2])\n",
      "tensor(1) tensor([0.6569, 0.3431], dtype=torch.float64)\n",
      "torch.Size([128, 2, 2])\n",
      "tensor(1) tensor([0.7020, 0.2980], dtype=torch.float64)\n",
      "torch.Size([128, 2, 2])\n",
      "tensor(0) tensor([0.6592, 0.3408], dtype=torch.float64)\n",
      "torch.Size([128, 2, 2])\n",
      "tensor(1) tensor([0.5035, 0.4965], dtype=torch.float64)\n",
      "torch.Size([128, 2, 2])\n",
      "tensor(1) tensor([0.6808, 0.3192], dtype=torch.float64)\n",
      "torch.Size([128, 2, 2])\n",
      "tensor(0) tensor([0.5467, 0.4533], dtype=torch.float64)\n"
     ]
    },
    {
     "name": "stderr",
     "output_type": "stream",
     "text": [
      " 94%|█████████▎| 2336/2494 [00:07<00:00, 306.34it/s]"
     ]
    },
    {
     "name": "stdout",
     "output_type": "stream",
     "text": [
      "torch.Size([128, 2, 2])\n",
      "tensor(0) tensor([0.7907, 0.2093], dtype=torch.float64)\n",
      "torch.Size([128, 2, 2])\n",
      "tensor(1) tensor([0.5688, 0.4312], dtype=torch.float64)\n",
      "torch.Size([128, 2, 2])\n",
      "tensor(1) tensor([0.7601, 0.2399], dtype=torch.float64)\n",
      "torch.Size([128, 2, 2])\n",
      "tensor(1) tensor([0.4726, 0.5274], dtype=torch.float64)\n",
      "torch.Size([128, 2, 2])\n",
      "tensor(0) tensor([0.5114, 0.4886], dtype=torch.float64)\n",
      "torch.Size([128, 2, 2])\n",
      "tensor(0) tensor([0.5701, 0.4299], dtype=torch.float64)\n",
      "torch.Size([128, 2, 2])\n",
      "tensor(0) tensor([0.5008, 0.4992], dtype=torch.float64)\n",
      "torch.Size([128, 2, 2])\n",
      "tensor(1) tensor([0.4998, 0.5002], dtype=torch.float64)\n",
      "torch.Size([128, 2, 2])\n",
      "tensor(0) tensor([0.8447, 0.1553], dtype=torch.float64)\n",
      "torch.Size([128, 2, 2])\n",
      "tensor(0) tensor([0.4518, 0.5482], dtype=torch.float64)\n",
      "torch.Size([128, 2, 2])\n",
      "tensor(1) tensor([0.8276, 0.1724], dtype=torch.float64)\n",
      "torch.Size([128, 2, 2])\n",
      "tensor(0) tensor([0.6844, 0.3156], dtype=torch.float64)\n",
      "torch.Size([128, 2, 2])\n",
      "tensor(0) tensor([0.5049, 0.4951], dtype=torch.float64)\n",
      "torch.Size([128, 2, 2])\n",
      "tensor(0) tensor([0.6764, 0.3236], dtype=torch.float64)\n",
      "torch.Size([128, 2, 2])\n",
      "tensor(0) tensor([0.6254, 0.3746], dtype=torch.float64)\n",
      "torch.Size([128, 2, 2])\n",
      "tensor(1) tensor([0.4239, 0.5761], dtype=torch.float64)\n",
      "torch.Size([128, 2, 2])\n",
      "tensor(1) tensor([0.6198, 0.3802], dtype=torch.float64)\n",
      "torch.Size([128, 2, 2])\n",
      "tensor(1) tensor([0.2994, 0.7006], dtype=torch.float64)\n",
      "torch.Size([128, 2, 2])\n",
      "tensor(0) tensor([0.6693, 0.3307], dtype=torch.float64)\n",
      "torch.Size([128, 2, 2])\n",
      "tensor(0) tensor([0.7903, 0.2097], dtype=torch.float64)\n",
      "torch.Size([128, 2, 2])\n",
      "tensor(0) tensor([0.7579, 0.2421], dtype=torch.float64)\n",
      "torch.Size([128, 2, 2])\n",
      "tensor(0) tensor([0.8024, 0.1976], dtype=torch.float64)\n",
      "torch.Size([128, 2, 2])\n",
      "tensor(0) tensor([0.8385, 0.1615], dtype=torch.float64)\n",
      "torch.Size([128, 2, 2])\n",
      "tensor(1) tensor([0.5565, 0.4435], dtype=torch.float64)\n",
      "torch.Size([128, 2, 2])\n",
      "tensor(0) tensor([0.6660, 0.3340], dtype=torch.float64)\n",
      "torch.Size([128, 2, 2])\n",
      "tensor(0) tensor([0.3947, 0.6053], dtype=torch.float64)\n",
      "torch.Size([128, 2, 2])\n",
      "tensor(1) tensor([0.6806, 0.3194], dtype=torch.float64)\n",
      "torch.Size([128, 2, 2])\n",
      "tensor(1) tensor([0.4380, 0.5620], dtype=torch.float64)\n",
      "torch.Size([128, 2, 2])\n",
      "tensor(1) tensor([0.8196, 0.1804], dtype=torch.float64)\n",
      "torch.Size([128, 2, 2])\n",
      "tensor(0) tensor([0.7511, 0.2489], dtype=torch.float64)\n",
      "torch.Size([128, 2, 2])\n",
      "tensor(1) tensor([0.5309, 0.4691], dtype=torch.float64)\n",
      "torch.Size([128, 2, 2])\n",
      "tensor(1) tensor([0.4378, 0.5622], dtype=torch.float64)\n",
      "torch.Size([128, 2, 2])\n",
      "tensor(1) tensor([0.6175, 0.3825], dtype=torch.float64)\n",
      "torch.Size([128, 2, 2])\n",
      "tensor(0) tensor([0.5066, 0.4934], dtype=torch.float64)\n",
      "torch.Size([128, 2, 2])\n",
      "tensor(1) tensor([0.4665, 0.5335], dtype=torch.float64)\n",
      "torch.Size([128, 2, 2])\n",
      "tensor(1) tensor([0.6868, 0.3132], dtype=torch.float64)\n",
      "torch.Size([128, 2, 2])\n",
      "tensor(1) tensor([0.6448, 0.3552], dtype=torch.float64)\n",
      "torch.Size([128, 2, 2])\n",
      "tensor(0) tensor([0.8723, 0.1277], dtype=torch.float64)\n",
      "torch.Size([128, 2, 2])\n",
      "tensor(1) tensor([0.8181, 0.1819], dtype=torch.float64)\n",
      "torch.Size([128, 2, 2])\n",
      "tensor(0) tensor([0.7582, 0.2418], dtype=torch.float64)\n",
      "torch.Size([128, 2, 2])\n",
      "tensor(0) tensor([0.8859, 0.1141], dtype=torch.float64)\n",
      "torch.Size([128, 2, 2])\n",
      "tensor(1) tensor([0.2261, 0.7739], dtype=torch.float64)\n",
      "torch.Size([128, 2, 2])\n",
      "tensor(0) tensor([0.5444, 0.4556], dtype=torch.float64)\n",
      "torch.Size([128, 2, 2])\n",
      "tensor(1) tensor([0.5073, 0.4927], dtype=torch.float64)\n",
      "torch.Size([128, 2, 2])\n",
      "tensor(1) tensor([0.6292, 0.3708], dtype=torch.float64)\n",
      "torch.Size([128, 2, 2])\n",
      "tensor(0) tensor([0.6743, 0.3257], dtype=torch.float64)\n",
      "torch.Size([128, 2, 2])\n",
      "tensor(0) tensor([0.7892, 0.2108], dtype=torch.float64)\n",
      "torch.Size([128, 2, 2])\n",
      "tensor(0) tensor([0.4322, 0.5678], dtype=torch.float64)\n",
      "torch.Size([128, 2, 2])\n",
      "tensor(1) tensor([0.2151, 0.7849], dtype=torch.float64)\n",
      "torch.Size([128, 2, 2])\n",
      "tensor(0) tensor([0.3994, 0.6006], dtype=torch.float64)\n",
      "torch.Size([128, 2, 2])\n",
      "tensor(0) tensor([0.7149, 0.2851], dtype=torch.float64)\n",
      "torch.Size([128, 2, 2])\n",
      "tensor(1) tensor([0.5189, 0.4811], dtype=torch.float64)\n",
      "torch.Size([128, 2, 2])\n",
      "tensor(1) tensor([0.4908, 0.5092], dtype=torch.float64)\n",
      "torch.Size([128, 2, 2])\n",
      "tensor(1) tensor([0.6733, 0.3267], dtype=torch.float64)\n",
      "torch.Size([128, 2, 2])\n",
      "tensor(1) tensor([0.5877, 0.4123], dtype=torch.float64)\n",
      "torch.Size([128, 2, 2])\n",
      "tensor(0) tensor([0.7456, 0.2544], dtype=torch.float64)\n",
      "torch.Size([128, 2, 2])\n",
      "tensor(0) tensor([0.7706, 0.2294], dtype=torch.float64)\n",
      "torch.Size([128, 2, 2])\n",
      "tensor(0) tensor([0.6928, 0.3072], dtype=torch.float64)\n",
      "torch.Size([128, 2, 2])\n",
      "tensor(1) tensor([0.5821, 0.4179], dtype=torch.float64)\n",
      "torch.Size([128, 2, 2])\n",
      "tensor(0) tensor([0.6562, 0.3438], dtype=torch.float64)\n",
      "torch.Size([128, 2, 2])\n",
      "tensor(0) tensor([0.7183, 0.2817], dtype=torch.float64)\n",
      "torch.Size([128, 2, 2])\n",
      "tensor(0) tensor([0.6127, 0.3873], dtype=torch.float64)\n",
      "torch.Size([128, 2, 2])\n",
      "tensor(0) tensor([0.8490, 0.1510], dtype=torch.float64)\n",
      "torch.Size([128, 2, 2])\n"
     ]
    },
    {
     "name": "stderr",
     "output_type": "stream",
     "text": [
      " 96%|█████████▌| 2400/2494 [00:07<00:00, 310.46it/s]"
     ]
    },
    {
     "name": "stdout",
     "output_type": "stream",
     "text": [
      "tensor(1) tensor([0.1693, 0.8307], dtype=torch.float64)\n",
      "torch.Size([128, 2, 2])\n",
      "tensor(1) tensor([0.6124, 0.3876], dtype=torch.float64)\n",
      "torch.Size([128, 2, 2])\n",
      "tensor(1) tensor([0.6269, 0.3731], dtype=torch.float64)\n",
      "torch.Size([128, 2, 2])\n",
      "tensor(0) tensor([0.3216, 0.6784], dtype=torch.float64)\n",
      "torch.Size([128, 2, 2])\n",
      "tensor(1) tensor([0.2210, 0.7790], dtype=torch.float64)\n",
      "torch.Size([128, 2, 2])\n",
      "tensor(0) tensor([0.6760, 0.3240], dtype=torch.float64)\n",
      "torch.Size([128, 2, 2])\n",
      "tensor(1) tensor([0.2998, 0.7002], dtype=torch.float64)\n",
      "torch.Size([128, 2, 2])\n",
      "tensor(1) tensor([0.5534, 0.4466], dtype=torch.float64)\n",
      "torch.Size([128, 2, 2])\n",
      "tensor(0) tensor([0.7185, 0.2815], dtype=torch.float64)\n",
      "torch.Size([128, 2, 2])\n",
      "tensor(0) tensor([0.8457, 0.1543], dtype=torch.float64)\n",
      "torch.Size([128, 2, 2])\n",
      "tensor(1) tensor([0.4534, 0.5466], dtype=torch.float64)\n",
      "torch.Size([128, 2, 2])\n",
      "tensor(0) tensor([0.7397, 0.2603], dtype=torch.float64)\n",
      "torch.Size([128, 2, 2])\n",
      "tensor(0) tensor([0.2743, 0.7257], dtype=torch.float64)\n",
      "torch.Size([128, 2, 2])\n",
      "tensor(1) tensor([0.6447, 0.3553], dtype=torch.float64)\n",
      "torch.Size([128, 2, 2])\n",
      "tensor(0) tensor([0.6657, 0.3343], dtype=torch.float64)\n",
      "torch.Size([128, 2, 2])\n",
      "tensor(0) tensor([0.5906, 0.4094], dtype=torch.float64)\n",
      "torch.Size([128, 2, 2])\n",
      "tensor(1) tensor([0.4336, 0.5664], dtype=torch.float64)\n",
      "torch.Size([128, 2, 2])\n",
      "tensor(1) tensor([0.4559, 0.5441], dtype=torch.float64)\n",
      "torch.Size([128, 2, 2])\n",
      "tensor(1) tensor([0.7643, 0.2357], dtype=torch.float64)\n",
      "torch.Size([128, 2, 2])\n",
      "tensor(1) tensor([0.5705, 0.4295], dtype=torch.float64)\n",
      "torch.Size([128, 2, 2])\n",
      "tensor(0) tensor([0.7969, 0.2031], dtype=torch.float64)\n",
      "torch.Size([128, 2, 2])\n",
      "tensor(0) tensor([0.2364, 0.7636], dtype=torch.float64)\n",
      "torch.Size([128, 2, 2])\n",
      "tensor(1) tensor([0.4383, 0.5617], dtype=torch.float64)\n",
      "torch.Size([128, 2, 2])\n",
      "tensor(0) tensor([0.4457, 0.5543], dtype=torch.float64)\n",
      "torch.Size([128, 2, 2])\n",
      "tensor(1) tensor([0.3139, 0.6861], dtype=torch.float64)\n",
      "torch.Size([128, 2, 2])\n",
      "tensor(1) tensor([0.5192, 0.4808], dtype=torch.float64)\n",
      "torch.Size([128, 2, 2])\n",
      "tensor(1) tensor([0.3861, 0.6139], dtype=torch.float64)\n",
      "torch.Size([128, 2, 2])\n",
      "tensor(1) tensor([0.3420, 0.6580], dtype=torch.float64)\n",
      "torch.Size([128, 2, 2])\n",
      "tensor(0) tensor([0.6907, 0.3093], dtype=torch.float64)\n",
      "torch.Size([128, 2, 2])\n",
      "tensor(1) tensor([0.5616, 0.4384], dtype=torch.float64)\n",
      "torch.Size([128, 2, 2])\n",
      "tensor(1) tensor([0.4373, 0.5627], dtype=torch.float64)\n",
      "torch.Size([128, 2, 2])\n",
      "tensor(0) tensor([0.6283, 0.3717], dtype=torch.float64)\n",
      "torch.Size([128, 2, 2])\n",
      "tensor(0) tensor([0.4398, 0.5602], dtype=torch.float64)\n",
      "torch.Size([128, 2, 2])\n",
      "tensor(1) tensor([0.6895, 0.3105], dtype=torch.float64)\n",
      "torch.Size([128, 2, 2])\n",
      "tensor(1) tensor([0.5911, 0.4089], dtype=torch.float64)\n",
      "torch.Size([128, 2, 2])\n",
      "tensor(0) tensor([0.7103, 0.2897], dtype=torch.float64)\n",
      "torch.Size([128, 2, 2])\n",
      "tensor(0) tensor([0.8299, 0.1701], dtype=torch.float64)\n",
      "torch.Size([128, 2, 2])\n",
      "tensor(1) tensor([0.3578, 0.6422], dtype=torch.float64)\n",
      "torch.Size([128, 2, 2])\n",
      "tensor(0) tensor([0.3160, 0.6840], dtype=torch.float64)\n",
      "torch.Size([128, 2, 2])\n",
      "tensor(1) tensor([0.5305, 0.4695], dtype=torch.float64)\n",
      "torch.Size([128, 2, 2])\n",
      "tensor(1) tensor([0.4999, 0.5001], dtype=torch.float64)\n",
      "torch.Size([128, 2, 2])\n",
      "tensor(0) tensor([0.6426, 0.3574], dtype=torch.float64)\n",
      "torch.Size([128, 2, 2])\n",
      "tensor(0) tensor([0.6338, 0.3662], dtype=torch.float64)\n",
      "torch.Size([128, 2, 2])\n",
      "tensor(0) tensor([0.6502, 0.3498], dtype=torch.float64)\n",
      "torch.Size([128, 2, 2])\n",
      "tensor(1) tensor([0.6124, 0.3876], dtype=torch.float64)\n",
      "torch.Size([128, 2, 2])\n",
      "tensor(1) tensor([0.4811, 0.5189], dtype=torch.float64)\n",
      "torch.Size([128, 2, 2])\n",
      "tensor(1) tensor([0.6362, 0.3638], dtype=torch.float64)\n",
      "torch.Size([128, 2, 2])\n",
      "tensor(1) tensor([0.5737, 0.4263], dtype=torch.float64)\n",
      "torch.Size([128, 2, 2])\n",
      "tensor(1) tensor([0.6310, 0.3690], dtype=torch.float64)\n",
      "torch.Size([128, 2, 2])\n",
      "tensor(1) tensor([0.8000, 0.2000], dtype=torch.float64)\n",
      "torch.Size([128, 2, 2])\n",
      "tensor(1) tensor([0.5195, 0.4805], dtype=torch.float64)\n",
      "torch.Size([128, 2, 2])\n",
      "tensor(0) tensor([0.8425, 0.1575], dtype=torch.float64)\n",
      "torch.Size([128, 2, 2])\n",
      "tensor(1) tensor([0.4950, 0.5050], dtype=torch.float64)\n",
      "torch.Size([128, 2, 2])\n",
      "tensor(0) tensor([0.6710, 0.3290], dtype=torch.float64)\n",
      "torch.Size([128, 2, 2])\n",
      "tensor(1) tensor([0.4045, 0.5955], dtype=torch.float64)\n",
      "torch.Size([128, 2, 2])\n",
      "tensor(0) tensor([0.4559, 0.5441], dtype=torch.float64)\n",
      "torch.Size([128, 2, 2])\n",
      "tensor(0) tensor([0.7014, 0.2986], dtype=torch.float64)\n",
      "torch.Size([128, 2, 2])\n",
      "tensor(0) tensor([0.6831, 0.3169], dtype=torch.float64)\n",
      "torch.Size([128, 2, 2])\n",
      "tensor(1) tensor([0.5864, 0.4136], dtype=torch.float64)\n",
      "torch.Size([128, 2, 2])\n",
      "tensor(1) tensor([0.4192, 0.5808], dtype=torch.float64)\n",
      "torch.Size([128, 2, 2])\n",
      "tensor(1) tensor([0.6490, 0.3510], dtype=torch.float64)\n",
      "torch.Size([128, 2, 2])\n",
      "tensor(0) tensor([0.8046, 0.1954], dtype=torch.float64)\n",
      "torch.Size([128, 2, 2])\n",
      "tensor(1) tensor([0.6043, 0.3957], dtype=torch.float64)\n",
      "torch.Size([128, 2, 2])\n",
      "tensor(0) tensor([0.4698, 0.5302], dtype=torch.float64)\n"
     ]
    },
    {
     "name": "stderr",
     "output_type": "stream",
     "text": [
      "100%|██████████| 2494/2494 [00:08<00:00, 308.12it/s]"
     ]
    },
    {
     "name": "stdout",
     "output_type": "stream",
     "text": [
      "torch.Size([128, 2, 2])\n",
      "tensor(0) tensor([0.7234, 0.2766], dtype=torch.float64)\n",
      "torch.Size([128, 2, 2])\n",
      "tensor(1) tensor([0.7000, 0.3000], dtype=torch.float64)\n",
      "torch.Size([128, 2, 2])\n",
      "tensor(1) tensor([0.4956, 0.5044], dtype=torch.float64)\n",
      "torch.Size([128, 2, 2])\n",
      "tensor(0) tensor([0.7915, 0.2085], dtype=torch.float64)\n",
      "torch.Size([128, 2, 2])\n",
      "tensor(0) tensor([0.3284, 0.6716], dtype=torch.float64)\n",
      "torch.Size([128, 2, 2])\n",
      "tensor(0) tensor([0.8153, 0.1847], dtype=torch.float64)\n",
      "torch.Size([128, 2, 2])\n",
      "tensor(0) tensor([0.4021, 0.5979], dtype=torch.float64)\n",
      "torch.Size([128, 2, 2])\n",
      "tensor(0) tensor([0.6743, 0.3257], dtype=torch.float64)\n",
      "torch.Size([128, 2, 2])\n",
      "tensor(0) tensor([0.6342, 0.3658], dtype=torch.float64)\n",
      "torch.Size([128, 2, 2])\n",
      "tensor(0) tensor([0.5811, 0.4189], dtype=torch.float64)\n",
      "torch.Size([128, 2, 2])\n",
      "tensor(1) tensor([0.3797, 0.6203], dtype=torch.float64)\n",
      "torch.Size([128, 2, 2])\n",
      "tensor(1) tensor([0.4962, 0.5038], dtype=torch.float64)\n",
      "torch.Size([128, 2, 2])\n",
      "tensor(0) tensor([0.6351, 0.3649], dtype=torch.float64)\n",
      "torch.Size([128, 2, 2])\n",
      "tensor(0) tensor([0.8348, 0.1652], dtype=torch.float64)\n",
      "torch.Size([128, 2, 2])\n",
      "tensor(1) tensor([0.3194, 0.6806], dtype=torch.float64)\n",
      "torch.Size([128, 2, 2])\n",
      "tensor(0) tensor([0.4747, 0.5253], dtype=torch.float64)\n",
      "torch.Size([128, 2, 2])\n",
      "tensor(0) tensor([0.8310, 0.1690], dtype=torch.float64)\n",
      "torch.Size([128, 2, 2])\n",
      "tensor(0) tensor([0.7165, 0.2835], dtype=torch.float64)\n",
      "torch.Size([128, 2, 2])\n",
      "tensor(1) tensor([0.3183, 0.6817], dtype=torch.float64)\n",
      "torch.Size([128, 2, 2])\n",
      "tensor(0) tensor([0.4897, 0.5103], dtype=torch.float64)\n",
      "torch.Size([128, 2, 2])\n",
      "tensor(0) tensor([0.6613, 0.3387], dtype=torch.float64)\n",
      "torch.Size([128, 2, 2])\n",
      "tensor(0) tensor([0.6942, 0.3058], dtype=torch.float64)\n",
      "torch.Size([128, 2, 2])\n",
      "tensor(1) tensor([0.4120, 0.5880], dtype=torch.float64)\n",
      "torch.Size([128, 2, 2])\n",
      "tensor(1) tensor([0.2307, 0.7693], dtype=torch.float64)\n",
      "torch.Size([128, 2, 2])\n",
      "tensor(0) tensor([0.7756, 0.2244], dtype=torch.float64)\n",
      "torch.Size([128, 2, 2])\n",
      "tensor(0) tensor([0.4234, 0.5766], dtype=torch.float64)\n",
      "torch.Size([128, 2, 2])\n",
      "tensor(1) tensor([0.6108, 0.3892], dtype=torch.float64)\n",
      "torch.Size([128, 2, 2])\n",
      "tensor(0) tensor([0.3425, 0.6575], dtype=torch.float64)\n",
      "torch.Size([128, 2, 2])\n",
      "tensor(0) tensor([0.5379, 0.4621], dtype=torch.float64)\n",
      "torch.Size([128, 2, 2])\n",
      "tensor(0) tensor([0.6593, 0.3407], dtype=torch.float64)\n",
      "torch.Size([128, 2, 2])\n",
      "tensor(0) tensor([0.5191, 0.4809], dtype=torch.float64)\n",
      "torch.Size([128, 2, 2])\n",
      "tensor(1) tensor([0.4478, 0.5522], dtype=torch.float64)\n",
      "torch.Size([128, 2, 2])\n",
      "tensor(0) tensor([0.5268, 0.4732], dtype=torch.float64)\n",
      "torch.Size([128, 2, 2])\n",
      "tensor(0) tensor([0.5463, 0.4537], dtype=torch.float64)\n",
      "torch.Size([128, 2, 2])\n",
      "tensor(0) tensor([0.5039, 0.4961], dtype=torch.float64)\n",
      "torch.Size([128, 2, 2])\n",
      "tensor(0) tensor([0.6667, 0.3333], dtype=torch.float64)\n",
      "torch.Size([128, 2, 2])\n",
      "tensor(1) tensor([0.3176, 0.6824], dtype=torch.float64)\n",
      "torch.Size([128, 2, 2])\n",
      "tensor(0) tensor([0.5825, 0.4175], dtype=torch.float64)\n",
      "torch.Size([128, 2, 2])\n",
      "tensor(0) tensor([0.7732, 0.2268], dtype=torch.float64)\n",
      "torch.Size([128, 2, 2])\n",
      "tensor(0) tensor([0.6892, 0.3108], dtype=torch.float64)\n",
      "torch.Size([128, 2, 2])\n",
      "tensor(0) tensor([0.5157, 0.4843], dtype=torch.float64)\n",
      "torch.Size([128, 2, 2])\n",
      "tensor(0) tensor([0.7897, 0.2103], dtype=torch.float64)\n",
      "torch.Size([128, 2, 2])\n",
      "tensor(0) tensor([0.5916, 0.4084], dtype=torch.float64)\n",
      "torch.Size([128, 2, 2])\n",
      "tensor(1) tensor([0.2218, 0.7782], dtype=torch.float64)\n",
      "torch.Size([128, 2, 2])\n",
      "tensor(0) tensor([0.3715, 0.6285], dtype=torch.float64)\n",
      "torch.Size([128, 2, 2])\n",
      "tensor(1) tensor([0.7078, 0.2922], dtype=torch.float64)\n",
      "torch.Size([128, 2, 2])\n",
      "tensor(0) tensor([0.8069, 0.1931], dtype=torch.float64)\n",
      "torch.Size([128, 2, 2])\n",
      "tensor(1) tensor([0.8096, 0.1904], dtype=torch.float64)\n",
      "torch.Size([128, 2, 2])\n",
      "tensor(0) tensor([0.6404, 0.3596], dtype=torch.float64)\n",
      "torch.Size([128, 2, 2])\n",
      "tensor(1) tensor([0.6133, 0.3867], dtype=torch.float64)\n",
      "torch.Size([128, 2, 2])\n",
      "tensor(0) tensor([0.8300, 0.1700], dtype=torch.float64)\n",
      "torch.Size([128, 2, 2])\n",
      "tensor(1) tensor([0.3870, 0.6130], dtype=torch.float64)\n",
      "torch.Size([128, 2, 2])\n",
      "tensor(0) tensor([0.5190, 0.4810], dtype=torch.float64)\n",
      "torch.Size([128, 2, 2])\n",
      "tensor(0) tensor([0.7161, 0.2839], dtype=torch.float64)\n",
      "torch.Size([128, 2, 2])\n",
      "tensor(1) tensor([0.6159, 0.3841], dtype=torch.float64)\n",
      "torch.Size([128, 2, 2])\n",
      "tensor(1) tensor([0.6072, 0.3928], dtype=torch.float64)\n",
      "torch.Size([128, 2, 2])\n",
      "tensor(0) tensor([0.7031, 0.2969], dtype=torch.float64)\n",
      "torch.Size([128, 2, 2])\n",
      "tensor(1) tensor([0.5528, 0.4472], dtype=torch.float64)\n",
      "torch.Size([128, 2, 2])\n",
      "tensor(1) tensor([0.5859, 0.4141], dtype=torch.float64)\n",
      "torch.Size([128, 2, 2])\n",
      "tensor(1) tensor([0.3274, 0.6726], dtype=torch.float64)\n",
      "torch.Size([128, 2, 2])\n",
      "tensor(0) tensor([0.7252, 0.2748], dtype=torch.float64)\n",
      "torch.Size([128, 2, 2])\n",
      "tensor(1) tensor([0.6532, 0.3468], dtype=torch.float64)\n",
      "torch.Size([128, 2, 2])\n",
      "tensor(1) tensor([0.6121, 0.3879], dtype=torch.float64)\n",
      "torch.Size([128, 2, 2])\n",
      "tensor(1) tensor([0.2804, 0.7196], dtype=torch.float64)\n",
      "Accuracy: 0.634\n"
     ]
    },
    {
     "name": "stderr",
     "output_type": "stream",
     "text": [
      "\n"
     ]
    }
   ],
   "source": [
    "correct = 0\n",
    "total = 0\n",
    "with torch.no_grad():\n",
    "    for i in tqdm(range(len(test_X))):\n",
    "        real_class = torch.argmax(test_y[i])\n",
    "        net_out = net(test_X[i].view(-1, 1, 50, 50))[0]\n",
    "        print(real_class, net_out)\n",
    "        predicted_class = torch.argmax(net_out)\n",
    "        if predicted_class == real_class:\n",
    "            correct += 1\n",
    "        total += 1\n",
    "        \n",
    "print(\"Accuracy:\", round(correct/total, 3))"
   ]
  }
 ],
 "metadata": {
  "kernelspec": {
   "display_name": "Python 3",
   "language": "python",
   "name": "python3"
  },
  "language_info": {
   "codemirror_mode": {
    "name": "ipython",
    "version": 3
   },
   "file_extension": ".py",
   "mimetype": "text/x-python",
   "name": "python",
   "nbconvert_exporter": "python",
   "pygments_lexer": "ipython3",
   "version": "3.7.4"
  }
 },
 "nbformat": 4,
 "nbformat_minor": 4
}
